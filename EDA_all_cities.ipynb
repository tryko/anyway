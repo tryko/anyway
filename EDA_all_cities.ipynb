{
 "cells": [
  {
   "cell_type": "code",
   "execution_count": 1,
   "id": "0fd347f3",
   "metadata": {},
   "outputs": [],
   "source": [
    "import pandas as pd\n",
    "import numpy as np\n",
    "import plotly.express as px\n",
    "import matplotlib.pyplot as plt\n",
    "\n",
    "import warnings\n",
    "warnings.simplefilter(action='ignore', category=FutureWarning)\n"
   ]
  },
  {
   "cell_type": "code",
   "execution_count": 2,
   "id": "95e96e5e",
   "metadata": {},
   "outputs": [
    {
     "name": "stderr",
     "output_type": "stream",
     "text": [
      "C:\\Users\\itay8\\AppData\\Local\\Temp\\ipykernel_17024\\2317383670.py:1: DtypeWarning: Columns (151) have mixed types. Specify dtype option on import or set low_memory=False.\n",
      "  imh = pd.read_csv('./csv_tables/involved_markers_hebrew.csv')\n"
     ]
    },
    {
     "data": {
      "text/html": [
       "<div>\n",
       "<style scoped>\n",
       "    .dataframe tbody tr th:only-of-type {\n",
       "        vertical-align: middle;\n",
       "    }\n",
       "\n",
       "    .dataframe tbody tr th {\n",
       "        vertical-align: top;\n",
       "    }\n",
       "\n",
       "    .dataframe thead th {\n",
       "        text-align: right;\n",
       "    }\n",
       "</style>\n",
       "<table border=\"1\" class=\"dataframe\">\n",
       "  <thead>\n",
       "    <tr style=\"text-align: right;\">\n",
       "      <th></th>\n",
       "      <th>accident_id</th>\n",
       "      <th>provider_and_id</th>\n",
       "      <th>provider_code</th>\n",
       "      <th>file_type_police</th>\n",
       "      <th>involved_type</th>\n",
       "      <th>involved_type_hebrew</th>\n",
       "      <th>license_acquiring_date</th>\n",
       "      <th>age_group</th>\n",
       "      <th>age_group_hebrew</th>\n",
       "      <th>sex</th>\n",
       "      <th>...</th>\n",
       "      <th>vehicle_status_hebrew</th>\n",
       "      <th>vehicle_attribution</th>\n",
       "      <th>vehicle_attribution_hebrew</th>\n",
       "      <th>seats</th>\n",
       "      <th>total_weight</th>\n",
       "      <th>total_weight_hebrew</th>\n",
       "      <th>vehicle_vehicle_type</th>\n",
       "      <th>vehicle_vehicle_type_hebrew</th>\n",
       "      <th>vehicle_damage</th>\n",
       "      <th>vehicle_damage_hebrew</th>\n",
       "    </tr>\n",
       "  </thead>\n",
       "  <tbody>\n",
       "    <tr>\n",
       "      <th>0</th>\n",
       "      <td>2013001445</td>\n",
       "      <td>12013001445</td>\n",
       "      <td>1</td>\n",
       "      <td>1</td>\n",
       "      <td>3</td>\n",
       "      <td>נפגע</td>\n",
       "      <td>0</td>\n",
       "      <td>4</td>\n",
       "      <td>15-19</td>\n",
       "      <td>1.0</td>\n",
       "      <td>...</td>\n",
       "      <td>NaN</td>\n",
       "      <td>1.0</td>\n",
       "      <td>ישראלי</td>\n",
       "      <td>99.0</td>\n",
       "      <td>NaN</td>\n",
       "      <td>NaN</td>\n",
       "      <td>1.0</td>\n",
       "      <td>רכב נוסעים פרטי</td>\n",
       "      <td>3.0</td>\n",
       "      <td>קשה</td>\n",
       "    </tr>\n",
       "    <tr>\n",
       "      <th>1</th>\n",
       "      <td>2023057591</td>\n",
       "      <td>32023057591</td>\n",
       "      <td>3</td>\n",
       "      <td>3</td>\n",
       "      <td>1</td>\n",
       "      <td>נהג</td>\n",
       "      <td>2021</td>\n",
       "      <td>6</td>\n",
       "      <td>25-29</td>\n",
       "      <td>2.0</td>\n",
       "      <td>...</td>\n",
       "      <td>NaN</td>\n",
       "      <td>1.0</td>\n",
       "      <td>ישראלי</td>\n",
       "      <td>99.0</td>\n",
       "      <td>NaN</td>\n",
       "      <td>NaN</td>\n",
       "      <td>1.0</td>\n",
       "      <td>רכב נוסעים פרטי</td>\n",
       "      <td>4.0</td>\n",
       "      <td>אין נזק</td>\n",
       "    </tr>\n",
       "    <tr>\n",
       "      <th>2</th>\n",
       "      <td>2023059223</td>\n",
       "      <td>32023059223</td>\n",
       "      <td>3</td>\n",
       "      <td>3</td>\n",
       "      <td>1</td>\n",
       "      <td>נהג</td>\n",
       "      <td>0</td>\n",
       "      <td>99</td>\n",
       "      <td>לא ידוע</td>\n",
       "      <td>0.0</td>\n",
       "      <td>...</td>\n",
       "      <td>NaN</td>\n",
       "      <td>1.0</td>\n",
       "      <td>ישראלי</td>\n",
       "      <td>99.0</td>\n",
       "      <td>NaN</td>\n",
       "      <td>NaN</td>\n",
       "      <td>1.0</td>\n",
       "      <td>רכב נוסעים פרטי</td>\n",
       "      <td>4.0</td>\n",
       "      <td>אין נזק</td>\n",
       "    </tr>\n",
       "    <tr>\n",
       "      <th>3</th>\n",
       "      <td>2013001445</td>\n",
       "      <td>12013001445</td>\n",
       "      <td>1</td>\n",
       "      <td>1</td>\n",
       "      <td>2</td>\n",
       "      <td>נהג נפגע</td>\n",
       "      <td>2012</td>\n",
       "      <td>4</td>\n",
       "      <td>15-19</td>\n",
       "      <td>1.0</td>\n",
       "      <td>...</td>\n",
       "      <td>NaN</td>\n",
       "      <td>1.0</td>\n",
       "      <td>ישראלי</td>\n",
       "      <td>99.0</td>\n",
       "      <td>NaN</td>\n",
       "      <td>NaN</td>\n",
       "      <td>1.0</td>\n",
       "      <td>רכב נוסעים פרטי</td>\n",
       "      <td>3.0</td>\n",
       "      <td>קשה</td>\n",
       "    </tr>\n",
       "    <tr>\n",
       "      <th>4</th>\n",
       "      <td>2013001445</td>\n",
       "      <td>12013001445</td>\n",
       "      <td>1</td>\n",
       "      <td>1</td>\n",
       "      <td>3</td>\n",
       "      <td>נפגע</td>\n",
       "      <td>0</td>\n",
       "      <td>5</td>\n",
       "      <td>20-24</td>\n",
       "      <td>2.0</td>\n",
       "      <td>...</td>\n",
       "      <td>NaN</td>\n",
       "      <td>1.0</td>\n",
       "      <td>ישראלי</td>\n",
       "      <td>99.0</td>\n",
       "      <td>NaN</td>\n",
       "      <td>NaN</td>\n",
       "      <td>1.0</td>\n",
       "      <td>רכב נוסעים פרטי</td>\n",
       "      <td>3.0</td>\n",
       "      <td>קשה</td>\n",
       "    </tr>\n",
       "    <tr>\n",
       "      <th>...</th>\n",
       "      <td>...</td>\n",
       "      <td>...</td>\n",
       "      <td>...</td>\n",
       "      <td>...</td>\n",
       "      <td>...</td>\n",
       "      <td>...</td>\n",
       "      <td>...</td>\n",
       "      <td>...</td>\n",
       "      <td>...</td>\n",
       "      <td>...</td>\n",
       "      <td>...</td>\n",
       "      <td>...</td>\n",
       "      <td>...</td>\n",
       "      <td>...</td>\n",
       "      <td>...</td>\n",
       "      <td>...</td>\n",
       "      <td>...</td>\n",
       "      <td>...</td>\n",
       "      <td>...</td>\n",
       "      <td>...</td>\n",
       "      <td>...</td>\n",
       "    </tr>\n",
       "    <tr>\n",
       "      <th>1357736</th>\n",
       "      <td>2023099073</td>\n",
       "      <td>32023099073</td>\n",
       "      <td>3</td>\n",
       "      <td>3</td>\n",
       "      <td>1</td>\n",
       "      <td>נהג</td>\n",
       "      <td>0</td>\n",
       "      <td>99</td>\n",
       "      <td>לא ידוע</td>\n",
       "      <td>0.0</td>\n",
       "      <td>...</td>\n",
       "      <td>NaN</td>\n",
       "      <td>1.0</td>\n",
       "      <td>ישראלי</td>\n",
       "      <td>3.0</td>\n",
       "      <td>2.0</td>\n",
       "      <td>2.0-2.9</td>\n",
       "      <td>1.0</td>\n",
       "      <td>רכב נוסעים פרטי</td>\n",
       "      <td>4.0</td>\n",
       "      <td>אין נזק</td>\n",
       "    </tr>\n",
       "    <tr>\n",
       "      <th>1357737</th>\n",
       "      <td>2023099373</td>\n",
       "      <td>32023099373</td>\n",
       "      <td>3</td>\n",
       "      <td>3</td>\n",
       "      <td>2</td>\n",
       "      <td>נהג נפגע</td>\n",
       "      <td>2011</td>\n",
       "      <td>7</td>\n",
       "      <td>30-34</td>\n",
       "      <td>2.0</td>\n",
       "      <td>...</td>\n",
       "      <td>NaN</td>\n",
       "      <td>1.0</td>\n",
       "      <td>ישראלי</td>\n",
       "      <td>3.0</td>\n",
       "      <td>1.0</td>\n",
       "      <td>עד 1.9</td>\n",
       "      <td>1.0</td>\n",
       "      <td>רכב נוסעים פרטי</td>\n",
       "      <td>1.0</td>\n",
       "      <td>קל</td>\n",
       "    </tr>\n",
       "    <tr>\n",
       "      <th>1357738</th>\n",
       "      <td>2023099555</td>\n",
       "      <td>32023099555</td>\n",
       "      <td>3</td>\n",
       "      <td>3</td>\n",
       "      <td>1</td>\n",
       "      <td>נהג</td>\n",
       "      <td>0</td>\n",
       "      <td>99</td>\n",
       "      <td>לא ידוע</td>\n",
       "      <td>0.0</td>\n",
       "      <td>...</td>\n",
       "      <td>NaN</td>\n",
       "      <td>1.0</td>\n",
       "      <td>ישראלי</td>\n",
       "      <td>99.0</td>\n",
       "      <td>0.0</td>\n",
       "      <td>לא ידוע</td>\n",
       "      <td>17.0</td>\n",
       "      <td>אחר ולא ידוע</td>\n",
       "      <td>0.0</td>\n",
       "      <td>לא ידוע</td>\n",
       "    </tr>\n",
       "    <tr>\n",
       "      <th>1357739</th>\n",
       "      <td>2023099589</td>\n",
       "      <td>32023099589</td>\n",
       "      <td>3</td>\n",
       "      <td>3</td>\n",
       "      <td>1</td>\n",
       "      <td>נהג</td>\n",
       "      <td>1991</td>\n",
       "      <td>12</td>\n",
       "      <td>55-59</td>\n",
       "      <td>1.0</td>\n",
       "      <td>...</td>\n",
       "      <td>NaN</td>\n",
       "      <td>1.0</td>\n",
       "      <td>ישראלי</td>\n",
       "      <td>51.0</td>\n",
       "      <td>11.0</td>\n",
       "      <td>16.0-19.0</td>\n",
       "      <td>11.0</td>\n",
       "      <td>אוטובוס</td>\n",
       "      <td>4.0</td>\n",
       "      <td>אין נזק</td>\n",
       "    </tr>\n",
       "    <tr>\n",
       "      <th>1357740</th>\n",
       "      <td>2023099864</td>\n",
       "      <td>32023099864</td>\n",
       "      <td>3</td>\n",
       "      <td>3</td>\n",
       "      <td>2</td>\n",
       "      <td>נהג נפגע</td>\n",
       "      <td>2021</td>\n",
       "      <td>6</td>\n",
       "      <td>25-29</td>\n",
       "      <td>2.0</td>\n",
       "      <td>...</td>\n",
       "      <td>NaN</td>\n",
       "      <td>1.0</td>\n",
       "      <td>ישראלי</td>\n",
       "      <td>99.0</td>\n",
       "      <td>1.0</td>\n",
       "      <td>עד 1.9</td>\n",
       "      <td>1.0</td>\n",
       "      <td>רכב נוסעים פרטי</td>\n",
       "      <td>4.0</td>\n",
       "      <td>אין נזק</td>\n",
       "    </tr>\n",
       "  </tbody>\n",
       "</table>\n",
       "<p>1357741 rows × 161 columns</p>\n",
       "</div>"
      ],
      "text/plain": [
       "         accident_id  provider_and_id  provider_code  file_type_police  \\\n",
       "0         2013001445      12013001445              1                 1   \n",
       "1         2023057591      32023057591              3                 3   \n",
       "2         2023059223      32023059223              3                 3   \n",
       "3         2013001445      12013001445              1                 1   \n",
       "4         2013001445      12013001445              1                 1   \n",
       "...              ...              ...            ...               ...   \n",
       "1357736   2023099073      32023099073              3                 3   \n",
       "1357737   2023099373      32023099373              3                 3   \n",
       "1357738   2023099555      32023099555              3                 3   \n",
       "1357739   2023099589      32023099589              3                 3   \n",
       "1357740   2023099864      32023099864              3                 3   \n",
       "\n",
       "         involved_type involved_type_hebrew  license_acquiring_date  \\\n",
       "0                    3                 נפגע                       0   \n",
       "1                    1                  נהג                    2021   \n",
       "2                    1                  נהג                       0   \n",
       "3                    2             נהג נפגע                    2012   \n",
       "4                    3                 נפגע                       0   \n",
       "...                ...                  ...                     ...   \n",
       "1357736              1                  נהג                       0   \n",
       "1357737              2             נהג נפגע                    2011   \n",
       "1357738              1                  נהג                       0   \n",
       "1357739              1                  נהג                    1991   \n",
       "1357740              2             נהג נפגע                    2021   \n",
       "\n",
       "         age_group age_group_hebrew  sex  ... vehicle_status_hebrew  \\\n",
       "0                4            15-19  1.0  ...                   NaN   \n",
       "1                6            25-29  2.0  ...                   NaN   \n",
       "2               99          לא ידוע  0.0  ...                   NaN   \n",
       "3                4            15-19  1.0  ...                   NaN   \n",
       "4                5            20-24  2.0  ...                   NaN   \n",
       "...            ...              ...  ...  ...                   ...   \n",
       "1357736         99          לא ידוע  0.0  ...                   NaN   \n",
       "1357737          7            30-34  2.0  ...                   NaN   \n",
       "1357738         99          לא ידוע  0.0  ...                   NaN   \n",
       "1357739         12            55-59  1.0  ...                   NaN   \n",
       "1357740          6            25-29  2.0  ...                   NaN   \n",
       "\n",
       "         vehicle_attribution vehicle_attribution_hebrew  seats total_weight  \\\n",
       "0                        1.0                     ישראלי   99.0          NaN   \n",
       "1                        1.0                     ישראלי   99.0          NaN   \n",
       "2                        1.0                     ישראלי   99.0          NaN   \n",
       "3                        1.0                     ישראלי   99.0          NaN   \n",
       "4                        1.0                     ישראלי   99.0          NaN   \n",
       "...                      ...                        ...    ...          ...   \n",
       "1357736                  1.0                     ישראלי    3.0          2.0   \n",
       "1357737                  1.0                     ישראלי    3.0          1.0   \n",
       "1357738                  1.0                     ישראלי   99.0          0.0   \n",
       "1357739                  1.0                     ישראלי   51.0         11.0   \n",
       "1357740                  1.0                     ישראלי   99.0          1.0   \n",
       "\n",
       "         total_weight_hebrew vehicle_vehicle_type  \\\n",
       "0                        NaN                  1.0   \n",
       "1                        NaN                  1.0   \n",
       "2                        NaN                  1.0   \n",
       "3                        NaN                  1.0   \n",
       "4                        NaN                  1.0   \n",
       "...                      ...                  ...   \n",
       "1357736              2.0-2.9                  1.0   \n",
       "1357737               עד 1.9                  1.0   \n",
       "1357738              לא ידוע                 17.0   \n",
       "1357739            16.0-19.0                 11.0   \n",
       "1357740               עד 1.9                  1.0   \n",
       "\n",
       "         vehicle_vehicle_type_hebrew vehicle_damage  vehicle_damage_hebrew  \n",
       "0                    רכב נוסעים פרטי            3.0                    קשה  \n",
       "1                    רכב נוסעים פרטי            4.0                אין נזק  \n",
       "2                    רכב נוסעים פרטי            4.0                אין נזק  \n",
       "3                    רכב נוסעים פרטי            3.0                    קשה  \n",
       "4                    רכב נוסעים פרטי            3.0                    קשה  \n",
       "...                              ...            ...                    ...  \n",
       "1357736              רכב נוסעים פרטי            4.0                אין נזק  \n",
       "1357737              רכב נוסעים פרטי            1.0                     קל  \n",
       "1357738                 אחר ולא ידוע            0.0                לא ידוע  \n",
       "1357739                      אוטובוס            4.0                אין נזק  \n",
       "1357740              רכב נוסעים פרטי            4.0                אין נזק  \n",
       "\n",
       "[1357741 rows x 161 columns]"
      ]
     },
     "execution_count": 2,
     "metadata": {},
     "output_type": "execute_result"
    }
   ],
   "source": [
    "imh = pd.read_csv('./csv_tables/involved_markers_hebrew.csv')\n",
    "imh\n",
    "\n"
   ]
  },
  {
   "cell_type": "code",
   "execution_count": 13,
   "id": "71787775",
   "metadata": {},
   "outputs": [
    {
     "data": {
      "text/plain": [
       "['ירושלים', 'תל אביב -יפו', 'ראשון לציון', 'חיפה', 'אשדוד']"
      ]
     },
     "execution_count": 13,
     "metadata": {},
     "output_type": "execute_result"
    }
   ],
   "source": [
    "cities_names = imh.involve_yishuv_name.value_counts().head(5).index.tolist()\n",
    "cities_names"
   ]
  },
  {
   "cell_type": "code",
   "execution_count": 14,
   "id": "1e6d0cc8",
   "metadata": {},
   "outputs": [],
   "source": [
    "BICYCLE = 15\n",
    "SCOOTER = 21\n",
    "KALNOIT = 22\n",
    "E_BICYCLE = 23\n",
    "\n",
    "micro_vehicle = [BICYCLE, SCOOTER, KALNOIT, E_BICYCLE]"
   ]
  },
  {
   "cell_type": "code",
   "execution_count": 15,
   "id": "f992f9cd",
   "metadata": {},
   "outputs": [
    {
     "data": {
      "text/html": [
       "<div>\n",
       "<style scoped>\n",
       "    .dataframe tbody tr th:only-of-type {\n",
       "        vertical-align: middle;\n",
       "    }\n",
       "\n",
       "    .dataframe tbody tr th {\n",
       "        vertical-align: top;\n",
       "    }\n",
       "\n",
       "    .dataframe thead th {\n",
       "        text-align: right;\n",
       "    }\n",
       "</style>\n",
       "<table border=\"1\" class=\"dataframe\">\n",
       "  <thead>\n",
       "    <tr style=\"text-align: right;\">\n",
       "      <th></th>\n",
       "      <th>accident_id</th>\n",
       "      <th>provider_and_id</th>\n",
       "      <th>provider_code</th>\n",
       "      <th>file_type_police</th>\n",
       "      <th>involved_type</th>\n",
       "      <th>involved_type_hebrew</th>\n",
       "      <th>license_acquiring_date</th>\n",
       "      <th>age_group</th>\n",
       "      <th>age_group_hebrew</th>\n",
       "      <th>sex</th>\n",
       "      <th>...</th>\n",
       "      <th>vehicle_status_hebrew</th>\n",
       "      <th>vehicle_attribution</th>\n",
       "      <th>vehicle_attribution_hebrew</th>\n",
       "      <th>seats</th>\n",
       "      <th>total_weight</th>\n",
       "      <th>total_weight_hebrew</th>\n",
       "      <th>vehicle_vehicle_type</th>\n",
       "      <th>vehicle_vehicle_type_hebrew</th>\n",
       "      <th>vehicle_damage</th>\n",
       "      <th>vehicle_damage_hebrew</th>\n",
       "    </tr>\n",
       "  </thead>\n",
       "  <tbody>\n",
       "    <tr>\n",
       "      <th>169</th>\n",
       "      <td>2013001368</td>\n",
       "      <td>32013001368</td>\n",
       "      <td>3</td>\n",
       "      <td>3</td>\n",
       "      <td>2</td>\n",
       "      <td>נהג נפגע</td>\n",
       "      <td>0</td>\n",
       "      <td>6</td>\n",
       "      <td>25-29</td>\n",
       "      <td>1.0</td>\n",
       "      <td>...</td>\n",
       "      <td>NaN</td>\n",
       "      <td>1.0</td>\n",
       "      <td>ישראלי</td>\n",
       "      <td>99.0</td>\n",
       "      <td>0.0</td>\n",
       "      <td>לא ידוע</td>\n",
       "      <td>15.0</td>\n",
       "      <td>אופניים</td>\n",
       "      <td>4.0</td>\n",
       "      <td>אין נזק</td>\n",
       "    </tr>\n",
       "    <tr>\n",
       "      <th>729</th>\n",
       "      <td>2013001145</td>\n",
       "      <td>32013001145</td>\n",
       "      <td>3</td>\n",
       "      <td>3</td>\n",
       "      <td>2</td>\n",
       "      <td>נהג נפגע</td>\n",
       "      <td>0</td>\n",
       "      <td>3</td>\n",
       "      <td>10-14</td>\n",
       "      <td>1.0</td>\n",
       "      <td>...</td>\n",
       "      <td>NaN</td>\n",
       "      <td>1.0</td>\n",
       "      <td>ישראלי</td>\n",
       "      <td>99.0</td>\n",
       "      <td>0.0</td>\n",
       "      <td>לא ידוע</td>\n",
       "      <td>15.0</td>\n",
       "      <td>אופניים</td>\n",
       "      <td>4.0</td>\n",
       "      <td>אין נזק</td>\n",
       "    </tr>\n",
       "    <tr>\n",
       "      <th>857</th>\n",
       "      <td>2013001742</td>\n",
       "      <td>32013001742</td>\n",
       "      <td>3</td>\n",
       "      <td>3</td>\n",
       "      <td>2</td>\n",
       "      <td>נהג נפגע</td>\n",
       "      <td>0</td>\n",
       "      <td>7</td>\n",
       "      <td>30-34</td>\n",
       "      <td>2.0</td>\n",
       "      <td>...</td>\n",
       "      <td>NaN</td>\n",
       "      <td>1.0</td>\n",
       "      <td>ישראלי</td>\n",
       "      <td>99.0</td>\n",
       "      <td>0.0</td>\n",
       "      <td>לא ידוע</td>\n",
       "      <td>15.0</td>\n",
       "      <td>אופניים</td>\n",
       "      <td>4.0</td>\n",
       "      <td>אין נזק</td>\n",
       "    </tr>\n",
       "    <tr>\n",
       "      <th>998</th>\n",
       "      <td>2013000907</td>\n",
       "      <td>32013000907</td>\n",
       "      <td>3</td>\n",
       "      <td>3</td>\n",
       "      <td>2</td>\n",
       "      <td>נהג נפגע</td>\n",
       "      <td>0</td>\n",
       "      <td>4</td>\n",
       "      <td>15-19</td>\n",
       "      <td>1.0</td>\n",
       "      <td>...</td>\n",
       "      <td>NaN</td>\n",
       "      <td>1.0</td>\n",
       "      <td>ישראלי</td>\n",
       "      <td>99.0</td>\n",
       "      <td>0.0</td>\n",
       "      <td>לא ידוע</td>\n",
       "      <td>15.0</td>\n",
       "      <td>אופניים</td>\n",
       "      <td>1.0</td>\n",
       "      <td>קל</td>\n",
       "    </tr>\n",
       "    <tr>\n",
       "      <th>1213</th>\n",
       "      <td>2013001350</td>\n",
       "      <td>12013001350</td>\n",
       "      <td>1</td>\n",
       "      <td>1</td>\n",
       "      <td>2</td>\n",
       "      <td>נהג נפגע</td>\n",
       "      <td>0</td>\n",
       "      <td>5</td>\n",
       "      <td>20-24</td>\n",
       "      <td>1.0</td>\n",
       "      <td>...</td>\n",
       "      <td>NaN</td>\n",
       "      <td>1.0</td>\n",
       "      <td>ישראלי</td>\n",
       "      <td>99.0</td>\n",
       "      <td>0.0</td>\n",
       "      <td>לא ידוע</td>\n",
       "      <td>15.0</td>\n",
       "      <td>אופניים</td>\n",
       "      <td>4.0</td>\n",
       "      <td>אין נזק</td>\n",
       "    </tr>\n",
       "    <tr>\n",
       "      <th>...</th>\n",
       "      <td>...</td>\n",
       "      <td>...</td>\n",
       "      <td>...</td>\n",
       "      <td>...</td>\n",
       "      <td>...</td>\n",
       "      <td>...</td>\n",
       "      <td>...</td>\n",
       "      <td>...</td>\n",
       "      <td>...</td>\n",
       "      <td>...</td>\n",
       "      <td>...</td>\n",
       "      <td>...</td>\n",
       "      <td>...</td>\n",
       "      <td>...</td>\n",
       "      <td>...</td>\n",
       "      <td>...</td>\n",
       "      <td>...</td>\n",
       "      <td>...</td>\n",
       "      <td>...</td>\n",
       "      <td>...</td>\n",
       "      <td>...</td>\n",
       "    </tr>\n",
       "    <tr>\n",
       "      <th>1357259</th>\n",
       "      <td>2023092176</td>\n",
       "      <td>32023092176</td>\n",
       "      <td>3</td>\n",
       "      <td>3</td>\n",
       "      <td>2</td>\n",
       "      <td>נהג נפגע</td>\n",
       "      <td>0</td>\n",
       "      <td>4</td>\n",
       "      <td>15-19</td>\n",
       "      <td>1.0</td>\n",
       "      <td>...</td>\n",
       "      <td>NaN</td>\n",
       "      <td>1.0</td>\n",
       "      <td>ישראלי</td>\n",
       "      <td>99.0</td>\n",
       "      <td>0.0</td>\n",
       "      <td>לא ידוע</td>\n",
       "      <td>23.0</td>\n",
       "      <td>אופניים חשמליים</td>\n",
       "      <td>1.0</td>\n",
       "      <td>קל</td>\n",
       "    </tr>\n",
       "    <tr>\n",
       "      <th>1357412</th>\n",
       "      <td>2023091398</td>\n",
       "      <td>32023091398</td>\n",
       "      <td>3</td>\n",
       "      <td>3</td>\n",
       "      <td>2</td>\n",
       "      <td>נהג נפגע</td>\n",
       "      <td>0</td>\n",
       "      <td>99</td>\n",
       "      <td>לא ידוע</td>\n",
       "      <td>0.0</td>\n",
       "      <td>...</td>\n",
       "      <td>NaN</td>\n",
       "      <td>1.0</td>\n",
       "      <td>ישראלי</td>\n",
       "      <td>99.0</td>\n",
       "      <td>0.0</td>\n",
       "      <td>לא ידוע</td>\n",
       "      <td>23.0</td>\n",
       "      <td>אופניים חשמליים</td>\n",
       "      <td>1.0</td>\n",
       "      <td>קל</td>\n",
       "    </tr>\n",
       "    <tr>\n",
       "      <th>1357423</th>\n",
       "      <td>2023096873</td>\n",
       "      <td>32023096873</td>\n",
       "      <td>3</td>\n",
       "      <td>3</td>\n",
       "      <td>2</td>\n",
       "      <td>נהג נפגע</td>\n",
       "      <td>0</td>\n",
       "      <td>10</td>\n",
       "      <td>45-49</td>\n",
       "      <td>1.0</td>\n",
       "      <td>...</td>\n",
       "      <td>NaN</td>\n",
       "      <td>1.0</td>\n",
       "      <td>ישראלי</td>\n",
       "      <td>99.0</td>\n",
       "      <td>0.0</td>\n",
       "      <td>לא ידוע</td>\n",
       "      <td>23.0</td>\n",
       "      <td>אופניים חשמליים</td>\n",
       "      <td>1.0</td>\n",
       "      <td>קל</td>\n",
       "    </tr>\n",
       "    <tr>\n",
       "      <th>1357438</th>\n",
       "      <td>2023094045</td>\n",
       "      <td>12023094045</td>\n",
       "      <td>1</td>\n",
       "      <td>1</td>\n",
       "      <td>2</td>\n",
       "      <td>נהג נפגע</td>\n",
       "      <td>0</td>\n",
       "      <td>5</td>\n",
       "      <td>20-24</td>\n",
       "      <td>1.0</td>\n",
       "      <td>...</td>\n",
       "      <td>NaN</td>\n",
       "      <td>1.0</td>\n",
       "      <td>ישראלי</td>\n",
       "      <td>99.0</td>\n",
       "      <td>0.0</td>\n",
       "      <td>לא ידוע</td>\n",
       "      <td>23.0</td>\n",
       "      <td>אופניים חשמליים</td>\n",
       "      <td>3.0</td>\n",
       "      <td>קשה</td>\n",
       "    </tr>\n",
       "    <tr>\n",
       "      <th>1357714</th>\n",
       "      <td>2023091245</td>\n",
       "      <td>32023091245</td>\n",
       "      <td>3</td>\n",
       "      <td>3</td>\n",
       "      <td>2</td>\n",
       "      <td>נהג נפגע</td>\n",
       "      <td>2010</td>\n",
       "      <td>7</td>\n",
       "      <td>30-34</td>\n",
       "      <td>2.0</td>\n",
       "      <td>...</td>\n",
       "      <td>NaN</td>\n",
       "      <td>1.0</td>\n",
       "      <td>ישראלי</td>\n",
       "      <td>99.0</td>\n",
       "      <td>0.0</td>\n",
       "      <td>לא ידוע</td>\n",
       "      <td>21.0</td>\n",
       "      <td>קורקינט חשמלי</td>\n",
       "      <td>4.0</td>\n",
       "      <td>אין נזק</td>\n",
       "    </tr>\n",
       "  </tbody>\n",
       "</table>\n",
       "<p>8784 rows × 161 columns</p>\n",
       "</div>"
      ],
      "text/plain": [
       "         accident_id  provider_and_id  provider_code  file_type_police  \\\n",
       "169       2013001368      32013001368              3                 3   \n",
       "729       2013001145      32013001145              3                 3   \n",
       "857       2013001742      32013001742              3                 3   \n",
       "998       2013000907      32013000907              3                 3   \n",
       "1213      2013001350      12013001350              1                 1   \n",
       "...              ...              ...            ...               ...   \n",
       "1357259   2023092176      32023092176              3                 3   \n",
       "1357412   2023091398      32023091398              3                 3   \n",
       "1357423   2023096873      32023096873              3                 3   \n",
       "1357438   2023094045      12023094045              1                 1   \n",
       "1357714   2023091245      32023091245              3                 3   \n",
       "\n",
       "         involved_type involved_type_hebrew  license_acquiring_date  \\\n",
       "169                  2             נהג נפגע                       0   \n",
       "729                  2             נהג נפגע                       0   \n",
       "857                  2             נהג נפגע                       0   \n",
       "998                  2             נהג נפגע                       0   \n",
       "1213                 2             נהג נפגע                       0   \n",
       "...                ...                  ...                     ...   \n",
       "1357259              2             נהג נפגע                       0   \n",
       "1357412              2             נהג נפגע                       0   \n",
       "1357423              2             נהג נפגע                       0   \n",
       "1357438              2             נהג נפגע                       0   \n",
       "1357714              2             נהג נפגע                    2010   \n",
       "\n",
       "         age_group age_group_hebrew  sex  ... vehicle_status_hebrew  \\\n",
       "169              6            25-29  1.0  ...                   NaN   \n",
       "729              3            10-14  1.0  ...                   NaN   \n",
       "857              7            30-34  2.0  ...                   NaN   \n",
       "998              4            15-19  1.0  ...                   NaN   \n",
       "1213             5            20-24  1.0  ...                   NaN   \n",
       "...            ...              ...  ...  ...                   ...   \n",
       "1357259          4            15-19  1.0  ...                   NaN   \n",
       "1357412         99          לא ידוע  0.0  ...                   NaN   \n",
       "1357423         10            45-49  1.0  ...                   NaN   \n",
       "1357438          5            20-24  1.0  ...                   NaN   \n",
       "1357714          7            30-34  2.0  ...                   NaN   \n",
       "\n",
       "         vehicle_attribution vehicle_attribution_hebrew  seats total_weight  \\\n",
       "169                      1.0                     ישראלי   99.0          0.0   \n",
       "729                      1.0                     ישראלי   99.0          0.0   \n",
       "857                      1.0                     ישראלי   99.0          0.0   \n",
       "998                      1.0                     ישראלי   99.0          0.0   \n",
       "1213                     1.0                     ישראלי   99.0          0.0   \n",
       "...                      ...                        ...    ...          ...   \n",
       "1357259                  1.0                     ישראלי   99.0          0.0   \n",
       "1357412                  1.0                     ישראלי   99.0          0.0   \n",
       "1357423                  1.0                     ישראלי   99.0          0.0   \n",
       "1357438                  1.0                     ישראלי   99.0          0.0   \n",
       "1357714                  1.0                     ישראלי   99.0          0.0   \n",
       "\n",
       "         total_weight_hebrew vehicle_vehicle_type  \\\n",
       "169                  לא ידוע                 15.0   \n",
       "729                  לא ידוע                 15.0   \n",
       "857                  לא ידוע                 15.0   \n",
       "998                  לא ידוע                 15.0   \n",
       "1213                 לא ידוע                 15.0   \n",
       "...                      ...                  ...   \n",
       "1357259              לא ידוע                 23.0   \n",
       "1357412              לא ידוע                 23.0   \n",
       "1357423              לא ידוע                 23.0   \n",
       "1357438              לא ידוע                 23.0   \n",
       "1357714              לא ידוע                 21.0   \n",
       "\n",
       "         vehicle_vehicle_type_hebrew vehicle_damage  vehicle_damage_hebrew  \n",
       "169                          אופניים            4.0                אין נזק  \n",
       "729                          אופניים            4.0                אין נזק  \n",
       "857                          אופניים            4.0                אין נזק  \n",
       "998                          אופניים            1.0                     קל  \n",
       "1213                         אופניים            4.0                אין נזק  \n",
       "...                              ...            ...                    ...  \n",
       "1357259              אופניים חשמליים            1.0                     קל  \n",
       "1357412              אופניים חשמליים            1.0                     קל  \n",
       "1357423              אופניים חשמליים            1.0                     קל  \n",
       "1357438              אופניים חשמליים            3.0                    קשה  \n",
       "1357714                קורקינט חשמלי            4.0                אין נזק  \n",
       "\n",
       "[8784 rows x 161 columns]"
      ]
     },
     "execution_count": 15,
     "metadata": {},
     "output_type": "execute_result"
    }
   ],
   "source": [
    "imh_mv = imh[imh.involve_vehicle_type.isin(micro_vehicle)]\n",
    "#sc = selected cities\n",
    "imh_mv_sc = imh_mv[imh_mv.involve_yishuv_name.isin(cities_names)]\n",
    "imh_mv_sc"
   ]
  },
  {
   "cell_type": "markdown",
   "id": "9e071e53",
   "metadata": {},
   "source": [
    "Lets check micro mobility for cities by years."
   ]
  },
  {
   "cell_type": "code",
   "execution_count": 16,
   "id": "d37257ae",
   "metadata": {},
   "outputs": [
    {
     "data": {
      "text/html": [
       "<div>\n",
       "<style scoped>\n",
       "    .dataframe tbody tr th:only-of-type {\n",
       "        vertical-align: middle;\n",
       "    }\n",
       "\n",
       "    .dataframe tbody tr th {\n",
       "        vertical-align: top;\n",
       "    }\n",
       "\n",
       "    .dataframe thead th {\n",
       "        text-align: right;\n",
       "    }\n",
       "</style>\n",
       "<table border=\"1\" class=\"dataframe\">\n",
       "  <thead>\n",
       "    <tr style=\"text-align: right;\">\n",
       "      <th></th>\n",
       "      <th>accident_year</th>\n",
       "      <th>involve_yishuv_name</th>\n",
       "      <th>count</th>\n",
       "    </tr>\n",
       "  </thead>\n",
       "  <tbody>\n",
       "    <tr>\n",
       "      <th>0</th>\n",
       "      <td>2013</td>\n",
       "      <td>אשדוד</td>\n",
       "      <td>64</td>\n",
       "    </tr>\n",
       "    <tr>\n",
       "      <th>1</th>\n",
       "      <td>2014</td>\n",
       "      <td>אשדוד</td>\n",
       "      <td>68</td>\n",
       "    </tr>\n",
       "    <tr>\n",
       "      <th>2</th>\n",
       "      <td>2015</td>\n",
       "      <td>אשדוד</td>\n",
       "      <td>89</td>\n",
       "    </tr>\n",
       "    <tr>\n",
       "      <th>3</th>\n",
       "      <td>2016</td>\n",
       "      <td>אשדוד</td>\n",
       "      <td>79</td>\n",
       "    </tr>\n",
       "    <tr>\n",
       "      <th>4</th>\n",
       "      <td>2017</td>\n",
       "      <td>אשדוד</td>\n",
       "      <td>85</td>\n",
       "    </tr>\n",
       "    <tr>\n",
       "      <th>5</th>\n",
       "      <td>2018</td>\n",
       "      <td>אשדוד</td>\n",
       "      <td>120</td>\n",
       "    </tr>\n",
       "    <tr>\n",
       "      <th>6</th>\n",
       "      <td>2019</td>\n",
       "      <td>אשדוד</td>\n",
       "      <td>88</td>\n",
       "    </tr>\n",
       "    <tr>\n",
       "      <th>7</th>\n",
       "      <td>2020</td>\n",
       "      <td>אשדוד</td>\n",
       "      <td>77</td>\n",
       "    </tr>\n",
       "    <tr>\n",
       "      <th>8</th>\n",
       "      <td>2021</td>\n",
       "      <td>אשדוד</td>\n",
       "      <td>125</td>\n",
       "    </tr>\n",
       "    <tr>\n",
       "      <th>9</th>\n",
       "      <td>2022</td>\n",
       "      <td>אשדוד</td>\n",
       "      <td>139</td>\n",
       "    </tr>\n",
       "    <tr>\n",
       "      <th>10</th>\n",
       "      <td>2023</td>\n",
       "      <td>אשדוד</td>\n",
       "      <td>30</td>\n",
       "    </tr>\n",
       "    <tr>\n",
       "      <th>11</th>\n",
       "      <td>2013</td>\n",
       "      <td>חיפה</td>\n",
       "      <td>37</td>\n",
       "    </tr>\n",
       "    <tr>\n",
       "      <th>12</th>\n",
       "      <td>2014</td>\n",
       "      <td>חיפה</td>\n",
       "      <td>37</td>\n",
       "    </tr>\n",
       "    <tr>\n",
       "      <th>13</th>\n",
       "      <td>2015</td>\n",
       "      <td>חיפה</td>\n",
       "      <td>47</td>\n",
       "    </tr>\n",
       "    <tr>\n",
       "      <th>14</th>\n",
       "      <td>2016</td>\n",
       "      <td>חיפה</td>\n",
       "      <td>57</td>\n",
       "    </tr>\n",
       "    <tr>\n",
       "      <th>15</th>\n",
       "      <td>2017</td>\n",
       "      <td>חיפה</td>\n",
       "      <td>59</td>\n",
       "    </tr>\n",
       "    <tr>\n",
       "      <th>16</th>\n",
       "      <td>2018</td>\n",
       "      <td>חיפה</td>\n",
       "      <td>52</td>\n",
       "    </tr>\n",
       "    <tr>\n",
       "      <th>17</th>\n",
       "      <td>2019</td>\n",
       "      <td>חיפה</td>\n",
       "      <td>66</td>\n",
       "    </tr>\n",
       "    <tr>\n",
       "      <th>18</th>\n",
       "      <td>2020</td>\n",
       "      <td>חיפה</td>\n",
       "      <td>49</td>\n",
       "    </tr>\n",
       "    <tr>\n",
       "      <th>19</th>\n",
       "      <td>2021</td>\n",
       "      <td>חיפה</td>\n",
       "      <td>52</td>\n",
       "    </tr>\n",
       "    <tr>\n",
       "      <th>20</th>\n",
       "      <td>2022</td>\n",
       "      <td>חיפה</td>\n",
       "      <td>48</td>\n",
       "    </tr>\n",
       "    <tr>\n",
       "      <th>21</th>\n",
       "      <td>2023</td>\n",
       "      <td>חיפה</td>\n",
       "      <td>7</td>\n",
       "    </tr>\n",
       "    <tr>\n",
       "      <th>22</th>\n",
       "      <td>2013</td>\n",
       "      <td>ירושלים</td>\n",
       "      <td>111</td>\n",
       "    </tr>\n",
       "    <tr>\n",
       "      <th>23</th>\n",
       "      <td>2014</td>\n",
       "      <td>ירושלים</td>\n",
       "      <td>136</td>\n",
       "    </tr>\n",
       "    <tr>\n",
       "      <th>24</th>\n",
       "      <td>2015</td>\n",
       "      <td>ירושלים</td>\n",
       "      <td>143</td>\n",
       "    </tr>\n",
       "    <tr>\n",
       "      <th>25</th>\n",
       "      <td>2016</td>\n",
       "      <td>ירושלים</td>\n",
       "      <td>153</td>\n",
       "    </tr>\n",
       "    <tr>\n",
       "      <th>26</th>\n",
       "      <td>2017</td>\n",
       "      <td>ירושלים</td>\n",
       "      <td>196</td>\n",
       "    </tr>\n",
       "    <tr>\n",
       "      <th>27</th>\n",
       "      <td>2018</td>\n",
       "      <td>ירושלים</td>\n",
       "      <td>221</td>\n",
       "    </tr>\n",
       "    <tr>\n",
       "      <th>28</th>\n",
       "      <td>2019</td>\n",
       "      <td>ירושלים</td>\n",
       "      <td>216</td>\n",
       "    </tr>\n",
       "    <tr>\n",
       "      <th>29</th>\n",
       "      <td>2020</td>\n",
       "      <td>ירושלים</td>\n",
       "      <td>163</td>\n",
       "    </tr>\n",
       "    <tr>\n",
       "      <th>30</th>\n",
       "      <td>2021</td>\n",
       "      <td>ירושלים</td>\n",
       "      <td>181</td>\n",
       "    </tr>\n",
       "    <tr>\n",
       "      <th>31</th>\n",
       "      <td>2022</td>\n",
       "      <td>ירושלים</td>\n",
       "      <td>187</td>\n",
       "    </tr>\n",
       "    <tr>\n",
       "      <th>32</th>\n",
       "      <td>2023</td>\n",
       "      <td>ירושלים</td>\n",
       "      <td>27</td>\n",
       "    </tr>\n",
       "    <tr>\n",
       "      <th>33</th>\n",
       "      <td>2013</td>\n",
       "      <td>ראשון לציון</td>\n",
       "      <td>55</td>\n",
       "    </tr>\n",
       "    <tr>\n",
       "      <th>34</th>\n",
       "      <td>2014</td>\n",
       "      <td>ראשון לציון</td>\n",
       "      <td>96</td>\n",
       "    </tr>\n",
       "    <tr>\n",
       "      <th>35</th>\n",
       "      <td>2015</td>\n",
       "      <td>ראשון לציון</td>\n",
       "      <td>98</td>\n",
       "    </tr>\n",
       "    <tr>\n",
       "      <th>36</th>\n",
       "      <td>2016</td>\n",
       "      <td>ראשון לציון</td>\n",
       "      <td>77</td>\n",
       "    </tr>\n",
       "    <tr>\n",
       "      <th>37</th>\n",
       "      <td>2017</td>\n",
       "      <td>ראשון לציון</td>\n",
       "      <td>102</td>\n",
       "    </tr>\n",
       "    <tr>\n",
       "      <th>38</th>\n",
       "      <td>2018</td>\n",
       "      <td>ראשון לציון</td>\n",
       "      <td>103</td>\n",
       "    </tr>\n",
       "    <tr>\n",
       "      <th>39</th>\n",
       "      <td>2019</td>\n",
       "      <td>ראשון לציון</td>\n",
       "      <td>94</td>\n",
       "    </tr>\n",
       "    <tr>\n",
       "      <th>40</th>\n",
       "      <td>2020</td>\n",
       "      <td>ראשון לציון</td>\n",
       "      <td>82</td>\n",
       "    </tr>\n",
       "    <tr>\n",
       "      <th>41</th>\n",
       "      <td>2021</td>\n",
       "      <td>ראשון לציון</td>\n",
       "      <td>107</td>\n",
       "    </tr>\n",
       "    <tr>\n",
       "      <th>42</th>\n",
       "      <td>2022</td>\n",
       "      <td>ראשון לציון</td>\n",
       "      <td>94</td>\n",
       "    </tr>\n",
       "    <tr>\n",
       "      <th>43</th>\n",
       "      <td>2023</td>\n",
       "      <td>ראשון לציון</td>\n",
       "      <td>14</td>\n",
       "    </tr>\n",
       "    <tr>\n",
       "      <th>44</th>\n",
       "      <td>2013</td>\n",
       "      <td>תל אביב -יפו</td>\n",
       "      <td>350</td>\n",
       "    </tr>\n",
       "    <tr>\n",
       "      <th>45</th>\n",
       "      <td>2014</td>\n",
       "      <td>תל אביב -יפו</td>\n",
       "      <td>432</td>\n",
       "    </tr>\n",
       "    <tr>\n",
       "      <th>46</th>\n",
       "      <td>2015</td>\n",
       "      <td>תל אביב -יפו</td>\n",
       "      <td>444</td>\n",
       "    </tr>\n",
       "    <tr>\n",
       "      <th>47</th>\n",
       "      <td>2016</td>\n",
       "      <td>תל אביב -יפו</td>\n",
       "      <td>495</td>\n",
       "    </tr>\n",
       "    <tr>\n",
       "      <th>48</th>\n",
       "      <td>2017</td>\n",
       "      <td>תל אביב -יפו</td>\n",
       "      <td>509</td>\n",
       "    </tr>\n",
       "    <tr>\n",
       "      <th>49</th>\n",
       "      <td>2018</td>\n",
       "      <td>תל אביב -יפו</td>\n",
       "      <td>404</td>\n",
       "    </tr>\n",
       "    <tr>\n",
       "      <th>50</th>\n",
       "      <td>2019</td>\n",
       "      <td>תל אביב -יפו</td>\n",
       "      <td>435</td>\n",
       "    </tr>\n",
       "    <tr>\n",
       "      <th>51</th>\n",
       "      <td>2020</td>\n",
       "      <td>תל אביב -יפו</td>\n",
       "      <td>482</td>\n",
       "    </tr>\n",
       "    <tr>\n",
       "      <th>52</th>\n",
       "      <td>2021</td>\n",
       "      <td>תל אביב -יפו</td>\n",
       "      <td>526</td>\n",
       "    </tr>\n",
       "    <tr>\n",
       "      <th>53</th>\n",
       "      <td>2022</td>\n",
       "      <td>תל אביב -יפו</td>\n",
       "      <td>484</td>\n",
       "    </tr>\n",
       "    <tr>\n",
       "      <th>54</th>\n",
       "      <td>2023</td>\n",
       "      <td>תל אביב -יפו</td>\n",
       "      <td>92</td>\n",
       "    </tr>\n",
       "  </tbody>\n",
       "</table>\n",
       "</div>"
      ],
      "text/plain": [
       "    accident_year involve_yishuv_name  count\n",
       "0            2013               אשדוד     64\n",
       "1            2014               אשדוד     68\n",
       "2            2015               אשדוד     89\n",
       "3            2016               אשדוד     79\n",
       "4            2017               אשדוד     85\n",
       "5            2018               אשדוד    120\n",
       "6            2019               אשדוד     88\n",
       "7            2020               אשדוד     77\n",
       "8            2021               אשדוד    125\n",
       "9            2022               אשדוד    139\n",
       "10           2023               אשדוד     30\n",
       "11           2013                חיפה     37\n",
       "12           2014                חיפה     37\n",
       "13           2015                חיפה     47\n",
       "14           2016                חיפה     57\n",
       "15           2017                חיפה     59\n",
       "16           2018                חיפה     52\n",
       "17           2019                חיפה     66\n",
       "18           2020                חיפה     49\n",
       "19           2021                חיפה     52\n",
       "20           2022                חיפה     48\n",
       "21           2023                חיפה      7\n",
       "22           2013             ירושלים    111\n",
       "23           2014             ירושלים    136\n",
       "24           2015             ירושלים    143\n",
       "25           2016             ירושלים    153\n",
       "26           2017             ירושלים    196\n",
       "27           2018             ירושלים    221\n",
       "28           2019             ירושלים    216\n",
       "29           2020             ירושלים    163\n",
       "30           2021             ירושלים    181\n",
       "31           2022             ירושלים    187\n",
       "32           2023             ירושלים     27\n",
       "33           2013         ראשון לציון     55\n",
       "34           2014         ראשון לציון     96\n",
       "35           2015         ראשון לציון     98\n",
       "36           2016         ראשון לציון     77\n",
       "37           2017         ראשון לציון    102\n",
       "38           2018         ראשון לציון    103\n",
       "39           2019         ראשון לציון     94\n",
       "40           2020         ראשון לציון     82\n",
       "41           2021         ראשון לציון    107\n",
       "42           2022         ראשון לציון     94\n",
       "43           2023         ראשון לציון     14\n",
       "44           2013        תל אביב -יפו    350\n",
       "45           2014        תל אביב -יפו    432\n",
       "46           2015        תל אביב -יפו    444\n",
       "47           2016        תל אביב -יפו    495\n",
       "48           2017        תל אביב -יפו    509\n",
       "49           2018        תל אביב -יפו    404\n",
       "50           2019        תל אביב -יפו    435\n",
       "51           2020        תל אביב -יפו    482\n",
       "52           2021        תל אביב -יפו    526\n",
       "53           2022        תל אביב -יפו    484\n",
       "54           2023        תל אביב -יפו     92"
      ]
     },
     "execution_count": 16,
     "metadata": {},
     "output_type": "execute_result"
    }
   ],
   "source": [
    "imh_mv_sc_gb = imh_mv_sc.groupby(['accident_year', 'involve_yishuv_name']).size().reset_index(name='count')\n",
    "imh_mv_sc_pv = imh_mv_sc_gb.pivot(index='accident_year', columns='involve_yishuv_name', values='count').reset_index()\n",
    "imh_mv_sc_long = imh_mv_sc_pv.melt(id_vars='accident_year', var_name='involve_yishuv_name', value_name='count')\n",
    "\n",
    "imh_mv_sc_long"
   ]
  },
  {
   "cell_type": "code",
   "execution_count": 17,
   "id": "e400176e",
   "metadata": {},
   "outputs": [
    {
     "data": {
      "application/vnd.plotly.v1+json": {
       "config": {
        "plotlyServerURL": "https://plot.ly"
       },
       "data": [
        {
         "hovertemplate": "City Name=אשדוד<br>Accident Year=%{x}<br>Count=%{y}<extra></extra>",
         "legendgroup": "אשדוד",
         "line": {
          "color": "#636efa",
          "dash": "solid"
         },
         "marker": {
          "symbol": "circle"
         },
         "mode": "lines",
         "name": "אשדוד",
         "orientation": "v",
         "showlegend": true,
         "type": "scatter",
         "x": [
          2013,
          2014,
          2015,
          2016,
          2017,
          2018,
          2019,
          2020,
          2021,
          2022,
          2023
         ],
         "xaxis": "x",
         "y": [
          64,
          68,
          89,
          79,
          85,
          120,
          88,
          77,
          125,
          139,
          30
         ],
         "yaxis": "y"
        },
        {
         "hovertemplate": "City Name=חיפה<br>Accident Year=%{x}<br>Count=%{y}<extra></extra>",
         "legendgroup": "חיפה",
         "line": {
          "color": "#EF553B",
          "dash": "solid"
         },
         "marker": {
          "symbol": "circle"
         },
         "mode": "lines",
         "name": "חיפה",
         "orientation": "v",
         "showlegend": true,
         "type": "scatter",
         "x": [
          2013,
          2014,
          2015,
          2016,
          2017,
          2018,
          2019,
          2020,
          2021,
          2022,
          2023
         ],
         "xaxis": "x",
         "y": [
          37,
          37,
          47,
          57,
          59,
          52,
          66,
          49,
          52,
          48,
          7
         ],
         "yaxis": "y"
        },
        {
         "hovertemplate": "City Name=ירושלים<br>Accident Year=%{x}<br>Count=%{y}<extra></extra>",
         "legendgroup": "ירושלים",
         "line": {
          "color": "#00cc96",
          "dash": "solid"
         },
         "marker": {
          "symbol": "circle"
         },
         "mode": "lines",
         "name": "ירושלים",
         "orientation": "v",
         "showlegend": true,
         "type": "scatter",
         "x": [
          2013,
          2014,
          2015,
          2016,
          2017,
          2018,
          2019,
          2020,
          2021,
          2022,
          2023
         ],
         "xaxis": "x",
         "y": [
          111,
          136,
          143,
          153,
          196,
          221,
          216,
          163,
          181,
          187,
          27
         ],
         "yaxis": "y"
        },
        {
         "hovertemplate": "City Name=ראשון לציון<br>Accident Year=%{x}<br>Count=%{y}<extra></extra>",
         "legendgroup": "ראשון לציון",
         "line": {
          "color": "#ab63fa",
          "dash": "solid"
         },
         "marker": {
          "symbol": "circle"
         },
         "mode": "lines",
         "name": "ראשון לציון",
         "orientation": "v",
         "showlegend": true,
         "type": "scatter",
         "x": [
          2013,
          2014,
          2015,
          2016,
          2017,
          2018,
          2019,
          2020,
          2021,
          2022,
          2023
         ],
         "xaxis": "x",
         "y": [
          55,
          96,
          98,
          77,
          102,
          103,
          94,
          82,
          107,
          94,
          14
         ],
         "yaxis": "y"
        },
        {
         "hovertemplate": "City Name=תל אביב -יפו<br>Accident Year=%{x}<br>Count=%{y}<extra></extra>",
         "legendgroup": "תל אביב -יפו",
         "line": {
          "color": "#FFA15A",
          "dash": "solid"
         },
         "marker": {
          "symbol": "circle"
         },
         "mode": "lines",
         "name": "תל אביב -יפו",
         "orientation": "v",
         "showlegend": true,
         "type": "scatter",
         "x": [
          2013,
          2014,
          2015,
          2016,
          2017,
          2018,
          2019,
          2020,
          2021,
          2022,
          2023
         ],
         "xaxis": "x",
         "y": [
          350,
          432,
          444,
          495,
          509,
          404,
          435,
          482,
          526,
          484,
          92
         ],
         "yaxis": "y"
        }
       ],
       "layout": {
        "legend": {
         "title": {
          "text": "City Name"
         },
         "tracegroupgap": 0
        },
        "template": {
         "data": {
          "bar": [
           {
            "error_x": {
             "color": "#2a3f5f"
            },
            "error_y": {
             "color": "#2a3f5f"
            },
            "marker": {
             "line": {
              "color": "#E5ECF6",
              "width": 0.5
             },
             "pattern": {
              "fillmode": "overlay",
              "size": 10,
              "solidity": 0.2
             }
            },
            "type": "bar"
           }
          ],
          "barpolar": [
           {
            "marker": {
             "line": {
              "color": "#E5ECF6",
              "width": 0.5
             },
             "pattern": {
              "fillmode": "overlay",
              "size": 10,
              "solidity": 0.2
             }
            },
            "type": "barpolar"
           }
          ],
          "carpet": [
           {
            "aaxis": {
             "endlinecolor": "#2a3f5f",
             "gridcolor": "white",
             "linecolor": "white",
             "minorgridcolor": "white",
             "startlinecolor": "#2a3f5f"
            },
            "baxis": {
             "endlinecolor": "#2a3f5f",
             "gridcolor": "white",
             "linecolor": "white",
             "minorgridcolor": "white",
             "startlinecolor": "#2a3f5f"
            },
            "type": "carpet"
           }
          ],
          "choropleth": [
           {
            "colorbar": {
             "outlinewidth": 0,
             "ticks": ""
            },
            "type": "choropleth"
           }
          ],
          "contour": [
           {
            "colorbar": {
             "outlinewidth": 0,
             "ticks": ""
            },
            "colorscale": [
             [
              0,
              "#0d0887"
             ],
             [
              0.1111111111111111,
              "#46039f"
             ],
             [
              0.2222222222222222,
              "#7201a8"
             ],
             [
              0.3333333333333333,
              "#9c179e"
             ],
             [
              0.4444444444444444,
              "#bd3786"
             ],
             [
              0.5555555555555556,
              "#d8576b"
             ],
             [
              0.6666666666666666,
              "#ed7953"
             ],
             [
              0.7777777777777778,
              "#fb9f3a"
             ],
             [
              0.8888888888888888,
              "#fdca26"
             ],
             [
              1,
              "#f0f921"
             ]
            ],
            "type": "contour"
           }
          ],
          "contourcarpet": [
           {
            "colorbar": {
             "outlinewidth": 0,
             "ticks": ""
            },
            "type": "contourcarpet"
           }
          ],
          "heatmap": [
           {
            "colorbar": {
             "outlinewidth": 0,
             "ticks": ""
            },
            "colorscale": [
             [
              0,
              "#0d0887"
             ],
             [
              0.1111111111111111,
              "#46039f"
             ],
             [
              0.2222222222222222,
              "#7201a8"
             ],
             [
              0.3333333333333333,
              "#9c179e"
             ],
             [
              0.4444444444444444,
              "#bd3786"
             ],
             [
              0.5555555555555556,
              "#d8576b"
             ],
             [
              0.6666666666666666,
              "#ed7953"
             ],
             [
              0.7777777777777778,
              "#fb9f3a"
             ],
             [
              0.8888888888888888,
              "#fdca26"
             ],
             [
              1,
              "#f0f921"
             ]
            ],
            "type": "heatmap"
           }
          ],
          "heatmapgl": [
           {
            "colorbar": {
             "outlinewidth": 0,
             "ticks": ""
            },
            "colorscale": [
             [
              0,
              "#0d0887"
             ],
             [
              0.1111111111111111,
              "#46039f"
             ],
             [
              0.2222222222222222,
              "#7201a8"
             ],
             [
              0.3333333333333333,
              "#9c179e"
             ],
             [
              0.4444444444444444,
              "#bd3786"
             ],
             [
              0.5555555555555556,
              "#d8576b"
             ],
             [
              0.6666666666666666,
              "#ed7953"
             ],
             [
              0.7777777777777778,
              "#fb9f3a"
             ],
             [
              0.8888888888888888,
              "#fdca26"
             ],
             [
              1,
              "#f0f921"
             ]
            ],
            "type": "heatmapgl"
           }
          ],
          "histogram": [
           {
            "marker": {
             "pattern": {
              "fillmode": "overlay",
              "size": 10,
              "solidity": 0.2
             }
            },
            "type": "histogram"
           }
          ],
          "histogram2d": [
           {
            "colorbar": {
             "outlinewidth": 0,
             "ticks": ""
            },
            "colorscale": [
             [
              0,
              "#0d0887"
             ],
             [
              0.1111111111111111,
              "#46039f"
             ],
             [
              0.2222222222222222,
              "#7201a8"
             ],
             [
              0.3333333333333333,
              "#9c179e"
             ],
             [
              0.4444444444444444,
              "#bd3786"
             ],
             [
              0.5555555555555556,
              "#d8576b"
             ],
             [
              0.6666666666666666,
              "#ed7953"
             ],
             [
              0.7777777777777778,
              "#fb9f3a"
             ],
             [
              0.8888888888888888,
              "#fdca26"
             ],
             [
              1,
              "#f0f921"
             ]
            ],
            "type": "histogram2d"
           }
          ],
          "histogram2dcontour": [
           {
            "colorbar": {
             "outlinewidth": 0,
             "ticks": ""
            },
            "colorscale": [
             [
              0,
              "#0d0887"
             ],
             [
              0.1111111111111111,
              "#46039f"
             ],
             [
              0.2222222222222222,
              "#7201a8"
             ],
             [
              0.3333333333333333,
              "#9c179e"
             ],
             [
              0.4444444444444444,
              "#bd3786"
             ],
             [
              0.5555555555555556,
              "#d8576b"
             ],
             [
              0.6666666666666666,
              "#ed7953"
             ],
             [
              0.7777777777777778,
              "#fb9f3a"
             ],
             [
              0.8888888888888888,
              "#fdca26"
             ],
             [
              1,
              "#f0f921"
             ]
            ],
            "type": "histogram2dcontour"
           }
          ],
          "mesh3d": [
           {
            "colorbar": {
             "outlinewidth": 0,
             "ticks": ""
            },
            "type": "mesh3d"
           }
          ],
          "parcoords": [
           {
            "line": {
             "colorbar": {
              "outlinewidth": 0,
              "ticks": ""
             }
            },
            "type": "parcoords"
           }
          ],
          "pie": [
           {
            "automargin": true,
            "type": "pie"
           }
          ],
          "scatter": [
           {
            "fillpattern": {
             "fillmode": "overlay",
             "size": 10,
             "solidity": 0.2
            },
            "type": "scatter"
           }
          ],
          "scatter3d": [
           {
            "line": {
             "colorbar": {
              "outlinewidth": 0,
              "ticks": ""
             }
            },
            "marker": {
             "colorbar": {
              "outlinewidth": 0,
              "ticks": ""
             }
            },
            "type": "scatter3d"
           }
          ],
          "scattercarpet": [
           {
            "marker": {
             "colorbar": {
              "outlinewidth": 0,
              "ticks": ""
             }
            },
            "type": "scattercarpet"
           }
          ],
          "scattergeo": [
           {
            "marker": {
             "colorbar": {
              "outlinewidth": 0,
              "ticks": ""
             }
            },
            "type": "scattergeo"
           }
          ],
          "scattergl": [
           {
            "marker": {
             "colorbar": {
              "outlinewidth": 0,
              "ticks": ""
             }
            },
            "type": "scattergl"
           }
          ],
          "scattermapbox": [
           {
            "marker": {
             "colorbar": {
              "outlinewidth": 0,
              "ticks": ""
             }
            },
            "type": "scattermapbox"
           }
          ],
          "scatterpolar": [
           {
            "marker": {
             "colorbar": {
              "outlinewidth": 0,
              "ticks": ""
             }
            },
            "type": "scatterpolar"
           }
          ],
          "scatterpolargl": [
           {
            "marker": {
             "colorbar": {
              "outlinewidth": 0,
              "ticks": ""
             }
            },
            "type": "scatterpolargl"
           }
          ],
          "scatterternary": [
           {
            "marker": {
             "colorbar": {
              "outlinewidth": 0,
              "ticks": ""
             }
            },
            "type": "scatterternary"
           }
          ],
          "surface": [
           {
            "colorbar": {
             "outlinewidth": 0,
             "ticks": ""
            },
            "colorscale": [
             [
              0,
              "#0d0887"
             ],
             [
              0.1111111111111111,
              "#46039f"
             ],
             [
              0.2222222222222222,
              "#7201a8"
             ],
             [
              0.3333333333333333,
              "#9c179e"
             ],
             [
              0.4444444444444444,
              "#bd3786"
             ],
             [
              0.5555555555555556,
              "#d8576b"
             ],
             [
              0.6666666666666666,
              "#ed7953"
             ],
             [
              0.7777777777777778,
              "#fb9f3a"
             ],
             [
              0.8888888888888888,
              "#fdca26"
             ],
             [
              1,
              "#f0f921"
             ]
            ],
            "type": "surface"
           }
          ],
          "table": [
           {
            "cells": {
             "fill": {
              "color": "#EBF0F8"
             },
             "line": {
              "color": "white"
             }
            },
            "header": {
             "fill": {
              "color": "#C8D4E3"
             },
             "line": {
              "color": "white"
             }
            },
            "type": "table"
           }
          ]
         },
         "layout": {
          "annotationdefaults": {
           "arrowcolor": "#2a3f5f",
           "arrowhead": 0,
           "arrowwidth": 1
          },
          "autotypenumbers": "strict",
          "coloraxis": {
           "colorbar": {
            "outlinewidth": 0,
            "ticks": ""
           }
          },
          "colorscale": {
           "diverging": [
            [
             0,
             "#8e0152"
            ],
            [
             0.1,
             "#c51b7d"
            ],
            [
             0.2,
             "#de77ae"
            ],
            [
             0.3,
             "#f1b6da"
            ],
            [
             0.4,
             "#fde0ef"
            ],
            [
             0.5,
             "#f7f7f7"
            ],
            [
             0.6,
             "#e6f5d0"
            ],
            [
             0.7,
             "#b8e186"
            ],
            [
             0.8,
             "#7fbc41"
            ],
            [
             0.9,
             "#4d9221"
            ],
            [
             1,
             "#276419"
            ]
           ],
           "sequential": [
            [
             0,
             "#0d0887"
            ],
            [
             0.1111111111111111,
             "#46039f"
            ],
            [
             0.2222222222222222,
             "#7201a8"
            ],
            [
             0.3333333333333333,
             "#9c179e"
            ],
            [
             0.4444444444444444,
             "#bd3786"
            ],
            [
             0.5555555555555556,
             "#d8576b"
            ],
            [
             0.6666666666666666,
             "#ed7953"
            ],
            [
             0.7777777777777778,
             "#fb9f3a"
            ],
            [
             0.8888888888888888,
             "#fdca26"
            ],
            [
             1,
             "#f0f921"
            ]
           ],
           "sequentialminus": [
            [
             0,
             "#0d0887"
            ],
            [
             0.1111111111111111,
             "#46039f"
            ],
            [
             0.2222222222222222,
             "#7201a8"
            ],
            [
             0.3333333333333333,
             "#9c179e"
            ],
            [
             0.4444444444444444,
             "#bd3786"
            ],
            [
             0.5555555555555556,
             "#d8576b"
            ],
            [
             0.6666666666666666,
             "#ed7953"
            ],
            [
             0.7777777777777778,
             "#fb9f3a"
            ],
            [
             0.8888888888888888,
             "#fdca26"
            ],
            [
             1,
             "#f0f921"
            ]
           ]
          },
          "colorway": [
           "#636efa",
           "#EF553B",
           "#00cc96",
           "#ab63fa",
           "#FFA15A",
           "#19d3f3",
           "#FF6692",
           "#B6E880",
           "#FF97FF",
           "#FECB52"
          ],
          "font": {
           "color": "#2a3f5f"
          },
          "geo": {
           "bgcolor": "white",
           "lakecolor": "white",
           "landcolor": "#E5ECF6",
           "showlakes": true,
           "showland": true,
           "subunitcolor": "white"
          },
          "hoverlabel": {
           "align": "left"
          },
          "hovermode": "closest",
          "mapbox": {
           "style": "light"
          },
          "paper_bgcolor": "white",
          "plot_bgcolor": "#E5ECF6",
          "polar": {
           "angularaxis": {
            "gridcolor": "white",
            "linecolor": "white",
            "ticks": ""
           },
           "bgcolor": "#E5ECF6",
           "radialaxis": {
            "gridcolor": "white",
            "linecolor": "white",
            "ticks": ""
           }
          },
          "scene": {
           "xaxis": {
            "backgroundcolor": "#E5ECF6",
            "gridcolor": "white",
            "gridwidth": 2,
            "linecolor": "white",
            "showbackground": true,
            "ticks": "",
            "zerolinecolor": "white"
           },
           "yaxis": {
            "backgroundcolor": "#E5ECF6",
            "gridcolor": "white",
            "gridwidth": 2,
            "linecolor": "white",
            "showbackground": true,
            "ticks": "",
            "zerolinecolor": "white"
           },
           "zaxis": {
            "backgroundcolor": "#E5ECF6",
            "gridcolor": "white",
            "gridwidth": 2,
            "linecolor": "white",
            "showbackground": true,
            "ticks": "",
            "zerolinecolor": "white"
           }
          },
          "shapedefaults": {
           "line": {
            "color": "#2a3f5f"
           }
          },
          "ternary": {
           "aaxis": {
            "gridcolor": "white",
            "linecolor": "white",
            "ticks": ""
           },
           "baxis": {
            "gridcolor": "white",
            "linecolor": "white",
            "ticks": ""
           },
           "bgcolor": "#E5ECF6",
           "caxis": {
            "gridcolor": "white",
            "linecolor": "white",
            "ticks": ""
           }
          },
          "title": {
           "x": 0.05
          },
          "xaxis": {
           "automargin": true,
           "gridcolor": "white",
           "linecolor": "white",
           "ticks": "",
           "title": {
            "standoff": 15
           },
           "zerolinecolor": "white",
           "zerolinewidth": 2
          },
          "yaxis": {
           "automargin": true,
           "gridcolor": "white",
           "linecolor": "white",
           "ticks": "",
           "title": {
            "standoff": 15
           },
           "zerolinecolor": "white",
           "zerolinewidth": 2
          }
         }
        },
        "title": {
         "text": "Accidents for Micro Vehicels by City and Year"
        },
        "xaxis": {
         "anchor": "y",
         "categoryorder": "total descending",
         "domain": [
          0,
          1
         ],
         "title": {
          "text": "Accident Year"
         }
        },
        "yaxis": {
         "anchor": "x",
         "domain": [
          0,
          1
         ],
         "title": {
          "text": "Count"
         }
        }
       }
      }
     },
     "metadata": {},
     "output_type": "display_data"
    }
   ],
   "source": [
    "fig = px.line(\n",
    "    imh_mv_sc_long,\n",
    "    x='accident_year',\n",
    "    y='count',\n",
    "    color='involve_yishuv_name',  # Differentiates the bars by vehicle type\n",
    "    title='Accidents for Micro Vehicels by City and Year',\n",
    "    labels={'count': 'Count', 'accident_year': 'Accident Year', 'involve_yishuv_name': 'City Name'}\n",
    ")\n",
    "\n",
    "# Update the layout if you need to customize the appearance\n",
    "fig.update_layout(\n",
    "    xaxis_title='Accident Year',\n",
    "    yaxis_title='Count',\n",
    "    legend_title='City Name',\n",
    "    xaxis={'categoryorder':'total descending'}\n",
    ")\n",
    "\n",
    "# Show the plot\n",
    "fig.show()"
   ]
  },
  {
   "cell_type": "markdown",
   "id": "84205649",
   "metadata": {},
   "source": [
    "## Next things to check:\n",
    "1. Check ages of injured \n",
    "    * by city and by year\n",
    "2. Add data for current months\n",
    "3. Look for dangerous streets in each city\n",
    "4. Try Mali approach of polygon by street.\n",
    "    "
   ]
  },
  {
   "cell_type": "markdown",
   "id": "b2c856ba",
   "metadata": {},
   "source": [
    "### Adding Israeli cities CSV"
   ]
  },
  {
   "cell_type": "code",
   "execution_count": 8,
   "id": "11028761",
   "metadata": {},
   "outputs": [],
   "source": [
    "# i_c = pd.read_csv('./csv_tables/israeli_cities.csv', encoding = \"ISO-8859-1\")\n",
    "# i_c = pd.read_csv('./csv_tables/israeli_cities.csv', encoding=\"windows-1255\")\n",
    "# i_c"
   ]
  },
  {
   "cell_type": "code",
   "execution_count": 11,
   "id": "d31bdca5",
   "metadata": {},
   "outputs": [],
   "source": [
    "# i_c_en['yishuv_symbol'] = i_c['סמל_ישוב']\n",
    "# i_c_en['yishuv_name']   = i_c['שם_ישוב']\n",
    "# i_c_en['total']         = i_c['סהכ']\n",
    "# i_c_en['age_5_0']       = i_c['גיל_0_5']\n",
    "# i_c_en['age_6_18']      = i_c['גיל_6_18']\n",
    "# i_c_en['age_19_45']     = i_c['גיל_19_45']\n",
    "# i_c_en['age_46_55']     = i_c['גיל_46_55']\n",
    "# i_c_en['age_56_64']     = i_c['גיל_56_64']\n",
    "# i_c_en['age_65_plus']   = i_c['גיל_65_פלוס']\n",
    "\n",
    "# i_c_en\n",
    "\n"
   ]
  }
 ],
 "metadata": {
  "kernelspec": {
   "display_name": "Python 3 (ipykernel)",
   "language": "python",
   "name": "python3"
  },
  "language_info": {
   "codemirror_mode": {
    "name": "ipython",
    "version": 3
   },
   "file_extension": ".py",
   "mimetype": "text/x-python",
   "name": "python",
   "nbconvert_exporter": "python",
   "pygments_lexer": "ipython3",
   "version": "3.9.13"
  }
 },
 "nbformat": 4,
 "nbformat_minor": 5
}
