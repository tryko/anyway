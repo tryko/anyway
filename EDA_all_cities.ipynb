{
 "cells": [
  {
   "cell_type": "markdown",
   "id": "842e0de0",
   "metadata": {},
   "source": [
    "* Going over cities\n",
    "* Checking group age  "
   ]
  },
  {
   "cell_type": "code",
   "execution_count": 1,
   "id": "0fd347f3",
   "metadata": {},
   "outputs": [],
   "source": [
    "import pandas as pd\n",
    "import numpy as np\n",
    "import plotly.express as px\n",
    "import matplotlib.pyplot as plt\n",
    "\n",
    "import warnings\n",
    "warnings.simplefilter(action='ignore', category=FutureWarning)\n"
   ]
  },
  {
   "cell_type": "code",
   "execution_count": 2,
   "id": "95e96e5e",
   "metadata": {},
   "outputs": [
    {
     "name": "stderr",
     "output_type": "stream",
     "text": [
      "C:\\Users\\itay8\\AppData\\Local\\Temp\\ipykernel_18284\\2317383670.py:1: DtypeWarning: Columns (151) have mixed types. Specify dtype option on import or set low_memory=False.\n",
      "  imh = pd.read_csv('./csv_tables/involved_markers_hebrew.csv')\n"
     ]
    },
    {
     "data": {
      "text/html": [
       "<div>\n",
       "<style scoped>\n",
       "    .dataframe tbody tr th:only-of-type {\n",
       "        vertical-align: middle;\n",
       "    }\n",
       "\n",
       "    .dataframe tbody tr th {\n",
       "        vertical-align: top;\n",
       "    }\n",
       "\n",
       "    .dataframe thead th {\n",
       "        text-align: right;\n",
       "    }\n",
       "</style>\n",
       "<table border=\"1\" class=\"dataframe\">\n",
       "  <thead>\n",
       "    <tr style=\"text-align: right;\">\n",
       "      <th></th>\n",
       "      <th>accident_id</th>\n",
       "      <th>provider_and_id</th>\n",
       "      <th>provider_code</th>\n",
       "      <th>file_type_police</th>\n",
       "      <th>involved_type</th>\n",
       "      <th>involved_type_hebrew</th>\n",
       "      <th>license_acquiring_date</th>\n",
       "      <th>age_group</th>\n",
       "      <th>age_group_hebrew</th>\n",
       "      <th>sex</th>\n",
       "      <th>...</th>\n",
       "      <th>vehicle_status_hebrew</th>\n",
       "      <th>vehicle_attribution</th>\n",
       "      <th>vehicle_attribution_hebrew</th>\n",
       "      <th>seats</th>\n",
       "      <th>total_weight</th>\n",
       "      <th>total_weight_hebrew</th>\n",
       "      <th>vehicle_vehicle_type</th>\n",
       "      <th>vehicle_vehicle_type_hebrew</th>\n",
       "      <th>vehicle_damage</th>\n",
       "      <th>vehicle_damage_hebrew</th>\n",
       "    </tr>\n",
       "  </thead>\n",
       "  <tbody>\n",
       "    <tr>\n",
       "      <th>0</th>\n",
       "      <td>2013000963</td>\n",
       "      <td>32013000963</td>\n",
       "      <td>3</td>\n",
       "      <td>3</td>\n",
       "      <td>2</td>\n",
       "      <td>נהג נפגע</td>\n",
       "      <td>1973</td>\n",
       "      <td>14</td>\n",
       "      <td>65-69</td>\n",
       "      <td>1</td>\n",
       "      <td>...</td>\n",
       "      <td>NaN</td>\n",
       "      <td>1.0</td>\n",
       "      <td>ישראלי</td>\n",
       "      <td>4.0</td>\n",
       "      <td>1.0</td>\n",
       "      <td>עד 1.9</td>\n",
       "      <td>1.0</td>\n",
       "      <td>רכב נוסעים פרטי</td>\n",
       "      <td>1.0</td>\n",
       "      <td>קל</td>\n",
       "    </tr>\n",
       "    <tr>\n",
       "      <th>1</th>\n",
       "      <td>2013000992</td>\n",
       "      <td>32013000992</td>\n",
       "      <td>3</td>\n",
       "      <td>3</td>\n",
       "      <td>1</td>\n",
       "      <td>נהג</td>\n",
       "      <td>0</td>\n",
       "      <td>99</td>\n",
       "      <td>לא ידוע</td>\n",
       "      <td>0</td>\n",
       "      <td>...</td>\n",
       "      <td>NaN</td>\n",
       "      <td>1.0</td>\n",
       "      <td>ישראלי</td>\n",
       "      <td>99.0</td>\n",
       "      <td>NaN</td>\n",
       "      <td>NaN</td>\n",
       "      <td>1.0</td>\n",
       "      <td>רכב נוסעים פרטי</td>\n",
       "      <td>4.0</td>\n",
       "      <td>אין נזק</td>\n",
       "    </tr>\n",
       "    <tr>\n",
       "      <th>2</th>\n",
       "      <td>2013000997</td>\n",
       "      <td>32013000997</td>\n",
       "      <td>3</td>\n",
       "      <td>3</td>\n",
       "      <td>1</td>\n",
       "      <td>נהג</td>\n",
       "      <td>2000</td>\n",
       "      <td>7</td>\n",
       "      <td>30-34</td>\n",
       "      <td>2</td>\n",
       "      <td>...</td>\n",
       "      <td>NaN</td>\n",
       "      <td>1.0</td>\n",
       "      <td>ישראלי</td>\n",
       "      <td>99.0</td>\n",
       "      <td>1.0</td>\n",
       "      <td>עד 1.9</td>\n",
       "      <td>1.0</td>\n",
       "      <td>רכב נוסעים פרטי</td>\n",
       "      <td>1.0</td>\n",
       "      <td>קל</td>\n",
       "    </tr>\n",
       "    <tr>\n",
       "      <th>3</th>\n",
       "      <td>2013001056</td>\n",
       "      <td>32013001056</td>\n",
       "      <td>3</td>\n",
       "      <td>3</td>\n",
       "      <td>2</td>\n",
       "      <td>נהג נפגע</td>\n",
       "      <td>1996</td>\n",
       "      <td>10</td>\n",
       "      <td>45-49</td>\n",
       "      <td>2</td>\n",
       "      <td>...</td>\n",
       "      <td>NaN</td>\n",
       "      <td>1.0</td>\n",
       "      <td>ישראלי</td>\n",
       "      <td>3.0</td>\n",
       "      <td>2.0</td>\n",
       "      <td>2.0-2.9</td>\n",
       "      <td>1.0</td>\n",
       "      <td>רכב נוסעים פרטי</td>\n",
       "      <td>1.0</td>\n",
       "      <td>קל</td>\n",
       "    </tr>\n",
       "    <tr>\n",
       "      <th>4</th>\n",
       "      <td>2013001076</td>\n",
       "      <td>32013001076</td>\n",
       "      <td>3</td>\n",
       "      <td>3</td>\n",
       "      <td>1</td>\n",
       "      <td>נהג</td>\n",
       "      <td>2010</td>\n",
       "      <td>13</td>\n",
       "      <td>60-64</td>\n",
       "      <td>1</td>\n",
       "      <td>...</td>\n",
       "      <td>NaN</td>\n",
       "      <td>1.0</td>\n",
       "      <td>ישראלי</td>\n",
       "      <td>3.0</td>\n",
       "      <td>1.0</td>\n",
       "      <td>עד 1.9</td>\n",
       "      <td>12.0</td>\n",
       "      <td>מונית</td>\n",
       "      <td>4.0</td>\n",
       "      <td>אין נזק</td>\n",
       "    </tr>\n",
       "    <tr>\n",
       "      <th>...</th>\n",
       "      <td>...</td>\n",
       "      <td>...</td>\n",
       "      <td>...</td>\n",
       "      <td>...</td>\n",
       "      <td>...</td>\n",
       "      <td>...</td>\n",
       "      <td>...</td>\n",
       "      <td>...</td>\n",
       "      <td>...</td>\n",
       "      <td>...</td>\n",
       "      <td>...</td>\n",
       "      <td>...</td>\n",
       "      <td>...</td>\n",
       "      <td>...</td>\n",
       "      <td>...</td>\n",
       "      <td>...</td>\n",
       "      <td>...</td>\n",
       "      <td>...</td>\n",
       "      <td>...</td>\n",
       "      <td>...</td>\n",
       "      <td>...</td>\n",
       "    </tr>\n",
       "    <tr>\n",
       "      <th>1427658</th>\n",
       "      <td>2023099292</td>\n",
       "      <td>32023099292</td>\n",
       "      <td>3</td>\n",
       "      <td>3</td>\n",
       "      <td>2</td>\n",
       "      <td>נהג נפגע</td>\n",
       "      <td>2022</td>\n",
       "      <td>4</td>\n",
       "      <td>15-19</td>\n",
       "      <td>1</td>\n",
       "      <td>...</td>\n",
       "      <td>NaN</td>\n",
       "      <td>1.0</td>\n",
       "      <td>ישראלי</td>\n",
       "      <td>1.0</td>\n",
       "      <td>1.0</td>\n",
       "      <td>עד 1.9</td>\n",
       "      <td>9.0</td>\n",
       "      <td>אופנוע 51 עד 125 סמ\"ק</td>\n",
       "      <td>4.0</td>\n",
       "      <td>אין נזק</td>\n",
       "    </tr>\n",
       "    <tr>\n",
       "      <th>1427659</th>\n",
       "      <td>2023099475</td>\n",
       "      <td>32023099475</td>\n",
       "      <td>3</td>\n",
       "      <td>3</td>\n",
       "      <td>2</td>\n",
       "      <td>נהג נפגע</td>\n",
       "      <td>1977</td>\n",
       "      <td>13</td>\n",
       "      <td>60-64</td>\n",
       "      <td>1</td>\n",
       "      <td>...</td>\n",
       "      <td>NaN</td>\n",
       "      <td>1.0</td>\n",
       "      <td>ישראלי</td>\n",
       "      <td>99.0</td>\n",
       "      <td>NaN</td>\n",
       "      <td>NaN</td>\n",
       "      <td>1.0</td>\n",
       "      <td>רכב נוסעים פרטי</td>\n",
       "      <td>4.0</td>\n",
       "      <td>אין נזק</td>\n",
       "    </tr>\n",
       "    <tr>\n",
       "      <th>1427660</th>\n",
       "      <td>2023099527</td>\n",
       "      <td>32023099527</td>\n",
       "      <td>3</td>\n",
       "      <td>3</td>\n",
       "      <td>1</td>\n",
       "      <td>נהג</td>\n",
       "      <td>2007</td>\n",
       "      <td>8</td>\n",
       "      <td>35-39</td>\n",
       "      <td>1</td>\n",
       "      <td>...</td>\n",
       "      <td>NaN</td>\n",
       "      <td>1.0</td>\n",
       "      <td>ישראלי</td>\n",
       "      <td>99.0</td>\n",
       "      <td>2.0</td>\n",
       "      <td>2.0-2.9</td>\n",
       "      <td>2.0</td>\n",
       "      <td>משא עד 3.5 טון - אחוד (טרנזיט)</td>\n",
       "      <td>4.0</td>\n",
       "      <td>אין נזק</td>\n",
       "    </tr>\n",
       "    <tr>\n",
       "      <th>1427661</th>\n",
       "      <td>2023099803</td>\n",
       "      <td>32023099803</td>\n",
       "      <td>3</td>\n",
       "      <td>3</td>\n",
       "      <td>1</td>\n",
       "      <td>נהג</td>\n",
       "      <td>0</td>\n",
       "      <td>99</td>\n",
       "      <td>לא ידוע</td>\n",
       "      <td>0</td>\n",
       "      <td>...</td>\n",
       "      <td>NaN</td>\n",
       "      <td>1.0</td>\n",
       "      <td>ישראלי</td>\n",
       "      <td>3.0</td>\n",
       "      <td>5.0</td>\n",
       "      <td>4.1-5.9</td>\n",
       "      <td>24.0</td>\n",
       "      <td>משא 3.6 עד 9.9 טון</td>\n",
       "      <td>1.0</td>\n",
       "      <td>קל</td>\n",
       "    </tr>\n",
       "    <tr>\n",
       "      <th>1427662</th>\n",
       "      <td>2023099902</td>\n",
       "      <td>32023099902</td>\n",
       "      <td>3</td>\n",
       "      <td>3</td>\n",
       "      <td>2</td>\n",
       "      <td>נהג נפגע</td>\n",
       "      <td>2021</td>\n",
       "      <td>4</td>\n",
       "      <td>15-19</td>\n",
       "      <td>2</td>\n",
       "      <td>...</td>\n",
       "      <td>NaN</td>\n",
       "      <td>1.0</td>\n",
       "      <td>ישראלי</td>\n",
       "      <td>3.0</td>\n",
       "      <td>1.0</td>\n",
       "      <td>עד 1.9</td>\n",
       "      <td>1.0</td>\n",
       "      <td>רכב נוסעים פרטי</td>\n",
       "      <td>4.0</td>\n",
       "      <td>אין נזק</td>\n",
       "    </tr>\n",
       "  </tbody>\n",
       "</table>\n",
       "<p>1427663 rows × 161 columns</p>\n",
       "</div>"
      ],
      "text/plain": [
       "         accident_id  provider_and_id  provider_code  file_type_police  \\\n",
       "0         2013000963      32013000963              3                 3   \n",
       "1         2013000992      32013000992              3                 3   \n",
       "2         2013000997      32013000997              3                 3   \n",
       "3         2013001056      32013001056              3                 3   \n",
       "4         2013001076      32013001076              3                 3   \n",
       "...              ...              ...            ...               ...   \n",
       "1427658   2023099292      32023099292              3                 3   \n",
       "1427659   2023099475      32023099475              3                 3   \n",
       "1427660   2023099527      32023099527              3                 3   \n",
       "1427661   2023099803      32023099803              3                 3   \n",
       "1427662   2023099902      32023099902              3                 3   \n",
       "\n",
       "         involved_type involved_type_hebrew  license_acquiring_date  \\\n",
       "0                    2             נהג נפגע                    1973   \n",
       "1                    1                  נהג                       0   \n",
       "2                    1                  נהג                    2000   \n",
       "3                    2             נהג נפגע                    1996   \n",
       "4                    1                  נהג                    2010   \n",
       "...                ...                  ...                     ...   \n",
       "1427658              2             נהג נפגע                    2022   \n",
       "1427659              2             נהג נפגע                    1977   \n",
       "1427660              1                  נהג                    2007   \n",
       "1427661              1                  נהג                       0   \n",
       "1427662              2             נהג נפגע                    2021   \n",
       "\n",
       "         age_group age_group_hebrew  sex  ... vehicle_status_hebrew  \\\n",
       "0               14            65-69    1  ...                   NaN   \n",
       "1               99          לא ידוע    0  ...                   NaN   \n",
       "2                7            30-34    2  ...                   NaN   \n",
       "3               10            45-49    2  ...                   NaN   \n",
       "4               13            60-64    1  ...                   NaN   \n",
       "...            ...              ...  ...  ...                   ...   \n",
       "1427658          4            15-19    1  ...                   NaN   \n",
       "1427659         13            60-64    1  ...                   NaN   \n",
       "1427660          8            35-39    1  ...                   NaN   \n",
       "1427661         99          לא ידוע    0  ...                   NaN   \n",
       "1427662          4            15-19    2  ...                   NaN   \n",
       "\n",
       "         vehicle_attribution vehicle_attribution_hebrew  seats total_weight  \\\n",
       "0                        1.0                     ישראלי    4.0          1.0   \n",
       "1                        1.0                     ישראלי   99.0          NaN   \n",
       "2                        1.0                     ישראלי   99.0          1.0   \n",
       "3                        1.0                     ישראלי    3.0          2.0   \n",
       "4                        1.0                     ישראלי    3.0          1.0   \n",
       "...                      ...                        ...    ...          ...   \n",
       "1427658                  1.0                     ישראלי    1.0          1.0   \n",
       "1427659                  1.0                     ישראלי   99.0          NaN   \n",
       "1427660                  1.0                     ישראלי   99.0          2.0   \n",
       "1427661                  1.0                     ישראלי    3.0          5.0   \n",
       "1427662                  1.0                     ישראלי    3.0          1.0   \n",
       "\n",
       "         total_weight_hebrew vehicle_vehicle_type  \\\n",
       "0                     עד 1.9                  1.0   \n",
       "1                        NaN                  1.0   \n",
       "2                     עד 1.9                  1.0   \n",
       "3                    2.0-2.9                  1.0   \n",
       "4                     עד 1.9                 12.0   \n",
       "...                      ...                  ...   \n",
       "1427658               עד 1.9                  9.0   \n",
       "1427659                  NaN                  1.0   \n",
       "1427660              2.0-2.9                  2.0   \n",
       "1427661              4.1-5.9                 24.0   \n",
       "1427662               עד 1.9                  1.0   \n",
       "\n",
       "            vehicle_vehicle_type_hebrew vehicle_damage  vehicle_damage_hebrew  \n",
       "0                       רכב נוסעים פרטי            1.0                     קל  \n",
       "1                       רכב נוסעים פרטי            4.0                אין נזק  \n",
       "2                       רכב נוסעים פרטי            1.0                     קל  \n",
       "3                       רכב נוסעים פרטי            1.0                     קל  \n",
       "4                                 מונית            4.0                אין נזק  \n",
       "...                                 ...            ...                    ...  \n",
       "1427658           אופנוע 51 עד 125 סמ\"ק            4.0                אין נזק  \n",
       "1427659                 רכב נוסעים פרטי            4.0                אין נזק  \n",
       "1427660  משא עד 3.5 טון - אחוד (טרנזיט)            4.0                אין נזק  \n",
       "1427661              משא 3.6 עד 9.9 טון            1.0                     קל  \n",
       "1427662                 רכב נוסעים פרטי            4.0                אין נזק  \n",
       "\n",
       "[1427663 rows x 161 columns]"
      ]
     },
     "execution_count": 2,
     "metadata": {},
     "output_type": "execute_result"
    }
   ],
   "source": [
    "imh = pd.read_csv('./csv_tables/involved_markers_hebrew.csv')\n",
    "imh\n",
    "\n"
   ]
  },
  {
   "cell_type": "markdown",
   "id": "510d522c",
   "metadata": {},
   "source": [
    "### Choosing top cities by value counts"
   ]
  },
  {
   "cell_type": "code",
   "execution_count": 3,
   "id": "71787775",
   "metadata": {},
   "outputs": [
    {
     "data": {
      "text/plain": [
       "['תל אביב -יפו', 'ירושלים', 'חיפה', 'באר שבע', 'ראשון לציון']"
      ]
     },
     "execution_count": 3,
     "metadata": {},
     "output_type": "execute_result"
    }
   ],
   "source": [
    "cities_names = imh.accident_yishuv_name.value_counts().head(5).index.tolist()\n",
    "cities_names"
   ]
  },
  {
   "cell_type": "code",
   "execution_count": 4,
   "id": "1e6d0cc8",
   "metadata": {},
   "outputs": [],
   "source": [
    "BICYCLE = 15\n",
    "SCOOTER = 21\n",
    "KALNOIT = 22\n",
    "E_BICYCLE = 23\n",
    "\n",
    "micro_vehicle = [BICYCLE, SCOOTER, KALNOIT, E_BICYCLE]"
   ]
  },
  {
   "cell_type": "code",
   "execution_count": 5,
   "id": "f992f9cd",
   "metadata": {},
   "outputs": [
    {
     "data": {
      "text/html": [
       "<div>\n",
       "<style scoped>\n",
       "    .dataframe tbody tr th:only-of-type {\n",
       "        vertical-align: middle;\n",
       "    }\n",
       "\n",
       "    .dataframe tbody tr th {\n",
       "        vertical-align: top;\n",
       "    }\n",
       "\n",
       "    .dataframe thead th {\n",
       "        text-align: right;\n",
       "    }\n",
       "</style>\n",
       "<table border=\"1\" class=\"dataframe\">\n",
       "  <thead>\n",
       "    <tr style=\"text-align: right;\">\n",
       "      <th></th>\n",
       "      <th>accident_id</th>\n",
       "      <th>provider_and_id</th>\n",
       "      <th>provider_code</th>\n",
       "      <th>file_type_police</th>\n",
       "      <th>involved_type</th>\n",
       "      <th>involved_type_hebrew</th>\n",
       "      <th>license_acquiring_date</th>\n",
       "      <th>age_group</th>\n",
       "      <th>age_group_hebrew</th>\n",
       "      <th>sex</th>\n",
       "      <th>...</th>\n",
       "      <th>vehicle_status_hebrew</th>\n",
       "      <th>vehicle_attribution</th>\n",
       "      <th>vehicle_attribution_hebrew</th>\n",
       "      <th>seats</th>\n",
       "      <th>total_weight</th>\n",
       "      <th>total_weight_hebrew</th>\n",
       "      <th>vehicle_vehicle_type</th>\n",
       "      <th>vehicle_vehicle_type_hebrew</th>\n",
       "      <th>vehicle_damage</th>\n",
       "      <th>vehicle_damage_hebrew</th>\n",
       "    </tr>\n",
       "  </thead>\n",
       "  <tbody>\n",
       "    <tr>\n",
       "      <th>159</th>\n",
       "      <td>2013001368</td>\n",
       "      <td>32013001368</td>\n",
       "      <td>3</td>\n",
       "      <td>3</td>\n",
       "      <td>2</td>\n",
       "      <td>נהג נפגע</td>\n",
       "      <td>0</td>\n",
       "      <td>6</td>\n",
       "      <td>25-29</td>\n",
       "      <td>1</td>\n",
       "      <td>...</td>\n",
       "      <td>NaN</td>\n",
       "      <td>1.0</td>\n",
       "      <td>ישראלי</td>\n",
       "      <td>99.0</td>\n",
       "      <td>0.0</td>\n",
       "      <td>לא ידוע</td>\n",
       "      <td>15.0</td>\n",
       "      <td>אופניים</td>\n",
       "      <td>4.0</td>\n",
       "      <td>אין נזק</td>\n",
       "    </tr>\n",
       "    <tr>\n",
       "      <th>233</th>\n",
       "      <td>2013001670</td>\n",
       "      <td>12013001670</td>\n",
       "      <td>1</td>\n",
       "      <td>1</td>\n",
       "      <td>2</td>\n",
       "      <td>נהג נפגע</td>\n",
       "      <td>0</td>\n",
       "      <td>8</td>\n",
       "      <td>35-39</td>\n",
       "      <td>1</td>\n",
       "      <td>...</td>\n",
       "      <td>NaN</td>\n",
       "      <td>1.0</td>\n",
       "      <td>ישראלי</td>\n",
       "      <td>99.0</td>\n",
       "      <td>0.0</td>\n",
       "      <td>לא ידוע</td>\n",
       "      <td>15.0</td>\n",
       "      <td>אופניים</td>\n",
       "      <td>1.0</td>\n",
       "      <td>קל</td>\n",
       "    </tr>\n",
       "    <tr>\n",
       "      <th>812</th>\n",
       "      <td>2013001742</td>\n",
       "      <td>32013001742</td>\n",
       "      <td>3</td>\n",
       "      <td>3</td>\n",
       "      <td>2</td>\n",
       "      <td>נהג נפגע</td>\n",
       "      <td>0</td>\n",
       "      <td>7</td>\n",
       "      <td>30-34</td>\n",
       "      <td>2</td>\n",
       "      <td>...</td>\n",
       "      <td>NaN</td>\n",
       "      <td>1.0</td>\n",
       "      <td>ישראלי</td>\n",
       "      <td>99.0</td>\n",
       "      <td>0.0</td>\n",
       "      <td>לא ידוע</td>\n",
       "      <td>15.0</td>\n",
       "      <td>אופניים</td>\n",
       "      <td>4.0</td>\n",
       "      <td>אין נזק</td>\n",
       "    </tr>\n",
       "    <tr>\n",
       "      <th>963</th>\n",
       "      <td>2013001350</td>\n",
       "      <td>12013001350</td>\n",
       "      <td>1</td>\n",
       "      <td>1</td>\n",
       "      <td>2</td>\n",
       "      <td>נהג נפגע</td>\n",
       "      <td>0</td>\n",
       "      <td>5</td>\n",
       "      <td>20-24</td>\n",
       "      <td>1</td>\n",
       "      <td>...</td>\n",
       "      <td>NaN</td>\n",
       "      <td>1.0</td>\n",
       "      <td>ישראלי</td>\n",
       "      <td>99.0</td>\n",
       "      <td>0.0</td>\n",
       "      <td>לא ידוע</td>\n",
       "      <td>15.0</td>\n",
       "      <td>אופניים</td>\n",
       "      <td>4.0</td>\n",
       "      <td>אין נזק</td>\n",
       "    </tr>\n",
       "    <tr>\n",
       "      <th>1119</th>\n",
       "      <td>2013001145</td>\n",
       "      <td>32013001145</td>\n",
       "      <td>3</td>\n",
       "      <td>3</td>\n",
       "      <td>2</td>\n",
       "      <td>נהג נפגע</td>\n",
       "      <td>0</td>\n",
       "      <td>3</td>\n",
       "      <td>10-14</td>\n",
       "      <td>1</td>\n",
       "      <td>...</td>\n",
       "      <td>NaN</td>\n",
       "      <td>1.0</td>\n",
       "      <td>ישראלי</td>\n",
       "      <td>99.0</td>\n",
       "      <td>0.0</td>\n",
       "      <td>לא ידוע</td>\n",
       "      <td>15.0</td>\n",
       "      <td>אופניים</td>\n",
       "      <td>4.0</td>\n",
       "      <td>אין נזק</td>\n",
       "    </tr>\n",
       "    <tr>\n",
       "      <th>...</th>\n",
       "      <td>...</td>\n",
       "      <td>...</td>\n",
       "      <td>...</td>\n",
       "      <td>...</td>\n",
       "      <td>...</td>\n",
       "      <td>...</td>\n",
       "      <td>...</td>\n",
       "      <td>...</td>\n",
       "      <td>...</td>\n",
       "      <td>...</td>\n",
       "      <td>...</td>\n",
       "      <td>...</td>\n",
       "      <td>...</td>\n",
       "      <td>...</td>\n",
       "      <td>...</td>\n",
       "      <td>...</td>\n",
       "      <td>...</td>\n",
       "      <td>...</td>\n",
       "      <td>...</td>\n",
       "      <td>...</td>\n",
       "      <td>...</td>\n",
       "    </tr>\n",
       "    <tr>\n",
       "      <th>1426880</th>\n",
       "      <td>2023099834</td>\n",
       "      <td>32023099834</td>\n",
       "      <td>3</td>\n",
       "      <td>3</td>\n",
       "      <td>2</td>\n",
       "      <td>נהג נפגע</td>\n",
       "      <td>1992</td>\n",
       "      <td>12</td>\n",
       "      <td>55-59</td>\n",
       "      <td>1</td>\n",
       "      <td>...</td>\n",
       "      <td>NaN</td>\n",
       "      <td>1.0</td>\n",
       "      <td>ישראלי</td>\n",
       "      <td>99.0</td>\n",
       "      <td>0.0</td>\n",
       "      <td>לא ידוע</td>\n",
       "      <td>21.0</td>\n",
       "      <td>קורקינט חשמלי</td>\n",
       "      <td>4.0</td>\n",
       "      <td>אין נזק</td>\n",
       "    </tr>\n",
       "    <tr>\n",
       "      <th>1426910</th>\n",
       "      <td>2023097745</td>\n",
       "      <td>12023097745</td>\n",
       "      <td>1</td>\n",
       "      <td>1</td>\n",
       "      <td>2</td>\n",
       "      <td>נהג נפגע</td>\n",
       "      <td>0</td>\n",
       "      <td>3</td>\n",
       "      <td>10-14</td>\n",
       "      <td>1</td>\n",
       "      <td>...</td>\n",
       "      <td>NaN</td>\n",
       "      <td>1.0</td>\n",
       "      <td>ישראלי</td>\n",
       "      <td>99.0</td>\n",
       "      <td>0.0</td>\n",
       "      <td>לא ידוע</td>\n",
       "      <td>21.0</td>\n",
       "      <td>קורקינט חשמלי</td>\n",
       "      <td>1.0</td>\n",
       "      <td>קל</td>\n",
       "    </tr>\n",
       "    <tr>\n",
       "      <th>1427130</th>\n",
       "      <td>2023098641</td>\n",
       "      <td>12023098641</td>\n",
       "      <td>1</td>\n",
       "      <td>1</td>\n",
       "      <td>1</td>\n",
       "      <td>נהג</td>\n",
       "      <td>0</td>\n",
       "      <td>6</td>\n",
       "      <td>25-29</td>\n",
       "      <td>1</td>\n",
       "      <td>...</td>\n",
       "      <td>NaN</td>\n",
       "      <td>1.0</td>\n",
       "      <td>ישראלי</td>\n",
       "      <td>99.0</td>\n",
       "      <td>0.0</td>\n",
       "      <td>לא ידוע</td>\n",
       "      <td>23.0</td>\n",
       "      <td>אופניים חשמליים</td>\n",
       "      <td>1.0</td>\n",
       "      <td>קל</td>\n",
       "    </tr>\n",
       "    <tr>\n",
       "      <th>1427315</th>\n",
       "      <td>2023097999</td>\n",
       "      <td>32023097999</td>\n",
       "      <td>3</td>\n",
       "      <td>3</td>\n",
       "      <td>2</td>\n",
       "      <td>נהג נפגע</td>\n",
       "      <td>0</td>\n",
       "      <td>99</td>\n",
       "      <td>לא ידוע</td>\n",
       "      <td>0</td>\n",
       "      <td>...</td>\n",
       "      <td>NaN</td>\n",
       "      <td>1.0</td>\n",
       "      <td>ישראלי</td>\n",
       "      <td>99.0</td>\n",
       "      <td>0.0</td>\n",
       "      <td>לא ידוע</td>\n",
       "      <td>21.0</td>\n",
       "      <td>קורקינט חשמלי</td>\n",
       "      <td>1.0</td>\n",
       "      <td>קל</td>\n",
       "    </tr>\n",
       "    <tr>\n",
       "      <th>1427517</th>\n",
       "      <td>2023098397</td>\n",
       "      <td>32023098397</td>\n",
       "      <td>3</td>\n",
       "      <td>3</td>\n",
       "      <td>2</td>\n",
       "      <td>נהג נפגע</td>\n",
       "      <td>0</td>\n",
       "      <td>8</td>\n",
       "      <td>35-39</td>\n",
       "      <td>1</td>\n",
       "      <td>...</td>\n",
       "      <td>NaN</td>\n",
       "      <td>1.0</td>\n",
       "      <td>ישראלי</td>\n",
       "      <td>99.0</td>\n",
       "      <td>0.0</td>\n",
       "      <td>לא ידוע</td>\n",
       "      <td>21.0</td>\n",
       "      <td>קורקינט חשמלי</td>\n",
       "      <td>4.0</td>\n",
       "      <td>אין נזק</td>\n",
       "    </tr>\n",
       "  </tbody>\n",
       "</table>\n",
       "<p>12880 rows × 161 columns</p>\n",
       "</div>"
      ],
      "text/plain": [
       "         accident_id  provider_and_id  provider_code  file_type_police  \\\n",
       "159       2013001368      32013001368              3                 3   \n",
       "233       2013001670      12013001670              1                 1   \n",
       "812       2013001742      32013001742              3                 3   \n",
       "963       2013001350      12013001350              1                 1   \n",
       "1119      2013001145      32013001145              3                 3   \n",
       "...              ...              ...            ...               ...   \n",
       "1426880   2023099834      32023099834              3                 3   \n",
       "1426910   2023097745      12023097745              1                 1   \n",
       "1427130   2023098641      12023098641              1                 1   \n",
       "1427315   2023097999      32023097999              3                 3   \n",
       "1427517   2023098397      32023098397              3                 3   \n",
       "\n",
       "         involved_type involved_type_hebrew  license_acquiring_date  \\\n",
       "159                  2             נהג נפגע                       0   \n",
       "233                  2             נהג נפגע                       0   \n",
       "812                  2             נהג נפגע                       0   \n",
       "963                  2             נהג נפגע                       0   \n",
       "1119                 2             נהג נפגע                       0   \n",
       "...                ...                  ...                     ...   \n",
       "1426880              2             נהג נפגע                    1992   \n",
       "1426910              2             נהג נפגע                       0   \n",
       "1427130              1                  נהג                       0   \n",
       "1427315              2             נהג נפגע                       0   \n",
       "1427517              2             נהג נפגע                       0   \n",
       "\n",
       "         age_group age_group_hebrew  sex  ... vehicle_status_hebrew  \\\n",
       "159              6            25-29    1  ...                   NaN   \n",
       "233              8            35-39    1  ...                   NaN   \n",
       "812              7            30-34    2  ...                   NaN   \n",
       "963              5            20-24    1  ...                   NaN   \n",
       "1119             3            10-14    1  ...                   NaN   \n",
       "...            ...              ...  ...  ...                   ...   \n",
       "1426880         12            55-59    1  ...                   NaN   \n",
       "1426910          3            10-14    1  ...                   NaN   \n",
       "1427130          6            25-29    1  ...                   NaN   \n",
       "1427315         99          לא ידוע    0  ...                   NaN   \n",
       "1427517          8            35-39    1  ...                   NaN   \n",
       "\n",
       "         vehicle_attribution vehicle_attribution_hebrew  seats total_weight  \\\n",
       "159                      1.0                     ישראלי   99.0          0.0   \n",
       "233                      1.0                     ישראלי   99.0          0.0   \n",
       "812                      1.0                     ישראלי   99.0          0.0   \n",
       "963                      1.0                     ישראלי   99.0          0.0   \n",
       "1119                     1.0                     ישראלי   99.0          0.0   \n",
       "...                      ...                        ...    ...          ...   \n",
       "1426880                  1.0                     ישראלי   99.0          0.0   \n",
       "1426910                  1.0                     ישראלי   99.0          0.0   \n",
       "1427130                  1.0                     ישראלי   99.0          0.0   \n",
       "1427315                  1.0                     ישראלי   99.0          0.0   \n",
       "1427517                  1.0                     ישראלי   99.0          0.0   \n",
       "\n",
       "         total_weight_hebrew vehicle_vehicle_type  \\\n",
       "159                  לא ידוע                 15.0   \n",
       "233                  לא ידוע                 15.0   \n",
       "812                  לא ידוע                 15.0   \n",
       "963                  לא ידוע                 15.0   \n",
       "1119                 לא ידוע                 15.0   \n",
       "...                      ...                  ...   \n",
       "1426880              לא ידוע                 21.0   \n",
       "1426910              לא ידוע                 21.0   \n",
       "1427130              לא ידוע                 23.0   \n",
       "1427315              לא ידוע                 21.0   \n",
       "1427517              לא ידוע                 21.0   \n",
       "\n",
       "         vehicle_vehicle_type_hebrew vehicle_damage  vehicle_damage_hebrew  \n",
       "159                          אופניים            4.0                אין נזק  \n",
       "233                          אופניים            1.0                     קל  \n",
       "812                          אופניים            4.0                אין נזק  \n",
       "963                          אופניים            4.0                אין נזק  \n",
       "1119                         אופניים            4.0                אין נזק  \n",
       "...                              ...            ...                    ...  \n",
       "1426880                קורקינט חשמלי            4.0                אין נזק  \n",
       "1426910                קורקינט חשמלי            1.0                     קל  \n",
       "1427130              אופניים חשמליים            1.0                     קל  \n",
       "1427315                קורקינט חשמלי            1.0                     קל  \n",
       "1427517                קורקינט חשמלי            4.0                אין נזק  \n",
       "\n",
       "[12880 rows x 161 columns]"
      ]
     },
     "execution_count": 5,
     "metadata": {},
     "output_type": "execute_result"
    }
   ],
   "source": [
    "imh_mv = imh[imh.involve_vehicle_type.isin(micro_vehicle)]\n",
    "imh_mv_sc = imh_mv[imh_mv.accident_yishuv_name.isin(cities_names)]\n",
    "imh_mv_sc"
   ]
  },
  {
   "cell_type": "code",
   "execution_count": 6,
   "id": "17175d24",
   "metadata": {},
   "outputs": [
    {
     "data": {
      "text/plain": [
       "תל אביב -יפו    8382\n",
       "ירושלים         2146\n",
       "ראשון לציון     1019\n",
       "באר שבע          703\n",
       "חיפה             630\n",
       "Name: accident_yishuv_name, dtype: int64"
      ]
     },
     "execution_count": 6,
     "metadata": {},
     "output_type": "execute_result"
    }
   ],
   "source": [
    "imh_mv_sc.accident_yishuv_name.value_counts()"
   ]
  },
  {
   "cell_type": "markdown",
   "id": "9e071e53",
   "metadata": {},
   "source": [
    "Lets check micro mobility for cities by years."
   ]
  },
  {
   "cell_type": "code",
   "execution_count": 7,
   "id": "d37257ae",
   "metadata": {},
   "outputs": [
    {
     "data": {
      "text/html": [
       "<div>\n",
       "<style scoped>\n",
       "    .dataframe tbody tr th:only-of-type {\n",
       "        vertical-align: middle;\n",
       "    }\n",
       "\n",
       "    .dataframe tbody tr th {\n",
       "        vertical-align: top;\n",
       "    }\n",
       "\n",
       "    .dataframe thead th {\n",
       "        text-align: right;\n",
       "    }\n",
       "</style>\n",
       "<table border=\"1\" class=\"dataframe\">\n",
       "  <thead>\n",
       "    <tr style=\"text-align: right;\">\n",
       "      <th></th>\n",
       "      <th>accident_year</th>\n",
       "      <th>accident_yishuv_name</th>\n",
       "      <th>count</th>\n",
       "    </tr>\n",
       "  </thead>\n",
       "  <tbody>\n",
       "    <tr>\n",
       "      <th>0</th>\n",
       "      <td>2013</td>\n",
       "      <td>באר שבע</td>\n",
       "      <td>38</td>\n",
       "    </tr>\n",
       "    <tr>\n",
       "      <th>1</th>\n",
       "      <td>2014</td>\n",
       "      <td>באר שבע</td>\n",
       "      <td>49</td>\n",
       "    </tr>\n",
       "    <tr>\n",
       "      <th>2</th>\n",
       "      <td>2015</td>\n",
       "      <td>באר שבע</td>\n",
       "      <td>68</td>\n",
       "    </tr>\n",
       "    <tr>\n",
       "      <th>3</th>\n",
       "      <td>2016</td>\n",
       "      <td>באר שבע</td>\n",
       "      <td>68</td>\n",
       "    </tr>\n",
       "    <tr>\n",
       "      <th>4</th>\n",
       "      <td>2017</td>\n",
       "      <td>באר שבע</td>\n",
       "      <td>57</td>\n",
       "    </tr>\n",
       "    <tr>\n",
       "      <th>5</th>\n",
       "      <td>2018</td>\n",
       "      <td>באר שבע</td>\n",
       "      <td>69</td>\n",
       "    </tr>\n",
       "    <tr>\n",
       "      <th>6</th>\n",
       "      <td>2019</td>\n",
       "      <td>באר שבע</td>\n",
       "      <td>72</td>\n",
       "    </tr>\n",
       "    <tr>\n",
       "      <th>7</th>\n",
       "      <td>2020</td>\n",
       "      <td>באר שבע</td>\n",
       "      <td>44</td>\n",
       "    </tr>\n",
       "    <tr>\n",
       "      <th>8</th>\n",
       "      <td>2021</td>\n",
       "      <td>באר שבע</td>\n",
       "      <td>84</td>\n",
       "    </tr>\n",
       "    <tr>\n",
       "      <th>9</th>\n",
       "      <td>2022</td>\n",
       "      <td>באר שבע</td>\n",
       "      <td>82</td>\n",
       "    </tr>\n",
       "    <tr>\n",
       "      <th>10</th>\n",
       "      <td>2023</td>\n",
       "      <td>באר שבע</td>\n",
       "      <td>72</td>\n",
       "    </tr>\n",
       "    <tr>\n",
       "      <th>11</th>\n",
       "      <td>2013</td>\n",
       "      <td>חיפה</td>\n",
       "      <td>45</td>\n",
       "    </tr>\n",
       "    <tr>\n",
       "      <th>12</th>\n",
       "      <td>2014</td>\n",
       "      <td>חיפה</td>\n",
       "      <td>45</td>\n",
       "    </tr>\n",
       "    <tr>\n",
       "      <th>13</th>\n",
       "      <td>2015</td>\n",
       "      <td>חיפה</td>\n",
       "      <td>61</td>\n",
       "    </tr>\n",
       "    <tr>\n",
       "      <th>14</th>\n",
       "      <td>2016</td>\n",
       "      <td>חיפה</td>\n",
       "      <td>67</td>\n",
       "    </tr>\n",
       "    <tr>\n",
       "      <th>15</th>\n",
       "      <td>2017</td>\n",
       "      <td>חיפה</td>\n",
       "      <td>68</td>\n",
       "    </tr>\n",
       "    <tr>\n",
       "      <th>16</th>\n",
       "      <td>2018</td>\n",
       "      <td>חיפה</td>\n",
       "      <td>60</td>\n",
       "    </tr>\n",
       "    <tr>\n",
       "      <th>17</th>\n",
       "      <td>2019</td>\n",
       "      <td>חיפה</td>\n",
       "      <td>67</td>\n",
       "    </tr>\n",
       "    <tr>\n",
       "      <th>18</th>\n",
       "      <td>2020</td>\n",
       "      <td>חיפה</td>\n",
       "      <td>50</td>\n",
       "    </tr>\n",
       "    <tr>\n",
       "      <th>19</th>\n",
       "      <td>2021</td>\n",
       "      <td>חיפה</td>\n",
       "      <td>57</td>\n",
       "    </tr>\n",
       "    <tr>\n",
       "      <th>20</th>\n",
       "      <td>2022</td>\n",
       "      <td>חיפה</td>\n",
       "      <td>60</td>\n",
       "    </tr>\n",
       "    <tr>\n",
       "      <th>21</th>\n",
       "      <td>2023</td>\n",
       "      <td>חיפה</td>\n",
       "      <td>50</td>\n",
       "    </tr>\n",
       "    <tr>\n",
       "      <th>22</th>\n",
       "      <td>2013</td>\n",
       "      <td>ירושלים</td>\n",
       "      <td>140</td>\n",
       "    </tr>\n",
       "    <tr>\n",
       "      <th>23</th>\n",
       "      <td>2014</td>\n",
       "      <td>ירושלים</td>\n",
       "      <td>153</td>\n",
       "    </tr>\n",
       "    <tr>\n",
       "      <th>24</th>\n",
       "      <td>2015</td>\n",
       "      <td>ירושלים</td>\n",
       "      <td>169</td>\n",
       "    </tr>\n",
       "    <tr>\n",
       "      <th>25</th>\n",
       "      <td>2016</td>\n",
       "      <td>ירושלים</td>\n",
       "      <td>189</td>\n",
       "    </tr>\n",
       "    <tr>\n",
       "      <th>26</th>\n",
       "      <td>2017</td>\n",
       "      <td>ירושלים</td>\n",
       "      <td>236</td>\n",
       "    </tr>\n",
       "    <tr>\n",
       "      <th>27</th>\n",
       "      <td>2018</td>\n",
       "      <td>ירושלים</td>\n",
       "      <td>289</td>\n",
       "    </tr>\n",
       "    <tr>\n",
       "      <th>28</th>\n",
       "      <td>2019</td>\n",
       "      <td>ירושלים</td>\n",
       "      <td>243</td>\n",
       "    </tr>\n",
       "    <tr>\n",
       "      <th>29</th>\n",
       "      <td>2020</td>\n",
       "      <td>ירושלים</td>\n",
       "      <td>178</td>\n",
       "    </tr>\n",
       "    <tr>\n",
       "      <th>30</th>\n",
       "      <td>2021</td>\n",
       "      <td>ירושלים</td>\n",
       "      <td>196</td>\n",
       "    </tr>\n",
       "    <tr>\n",
       "      <th>31</th>\n",
       "      <td>2022</td>\n",
       "      <td>ירושלים</td>\n",
       "      <td>201</td>\n",
       "    </tr>\n",
       "    <tr>\n",
       "      <th>32</th>\n",
       "      <td>2023</td>\n",
       "      <td>ירושלים</td>\n",
       "      <td>152</td>\n",
       "    </tr>\n",
       "    <tr>\n",
       "      <th>33</th>\n",
       "      <td>2013</td>\n",
       "      <td>ראשון לציון</td>\n",
       "      <td>56</td>\n",
       "    </tr>\n",
       "    <tr>\n",
       "      <th>34</th>\n",
       "      <td>2014</td>\n",
       "      <td>ראשון לציון</td>\n",
       "      <td>89</td>\n",
       "    </tr>\n",
       "    <tr>\n",
       "      <th>35</th>\n",
       "      <td>2015</td>\n",
       "      <td>ראשון לציון</td>\n",
       "      <td>103</td>\n",
       "    </tr>\n",
       "    <tr>\n",
       "      <th>36</th>\n",
       "      <td>2016</td>\n",
       "      <td>ראשון לציון</td>\n",
       "      <td>81</td>\n",
       "    </tr>\n",
       "    <tr>\n",
       "      <th>37</th>\n",
       "      <td>2017</td>\n",
       "      <td>ראשון לציון</td>\n",
       "      <td>105</td>\n",
       "    </tr>\n",
       "    <tr>\n",
       "      <th>38</th>\n",
       "      <td>2018</td>\n",
       "      <td>ראשון לציון</td>\n",
       "      <td>90</td>\n",
       "    </tr>\n",
       "    <tr>\n",
       "      <th>39</th>\n",
       "      <td>2019</td>\n",
       "      <td>ראשון לציון</td>\n",
       "      <td>88</td>\n",
       "    </tr>\n",
       "    <tr>\n",
       "      <th>40</th>\n",
       "      <td>2020</td>\n",
       "      <td>ראשון לציון</td>\n",
       "      <td>72</td>\n",
       "    </tr>\n",
       "    <tr>\n",
       "      <th>41</th>\n",
       "      <td>2021</td>\n",
       "      <td>ראשון לציון</td>\n",
       "      <td>122</td>\n",
       "    </tr>\n",
       "    <tr>\n",
       "      <th>42</th>\n",
       "      <td>2022</td>\n",
       "      <td>ראשון לציון</td>\n",
       "      <td>122</td>\n",
       "    </tr>\n",
       "    <tr>\n",
       "      <th>43</th>\n",
       "      <td>2023</td>\n",
       "      <td>ראשון לציון</td>\n",
       "      <td>91</td>\n",
       "    </tr>\n",
       "    <tr>\n",
       "      <th>44</th>\n",
       "      <td>2013</td>\n",
       "      <td>תל אביב -יפו</td>\n",
       "      <td>502</td>\n",
       "    </tr>\n",
       "    <tr>\n",
       "      <th>45</th>\n",
       "      <td>2014</td>\n",
       "      <td>תל אביב -יפו</td>\n",
       "      <td>661</td>\n",
       "    </tr>\n",
       "    <tr>\n",
       "      <th>46</th>\n",
       "      <td>2015</td>\n",
       "      <td>תל אביב -יפו</td>\n",
       "      <td>683</td>\n",
       "    </tr>\n",
       "    <tr>\n",
       "      <th>47</th>\n",
       "      <td>2016</td>\n",
       "      <td>תל אביב -יפו</td>\n",
       "      <td>813</td>\n",
       "    </tr>\n",
       "    <tr>\n",
       "      <th>48</th>\n",
       "      <td>2017</td>\n",
       "      <td>תל אביב -יפו</td>\n",
       "      <td>849</td>\n",
       "    </tr>\n",
       "    <tr>\n",
       "      <th>49</th>\n",
       "      <td>2018</td>\n",
       "      <td>תל אביב -יפו</td>\n",
       "      <td>746</td>\n",
       "    </tr>\n",
       "    <tr>\n",
       "      <th>50</th>\n",
       "      <td>2019</td>\n",
       "      <td>תל אביב -יפו</td>\n",
       "      <td>818</td>\n",
       "    </tr>\n",
       "    <tr>\n",
       "      <th>51</th>\n",
       "      <td>2020</td>\n",
       "      <td>תל אביב -יפו</td>\n",
       "      <td>841</td>\n",
       "    </tr>\n",
       "    <tr>\n",
       "      <th>52</th>\n",
       "      <td>2021</td>\n",
       "      <td>תל אביב -יפו</td>\n",
       "      <td>905</td>\n",
       "    </tr>\n",
       "    <tr>\n",
       "      <th>53</th>\n",
       "      <td>2022</td>\n",
       "      <td>תל אביב -יפו</td>\n",
       "      <td>936</td>\n",
       "    </tr>\n",
       "    <tr>\n",
       "      <th>54</th>\n",
       "      <td>2023</td>\n",
       "      <td>תל אביב -יפו</td>\n",
       "      <td>628</td>\n",
       "    </tr>\n",
       "  </tbody>\n",
       "</table>\n",
       "</div>"
      ],
      "text/plain": [
       "    accident_year accident_yishuv_name  count\n",
       "0            2013              באר שבע     38\n",
       "1            2014              באר שבע     49\n",
       "2            2015              באר שבע     68\n",
       "3            2016              באר שבע     68\n",
       "4            2017              באר שבע     57\n",
       "5            2018              באר שבע     69\n",
       "6            2019              באר שבע     72\n",
       "7            2020              באר שבע     44\n",
       "8            2021              באר שבע     84\n",
       "9            2022              באר שבע     82\n",
       "10           2023              באר שבע     72\n",
       "11           2013                 חיפה     45\n",
       "12           2014                 חיפה     45\n",
       "13           2015                 חיפה     61\n",
       "14           2016                 חיפה     67\n",
       "15           2017                 חיפה     68\n",
       "16           2018                 חיפה     60\n",
       "17           2019                 חיפה     67\n",
       "18           2020                 חיפה     50\n",
       "19           2021                 חיפה     57\n",
       "20           2022                 חיפה     60\n",
       "21           2023                 חיפה     50\n",
       "22           2013              ירושלים    140\n",
       "23           2014              ירושלים    153\n",
       "24           2015              ירושלים    169\n",
       "25           2016              ירושלים    189\n",
       "26           2017              ירושלים    236\n",
       "27           2018              ירושלים    289\n",
       "28           2019              ירושלים    243\n",
       "29           2020              ירושלים    178\n",
       "30           2021              ירושלים    196\n",
       "31           2022              ירושלים    201\n",
       "32           2023              ירושלים    152\n",
       "33           2013          ראשון לציון     56\n",
       "34           2014          ראשון לציון     89\n",
       "35           2015          ראשון לציון    103\n",
       "36           2016          ראשון לציון     81\n",
       "37           2017          ראשון לציון    105\n",
       "38           2018          ראשון לציון     90\n",
       "39           2019          ראשון לציון     88\n",
       "40           2020          ראשון לציון     72\n",
       "41           2021          ראשון לציון    122\n",
       "42           2022          ראשון לציון    122\n",
       "43           2023          ראשון לציון     91\n",
       "44           2013         תל אביב -יפו    502\n",
       "45           2014         תל אביב -יפו    661\n",
       "46           2015         תל אביב -יפו    683\n",
       "47           2016         תל אביב -יפו    813\n",
       "48           2017         תל אביב -יפו    849\n",
       "49           2018         תל אביב -יפו    746\n",
       "50           2019         תל אביב -יפו    818\n",
       "51           2020         תל אביב -יפו    841\n",
       "52           2021         תל אביב -יפו    905\n",
       "53           2022         תל אביב -יפו    936\n",
       "54           2023         תל אביב -יפו    628"
      ]
     },
     "execution_count": 7,
     "metadata": {},
     "output_type": "execute_result"
    }
   ],
   "source": [
    "imh_mv_sc_gb = imh_mv_sc.groupby(['accident_year', 'accident_yishuv_name']).size().reset_index(name='count')\n",
    "imh_mv_sc_pv = imh_mv_sc_gb.pivot(index='accident_year', columns='accident_yishuv_name', values='count').reset_index()\n",
    "imh_mv_sc_long = imh_mv_sc_pv.melt(id_vars='accident_year', var_name='accident_yishuv_name', value_name='count')\n",
    "\n",
    "imh_mv_sc_long"
   ]
  },
  {
   "cell_type": "code",
   "execution_count": 8,
   "id": "e400176e",
   "metadata": {},
   "outputs": [
    {
     "data": {
      "application/vnd.plotly.v1+json": {
       "config": {
        "plotlyServerURL": "https://plot.ly"
       },
       "data": [
        {
         "hovertemplate": "City Name=באר שבע<br>Accident Year=%{x}<br>Count=%{y}<extra></extra>",
         "legendgroup": "באר שבע",
         "line": {
          "color": "#636efa",
          "dash": "solid"
         },
         "marker": {
          "symbol": "circle"
         },
         "mode": "lines",
         "name": "באר שבע",
         "orientation": "v",
         "showlegend": true,
         "type": "scatter",
         "x": [
          2013,
          2014,
          2015,
          2016,
          2017,
          2018,
          2019,
          2020,
          2021,
          2022,
          2023
         ],
         "xaxis": "x",
         "y": [
          38,
          49,
          68,
          68,
          57,
          69,
          72,
          44,
          84,
          82,
          72
         ],
         "yaxis": "y"
        },
        {
         "hovertemplate": "City Name=חיפה<br>Accident Year=%{x}<br>Count=%{y}<extra></extra>",
         "legendgroup": "חיפה",
         "line": {
          "color": "#EF553B",
          "dash": "solid"
         },
         "marker": {
          "symbol": "circle"
         },
         "mode": "lines",
         "name": "חיפה",
         "orientation": "v",
         "showlegend": true,
         "type": "scatter",
         "x": [
          2013,
          2014,
          2015,
          2016,
          2017,
          2018,
          2019,
          2020,
          2021,
          2022,
          2023
         ],
         "xaxis": "x",
         "y": [
          45,
          45,
          61,
          67,
          68,
          60,
          67,
          50,
          57,
          60,
          50
         ],
         "yaxis": "y"
        },
        {
         "hovertemplate": "City Name=ירושלים<br>Accident Year=%{x}<br>Count=%{y}<extra></extra>",
         "legendgroup": "ירושלים",
         "line": {
          "color": "#00cc96",
          "dash": "solid"
         },
         "marker": {
          "symbol": "circle"
         },
         "mode": "lines",
         "name": "ירושלים",
         "orientation": "v",
         "showlegend": true,
         "type": "scatter",
         "x": [
          2013,
          2014,
          2015,
          2016,
          2017,
          2018,
          2019,
          2020,
          2021,
          2022,
          2023
         ],
         "xaxis": "x",
         "y": [
          140,
          153,
          169,
          189,
          236,
          289,
          243,
          178,
          196,
          201,
          152
         ],
         "yaxis": "y"
        },
        {
         "hovertemplate": "City Name=ראשון לציון<br>Accident Year=%{x}<br>Count=%{y}<extra></extra>",
         "legendgroup": "ראשון לציון",
         "line": {
          "color": "#ab63fa",
          "dash": "solid"
         },
         "marker": {
          "symbol": "circle"
         },
         "mode": "lines",
         "name": "ראשון לציון",
         "orientation": "v",
         "showlegend": true,
         "type": "scatter",
         "x": [
          2013,
          2014,
          2015,
          2016,
          2017,
          2018,
          2019,
          2020,
          2021,
          2022,
          2023
         ],
         "xaxis": "x",
         "y": [
          56,
          89,
          103,
          81,
          105,
          90,
          88,
          72,
          122,
          122,
          91
         ],
         "yaxis": "y"
        },
        {
         "hovertemplate": "City Name=תל אביב -יפו<br>Accident Year=%{x}<br>Count=%{y}<extra></extra>",
         "legendgroup": "תל אביב -יפו",
         "line": {
          "color": "#FFA15A",
          "dash": "solid"
         },
         "marker": {
          "symbol": "circle"
         },
         "mode": "lines",
         "name": "תל אביב -יפו",
         "orientation": "v",
         "showlegend": true,
         "type": "scatter",
         "x": [
          2013,
          2014,
          2015,
          2016,
          2017,
          2018,
          2019,
          2020,
          2021,
          2022,
          2023
         ],
         "xaxis": "x",
         "y": [
          502,
          661,
          683,
          813,
          849,
          746,
          818,
          841,
          905,
          936,
          628
         ],
         "yaxis": "y"
        }
       ],
       "layout": {
        "legend": {
         "title": {
          "text": "City Name"
         },
         "tracegroupgap": 0
        },
        "template": {
         "data": {
          "bar": [
           {
            "error_x": {
             "color": "#2a3f5f"
            },
            "error_y": {
             "color": "#2a3f5f"
            },
            "marker": {
             "line": {
              "color": "#E5ECF6",
              "width": 0.5
             },
             "pattern": {
              "fillmode": "overlay",
              "size": 10,
              "solidity": 0.2
             }
            },
            "type": "bar"
           }
          ],
          "barpolar": [
           {
            "marker": {
             "line": {
              "color": "#E5ECF6",
              "width": 0.5
             },
             "pattern": {
              "fillmode": "overlay",
              "size": 10,
              "solidity": 0.2
             }
            },
            "type": "barpolar"
           }
          ],
          "carpet": [
           {
            "aaxis": {
             "endlinecolor": "#2a3f5f",
             "gridcolor": "white",
             "linecolor": "white",
             "minorgridcolor": "white",
             "startlinecolor": "#2a3f5f"
            },
            "baxis": {
             "endlinecolor": "#2a3f5f",
             "gridcolor": "white",
             "linecolor": "white",
             "minorgridcolor": "white",
             "startlinecolor": "#2a3f5f"
            },
            "type": "carpet"
           }
          ],
          "choropleth": [
           {
            "colorbar": {
             "outlinewidth": 0,
             "ticks": ""
            },
            "type": "choropleth"
           }
          ],
          "contour": [
           {
            "colorbar": {
             "outlinewidth": 0,
             "ticks": ""
            },
            "colorscale": [
             [
              0,
              "#0d0887"
             ],
             [
              0.1111111111111111,
              "#46039f"
             ],
             [
              0.2222222222222222,
              "#7201a8"
             ],
             [
              0.3333333333333333,
              "#9c179e"
             ],
             [
              0.4444444444444444,
              "#bd3786"
             ],
             [
              0.5555555555555556,
              "#d8576b"
             ],
             [
              0.6666666666666666,
              "#ed7953"
             ],
             [
              0.7777777777777778,
              "#fb9f3a"
             ],
             [
              0.8888888888888888,
              "#fdca26"
             ],
             [
              1,
              "#f0f921"
             ]
            ],
            "type": "contour"
           }
          ],
          "contourcarpet": [
           {
            "colorbar": {
             "outlinewidth": 0,
             "ticks": ""
            },
            "type": "contourcarpet"
           }
          ],
          "heatmap": [
           {
            "colorbar": {
             "outlinewidth": 0,
             "ticks": ""
            },
            "colorscale": [
             [
              0,
              "#0d0887"
             ],
             [
              0.1111111111111111,
              "#46039f"
             ],
             [
              0.2222222222222222,
              "#7201a8"
             ],
             [
              0.3333333333333333,
              "#9c179e"
             ],
             [
              0.4444444444444444,
              "#bd3786"
             ],
             [
              0.5555555555555556,
              "#d8576b"
             ],
             [
              0.6666666666666666,
              "#ed7953"
             ],
             [
              0.7777777777777778,
              "#fb9f3a"
             ],
             [
              0.8888888888888888,
              "#fdca26"
             ],
             [
              1,
              "#f0f921"
             ]
            ],
            "type": "heatmap"
           }
          ],
          "heatmapgl": [
           {
            "colorbar": {
             "outlinewidth": 0,
             "ticks": ""
            },
            "colorscale": [
             [
              0,
              "#0d0887"
             ],
             [
              0.1111111111111111,
              "#46039f"
             ],
             [
              0.2222222222222222,
              "#7201a8"
             ],
             [
              0.3333333333333333,
              "#9c179e"
             ],
             [
              0.4444444444444444,
              "#bd3786"
             ],
             [
              0.5555555555555556,
              "#d8576b"
             ],
             [
              0.6666666666666666,
              "#ed7953"
             ],
             [
              0.7777777777777778,
              "#fb9f3a"
             ],
             [
              0.8888888888888888,
              "#fdca26"
             ],
             [
              1,
              "#f0f921"
             ]
            ],
            "type": "heatmapgl"
           }
          ],
          "histogram": [
           {
            "marker": {
             "pattern": {
              "fillmode": "overlay",
              "size": 10,
              "solidity": 0.2
             }
            },
            "type": "histogram"
           }
          ],
          "histogram2d": [
           {
            "colorbar": {
             "outlinewidth": 0,
             "ticks": ""
            },
            "colorscale": [
             [
              0,
              "#0d0887"
             ],
             [
              0.1111111111111111,
              "#46039f"
             ],
             [
              0.2222222222222222,
              "#7201a8"
             ],
             [
              0.3333333333333333,
              "#9c179e"
             ],
             [
              0.4444444444444444,
              "#bd3786"
             ],
             [
              0.5555555555555556,
              "#d8576b"
             ],
             [
              0.6666666666666666,
              "#ed7953"
             ],
             [
              0.7777777777777778,
              "#fb9f3a"
             ],
             [
              0.8888888888888888,
              "#fdca26"
             ],
             [
              1,
              "#f0f921"
             ]
            ],
            "type": "histogram2d"
           }
          ],
          "histogram2dcontour": [
           {
            "colorbar": {
             "outlinewidth": 0,
             "ticks": ""
            },
            "colorscale": [
             [
              0,
              "#0d0887"
             ],
             [
              0.1111111111111111,
              "#46039f"
             ],
             [
              0.2222222222222222,
              "#7201a8"
             ],
             [
              0.3333333333333333,
              "#9c179e"
             ],
             [
              0.4444444444444444,
              "#bd3786"
             ],
             [
              0.5555555555555556,
              "#d8576b"
             ],
             [
              0.6666666666666666,
              "#ed7953"
             ],
             [
              0.7777777777777778,
              "#fb9f3a"
             ],
             [
              0.8888888888888888,
              "#fdca26"
             ],
             [
              1,
              "#f0f921"
             ]
            ],
            "type": "histogram2dcontour"
           }
          ],
          "mesh3d": [
           {
            "colorbar": {
             "outlinewidth": 0,
             "ticks": ""
            },
            "type": "mesh3d"
           }
          ],
          "parcoords": [
           {
            "line": {
             "colorbar": {
              "outlinewidth": 0,
              "ticks": ""
             }
            },
            "type": "parcoords"
           }
          ],
          "pie": [
           {
            "automargin": true,
            "type": "pie"
           }
          ],
          "scatter": [
           {
            "fillpattern": {
             "fillmode": "overlay",
             "size": 10,
             "solidity": 0.2
            },
            "type": "scatter"
           }
          ],
          "scatter3d": [
           {
            "line": {
             "colorbar": {
              "outlinewidth": 0,
              "ticks": ""
             }
            },
            "marker": {
             "colorbar": {
              "outlinewidth": 0,
              "ticks": ""
             }
            },
            "type": "scatter3d"
           }
          ],
          "scattercarpet": [
           {
            "marker": {
             "colorbar": {
              "outlinewidth": 0,
              "ticks": ""
             }
            },
            "type": "scattercarpet"
           }
          ],
          "scattergeo": [
           {
            "marker": {
             "colorbar": {
              "outlinewidth": 0,
              "ticks": ""
             }
            },
            "type": "scattergeo"
           }
          ],
          "scattergl": [
           {
            "marker": {
             "colorbar": {
              "outlinewidth": 0,
              "ticks": ""
             }
            },
            "type": "scattergl"
           }
          ],
          "scattermapbox": [
           {
            "marker": {
             "colorbar": {
              "outlinewidth": 0,
              "ticks": ""
             }
            },
            "type": "scattermapbox"
           }
          ],
          "scatterpolar": [
           {
            "marker": {
             "colorbar": {
              "outlinewidth": 0,
              "ticks": ""
             }
            },
            "type": "scatterpolar"
           }
          ],
          "scatterpolargl": [
           {
            "marker": {
             "colorbar": {
              "outlinewidth": 0,
              "ticks": ""
             }
            },
            "type": "scatterpolargl"
           }
          ],
          "scatterternary": [
           {
            "marker": {
             "colorbar": {
              "outlinewidth": 0,
              "ticks": ""
             }
            },
            "type": "scatterternary"
           }
          ],
          "surface": [
           {
            "colorbar": {
             "outlinewidth": 0,
             "ticks": ""
            },
            "colorscale": [
             [
              0,
              "#0d0887"
             ],
             [
              0.1111111111111111,
              "#46039f"
             ],
             [
              0.2222222222222222,
              "#7201a8"
             ],
             [
              0.3333333333333333,
              "#9c179e"
             ],
             [
              0.4444444444444444,
              "#bd3786"
             ],
             [
              0.5555555555555556,
              "#d8576b"
             ],
             [
              0.6666666666666666,
              "#ed7953"
             ],
             [
              0.7777777777777778,
              "#fb9f3a"
             ],
             [
              0.8888888888888888,
              "#fdca26"
             ],
             [
              1,
              "#f0f921"
             ]
            ],
            "type": "surface"
           }
          ],
          "table": [
           {
            "cells": {
             "fill": {
              "color": "#EBF0F8"
             },
             "line": {
              "color": "white"
             }
            },
            "header": {
             "fill": {
              "color": "#C8D4E3"
             },
             "line": {
              "color": "white"
             }
            },
            "type": "table"
           }
          ]
         },
         "layout": {
          "annotationdefaults": {
           "arrowcolor": "#2a3f5f",
           "arrowhead": 0,
           "arrowwidth": 1
          },
          "autotypenumbers": "strict",
          "coloraxis": {
           "colorbar": {
            "outlinewidth": 0,
            "ticks": ""
           }
          },
          "colorscale": {
           "diverging": [
            [
             0,
             "#8e0152"
            ],
            [
             0.1,
             "#c51b7d"
            ],
            [
             0.2,
             "#de77ae"
            ],
            [
             0.3,
             "#f1b6da"
            ],
            [
             0.4,
             "#fde0ef"
            ],
            [
             0.5,
             "#f7f7f7"
            ],
            [
             0.6,
             "#e6f5d0"
            ],
            [
             0.7,
             "#b8e186"
            ],
            [
             0.8,
             "#7fbc41"
            ],
            [
             0.9,
             "#4d9221"
            ],
            [
             1,
             "#276419"
            ]
           ],
           "sequential": [
            [
             0,
             "#0d0887"
            ],
            [
             0.1111111111111111,
             "#46039f"
            ],
            [
             0.2222222222222222,
             "#7201a8"
            ],
            [
             0.3333333333333333,
             "#9c179e"
            ],
            [
             0.4444444444444444,
             "#bd3786"
            ],
            [
             0.5555555555555556,
             "#d8576b"
            ],
            [
             0.6666666666666666,
             "#ed7953"
            ],
            [
             0.7777777777777778,
             "#fb9f3a"
            ],
            [
             0.8888888888888888,
             "#fdca26"
            ],
            [
             1,
             "#f0f921"
            ]
           ],
           "sequentialminus": [
            [
             0,
             "#0d0887"
            ],
            [
             0.1111111111111111,
             "#46039f"
            ],
            [
             0.2222222222222222,
             "#7201a8"
            ],
            [
             0.3333333333333333,
             "#9c179e"
            ],
            [
             0.4444444444444444,
             "#bd3786"
            ],
            [
             0.5555555555555556,
             "#d8576b"
            ],
            [
             0.6666666666666666,
             "#ed7953"
            ],
            [
             0.7777777777777778,
             "#fb9f3a"
            ],
            [
             0.8888888888888888,
             "#fdca26"
            ],
            [
             1,
             "#f0f921"
            ]
           ]
          },
          "colorway": [
           "#636efa",
           "#EF553B",
           "#00cc96",
           "#ab63fa",
           "#FFA15A",
           "#19d3f3",
           "#FF6692",
           "#B6E880",
           "#FF97FF",
           "#FECB52"
          ],
          "font": {
           "color": "#2a3f5f"
          },
          "geo": {
           "bgcolor": "white",
           "lakecolor": "white",
           "landcolor": "#E5ECF6",
           "showlakes": true,
           "showland": true,
           "subunitcolor": "white"
          },
          "hoverlabel": {
           "align": "left"
          },
          "hovermode": "closest",
          "mapbox": {
           "style": "light"
          },
          "paper_bgcolor": "white",
          "plot_bgcolor": "#E5ECF6",
          "polar": {
           "angularaxis": {
            "gridcolor": "white",
            "linecolor": "white",
            "ticks": ""
           },
           "bgcolor": "#E5ECF6",
           "radialaxis": {
            "gridcolor": "white",
            "linecolor": "white",
            "ticks": ""
           }
          },
          "scene": {
           "xaxis": {
            "backgroundcolor": "#E5ECF6",
            "gridcolor": "white",
            "gridwidth": 2,
            "linecolor": "white",
            "showbackground": true,
            "ticks": "",
            "zerolinecolor": "white"
           },
           "yaxis": {
            "backgroundcolor": "#E5ECF6",
            "gridcolor": "white",
            "gridwidth": 2,
            "linecolor": "white",
            "showbackground": true,
            "ticks": "",
            "zerolinecolor": "white"
           },
           "zaxis": {
            "backgroundcolor": "#E5ECF6",
            "gridcolor": "white",
            "gridwidth": 2,
            "linecolor": "white",
            "showbackground": true,
            "ticks": "",
            "zerolinecolor": "white"
           }
          },
          "shapedefaults": {
           "line": {
            "color": "#2a3f5f"
           }
          },
          "ternary": {
           "aaxis": {
            "gridcolor": "white",
            "linecolor": "white",
            "ticks": ""
           },
           "baxis": {
            "gridcolor": "white",
            "linecolor": "white",
            "ticks": ""
           },
           "bgcolor": "#E5ECF6",
           "caxis": {
            "gridcolor": "white",
            "linecolor": "white",
            "ticks": ""
           }
          },
          "title": {
           "x": 0.05
          },
          "xaxis": {
           "automargin": true,
           "gridcolor": "white",
           "linecolor": "white",
           "ticks": "",
           "title": {
            "standoff": 15
           },
           "zerolinecolor": "white",
           "zerolinewidth": 2
          },
          "yaxis": {
           "automargin": true,
           "gridcolor": "white",
           "linecolor": "white",
           "ticks": "",
           "title": {
            "standoff": 15
           },
           "zerolinecolor": "white",
           "zerolinewidth": 2
          }
         }
        },
        "title": {
         "text": "Accidents for Micro Vehicels by City and Year"
        },
        "xaxis": {
         "anchor": "y",
         "categoryorder": "total descending",
         "domain": [
          0,
          1
         ],
         "title": {
          "text": "Accident Year"
         }
        },
        "yaxis": {
         "anchor": "x",
         "domain": [
          0,
          1
         ],
         "title": {
          "text": "Count"
         }
        }
       }
      }
     },
     "metadata": {},
     "output_type": "display_data"
    }
   ],
   "source": [
    "fig = px.line(\n",
    "    imh_mv_sc_long,\n",
    "    x='accident_year',\n",
    "    y='count',\n",
    "    color='accident_yishuv_name',  # Differentiates the bars by vehicle type\n",
    "    title='Accidents for Micro Vehicels by City and Year',\n",
    "    labels={'count': 'Count', 'accident_year': 'Accident Year', 'accident_yishuv_name': 'City Name'}\n",
    ")\n",
    "\n",
    "# Update the layout if you need to customize the appearance\n",
    "fig.update_layout(\n",
    "    xaxis_title='Accident Year',\n",
    "    yaxis_title='Count',\n",
    "    legend_title='City Name',\n",
    "    xaxis={'categoryorder':'total descending'}\n",
    ")\n",
    "\n",
    "# Show the plot\n",
    "fig.show()"
   ]
  },
  {
   "cell_type": "markdown",
   "id": "7cd7ec87",
   "metadata": {},
   "source": [
    "### Analyzing Jerusalem\n",
    "\n",
    "Analyze by age"
   ]
  },
  {
   "cell_type": "code",
   "execution_count": 9,
   "id": "cf87c3fb",
   "metadata": {},
   "outputs": [
    {
     "name": "stderr",
     "output_type": "stream",
     "text": [
      "C:\\Users\\itay8\\AppData\\Local\\Temp\\ipykernel_18284\\3208388615.py:1: DtypeWarning:\n",
      "\n",
      "Columns (151) have mixed types. Specify dtype option on import or set low_memory=False.\n",
      "\n"
     ]
    },
    {
     "data": {
      "text/html": [
       "<div>\n",
       "<style scoped>\n",
       "    .dataframe tbody tr th:only-of-type {\n",
       "        vertical-align: middle;\n",
       "    }\n",
       "\n",
       "    .dataframe tbody tr th {\n",
       "        vertical-align: top;\n",
       "    }\n",
       "\n",
       "    .dataframe thead th {\n",
       "        text-align: right;\n",
       "    }\n",
       "</style>\n",
       "<table border=\"1\" class=\"dataframe\">\n",
       "  <thead>\n",
       "    <tr style=\"text-align: right;\">\n",
       "      <th></th>\n",
       "      <th>accident_id</th>\n",
       "      <th>provider_and_id</th>\n",
       "      <th>provider_code</th>\n",
       "      <th>file_type_police</th>\n",
       "      <th>involved_type</th>\n",
       "      <th>involved_type_hebrew</th>\n",
       "      <th>license_acquiring_date</th>\n",
       "      <th>age_group</th>\n",
       "      <th>age_group_hebrew</th>\n",
       "      <th>sex</th>\n",
       "      <th>...</th>\n",
       "      <th>vehicle_status_hebrew</th>\n",
       "      <th>vehicle_attribution</th>\n",
       "      <th>vehicle_attribution_hebrew</th>\n",
       "      <th>seats</th>\n",
       "      <th>total_weight</th>\n",
       "      <th>total_weight_hebrew</th>\n",
       "      <th>vehicle_vehicle_type</th>\n",
       "      <th>vehicle_vehicle_type_hebrew</th>\n",
       "      <th>vehicle_damage</th>\n",
       "      <th>vehicle_damage_hebrew</th>\n",
       "    </tr>\n",
       "  </thead>\n",
       "  <tbody>\n",
       "    <tr>\n",
       "      <th>0</th>\n",
       "      <td>2013001353</td>\n",
       "      <td>12013001353</td>\n",
       "      <td>1</td>\n",
       "      <td>1</td>\n",
       "      <td>2</td>\n",
       "      <td>נהג נפגע</td>\n",
       "      <td>2004</td>\n",
       "      <td>6</td>\n",
       "      <td>25-29</td>\n",
       "      <td>1</td>\n",
       "      <td>...</td>\n",
       "      <td>NaN</td>\n",
       "      <td>1.0</td>\n",
       "      <td>ישראלי</td>\n",
       "      <td>99.0</td>\n",
       "      <td>NaN</td>\n",
       "      <td>NaN</td>\n",
       "      <td>1.0</td>\n",
       "      <td>רכב נוסעים פרטי</td>\n",
       "      <td>3.0</td>\n",
       "      <td>קשה</td>\n",
       "    </tr>\n",
       "    <tr>\n",
       "      <th>1</th>\n",
       "      <td>2013000308</td>\n",
       "      <td>32013000308</td>\n",
       "      <td>3</td>\n",
       "      <td>3</td>\n",
       "      <td>2</td>\n",
       "      <td>נהג נפגע</td>\n",
       "      <td>2004</td>\n",
       "      <td>6</td>\n",
       "      <td>25-29</td>\n",
       "      <td>2</td>\n",
       "      <td>...</td>\n",
       "      <td>NaN</td>\n",
       "      <td>1.0</td>\n",
       "      <td>ישראלי</td>\n",
       "      <td>3.0</td>\n",
       "      <td>1.0</td>\n",
       "      <td>עד 1.9</td>\n",
       "      <td>1.0</td>\n",
       "      <td>רכב נוסעים פרטי</td>\n",
       "      <td>1.0</td>\n",
       "      <td>קל</td>\n",
       "    </tr>\n",
       "    <tr>\n",
       "      <th>2</th>\n",
       "      <td>2013001705</td>\n",
       "      <td>12013001705</td>\n",
       "      <td>1</td>\n",
       "      <td>1</td>\n",
       "      <td>1</td>\n",
       "      <td>נהג</td>\n",
       "      <td>2008</td>\n",
       "      <td>6</td>\n",
       "      <td>25-29</td>\n",
       "      <td>1</td>\n",
       "      <td>...</td>\n",
       "      <td>NaN</td>\n",
       "      <td>1.0</td>\n",
       "      <td>ישראלי</td>\n",
       "      <td>99.0</td>\n",
       "      <td>1.0</td>\n",
       "      <td>עד 1.9</td>\n",
       "      <td>1.0</td>\n",
       "      <td>רכב נוסעים פרטי</td>\n",
       "      <td>1.0</td>\n",
       "      <td>קל</td>\n",
       "    </tr>\n",
       "    <tr>\n",
       "      <th>3</th>\n",
       "      <td>2013001844</td>\n",
       "      <td>32013001844</td>\n",
       "      <td>3</td>\n",
       "      <td>3</td>\n",
       "      <td>2</td>\n",
       "      <td>נהג נפגע</td>\n",
       "      <td>2008</td>\n",
       "      <td>5</td>\n",
       "      <td>20-24</td>\n",
       "      <td>2</td>\n",
       "      <td>...</td>\n",
       "      <td>NaN</td>\n",
       "      <td>1.0</td>\n",
       "      <td>ישראלי</td>\n",
       "      <td>99.0</td>\n",
       "      <td>1.0</td>\n",
       "      <td>עד 1.9</td>\n",
       "      <td>1.0</td>\n",
       "      <td>רכב נוסעים פרטי</td>\n",
       "      <td>1.0</td>\n",
       "      <td>קל</td>\n",
       "    </tr>\n",
       "    <tr>\n",
       "      <th>4</th>\n",
       "      <td>2013001991</td>\n",
       "      <td>32013001991</td>\n",
       "      <td>3</td>\n",
       "      <td>3</td>\n",
       "      <td>1</td>\n",
       "      <td>נהג</td>\n",
       "      <td>0</td>\n",
       "      <td>99</td>\n",
       "      <td>לא ידוע</td>\n",
       "      <td>0</td>\n",
       "      <td>...</td>\n",
       "      <td>NaN</td>\n",
       "      <td>1.0</td>\n",
       "      <td>ישראלי</td>\n",
       "      <td>3.0</td>\n",
       "      <td>1.0</td>\n",
       "      <td>עד 1.9</td>\n",
       "      <td>1.0</td>\n",
       "      <td>רכב נוסעים פרטי</td>\n",
       "      <td>4.0</td>\n",
       "      <td>אין נזק</td>\n",
       "    </tr>\n",
       "    <tr>\n",
       "      <th>...</th>\n",
       "      <td>...</td>\n",
       "      <td>...</td>\n",
       "      <td>...</td>\n",
       "      <td>...</td>\n",
       "      <td>...</td>\n",
       "      <td>...</td>\n",
       "      <td>...</td>\n",
       "      <td>...</td>\n",
       "      <td>...</td>\n",
       "      <td>...</td>\n",
       "      <td>...</td>\n",
       "      <td>...</td>\n",
       "      <td>...</td>\n",
       "      <td>...</td>\n",
       "      <td>...</td>\n",
       "      <td>...</td>\n",
       "      <td>...</td>\n",
       "      <td>...</td>\n",
       "      <td>...</td>\n",
       "      <td>...</td>\n",
       "      <td>...</td>\n",
       "    </tr>\n",
       "    <tr>\n",
       "      <th>93021</th>\n",
       "      <td>2023098169</td>\n",
       "      <td>32023098169</td>\n",
       "      <td>3</td>\n",
       "      <td>3</td>\n",
       "      <td>2</td>\n",
       "      <td>נהג נפגע</td>\n",
       "      <td>2014</td>\n",
       "      <td>6</td>\n",
       "      <td>25-29</td>\n",
       "      <td>1</td>\n",
       "      <td>...</td>\n",
       "      <td>NaN</td>\n",
       "      <td>1.0</td>\n",
       "      <td>ישראלי</td>\n",
       "      <td>99.0</td>\n",
       "      <td>2.0</td>\n",
       "      <td>2.0-2.9</td>\n",
       "      <td>2.0</td>\n",
       "      <td>משא עד 3.5 טון - אחוד (טרנזיט)</td>\n",
       "      <td>1.0</td>\n",
       "      <td>קל</td>\n",
       "    </tr>\n",
       "    <tr>\n",
       "      <th>93022</th>\n",
       "      <td>2023098178</td>\n",
       "      <td>32023098178</td>\n",
       "      <td>3</td>\n",
       "      <td>3</td>\n",
       "      <td>2</td>\n",
       "      <td>נהג נפגע</td>\n",
       "      <td>2013</td>\n",
       "      <td>6</td>\n",
       "      <td>25-29</td>\n",
       "      <td>2</td>\n",
       "      <td>...</td>\n",
       "      <td>NaN</td>\n",
       "      <td>1.0</td>\n",
       "      <td>ישראלי</td>\n",
       "      <td>3.0</td>\n",
       "      <td>1.0</td>\n",
       "      <td>עד 1.9</td>\n",
       "      <td>1.0</td>\n",
       "      <td>רכב נוסעים פרטי</td>\n",
       "      <td>1.0</td>\n",
       "      <td>קל</td>\n",
       "    </tr>\n",
       "    <tr>\n",
       "      <th>93023</th>\n",
       "      <td>2023097756</td>\n",
       "      <td>32023097756</td>\n",
       "      <td>3</td>\n",
       "      <td>3</td>\n",
       "      <td>1</td>\n",
       "      <td>נהג</td>\n",
       "      <td>2017</td>\n",
       "      <td>12</td>\n",
       "      <td>55-59</td>\n",
       "      <td>1</td>\n",
       "      <td>...</td>\n",
       "      <td>NaN</td>\n",
       "      <td>1.0</td>\n",
       "      <td>ישראלי</td>\n",
       "      <td>3.0</td>\n",
       "      <td>2.0</td>\n",
       "      <td>2.0-2.9</td>\n",
       "      <td>12.0</td>\n",
       "      <td>מונית</td>\n",
       "      <td>4.0</td>\n",
       "      <td>אין נזק</td>\n",
       "    </tr>\n",
       "    <tr>\n",
       "      <th>93024</th>\n",
       "      <td>2023098293</td>\n",
       "      <td>12023098293</td>\n",
       "      <td>1</td>\n",
       "      <td>1</td>\n",
       "      <td>2</td>\n",
       "      <td>נהג נפגע</td>\n",
       "      <td>2019</td>\n",
       "      <td>5</td>\n",
       "      <td>20-24</td>\n",
       "      <td>1</td>\n",
       "      <td>...</td>\n",
       "      <td>NaN</td>\n",
       "      <td>1.0</td>\n",
       "      <td>ישראלי</td>\n",
       "      <td>3.0</td>\n",
       "      <td>2.0</td>\n",
       "      <td>2.0-2.9</td>\n",
       "      <td>1.0</td>\n",
       "      <td>רכב נוסעים פרטי</td>\n",
       "      <td>1.0</td>\n",
       "      <td>קל</td>\n",
       "    </tr>\n",
       "    <tr>\n",
       "      <th>93025</th>\n",
       "      <td>2023098653</td>\n",
       "      <td>12023098653</td>\n",
       "      <td>1</td>\n",
       "      <td>1</td>\n",
       "      <td>1</td>\n",
       "      <td>נהג</td>\n",
       "      <td>1999</td>\n",
       "      <td>9</td>\n",
       "      <td>40-44</td>\n",
       "      <td>1</td>\n",
       "      <td>...</td>\n",
       "      <td>NaN</td>\n",
       "      <td>1.0</td>\n",
       "      <td>ישראלי</td>\n",
       "      <td>5.0</td>\n",
       "      <td>2.0</td>\n",
       "      <td>2.0-2.9</td>\n",
       "      <td>1.0</td>\n",
       "      <td>רכב נוסעים פרטי</td>\n",
       "      <td>2.0</td>\n",
       "      <td>בינוני</td>\n",
       "    </tr>\n",
       "  </tbody>\n",
       "</table>\n",
       "<p>93026 rows × 161 columns</p>\n",
       "</div>"
      ],
      "text/plain": [
       "       accident_id  provider_and_id  provider_code  file_type_police  \\\n",
       "0       2013001353      12013001353              1                 1   \n",
       "1       2013000308      32013000308              3                 3   \n",
       "2       2013001705      12013001705              1                 1   \n",
       "3       2013001844      32013001844              3                 3   \n",
       "4       2013001991      32013001991              3                 3   \n",
       "...            ...              ...            ...               ...   \n",
       "93021   2023098169      32023098169              3                 3   \n",
       "93022   2023098178      32023098178              3                 3   \n",
       "93023   2023097756      32023097756              3                 3   \n",
       "93024   2023098293      12023098293              1                 1   \n",
       "93025   2023098653      12023098653              1                 1   \n",
       "\n",
       "       involved_type involved_type_hebrew  license_acquiring_date  age_group  \\\n",
       "0                  2             נהג נפגע                    2004          6   \n",
       "1                  2             נהג נפגע                    2004          6   \n",
       "2                  1                  נהג                    2008          6   \n",
       "3                  2             נהג נפגע                    2008          5   \n",
       "4                  1                  נהג                       0         99   \n",
       "...              ...                  ...                     ...        ...   \n",
       "93021              2             נהג נפגע                    2014          6   \n",
       "93022              2             נהג נפגע                    2013          6   \n",
       "93023              1                  נהג                    2017         12   \n",
       "93024              2             נהג נפגע                    2019          5   \n",
       "93025              1                  נהג                    1999          9   \n",
       "\n",
       "      age_group_hebrew  sex  ... vehicle_status_hebrew  vehicle_attribution  \\\n",
       "0                25-29    1  ...                   NaN                  1.0   \n",
       "1                25-29    2  ...                   NaN                  1.0   \n",
       "2                25-29    1  ...                   NaN                  1.0   \n",
       "3                20-24    2  ...                   NaN                  1.0   \n",
       "4              לא ידוע    0  ...                   NaN                  1.0   \n",
       "...                ...  ...  ...                   ...                  ...   \n",
       "93021            25-29    1  ...                   NaN                  1.0   \n",
       "93022            25-29    2  ...                   NaN                  1.0   \n",
       "93023            55-59    1  ...                   NaN                  1.0   \n",
       "93024            20-24    1  ...                   NaN                  1.0   \n",
       "93025            40-44    1  ...                   NaN                  1.0   \n",
       "\n",
       "      vehicle_attribution_hebrew  seats total_weight  total_weight_hebrew  \\\n",
       "0                         ישראלי   99.0          NaN                  NaN   \n",
       "1                         ישראלי    3.0          1.0               עד 1.9   \n",
       "2                         ישראלי   99.0          1.0               עד 1.9   \n",
       "3                         ישראלי   99.0          1.0               עד 1.9   \n",
       "4                         ישראלי    3.0          1.0               עד 1.9   \n",
       "...                          ...    ...          ...                  ...   \n",
       "93021                     ישראלי   99.0          2.0              2.0-2.9   \n",
       "93022                     ישראלי    3.0          1.0               עד 1.9   \n",
       "93023                     ישראלי    3.0          2.0              2.0-2.9   \n",
       "93024                     ישראלי    3.0          2.0              2.0-2.9   \n",
       "93025                     ישראלי    5.0          2.0              2.0-2.9   \n",
       "\n",
       "      vehicle_vehicle_type     vehicle_vehicle_type_hebrew vehicle_damage  \\\n",
       "0                      1.0                 רכב נוסעים פרטי            3.0   \n",
       "1                      1.0                 רכב נוסעים פרטי            1.0   \n",
       "2                      1.0                 רכב נוסעים פרטי            1.0   \n",
       "3                      1.0                 רכב נוסעים פרטי            1.0   \n",
       "4                      1.0                 רכב נוסעים פרטי            4.0   \n",
       "...                    ...                             ...            ...   \n",
       "93021                  2.0  משא עד 3.5 טון - אחוד (טרנזיט)            1.0   \n",
       "93022                  1.0                 רכב נוסעים פרטי            1.0   \n",
       "93023                 12.0                           מונית            4.0   \n",
       "93024                  1.0                 רכב נוסעים פרטי            1.0   \n",
       "93025                  1.0                 רכב נוסעים פרטי            2.0   \n",
       "\n",
       "       vehicle_damage_hebrew  \n",
       "0                        קשה  \n",
       "1                         קל  \n",
       "2                         קל  \n",
       "3                         קל  \n",
       "4                    אין נזק  \n",
       "...                      ...  \n",
       "93021                     קל  \n",
       "93022                     קל  \n",
       "93023                אין נזק  \n",
       "93024                     קל  \n",
       "93025                 בינוני  \n",
       "\n",
       "[93026 rows x 161 columns]"
      ]
     },
     "execution_count": 9,
     "metadata": {},
     "output_type": "execute_result"
    }
   ],
   "source": [
    "imh_jer = pd.read_csv('./csv_tables/i_m_h_jerusalem.csv')\n",
    "imh_jer"
   ]
  },
  {
   "cell_type": "code",
   "execution_count": 10,
   "id": "ab487a56",
   "metadata": {},
   "outputs": [
    {
     "data": {
      "application/vnd.plotly.v1+json": {
       "config": {
        "plotlyServerURL": "https://plot.ly"
       },
       "data": [
        {
         "fillpattern": {
          "shape": ""
         },
         "hovertemplate": "age_group_hebrew=05-09<br>Accident Year=%{x}<br>Number of Accidents=%{y}<extra></extra>",
         "legendgroup": "05-09",
         "line": {
          "color": "#636efa"
         },
         "marker": {
          "symbol": "circle"
         },
         "mode": "lines",
         "name": "05-09",
         "orientation": "v",
         "showlegend": true,
         "stackgroup": "1",
         "type": "scatter",
         "x": [
          2013,
          2014,
          2015,
          2016,
          2017,
          2018,
          2019,
          2020,
          2021,
          2022,
          2023
         ],
         "xaxis": "x",
         "y": [
          9,
          8,
          10,
          6,
          6,
          7,
          9,
          10,
          5,
          6,
          2
         ],
         "yaxis": "y"
        },
        {
         "fillpattern": {
          "shape": ""
         },
         "hovertemplate": "age_group_hebrew=10-14<br>Accident Year=%{x}<br>Number of Accidents=%{y}<extra></extra>",
         "legendgroup": "10-14",
         "line": {
          "color": "#EF553B"
         },
         "marker": {
          "symbol": "circle"
         },
         "mode": "lines",
         "name": "10-14",
         "orientation": "v",
         "showlegend": true,
         "stackgroup": "1",
         "type": "scatter",
         "x": [
          2013,
          2014,
          2015,
          2016,
          2017,
          2018,
          2019,
          2020,
          2021,
          2022,
          2023
         ],
         "xaxis": "x",
         "y": [
          30,
          15,
          28,
          33,
          20,
          23,
          21,
          19,
          15,
          8,
          15
         ],
         "yaxis": "y"
        },
        {
         "fillpattern": {
          "shape": ""
         },
         "hovertemplate": "age_group_hebrew=15-19<br>Accident Year=%{x}<br>Number of Accidents=%{y}<extra></extra>",
         "legendgroup": "15-19",
         "line": {
          "color": "#00cc96"
         },
         "marker": {
          "symbol": "circle"
         },
         "mode": "lines",
         "name": "15-19",
         "orientation": "v",
         "showlegend": true,
         "stackgroup": "1",
         "type": "scatter",
         "x": [
          2013,
          2014,
          2015,
          2016,
          2017,
          2018,
          2019,
          2020,
          2021,
          2022,
          2023
         ],
         "xaxis": "x",
         "y": [
          16,
          24,
          33,
          38,
          48,
          70,
          39,
          31,
          38,
          33,
          29
         ],
         "yaxis": "y"
        },
        {
         "fillpattern": {
          "shape": ""
         },
         "hovertemplate": "age_group_hebrew=20-24<br>Accident Year=%{x}<br>Number of Accidents=%{y}<extra></extra>",
         "legendgroup": "20-24",
         "line": {
          "color": "#ab63fa"
         },
         "marker": {
          "symbol": "circle"
         },
         "mode": "lines",
         "name": "20-24",
         "orientation": "v",
         "showlegend": true,
         "stackgroup": "1",
         "type": "scatter",
         "x": [
          2013,
          2014,
          2015,
          2016,
          2017,
          2018,
          2019,
          2020,
          2021,
          2022,
          2023
         ],
         "xaxis": "x",
         "y": [
          10,
          13,
          15,
          21,
          32,
          39,
          30,
          23,
          25,
          31,
          25
         ],
         "yaxis": "y"
        },
        {
         "fillpattern": {
          "shape": ""
         },
         "hovertemplate": "age_group_hebrew=25-29<br>Accident Year=%{x}<br>Number of Accidents=%{y}<extra></extra>",
         "legendgroup": "25-29",
         "line": {
          "color": "#FFA15A"
         },
         "marker": {
          "symbol": "circle"
         },
         "mode": "lines",
         "name": "25-29",
         "orientation": "v",
         "showlegend": true,
         "stackgroup": "1",
         "type": "scatter",
         "x": [
          2013,
          2014,
          2015,
          2016,
          2017,
          2018,
          2019,
          2020,
          2021,
          2022,
          2023
         ],
         "xaxis": "x",
         "y": [
          17,
          17,
          11,
          16,
          18,
          25,
          28,
          16,
          16,
          27,
          14
         ],
         "yaxis": "y"
        },
        {
         "fillpattern": {
          "shape": ""
         },
         "hovertemplate": "age_group_hebrew=30-34<br>Accident Year=%{x}<br>Number of Accidents=%{y}<extra></extra>",
         "legendgroup": "30-34",
         "line": {
          "color": "#19d3f3"
         },
         "marker": {
          "symbol": "circle"
         },
         "mode": "lines",
         "name": "30-34",
         "orientation": "v",
         "showlegend": true,
         "stackgroup": "1",
         "type": "scatter",
         "x": [
          2013,
          2014,
          2015,
          2016,
          2017,
          2018,
          2019,
          2020,
          2021,
          2022,
          2023
         ],
         "xaxis": "x",
         "y": [
          8,
          13,
          7,
          14,
          16,
          17,
          17,
          9,
          19,
          15,
          13
         ],
         "yaxis": "y"
        },
        {
         "fillpattern": {
          "shape": ""
         },
         "hovertemplate": "age_group_hebrew=35-39<br>Accident Year=%{x}<br>Number of Accidents=%{y}<extra></extra>",
         "legendgroup": "35-39",
         "line": {
          "color": "#FF6692"
         },
         "marker": {
          "symbol": "circle"
         },
         "mode": "lines",
         "name": "35-39",
         "orientation": "v",
         "showlegend": true,
         "stackgroup": "1",
         "type": "scatter",
         "x": [
          2013,
          2014,
          2015,
          2016,
          2017,
          2018,
          2019,
          2020,
          2021,
          2022,
          2023
         ],
         "xaxis": "x",
         "y": [
          5,
          6,
          5,
          9,
          8,
          13,
          9,
          11,
          12,
          11,
          11
         ],
         "yaxis": "y"
        },
        {
         "fillpattern": {
          "shape": ""
         },
         "hovertemplate": "age_group_hebrew=40-44<br>Accident Year=%{x}<br>Number of Accidents=%{y}<extra></extra>",
         "legendgroup": "40-44",
         "line": {
          "color": "#B6E880"
         },
         "marker": {
          "symbol": "circle"
         },
         "mode": "lines",
         "name": "40-44",
         "orientation": "v",
         "showlegend": true,
         "stackgroup": "1",
         "type": "scatter",
         "x": [
          2013,
          2014,
          2015,
          2016,
          2017,
          2018,
          2019,
          2020,
          2021,
          2022,
          2023
         ],
         "xaxis": "x",
         "y": [
          4,
          5,
          9,
          3,
          10,
          11,
          15,
          11,
          8,
          15,
          5
         ],
         "yaxis": "y"
        },
        {
         "fillpattern": {
          "shape": ""
         },
         "hovertemplate": "age_group_hebrew=45-49<br>Accident Year=%{x}<br>Number of Accidents=%{y}<extra></extra>",
         "legendgroup": "45-49",
         "line": {
          "color": "#FF97FF"
         },
         "marker": {
          "symbol": "circle"
         },
         "mode": "lines",
         "name": "45-49",
         "orientation": "v",
         "showlegend": true,
         "stackgroup": "1",
         "type": "scatter",
         "x": [
          2013,
          2014,
          2015,
          2016,
          2017,
          2018,
          2019,
          2020,
          2021,
          2022,
          2023
         ],
         "xaxis": "x",
         "y": [
          3,
          2,
          5,
          5,
          4,
          5,
          6,
          5,
          6,
          7,
          6
         ],
         "yaxis": "y"
        },
        {
         "fillpattern": {
          "shape": ""
         },
         "hovertemplate": "age_group_hebrew=50-54<br>Accident Year=%{x}<br>Number of Accidents=%{y}<extra></extra>",
         "legendgroup": "50-54",
         "line": {
          "color": "#FECB52"
         },
         "marker": {
          "symbol": "circle"
         },
         "mode": "lines",
         "name": "50-54",
         "orientation": "v",
         "showlegend": true,
         "stackgroup": "1",
         "type": "scatter",
         "x": [
          2013,
          2014,
          2015,
          2016,
          2017,
          2018,
          2019,
          2020,
          2021,
          2022,
          2023
         ],
         "xaxis": "x",
         "y": [
          4,
          6,
          3,
          4,
          6,
          8,
          6,
          6,
          4,
          10,
          1
         ],
         "yaxis": "y"
        },
        {
         "fillpattern": {
          "shape": ""
         },
         "hovertemplate": "age_group_hebrew=55-59<br>Accident Year=%{x}<br>Number of Accidents=%{y}<extra></extra>",
         "legendgroup": "55-59",
         "line": {
          "color": "#636efa"
         },
         "marker": {
          "symbol": "circle"
         },
         "mode": "lines",
         "name": "55-59",
         "orientation": "v",
         "showlegend": true,
         "stackgroup": "1",
         "type": "scatter",
         "x": [
          2013,
          2014,
          2015,
          2016,
          2017,
          2018,
          2019,
          2020,
          2021,
          2022,
          2023
         ],
         "xaxis": "x",
         "y": [
          2,
          7,
          3,
          3,
          3,
          5,
          3,
          5,
          6,
          8,
          3
         ],
         "yaxis": "y"
        },
        {
         "fillpattern": {
          "shape": ""
         },
         "hovertemplate": "age_group_hebrew=60-64<br>Accident Year=%{x}<br>Number of Accidents=%{y}<extra></extra>",
         "legendgroup": "60-64",
         "line": {
          "color": "#EF553B"
         },
         "marker": {
          "symbol": "circle"
         },
         "mode": "lines",
         "name": "60-64",
         "orientation": "v",
         "showlegend": true,
         "stackgroup": "1",
         "type": "scatter",
         "x": [
          2013,
          2014,
          2015,
          2016,
          2017,
          2018,
          2019,
          2020,
          2021,
          2022,
          2023
         ],
         "xaxis": "x",
         "y": [
          1,
          5,
          5,
          5,
          6,
          3,
          7,
          3,
          2,
          1,
          0
         ],
         "yaxis": "y"
        }
       ],
       "layout": {
        "barmode": "stack",
        "legend": {
         "title": {
          "text": "Age Group"
         },
         "tracegroupgap": 0
        },
        "template": {
         "data": {
          "bar": [
           {
            "error_x": {
             "color": "#2a3f5f"
            },
            "error_y": {
             "color": "#2a3f5f"
            },
            "marker": {
             "line": {
              "color": "#E5ECF6",
              "width": 0.5
             },
             "pattern": {
              "fillmode": "overlay",
              "size": 10,
              "solidity": 0.2
             }
            },
            "type": "bar"
           }
          ],
          "barpolar": [
           {
            "marker": {
             "line": {
              "color": "#E5ECF6",
              "width": 0.5
             },
             "pattern": {
              "fillmode": "overlay",
              "size": 10,
              "solidity": 0.2
             }
            },
            "type": "barpolar"
           }
          ],
          "carpet": [
           {
            "aaxis": {
             "endlinecolor": "#2a3f5f",
             "gridcolor": "white",
             "linecolor": "white",
             "minorgridcolor": "white",
             "startlinecolor": "#2a3f5f"
            },
            "baxis": {
             "endlinecolor": "#2a3f5f",
             "gridcolor": "white",
             "linecolor": "white",
             "minorgridcolor": "white",
             "startlinecolor": "#2a3f5f"
            },
            "type": "carpet"
           }
          ],
          "choropleth": [
           {
            "colorbar": {
             "outlinewidth": 0,
             "ticks": ""
            },
            "type": "choropleth"
           }
          ],
          "contour": [
           {
            "colorbar": {
             "outlinewidth": 0,
             "ticks": ""
            },
            "colorscale": [
             [
              0,
              "#0d0887"
             ],
             [
              0.1111111111111111,
              "#46039f"
             ],
             [
              0.2222222222222222,
              "#7201a8"
             ],
             [
              0.3333333333333333,
              "#9c179e"
             ],
             [
              0.4444444444444444,
              "#bd3786"
             ],
             [
              0.5555555555555556,
              "#d8576b"
             ],
             [
              0.6666666666666666,
              "#ed7953"
             ],
             [
              0.7777777777777778,
              "#fb9f3a"
             ],
             [
              0.8888888888888888,
              "#fdca26"
             ],
             [
              1,
              "#f0f921"
             ]
            ],
            "type": "contour"
           }
          ],
          "contourcarpet": [
           {
            "colorbar": {
             "outlinewidth": 0,
             "ticks": ""
            },
            "type": "contourcarpet"
           }
          ],
          "heatmap": [
           {
            "colorbar": {
             "outlinewidth": 0,
             "ticks": ""
            },
            "colorscale": [
             [
              0,
              "#0d0887"
             ],
             [
              0.1111111111111111,
              "#46039f"
             ],
             [
              0.2222222222222222,
              "#7201a8"
             ],
             [
              0.3333333333333333,
              "#9c179e"
             ],
             [
              0.4444444444444444,
              "#bd3786"
             ],
             [
              0.5555555555555556,
              "#d8576b"
             ],
             [
              0.6666666666666666,
              "#ed7953"
             ],
             [
              0.7777777777777778,
              "#fb9f3a"
             ],
             [
              0.8888888888888888,
              "#fdca26"
             ],
             [
              1,
              "#f0f921"
             ]
            ],
            "type": "heatmap"
           }
          ],
          "heatmapgl": [
           {
            "colorbar": {
             "outlinewidth": 0,
             "ticks": ""
            },
            "colorscale": [
             [
              0,
              "#0d0887"
             ],
             [
              0.1111111111111111,
              "#46039f"
             ],
             [
              0.2222222222222222,
              "#7201a8"
             ],
             [
              0.3333333333333333,
              "#9c179e"
             ],
             [
              0.4444444444444444,
              "#bd3786"
             ],
             [
              0.5555555555555556,
              "#d8576b"
             ],
             [
              0.6666666666666666,
              "#ed7953"
             ],
             [
              0.7777777777777778,
              "#fb9f3a"
             ],
             [
              0.8888888888888888,
              "#fdca26"
             ],
             [
              1,
              "#f0f921"
             ]
            ],
            "type": "heatmapgl"
           }
          ],
          "histogram": [
           {
            "marker": {
             "pattern": {
              "fillmode": "overlay",
              "size": 10,
              "solidity": 0.2
             }
            },
            "type": "histogram"
           }
          ],
          "histogram2d": [
           {
            "colorbar": {
             "outlinewidth": 0,
             "ticks": ""
            },
            "colorscale": [
             [
              0,
              "#0d0887"
             ],
             [
              0.1111111111111111,
              "#46039f"
             ],
             [
              0.2222222222222222,
              "#7201a8"
             ],
             [
              0.3333333333333333,
              "#9c179e"
             ],
             [
              0.4444444444444444,
              "#bd3786"
             ],
             [
              0.5555555555555556,
              "#d8576b"
             ],
             [
              0.6666666666666666,
              "#ed7953"
             ],
             [
              0.7777777777777778,
              "#fb9f3a"
             ],
             [
              0.8888888888888888,
              "#fdca26"
             ],
             [
              1,
              "#f0f921"
             ]
            ],
            "type": "histogram2d"
           }
          ],
          "histogram2dcontour": [
           {
            "colorbar": {
             "outlinewidth": 0,
             "ticks": ""
            },
            "colorscale": [
             [
              0,
              "#0d0887"
             ],
             [
              0.1111111111111111,
              "#46039f"
             ],
             [
              0.2222222222222222,
              "#7201a8"
             ],
             [
              0.3333333333333333,
              "#9c179e"
             ],
             [
              0.4444444444444444,
              "#bd3786"
             ],
             [
              0.5555555555555556,
              "#d8576b"
             ],
             [
              0.6666666666666666,
              "#ed7953"
             ],
             [
              0.7777777777777778,
              "#fb9f3a"
             ],
             [
              0.8888888888888888,
              "#fdca26"
             ],
             [
              1,
              "#f0f921"
             ]
            ],
            "type": "histogram2dcontour"
           }
          ],
          "mesh3d": [
           {
            "colorbar": {
             "outlinewidth": 0,
             "ticks": ""
            },
            "type": "mesh3d"
           }
          ],
          "parcoords": [
           {
            "line": {
             "colorbar": {
              "outlinewidth": 0,
              "ticks": ""
             }
            },
            "type": "parcoords"
           }
          ],
          "pie": [
           {
            "automargin": true,
            "type": "pie"
           }
          ],
          "scatter": [
           {
            "fillpattern": {
             "fillmode": "overlay",
             "size": 10,
             "solidity": 0.2
            },
            "type": "scatter"
           }
          ],
          "scatter3d": [
           {
            "line": {
             "colorbar": {
              "outlinewidth": 0,
              "ticks": ""
             }
            },
            "marker": {
             "colorbar": {
              "outlinewidth": 0,
              "ticks": ""
             }
            },
            "type": "scatter3d"
           }
          ],
          "scattercarpet": [
           {
            "marker": {
             "colorbar": {
              "outlinewidth": 0,
              "ticks": ""
             }
            },
            "type": "scattercarpet"
           }
          ],
          "scattergeo": [
           {
            "marker": {
             "colorbar": {
              "outlinewidth": 0,
              "ticks": ""
             }
            },
            "type": "scattergeo"
           }
          ],
          "scattergl": [
           {
            "marker": {
             "colorbar": {
              "outlinewidth": 0,
              "ticks": ""
             }
            },
            "type": "scattergl"
           }
          ],
          "scattermapbox": [
           {
            "marker": {
             "colorbar": {
              "outlinewidth": 0,
              "ticks": ""
             }
            },
            "type": "scattermapbox"
           }
          ],
          "scatterpolar": [
           {
            "marker": {
             "colorbar": {
              "outlinewidth": 0,
              "ticks": ""
             }
            },
            "type": "scatterpolar"
           }
          ],
          "scatterpolargl": [
           {
            "marker": {
             "colorbar": {
              "outlinewidth": 0,
              "ticks": ""
             }
            },
            "type": "scatterpolargl"
           }
          ],
          "scatterternary": [
           {
            "marker": {
             "colorbar": {
              "outlinewidth": 0,
              "ticks": ""
             }
            },
            "type": "scatterternary"
           }
          ],
          "surface": [
           {
            "colorbar": {
             "outlinewidth": 0,
             "ticks": ""
            },
            "colorscale": [
             [
              0,
              "#0d0887"
             ],
             [
              0.1111111111111111,
              "#46039f"
             ],
             [
              0.2222222222222222,
              "#7201a8"
             ],
             [
              0.3333333333333333,
              "#9c179e"
             ],
             [
              0.4444444444444444,
              "#bd3786"
             ],
             [
              0.5555555555555556,
              "#d8576b"
             ],
             [
              0.6666666666666666,
              "#ed7953"
             ],
             [
              0.7777777777777778,
              "#fb9f3a"
             ],
             [
              0.8888888888888888,
              "#fdca26"
             ],
             [
              1,
              "#f0f921"
             ]
            ],
            "type": "surface"
           }
          ],
          "table": [
           {
            "cells": {
             "fill": {
              "color": "#EBF0F8"
             },
             "line": {
              "color": "white"
             }
            },
            "header": {
             "fill": {
              "color": "#C8D4E3"
             },
             "line": {
              "color": "white"
             }
            },
            "type": "table"
           }
          ]
         },
         "layout": {
          "annotationdefaults": {
           "arrowcolor": "#2a3f5f",
           "arrowhead": 0,
           "arrowwidth": 1
          },
          "autotypenumbers": "strict",
          "coloraxis": {
           "colorbar": {
            "outlinewidth": 0,
            "ticks": ""
           }
          },
          "colorscale": {
           "diverging": [
            [
             0,
             "#8e0152"
            ],
            [
             0.1,
             "#c51b7d"
            ],
            [
             0.2,
             "#de77ae"
            ],
            [
             0.3,
             "#f1b6da"
            ],
            [
             0.4,
             "#fde0ef"
            ],
            [
             0.5,
             "#f7f7f7"
            ],
            [
             0.6,
             "#e6f5d0"
            ],
            [
             0.7,
             "#b8e186"
            ],
            [
             0.8,
             "#7fbc41"
            ],
            [
             0.9,
             "#4d9221"
            ],
            [
             1,
             "#276419"
            ]
           ],
           "sequential": [
            [
             0,
             "#0d0887"
            ],
            [
             0.1111111111111111,
             "#46039f"
            ],
            [
             0.2222222222222222,
             "#7201a8"
            ],
            [
             0.3333333333333333,
             "#9c179e"
            ],
            [
             0.4444444444444444,
             "#bd3786"
            ],
            [
             0.5555555555555556,
             "#d8576b"
            ],
            [
             0.6666666666666666,
             "#ed7953"
            ],
            [
             0.7777777777777778,
             "#fb9f3a"
            ],
            [
             0.8888888888888888,
             "#fdca26"
            ],
            [
             1,
             "#f0f921"
            ]
           ],
           "sequentialminus": [
            [
             0,
             "#0d0887"
            ],
            [
             0.1111111111111111,
             "#46039f"
            ],
            [
             0.2222222222222222,
             "#7201a8"
            ],
            [
             0.3333333333333333,
             "#9c179e"
            ],
            [
             0.4444444444444444,
             "#bd3786"
            ],
            [
             0.5555555555555556,
             "#d8576b"
            ],
            [
             0.6666666666666666,
             "#ed7953"
            ],
            [
             0.7777777777777778,
             "#fb9f3a"
            ],
            [
             0.8888888888888888,
             "#fdca26"
            ],
            [
             1,
             "#f0f921"
            ]
           ]
          },
          "colorway": [
           "#636efa",
           "#EF553B",
           "#00cc96",
           "#ab63fa",
           "#FFA15A",
           "#19d3f3",
           "#FF6692",
           "#B6E880",
           "#FF97FF",
           "#FECB52"
          ],
          "font": {
           "color": "#2a3f5f"
          },
          "geo": {
           "bgcolor": "white",
           "lakecolor": "white",
           "landcolor": "#E5ECF6",
           "showlakes": true,
           "showland": true,
           "subunitcolor": "white"
          },
          "hoverlabel": {
           "align": "left"
          },
          "hovermode": "closest",
          "mapbox": {
           "style": "light"
          },
          "paper_bgcolor": "white",
          "plot_bgcolor": "#E5ECF6",
          "polar": {
           "angularaxis": {
            "gridcolor": "white",
            "linecolor": "white",
            "ticks": ""
           },
           "bgcolor": "#E5ECF6",
           "radialaxis": {
            "gridcolor": "white",
            "linecolor": "white",
            "ticks": ""
           }
          },
          "scene": {
           "xaxis": {
            "backgroundcolor": "#E5ECF6",
            "gridcolor": "white",
            "gridwidth": 2,
            "linecolor": "white",
            "showbackground": true,
            "ticks": "",
            "zerolinecolor": "white"
           },
           "yaxis": {
            "backgroundcolor": "#E5ECF6",
            "gridcolor": "white",
            "gridwidth": 2,
            "linecolor": "white",
            "showbackground": true,
            "ticks": "",
            "zerolinecolor": "white"
           },
           "zaxis": {
            "backgroundcolor": "#E5ECF6",
            "gridcolor": "white",
            "gridwidth": 2,
            "linecolor": "white",
            "showbackground": true,
            "ticks": "",
            "zerolinecolor": "white"
           }
          },
          "shapedefaults": {
           "line": {
            "color": "#2a3f5f"
           }
          },
          "ternary": {
           "aaxis": {
            "gridcolor": "white",
            "linecolor": "white",
            "ticks": ""
           },
           "baxis": {
            "gridcolor": "white",
            "linecolor": "white",
            "ticks": ""
           },
           "bgcolor": "#E5ECF6",
           "caxis": {
            "gridcolor": "white",
            "linecolor": "white",
            "ticks": ""
           }
          },
          "title": {
           "x": 0.05
          },
          "xaxis": {
           "automargin": true,
           "gridcolor": "white",
           "linecolor": "white",
           "ticks": "",
           "title": {
            "standoff": 15
           },
           "zerolinecolor": "white",
           "zerolinewidth": 2
          },
          "yaxis": {
           "automargin": true,
           "gridcolor": "white",
           "linecolor": "white",
           "ticks": "",
           "title": {
            "standoff": 15
           },
           "zerolinecolor": "white",
           "zerolinewidth": 2
          }
         }
        },
        "title": {
         "text": "Stacked Accidents for Micro Vehicles in Jerusalem by Age Group and Year"
        },
        "xaxis": {
         "anchor": "y",
         "domain": [
          0,
          1
         ],
         "title": {
          "text": "Accident Year"
         },
         "type": "category"
        },
        "yaxis": {
         "anchor": "x",
         "domain": [
          0,
          1
         ],
         "title": {
          "text": "Number of Accidents"
         }
        }
       }
      }
     },
     "metadata": {},
     "output_type": "display_data"
    }
   ],
   "source": [
    "\n",
    "# filtering for: no unknown ages (99), micro vehicle\n",
    "imh_jer_gb_age_year = imh_jer[(imh_jer.age_group > 1) & (imh_jer.age_group < 14) & (imh_jer.involve_vehicle_type.isin(micro_vehicle))].copy()\n",
    "imh_jer_gb_age_year = imh_jer_gb_age_year.groupby(['accident_year', 'age_group_hebrew']).size().reset_index(name='count')\n",
    "\n",
    "# Pivot the data for the stacked bar chart, filling any NaNs with 0\n",
    "imh_jer_pivot = imh_jer_gb_age_year.pivot(index='accident_year', columns='age_group_hebrew', values='count').fillna(0)\n",
    "\n",
    "# Sort the columns in ascending order to ensure the youngest age groups are at the bottom of the stack\n",
    "imh_jer_pivot = imh_jer_pivot.sort_index(axis=1, ascending=True)\n",
    "\n",
    "# Create the stacked bar chart\n",
    "fig = px.area(\n",
    "    imh_jer_pivot,\n",
    "    title='Stacked Accidents for Micro Vehicles in Jerusalem by Age Group and Year',\n",
    "    labels={'value': 'Number of Accidents', 'variable': 'Age Group', 'accident_year': 'Accident Year'}\n",
    ")\n",
    "\n",
    "# Update the layout to stack the bars\n",
    "fig.update_layout(\n",
    "    barmode='stack',\n",
    "    xaxis_title='Accident Year',\n",
    "    yaxis_title='Number of Accidents',\n",
    "    legend_title='Age Group',\n",
    "    xaxis=dict(type='category')\n",
    ")\n",
    "\n",
    "# Show the plot\n",
    "fig.show()"
   ]
  },
  {
   "cell_type": "code",
   "execution_count": 11,
   "id": "bce9577d",
   "metadata": {},
   "outputs": [
    {
     "name": "stderr",
     "output_type": "stream",
     "text": [
      "C:\\Users\\itay8\\AppData\\Local\\Temp\\ipykernel_18284\\1667422475.py:1: DtypeWarning:\n",
      "\n",
      "Columns (44,151) have mixed types. Specify dtype option on import or set low_memory=False.\n",
      "\n"
     ]
    },
    {
     "data": {
      "text/html": [
       "<div>\n",
       "<style scoped>\n",
       "    .dataframe tbody tr th:only-of-type {\n",
       "        vertical-align: middle;\n",
       "    }\n",
       "\n",
       "    .dataframe tbody tr th {\n",
       "        vertical-align: top;\n",
       "    }\n",
       "\n",
       "    .dataframe thead th {\n",
       "        text-align: right;\n",
       "    }\n",
       "</style>\n",
       "<table border=\"1\" class=\"dataframe\">\n",
       "  <thead>\n",
       "    <tr style=\"text-align: right;\">\n",
       "      <th></th>\n",
       "      <th>accident_id</th>\n",
       "      <th>provider_and_id</th>\n",
       "      <th>provider_code</th>\n",
       "      <th>file_type_police</th>\n",
       "      <th>involved_type</th>\n",
       "      <th>involved_type_hebrew</th>\n",
       "      <th>license_acquiring_date</th>\n",
       "      <th>age_group</th>\n",
       "      <th>age_group_hebrew</th>\n",
       "      <th>sex</th>\n",
       "      <th>...</th>\n",
       "      <th>vehicle_status_hebrew</th>\n",
       "      <th>vehicle_attribution</th>\n",
       "      <th>vehicle_attribution_hebrew</th>\n",
       "      <th>seats</th>\n",
       "      <th>total_weight</th>\n",
       "      <th>total_weight_hebrew</th>\n",
       "      <th>vehicle_vehicle_type</th>\n",
       "      <th>vehicle_vehicle_type_hebrew</th>\n",
       "      <th>vehicle_damage</th>\n",
       "      <th>vehicle_damage_hebrew</th>\n",
       "    </tr>\n",
       "  </thead>\n",
       "  <tbody>\n",
       "    <tr>\n",
       "      <th>0</th>\n",
       "      <td>2013001076</td>\n",
       "      <td>32013001076</td>\n",
       "      <td>3</td>\n",
       "      <td>3</td>\n",
       "      <td>1</td>\n",
       "      <td>נהג</td>\n",
       "      <td>2010</td>\n",
       "      <td>13</td>\n",
       "      <td>60-64</td>\n",
       "      <td>1</td>\n",
       "      <td>...</td>\n",
       "      <td>NaN</td>\n",
       "      <td>1.0</td>\n",
       "      <td>ישראלי</td>\n",
       "      <td>3.0</td>\n",
       "      <td>1.0</td>\n",
       "      <td>עד 1.9</td>\n",
       "      <td>12.0</td>\n",
       "      <td>מונית</td>\n",
       "      <td>4.0</td>\n",
       "      <td>אין נזק</td>\n",
       "    </tr>\n",
       "    <tr>\n",
       "      <th>1</th>\n",
       "      <td>2013001885</td>\n",
       "      <td>32013001885</td>\n",
       "      <td>3</td>\n",
       "      <td>3</td>\n",
       "      <td>2</td>\n",
       "      <td>נהג נפגע</td>\n",
       "      <td>2003</td>\n",
       "      <td>7</td>\n",
       "      <td>30-34</td>\n",
       "      <td>1</td>\n",
       "      <td>...</td>\n",
       "      <td>NaN</td>\n",
       "      <td>1.0</td>\n",
       "      <td>ישראלי</td>\n",
       "      <td>1.0</td>\n",
       "      <td>NaN</td>\n",
       "      <td>NaN</td>\n",
       "      <td>10.0</td>\n",
       "      <td>אופנוע 126 עד 400 סמ\"ק</td>\n",
       "      <td>4.0</td>\n",
       "      <td>אין נזק</td>\n",
       "    </tr>\n",
       "    <tr>\n",
       "      <th>2</th>\n",
       "      <td>2013000001</td>\n",
       "      <td>12013000001</td>\n",
       "      <td>1</td>\n",
       "      <td>1</td>\n",
       "      <td>3</td>\n",
       "      <td>נפגע</td>\n",
       "      <td>0</td>\n",
       "      <td>12</td>\n",
       "      <td>55-59</td>\n",
       "      <td>1</td>\n",
       "      <td>...</td>\n",
       "      <td>NaN</td>\n",
       "      <td>NaN</td>\n",
       "      <td>NaN</td>\n",
       "      <td>NaN</td>\n",
       "      <td>NaN</td>\n",
       "      <td>NaN</td>\n",
       "      <td>NaN</td>\n",
       "      <td>NaN</td>\n",
       "      <td>NaN</td>\n",
       "      <td>NaN</td>\n",
       "    </tr>\n",
       "    <tr>\n",
       "      <th>3</th>\n",
       "      <td>2013002115</td>\n",
       "      <td>32013002115</td>\n",
       "      <td>3</td>\n",
       "      <td>3</td>\n",
       "      <td>1</td>\n",
       "      <td>נהג</td>\n",
       "      <td>0</td>\n",
       "      <td>99</td>\n",
       "      <td>לא ידוע</td>\n",
       "      <td>0</td>\n",
       "      <td>...</td>\n",
       "      <td>NaN</td>\n",
       "      <td>1.0</td>\n",
       "      <td>ישראלי</td>\n",
       "      <td>99.0</td>\n",
       "      <td>0.0</td>\n",
       "      <td>לא ידוע</td>\n",
       "      <td>17.0</td>\n",
       "      <td>אחר ולא ידוע</td>\n",
       "      <td>1.0</td>\n",
       "      <td>קל</td>\n",
       "    </tr>\n",
       "    <tr>\n",
       "      <th>4</th>\n",
       "      <td>2013000005</td>\n",
       "      <td>12013000005</td>\n",
       "      <td>1</td>\n",
       "      <td>1</td>\n",
       "      <td>1</td>\n",
       "      <td>נהג</td>\n",
       "      <td>2006</td>\n",
       "      <td>10</td>\n",
       "      <td>45-49</td>\n",
       "      <td>1</td>\n",
       "      <td>...</td>\n",
       "      <td>NaN</td>\n",
       "      <td>1.0</td>\n",
       "      <td>ישראלי</td>\n",
       "      <td>35.0</td>\n",
       "      <td>11.0</td>\n",
       "      <td>16.0-19.0</td>\n",
       "      <td>11.0</td>\n",
       "      <td>אוטובוס</td>\n",
       "      <td>4.0</td>\n",
       "      <td>אין נזק</td>\n",
       "    </tr>\n",
       "    <tr>\n",
       "      <th>...</th>\n",
       "      <td>...</td>\n",
       "      <td>...</td>\n",
       "      <td>...</td>\n",
       "      <td>...</td>\n",
       "      <td>...</td>\n",
       "      <td>...</td>\n",
       "      <td>...</td>\n",
       "      <td>...</td>\n",
       "      <td>...</td>\n",
       "      <td>...</td>\n",
       "      <td>...</td>\n",
       "      <td>...</td>\n",
       "      <td>...</td>\n",
       "      <td>...</td>\n",
       "      <td>...</td>\n",
       "      <td>...</td>\n",
       "      <td>...</td>\n",
       "      <td>...</td>\n",
       "      <td>...</td>\n",
       "      <td>...</td>\n",
       "      <td>...</td>\n",
       "    </tr>\n",
       "    <tr>\n",
       "      <th>107196</th>\n",
       "      <td>2023098840</td>\n",
       "      <td>32023098840</td>\n",
       "      <td>3</td>\n",
       "      <td>3</td>\n",
       "      <td>3</td>\n",
       "      <td>נפגע</td>\n",
       "      <td>0</td>\n",
       "      <td>7</td>\n",
       "      <td>30-34</td>\n",
       "      <td>2</td>\n",
       "      <td>...</td>\n",
       "      <td>NaN</td>\n",
       "      <td>NaN</td>\n",
       "      <td>NaN</td>\n",
       "      <td>NaN</td>\n",
       "      <td>NaN</td>\n",
       "      <td>NaN</td>\n",
       "      <td>NaN</td>\n",
       "      <td>NaN</td>\n",
       "      <td>NaN</td>\n",
       "      <td>NaN</td>\n",
       "    </tr>\n",
       "    <tr>\n",
       "      <th>107197</th>\n",
       "      <td>2023098343</td>\n",
       "      <td>12023098343</td>\n",
       "      <td>1</td>\n",
       "      <td>1</td>\n",
       "      <td>1</td>\n",
       "      <td>נהג</td>\n",
       "      <td>2015</td>\n",
       "      <td>6</td>\n",
       "      <td>25-29</td>\n",
       "      <td>2</td>\n",
       "      <td>...</td>\n",
       "      <td>NaN</td>\n",
       "      <td>1.0</td>\n",
       "      <td>ישראלי</td>\n",
       "      <td>99.0</td>\n",
       "      <td>1.0</td>\n",
       "      <td>עד 1.9</td>\n",
       "      <td>1.0</td>\n",
       "      <td>רכב נוסעים פרטי</td>\n",
       "      <td>4.0</td>\n",
       "      <td>אין נזק</td>\n",
       "    </tr>\n",
       "    <tr>\n",
       "      <th>107198</th>\n",
       "      <td>2023097423</td>\n",
       "      <td>32023097423</td>\n",
       "      <td>3</td>\n",
       "      <td>3</td>\n",
       "      <td>1</td>\n",
       "      <td>נהג</td>\n",
       "      <td>2019</td>\n",
       "      <td>5</td>\n",
       "      <td>20-24</td>\n",
       "      <td>1</td>\n",
       "      <td>...</td>\n",
       "      <td>NaN</td>\n",
       "      <td>1.0</td>\n",
       "      <td>ישראלי</td>\n",
       "      <td>99.0</td>\n",
       "      <td>0.0</td>\n",
       "      <td>לא ידוע</td>\n",
       "      <td>17.0</td>\n",
       "      <td>אחר ולא ידוע</td>\n",
       "      <td>4.0</td>\n",
       "      <td>אין נזק</td>\n",
       "    </tr>\n",
       "    <tr>\n",
       "      <th>107199</th>\n",
       "      <td>2023099879</td>\n",
       "      <td>12023099879</td>\n",
       "      <td>1</td>\n",
       "      <td>1</td>\n",
       "      <td>3</td>\n",
       "      <td>נפגע</td>\n",
       "      <td>0</td>\n",
       "      <td>15</td>\n",
       "      <td>70-74</td>\n",
       "      <td>2</td>\n",
       "      <td>...</td>\n",
       "      <td>NaN</td>\n",
       "      <td>NaN</td>\n",
       "      <td>NaN</td>\n",
       "      <td>NaN</td>\n",
       "      <td>NaN</td>\n",
       "      <td>NaN</td>\n",
       "      <td>NaN</td>\n",
       "      <td>NaN</td>\n",
       "      <td>NaN</td>\n",
       "      <td>NaN</td>\n",
       "    </tr>\n",
       "    <tr>\n",
       "      <th>107200</th>\n",
       "      <td>2023099292</td>\n",
       "      <td>32023099292</td>\n",
       "      <td>3</td>\n",
       "      <td>3</td>\n",
       "      <td>2</td>\n",
       "      <td>נהג נפגע</td>\n",
       "      <td>2022</td>\n",
       "      <td>4</td>\n",
       "      <td>15-19</td>\n",
       "      <td>1</td>\n",
       "      <td>...</td>\n",
       "      <td>NaN</td>\n",
       "      <td>1.0</td>\n",
       "      <td>ישראלי</td>\n",
       "      <td>1.0</td>\n",
       "      <td>1.0</td>\n",
       "      <td>עד 1.9</td>\n",
       "      <td>9.0</td>\n",
       "      <td>אופנוע 51 עד 125 סמ\"ק</td>\n",
       "      <td>4.0</td>\n",
       "      <td>אין נזק</td>\n",
       "    </tr>\n",
       "  </tbody>\n",
       "</table>\n",
       "<p>107201 rows × 161 columns</p>\n",
       "</div>"
      ],
      "text/plain": [
       "        accident_id  provider_and_id  provider_code  file_type_police  \\\n",
       "0        2013001076      32013001076              3                 3   \n",
       "1        2013001885      32013001885              3                 3   \n",
       "2        2013000001      12013000001              1                 1   \n",
       "3        2013002115      32013002115              3                 3   \n",
       "4        2013000005      12013000005              1                 1   \n",
       "...             ...              ...            ...               ...   \n",
       "107196   2023098840      32023098840              3                 3   \n",
       "107197   2023098343      12023098343              1                 1   \n",
       "107198   2023097423      32023097423              3                 3   \n",
       "107199   2023099879      12023099879              1                 1   \n",
       "107200   2023099292      32023099292              3                 3   \n",
       "\n",
       "        involved_type involved_type_hebrew  license_acquiring_date  age_group  \\\n",
       "0                   1                  נהג                    2010         13   \n",
       "1                   2             נהג נפגע                    2003          7   \n",
       "2                   3                 נפגע                       0         12   \n",
       "3                   1                  נהג                       0         99   \n",
       "4                   1                  נהג                    2006         10   \n",
       "...               ...                  ...                     ...        ...   \n",
       "107196              3                 נפגע                       0          7   \n",
       "107197              1                  נהג                    2015          6   \n",
       "107198              1                  נהג                    2019          5   \n",
       "107199              3                 נפגע                       0         15   \n",
       "107200              2             נהג נפגע                    2022          4   \n",
       "\n",
       "       age_group_hebrew  sex  ... vehicle_status_hebrew  vehicle_attribution  \\\n",
       "0                 60-64    1  ...                   NaN                  1.0   \n",
       "1                 30-34    1  ...                   NaN                  1.0   \n",
       "2                 55-59    1  ...                   NaN                  NaN   \n",
       "3               לא ידוע    0  ...                   NaN                  1.0   \n",
       "4                 45-49    1  ...                   NaN                  1.0   \n",
       "...                 ...  ...  ...                   ...                  ...   \n",
       "107196            30-34    2  ...                   NaN                  NaN   \n",
       "107197            25-29    2  ...                   NaN                  1.0   \n",
       "107198            20-24    1  ...                   NaN                  1.0   \n",
       "107199            70-74    2  ...                   NaN                  NaN   \n",
       "107200            15-19    1  ...                   NaN                  1.0   \n",
       "\n",
       "       vehicle_attribution_hebrew  seats total_weight  total_weight_hebrew  \\\n",
       "0                          ישראלי    3.0          1.0               עד 1.9   \n",
       "1                          ישראלי    1.0          NaN                  NaN   \n",
       "2                             NaN    NaN          NaN                  NaN   \n",
       "3                          ישראלי   99.0          0.0              לא ידוע   \n",
       "4                          ישראלי   35.0         11.0            16.0-19.0   \n",
       "...                           ...    ...          ...                  ...   \n",
       "107196                        NaN    NaN          NaN                  NaN   \n",
       "107197                     ישראלי   99.0          1.0               עד 1.9   \n",
       "107198                     ישראלי   99.0          0.0              לא ידוע   \n",
       "107199                        NaN    NaN          NaN                  NaN   \n",
       "107200                     ישראלי    1.0          1.0               עד 1.9   \n",
       "\n",
       "       vehicle_vehicle_type  vehicle_vehicle_type_hebrew vehicle_damage  \\\n",
       "0                      12.0                        מונית            4.0   \n",
       "1                      10.0       אופנוע 126 עד 400 סמ\"ק            4.0   \n",
       "2                       NaN                          NaN            NaN   \n",
       "3                      17.0                 אחר ולא ידוע            1.0   \n",
       "4                      11.0                      אוטובוס            4.0   \n",
       "...                     ...                          ...            ...   \n",
       "107196                  NaN                          NaN            NaN   \n",
       "107197                  1.0              רכב נוסעים פרטי            4.0   \n",
       "107198                 17.0                 אחר ולא ידוע            4.0   \n",
       "107199                  NaN                          NaN            NaN   \n",
       "107200                  9.0        אופנוע 51 עד 125 סמ\"ק            4.0   \n",
       "\n",
       "        vehicle_damage_hebrew  \n",
       "0                     אין נזק  \n",
       "1                     אין נזק  \n",
       "2                         NaN  \n",
       "3                          קל  \n",
       "4                     אין נזק  \n",
       "...                       ...  \n",
       "107196                    NaN  \n",
       "107197                אין נזק  \n",
       "107198                אין נזק  \n",
       "107199                    NaN  \n",
       "107200                אין נזק  \n",
       "\n",
       "[107201 rows x 161 columns]"
      ]
     },
     "execution_count": 11,
     "metadata": {},
     "output_type": "execute_result"
    }
   ],
   "source": [
    "imh_ta = pd.read_csv('./csv_tables/i_m_h_tel_aviv_yafo.csv')\n",
    "imh_ta"
   ]
  },
  {
   "cell_type": "markdown",
   "id": "49c869fc",
   "metadata": {},
   "source": [
    "### Tel Aviv"
   ]
  },
  {
   "cell_type": "code",
   "execution_count": 24,
   "id": "82773ad4",
   "metadata": {},
   "outputs": [
    {
     "data": {
      "application/vnd.plotly.v1+json": {
       "config": {
        "plotlyServerURL": "https://plot.ly"
       },
       "data": [
        {
         "fillpattern": {
          "shape": ""
         },
         "hovertemplate": "age_group_hebrew=05-09<br>Accident Year=%{x}<br>Number of Accidents=%{y}<extra></extra>",
         "legendgroup": "05-09",
         "line": {
          "color": "#636efa"
         },
         "marker": {
          "symbol": "circle"
         },
         "mode": "lines",
         "name": "05-09",
         "orientation": "v",
         "showlegend": true,
         "stackgroup": "1",
         "type": "scatter",
         "x": [
          2013,
          2014,
          2015,
          2016,
          2017,
          2018,
          2019,
          2020,
          2021,
          2022,
          2023
         ],
         "xaxis": "x",
         "y": [
          7,
          9,
          3,
          6,
          8,
          3,
          6,
          8,
          2,
          3,
          3
         ],
         "yaxis": "y"
        },
        {
         "fillpattern": {
          "shape": ""
         },
         "hovertemplate": "age_group_hebrew=10-14<br>Accident Year=%{x}<br>Number of Accidents=%{y}<extra></extra>",
         "legendgroup": "10-14",
         "line": {
          "color": "#EF553B"
         },
         "marker": {
          "symbol": "circle"
         },
         "mode": "lines",
         "name": "10-14",
         "orientation": "v",
         "showlegend": true,
         "stackgroup": "1",
         "type": "scatter",
         "x": [
          2013,
          2014,
          2015,
          2016,
          2017,
          2018,
          2019,
          2020,
          2021,
          2022,
          2023
         ],
         "xaxis": "x",
         "y": [
          36,
          39,
          38,
          25,
          35,
          11,
          9,
          17,
          19,
          15,
          13
         ],
         "yaxis": "y"
        },
        {
         "fillpattern": {
          "shape": ""
         },
         "hovertemplate": "age_group_hebrew=15-19<br>Accident Year=%{x}<br>Number of Accidents=%{y}<extra></extra>",
         "legendgroup": "15-19",
         "line": {
          "color": "#00cc96"
         },
         "marker": {
          "symbol": "circle"
         },
         "mode": "lines",
         "name": "15-19",
         "orientation": "v",
         "showlegend": true,
         "stackgroup": "1",
         "type": "scatter",
         "x": [
          2013,
          2014,
          2015,
          2016,
          2017,
          2018,
          2019,
          2020,
          2021,
          2022,
          2023
         ],
         "xaxis": "x",
         "y": [
          41,
          61,
          60,
          76,
          75,
          58,
          55,
          54,
          67,
          57,
          43
         ],
         "yaxis": "y"
        },
        {
         "fillpattern": {
          "shape": ""
         },
         "hovertemplate": "age_group_hebrew=20-24<br>Accident Year=%{x}<br>Number of Accidents=%{y}<extra></extra>",
         "legendgroup": "20-24",
         "line": {
          "color": "#ab63fa"
         },
         "marker": {
          "symbol": "circle"
         },
         "mode": "lines",
         "name": "20-24",
         "orientation": "v",
         "showlegend": true,
         "stackgroup": "1",
         "type": "scatter",
         "x": [
          2013,
          2014,
          2015,
          2016,
          2017,
          2018,
          2019,
          2020,
          2021,
          2022,
          2023
         ],
         "xaxis": "x",
         "y": [
          35,
          71,
          78,
          73,
          76,
          80,
          98,
          104,
          102,
          99,
          62
         ],
         "yaxis": "y"
        },
        {
         "fillpattern": {
          "shape": ""
         },
         "hovertemplate": "age_group_hebrew=25-29<br>Accident Year=%{x}<br>Number of Accidents=%{y}<extra></extra>",
         "legendgroup": "25-29",
         "line": {
          "color": "#FFA15A"
         },
         "marker": {
          "symbol": "circle"
         },
         "mode": "lines",
         "name": "25-29",
         "orientation": "v",
         "showlegend": true,
         "stackgroup": "1",
         "type": "scatter",
         "x": [
          2013,
          2014,
          2015,
          2016,
          2017,
          2018,
          2019,
          2020,
          2021,
          2022,
          2023
         ],
         "xaxis": "x",
         "y": [
          63,
          101,
          73,
          121,
          128,
          128,
          138,
          139,
          161,
          147,
          88
         ],
         "yaxis": "y"
        },
        {
         "fillpattern": {
          "shape": ""
         },
         "hovertemplate": "age_group_hebrew=30-34<br>Accident Year=%{x}<br>Number of Accidents=%{y}<extra></extra>",
         "legendgroup": "30-34",
         "line": {
          "color": "#19d3f3"
         },
         "marker": {
          "symbol": "circle"
         },
         "mode": "lines",
         "name": "30-34",
         "orientation": "v",
         "showlegend": true,
         "stackgroup": "1",
         "type": "scatter",
         "x": [
          2013,
          2014,
          2015,
          2016,
          2017,
          2018,
          2019,
          2020,
          2021,
          2022,
          2023
         ],
         "xaxis": "x",
         "y": [
          61,
          80,
          77,
          90,
          102,
          70,
          98,
          116,
          111,
          131,
          88
         ],
         "yaxis": "y"
        },
        {
         "fillpattern": {
          "shape": ""
         },
         "hovertemplate": "age_group_hebrew=35-39<br>Accident Year=%{x}<br>Number of Accidents=%{y}<extra></extra>",
         "legendgroup": "35-39",
         "line": {
          "color": "#FF6692"
         },
         "marker": {
          "symbol": "circle"
         },
         "mode": "lines",
         "name": "35-39",
         "orientation": "v",
         "showlegend": true,
         "stackgroup": "1",
         "type": "scatter",
         "x": [
          2013,
          2014,
          2015,
          2016,
          2017,
          2018,
          2019,
          2020,
          2021,
          2022,
          2023
         ],
         "xaxis": "x",
         "y": [
          40,
          37,
          55,
          58,
          46,
          63,
          63,
          77,
          81,
          79,
          63
         ],
         "yaxis": "y"
        },
        {
         "fillpattern": {
          "shape": ""
         },
         "hovertemplate": "age_group_hebrew=40-44<br>Accident Year=%{x}<br>Number of Accidents=%{y}<extra></extra>",
         "legendgroup": "40-44",
         "line": {
          "color": "#B6E880"
         },
         "marker": {
          "symbol": "circle"
         },
         "mode": "lines",
         "name": "40-44",
         "orientation": "v",
         "showlegend": true,
         "stackgroup": "1",
         "type": "scatter",
         "x": [
          2013,
          2014,
          2015,
          2016,
          2017,
          2018,
          2019,
          2020,
          2021,
          2022,
          2023
         ],
         "xaxis": "x",
         "y": [
          28,
          32,
          44,
          42,
          42,
          33,
          37,
          56,
          50,
          68,
          29
         ],
         "yaxis": "y"
        },
        {
         "fillpattern": {
          "shape": ""
         },
         "hovertemplate": "age_group_hebrew=45-49<br>Accident Year=%{x}<br>Number of Accidents=%{y}<extra></extra>",
         "legendgroup": "45-49",
         "line": {
          "color": "#FF97FF"
         },
         "marker": {
          "symbol": "circle"
         },
         "mode": "lines",
         "name": "45-49",
         "orientation": "v",
         "showlegend": true,
         "stackgroup": "1",
         "type": "scatter",
         "x": [
          2013,
          2014,
          2015,
          2016,
          2017,
          2018,
          2019,
          2020,
          2021,
          2022,
          2023
         ],
         "xaxis": "x",
         "y": [
          24,
          25,
          28,
          41,
          38,
          31,
          43,
          25,
          40,
          40,
          31
         ],
         "yaxis": "y"
        },
        {
         "fillpattern": {
          "shape": ""
         },
         "hovertemplate": "age_group_hebrew=50-54<br>Accident Year=%{x}<br>Number of Accidents=%{y}<extra></extra>",
         "legendgroup": "50-54",
         "line": {
          "color": "#FECB52"
         },
         "marker": {
          "symbol": "circle"
         },
         "mode": "lines",
         "name": "50-54",
         "orientation": "v",
         "showlegend": true,
         "stackgroup": "1",
         "type": "scatter",
         "x": [
          2013,
          2014,
          2015,
          2016,
          2017,
          2018,
          2019,
          2020,
          2021,
          2022,
          2023
         ],
         "xaxis": "x",
         "y": [
          22,
          37,
          35,
          29,
          21,
          16,
          24,
          37,
          31,
          48,
          21
         ],
         "yaxis": "y"
        },
        {
         "fillpattern": {
          "shape": ""
         },
         "hovertemplate": "age_group_hebrew=55-59<br>Accident Year=%{x}<br>Number of Accidents=%{y}<extra></extra>",
         "legendgroup": "55-59",
         "line": {
          "color": "#636efa"
         },
         "marker": {
          "symbol": "circle"
         },
         "mode": "lines",
         "name": "55-59",
         "orientation": "v",
         "showlegend": true,
         "stackgroup": "1",
         "type": "scatter",
         "x": [
          2013,
          2014,
          2015,
          2016,
          2017,
          2018,
          2019,
          2020,
          2021,
          2022,
          2023
         ],
         "xaxis": "x",
         "y": [
          12,
          19,
          19,
          28,
          29,
          18,
          21,
          19,
          28,
          26,
          18
         ],
         "yaxis": "y"
        },
        {
         "fillpattern": {
          "shape": ""
         },
         "hovertemplate": "age_group_hebrew=60-64<br>Accident Year=%{x}<br>Number of Accidents=%{y}<extra></extra>",
         "legendgroup": "60-64",
         "line": {
          "color": "#EF553B"
         },
         "marker": {
          "symbol": "circle"
         },
         "mode": "lines",
         "name": "60-64",
         "orientation": "v",
         "showlegend": true,
         "stackgroup": "1",
         "type": "scatter",
         "x": [
          2013,
          2014,
          2015,
          2016,
          2017,
          2018,
          2019,
          2020,
          2021,
          2022,
          2023
         ],
         "xaxis": "x",
         "y": [
          16,
          23,
          23,
          23,
          23,
          16,
          20,
          20,
          16,
          17,
          24
         ],
         "yaxis": "y"
        }
       ],
       "layout": {
        "barmode": "stack",
        "legend": {
         "title": {
          "text": "Age Group"
         },
         "tracegroupgap": 0
        },
        "template": {
         "data": {
          "bar": [
           {
            "error_x": {
             "color": "#2a3f5f"
            },
            "error_y": {
             "color": "#2a3f5f"
            },
            "marker": {
             "line": {
              "color": "#E5ECF6",
              "width": 0.5
             },
             "pattern": {
              "fillmode": "overlay",
              "size": 10,
              "solidity": 0.2
             }
            },
            "type": "bar"
           }
          ],
          "barpolar": [
           {
            "marker": {
             "line": {
              "color": "#E5ECF6",
              "width": 0.5
             },
             "pattern": {
              "fillmode": "overlay",
              "size": 10,
              "solidity": 0.2
             }
            },
            "type": "barpolar"
           }
          ],
          "carpet": [
           {
            "aaxis": {
             "endlinecolor": "#2a3f5f",
             "gridcolor": "white",
             "linecolor": "white",
             "minorgridcolor": "white",
             "startlinecolor": "#2a3f5f"
            },
            "baxis": {
             "endlinecolor": "#2a3f5f",
             "gridcolor": "white",
             "linecolor": "white",
             "minorgridcolor": "white",
             "startlinecolor": "#2a3f5f"
            },
            "type": "carpet"
           }
          ],
          "choropleth": [
           {
            "colorbar": {
             "outlinewidth": 0,
             "ticks": ""
            },
            "type": "choropleth"
           }
          ],
          "contour": [
           {
            "colorbar": {
             "outlinewidth": 0,
             "ticks": ""
            },
            "colorscale": [
             [
              0,
              "#0d0887"
             ],
             [
              0.1111111111111111,
              "#46039f"
             ],
             [
              0.2222222222222222,
              "#7201a8"
             ],
             [
              0.3333333333333333,
              "#9c179e"
             ],
             [
              0.4444444444444444,
              "#bd3786"
             ],
             [
              0.5555555555555556,
              "#d8576b"
             ],
             [
              0.6666666666666666,
              "#ed7953"
             ],
             [
              0.7777777777777778,
              "#fb9f3a"
             ],
             [
              0.8888888888888888,
              "#fdca26"
             ],
             [
              1,
              "#f0f921"
             ]
            ],
            "type": "contour"
           }
          ],
          "contourcarpet": [
           {
            "colorbar": {
             "outlinewidth": 0,
             "ticks": ""
            },
            "type": "contourcarpet"
           }
          ],
          "heatmap": [
           {
            "colorbar": {
             "outlinewidth": 0,
             "ticks": ""
            },
            "colorscale": [
             [
              0,
              "#0d0887"
             ],
             [
              0.1111111111111111,
              "#46039f"
             ],
             [
              0.2222222222222222,
              "#7201a8"
             ],
             [
              0.3333333333333333,
              "#9c179e"
             ],
             [
              0.4444444444444444,
              "#bd3786"
             ],
             [
              0.5555555555555556,
              "#d8576b"
             ],
             [
              0.6666666666666666,
              "#ed7953"
             ],
             [
              0.7777777777777778,
              "#fb9f3a"
             ],
             [
              0.8888888888888888,
              "#fdca26"
             ],
             [
              1,
              "#f0f921"
             ]
            ],
            "type": "heatmap"
           }
          ],
          "heatmapgl": [
           {
            "colorbar": {
             "outlinewidth": 0,
             "ticks": ""
            },
            "colorscale": [
             [
              0,
              "#0d0887"
             ],
             [
              0.1111111111111111,
              "#46039f"
             ],
             [
              0.2222222222222222,
              "#7201a8"
             ],
             [
              0.3333333333333333,
              "#9c179e"
             ],
             [
              0.4444444444444444,
              "#bd3786"
             ],
             [
              0.5555555555555556,
              "#d8576b"
             ],
             [
              0.6666666666666666,
              "#ed7953"
             ],
             [
              0.7777777777777778,
              "#fb9f3a"
             ],
             [
              0.8888888888888888,
              "#fdca26"
             ],
             [
              1,
              "#f0f921"
             ]
            ],
            "type": "heatmapgl"
           }
          ],
          "histogram": [
           {
            "marker": {
             "pattern": {
              "fillmode": "overlay",
              "size": 10,
              "solidity": 0.2
             }
            },
            "type": "histogram"
           }
          ],
          "histogram2d": [
           {
            "colorbar": {
             "outlinewidth": 0,
             "ticks": ""
            },
            "colorscale": [
             [
              0,
              "#0d0887"
             ],
             [
              0.1111111111111111,
              "#46039f"
             ],
             [
              0.2222222222222222,
              "#7201a8"
             ],
             [
              0.3333333333333333,
              "#9c179e"
             ],
             [
              0.4444444444444444,
              "#bd3786"
             ],
             [
              0.5555555555555556,
              "#d8576b"
             ],
             [
              0.6666666666666666,
              "#ed7953"
             ],
             [
              0.7777777777777778,
              "#fb9f3a"
             ],
             [
              0.8888888888888888,
              "#fdca26"
             ],
             [
              1,
              "#f0f921"
             ]
            ],
            "type": "histogram2d"
           }
          ],
          "histogram2dcontour": [
           {
            "colorbar": {
             "outlinewidth": 0,
             "ticks": ""
            },
            "colorscale": [
             [
              0,
              "#0d0887"
             ],
             [
              0.1111111111111111,
              "#46039f"
             ],
             [
              0.2222222222222222,
              "#7201a8"
             ],
             [
              0.3333333333333333,
              "#9c179e"
             ],
             [
              0.4444444444444444,
              "#bd3786"
             ],
             [
              0.5555555555555556,
              "#d8576b"
             ],
             [
              0.6666666666666666,
              "#ed7953"
             ],
             [
              0.7777777777777778,
              "#fb9f3a"
             ],
             [
              0.8888888888888888,
              "#fdca26"
             ],
             [
              1,
              "#f0f921"
             ]
            ],
            "type": "histogram2dcontour"
           }
          ],
          "mesh3d": [
           {
            "colorbar": {
             "outlinewidth": 0,
             "ticks": ""
            },
            "type": "mesh3d"
           }
          ],
          "parcoords": [
           {
            "line": {
             "colorbar": {
              "outlinewidth": 0,
              "ticks": ""
             }
            },
            "type": "parcoords"
           }
          ],
          "pie": [
           {
            "automargin": true,
            "type": "pie"
           }
          ],
          "scatter": [
           {
            "fillpattern": {
             "fillmode": "overlay",
             "size": 10,
             "solidity": 0.2
            },
            "type": "scatter"
           }
          ],
          "scatter3d": [
           {
            "line": {
             "colorbar": {
              "outlinewidth": 0,
              "ticks": ""
             }
            },
            "marker": {
             "colorbar": {
              "outlinewidth": 0,
              "ticks": ""
             }
            },
            "type": "scatter3d"
           }
          ],
          "scattercarpet": [
           {
            "marker": {
             "colorbar": {
              "outlinewidth": 0,
              "ticks": ""
             }
            },
            "type": "scattercarpet"
           }
          ],
          "scattergeo": [
           {
            "marker": {
             "colorbar": {
              "outlinewidth": 0,
              "ticks": ""
             }
            },
            "type": "scattergeo"
           }
          ],
          "scattergl": [
           {
            "marker": {
             "colorbar": {
              "outlinewidth": 0,
              "ticks": ""
             }
            },
            "type": "scattergl"
           }
          ],
          "scattermapbox": [
           {
            "marker": {
             "colorbar": {
              "outlinewidth": 0,
              "ticks": ""
             }
            },
            "type": "scattermapbox"
           }
          ],
          "scatterpolar": [
           {
            "marker": {
             "colorbar": {
              "outlinewidth": 0,
              "ticks": ""
             }
            },
            "type": "scatterpolar"
           }
          ],
          "scatterpolargl": [
           {
            "marker": {
             "colorbar": {
              "outlinewidth": 0,
              "ticks": ""
             }
            },
            "type": "scatterpolargl"
           }
          ],
          "scatterternary": [
           {
            "marker": {
             "colorbar": {
              "outlinewidth": 0,
              "ticks": ""
             }
            },
            "type": "scatterternary"
           }
          ],
          "surface": [
           {
            "colorbar": {
             "outlinewidth": 0,
             "ticks": ""
            },
            "colorscale": [
             [
              0,
              "#0d0887"
             ],
             [
              0.1111111111111111,
              "#46039f"
             ],
             [
              0.2222222222222222,
              "#7201a8"
             ],
             [
              0.3333333333333333,
              "#9c179e"
             ],
             [
              0.4444444444444444,
              "#bd3786"
             ],
             [
              0.5555555555555556,
              "#d8576b"
             ],
             [
              0.6666666666666666,
              "#ed7953"
             ],
             [
              0.7777777777777778,
              "#fb9f3a"
             ],
             [
              0.8888888888888888,
              "#fdca26"
             ],
             [
              1,
              "#f0f921"
             ]
            ],
            "type": "surface"
           }
          ],
          "table": [
           {
            "cells": {
             "fill": {
              "color": "#EBF0F8"
             },
             "line": {
              "color": "white"
             }
            },
            "header": {
             "fill": {
              "color": "#C8D4E3"
             },
             "line": {
              "color": "white"
             }
            },
            "type": "table"
           }
          ]
         },
         "layout": {
          "annotationdefaults": {
           "arrowcolor": "#2a3f5f",
           "arrowhead": 0,
           "arrowwidth": 1
          },
          "autotypenumbers": "strict",
          "coloraxis": {
           "colorbar": {
            "outlinewidth": 0,
            "ticks": ""
           }
          },
          "colorscale": {
           "diverging": [
            [
             0,
             "#8e0152"
            ],
            [
             0.1,
             "#c51b7d"
            ],
            [
             0.2,
             "#de77ae"
            ],
            [
             0.3,
             "#f1b6da"
            ],
            [
             0.4,
             "#fde0ef"
            ],
            [
             0.5,
             "#f7f7f7"
            ],
            [
             0.6,
             "#e6f5d0"
            ],
            [
             0.7,
             "#b8e186"
            ],
            [
             0.8,
             "#7fbc41"
            ],
            [
             0.9,
             "#4d9221"
            ],
            [
             1,
             "#276419"
            ]
           ],
           "sequential": [
            [
             0,
             "#0d0887"
            ],
            [
             0.1111111111111111,
             "#46039f"
            ],
            [
             0.2222222222222222,
             "#7201a8"
            ],
            [
             0.3333333333333333,
             "#9c179e"
            ],
            [
             0.4444444444444444,
             "#bd3786"
            ],
            [
             0.5555555555555556,
             "#d8576b"
            ],
            [
             0.6666666666666666,
             "#ed7953"
            ],
            [
             0.7777777777777778,
             "#fb9f3a"
            ],
            [
             0.8888888888888888,
             "#fdca26"
            ],
            [
             1,
             "#f0f921"
            ]
           ],
           "sequentialminus": [
            [
             0,
             "#0d0887"
            ],
            [
             0.1111111111111111,
             "#46039f"
            ],
            [
             0.2222222222222222,
             "#7201a8"
            ],
            [
             0.3333333333333333,
             "#9c179e"
            ],
            [
             0.4444444444444444,
             "#bd3786"
            ],
            [
             0.5555555555555556,
             "#d8576b"
            ],
            [
             0.6666666666666666,
             "#ed7953"
            ],
            [
             0.7777777777777778,
             "#fb9f3a"
            ],
            [
             0.8888888888888888,
             "#fdca26"
            ],
            [
             1,
             "#f0f921"
            ]
           ]
          },
          "colorway": [
           "#636efa",
           "#EF553B",
           "#00cc96",
           "#ab63fa",
           "#FFA15A",
           "#19d3f3",
           "#FF6692",
           "#B6E880",
           "#FF97FF",
           "#FECB52"
          ],
          "font": {
           "color": "#2a3f5f"
          },
          "geo": {
           "bgcolor": "white",
           "lakecolor": "white",
           "landcolor": "#E5ECF6",
           "showlakes": true,
           "showland": true,
           "subunitcolor": "white"
          },
          "hoverlabel": {
           "align": "left"
          },
          "hovermode": "closest",
          "mapbox": {
           "style": "light"
          },
          "paper_bgcolor": "white",
          "plot_bgcolor": "#E5ECF6",
          "polar": {
           "angularaxis": {
            "gridcolor": "white",
            "linecolor": "white",
            "ticks": ""
           },
           "bgcolor": "#E5ECF6",
           "radialaxis": {
            "gridcolor": "white",
            "linecolor": "white",
            "ticks": ""
           }
          },
          "scene": {
           "xaxis": {
            "backgroundcolor": "#E5ECF6",
            "gridcolor": "white",
            "gridwidth": 2,
            "linecolor": "white",
            "showbackground": true,
            "ticks": "",
            "zerolinecolor": "white"
           },
           "yaxis": {
            "backgroundcolor": "#E5ECF6",
            "gridcolor": "white",
            "gridwidth": 2,
            "linecolor": "white",
            "showbackground": true,
            "ticks": "",
            "zerolinecolor": "white"
           },
           "zaxis": {
            "backgroundcolor": "#E5ECF6",
            "gridcolor": "white",
            "gridwidth": 2,
            "linecolor": "white",
            "showbackground": true,
            "ticks": "",
            "zerolinecolor": "white"
           }
          },
          "shapedefaults": {
           "line": {
            "color": "#2a3f5f"
           }
          },
          "ternary": {
           "aaxis": {
            "gridcolor": "white",
            "linecolor": "white",
            "ticks": ""
           },
           "baxis": {
            "gridcolor": "white",
            "linecolor": "white",
            "ticks": ""
           },
           "bgcolor": "#E5ECF6",
           "caxis": {
            "gridcolor": "white",
            "linecolor": "white",
            "ticks": ""
           }
          },
          "title": {
           "x": 0.05
          },
          "xaxis": {
           "automargin": true,
           "gridcolor": "white",
           "linecolor": "white",
           "ticks": "",
           "title": {
            "standoff": 15
           },
           "zerolinecolor": "white",
           "zerolinewidth": 2
          },
          "yaxis": {
           "automargin": true,
           "gridcolor": "white",
           "linecolor": "white",
           "ticks": "",
           "title": {
            "standoff": 15
           },
           "zerolinecolor": "white",
           "zerolinewidth": 2
          }
         }
        },
        "title": {
         "text": "Stacked Accidents for Micro Vehicles in Tel Aviv by Age Group and Year"
        },
        "xaxis": {
         "anchor": "y",
         "domain": [
          0,
          1
         ],
         "title": {
          "text": "Accident Year"
         },
         "type": "category"
        },
        "yaxis": {
         "anchor": "x",
         "domain": [
          0,
          1
         ],
         "title": {
          "text": "Number of Accidents"
         }
        }
       }
      }
     },
     "metadata": {},
     "output_type": "display_data"
    }
   ],
   "source": [
    "\n",
    "# filtering for: no unknown ages (99), micro vehicle\n",
    "imh_ta_gb_age_year = imh_ta[(imh_ta.age_group > 1) & (imh_ta.age_group < 14) & (imh_ta.involve_vehicle_type.isin(micro_vehicle))].copy()\n",
    "imh_ta_gb_age_year = imh_ta_gb_age_year.groupby(['accident_year', 'age_group_hebrew']).size().reset_index(name='count')\n",
    "\n",
    "# Pivot the data for the stacked bar chart, filling any NaNs with 0\n",
    "imh_ta_pivot = imh_ta_gb_age_year.pivot(index='accident_year', columns='age_group_hebrew', values='count').fillna(0)\n",
    "\n",
    "# Sort the columns in ascending order to ensure the youngest age groups are at the bottom of the stack\n",
    "imh_ta_pivot = imh_ta_pivot.sort_index(axis=1, ascending=True)\n",
    "\n",
    "# Create the stacked bar chart\n",
    "fig = px.area(\n",
    "    imh_ta_pivot,\n",
    "    title='Stacked Accidents for Micro Vehicles in Tel Aviv by Age Group and Year',\n",
    "    labels={'value': 'Number of Accidents', 'variable': 'Age Group', 'accident_year': 'Accident Year'}\n",
    ")\n",
    "\n",
    "# Update the layout to stack the bars\n",
    "fig.update_layout(\n",
    "    barmode='stack',\n",
    "    xaxis_title='Accident Year',\n",
    "    yaxis_title='Number of Accidents',\n",
    "    legend_title='Age Group',\n",
    "    xaxis=dict(type='category')\n",
    ")\n",
    "\n",
    "# Show the plot\n",
    "fig.show()"
   ]
  },
  {
   "cell_type": "markdown",
   "id": "1ba40c47",
   "metadata": {},
   "source": [
    "Points to consider:\n",
    "* micro mobility accidents are more related to the city since less people come to that city\n"
   ]
  },
  {
   "cell_type": "markdown",
   "id": "16a3cbf6",
   "metadata": {},
   "source": [
    "### Accidents by Vehicle Type and Injury Severity Over Years"
   ]
  },
  {
   "cell_type": "code",
   "execution_count": 13,
   "id": "a8c84de7",
   "metadata": {},
   "outputs": [
    {
     "data": {
      "text/html": [
       "<div>\n",
       "<style scoped>\n",
       "    .dataframe tbody tr th:only-of-type {\n",
       "        vertical-align: middle;\n",
       "    }\n",
       "\n",
       "    .dataframe tbody tr th {\n",
       "        vertical-align: top;\n",
       "    }\n",
       "\n",
       "    .dataframe thead th {\n",
       "        text-align: right;\n",
       "    }\n",
       "</style>\n",
       "<table border=\"1\" class=\"dataframe\">\n",
       "  <thead>\n",
       "    <tr style=\"text-align: right;\">\n",
       "      <th></th>\n",
       "      <th>accident_id</th>\n",
       "      <th>provider_and_id</th>\n",
       "      <th>provider_code</th>\n",
       "      <th>file_type_police</th>\n",
       "      <th>involved_type</th>\n",
       "      <th>involved_type_hebrew</th>\n",
       "      <th>license_acquiring_date</th>\n",
       "      <th>age_group</th>\n",
       "      <th>age_group_hebrew</th>\n",
       "      <th>sex</th>\n",
       "      <th>...</th>\n",
       "      <th>vehicle_status_hebrew</th>\n",
       "      <th>vehicle_attribution</th>\n",
       "      <th>vehicle_attribution_hebrew</th>\n",
       "      <th>seats</th>\n",
       "      <th>total_weight</th>\n",
       "      <th>total_weight_hebrew</th>\n",
       "      <th>vehicle_vehicle_type</th>\n",
       "      <th>vehicle_vehicle_type_hebrew</th>\n",
       "      <th>vehicle_damage</th>\n",
       "      <th>vehicle_damage_hebrew</th>\n",
       "    </tr>\n",
       "  </thead>\n",
       "  <tbody>\n",
       "    <tr>\n",
       "      <th>159</th>\n",
       "      <td>2013001368</td>\n",
       "      <td>32013001368</td>\n",
       "      <td>3</td>\n",
       "      <td>3</td>\n",
       "      <td>2</td>\n",
       "      <td>נהג נפגע</td>\n",
       "      <td>0</td>\n",
       "      <td>6</td>\n",
       "      <td>25-29</td>\n",
       "      <td>1</td>\n",
       "      <td>...</td>\n",
       "      <td>NaN</td>\n",
       "      <td>1.0</td>\n",
       "      <td>ישראלי</td>\n",
       "      <td>99.0</td>\n",
       "      <td>0.0</td>\n",
       "      <td>לא ידוע</td>\n",
       "      <td>15.0</td>\n",
       "      <td>אופניים</td>\n",
       "      <td>4.0</td>\n",
       "      <td>אין נזק</td>\n",
       "    </tr>\n",
       "    <tr>\n",
       "      <th>185</th>\n",
       "      <td>2013000801</td>\n",
       "      <td>32013000801</td>\n",
       "      <td>3</td>\n",
       "      <td>3</td>\n",
       "      <td>2</td>\n",
       "      <td>נהג נפגע</td>\n",
       "      <td>0</td>\n",
       "      <td>10</td>\n",
       "      <td>45-49</td>\n",
       "      <td>1</td>\n",
       "      <td>...</td>\n",
       "      <td>NaN</td>\n",
       "      <td>1.0</td>\n",
       "      <td>ישראלי</td>\n",
       "      <td>99.0</td>\n",
       "      <td>0.0</td>\n",
       "      <td>לא ידוע</td>\n",
       "      <td>15.0</td>\n",
       "      <td>אופניים</td>\n",
       "      <td>4.0</td>\n",
       "      <td>אין נזק</td>\n",
       "    </tr>\n",
       "    <tr>\n",
       "      <th>186</th>\n",
       "      <td>2013000859</td>\n",
       "      <td>32013000859</td>\n",
       "      <td>3</td>\n",
       "      <td>3</td>\n",
       "      <td>2</td>\n",
       "      <td>נהג נפגע</td>\n",
       "      <td>0</td>\n",
       "      <td>5</td>\n",
       "      <td>20-24</td>\n",
       "      <td>1</td>\n",
       "      <td>...</td>\n",
       "      <td>NaN</td>\n",
       "      <td>1.0</td>\n",
       "      <td>ישראלי</td>\n",
       "      <td>99.0</td>\n",
       "      <td>0.0</td>\n",
       "      <td>לא ידוע</td>\n",
       "      <td>15.0</td>\n",
       "      <td>אופניים</td>\n",
       "      <td>1.0</td>\n",
       "      <td>קל</td>\n",
       "    </tr>\n",
       "    <tr>\n",
       "      <th>233</th>\n",
       "      <td>2013001670</td>\n",
       "      <td>12013001670</td>\n",
       "      <td>1</td>\n",
       "      <td>1</td>\n",
       "      <td>2</td>\n",
       "      <td>נהג נפגע</td>\n",
       "      <td>0</td>\n",
       "      <td>8</td>\n",
       "      <td>35-39</td>\n",
       "      <td>1</td>\n",
       "      <td>...</td>\n",
       "      <td>NaN</td>\n",
       "      <td>1.0</td>\n",
       "      <td>ישראלי</td>\n",
       "      <td>99.0</td>\n",
       "      <td>0.0</td>\n",
       "      <td>לא ידוע</td>\n",
       "      <td>15.0</td>\n",
       "      <td>אופניים</td>\n",
       "      <td>1.0</td>\n",
       "      <td>קל</td>\n",
       "    </tr>\n",
       "    <tr>\n",
       "      <th>409</th>\n",
       "      <td>2013000737</td>\n",
       "      <td>32013000737</td>\n",
       "      <td>3</td>\n",
       "      <td>3</td>\n",
       "      <td>2</td>\n",
       "      <td>נהג נפגע</td>\n",
       "      <td>0</td>\n",
       "      <td>13</td>\n",
       "      <td>60-64</td>\n",
       "      <td>1</td>\n",
       "      <td>...</td>\n",
       "      <td>NaN</td>\n",
       "      <td>1.0</td>\n",
       "      <td>ישראלי</td>\n",
       "      <td>99.0</td>\n",
       "      <td>0.0</td>\n",
       "      <td>לא ידוע</td>\n",
       "      <td>15.0</td>\n",
       "      <td>אופניים</td>\n",
       "      <td>4.0</td>\n",
       "      <td>אין נזק</td>\n",
       "    </tr>\n",
       "    <tr>\n",
       "      <th>...</th>\n",
       "      <td>...</td>\n",
       "      <td>...</td>\n",
       "      <td>...</td>\n",
       "      <td>...</td>\n",
       "      <td>...</td>\n",
       "      <td>...</td>\n",
       "      <td>...</td>\n",
       "      <td>...</td>\n",
       "      <td>...</td>\n",
       "      <td>...</td>\n",
       "      <td>...</td>\n",
       "      <td>...</td>\n",
       "      <td>...</td>\n",
       "      <td>...</td>\n",
       "      <td>...</td>\n",
       "      <td>...</td>\n",
       "      <td>...</td>\n",
       "      <td>...</td>\n",
       "      <td>...</td>\n",
       "      <td>...</td>\n",
       "      <td>...</td>\n",
       "    </tr>\n",
       "    <tr>\n",
       "      <th>1427187</th>\n",
       "      <td>2023097325</td>\n",
       "      <td>32023097325</td>\n",
       "      <td>3</td>\n",
       "      <td>3</td>\n",
       "      <td>2</td>\n",
       "      <td>נהג נפגע</td>\n",
       "      <td>2022</td>\n",
       "      <td>4</td>\n",
       "      <td>15-19</td>\n",
       "      <td>1</td>\n",
       "      <td>...</td>\n",
       "      <td>NaN</td>\n",
       "      <td>1.0</td>\n",
       "      <td>ישראלי</td>\n",
       "      <td>99.0</td>\n",
       "      <td>0.0</td>\n",
       "      <td>לא ידוע</td>\n",
       "      <td>23.0</td>\n",
       "      <td>אופניים חשמליים</td>\n",
       "      <td>4.0</td>\n",
       "      <td>אין נזק</td>\n",
       "    </tr>\n",
       "    <tr>\n",
       "      <th>1427315</th>\n",
       "      <td>2023097999</td>\n",
       "      <td>32023097999</td>\n",
       "      <td>3</td>\n",
       "      <td>3</td>\n",
       "      <td>2</td>\n",
       "      <td>נהג נפגע</td>\n",
       "      <td>0</td>\n",
       "      <td>99</td>\n",
       "      <td>לא ידוע</td>\n",
       "      <td>0</td>\n",
       "      <td>...</td>\n",
       "      <td>NaN</td>\n",
       "      <td>1.0</td>\n",
       "      <td>ישראלי</td>\n",
       "      <td>99.0</td>\n",
       "      <td>0.0</td>\n",
       "      <td>לא ידוע</td>\n",
       "      <td>21.0</td>\n",
       "      <td>קורקינט חשמלי</td>\n",
       "      <td>1.0</td>\n",
       "      <td>קל</td>\n",
       "    </tr>\n",
       "    <tr>\n",
       "      <th>1427324</th>\n",
       "      <td>2023097826</td>\n",
       "      <td>12023097826</td>\n",
       "      <td>1</td>\n",
       "      <td>1</td>\n",
       "      <td>2</td>\n",
       "      <td>נהג נפגע</td>\n",
       "      <td>1982</td>\n",
       "      <td>13</td>\n",
       "      <td>60-64</td>\n",
       "      <td>1</td>\n",
       "      <td>...</td>\n",
       "      <td>NaN</td>\n",
       "      <td>1.0</td>\n",
       "      <td>ישראלי</td>\n",
       "      <td>99.0</td>\n",
       "      <td>0.0</td>\n",
       "      <td>לא ידוע</td>\n",
       "      <td>23.0</td>\n",
       "      <td>אופניים חשמליים</td>\n",
       "      <td>1.0</td>\n",
       "      <td>קל</td>\n",
       "    </tr>\n",
       "    <tr>\n",
       "      <th>1427480</th>\n",
       "      <td>2023098602</td>\n",
       "      <td>32023098602</td>\n",
       "      <td>3</td>\n",
       "      <td>3</td>\n",
       "      <td>2</td>\n",
       "      <td>נהג נפגע</td>\n",
       "      <td>2017</td>\n",
       "      <td>6</td>\n",
       "      <td>25-29</td>\n",
       "      <td>1</td>\n",
       "      <td>...</td>\n",
       "      <td>NaN</td>\n",
       "      <td>1.0</td>\n",
       "      <td>ישראלי</td>\n",
       "      <td>99.0</td>\n",
       "      <td>0.0</td>\n",
       "      <td>לא ידוע</td>\n",
       "      <td>23.0</td>\n",
       "      <td>אופניים חשמליים</td>\n",
       "      <td>1.0</td>\n",
       "      <td>קל</td>\n",
       "    </tr>\n",
       "    <tr>\n",
       "      <th>1427517</th>\n",
       "      <td>2023098397</td>\n",
       "      <td>32023098397</td>\n",
       "      <td>3</td>\n",
       "      <td>3</td>\n",
       "      <td>2</td>\n",
       "      <td>נהג נפגע</td>\n",
       "      <td>0</td>\n",
       "      <td>8</td>\n",
       "      <td>35-39</td>\n",
       "      <td>1</td>\n",
       "      <td>...</td>\n",
       "      <td>NaN</td>\n",
       "      <td>1.0</td>\n",
       "      <td>ישראלי</td>\n",
       "      <td>99.0</td>\n",
       "      <td>0.0</td>\n",
       "      <td>לא ידוע</td>\n",
       "      <td>21.0</td>\n",
       "      <td>קורקינט חשמלי</td>\n",
       "      <td>4.0</td>\n",
       "      <td>אין נזק</td>\n",
       "    </tr>\n",
       "  </tbody>\n",
       "</table>\n",
       "<p>30356 rows × 161 columns</p>\n",
       "</div>"
      ],
      "text/plain": [
       "         accident_id  provider_and_id  provider_code  file_type_police  \\\n",
       "159       2013001368      32013001368              3                 3   \n",
       "185       2013000801      32013000801              3                 3   \n",
       "186       2013000859      32013000859              3                 3   \n",
       "233       2013001670      12013001670              1                 1   \n",
       "409       2013000737      32013000737              3                 3   \n",
       "...              ...              ...            ...               ...   \n",
       "1427187   2023097325      32023097325              3                 3   \n",
       "1427315   2023097999      32023097999              3                 3   \n",
       "1427324   2023097826      12023097826              1                 1   \n",
       "1427480   2023098602      32023098602              3                 3   \n",
       "1427517   2023098397      32023098397              3                 3   \n",
       "\n",
       "         involved_type involved_type_hebrew  license_acquiring_date  \\\n",
       "159                  2             נהג נפגע                       0   \n",
       "185                  2             נהג נפגע                       0   \n",
       "186                  2             נהג נפגע                       0   \n",
       "233                  2             נהג נפגע                       0   \n",
       "409                  2             נהג נפגע                       0   \n",
       "...                ...                  ...                     ...   \n",
       "1427187              2             נהג נפגע                    2022   \n",
       "1427315              2             נהג נפגע                       0   \n",
       "1427324              2             נהג נפגע                    1982   \n",
       "1427480              2             נהג נפגע                    2017   \n",
       "1427517              2             נהג נפגע                       0   \n",
       "\n",
       "         age_group age_group_hebrew  sex  ... vehicle_status_hebrew  \\\n",
       "159              6            25-29    1  ...                   NaN   \n",
       "185             10            45-49    1  ...                   NaN   \n",
       "186              5            20-24    1  ...                   NaN   \n",
       "233              8            35-39    1  ...                   NaN   \n",
       "409             13            60-64    1  ...                   NaN   \n",
       "...            ...              ...  ...  ...                   ...   \n",
       "1427187          4            15-19    1  ...                   NaN   \n",
       "1427315         99          לא ידוע    0  ...                   NaN   \n",
       "1427324         13            60-64    1  ...                   NaN   \n",
       "1427480          6            25-29    1  ...                   NaN   \n",
       "1427517          8            35-39    1  ...                   NaN   \n",
       "\n",
       "         vehicle_attribution vehicle_attribution_hebrew  seats total_weight  \\\n",
       "159                      1.0                     ישראלי   99.0          0.0   \n",
       "185                      1.0                     ישראלי   99.0          0.0   \n",
       "186                      1.0                     ישראלי   99.0          0.0   \n",
       "233                      1.0                     ישראלי   99.0          0.0   \n",
       "409                      1.0                     ישראלי   99.0          0.0   \n",
       "...                      ...                        ...    ...          ...   \n",
       "1427187                  1.0                     ישראלי   99.0          0.0   \n",
       "1427315                  1.0                     ישראלי   99.0          0.0   \n",
       "1427324                  1.0                     ישראלי   99.0          0.0   \n",
       "1427480                  1.0                     ישראלי   99.0          0.0   \n",
       "1427517                  1.0                     ישראלי   99.0          0.0   \n",
       "\n",
       "         total_weight_hebrew vehicle_vehicle_type  \\\n",
       "159                  לא ידוע                 15.0   \n",
       "185                  לא ידוע                 15.0   \n",
       "186                  לא ידוע                 15.0   \n",
       "233                  לא ידוע                 15.0   \n",
       "409                  לא ידוע                 15.0   \n",
       "...                      ...                  ...   \n",
       "1427187              לא ידוע                 23.0   \n",
       "1427315              לא ידוע                 21.0   \n",
       "1427324              לא ידוע                 23.0   \n",
       "1427480              לא ידוע                 23.0   \n",
       "1427517              לא ידוע                 21.0   \n",
       "\n",
       "         vehicle_vehicle_type_hebrew vehicle_damage  vehicle_damage_hebrew  \n",
       "159                          אופניים            4.0                אין נזק  \n",
       "185                          אופניים            4.0                אין נזק  \n",
       "186                          אופניים            1.0                     קל  \n",
       "233                          אופניים            1.0                     קל  \n",
       "409                          אופניים            4.0                אין נזק  \n",
       "...                              ...            ...                    ...  \n",
       "1427187              אופניים חשמליים            4.0                אין נזק  \n",
       "1427315                קורקינט חשמלי            1.0                     קל  \n",
       "1427324              אופניים חשמליים            1.0                     קל  \n",
       "1427480              אופניים חשמליים            1.0                     קל  \n",
       "1427517                קורקינט חשמלי            4.0                אין נזק  \n",
       "\n",
       "[30356 rows x 161 columns]"
      ]
     },
     "execution_count": 13,
     "metadata": {},
     "output_type": "execute_result"
    }
   ],
   "source": [
    "imh_mv_injury_filtered = imh_mv[(imh_mv.injury_severity != 0) & (imh_mv.injury_severity != 1)].copy()\n",
    "imh_mv_injury_filtered"
   ]
  },
  {
   "cell_type": "code",
   "execution_count": 14,
   "id": "966f9c47",
   "metadata": {},
   "outputs": [
    {
     "data": {
      "text/html": [
       "<div>\n",
       "<style scoped>\n",
       "    .dataframe tbody tr th:only-of-type {\n",
       "        vertical-align: middle;\n",
       "    }\n",
       "\n",
       "    .dataframe tbody tr th {\n",
       "        vertical-align: top;\n",
       "    }\n",
       "\n",
       "    .dataframe thead th {\n",
       "        text-align: right;\n",
       "    }\n",
       "</style>\n",
       "<table border=\"1\" class=\"dataframe\">\n",
       "  <thead>\n",
       "    <tr style=\"text-align: right;\">\n",
       "      <th></th>\n",
       "      <th>accident_year</th>\n",
       "      <th>injury_severity_hebrew</th>\n",
       "      <th>involve_vehicle_type_hebrew</th>\n",
       "      <th>count</th>\n",
       "    </tr>\n",
       "  </thead>\n",
       "  <tbody>\n",
       "    <tr>\n",
       "      <th>0</th>\n",
       "      <td>2013</td>\n",
       "      <td>פצוע קל</td>\n",
       "      <td>אופניים</td>\n",
       "      <td>1520</td>\n",
       "    </tr>\n",
       "    <tr>\n",
       "      <th>1</th>\n",
       "      <td>2013</td>\n",
       "      <td>פצוע קל</td>\n",
       "      <td>אופניים חשמליים</td>\n",
       "      <td>123</td>\n",
       "    </tr>\n",
       "    <tr>\n",
       "      <th>2</th>\n",
       "      <td>2013</td>\n",
       "      <td>פצוע קל</td>\n",
       "      <td>קורקינט חשמלי</td>\n",
       "      <td>53</td>\n",
       "    </tr>\n",
       "    <tr>\n",
       "      <th>3</th>\n",
       "      <td>2013</td>\n",
       "      <td>פצוע קל</td>\n",
       "      <td>קלנועית חשמלית</td>\n",
       "      <td>69</td>\n",
       "    </tr>\n",
       "    <tr>\n",
       "      <th>4</th>\n",
       "      <td>2013</td>\n",
       "      <td>פצוע קשה</td>\n",
       "      <td>אופניים</td>\n",
       "      <td>96</td>\n",
       "    </tr>\n",
       "    <tr>\n",
       "      <th>...</th>\n",
       "      <td>...</td>\n",
       "      <td>...</td>\n",
       "      <td>...</td>\n",
       "      <td>...</td>\n",
       "    </tr>\n",
       "    <tr>\n",
       "      <th>83</th>\n",
       "      <td>2023</td>\n",
       "      <td>פצוע קל</td>\n",
       "      <td>קלנועית חשמלית</td>\n",
       "      <td>72</td>\n",
       "    </tr>\n",
       "    <tr>\n",
       "      <th>84</th>\n",
       "      <td>2023</td>\n",
       "      <td>פצוע קשה</td>\n",
       "      <td>אופניים</td>\n",
       "      <td>56</td>\n",
       "    </tr>\n",
       "    <tr>\n",
       "      <th>85</th>\n",
       "      <td>2023</td>\n",
       "      <td>פצוע קשה</td>\n",
       "      <td>אופניים חשמליים</td>\n",
       "      <td>119</td>\n",
       "    </tr>\n",
       "    <tr>\n",
       "      <th>86</th>\n",
       "      <td>2023</td>\n",
       "      <td>פצוע קשה</td>\n",
       "      <td>קורקינט חשמלי</td>\n",
       "      <td>78</td>\n",
       "    </tr>\n",
       "    <tr>\n",
       "      <th>87</th>\n",
       "      <td>2023</td>\n",
       "      <td>פצוע קשה</td>\n",
       "      <td>קלנועית חשמלית</td>\n",
       "      <td>4</td>\n",
       "    </tr>\n",
       "  </tbody>\n",
       "</table>\n",
       "<p>88 rows × 4 columns</p>\n",
       "</div>"
      ],
      "text/plain": [
       "    accident_year injury_severity_hebrew involve_vehicle_type_hebrew  count\n",
       "0            2013                פצוע קל                     אופניים   1520\n",
       "1            2013                פצוע קל             אופניים חשמליים    123\n",
       "2            2013                פצוע קל               קורקינט חשמלי     53\n",
       "3            2013                פצוע קל              קלנועית חשמלית     69\n",
       "4            2013               פצוע קשה                     אופניים     96\n",
       "..            ...                    ...                         ...    ...\n",
       "83           2023                פצוע קל              קלנועית חשמלית     72\n",
       "84           2023               פצוע קשה                     אופניים     56\n",
       "85           2023               פצוע קשה             אופניים חשמליים    119\n",
       "86           2023               פצוע קשה               קורקינט חשמלי     78\n",
       "87           2023               פצוע קשה              קלנועית חשמלית      4\n",
       "\n",
       "[88 rows x 4 columns]"
      ]
     },
     "execution_count": 14,
     "metadata": {},
     "output_type": "execute_result"
    }
   ],
   "source": [
    "imh_mv_injury_gb = imh_mv_injury_filtered.groupby(['accident_year', 'injury_severity_hebrew', 'involve_vehicle_type_hebrew']).size().reset_index(name='count')\n",
    "# imh_mv_injury_pv = imh_mv_injury_gb.pivot(index='accident_year', columns='injury_severity', values='count').reset_index()\n",
    "# imh_mv_injury_long = imh_mv_injury_pv.melt(id_vars='accident_year', var_name='injury_severity', value_name='count')\n",
    "\n",
    "# imh_mv_injury_long\n",
    "imh_mv_injury_gb"
   ]
  },
  {
   "cell_type": "code",
   "execution_count": 15,
   "id": "3828ed00",
   "metadata": {},
   "outputs": [
    {
     "data": {
      "application/vnd.plotly.v1+json": {
       "config": {
        "plotlyServerURL": "https://plot.ly"
       },
       "data": [
        {
         "hovertemplate": "involve_vehicle_type_hebrew=אופניים<br>injury_severity_hebrew=פצוע קל<br>accident_year=%{x}<br>count=%{y}<extra></extra>",
         "legendgroup": "אופניים, פצוע קל",
         "line": {
          "color": "#636efa",
          "dash": "solid"
         },
         "marker": {
          "symbol": "circle"
         },
         "mode": "lines",
         "name": "אופניים, פצוע קל",
         "orientation": "v",
         "showlegend": true,
         "type": "scatter",
         "x": [
          2013,
          2014,
          2015,
          2016,
          2017,
          2018,
          2019,
          2020,
          2021,
          2022,
          2023
         ],
         "xaxis": "x",
         "y": [
          1520,
          1684,
          1464,
          1365,
          1209,
          946,
          876,
          805,
          942,
          884,
          576
         ],
         "yaxis": "y"
        },
        {
         "hovertemplate": "involve_vehicle_type_hebrew=אופניים<br>injury_severity_hebrew=פצוע קשה<br>accident_year=%{x}<br>count=%{y}<extra></extra>",
         "legendgroup": "אופניים, פצוע קשה",
         "line": {
          "color": "#636efa",
          "dash": "dot"
         },
         "marker": {
          "symbol": "circle"
         },
         "mode": "lines",
         "name": "אופניים, פצוע קשה",
         "orientation": "v",
         "showlegend": true,
         "type": "scatter",
         "x": [
          2013,
          2014,
          2015,
          2016,
          2017,
          2018,
          2019,
          2020,
          2021,
          2022,
          2023
         ],
         "xaxis": "x",
         "y": [
          96,
          94,
          89,
          111,
          98,
          65,
          74,
          94,
          82,
          73,
          56
         ],
         "yaxis": "y"
        },
        {
         "hovertemplate": "involve_vehicle_type_hebrew=אופניים חשמליים<br>injury_severity_hebrew=פצוע קל<br>accident_year=%{x}<br>count=%{y}<extra></extra>",
         "legendgroup": "אופניים חשמליים, פצוע קל",
         "line": {
          "color": "#EF553B",
          "dash": "solid"
         },
         "marker": {
          "symbol": "circle"
         },
         "mode": "lines",
         "name": "אופניים חשמליים, פצוע קל",
         "orientation": "v",
         "showlegend": true,
         "type": "scatter",
         "x": [
          2013,
          2014,
          2015,
          2016,
          2017,
          2018,
          2019,
          2020,
          2021,
          2022,
          2023
         ],
         "xaxis": "x",
         "y": [
          123,
          420,
          1004,
          1264,
          1377,
          1473,
          1262,
          1022,
          1214,
          1175,
          828
         ],
         "yaxis": "y"
        },
        {
         "hovertemplate": "involve_vehicle_type_hebrew=אופניים חשמליים<br>injury_severity_hebrew=פצוע קשה<br>accident_year=%{x}<br>count=%{y}<extra></extra>",
         "legendgroup": "אופניים חשמליים, פצוע קשה",
         "line": {
          "color": "#EF553B",
          "dash": "dot"
         },
         "marker": {
          "symbol": "circle"
         },
         "mode": "lines",
         "name": "אופניים חשמליים, פצוע קשה",
         "orientation": "v",
         "showlegend": true,
         "type": "scatter",
         "x": [
          2013,
          2014,
          2015,
          2016,
          2017,
          2018,
          2019,
          2020,
          2021,
          2022,
          2023
         ],
         "xaxis": "x",
         "y": [
          14,
          28,
          63,
          90,
          108,
          122,
          138,
          120,
          145,
          112,
          119
         ],
         "yaxis": "y"
        },
        {
         "hovertemplate": "involve_vehicle_type_hebrew=קורקינט חשמלי<br>injury_severity_hebrew=פצוע קל<br>accident_year=%{x}<br>count=%{y}<extra></extra>",
         "legendgroup": "קורקינט חשמלי, פצוע קל",
         "line": {
          "color": "#00cc96",
          "dash": "solid"
         },
         "marker": {
          "symbol": "circle"
         },
         "mode": "lines",
         "name": "קורקינט חשמלי, פצוע קל",
         "orientation": "v",
         "showlegend": true,
         "type": "scatter",
         "x": [
          2013,
          2014,
          2015,
          2016,
          2017,
          2018,
          2019,
          2020,
          2021,
          2022,
          2023
         ],
         "xaxis": "x",
         "y": [
          53,
          61,
          38,
          39,
          79,
          167,
          475,
          529,
          736,
          846,
          657
         ],
         "yaxis": "y"
        },
        {
         "hovertemplate": "involve_vehicle_type_hebrew=קורקינט חשמלי<br>injury_severity_hebrew=פצוע קשה<br>accident_year=%{x}<br>count=%{y}<extra></extra>",
         "legendgroup": "קורקינט חשמלי, פצוע קשה",
         "line": {
          "color": "#00cc96",
          "dash": "dot"
         },
         "marker": {
          "symbol": "circle"
         },
         "mode": "lines",
         "name": "קורקינט חשמלי, פצוע קשה",
         "orientation": "v",
         "showlegend": true,
         "type": "scatter",
         "x": [
          2013,
          2014,
          2015,
          2016,
          2017,
          2018,
          2019,
          2020,
          2021,
          2022,
          2023
         ],
         "xaxis": "x",
         "y": [
          5,
          5,
          3,
          7,
          4,
          18,
          36,
          38,
          61,
          82,
          78
         ],
         "yaxis": "y"
        },
        {
         "hovertemplate": "involve_vehicle_type_hebrew=קלנועית חשמלית<br>injury_severity_hebrew=פצוע קל<br>accident_year=%{x}<br>count=%{y}<extra></extra>",
         "legendgroup": "קלנועית חשמלית, פצוע קל",
         "line": {
          "color": "#ab63fa",
          "dash": "solid"
         },
         "marker": {
          "symbol": "circle"
         },
         "mode": "lines",
         "name": "קלנועית חשמלית, פצוע קל",
         "orientation": "v",
         "showlegend": true,
         "type": "scatter",
         "x": [
          2013,
          2014,
          2015,
          2016,
          2017,
          2018,
          2019,
          2020,
          2021,
          2022,
          2023
         ],
         "xaxis": "x",
         "y": [
          69,
          61,
          71,
          77,
          58,
          76,
          99,
          61,
          77,
          93,
          72
         ],
         "yaxis": "y"
        },
        {
         "hovertemplate": "involve_vehicle_type_hebrew=קלנועית חשמלית<br>injury_severity_hebrew=פצוע קשה<br>accident_year=%{x}<br>count=%{y}<extra></extra>",
         "legendgroup": "קלנועית חשמלית, פצוע קשה",
         "line": {
          "color": "#ab63fa",
          "dash": "dot"
         },
         "marker": {
          "symbol": "circle"
         },
         "mode": "lines",
         "name": "קלנועית חשמלית, פצוע קשה",
         "orientation": "v",
         "showlegend": true,
         "type": "scatter",
         "x": [
          2013,
          2014,
          2015,
          2016,
          2017,
          2018,
          2019,
          2020,
          2021,
          2022,
          2023
         ],
         "xaxis": "x",
         "y": [
          2,
          12,
          8,
          8,
          9,
          10,
          8,
          8,
          14,
          18,
          4
         ],
         "yaxis": "y"
        }
       ],
       "layout": {
        "legend": {
         "title": {
          "text": "Vehicle Type - Injury Severity"
         },
         "tracegroupgap": 0
        },
        "template": {
         "data": {
          "bar": [
           {
            "error_x": {
             "color": "#2a3f5f"
            },
            "error_y": {
             "color": "#2a3f5f"
            },
            "marker": {
             "line": {
              "color": "#E5ECF6",
              "width": 0.5
             },
             "pattern": {
              "fillmode": "overlay",
              "size": 10,
              "solidity": 0.2
             }
            },
            "type": "bar"
           }
          ],
          "barpolar": [
           {
            "marker": {
             "line": {
              "color": "#E5ECF6",
              "width": 0.5
             },
             "pattern": {
              "fillmode": "overlay",
              "size": 10,
              "solidity": 0.2
             }
            },
            "type": "barpolar"
           }
          ],
          "carpet": [
           {
            "aaxis": {
             "endlinecolor": "#2a3f5f",
             "gridcolor": "white",
             "linecolor": "white",
             "minorgridcolor": "white",
             "startlinecolor": "#2a3f5f"
            },
            "baxis": {
             "endlinecolor": "#2a3f5f",
             "gridcolor": "white",
             "linecolor": "white",
             "minorgridcolor": "white",
             "startlinecolor": "#2a3f5f"
            },
            "type": "carpet"
           }
          ],
          "choropleth": [
           {
            "colorbar": {
             "outlinewidth": 0,
             "ticks": ""
            },
            "type": "choropleth"
           }
          ],
          "contour": [
           {
            "colorbar": {
             "outlinewidth": 0,
             "ticks": ""
            },
            "colorscale": [
             [
              0,
              "#0d0887"
             ],
             [
              0.1111111111111111,
              "#46039f"
             ],
             [
              0.2222222222222222,
              "#7201a8"
             ],
             [
              0.3333333333333333,
              "#9c179e"
             ],
             [
              0.4444444444444444,
              "#bd3786"
             ],
             [
              0.5555555555555556,
              "#d8576b"
             ],
             [
              0.6666666666666666,
              "#ed7953"
             ],
             [
              0.7777777777777778,
              "#fb9f3a"
             ],
             [
              0.8888888888888888,
              "#fdca26"
             ],
             [
              1,
              "#f0f921"
             ]
            ],
            "type": "contour"
           }
          ],
          "contourcarpet": [
           {
            "colorbar": {
             "outlinewidth": 0,
             "ticks": ""
            },
            "type": "contourcarpet"
           }
          ],
          "heatmap": [
           {
            "colorbar": {
             "outlinewidth": 0,
             "ticks": ""
            },
            "colorscale": [
             [
              0,
              "#0d0887"
             ],
             [
              0.1111111111111111,
              "#46039f"
             ],
             [
              0.2222222222222222,
              "#7201a8"
             ],
             [
              0.3333333333333333,
              "#9c179e"
             ],
             [
              0.4444444444444444,
              "#bd3786"
             ],
             [
              0.5555555555555556,
              "#d8576b"
             ],
             [
              0.6666666666666666,
              "#ed7953"
             ],
             [
              0.7777777777777778,
              "#fb9f3a"
             ],
             [
              0.8888888888888888,
              "#fdca26"
             ],
             [
              1,
              "#f0f921"
             ]
            ],
            "type": "heatmap"
           }
          ],
          "heatmapgl": [
           {
            "colorbar": {
             "outlinewidth": 0,
             "ticks": ""
            },
            "colorscale": [
             [
              0,
              "#0d0887"
             ],
             [
              0.1111111111111111,
              "#46039f"
             ],
             [
              0.2222222222222222,
              "#7201a8"
             ],
             [
              0.3333333333333333,
              "#9c179e"
             ],
             [
              0.4444444444444444,
              "#bd3786"
             ],
             [
              0.5555555555555556,
              "#d8576b"
             ],
             [
              0.6666666666666666,
              "#ed7953"
             ],
             [
              0.7777777777777778,
              "#fb9f3a"
             ],
             [
              0.8888888888888888,
              "#fdca26"
             ],
             [
              1,
              "#f0f921"
             ]
            ],
            "type": "heatmapgl"
           }
          ],
          "histogram": [
           {
            "marker": {
             "pattern": {
              "fillmode": "overlay",
              "size": 10,
              "solidity": 0.2
             }
            },
            "type": "histogram"
           }
          ],
          "histogram2d": [
           {
            "colorbar": {
             "outlinewidth": 0,
             "ticks": ""
            },
            "colorscale": [
             [
              0,
              "#0d0887"
             ],
             [
              0.1111111111111111,
              "#46039f"
             ],
             [
              0.2222222222222222,
              "#7201a8"
             ],
             [
              0.3333333333333333,
              "#9c179e"
             ],
             [
              0.4444444444444444,
              "#bd3786"
             ],
             [
              0.5555555555555556,
              "#d8576b"
             ],
             [
              0.6666666666666666,
              "#ed7953"
             ],
             [
              0.7777777777777778,
              "#fb9f3a"
             ],
             [
              0.8888888888888888,
              "#fdca26"
             ],
             [
              1,
              "#f0f921"
             ]
            ],
            "type": "histogram2d"
           }
          ],
          "histogram2dcontour": [
           {
            "colorbar": {
             "outlinewidth": 0,
             "ticks": ""
            },
            "colorscale": [
             [
              0,
              "#0d0887"
             ],
             [
              0.1111111111111111,
              "#46039f"
             ],
             [
              0.2222222222222222,
              "#7201a8"
             ],
             [
              0.3333333333333333,
              "#9c179e"
             ],
             [
              0.4444444444444444,
              "#bd3786"
             ],
             [
              0.5555555555555556,
              "#d8576b"
             ],
             [
              0.6666666666666666,
              "#ed7953"
             ],
             [
              0.7777777777777778,
              "#fb9f3a"
             ],
             [
              0.8888888888888888,
              "#fdca26"
             ],
             [
              1,
              "#f0f921"
             ]
            ],
            "type": "histogram2dcontour"
           }
          ],
          "mesh3d": [
           {
            "colorbar": {
             "outlinewidth": 0,
             "ticks": ""
            },
            "type": "mesh3d"
           }
          ],
          "parcoords": [
           {
            "line": {
             "colorbar": {
              "outlinewidth": 0,
              "ticks": ""
             }
            },
            "type": "parcoords"
           }
          ],
          "pie": [
           {
            "automargin": true,
            "type": "pie"
           }
          ],
          "scatter": [
           {
            "fillpattern": {
             "fillmode": "overlay",
             "size": 10,
             "solidity": 0.2
            },
            "type": "scatter"
           }
          ],
          "scatter3d": [
           {
            "line": {
             "colorbar": {
              "outlinewidth": 0,
              "ticks": ""
             }
            },
            "marker": {
             "colorbar": {
              "outlinewidth": 0,
              "ticks": ""
             }
            },
            "type": "scatter3d"
           }
          ],
          "scattercarpet": [
           {
            "marker": {
             "colorbar": {
              "outlinewidth": 0,
              "ticks": ""
             }
            },
            "type": "scattercarpet"
           }
          ],
          "scattergeo": [
           {
            "marker": {
             "colorbar": {
              "outlinewidth": 0,
              "ticks": ""
             }
            },
            "type": "scattergeo"
           }
          ],
          "scattergl": [
           {
            "marker": {
             "colorbar": {
              "outlinewidth": 0,
              "ticks": ""
             }
            },
            "type": "scattergl"
           }
          ],
          "scattermapbox": [
           {
            "marker": {
             "colorbar": {
              "outlinewidth": 0,
              "ticks": ""
             }
            },
            "type": "scattermapbox"
           }
          ],
          "scatterpolar": [
           {
            "marker": {
             "colorbar": {
              "outlinewidth": 0,
              "ticks": ""
             }
            },
            "type": "scatterpolar"
           }
          ],
          "scatterpolargl": [
           {
            "marker": {
             "colorbar": {
              "outlinewidth": 0,
              "ticks": ""
             }
            },
            "type": "scatterpolargl"
           }
          ],
          "scatterternary": [
           {
            "marker": {
             "colorbar": {
              "outlinewidth": 0,
              "ticks": ""
             }
            },
            "type": "scatterternary"
           }
          ],
          "surface": [
           {
            "colorbar": {
             "outlinewidth": 0,
             "ticks": ""
            },
            "colorscale": [
             [
              0,
              "#0d0887"
             ],
             [
              0.1111111111111111,
              "#46039f"
             ],
             [
              0.2222222222222222,
              "#7201a8"
             ],
             [
              0.3333333333333333,
              "#9c179e"
             ],
             [
              0.4444444444444444,
              "#bd3786"
             ],
             [
              0.5555555555555556,
              "#d8576b"
             ],
             [
              0.6666666666666666,
              "#ed7953"
             ],
             [
              0.7777777777777778,
              "#fb9f3a"
             ],
             [
              0.8888888888888888,
              "#fdca26"
             ],
             [
              1,
              "#f0f921"
             ]
            ],
            "type": "surface"
           }
          ],
          "table": [
           {
            "cells": {
             "fill": {
              "color": "#EBF0F8"
             },
             "line": {
              "color": "white"
             }
            },
            "header": {
             "fill": {
              "color": "#C8D4E3"
             },
             "line": {
              "color": "white"
             }
            },
            "type": "table"
           }
          ]
         },
         "layout": {
          "annotationdefaults": {
           "arrowcolor": "#2a3f5f",
           "arrowhead": 0,
           "arrowwidth": 1
          },
          "autotypenumbers": "strict",
          "coloraxis": {
           "colorbar": {
            "outlinewidth": 0,
            "ticks": ""
           }
          },
          "colorscale": {
           "diverging": [
            [
             0,
             "#8e0152"
            ],
            [
             0.1,
             "#c51b7d"
            ],
            [
             0.2,
             "#de77ae"
            ],
            [
             0.3,
             "#f1b6da"
            ],
            [
             0.4,
             "#fde0ef"
            ],
            [
             0.5,
             "#f7f7f7"
            ],
            [
             0.6,
             "#e6f5d0"
            ],
            [
             0.7,
             "#b8e186"
            ],
            [
             0.8,
             "#7fbc41"
            ],
            [
             0.9,
             "#4d9221"
            ],
            [
             1,
             "#276419"
            ]
           ],
           "sequential": [
            [
             0,
             "#0d0887"
            ],
            [
             0.1111111111111111,
             "#46039f"
            ],
            [
             0.2222222222222222,
             "#7201a8"
            ],
            [
             0.3333333333333333,
             "#9c179e"
            ],
            [
             0.4444444444444444,
             "#bd3786"
            ],
            [
             0.5555555555555556,
             "#d8576b"
            ],
            [
             0.6666666666666666,
             "#ed7953"
            ],
            [
             0.7777777777777778,
             "#fb9f3a"
            ],
            [
             0.8888888888888888,
             "#fdca26"
            ],
            [
             1,
             "#f0f921"
            ]
           ],
           "sequentialminus": [
            [
             0,
             "#0d0887"
            ],
            [
             0.1111111111111111,
             "#46039f"
            ],
            [
             0.2222222222222222,
             "#7201a8"
            ],
            [
             0.3333333333333333,
             "#9c179e"
            ],
            [
             0.4444444444444444,
             "#bd3786"
            ],
            [
             0.5555555555555556,
             "#d8576b"
            ],
            [
             0.6666666666666666,
             "#ed7953"
            ],
            [
             0.7777777777777778,
             "#fb9f3a"
            ],
            [
             0.8888888888888888,
             "#fdca26"
            ],
            [
             1,
             "#f0f921"
            ]
           ]
          },
          "colorway": [
           "#636efa",
           "#EF553B",
           "#00cc96",
           "#ab63fa",
           "#FFA15A",
           "#19d3f3",
           "#FF6692",
           "#B6E880",
           "#FF97FF",
           "#FECB52"
          ],
          "font": {
           "color": "#2a3f5f"
          },
          "geo": {
           "bgcolor": "white",
           "lakecolor": "white",
           "landcolor": "#E5ECF6",
           "showlakes": true,
           "showland": true,
           "subunitcolor": "white"
          },
          "hoverlabel": {
           "align": "left"
          },
          "hovermode": "closest",
          "mapbox": {
           "style": "light"
          },
          "paper_bgcolor": "white",
          "plot_bgcolor": "#E5ECF6",
          "polar": {
           "angularaxis": {
            "gridcolor": "white",
            "linecolor": "white",
            "ticks": ""
           },
           "bgcolor": "#E5ECF6",
           "radialaxis": {
            "gridcolor": "white",
            "linecolor": "white",
            "ticks": ""
           }
          },
          "scene": {
           "xaxis": {
            "backgroundcolor": "#E5ECF6",
            "gridcolor": "white",
            "gridwidth": 2,
            "linecolor": "white",
            "showbackground": true,
            "ticks": "",
            "zerolinecolor": "white"
           },
           "yaxis": {
            "backgroundcolor": "#E5ECF6",
            "gridcolor": "white",
            "gridwidth": 2,
            "linecolor": "white",
            "showbackground": true,
            "ticks": "",
            "zerolinecolor": "white"
           },
           "zaxis": {
            "backgroundcolor": "#E5ECF6",
            "gridcolor": "white",
            "gridwidth": 2,
            "linecolor": "white",
            "showbackground": true,
            "ticks": "",
            "zerolinecolor": "white"
           }
          },
          "shapedefaults": {
           "line": {
            "color": "#2a3f5f"
           }
          },
          "ternary": {
           "aaxis": {
            "gridcolor": "white",
            "linecolor": "white",
            "ticks": ""
           },
           "baxis": {
            "gridcolor": "white",
            "linecolor": "white",
            "ticks": ""
           },
           "bgcolor": "#E5ECF6",
           "caxis": {
            "gridcolor": "white",
            "linecolor": "white",
            "ticks": ""
           }
          },
          "title": {
           "x": 0.05
          },
          "xaxis": {
           "automargin": true,
           "gridcolor": "white",
           "linecolor": "white",
           "ticks": "",
           "title": {
            "standoff": 15
           },
           "zerolinecolor": "white",
           "zerolinewidth": 2
          },
          "yaxis": {
           "automargin": true,
           "gridcolor": "white",
           "linecolor": "white",
           "ticks": "",
           "title": {
            "standoff": 15
           },
           "zerolinecolor": "white",
           "zerolinewidth": 2
          }
         }
        },
        "title": {
         "text": "Accidents by Vehicle Type and Injury Severity Over Years"
        },
        "xaxis": {
         "anchor": "y",
         "domain": [
          0,
          1
         ],
         "title": {
          "text": "Year"
         }
        },
        "yaxis": {
         "anchor": "x",
         "domain": [
          0,
          1
         ],
         "title": {
          "text": "Number of Accidents"
         }
        }
       }
      }
     },
     "metadata": {},
     "output_type": "display_data"
    }
   ],
   "source": [
    "import plotly.express as px\n",
    "\n",
    "# Pivot the DataFrame as we did for Matplotlib\n",
    "pivoted_df = imh_mv_injury_gb.pivot_table(index='accident_year', \n",
    "                                          columns=['involve_vehicle_type_hebrew', 'injury_severity_hebrew'], \n",
    "                                          values='count')\n",
    "\n",
    "# Reset the index to turn it into a column\n",
    "pivoted_df = pivoted_df.reset_index()\n",
    "\n",
    "# Melt the DataFrame to long format\n",
    "melted_df = pivoted_df.melt(id_vars='accident_year', var_name=['involve_vehicle_type_hebrew', 'injury_severity_hebrew'], value_name='count')\n",
    "\n",
    "# Drop NA values if any (in case there are years with no accidents for certain combinations)\n",
    "melted_df = melted_df.dropna()\n",
    "\n",
    "# Create the plot\n",
    "fig = px.line(melted_df, \n",
    "              x='accident_year', \n",
    "              y='count', \n",
    "              color='involve_vehicle_type_hebrew', \n",
    "              line_dash='injury_severity_hebrew',\n",
    "              title='Accidents by Vehicle Type and Injury Severity Over Years')\n",
    "\n",
    "# Update layout\n",
    "fig.update_layout(xaxis_title='Year',\n",
    "                  yaxis_title='Number of Accidents',\n",
    "                  legend_title='Vehicle Type - Injury Severity')\n",
    "\n",
    "# Show the plot\n",
    "fig.show()\n"
   ]
  },
  {
   "cell_type": "markdown",
   "id": "04d4a0fb",
   "metadata": {},
   "source": [
    "#### Graph Conclusion:\n",
    "Regular bicycles accidents are on a decline.\n",
    "It look like E-Bicycles will take over accident wise, but a down trend appears through the years.\n",
    "\n",
    "There has also been a rise in scooters accidents.\n",
    "\n",
    "**Question:** Does the overall number of accidents in decline or the multitude of micro vehicles hides the overall rise?\n",
    "\n",
    "I expect the total number to show a rise in accidents."
   ]
  },
  {
   "cell_type": "code",
   "execution_count": 16,
   "id": "83496837",
   "metadata": {},
   "outputs": [
    {
     "data": {
      "application/vnd.plotly.v1+json": {
       "config": {
        "plotlyServerURL": "https://plot.ly"
       },
       "data": [
        {
         "hovertemplate": "involve_vehicle_type_hebrew=אופניים<br>injury_severity_hebrew=פצוע קל<br>accident_year=%{x}<br>count=%{y}<extra></extra>",
         "legendgroup": "אופניים, פצוע קל",
         "line": {
          "color": "#636efa",
          "dash": "solid"
         },
         "marker": {
          "symbol": "circle"
         },
         "mode": "lines",
         "name": "אופניים, פצוע קל",
         "orientation": "v",
         "showlegend": true,
         "type": "scatter",
         "x": [
          2013,
          2014,
          2015,
          2016,
          2017,
          2018,
          2019,
          2020,
          2021,
          2022,
          2023
         ],
         "xaxis": "x",
         "y": [
          1520,
          1684,
          1464,
          1365,
          1209,
          946,
          876,
          805,
          942,
          884,
          576
         ],
         "yaxis": "y"
        },
        {
         "hovertemplate": "involve_vehicle_type_hebrew=אופניים<br>injury_severity_hebrew=פצוע קשה<br>accident_year=%{x}<br>count=%{y}<extra></extra>",
         "legendgroup": "אופניים, פצוע קשה",
         "line": {
          "color": "#636efa",
          "dash": "dot"
         },
         "marker": {
          "symbol": "circle"
         },
         "mode": "lines",
         "name": "אופניים, פצוע קשה",
         "orientation": "v",
         "showlegend": true,
         "type": "scatter",
         "x": [
          2013,
          2014,
          2015,
          2016,
          2017,
          2018,
          2019,
          2020,
          2021,
          2022,
          2023
         ],
         "xaxis": "x",
         "y": [
          96,
          94,
          89,
          111,
          98,
          65,
          74,
          94,
          82,
          73,
          56
         ],
         "yaxis": "y"
        },
        {
         "hovertemplate": "involve_vehicle_type_hebrew=אופניים חשמליים<br>injury_severity_hebrew=פצוע קל<br>accident_year=%{x}<br>count=%{y}<extra></extra>",
         "legendgroup": "אופניים חשמליים, פצוע קל",
         "line": {
          "color": "#EF553B",
          "dash": "solid"
         },
         "marker": {
          "symbol": "circle"
         },
         "mode": "lines",
         "name": "אופניים חשמליים, פצוע קל",
         "orientation": "v",
         "showlegend": true,
         "type": "scatter",
         "x": [
          2013,
          2014,
          2015,
          2016,
          2017,
          2018,
          2019,
          2020,
          2021,
          2022,
          2023
         ],
         "xaxis": "x",
         "y": [
          123,
          420,
          1004,
          1264,
          1377,
          1473,
          1262,
          1022,
          1214,
          1175,
          828
         ],
         "yaxis": "y"
        },
        {
         "hovertemplate": "involve_vehicle_type_hebrew=אופניים חשמליים<br>injury_severity_hebrew=פצוע קשה<br>accident_year=%{x}<br>count=%{y}<extra></extra>",
         "legendgroup": "אופניים חשמליים, פצוע קשה",
         "line": {
          "color": "#EF553B",
          "dash": "dot"
         },
         "marker": {
          "symbol": "circle"
         },
         "mode": "lines",
         "name": "אופניים חשמליים, פצוע קשה",
         "orientation": "v",
         "showlegend": true,
         "type": "scatter",
         "x": [
          2013,
          2014,
          2015,
          2016,
          2017,
          2018,
          2019,
          2020,
          2021,
          2022,
          2023
         ],
         "xaxis": "x",
         "y": [
          14,
          28,
          63,
          90,
          108,
          122,
          138,
          120,
          145,
          112,
          119
         ],
         "yaxis": "y"
        },
        {
         "hovertemplate": "involve_vehicle_type_hebrew=קורקינט חשמלי<br>injury_severity_hebrew=פצוע קל<br>accident_year=%{x}<br>count=%{y}<extra></extra>",
         "legendgroup": "קורקינט חשמלי, פצוע קל",
         "line": {
          "color": "#00cc96",
          "dash": "solid"
         },
         "marker": {
          "symbol": "circle"
         },
         "mode": "lines",
         "name": "קורקינט חשמלי, פצוע קל",
         "orientation": "v",
         "showlegend": true,
         "type": "scatter",
         "x": [
          2013,
          2014,
          2015,
          2016,
          2017,
          2018,
          2019,
          2020,
          2021,
          2022,
          2023
         ],
         "xaxis": "x",
         "y": [
          53,
          61,
          38,
          39,
          79,
          167,
          475,
          529,
          736,
          846,
          657
         ],
         "yaxis": "y"
        },
        {
         "hovertemplate": "involve_vehicle_type_hebrew=קורקינט חשמלי<br>injury_severity_hebrew=פצוע קשה<br>accident_year=%{x}<br>count=%{y}<extra></extra>",
         "legendgroup": "קורקינט חשמלי, פצוע קשה",
         "line": {
          "color": "#00cc96",
          "dash": "dot"
         },
         "marker": {
          "symbol": "circle"
         },
         "mode": "lines",
         "name": "קורקינט חשמלי, פצוע קשה",
         "orientation": "v",
         "showlegend": true,
         "type": "scatter",
         "x": [
          2013,
          2014,
          2015,
          2016,
          2017,
          2018,
          2019,
          2020,
          2021,
          2022,
          2023
         ],
         "xaxis": "x",
         "y": [
          5,
          5,
          3,
          7,
          4,
          18,
          36,
          38,
          61,
          82,
          78
         ],
         "yaxis": "y"
        },
        {
         "hovertemplate": "involve_vehicle_type_hebrew=קלנועית חשמלית<br>injury_severity_hebrew=פצוע קל<br>accident_year=%{x}<br>count=%{y}<extra></extra>",
         "legendgroup": "קלנועית חשמלית, פצוע קל",
         "line": {
          "color": "#ab63fa",
          "dash": "solid"
         },
         "marker": {
          "symbol": "circle"
         },
         "mode": "lines",
         "name": "קלנועית חשמלית, פצוע קל",
         "orientation": "v",
         "showlegend": true,
         "type": "scatter",
         "x": [
          2013,
          2014,
          2015,
          2016,
          2017,
          2018,
          2019,
          2020,
          2021,
          2022,
          2023
         ],
         "xaxis": "x",
         "y": [
          69,
          61,
          71,
          77,
          58,
          76,
          99,
          61,
          77,
          93,
          72
         ],
         "yaxis": "y"
        },
        {
         "hovertemplate": "involve_vehicle_type_hebrew=קלנועית חשמלית<br>injury_severity_hebrew=פצוע קשה<br>accident_year=%{x}<br>count=%{y}<extra></extra>",
         "legendgroup": "קלנועית חשמלית, פצוע קשה",
         "line": {
          "color": "#ab63fa",
          "dash": "dot"
         },
         "marker": {
          "symbol": "circle"
         },
         "mode": "lines",
         "name": "קלנועית חשמלית, פצוע קשה",
         "orientation": "v",
         "showlegend": true,
         "type": "scatter",
         "x": [
          2013,
          2014,
          2015,
          2016,
          2017,
          2018,
          2019,
          2020,
          2021,
          2022,
          2023
         ],
         "xaxis": "x",
         "y": [
          2,
          12,
          8,
          8,
          9,
          10,
          8,
          8,
          14,
          18,
          4
         ],
         "yaxis": "y"
        },
        {
         "hovertemplate": "involve_vehicle_type_hebrew=Total<br>injury_severity_hebrew=All<br>accident_year=%{x}<br>count=%{y}<extra></extra>",
         "legendgroup": "Total, All",
         "line": {
          "color": "#FFA15A",
          "dash": "dash"
         },
         "marker": {
          "symbol": "circle"
         },
         "mode": "lines",
         "name": "Total, All",
         "orientation": "v",
         "showlegend": true,
         "type": "scatter",
         "x": [
          2013,
          2014,
          2015,
          2016,
          2017,
          2018,
          2019,
          2020,
          2021,
          2022,
          2023
         ],
         "xaxis": "x",
         "y": [
          1882,
          2365,
          2740,
          2961,
          2942,
          2877,
          2968,
          2677,
          3271,
          3283,
          2390
         ],
         "yaxis": "y"
        }
       ],
       "layout": {
        "legend": {
         "title": {
          "text": "Vehicle Type - Injury Severity"
         },
         "tracegroupgap": 0
        },
        "template": {
         "data": {
          "bar": [
           {
            "error_x": {
             "color": "#2a3f5f"
            },
            "error_y": {
             "color": "#2a3f5f"
            },
            "marker": {
             "line": {
              "color": "#E5ECF6",
              "width": 0.5
             },
             "pattern": {
              "fillmode": "overlay",
              "size": 10,
              "solidity": 0.2
             }
            },
            "type": "bar"
           }
          ],
          "barpolar": [
           {
            "marker": {
             "line": {
              "color": "#E5ECF6",
              "width": 0.5
             },
             "pattern": {
              "fillmode": "overlay",
              "size": 10,
              "solidity": 0.2
             }
            },
            "type": "barpolar"
           }
          ],
          "carpet": [
           {
            "aaxis": {
             "endlinecolor": "#2a3f5f",
             "gridcolor": "white",
             "linecolor": "white",
             "minorgridcolor": "white",
             "startlinecolor": "#2a3f5f"
            },
            "baxis": {
             "endlinecolor": "#2a3f5f",
             "gridcolor": "white",
             "linecolor": "white",
             "minorgridcolor": "white",
             "startlinecolor": "#2a3f5f"
            },
            "type": "carpet"
           }
          ],
          "choropleth": [
           {
            "colorbar": {
             "outlinewidth": 0,
             "ticks": ""
            },
            "type": "choropleth"
           }
          ],
          "contour": [
           {
            "colorbar": {
             "outlinewidth": 0,
             "ticks": ""
            },
            "colorscale": [
             [
              0,
              "#0d0887"
             ],
             [
              0.1111111111111111,
              "#46039f"
             ],
             [
              0.2222222222222222,
              "#7201a8"
             ],
             [
              0.3333333333333333,
              "#9c179e"
             ],
             [
              0.4444444444444444,
              "#bd3786"
             ],
             [
              0.5555555555555556,
              "#d8576b"
             ],
             [
              0.6666666666666666,
              "#ed7953"
             ],
             [
              0.7777777777777778,
              "#fb9f3a"
             ],
             [
              0.8888888888888888,
              "#fdca26"
             ],
             [
              1,
              "#f0f921"
             ]
            ],
            "type": "contour"
           }
          ],
          "contourcarpet": [
           {
            "colorbar": {
             "outlinewidth": 0,
             "ticks": ""
            },
            "type": "contourcarpet"
           }
          ],
          "heatmap": [
           {
            "colorbar": {
             "outlinewidth": 0,
             "ticks": ""
            },
            "colorscale": [
             [
              0,
              "#0d0887"
             ],
             [
              0.1111111111111111,
              "#46039f"
             ],
             [
              0.2222222222222222,
              "#7201a8"
             ],
             [
              0.3333333333333333,
              "#9c179e"
             ],
             [
              0.4444444444444444,
              "#bd3786"
             ],
             [
              0.5555555555555556,
              "#d8576b"
             ],
             [
              0.6666666666666666,
              "#ed7953"
             ],
             [
              0.7777777777777778,
              "#fb9f3a"
             ],
             [
              0.8888888888888888,
              "#fdca26"
             ],
             [
              1,
              "#f0f921"
             ]
            ],
            "type": "heatmap"
           }
          ],
          "heatmapgl": [
           {
            "colorbar": {
             "outlinewidth": 0,
             "ticks": ""
            },
            "colorscale": [
             [
              0,
              "#0d0887"
             ],
             [
              0.1111111111111111,
              "#46039f"
             ],
             [
              0.2222222222222222,
              "#7201a8"
             ],
             [
              0.3333333333333333,
              "#9c179e"
             ],
             [
              0.4444444444444444,
              "#bd3786"
             ],
             [
              0.5555555555555556,
              "#d8576b"
             ],
             [
              0.6666666666666666,
              "#ed7953"
             ],
             [
              0.7777777777777778,
              "#fb9f3a"
             ],
             [
              0.8888888888888888,
              "#fdca26"
             ],
             [
              1,
              "#f0f921"
             ]
            ],
            "type": "heatmapgl"
           }
          ],
          "histogram": [
           {
            "marker": {
             "pattern": {
              "fillmode": "overlay",
              "size": 10,
              "solidity": 0.2
             }
            },
            "type": "histogram"
           }
          ],
          "histogram2d": [
           {
            "colorbar": {
             "outlinewidth": 0,
             "ticks": ""
            },
            "colorscale": [
             [
              0,
              "#0d0887"
             ],
             [
              0.1111111111111111,
              "#46039f"
             ],
             [
              0.2222222222222222,
              "#7201a8"
             ],
             [
              0.3333333333333333,
              "#9c179e"
             ],
             [
              0.4444444444444444,
              "#bd3786"
             ],
             [
              0.5555555555555556,
              "#d8576b"
             ],
             [
              0.6666666666666666,
              "#ed7953"
             ],
             [
              0.7777777777777778,
              "#fb9f3a"
             ],
             [
              0.8888888888888888,
              "#fdca26"
             ],
             [
              1,
              "#f0f921"
             ]
            ],
            "type": "histogram2d"
           }
          ],
          "histogram2dcontour": [
           {
            "colorbar": {
             "outlinewidth": 0,
             "ticks": ""
            },
            "colorscale": [
             [
              0,
              "#0d0887"
             ],
             [
              0.1111111111111111,
              "#46039f"
             ],
             [
              0.2222222222222222,
              "#7201a8"
             ],
             [
              0.3333333333333333,
              "#9c179e"
             ],
             [
              0.4444444444444444,
              "#bd3786"
             ],
             [
              0.5555555555555556,
              "#d8576b"
             ],
             [
              0.6666666666666666,
              "#ed7953"
             ],
             [
              0.7777777777777778,
              "#fb9f3a"
             ],
             [
              0.8888888888888888,
              "#fdca26"
             ],
             [
              1,
              "#f0f921"
             ]
            ],
            "type": "histogram2dcontour"
           }
          ],
          "mesh3d": [
           {
            "colorbar": {
             "outlinewidth": 0,
             "ticks": ""
            },
            "type": "mesh3d"
           }
          ],
          "parcoords": [
           {
            "line": {
             "colorbar": {
              "outlinewidth": 0,
              "ticks": ""
             }
            },
            "type": "parcoords"
           }
          ],
          "pie": [
           {
            "automargin": true,
            "type": "pie"
           }
          ],
          "scatter": [
           {
            "fillpattern": {
             "fillmode": "overlay",
             "size": 10,
             "solidity": 0.2
            },
            "type": "scatter"
           }
          ],
          "scatter3d": [
           {
            "line": {
             "colorbar": {
              "outlinewidth": 0,
              "ticks": ""
             }
            },
            "marker": {
             "colorbar": {
              "outlinewidth": 0,
              "ticks": ""
             }
            },
            "type": "scatter3d"
           }
          ],
          "scattercarpet": [
           {
            "marker": {
             "colorbar": {
              "outlinewidth": 0,
              "ticks": ""
             }
            },
            "type": "scattercarpet"
           }
          ],
          "scattergeo": [
           {
            "marker": {
             "colorbar": {
              "outlinewidth": 0,
              "ticks": ""
             }
            },
            "type": "scattergeo"
           }
          ],
          "scattergl": [
           {
            "marker": {
             "colorbar": {
              "outlinewidth": 0,
              "ticks": ""
             }
            },
            "type": "scattergl"
           }
          ],
          "scattermapbox": [
           {
            "marker": {
             "colorbar": {
              "outlinewidth": 0,
              "ticks": ""
             }
            },
            "type": "scattermapbox"
           }
          ],
          "scatterpolar": [
           {
            "marker": {
             "colorbar": {
              "outlinewidth": 0,
              "ticks": ""
             }
            },
            "type": "scatterpolar"
           }
          ],
          "scatterpolargl": [
           {
            "marker": {
             "colorbar": {
              "outlinewidth": 0,
              "ticks": ""
             }
            },
            "type": "scatterpolargl"
           }
          ],
          "scatterternary": [
           {
            "marker": {
             "colorbar": {
              "outlinewidth": 0,
              "ticks": ""
             }
            },
            "type": "scatterternary"
           }
          ],
          "surface": [
           {
            "colorbar": {
             "outlinewidth": 0,
             "ticks": ""
            },
            "colorscale": [
             [
              0,
              "#0d0887"
             ],
             [
              0.1111111111111111,
              "#46039f"
             ],
             [
              0.2222222222222222,
              "#7201a8"
             ],
             [
              0.3333333333333333,
              "#9c179e"
             ],
             [
              0.4444444444444444,
              "#bd3786"
             ],
             [
              0.5555555555555556,
              "#d8576b"
             ],
             [
              0.6666666666666666,
              "#ed7953"
             ],
             [
              0.7777777777777778,
              "#fb9f3a"
             ],
             [
              0.8888888888888888,
              "#fdca26"
             ],
             [
              1,
              "#f0f921"
             ]
            ],
            "type": "surface"
           }
          ],
          "table": [
           {
            "cells": {
             "fill": {
              "color": "#EBF0F8"
             },
             "line": {
              "color": "white"
             }
            },
            "header": {
             "fill": {
              "color": "#C8D4E3"
             },
             "line": {
              "color": "white"
             }
            },
            "type": "table"
           }
          ]
         },
         "layout": {
          "annotationdefaults": {
           "arrowcolor": "#2a3f5f",
           "arrowhead": 0,
           "arrowwidth": 1
          },
          "autotypenumbers": "strict",
          "coloraxis": {
           "colorbar": {
            "outlinewidth": 0,
            "ticks": ""
           }
          },
          "colorscale": {
           "diverging": [
            [
             0,
             "#8e0152"
            ],
            [
             0.1,
             "#c51b7d"
            ],
            [
             0.2,
             "#de77ae"
            ],
            [
             0.3,
             "#f1b6da"
            ],
            [
             0.4,
             "#fde0ef"
            ],
            [
             0.5,
             "#f7f7f7"
            ],
            [
             0.6,
             "#e6f5d0"
            ],
            [
             0.7,
             "#b8e186"
            ],
            [
             0.8,
             "#7fbc41"
            ],
            [
             0.9,
             "#4d9221"
            ],
            [
             1,
             "#276419"
            ]
           ],
           "sequential": [
            [
             0,
             "#0d0887"
            ],
            [
             0.1111111111111111,
             "#46039f"
            ],
            [
             0.2222222222222222,
             "#7201a8"
            ],
            [
             0.3333333333333333,
             "#9c179e"
            ],
            [
             0.4444444444444444,
             "#bd3786"
            ],
            [
             0.5555555555555556,
             "#d8576b"
            ],
            [
             0.6666666666666666,
             "#ed7953"
            ],
            [
             0.7777777777777778,
             "#fb9f3a"
            ],
            [
             0.8888888888888888,
             "#fdca26"
            ],
            [
             1,
             "#f0f921"
            ]
           ],
           "sequentialminus": [
            [
             0,
             "#0d0887"
            ],
            [
             0.1111111111111111,
             "#46039f"
            ],
            [
             0.2222222222222222,
             "#7201a8"
            ],
            [
             0.3333333333333333,
             "#9c179e"
            ],
            [
             0.4444444444444444,
             "#bd3786"
            ],
            [
             0.5555555555555556,
             "#d8576b"
            ],
            [
             0.6666666666666666,
             "#ed7953"
            ],
            [
             0.7777777777777778,
             "#fb9f3a"
            ],
            [
             0.8888888888888888,
             "#fdca26"
            ],
            [
             1,
             "#f0f921"
            ]
           ]
          },
          "colorway": [
           "#636efa",
           "#EF553B",
           "#00cc96",
           "#ab63fa",
           "#FFA15A",
           "#19d3f3",
           "#FF6692",
           "#B6E880",
           "#FF97FF",
           "#FECB52"
          ],
          "font": {
           "color": "#2a3f5f"
          },
          "geo": {
           "bgcolor": "white",
           "lakecolor": "white",
           "landcolor": "#E5ECF6",
           "showlakes": true,
           "showland": true,
           "subunitcolor": "white"
          },
          "hoverlabel": {
           "align": "left"
          },
          "hovermode": "closest",
          "mapbox": {
           "style": "light"
          },
          "paper_bgcolor": "white",
          "plot_bgcolor": "#E5ECF6",
          "polar": {
           "angularaxis": {
            "gridcolor": "white",
            "linecolor": "white",
            "ticks": ""
           },
           "bgcolor": "#E5ECF6",
           "radialaxis": {
            "gridcolor": "white",
            "linecolor": "white",
            "ticks": ""
           }
          },
          "scene": {
           "xaxis": {
            "backgroundcolor": "#E5ECF6",
            "gridcolor": "white",
            "gridwidth": 2,
            "linecolor": "white",
            "showbackground": true,
            "ticks": "",
            "zerolinecolor": "white"
           },
           "yaxis": {
            "backgroundcolor": "#E5ECF6",
            "gridcolor": "white",
            "gridwidth": 2,
            "linecolor": "white",
            "showbackground": true,
            "ticks": "",
            "zerolinecolor": "white"
           },
           "zaxis": {
            "backgroundcolor": "#E5ECF6",
            "gridcolor": "white",
            "gridwidth": 2,
            "linecolor": "white",
            "showbackground": true,
            "ticks": "",
            "zerolinecolor": "white"
           }
          },
          "shapedefaults": {
           "line": {
            "color": "#2a3f5f"
           }
          },
          "ternary": {
           "aaxis": {
            "gridcolor": "white",
            "linecolor": "white",
            "ticks": ""
           },
           "baxis": {
            "gridcolor": "white",
            "linecolor": "white",
            "ticks": ""
           },
           "bgcolor": "#E5ECF6",
           "caxis": {
            "gridcolor": "white",
            "linecolor": "white",
            "ticks": ""
           }
          },
          "title": {
           "x": 0.05
          },
          "xaxis": {
           "automargin": true,
           "gridcolor": "white",
           "linecolor": "white",
           "ticks": "",
           "title": {
            "standoff": 15
           },
           "zerolinecolor": "white",
           "zerolinewidth": 2
          },
          "yaxis": {
           "automargin": true,
           "gridcolor": "white",
           "linecolor": "white",
           "ticks": "",
           "title": {
            "standoff": 15
           },
           "zerolinecolor": "white",
           "zerolinewidth": 2
          }
         }
        },
        "title": {
         "text": "Accidents by Vehicle Type and Injury Severity Over Years"
        },
        "xaxis": {
         "anchor": "y",
         "domain": [
          0,
          1
         ],
         "title": {
          "text": "Year"
         }
        },
        "yaxis": {
         "anchor": "x",
         "domain": [
          0,
          1
         ],
         "title": {
          "text": "Number of Accidents"
         }
        }
       }
      }
     },
     "metadata": {},
     "output_type": "display_data"
    }
   ],
   "source": [
    "# Calculate the total number of accidents per year\n",
    "total_accidents_per_year = melted_df.groupby('accident_year')['count'].sum().reset_index()\n",
    "total_accidents_per_year['involve_vehicle_type_hebrew'] = 'Total'\n",
    "total_accidents_per_year['injury_severity_hebrew'] = 'All'\n",
    "\n",
    "# Append the summary data to your melted DataFrame\n",
    "combined_df = pd.concat([melted_df, total_accidents_per_year])\n",
    "\n",
    "# Create the plot with the combined DataFrame\n",
    "fig = px.line(combined_df, \n",
    "              x='accident_year', \n",
    "              y='count', \n",
    "              color='involve_vehicle_type_hebrew', \n",
    "              line_dash='injury_severity_hebrew',\n",
    "              title='Accidents by Vehicle Type and Injury Severity Over Years')\n",
    "\n",
    "# Update layout\n",
    "fig.update_layout(xaxis_title='Year',\n",
    "                  yaxis_title='Number of Accidents',\n",
    "                  legend_title='Vehicle Type - Injury Severity')\n",
    "\n",
    "# Show the plot\n",
    "fig.show()\n"
   ]
  },
  {
   "cell_type": "markdown",
   "id": "1a06f465",
   "metadata": {},
   "source": [
    "##### Graph Insights:\n",
    "\n",
    "As expected the total number of accidents for micro vehicle increased."
   ]
  },
  {
   "cell_type": "markdown",
   "id": "b3c012d4",
   "metadata": {},
   "source": [
    "Ideas that were explored:\n",
    "* Accidents by year in:\n",
    "    * General \n",
    "    * Cities\n",
    "    * Micro-vehicle \n",
    "    * age\n",
    "\n",
    "\n",
    "* Accidents by year and micro vehicle by:\n",
    "    * Severity\n",
    "    * Street\n",
    "    * Day and Night\n",
    "    * Road width\n",
    "\n",
    "Interesting Graphs:\n",
    "* Top cities accidents after normalizing by population size"
   ]
  },
  {
   "cell_type": "markdown",
   "id": "e79b510e",
   "metadata": {},
   "source": [
    "### Accidents for all vehicles in cities after normalizing by population size"
   ]
  },
  {
   "cell_type": "code",
   "execution_count": 17,
   "id": "e4cc51b9",
   "metadata": {},
   "outputs": [
    {
     "data": {
      "text/html": [
       "<div>\n",
       "<style scoped>\n",
       "    .dataframe tbody tr th:only-of-type {\n",
       "        vertical-align: middle;\n",
       "    }\n",
       "\n",
       "    .dataframe tbody tr th {\n",
       "        vertical-align: top;\n",
       "    }\n",
       "\n",
       "    .dataframe thead th {\n",
       "        text-align: right;\n",
       "    }\n",
       "</style>\n",
       "<table border=\"1\" class=\"dataframe\">\n",
       "  <thead>\n",
       "    <tr style=\"text-align: right;\">\n",
       "      <th></th>\n",
       "      <th>accident_year</th>\n",
       "      <th>accident_yishuv_name</th>\n",
       "      <th>accident_yishuv_symbol</th>\n",
       "      <th>cnt</th>\n",
       "    </tr>\n",
       "  </thead>\n",
       "  <tbody>\n",
       "    <tr>\n",
       "      <th>0</th>\n",
       "      <td>2013</td>\n",
       "      <td>אבו גוש</td>\n",
       "      <td>472</td>\n",
       "      <td>71</td>\n",
       "    </tr>\n",
       "    <tr>\n",
       "      <th>1</th>\n",
       "      <td>2013</td>\n",
       "      <td>אבו סנאן</td>\n",
       "      <td>473</td>\n",
       "      <td>126</td>\n",
       "    </tr>\n",
       "    <tr>\n",
       "      <th>2</th>\n",
       "      <td>2013</td>\n",
       "      <td>אבו קורינאת (יישוב)</td>\n",
       "      <td>1342</td>\n",
       "      <td>4</td>\n",
       "    </tr>\n",
       "    <tr>\n",
       "      <th>3</th>\n",
       "      <td>2013</td>\n",
       "      <td>אבו קורינאת (שבט)</td>\n",
       "      <td>968</td>\n",
       "      <td>16</td>\n",
       "    </tr>\n",
       "    <tr>\n",
       "      <th>4</th>\n",
       "      <td>2013</td>\n",
       "      <td>אבו רובייעה (שבט)</td>\n",
       "      <td>966</td>\n",
       "      <td>1</td>\n",
       "    </tr>\n",
       "    <tr>\n",
       "      <th>...</th>\n",
       "      <td>...</td>\n",
       "      <td>...</td>\n",
       "      <td>...</td>\n",
       "      <td>...</td>\n",
       "    </tr>\n",
       "    <tr>\n",
       "      <th>9305</th>\n",
       "      <td>2023</td>\n",
       "      <td>תנובות</td>\n",
       "      <td>2002</td>\n",
       "      <td>4</td>\n",
       "    </tr>\n",
       "    <tr>\n",
       "      <th>9306</th>\n",
       "      <td>2023</td>\n",
       "      <td>תעשיון בינימין*</td>\n",
       "      <td>1744</td>\n",
       "      <td>2</td>\n",
       "    </tr>\n",
       "    <tr>\n",
       "      <th>9307</th>\n",
       "      <td>2023</td>\n",
       "      <td>תעשיון צריפין</td>\n",
       "      <td>1749</td>\n",
       "      <td>2</td>\n",
       "    </tr>\n",
       "    <tr>\n",
       "      <th>9308</th>\n",
       "      <td>2023</td>\n",
       "      <td>תקוע</td>\n",
       "      <td>3563</td>\n",
       "      <td>9</td>\n",
       "    </tr>\n",
       "    <tr>\n",
       "      <th>9309</th>\n",
       "      <td>2023</td>\n",
       "      <td>תרום</td>\n",
       "      <td>778</td>\n",
       "      <td>2</td>\n",
       "    </tr>\n",
       "  </tbody>\n",
       "</table>\n",
       "<p>9310 rows × 4 columns</p>\n",
       "</div>"
      ],
      "text/plain": [
       "      accident_year accident_yishuv_name  accident_yishuv_symbol  cnt\n",
       "0              2013              אבו גוש                     472   71\n",
       "1              2013             אבו סנאן                     473  126\n",
       "2              2013  אבו קורינאת (יישוב)                    1342    4\n",
       "3              2013    אבו קורינאת (שבט)                     968   16\n",
       "4              2013    אבו רובייעה (שבט)                     966    1\n",
       "...             ...                  ...                     ...  ...\n",
       "9305           2023               תנובות                    2002    4\n",
       "9306           2023      תעשיון בינימין*                    1744    2\n",
       "9307           2023        תעשיון צריפין                    1749    2\n",
       "9308           2023                 תקוע                    3563    9\n",
       "9309           2023                 תרום                     778    2\n",
       "\n",
       "[9310 rows x 4 columns]"
      ]
     },
     "execution_count": 17,
     "metadata": {},
     "output_type": "execute_result"
    }
   ],
   "source": [
    "imh_gb_year_yishuv = imh.groupby(['accident_year', 'accident_yishuv_name', 'accident_yishuv_symbol']).size().reset_index()\n",
    "\n",
    "imh_gb_year_yishuv.columns = ['accident_year', 'accident_yishuv_name', 'accident_yishuv_symbol', 'cnt']\n",
    "imh_gb_year_yishuv"
   ]
  },
  {
   "cell_type": "markdown",
   "id": "ec3cac4c",
   "metadata": {},
   "source": [
    "### Loading all_pop and Cleaning data:\n",
    "* dropping na \n",
    "* changing settlement_code to integer"
   ]
  },
  {
   "cell_type": "code",
   "execution_count": 18,
   "id": "291fbdaa",
   "metadata": {},
   "outputs": [
    {
     "data": {
      "text/html": [
       "<div>\n",
       "<style scoped>\n",
       "    .dataframe tbody tr th:only-of-type {\n",
       "        vertical-align: middle;\n",
       "    }\n",
       "\n",
       "    .dataframe tbody tr th {\n",
       "        vertical-align: top;\n",
       "    }\n",
       "\n",
       "    .dataframe thead th {\n",
       "        text-align: right;\n",
       "    }\n",
       "</style>\n",
       "<table border=\"1\" class=\"dataframe\">\n",
       "  <thead>\n",
       "    <tr style=\"text-align: right;\">\n",
       "      <th></th>\n",
       "      <th>accident_yishuv_symbol</th>\n",
       "      <th>accident_year</th>\n",
       "      <th>population</th>\n",
       "    </tr>\n",
       "  </thead>\n",
       "  <tbody>\n",
       "    <tr>\n",
       "      <th>0</th>\n",
       "      <td>3000</td>\n",
       "      <td>2014</td>\n",
       "      <td>849780</td>\n",
       "    </tr>\n",
       "    <tr>\n",
       "      <th>1</th>\n",
       "      <td>70</td>\n",
       "      <td>2014</td>\n",
       "      <td>217960</td>\n",
       "    </tr>\n",
       "    <tr>\n",
       "      <th>2</th>\n",
       "      <td>4000</td>\n",
       "      <td>2014</td>\n",
       "      <td>277080</td>\n",
       "    </tr>\n",
       "    <tr>\n",
       "      <th>3</th>\n",
       "      <td>5000</td>\n",
       "      <td>2014</td>\n",
       "      <td>426140</td>\n",
       "    </tr>\n",
       "    <tr>\n",
       "      <th>4</th>\n",
       "      <td>7400</td>\n",
       "      <td>2014</td>\n",
       "      <td>202430</td>\n",
       "    </tr>\n",
       "    <tr>\n",
       "      <th>...</th>\n",
       "      <td>...</td>\n",
       "      <td>...</td>\n",
       "      <td>...</td>\n",
       "    </tr>\n",
       "    <tr>\n",
       "      <th>10811</th>\n",
       "      <td>1334</td>\n",
       "      <td>2022</td>\n",
       "      <td>412</td>\n",
       "    </tr>\n",
       "    <tr>\n",
       "      <th>10812</th>\n",
       "      <td>990</td>\n",
       "      <td>2022</td>\n",
       "      <td>663</td>\n",
       "    </tr>\n",
       "    <tr>\n",
       "      <th>10813</th>\n",
       "      <td>539</td>\n",
       "      <td>2022</td>\n",
       "      <td>1276</td>\n",
       "    </tr>\n",
       "    <tr>\n",
       "      <th>10814</th>\n",
       "      <td>540</td>\n",
       "      <td>2022</td>\n",
       "      <td>1242</td>\n",
       "    </tr>\n",
       "    <tr>\n",
       "      <th>10815</th>\n",
       "      <td>1346</td>\n",
       "      <td>2022</td>\n",
       "      <td>1294</td>\n",
       "    </tr>\n",
       "  </tbody>\n",
       "</table>\n",
       "<p>10816 rows × 3 columns</p>\n",
       "</div>"
      ],
      "text/plain": [
       "       accident_yishuv_symbol  accident_year population\n",
       "0                        3000           2014     849780\n",
       "1                          70           2014     217960\n",
       "2                        4000           2014     277080\n",
       "3                        5000           2014     426140\n",
       "4                        7400           2014     202430\n",
       "...                       ...            ...        ...\n",
       "10811                    1334           2022        412\n",
       "10812                     990           2022        663\n",
       "10813                     539           2022       1276\n",
       "10814                     540           2022       1242\n",
       "10815                    1346           2022       1294\n",
       "\n",
       "[10816 rows x 3 columns]"
      ]
     },
     "execution_count": 18,
     "metadata": {},
     "output_type": "execute_result"
    }
   ],
   "source": [
    "all_pop = pd.read_csv('./csv_tables/all_pop.csv')\n",
    "all_pop.dropna(subset=['settlement_code'], inplace=True)\n",
    "all_pop['settlement_code'] = all_pop['settlement_code'].astype(int)\n",
    "\n",
    "all_pop.rename(columns={'settlement_code':'accident_yishuv_symbol','pop_year':'accident_year'}, inplace=True)\n",
    "all_pop_only_pop =  all_pop[['accident_yishuv_symbol','accident_year','population']].copy()\n",
    "all_pop_only_pop"
   ]
  },
  {
   "cell_type": "code",
   "execution_count": 19,
   "id": "31894835",
   "metadata": {},
   "outputs": [
    {
     "data": {
      "text/html": [
       "<div>\n",
       "<style scoped>\n",
       "    .dataframe tbody tr th:only-of-type {\n",
       "        vertical-align: middle;\n",
       "    }\n",
       "\n",
       "    .dataframe tbody tr th {\n",
       "        vertical-align: top;\n",
       "    }\n",
       "\n",
       "    .dataframe thead th {\n",
       "        text-align: right;\n",
       "    }\n",
       "</style>\n",
       "<table border=\"1\" class=\"dataframe\">\n",
       "  <thead>\n",
       "    <tr style=\"text-align: right;\">\n",
       "      <th></th>\n",
       "      <th>accident_year</th>\n",
       "      <th>accident_yishuv_name</th>\n",
       "      <th>accident_yishuv_symbol</th>\n",
       "      <th>cnt</th>\n",
       "      <th>population</th>\n",
       "    </tr>\n",
       "  </thead>\n",
       "  <tbody>\n",
       "    <tr>\n",
       "      <th>0</th>\n",
       "      <td>2014</td>\n",
       "      <td>אבו גוש</td>\n",
       "      <td>472</td>\n",
       "      <td>83</td>\n",
       "      <td>6790</td>\n",
       "    </tr>\n",
       "    <tr>\n",
       "      <th>1</th>\n",
       "      <td>2014</td>\n",
       "      <td>אבו סנאן</td>\n",
       "      <td>473</td>\n",
       "      <td>119</td>\n",
       "      <td>13150</td>\n",
       "    </tr>\n",
       "    <tr>\n",
       "      <th>2</th>\n",
       "      <td>2014</td>\n",
       "      <td>אבו קורינאת (יישוב)</td>\n",
       "      <td>1342</td>\n",
       "      <td>3</td>\n",
       "      <td>1150</td>\n",
       "    </tr>\n",
       "    <tr>\n",
       "      <th>3</th>\n",
       "      <td>2014</td>\n",
       "      <td>אבטין</td>\n",
       "      <td>652</td>\n",
       "      <td>16</td>\n",
       "      <td>2670</td>\n",
       "    </tr>\n",
       "    <tr>\n",
       "      <th>4</th>\n",
       "      <td>2014</td>\n",
       "      <td>אבטליון</td>\n",
       "      <td>1275</td>\n",
       "      <td>7</td>\n",
       "      <td>380</td>\n",
       "    </tr>\n",
       "    <tr>\n",
       "      <th>...</th>\n",
       "      <td>...</td>\n",
       "      <td>...</td>\n",
       "      <td>...</td>\n",
       "      <td>...</td>\n",
       "      <td>...</td>\n",
       "    </tr>\n",
       "    <tr>\n",
       "      <th>7377</th>\n",
       "      <td>2022</td>\n",
       "      <td>תמרת</td>\n",
       "      <td>1244</td>\n",
       "      <td>2</td>\n",
       "      <td>1291</td>\n",
       "    </tr>\n",
       "    <tr>\n",
       "      <th>7378</th>\n",
       "      <td>2022</td>\n",
       "      <td>תנובות</td>\n",
       "      <td>2002</td>\n",
       "      <td>5</td>\n",
       "      <td>863</td>\n",
       "    </tr>\n",
       "    <tr>\n",
       "      <th>7379</th>\n",
       "      <td>2022</td>\n",
       "      <td>תפרח</td>\n",
       "      <td>709</td>\n",
       "      <td>6</td>\n",
       "      <td>2236</td>\n",
       "    </tr>\n",
       "    <tr>\n",
       "      <th>7380</th>\n",
       "      <td>2022</td>\n",
       "      <td>תקוע</td>\n",
       "      <td>3563</td>\n",
       "      <td>5</td>\n",
       "      <td>4326</td>\n",
       "    </tr>\n",
       "    <tr>\n",
       "      <th>7381</th>\n",
       "      <td>2022</td>\n",
       "      <td>תרום</td>\n",
       "      <td>778</td>\n",
       "      <td>3</td>\n",
       "      <td>966</td>\n",
       "    </tr>\n",
       "  </tbody>\n",
       "</table>\n",
       "<p>7382 rows × 5 columns</p>\n",
       "</div>"
      ],
      "text/plain": [
       "      accident_year accident_yishuv_name  accident_yishuv_symbol  cnt  \\\n",
       "0              2014              אבו גוש                     472   83   \n",
       "1              2014             אבו סנאן                     473  119   \n",
       "2              2014  אבו קורינאת (יישוב)                    1342    3   \n",
       "3              2014                אבטין                     652   16   \n",
       "4              2014              אבטליון                    1275    7   \n",
       "...             ...                  ...                     ...  ...   \n",
       "7377           2022                 תמרת                    1244    2   \n",
       "7378           2022               תנובות                    2002    5   \n",
       "7379           2022                 תפרח                     709    6   \n",
       "7380           2022                 תקוע                    3563    5   \n",
       "7381           2022                 תרום                     778    3   \n",
       "\n",
       "      population  \n",
       "0           6790  \n",
       "1          13150  \n",
       "2           1150  \n",
       "3           2670  \n",
       "4            380  \n",
       "...          ...  \n",
       "7377        1291  \n",
       "7378         863  \n",
       "7379        2236  \n",
       "7380        4326  \n",
       "7381         966  \n",
       "\n",
       "[7382 rows x 5 columns]"
      ]
     },
     "execution_count": 19,
     "metadata": {},
     "output_type": "execute_result"
    }
   ],
   "source": [
    "imh_year_cnt_pop = imh_gb_year_yishuv.merge(all_pop_only_pop, on=['accident_yishuv_symbol','accident_year'], how='inner')\n",
    "# fixing problems with population column\n",
    "imh_year_cnt_pop['population'] = imh_year_cnt_pop['population'].str.replace(',', '').astype(float).astype(int)\n",
    "\n",
    "# imh_year_cnt_pop['population'] = imh_year_cnt_pop['population'].astype(float).astype(int)\n",
    "imh_year_cnt_pop"
   ]
  },
  {
   "cell_type": "code",
   "execution_count": 20,
   "id": "61308106",
   "metadata": {},
   "outputs": [
    {
     "data": {
      "text/html": [
       "<div>\n",
       "<style scoped>\n",
       "    .dataframe tbody tr th:only-of-type {\n",
       "        vertical-align: middle;\n",
       "    }\n",
       "\n",
       "    .dataframe tbody tr th {\n",
       "        vertical-align: top;\n",
       "    }\n",
       "\n",
       "    .dataframe thead th {\n",
       "        text-align: right;\n",
       "    }\n",
       "</style>\n",
       "<table border=\"1\" class=\"dataframe\">\n",
       "  <thead>\n",
       "    <tr style=\"text-align: right;\">\n",
       "      <th></th>\n",
       "      <th>accident_year</th>\n",
       "      <th>accident_yishuv_name</th>\n",
       "      <th>accident_yishuv_symbol</th>\n",
       "      <th>cnt</th>\n",
       "      <th>population</th>\n",
       "      <th>accidents_rate</th>\n",
       "    </tr>\n",
       "  </thead>\n",
       "  <tbody>\n",
       "    <tr>\n",
       "      <th>4686</th>\n",
       "      <td>2019</td>\n",
       "      <td>כפר אדומים</td>\n",
       "      <td>3638</td>\n",
       "      <td>1</td>\n",
       "      <td>4674</td>\n",
       "      <td>0.000214</td>\n",
       "    </tr>\n",
       "    <tr>\n",
       "      <th>329</th>\n",
       "      <td>2014</td>\n",
       "      <td>טלמון</td>\n",
       "      <td>3788</td>\n",
       "      <td>1</td>\n",
       "      <td>3490</td>\n",
       "      <td>0.000287</td>\n",
       "    </tr>\n",
       "    <tr>\n",
       "      <th>1526</th>\n",
       "      <td>2015</td>\n",
       "      <td>עמנואל</td>\n",
       "      <td>3660</td>\n",
       "      <td>1</td>\n",
       "      <td>3253</td>\n",
       "      <td>0.000307</td>\n",
       "    </tr>\n",
       "    <tr>\n",
       "      <th>4339</th>\n",
       "      <td>2019</td>\n",
       "      <td>אל סייד</td>\n",
       "      <td>1359</td>\n",
       "      <td>2</td>\n",
       "      <td>5875</td>\n",
       "      <td>0.000340</td>\n",
       "    </tr>\n",
       "    <tr>\n",
       "      <th>3563</th>\n",
       "      <td>2018</td>\n",
       "      <td>ביר הדאג'</td>\n",
       "      <td>1348</td>\n",
       "      <td>2</td>\n",
       "      <td>5735</td>\n",
       "      <td>0.000349</td>\n",
       "    </tr>\n",
       "    <tr>\n",
       "      <th>...</th>\n",
       "      <td>...</td>\n",
       "      <td>...</td>\n",
       "      <td>...</td>\n",
       "      <td>...</td>\n",
       "      <td>...</td>\n",
       "      <td>...</td>\n",
       "    </tr>\n",
       "    <tr>\n",
       "      <th>3181</th>\n",
       "      <td>2017</td>\n",
       "      <td>נחשונים</td>\n",
       "      <td>705</td>\n",
       "      <td>69</td>\n",
       "      <td>384</td>\n",
       "      <td>0.179688</td>\n",
       "    </tr>\n",
       "    <tr>\n",
       "      <th>1748</th>\n",
       "      <td>2016</td>\n",
       "      <td>אייל</td>\n",
       "      <td>716</td>\n",
       "      <td>95</td>\n",
       "      <td>485</td>\n",
       "      <td>0.195876</td>\n",
       "    </tr>\n",
       "    <tr>\n",
       "      <th>6995</th>\n",
       "      <td>2022</td>\n",
       "      <td>לפידות</td>\n",
       "      <td>1173</td>\n",
       "      <td>27</td>\n",
       "      <td>126</td>\n",
       "      <td>0.214286</td>\n",
       "    </tr>\n",
       "    <tr>\n",
       "      <th>1429</th>\n",
       "      <td>2015</td>\n",
       "      <td>נחשונים</td>\n",
       "      <td>705</td>\n",
       "      <td>74</td>\n",
       "      <td>332</td>\n",
       "      <td>0.222892</td>\n",
       "    </tr>\n",
       "    <tr>\n",
       "      <th>2310</th>\n",
       "      <td>2016</td>\n",
       "      <td>נחשונים</td>\n",
       "      <td>705</td>\n",
       "      <td>97</td>\n",
       "      <td>362</td>\n",
       "      <td>0.267956</td>\n",
       "    </tr>\n",
       "  </tbody>\n",
       "</table>\n",
       "<p>7382 rows × 6 columns</p>\n",
       "</div>"
      ],
      "text/plain": [
       "      accident_year accident_yishuv_name  accident_yishuv_symbol  cnt  \\\n",
       "4686           2019           כפר אדומים                    3638    1   \n",
       "329            2014                טלמון                    3788    1   \n",
       "1526           2015               עמנואל                    3660    1   \n",
       "4339           2019              אל סייד                    1359    2   \n",
       "3563           2018            ביר הדאג'                    1348    2   \n",
       "...             ...                  ...                     ...  ...   \n",
       "3181           2017              נחשונים                     705   69   \n",
       "1748           2016                 אייל                     716   95   \n",
       "6995           2022               לפידות                    1173   27   \n",
       "1429           2015              נחשונים                     705   74   \n",
       "2310           2016              נחשונים                     705   97   \n",
       "\n",
       "      population  accidents_rate  \n",
       "4686        4674        0.000214  \n",
       "329         3490        0.000287  \n",
       "1526        3253        0.000307  \n",
       "4339        5875        0.000340  \n",
       "3563        5735        0.000349  \n",
       "...          ...             ...  \n",
       "3181         384        0.179688  \n",
       "1748         485        0.195876  \n",
       "6995         126        0.214286  \n",
       "1429         332        0.222892  \n",
       "2310         362        0.267956  \n",
       "\n",
       "[7382 rows x 6 columns]"
      ]
     },
     "execution_count": 20,
     "metadata": {},
     "output_type": "execute_result"
    }
   ],
   "source": [
    "imh_year_cnt_pop['accidents_rate'] = imh_year_cnt_pop.cnt / imh_year_cnt_pop.population\n",
    "imh_year_cnt_pop.sort_values(by=['accidents_rate'])"
   ]
  },
  {
   "cell_type": "code",
   "execution_count": 21,
   "metadata": {},
   "outputs": [
    {
     "data": {
      "application/vnd.plotly.v1+json": {
       "config": {
        "plotlyServerURL": "https://plot.ly"
       },
       "data": [
        {
         "hovertemplate": "accident_yishuv_name=באר שבע<br>accident_year=%{x}<br>accidents_rate=%{y}<extra></extra>",
         "legendgroup": "באר שבע",
         "line": {
          "color": "#636efa",
          "dash": "solid"
         },
         "marker": {
          "symbol": "circle"
         },
         "mode": "lines",
         "name": "באר שבע",
         "orientation": "v",
         "showlegend": true,
         "type": "scatter",
         "x": [
          2014,
          2015,
          2016,
          2017,
          2018,
          2019,
          2020,
          2021,
          2022
         ],
         "xaxis": "x",
         "y": [
          0.018807499129742902,
          0.020014341564998723,
          0.020465477867936448,
          0.019354279189211326,
          0.016975914106085108,
          0.018251012222979965,
          0.011909058101768314,
          0.014631814136670895,
          0.013956724348857407
         ],
         "yaxis": "y"
        },
        {
         "hovertemplate": "accident_yishuv_name=חיפה<br>accident_year=%{x}<br>accidents_rate=%{y}<extra></extra>",
         "legendgroup": "חיפה",
         "line": {
          "color": "#EF553B",
          "dash": "solid"
         },
         "marker": {
          "symbol": "circle"
         },
         "mode": "lines",
         "name": "חיפה",
         "orientation": "v",
         "showlegend": true,
         "type": "scatter",
         "x": [
          2014,
          2015,
          2016,
          2017,
          2018,
          2019,
          2020,
          2021,
          2022
         ],
         "xaxis": "x",
         "y": [
          0.02277320629421106,
          0.02219768163124814,
          0.02256152737391404,
          0.02018947870232348,
          0.0203497391059089,
          0.020826031487894123,
          0.01447477399686327,
          0.016652877659687308,
          0.01716120231755458
         ],
         "yaxis": "y"
        },
        {
         "hovertemplate": "accident_yishuv_name=ירושלים<br>accident_year=%{x}<br>accidents_rate=%{y}<extra></extra>",
         "legendgroup": "ירושלים",
         "line": {
          "color": "#00cc96",
          "dash": "solid"
         },
         "marker": {
          "symbol": "circle"
         },
         "mode": "lines",
         "name": "ירושלים",
         "orientation": "v",
         "showlegend": true,
         "type": "scatter",
         "x": [
          2014,
          2015,
          2016,
          2017,
          2018,
          2019,
          2020,
          2021,
          2022
         ],
         "xaxis": "x",
         "y": [
          0.010161453552684224,
          0.010488367499459987,
          0.01105758554900459,
          0.010691200063907547,
          0.01015511649507634,
          0.009881197106014898,
          0.006523695576293069,
          0.008133867794375325,
          0.007884194024514343
         ],
         "yaxis": "y"
        },
        {
         "hovertemplate": "accident_yishuv_name=ראשון לציון<br>accident_year=%{x}<br>accidents_rate=%{y}<extra></extra>",
         "legendgroup": "ראשון לציון",
         "line": {
          "color": "#ab63fa",
          "dash": "solid"
         },
         "marker": {
          "symbol": "circle"
         },
         "mode": "lines",
         "name": "ראשון לציון",
         "orientation": "v",
         "showlegend": true,
         "type": "scatter",
         "x": [
          2014,
          2015,
          2016,
          2017,
          2018,
          2019,
          2020,
          2021,
          2022
         ],
         "xaxis": "x",
         "y": [
          0.015153529729505132,
          0.015964881359822602,
          0.014931890685459904,
          0.014071880252941647,
          0.012100746861592244,
          0.012744512233473804,
          0.008857541212170918,
          0.010667797097954724,
          0.010385750980023267
         ],
         "yaxis": "y"
        },
        {
         "hovertemplate": "accident_yishuv_name=תל אביב -יפו<br>accident_year=%{x}<br>accidents_rate=%{y}<extra></extra>",
         "legendgroup": "תל אביב -יפו",
         "line": {
          "color": "#FFA15A",
          "dash": "solid"
         },
         "marker": {
          "symbol": "circle"
         },
         "mode": "lines",
         "name": "תל אביב -יפו",
         "orientation": "v",
         "showlegend": true,
         "type": "scatter",
         "x": [
          2014,
          2015,
          2016,
          2017,
          2018,
          2019,
          2020,
          2021,
          2022
         ],
         "xaxis": "x",
         "y": [
          0.02781480264701741,
          0.02867920867098491,
          0.026131562515667086,
          0.02399879262691496,
          0.020911494899473335,
          0.02041192932027537,
          0.01605840360322289,
          0.016869602015888586,
          0.016742882431037026
         ],
         "yaxis": "y"
        }
       ],
       "layout": {
        "legend": {
         "title": {
          "text": "Major Cities"
         },
         "tracegroupgap": 0
        },
        "template": {
         "data": {
          "bar": [
           {
            "error_x": {
             "color": "#2a3f5f"
            },
            "error_y": {
             "color": "#2a3f5f"
            },
            "marker": {
             "line": {
              "color": "#E5ECF6",
              "width": 0.5
             },
             "pattern": {
              "fillmode": "overlay",
              "size": 10,
              "solidity": 0.2
             }
            },
            "type": "bar"
           }
          ],
          "barpolar": [
           {
            "marker": {
             "line": {
              "color": "#E5ECF6",
              "width": 0.5
             },
             "pattern": {
              "fillmode": "overlay",
              "size": 10,
              "solidity": 0.2
             }
            },
            "type": "barpolar"
           }
          ],
          "carpet": [
           {
            "aaxis": {
             "endlinecolor": "#2a3f5f",
             "gridcolor": "white",
             "linecolor": "white",
             "minorgridcolor": "white",
             "startlinecolor": "#2a3f5f"
            },
            "baxis": {
             "endlinecolor": "#2a3f5f",
             "gridcolor": "white",
             "linecolor": "white",
             "minorgridcolor": "white",
             "startlinecolor": "#2a3f5f"
            },
            "type": "carpet"
           }
          ],
          "choropleth": [
           {
            "colorbar": {
             "outlinewidth": 0,
             "ticks": ""
            },
            "type": "choropleth"
           }
          ],
          "contour": [
           {
            "colorbar": {
             "outlinewidth": 0,
             "ticks": ""
            },
            "colorscale": [
             [
              0,
              "#0d0887"
             ],
             [
              0.1111111111111111,
              "#46039f"
             ],
             [
              0.2222222222222222,
              "#7201a8"
             ],
             [
              0.3333333333333333,
              "#9c179e"
             ],
             [
              0.4444444444444444,
              "#bd3786"
             ],
             [
              0.5555555555555556,
              "#d8576b"
             ],
             [
              0.6666666666666666,
              "#ed7953"
             ],
             [
              0.7777777777777778,
              "#fb9f3a"
             ],
             [
              0.8888888888888888,
              "#fdca26"
             ],
             [
              1,
              "#f0f921"
             ]
            ],
            "type": "contour"
           }
          ],
          "contourcarpet": [
           {
            "colorbar": {
             "outlinewidth": 0,
             "ticks": ""
            },
            "type": "contourcarpet"
           }
          ],
          "heatmap": [
           {
            "colorbar": {
             "outlinewidth": 0,
             "ticks": ""
            },
            "colorscale": [
             [
              0,
              "#0d0887"
             ],
             [
              0.1111111111111111,
              "#46039f"
             ],
             [
              0.2222222222222222,
              "#7201a8"
             ],
             [
              0.3333333333333333,
              "#9c179e"
             ],
             [
              0.4444444444444444,
              "#bd3786"
             ],
             [
              0.5555555555555556,
              "#d8576b"
             ],
             [
              0.6666666666666666,
              "#ed7953"
             ],
             [
              0.7777777777777778,
              "#fb9f3a"
             ],
             [
              0.8888888888888888,
              "#fdca26"
             ],
             [
              1,
              "#f0f921"
             ]
            ],
            "type": "heatmap"
           }
          ],
          "heatmapgl": [
           {
            "colorbar": {
             "outlinewidth": 0,
             "ticks": ""
            },
            "colorscale": [
             [
              0,
              "#0d0887"
             ],
             [
              0.1111111111111111,
              "#46039f"
             ],
             [
              0.2222222222222222,
              "#7201a8"
             ],
             [
              0.3333333333333333,
              "#9c179e"
             ],
             [
              0.4444444444444444,
              "#bd3786"
             ],
             [
              0.5555555555555556,
              "#d8576b"
             ],
             [
              0.6666666666666666,
              "#ed7953"
             ],
             [
              0.7777777777777778,
              "#fb9f3a"
             ],
             [
              0.8888888888888888,
              "#fdca26"
             ],
             [
              1,
              "#f0f921"
             ]
            ],
            "type": "heatmapgl"
           }
          ],
          "histogram": [
           {
            "marker": {
             "pattern": {
              "fillmode": "overlay",
              "size": 10,
              "solidity": 0.2
             }
            },
            "type": "histogram"
           }
          ],
          "histogram2d": [
           {
            "colorbar": {
             "outlinewidth": 0,
             "ticks": ""
            },
            "colorscale": [
             [
              0,
              "#0d0887"
             ],
             [
              0.1111111111111111,
              "#46039f"
             ],
             [
              0.2222222222222222,
              "#7201a8"
             ],
             [
              0.3333333333333333,
              "#9c179e"
             ],
             [
              0.4444444444444444,
              "#bd3786"
             ],
             [
              0.5555555555555556,
              "#d8576b"
             ],
             [
              0.6666666666666666,
              "#ed7953"
             ],
             [
              0.7777777777777778,
              "#fb9f3a"
             ],
             [
              0.8888888888888888,
              "#fdca26"
             ],
             [
              1,
              "#f0f921"
             ]
            ],
            "type": "histogram2d"
           }
          ],
          "histogram2dcontour": [
           {
            "colorbar": {
             "outlinewidth": 0,
             "ticks": ""
            },
            "colorscale": [
             [
              0,
              "#0d0887"
             ],
             [
              0.1111111111111111,
              "#46039f"
             ],
             [
              0.2222222222222222,
              "#7201a8"
             ],
             [
              0.3333333333333333,
              "#9c179e"
             ],
             [
              0.4444444444444444,
              "#bd3786"
             ],
             [
              0.5555555555555556,
              "#d8576b"
             ],
             [
              0.6666666666666666,
              "#ed7953"
             ],
             [
              0.7777777777777778,
              "#fb9f3a"
             ],
             [
              0.8888888888888888,
              "#fdca26"
             ],
             [
              1,
              "#f0f921"
             ]
            ],
            "type": "histogram2dcontour"
           }
          ],
          "mesh3d": [
           {
            "colorbar": {
             "outlinewidth": 0,
             "ticks": ""
            },
            "type": "mesh3d"
           }
          ],
          "parcoords": [
           {
            "line": {
             "colorbar": {
              "outlinewidth": 0,
              "ticks": ""
             }
            },
            "type": "parcoords"
           }
          ],
          "pie": [
           {
            "automargin": true,
            "type": "pie"
           }
          ],
          "scatter": [
           {
            "fillpattern": {
             "fillmode": "overlay",
             "size": 10,
             "solidity": 0.2
            },
            "type": "scatter"
           }
          ],
          "scatter3d": [
           {
            "line": {
             "colorbar": {
              "outlinewidth": 0,
              "ticks": ""
             }
            },
            "marker": {
             "colorbar": {
              "outlinewidth": 0,
              "ticks": ""
             }
            },
            "type": "scatter3d"
           }
          ],
          "scattercarpet": [
           {
            "marker": {
             "colorbar": {
              "outlinewidth": 0,
              "ticks": ""
             }
            },
            "type": "scattercarpet"
           }
          ],
          "scattergeo": [
           {
            "marker": {
             "colorbar": {
              "outlinewidth": 0,
              "ticks": ""
             }
            },
            "type": "scattergeo"
           }
          ],
          "scattergl": [
           {
            "marker": {
             "colorbar": {
              "outlinewidth": 0,
              "ticks": ""
             }
            },
            "type": "scattergl"
           }
          ],
          "scattermapbox": [
           {
            "marker": {
             "colorbar": {
              "outlinewidth": 0,
              "ticks": ""
             }
            },
            "type": "scattermapbox"
           }
          ],
          "scatterpolar": [
           {
            "marker": {
             "colorbar": {
              "outlinewidth": 0,
              "ticks": ""
             }
            },
            "type": "scatterpolar"
           }
          ],
          "scatterpolargl": [
           {
            "marker": {
             "colorbar": {
              "outlinewidth": 0,
              "ticks": ""
             }
            },
            "type": "scatterpolargl"
           }
          ],
          "scatterternary": [
           {
            "marker": {
             "colorbar": {
              "outlinewidth": 0,
              "ticks": ""
             }
            },
            "type": "scatterternary"
           }
          ],
          "surface": [
           {
            "colorbar": {
             "outlinewidth": 0,
             "ticks": ""
            },
            "colorscale": [
             [
              0,
              "#0d0887"
             ],
             [
              0.1111111111111111,
              "#46039f"
             ],
             [
              0.2222222222222222,
              "#7201a8"
             ],
             [
              0.3333333333333333,
              "#9c179e"
             ],
             [
              0.4444444444444444,
              "#bd3786"
             ],
             [
              0.5555555555555556,
              "#d8576b"
             ],
             [
              0.6666666666666666,
              "#ed7953"
             ],
             [
              0.7777777777777778,
              "#fb9f3a"
             ],
             [
              0.8888888888888888,
              "#fdca26"
             ],
             [
              1,
              "#f0f921"
             ]
            ],
            "type": "surface"
           }
          ],
          "table": [
           {
            "cells": {
             "fill": {
              "color": "#EBF0F8"
             },
             "line": {
              "color": "white"
             }
            },
            "header": {
             "fill": {
              "color": "#C8D4E3"
             },
             "line": {
              "color": "white"
             }
            },
            "type": "table"
           }
          ]
         },
         "layout": {
          "annotationdefaults": {
           "arrowcolor": "#2a3f5f",
           "arrowhead": 0,
           "arrowwidth": 1
          },
          "autotypenumbers": "strict",
          "coloraxis": {
           "colorbar": {
            "outlinewidth": 0,
            "ticks": ""
           }
          },
          "colorscale": {
           "diverging": [
            [
             0,
             "#8e0152"
            ],
            [
             0.1,
             "#c51b7d"
            ],
            [
             0.2,
             "#de77ae"
            ],
            [
             0.3,
             "#f1b6da"
            ],
            [
             0.4,
             "#fde0ef"
            ],
            [
             0.5,
             "#f7f7f7"
            ],
            [
             0.6,
             "#e6f5d0"
            ],
            [
             0.7,
             "#b8e186"
            ],
            [
             0.8,
             "#7fbc41"
            ],
            [
             0.9,
             "#4d9221"
            ],
            [
             1,
             "#276419"
            ]
           ],
           "sequential": [
            [
             0,
             "#0d0887"
            ],
            [
             0.1111111111111111,
             "#46039f"
            ],
            [
             0.2222222222222222,
             "#7201a8"
            ],
            [
             0.3333333333333333,
             "#9c179e"
            ],
            [
             0.4444444444444444,
             "#bd3786"
            ],
            [
             0.5555555555555556,
             "#d8576b"
            ],
            [
             0.6666666666666666,
             "#ed7953"
            ],
            [
             0.7777777777777778,
             "#fb9f3a"
            ],
            [
             0.8888888888888888,
             "#fdca26"
            ],
            [
             1,
             "#f0f921"
            ]
           ],
           "sequentialminus": [
            [
             0,
             "#0d0887"
            ],
            [
             0.1111111111111111,
             "#46039f"
            ],
            [
             0.2222222222222222,
             "#7201a8"
            ],
            [
             0.3333333333333333,
             "#9c179e"
            ],
            [
             0.4444444444444444,
             "#bd3786"
            ],
            [
             0.5555555555555556,
             "#d8576b"
            ],
            [
             0.6666666666666666,
             "#ed7953"
            ],
            [
             0.7777777777777778,
             "#fb9f3a"
            ],
            [
             0.8888888888888888,
             "#fdca26"
            ],
            [
             1,
             "#f0f921"
            ]
           ]
          },
          "colorway": [
           "#636efa",
           "#EF553B",
           "#00cc96",
           "#ab63fa",
           "#FFA15A",
           "#19d3f3",
           "#FF6692",
           "#B6E880",
           "#FF97FF",
           "#FECB52"
          ],
          "font": {
           "color": "#2a3f5f"
          },
          "geo": {
           "bgcolor": "white",
           "lakecolor": "white",
           "landcolor": "#E5ECF6",
           "showlakes": true,
           "showland": true,
           "subunitcolor": "white"
          },
          "hoverlabel": {
           "align": "left"
          },
          "hovermode": "closest",
          "mapbox": {
           "style": "light"
          },
          "paper_bgcolor": "white",
          "plot_bgcolor": "#E5ECF6",
          "polar": {
           "angularaxis": {
            "gridcolor": "white",
            "linecolor": "white",
            "ticks": ""
           },
           "bgcolor": "#E5ECF6",
           "radialaxis": {
            "gridcolor": "white",
            "linecolor": "white",
            "ticks": ""
           }
          },
          "scene": {
           "xaxis": {
            "backgroundcolor": "#E5ECF6",
            "gridcolor": "white",
            "gridwidth": 2,
            "linecolor": "white",
            "showbackground": true,
            "ticks": "",
            "zerolinecolor": "white"
           },
           "yaxis": {
            "backgroundcolor": "#E5ECF6",
            "gridcolor": "white",
            "gridwidth": 2,
            "linecolor": "white",
            "showbackground": true,
            "ticks": "",
            "zerolinecolor": "white"
           },
           "zaxis": {
            "backgroundcolor": "#E5ECF6",
            "gridcolor": "white",
            "gridwidth": 2,
            "linecolor": "white",
            "showbackground": true,
            "ticks": "",
            "zerolinecolor": "white"
           }
          },
          "shapedefaults": {
           "line": {
            "color": "#2a3f5f"
           }
          },
          "ternary": {
           "aaxis": {
            "gridcolor": "white",
            "linecolor": "white",
            "ticks": ""
           },
           "baxis": {
            "gridcolor": "white",
            "linecolor": "white",
            "ticks": ""
           },
           "bgcolor": "#E5ECF6",
           "caxis": {
            "gridcolor": "white",
            "linecolor": "white",
            "ticks": ""
           }
          },
          "title": {
           "x": 0.05
          },
          "xaxis": {
           "automargin": true,
           "gridcolor": "white",
           "linecolor": "white",
           "ticks": "",
           "title": {
            "standoff": 15
           },
           "zerolinecolor": "white",
           "zerolinewidth": 2
          },
          "yaxis": {
           "automargin": true,
           "gridcolor": "white",
           "linecolor": "white",
           "ticks": "",
           "title": {
            "standoff": 15
           },
           "zerolinecolor": "white",
           "zerolinewidth": 2
          }
         }
        },
        "title": {
         "text": "Accidents Count Over the Years in Major Cities"
        },
        "xaxis": {
         "anchor": "y",
         "domain": [
          0,
          1
         ],
         "title": {
          "text": "Year"
         }
        },
        "yaxis": {
         "anchor": "x",
         "domain": [
          0,
          1
         ],
         "title": {
          "text": "Accidents Rate"
         }
        }
       }
      }
     },
     "metadata": {},
     "output_type": "display_data"
    }
   ],
   "source": [
    "# FIX TEXT!\n",
    "imh_year_cnt_pop_selected_cities = imh_year_cnt_pop[imh_year_cnt_pop.accident_yishuv_name.isin(cities_names)]\n",
    "fig = px.line(imh_year_cnt_pop_selected_cities, \n",
    "              x='accident_year', \n",
    "              y='accidents_rate', \n",
    "              color='accident_yishuv_name', \n",
    "              title='Accidents Count Over the Years in Major Cities')\n",
    "\n",
    "# Update layout\n",
    "fig.update_layout(xaxis_title='Year',\n",
    "                  yaxis_title='Accidents Rate',\n",
    "                  legend_title='Major Cities')\n",
    "\n",
    "# Show the plot\n",
    "fig.show()"
   ]
  },
  {
   "cell_type": "markdown",
   "id": "5618183f",
   "metadata": {},
   "source": [
    "### Question do I have 2023 population and accidents?"
   ]
  },
  {
   "cell_type": "markdown",
   "id": "eefbfb15",
   "metadata": {},
   "source": [
    "### Show a graph of top cities for each year, probably need a scatter plot\n",
    "\n",
    "Find the city with the highest ratio each year and plot them through out the years also show the number of accidents."
   ]
  },
  {
   "cell_type": "code",
   "execution_count": 22,
   "id": "ec1c1013",
   "metadata": {},
   "outputs": [
    {
     "data": {
      "text/html": [
       "<div>\n",
       "<style scoped>\n",
       "    .dataframe tbody tr th:only-of-type {\n",
       "        vertical-align: middle;\n",
       "    }\n",
       "\n",
       "    .dataframe tbody tr th {\n",
       "        vertical-align: top;\n",
       "    }\n",
       "\n",
       "    .dataframe thead th {\n",
       "        text-align: right;\n",
       "    }\n",
       "</style>\n",
       "<table border=\"1\" class=\"dataframe\">\n",
       "  <thead>\n",
       "    <tr style=\"text-align: right;\">\n",
       "      <th></th>\n",
       "      <th>accident_year</th>\n",
       "      <th>accident_yishuv_name</th>\n",
       "      <th>accident_yishuv_symbol</th>\n",
       "      <th>cnt</th>\n",
       "      <th>population</th>\n",
       "      <th>accidents_rate</th>\n",
       "    </tr>\n",
       "  </thead>\n",
       "  <tbody>\n",
       "    <tr>\n",
       "      <th>500</th>\n",
       "      <td>2014</td>\n",
       "      <td>מי עמי</td>\n",
       "      <td>1128</td>\n",
       "      <td>33</td>\n",
       "      <td>320</td>\n",
       "      <td>0.103125</td>\n",
       "    </tr>\n",
       "    <tr>\n",
       "      <th>104</th>\n",
       "      <td>2014</td>\n",
       "      <td>בית ברל</td>\n",
       "      <td>1076</td>\n",
       "      <td>12</td>\n",
       "      <td>110</td>\n",
       "      <td>0.109091</td>\n",
       "    </tr>\n",
       "    <tr>\n",
       "      <th>464</th>\n",
       "      <td>2014</td>\n",
       "      <td>לפידות</td>\n",
       "      <td>1173</td>\n",
       "      <td>14</td>\n",
       "      <td>120</td>\n",
       "      <td>0.116667</td>\n",
       "    </tr>\n",
       "    <tr>\n",
       "      <th>40</th>\n",
       "      <td>2014</td>\n",
       "      <td>אייל</td>\n",
       "      <td>716</td>\n",
       "      <td>56</td>\n",
       "      <td>470</td>\n",
       "      <td>0.119149</td>\n",
       "    </tr>\n",
       "    <tr>\n",
       "      <th>580</th>\n",
       "      <td>2014</td>\n",
       "      <td>נחשונים</td>\n",
       "      <td>705</td>\n",
       "      <td>59</td>\n",
       "      <td>330</td>\n",
       "      <td>0.178788</td>\n",
       "    </tr>\n",
       "  </tbody>\n",
       "</table>\n",
       "</div>"
      ],
      "text/plain": [
       "     accident_year accident_yishuv_name  accident_yishuv_symbol  cnt  \\\n",
       "500           2014               מי עמי                    1128   33   \n",
       "104           2014              בית ברל                    1076   12   \n",
       "464           2014               לפידות                    1173   14   \n",
       "40            2014                 אייל                     716   56   \n",
       "580           2014              נחשונים                     705   59   \n",
       "\n",
       "     population  accidents_rate  \n",
       "500         320        0.103125  \n",
       "104         110        0.109091  \n",
       "464         120        0.116667  \n",
       "40          470        0.119149  \n",
       "580         330        0.178788  "
      ]
     },
     "metadata": {},
     "output_type": "display_data"
    },
    {
     "data": {
      "text/html": [
       "<div>\n",
       "<style scoped>\n",
       "    .dataframe tbody tr th:only-of-type {\n",
       "        vertical-align: middle;\n",
       "    }\n",
       "\n",
       "    .dataframe tbody tr th {\n",
       "        vertical-align: top;\n",
       "    }\n",
       "\n",
       "    .dataframe thead th {\n",
       "        text-align: right;\n",
       "    }\n",
       "</style>\n",
       "<table border=\"1\" class=\"dataframe\">\n",
       "  <thead>\n",
       "    <tr style=\"text-align: right;\">\n",
       "      <th></th>\n",
       "      <th>accident_year</th>\n",
       "      <th>accident_yishuv_name</th>\n",
       "      <th>accident_yishuv_symbol</th>\n",
       "      <th>cnt</th>\n",
       "      <th>population</th>\n",
       "      <th>accidents_rate</th>\n",
       "    </tr>\n",
       "  </thead>\n",
       "  <tbody>\n",
       "    <tr>\n",
       "      <th>1336</th>\n",
       "      <td>2015</td>\n",
       "      <td>מי עמי</td>\n",
       "      <td>1128</td>\n",
       "      <td>37</td>\n",
       "      <td>331</td>\n",
       "      <td>0.111782</td>\n",
       "    </tr>\n",
       "    <tr>\n",
       "      <th>949</th>\n",
       "      <td>2015</td>\n",
       "      <td>בית ברל</td>\n",
       "      <td>1076</td>\n",
       "      <td>13</td>\n",
       "      <td>113</td>\n",
       "      <td>0.115044</td>\n",
       "    </tr>\n",
       "    <tr>\n",
       "      <th>888</th>\n",
       "      <td>2015</td>\n",
       "      <td>אייל</td>\n",
       "      <td>716</td>\n",
       "      <td>69</td>\n",
       "      <td>482</td>\n",
       "      <td>0.143154</td>\n",
       "    </tr>\n",
       "    <tr>\n",
       "      <th>1576</th>\n",
       "      <td>2015</td>\n",
       "      <td>קדרים</td>\n",
       "      <td>1211</td>\n",
       "      <td>29</td>\n",
       "      <td>189</td>\n",
       "      <td>0.153439</td>\n",
       "    </tr>\n",
       "    <tr>\n",
       "      <th>1429</th>\n",
       "      <td>2015</td>\n",
       "      <td>נחשונים</td>\n",
       "      <td>705</td>\n",
       "      <td>74</td>\n",
       "      <td>332</td>\n",
       "      <td>0.222892</td>\n",
       "    </tr>\n",
       "  </tbody>\n",
       "</table>\n",
       "</div>"
      ],
      "text/plain": [
       "      accident_year accident_yishuv_name  accident_yishuv_symbol  cnt  \\\n",
       "1336           2015               מי עמי                    1128   37   \n",
       "949            2015              בית ברל                    1076   13   \n",
       "888            2015                 אייל                     716   69   \n",
       "1576           2015                קדרים                    1211   29   \n",
       "1429           2015              נחשונים                     705   74   \n",
       "\n",
       "      population  accidents_rate  \n",
       "1336         331        0.111782  \n",
       "949          113        0.115044  \n",
       "888          482        0.143154  \n",
       "1576         189        0.153439  \n",
       "1429         332        0.222892  "
      ]
     },
     "metadata": {},
     "output_type": "display_data"
    },
    {
     "data": {
      "text/html": [
       "<div>\n",
       "<style scoped>\n",
       "    .dataframe tbody tr th:only-of-type {\n",
       "        vertical-align: middle;\n",
       "    }\n",
       "\n",
       "    .dataframe tbody tr th {\n",
       "        vertical-align: top;\n",
       "    }\n",
       "\n",
       "    .dataframe thead th {\n",
       "        text-align: right;\n",
       "    }\n",
       "</style>\n",
       "<table border=\"1\" class=\"dataframe\">\n",
       "  <thead>\n",
       "    <tr style=\"text-align: right;\">\n",
       "      <th></th>\n",
       "      <th>accident_year</th>\n",
       "      <th>accident_yishuv_name</th>\n",
       "      <th>accident_yishuv_symbol</th>\n",
       "      <th>cnt</th>\n",
       "      <th>population</th>\n",
       "      <th>accidents_rate</th>\n",
       "    </tr>\n",
       "  </thead>\n",
       "  <tbody>\n",
       "    <tr>\n",
       "      <th>2264</th>\n",
       "      <td>2016</td>\n",
       "      <td>משגב עם</td>\n",
       "      <td>378</td>\n",
       "      <td>36</td>\n",
       "      <td>320</td>\n",
       "      <td>0.112500</td>\n",
       "    </tr>\n",
       "    <tr>\n",
       "      <th>2006</th>\n",
       "      <td>2016</td>\n",
       "      <td>חורשים</td>\n",
       "      <td>355</td>\n",
       "      <td>48</td>\n",
       "      <td>313</td>\n",
       "      <td>0.153355</td>\n",
       "    </tr>\n",
       "    <tr>\n",
       "      <th>2177</th>\n",
       "      <td>2016</td>\n",
       "      <td>לפידות</td>\n",
       "      <td>1173</td>\n",
       "      <td>19</td>\n",
       "      <td>116</td>\n",
       "      <td>0.163793</td>\n",
       "    </tr>\n",
       "    <tr>\n",
       "      <th>1748</th>\n",
       "      <td>2016</td>\n",
       "      <td>אייל</td>\n",
       "      <td>716</td>\n",
       "      <td>95</td>\n",
       "      <td>485</td>\n",
       "      <td>0.195876</td>\n",
       "    </tr>\n",
       "    <tr>\n",
       "      <th>2310</th>\n",
       "      <td>2016</td>\n",
       "      <td>נחשונים</td>\n",
       "      <td>705</td>\n",
       "      <td>97</td>\n",
       "      <td>362</td>\n",
       "      <td>0.267956</td>\n",
       "    </tr>\n",
       "  </tbody>\n",
       "</table>\n",
       "</div>"
      ],
      "text/plain": [
       "      accident_year accident_yishuv_name  accident_yishuv_symbol  cnt  \\\n",
       "2264           2016              משגב עם                     378   36   \n",
       "2006           2016               חורשים                     355   48   \n",
       "2177           2016               לפידות                    1173   19   \n",
       "1748           2016                 אייל                     716   95   \n",
       "2310           2016              נחשונים                     705   97   \n",
       "\n",
       "      population  accidents_rate  \n",
       "2264         320        0.112500  \n",
       "2006         313        0.153355  \n",
       "2177         116        0.163793  \n",
       "1748         485        0.195876  \n",
       "2310         362        0.267956  "
      ]
     },
     "metadata": {},
     "output_type": "display_data"
    },
    {
     "data": {
      "text/html": [
       "<div>\n",
       "<style scoped>\n",
       "    .dataframe tbody tr th:only-of-type {\n",
       "        vertical-align: middle;\n",
       "    }\n",
       "\n",
       "    .dataframe tbody tr th {\n",
       "        vertical-align: top;\n",
       "    }\n",
       "\n",
       "    .dataframe thead th {\n",
       "        text-align: right;\n",
       "    }\n",
       "</style>\n",
       "<table border=\"1\" class=\"dataframe\">\n",
       "  <thead>\n",
       "    <tr style=\"text-align: right;\">\n",
       "      <th></th>\n",
       "      <th>accident_year</th>\n",
       "      <th>accident_yishuv_name</th>\n",
       "      <th>accident_yishuv_symbol</th>\n",
       "      <th>cnt</th>\n",
       "      <th>population</th>\n",
       "      <th>accidents_rate</th>\n",
       "    </tr>\n",
       "  </thead>\n",
       "  <tbody>\n",
       "    <tr>\n",
       "      <th>2933</th>\n",
       "      <td>2017</td>\n",
       "      <td>יודפת</td>\n",
       "      <td>1112</td>\n",
       "      <td>72</td>\n",
       "      <td>829</td>\n",
       "      <td>0.086852</td>\n",
       "    </tr>\n",
       "    <tr>\n",
       "      <th>2882</th>\n",
       "      <td>2017</td>\n",
       "      <td>חורשים</td>\n",
       "      <td>355</td>\n",
       "      <td>30</td>\n",
       "      <td>310</td>\n",
       "      <td>0.096774</td>\n",
       "    </tr>\n",
       "    <tr>\n",
       "      <th>2633</th>\n",
       "      <td>2017</td>\n",
       "      <td>אייל</td>\n",
       "      <td>716</td>\n",
       "      <td>64</td>\n",
       "      <td>506</td>\n",
       "      <td>0.126482</td>\n",
       "    </tr>\n",
       "    <tr>\n",
       "      <th>2893</th>\n",
       "      <td>2017</td>\n",
       "      <td>חמרה</td>\n",
       "      <td>3609</td>\n",
       "      <td>19</td>\n",
       "      <td>126</td>\n",
       "      <td>0.150794</td>\n",
       "    </tr>\n",
       "    <tr>\n",
       "      <th>3181</th>\n",
       "      <td>2017</td>\n",
       "      <td>נחשונים</td>\n",
       "      <td>705</td>\n",
       "      <td>69</td>\n",
       "      <td>384</td>\n",
       "      <td>0.179688</td>\n",
       "    </tr>\n",
       "  </tbody>\n",
       "</table>\n",
       "</div>"
      ],
      "text/plain": [
       "      accident_year accident_yishuv_name  accident_yishuv_symbol  cnt  \\\n",
       "2933           2017                יודפת                    1112   72   \n",
       "2882           2017               חורשים                     355   30   \n",
       "2633           2017                 אייל                     716   64   \n",
       "2893           2017                 חמרה                    3609   19   \n",
       "3181           2017              נחשונים                     705   69   \n",
       "\n",
       "      population  accidents_rate  \n",
       "2933         829        0.086852  \n",
       "2882         310        0.096774  \n",
       "2633         506        0.126482  \n",
       "2893         126        0.150794  \n",
       "3181         384        0.179688  "
      ]
     },
     "metadata": {},
     "output_type": "display_data"
    },
    {
     "data": {
      "text/html": [
       "<div>\n",
       "<style scoped>\n",
       "    .dataframe tbody tr th:only-of-type {\n",
       "        vertical-align: middle;\n",
       "    }\n",
       "\n",
       "    .dataframe tbody tr th {\n",
       "        vertical-align: top;\n",
       "    }\n",
       "\n",
       "    .dataframe thead th {\n",
       "        text-align: right;\n",
       "    }\n",
       "</style>\n",
       "<table border=\"1\" class=\"dataframe\">\n",
       "  <thead>\n",
       "    <tr style=\"text-align: right;\">\n",
       "      <th></th>\n",
       "      <th>accident_year</th>\n",
       "      <th>accident_yishuv_name</th>\n",
       "      <th>accident_yishuv_symbol</th>\n",
       "      <th>cnt</th>\n",
       "      <th>population</th>\n",
       "      <th>accidents_rate</th>\n",
       "    </tr>\n",
       "  </thead>\n",
       "  <tbody>\n",
       "    <tr>\n",
       "      <th>3803</th>\n",
       "      <td>2018</td>\n",
       "      <td>יודפת</td>\n",
       "      <td>1112</td>\n",
       "      <td>60</td>\n",
       "      <td>867</td>\n",
       "      <td>0.069204</td>\n",
       "    </tr>\n",
       "    <tr>\n",
       "      <th>3528</th>\n",
       "      <td>2018</td>\n",
       "      <td>אלקוש</td>\n",
       "      <td>603</td>\n",
       "      <td>23</td>\n",
       "      <td>292</td>\n",
       "      <td>0.078767</td>\n",
       "    </tr>\n",
       "    <tr>\n",
       "      <th>4127</th>\n",
       "      <td>2018</td>\n",
       "      <td>פורייה - כפר עבודה</td>\n",
       "      <td>1104</td>\n",
       "      <td>31</td>\n",
       "      <td>375</td>\n",
       "      <td>0.082667</td>\n",
       "    </tr>\n",
       "    <tr>\n",
       "      <th>4021</th>\n",
       "      <td>2018</td>\n",
       "      <td>נחשונים</td>\n",
       "      <td>705</td>\n",
       "      <td>38</td>\n",
       "      <td>399</td>\n",
       "      <td>0.095238</td>\n",
       "    </tr>\n",
       "    <tr>\n",
       "      <th>3508</th>\n",
       "      <td>2018</td>\n",
       "      <td>אייל</td>\n",
       "      <td>716</td>\n",
       "      <td>57</td>\n",
       "      <td>522</td>\n",
       "      <td>0.109195</td>\n",
       "    </tr>\n",
       "  </tbody>\n",
       "</table>\n",
       "</div>"
      ],
      "text/plain": [
       "      accident_year accident_yishuv_name  accident_yishuv_symbol  cnt  \\\n",
       "3803           2018                יודפת                    1112   60   \n",
       "3528           2018                אלקוש                     603   23   \n",
       "4127           2018   פורייה - כפר עבודה                    1104   31   \n",
       "4021           2018              נחשונים                     705   38   \n",
       "3508           2018                 אייל                     716   57   \n",
       "\n",
       "      population  accidents_rate  \n",
       "3803         867        0.069204  \n",
       "3528         292        0.078767  \n",
       "4127         375        0.082667  \n",
       "4021         399        0.095238  \n",
       "3508         522        0.109195  "
      ]
     },
     "metadata": {},
     "output_type": "display_data"
    },
    {
     "data": {
      "text/html": [
       "<div>\n",
       "<style scoped>\n",
       "    .dataframe tbody tr th:only-of-type {\n",
       "        vertical-align: middle;\n",
       "    }\n",
       "\n",
       "    .dataframe tbody tr th {\n",
       "        vertical-align: top;\n",
       "    }\n",
       "\n",
       "    .dataframe thead th {\n",
       "        text-align: right;\n",
       "    }\n",
       "</style>\n",
       "<table border=\"1\" class=\"dataframe\">\n",
       "  <thead>\n",
       "    <tr style=\"text-align: right;\">\n",
       "      <th></th>\n",
       "      <th>accident_year</th>\n",
       "      <th>accident_yishuv_name</th>\n",
       "      <th>accident_yishuv_symbol</th>\n",
       "      <th>cnt</th>\n",
       "      <th>population</th>\n",
       "      <th>accidents_rate</th>\n",
       "    </tr>\n",
       "  </thead>\n",
       "  <tbody>\n",
       "    <tr>\n",
       "      <th>4350</th>\n",
       "      <td>2019</td>\n",
       "      <td>אליקים</td>\n",
       "      <td>682</td>\n",
       "      <td>57</td>\n",
       "      <td>910</td>\n",
       "      <td>0.062637</td>\n",
       "    </tr>\n",
       "    <tr>\n",
       "      <th>4332</th>\n",
       "      <td>2019</td>\n",
       "      <td>אייל</td>\n",
       "      <td>716</td>\n",
       "      <td>45</td>\n",
       "      <td>534</td>\n",
       "      <td>0.084270</td>\n",
       "    </tr>\n",
       "    <tr>\n",
       "      <th>4659</th>\n",
       "      <td>2019</td>\n",
       "      <td>יקנעם (מושבה)</td>\n",
       "      <td>241</td>\n",
       "      <td>127</td>\n",
       "      <td>1401</td>\n",
       "      <td>0.090650</td>\n",
       "    </tr>\n",
       "    <tr>\n",
       "      <th>4754</th>\n",
       "      <td>2019</td>\n",
       "      <td>לפידות</td>\n",
       "      <td>1173</td>\n",
       "      <td>16</td>\n",
       "      <td>128</td>\n",
       "      <td>0.125000</td>\n",
       "    </tr>\n",
       "    <tr>\n",
       "      <th>4874</th>\n",
       "      <td>2019</td>\n",
       "      <td>נחשונים</td>\n",
       "      <td>705</td>\n",
       "      <td>60</td>\n",
       "      <td>405</td>\n",
       "      <td>0.148148</td>\n",
       "    </tr>\n",
       "  </tbody>\n",
       "</table>\n",
       "</div>"
      ],
      "text/plain": [
       "      accident_year accident_yishuv_name  accident_yishuv_symbol  cnt  \\\n",
       "4350           2019               אליקים                     682   57   \n",
       "4332           2019                 אייל                     716   45   \n",
       "4659           2019        יקנעם (מושבה)                     241  127   \n",
       "4754           2019               לפידות                    1173   16   \n",
       "4874           2019              נחשונים                     705   60   \n",
       "\n",
       "      population  accidents_rate  \n",
       "4350         910        0.062637  \n",
       "4332         534        0.084270  \n",
       "4659        1401        0.090650  \n",
       "4754         128        0.125000  \n",
       "4874         405        0.148148  "
      ]
     },
     "metadata": {},
     "output_type": "display_data"
    },
    {
     "data": {
      "text/html": [
       "<div>\n",
       "<style scoped>\n",
       "    .dataframe tbody tr th:only-of-type {\n",
       "        vertical-align: middle;\n",
       "    }\n",
       "\n",
       "    .dataframe tbody tr th {\n",
       "        vertical-align: top;\n",
       "    }\n",
       "\n",
       "    .dataframe thead th {\n",
       "        text-align: right;\n",
       "    }\n",
       "</style>\n",
       "<table border=\"1\" class=\"dataframe\">\n",
       "  <thead>\n",
       "    <tr style=\"text-align: right;\">\n",
       "      <th></th>\n",
       "      <th>accident_year</th>\n",
       "      <th>accident_yishuv_name</th>\n",
       "      <th>accident_yishuv_symbol</th>\n",
       "      <th>cnt</th>\n",
       "      <th>population</th>\n",
       "      <th>accidents_rate</th>\n",
       "    </tr>\n",
       "  </thead>\n",
       "  <tbody>\n",
       "    <tr>\n",
       "      <th>5657</th>\n",
       "      <td>2020</td>\n",
       "      <td>נחשונים</td>\n",
       "      <td>705</td>\n",
       "      <td>21</td>\n",
       "      <td>419</td>\n",
       "      <td>0.050119</td>\n",
       "    </tr>\n",
       "    <tr>\n",
       "      <th>5461</th>\n",
       "      <td>2020</td>\n",
       "      <td>יודפת</td>\n",
       "      <td>1112</td>\n",
       "      <td>62</td>\n",
       "      <td>907</td>\n",
       "      <td>0.068357</td>\n",
       "    </tr>\n",
       "    <tr>\n",
       "      <th>5475</th>\n",
       "      <td>2020</td>\n",
       "      <td>יקנעם (מושבה)</td>\n",
       "      <td>241</td>\n",
       "      <td>103</td>\n",
       "      <td>1386</td>\n",
       "      <td>0.074315</td>\n",
       "    </tr>\n",
       "    <tr>\n",
       "      <th>5643</th>\n",
       "      <td>2020</td>\n",
       "      <td>נווה זוהר</td>\n",
       "      <td>1057</td>\n",
       "      <td>4</td>\n",
       "      <td>53</td>\n",
       "      <td>0.075472</td>\n",
       "    </tr>\n",
       "    <tr>\n",
       "      <th>5559</th>\n",
       "      <td>2020</td>\n",
       "      <td>לפידות</td>\n",
       "      <td>1173</td>\n",
       "      <td>10</td>\n",
       "      <td>129</td>\n",
       "      <td>0.077519</td>\n",
       "    </tr>\n",
       "  </tbody>\n",
       "</table>\n",
       "</div>"
      ],
      "text/plain": [
       "      accident_year accident_yishuv_name  accident_yishuv_symbol  cnt  \\\n",
       "5657           2020              נחשונים                     705   21   \n",
       "5461           2020                יודפת                    1112   62   \n",
       "5475           2020        יקנעם (מושבה)                     241  103   \n",
       "5643           2020            נווה זוהר                    1057    4   \n",
       "5559           2020               לפידות                    1173   10   \n",
       "\n",
       "      population  accidents_rate  \n",
       "5657         419        0.050119  \n",
       "5461         907        0.068357  \n",
       "5475        1386        0.074315  \n",
       "5643          53        0.075472  \n",
       "5559         129        0.077519  "
      ]
     },
     "metadata": {},
     "output_type": "display_data"
    },
    {
     "data": {
      "text/html": [
       "<div>\n",
       "<style scoped>\n",
       "    .dataframe tbody tr th:only-of-type {\n",
       "        vertical-align: middle;\n",
       "    }\n",
       "\n",
       "    .dataframe tbody tr th {\n",
       "        vertical-align: top;\n",
       "    }\n",
       "\n",
       "    .dataframe thead th {\n",
       "        text-align: right;\n",
       "    }\n",
       "</style>\n",
       "<table border=\"1\" class=\"dataframe\">\n",
       "  <thead>\n",
       "    <tr style=\"text-align: right;\">\n",
       "      <th></th>\n",
       "      <th>accident_year</th>\n",
       "      <th>accident_yishuv_name</th>\n",
       "      <th>accident_yishuv_symbol</th>\n",
       "      <th>cnt</th>\n",
       "      <th>population</th>\n",
       "      <th>accidents_rate</th>\n",
       "    </tr>\n",
       "  </thead>\n",
       "  <tbody>\n",
       "    <tr>\n",
       "      <th>6002</th>\n",
       "      <td>2021</td>\n",
       "      <td>בית ינאי</td>\n",
       "      <td>200</td>\n",
       "      <td>22</td>\n",
       "      <td>363</td>\n",
       "      <td>0.060606</td>\n",
       "    </tr>\n",
       "    <tr>\n",
       "      <th>5937</th>\n",
       "      <td>2021</td>\n",
       "      <td>אייל</td>\n",
       "      <td>716</td>\n",
       "      <td>39</td>\n",
       "      <td>549</td>\n",
       "      <td>0.071038</td>\n",
       "    </tr>\n",
       "    <tr>\n",
       "      <th>5989</th>\n",
       "      <td>2021</td>\n",
       "      <td>בית ברל</td>\n",
       "      <td>1076</td>\n",
       "      <td>17</td>\n",
       "      <td>226</td>\n",
       "      <td>0.075221</td>\n",
       "    </tr>\n",
       "    <tr>\n",
       "      <th>6169</th>\n",
       "      <td>2021</td>\n",
       "      <td>יקנעם (מושבה)</td>\n",
       "      <td>241</td>\n",
       "      <td>147</td>\n",
       "      <td>1376</td>\n",
       "      <td>0.106831</td>\n",
       "    </tr>\n",
       "    <tr>\n",
       "      <th>6244</th>\n",
       "      <td>2021</td>\n",
       "      <td>לפידות</td>\n",
       "      <td>1173</td>\n",
       "      <td>17</td>\n",
       "      <td>129</td>\n",
       "      <td>0.131783</td>\n",
       "    </tr>\n",
       "  </tbody>\n",
       "</table>\n",
       "</div>"
      ],
      "text/plain": [
       "      accident_year accident_yishuv_name  accident_yishuv_symbol  cnt  \\\n",
       "6002           2021             בית ינאי                     200   22   \n",
       "5937           2021                 אייל                     716   39   \n",
       "5989           2021              בית ברל                    1076   17   \n",
       "6169           2021        יקנעם (מושבה)                     241  147   \n",
       "6244           2021               לפידות                    1173   17   \n",
       "\n",
       "      population  accidents_rate  \n",
       "6002         363        0.060606  \n",
       "5937         549        0.071038  \n",
       "5989         226        0.075221  \n",
       "6169        1376        0.106831  \n",
       "6244         129        0.131783  "
      ]
     },
     "metadata": {},
     "output_type": "display_data"
    },
    {
     "data": {
      "text/html": [
       "<div>\n",
       "<style scoped>\n",
       "    .dataframe tbody tr th:only-of-type {\n",
       "        vertical-align: middle;\n",
       "    }\n",
       "\n",
       "    .dataframe tbody tr th {\n",
       "        vertical-align: top;\n",
       "    }\n",
       "\n",
       "    .dataframe thead th {\n",
       "        text-align: right;\n",
       "    }\n",
       "</style>\n",
       "<table border=\"1\" class=\"dataframe\">\n",
       "  <thead>\n",
       "    <tr style=\"text-align: right;\">\n",
       "      <th></th>\n",
       "      <th>accident_year</th>\n",
       "      <th>accident_yishuv_name</th>\n",
       "      <th>accident_yishuv_symbol</th>\n",
       "      <th>cnt</th>\n",
       "      <th>population</th>\n",
       "      <th>accidents_rate</th>\n",
       "    </tr>\n",
       "  </thead>\n",
       "  <tbody>\n",
       "    <tr>\n",
       "      <th>6632</th>\n",
       "      <td>2022</td>\n",
       "      <td>אלקוש</td>\n",
       "      <td>603</td>\n",
       "      <td>14</td>\n",
       "      <td>275</td>\n",
       "      <td>0.050909</td>\n",
       "    </tr>\n",
       "    <tr>\n",
       "      <th>7236</th>\n",
       "      <td>2022</td>\n",
       "      <td>צוריאל</td>\n",
       "      <td>774</td>\n",
       "      <td>22</td>\n",
       "      <td>405</td>\n",
       "      <td>0.054321</td>\n",
       "    </tr>\n",
       "    <tr>\n",
       "      <th>6606</th>\n",
       "      <td>2022</td>\n",
       "      <td>אייל</td>\n",
       "      <td>716</td>\n",
       "      <td>35</td>\n",
       "      <td>566</td>\n",
       "      <td>0.061837</td>\n",
       "    </tr>\n",
       "    <tr>\n",
       "      <th>6903</th>\n",
       "      <td>2022</td>\n",
       "      <td>יקנעם (מושבה)</td>\n",
       "      <td>241</td>\n",
       "      <td>155</td>\n",
       "      <td>1382</td>\n",
       "      <td>0.112156</td>\n",
       "    </tr>\n",
       "    <tr>\n",
       "      <th>6995</th>\n",
       "      <td>2022</td>\n",
       "      <td>לפידות</td>\n",
       "      <td>1173</td>\n",
       "      <td>27</td>\n",
       "      <td>126</td>\n",
       "      <td>0.214286</td>\n",
       "    </tr>\n",
       "  </tbody>\n",
       "</table>\n",
       "</div>"
      ],
      "text/plain": [
       "      accident_year accident_yishuv_name  accident_yishuv_symbol  cnt  \\\n",
       "6632           2022                אלקוש                     603   14   \n",
       "7236           2022               צוריאל                     774   22   \n",
       "6606           2022                 אייל                     716   35   \n",
       "6903           2022        יקנעם (מושבה)                     241  155   \n",
       "6995           2022               לפידות                    1173   27   \n",
       "\n",
       "      population  accidents_rate  \n",
       "6632         275        0.050909  \n",
       "7236         405        0.054321  \n",
       "6606         566        0.061837  \n",
       "6903        1382        0.112156  \n",
       "6995         126        0.214286  "
      ]
     },
     "metadata": {},
     "output_type": "display_data"
    }
   ],
   "source": [
    "# get top city ratio for each year.\n",
    "\n",
    "top_cities_by_ratio = []\n",
    "for year in [2014,2015,2016,2017, 2018, 2019, 2020, 2021, 2022]:\n",
    "    # yishuv_name = imh_year_cnt_pop[imh_year_cnt_pop.accident_year == year].sort_values(by='accidents_rate').tail(1).accident_yishuv_name.values[0]\n",
    "    # yishuv_name = imh_year_cnt_pop[imh_year_cnt_pop.accident_year == year].sort_values(by='accidents_rate').tail(1).cnt.values[0]\n",
    "    display(imh_year_cnt_pop[imh_year_cnt_pop.accident_year == year].sort_values(by='accidents_rate').tail(5))"
   ]
  },
  {
   "cell_type": "markdown",
   "id": "d585b539",
   "metadata": {},
   "source": [
    "נחשונים was in the top yishuv accident by ratio from 2014 to 2019(including). from there it dropped.\n",
    "\n",
    "The next noticeable yishuv is אייל which is consistently in the top 5 yishuv by accident ratio with population of above 500 and ratio of around 0.07\n",
    "\n",
    "Another noticeable yishuv is יקנעם (מושבה) which has around 1380+ population and a ratio around 0.9"
   ]
  },
  {
   "cell_type": "markdown",
   "id": "9f89e3bd",
   "metadata": {},
   "source": [
    "Check age group accidents in all of Israel\n",
    "\n",
    "Tel Aviv analyze by city residents and outside comers.\n",
    "\n",
    "Tel Aviv how is the number of accidents of micro mobility devided by vehicle \n",
    "\n",
    "Make interesting graphs for tel aviv.\n",
    "\n",
    "Look at bicycle lanes, when were they open how did the number of accidents change \n",
    "\n",
    "xhttps://www.tel-aviv.gov.il/Residents/Transportation/Pages/BicyclePaths.aspx"
   ]
  }
 ],
 "metadata": {
  "kernelspec": {
   "display_name": "Python 3 (ipykernel)",
   "language": "python",
   "name": "python3"
  },
  "language_info": {
   "codemirror_mode": {
    "name": "ipython",
    "version": 3
   },
   "file_extension": ".py",
   "mimetype": "text/x-python",
   "name": "python",
   "nbconvert_exporter": "python",
   "pygments_lexer": "ipython3",
   "version": "3.9.13"
  }
 },
 "nbformat": 4,
 "nbformat_minor": 5
}
