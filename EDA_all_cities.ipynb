{
 "cells": [
  {
   "cell_type": "markdown",
   "id": "842e0de0",
   "metadata": {},
   "source": [
    "* Going over cities\n",
    "* Checking group age  "
   ]
  },
  {
   "cell_type": "code",
   "execution_count": 1,
   "id": "0fd347f3",
   "metadata": {},
   "outputs": [],
   "source": [
    "import pandas as pd\n",
    "import numpy as np\n",
    "import plotly.express as px\n",
    "import matplotlib.pyplot as plt\n",
    "\n",
    "import warnings\n",
    "warnings.simplefilter(action='ignore', category=FutureWarning)\n"
   ]
  },
  {
   "cell_type": "code",
   "execution_count": 3,
   "id": "95e96e5e",
   "metadata": {},
   "outputs": [
    {
     "name": "stderr",
     "output_type": "stream",
     "text": [
      "C:\\Users\\itay8\\AppData\\Local\\Temp\\ipykernel_4468\\2317383670.py:1: DtypeWarning: Columns (151) have mixed types. Specify dtype option on import or set low_memory=False.\n",
      "  imh = pd.read_csv('./csv_tables/involved_markers_hebrew.csv')\n"
     ]
    },
    {
     "data": {
      "text/html": [
       "<div>\n",
       "<style scoped>\n",
       "    .dataframe tbody tr th:only-of-type {\n",
       "        vertical-align: middle;\n",
       "    }\n",
       "\n",
       "    .dataframe tbody tr th {\n",
       "        vertical-align: top;\n",
       "    }\n",
       "\n",
       "    .dataframe thead th {\n",
       "        text-align: right;\n",
       "    }\n",
       "</style>\n",
       "<table border=\"1\" class=\"dataframe\">\n",
       "  <thead>\n",
       "    <tr style=\"text-align: right;\">\n",
       "      <th></th>\n",
       "      <th>accident_id</th>\n",
       "      <th>provider_and_id</th>\n",
       "      <th>provider_code</th>\n",
       "      <th>file_type_police</th>\n",
       "      <th>involved_type</th>\n",
       "      <th>involved_type_hebrew</th>\n",
       "      <th>license_acquiring_date</th>\n",
       "      <th>age_group</th>\n",
       "      <th>age_group_hebrew</th>\n",
       "      <th>sex</th>\n",
       "      <th>...</th>\n",
       "      <th>vehicle_status_hebrew</th>\n",
       "      <th>vehicle_attribution</th>\n",
       "      <th>vehicle_attribution_hebrew</th>\n",
       "      <th>seats</th>\n",
       "      <th>total_weight</th>\n",
       "      <th>total_weight_hebrew</th>\n",
       "      <th>vehicle_vehicle_type</th>\n",
       "      <th>vehicle_vehicle_type_hebrew</th>\n",
       "      <th>vehicle_damage</th>\n",
       "      <th>vehicle_damage_hebrew</th>\n",
       "    </tr>\n",
       "  </thead>\n",
       "  <tbody>\n",
       "    <tr>\n",
       "      <th>0</th>\n",
       "      <td>2013000963</td>\n",
       "      <td>32013000963</td>\n",
       "      <td>3</td>\n",
       "      <td>3</td>\n",
       "      <td>2</td>\n",
       "      <td>נהג נפגע</td>\n",
       "      <td>1973</td>\n",
       "      <td>14</td>\n",
       "      <td>65-69</td>\n",
       "      <td>1</td>\n",
       "      <td>...</td>\n",
       "      <td>NaN</td>\n",
       "      <td>1.0</td>\n",
       "      <td>ישראלי</td>\n",
       "      <td>4.0</td>\n",
       "      <td>1.0</td>\n",
       "      <td>עד 1.9</td>\n",
       "      <td>1.0</td>\n",
       "      <td>רכב נוסעים פרטי</td>\n",
       "      <td>1.0</td>\n",
       "      <td>קל</td>\n",
       "    </tr>\n",
       "    <tr>\n",
       "      <th>1</th>\n",
       "      <td>2013000992</td>\n",
       "      <td>32013000992</td>\n",
       "      <td>3</td>\n",
       "      <td>3</td>\n",
       "      <td>1</td>\n",
       "      <td>נהג</td>\n",
       "      <td>0</td>\n",
       "      <td>99</td>\n",
       "      <td>לא ידוע</td>\n",
       "      <td>0</td>\n",
       "      <td>...</td>\n",
       "      <td>NaN</td>\n",
       "      <td>1.0</td>\n",
       "      <td>ישראלי</td>\n",
       "      <td>99.0</td>\n",
       "      <td>NaN</td>\n",
       "      <td>NaN</td>\n",
       "      <td>1.0</td>\n",
       "      <td>רכב נוסעים פרטי</td>\n",
       "      <td>4.0</td>\n",
       "      <td>אין נזק</td>\n",
       "    </tr>\n",
       "    <tr>\n",
       "      <th>2</th>\n",
       "      <td>2013000997</td>\n",
       "      <td>32013000997</td>\n",
       "      <td>3</td>\n",
       "      <td>3</td>\n",
       "      <td>1</td>\n",
       "      <td>נהג</td>\n",
       "      <td>2000</td>\n",
       "      <td>7</td>\n",
       "      <td>30-34</td>\n",
       "      <td>2</td>\n",
       "      <td>...</td>\n",
       "      <td>NaN</td>\n",
       "      <td>1.0</td>\n",
       "      <td>ישראלי</td>\n",
       "      <td>99.0</td>\n",
       "      <td>1.0</td>\n",
       "      <td>עד 1.9</td>\n",
       "      <td>1.0</td>\n",
       "      <td>רכב נוסעים פרטי</td>\n",
       "      <td>1.0</td>\n",
       "      <td>קל</td>\n",
       "    </tr>\n",
       "    <tr>\n",
       "      <th>3</th>\n",
       "      <td>2013001056</td>\n",
       "      <td>32013001056</td>\n",
       "      <td>3</td>\n",
       "      <td>3</td>\n",
       "      <td>2</td>\n",
       "      <td>נהג נפגע</td>\n",
       "      <td>1996</td>\n",
       "      <td>10</td>\n",
       "      <td>45-49</td>\n",
       "      <td>2</td>\n",
       "      <td>...</td>\n",
       "      <td>NaN</td>\n",
       "      <td>1.0</td>\n",
       "      <td>ישראלי</td>\n",
       "      <td>3.0</td>\n",
       "      <td>2.0</td>\n",
       "      <td>2.0-2.9</td>\n",
       "      <td>1.0</td>\n",
       "      <td>רכב נוסעים פרטי</td>\n",
       "      <td>1.0</td>\n",
       "      <td>קל</td>\n",
       "    </tr>\n",
       "    <tr>\n",
       "      <th>4</th>\n",
       "      <td>2013001076</td>\n",
       "      <td>32013001076</td>\n",
       "      <td>3</td>\n",
       "      <td>3</td>\n",
       "      <td>1</td>\n",
       "      <td>נהג</td>\n",
       "      <td>2010</td>\n",
       "      <td>13</td>\n",
       "      <td>60-64</td>\n",
       "      <td>1</td>\n",
       "      <td>...</td>\n",
       "      <td>NaN</td>\n",
       "      <td>1.0</td>\n",
       "      <td>ישראלי</td>\n",
       "      <td>3.0</td>\n",
       "      <td>1.0</td>\n",
       "      <td>עד 1.9</td>\n",
       "      <td>12.0</td>\n",
       "      <td>מונית</td>\n",
       "      <td>4.0</td>\n",
       "      <td>אין נזק</td>\n",
       "    </tr>\n",
       "    <tr>\n",
       "      <th>...</th>\n",
       "      <td>...</td>\n",
       "      <td>...</td>\n",
       "      <td>...</td>\n",
       "      <td>...</td>\n",
       "      <td>...</td>\n",
       "      <td>...</td>\n",
       "      <td>...</td>\n",
       "      <td>...</td>\n",
       "      <td>...</td>\n",
       "      <td>...</td>\n",
       "      <td>...</td>\n",
       "      <td>...</td>\n",
       "      <td>...</td>\n",
       "      <td>...</td>\n",
       "      <td>...</td>\n",
       "      <td>...</td>\n",
       "      <td>...</td>\n",
       "      <td>...</td>\n",
       "      <td>...</td>\n",
       "      <td>...</td>\n",
       "      <td>...</td>\n",
       "    </tr>\n",
       "    <tr>\n",
       "      <th>1427658</th>\n",
       "      <td>2023099292</td>\n",
       "      <td>32023099292</td>\n",
       "      <td>3</td>\n",
       "      <td>3</td>\n",
       "      <td>2</td>\n",
       "      <td>נהג נפגע</td>\n",
       "      <td>2022</td>\n",
       "      <td>4</td>\n",
       "      <td>15-19</td>\n",
       "      <td>1</td>\n",
       "      <td>...</td>\n",
       "      <td>NaN</td>\n",
       "      <td>1.0</td>\n",
       "      <td>ישראלי</td>\n",
       "      <td>1.0</td>\n",
       "      <td>1.0</td>\n",
       "      <td>עד 1.9</td>\n",
       "      <td>9.0</td>\n",
       "      <td>אופנוע 51 עד 125 סמ\"ק</td>\n",
       "      <td>4.0</td>\n",
       "      <td>אין נזק</td>\n",
       "    </tr>\n",
       "    <tr>\n",
       "      <th>1427659</th>\n",
       "      <td>2023099475</td>\n",
       "      <td>32023099475</td>\n",
       "      <td>3</td>\n",
       "      <td>3</td>\n",
       "      <td>2</td>\n",
       "      <td>נהג נפגע</td>\n",
       "      <td>1977</td>\n",
       "      <td>13</td>\n",
       "      <td>60-64</td>\n",
       "      <td>1</td>\n",
       "      <td>...</td>\n",
       "      <td>NaN</td>\n",
       "      <td>1.0</td>\n",
       "      <td>ישראלי</td>\n",
       "      <td>99.0</td>\n",
       "      <td>NaN</td>\n",
       "      <td>NaN</td>\n",
       "      <td>1.0</td>\n",
       "      <td>רכב נוסעים פרטי</td>\n",
       "      <td>4.0</td>\n",
       "      <td>אין נזק</td>\n",
       "    </tr>\n",
       "    <tr>\n",
       "      <th>1427660</th>\n",
       "      <td>2023099527</td>\n",
       "      <td>32023099527</td>\n",
       "      <td>3</td>\n",
       "      <td>3</td>\n",
       "      <td>1</td>\n",
       "      <td>נהג</td>\n",
       "      <td>2007</td>\n",
       "      <td>8</td>\n",
       "      <td>35-39</td>\n",
       "      <td>1</td>\n",
       "      <td>...</td>\n",
       "      <td>NaN</td>\n",
       "      <td>1.0</td>\n",
       "      <td>ישראלי</td>\n",
       "      <td>99.0</td>\n",
       "      <td>2.0</td>\n",
       "      <td>2.0-2.9</td>\n",
       "      <td>2.0</td>\n",
       "      <td>משא עד 3.5 טון - אחוד (טרנזיט)</td>\n",
       "      <td>4.0</td>\n",
       "      <td>אין נזק</td>\n",
       "    </tr>\n",
       "    <tr>\n",
       "      <th>1427661</th>\n",
       "      <td>2023099803</td>\n",
       "      <td>32023099803</td>\n",
       "      <td>3</td>\n",
       "      <td>3</td>\n",
       "      <td>1</td>\n",
       "      <td>נהג</td>\n",
       "      <td>0</td>\n",
       "      <td>99</td>\n",
       "      <td>לא ידוע</td>\n",
       "      <td>0</td>\n",
       "      <td>...</td>\n",
       "      <td>NaN</td>\n",
       "      <td>1.0</td>\n",
       "      <td>ישראלי</td>\n",
       "      <td>3.0</td>\n",
       "      <td>5.0</td>\n",
       "      <td>4.1-5.9</td>\n",
       "      <td>24.0</td>\n",
       "      <td>משא 3.6 עד 9.9 טון</td>\n",
       "      <td>1.0</td>\n",
       "      <td>קל</td>\n",
       "    </tr>\n",
       "    <tr>\n",
       "      <th>1427662</th>\n",
       "      <td>2023099902</td>\n",
       "      <td>32023099902</td>\n",
       "      <td>3</td>\n",
       "      <td>3</td>\n",
       "      <td>2</td>\n",
       "      <td>נהג נפגע</td>\n",
       "      <td>2021</td>\n",
       "      <td>4</td>\n",
       "      <td>15-19</td>\n",
       "      <td>2</td>\n",
       "      <td>...</td>\n",
       "      <td>NaN</td>\n",
       "      <td>1.0</td>\n",
       "      <td>ישראלי</td>\n",
       "      <td>3.0</td>\n",
       "      <td>1.0</td>\n",
       "      <td>עד 1.9</td>\n",
       "      <td>1.0</td>\n",
       "      <td>רכב נוסעים פרטי</td>\n",
       "      <td>4.0</td>\n",
       "      <td>אין נזק</td>\n",
       "    </tr>\n",
       "  </tbody>\n",
       "</table>\n",
       "<p>1427663 rows × 161 columns</p>\n",
       "</div>"
      ],
      "text/plain": [
       "         accident_id  provider_and_id  provider_code  file_type_police  \\\n",
       "0         2013000963      32013000963              3                 3   \n",
       "1         2013000992      32013000992              3                 3   \n",
       "2         2013000997      32013000997              3                 3   \n",
       "3         2013001056      32013001056              3                 3   \n",
       "4         2013001076      32013001076              3                 3   \n",
       "...              ...              ...            ...               ...   \n",
       "1427658   2023099292      32023099292              3                 3   \n",
       "1427659   2023099475      32023099475              3                 3   \n",
       "1427660   2023099527      32023099527              3                 3   \n",
       "1427661   2023099803      32023099803              3                 3   \n",
       "1427662   2023099902      32023099902              3                 3   \n",
       "\n",
       "         involved_type involved_type_hebrew  license_acquiring_date  \\\n",
       "0                    2             נהג נפגע                    1973   \n",
       "1                    1                  נהג                       0   \n",
       "2                    1                  נהג                    2000   \n",
       "3                    2             נהג נפגע                    1996   \n",
       "4                    1                  נהג                    2010   \n",
       "...                ...                  ...                     ...   \n",
       "1427658              2             נהג נפגע                    2022   \n",
       "1427659              2             נהג נפגע                    1977   \n",
       "1427660              1                  נהג                    2007   \n",
       "1427661              1                  נהג                       0   \n",
       "1427662              2             נהג נפגע                    2021   \n",
       "\n",
       "         age_group age_group_hebrew  sex  ... vehicle_status_hebrew  \\\n",
       "0               14            65-69    1  ...                   NaN   \n",
       "1               99          לא ידוע    0  ...                   NaN   \n",
       "2                7            30-34    2  ...                   NaN   \n",
       "3               10            45-49    2  ...                   NaN   \n",
       "4               13            60-64    1  ...                   NaN   \n",
       "...            ...              ...  ...  ...                   ...   \n",
       "1427658          4            15-19    1  ...                   NaN   \n",
       "1427659         13            60-64    1  ...                   NaN   \n",
       "1427660          8            35-39    1  ...                   NaN   \n",
       "1427661         99          לא ידוע    0  ...                   NaN   \n",
       "1427662          4            15-19    2  ...                   NaN   \n",
       "\n",
       "         vehicle_attribution vehicle_attribution_hebrew  seats total_weight  \\\n",
       "0                        1.0                     ישראלי    4.0          1.0   \n",
       "1                        1.0                     ישראלי   99.0          NaN   \n",
       "2                        1.0                     ישראלי   99.0          1.0   \n",
       "3                        1.0                     ישראלי    3.0          2.0   \n",
       "4                        1.0                     ישראלי    3.0          1.0   \n",
       "...                      ...                        ...    ...          ...   \n",
       "1427658                  1.0                     ישראלי    1.0          1.0   \n",
       "1427659                  1.0                     ישראלי   99.0          NaN   \n",
       "1427660                  1.0                     ישראלי   99.0          2.0   \n",
       "1427661                  1.0                     ישראלי    3.0          5.0   \n",
       "1427662                  1.0                     ישראלי    3.0          1.0   \n",
       "\n",
       "         total_weight_hebrew vehicle_vehicle_type  \\\n",
       "0                     עד 1.9                  1.0   \n",
       "1                        NaN                  1.0   \n",
       "2                     עד 1.9                  1.0   \n",
       "3                    2.0-2.9                  1.0   \n",
       "4                     עד 1.9                 12.0   \n",
       "...                      ...                  ...   \n",
       "1427658               עד 1.9                  9.0   \n",
       "1427659                  NaN                  1.0   \n",
       "1427660              2.0-2.9                  2.0   \n",
       "1427661              4.1-5.9                 24.0   \n",
       "1427662               עד 1.9                  1.0   \n",
       "\n",
       "            vehicle_vehicle_type_hebrew vehicle_damage  vehicle_damage_hebrew  \n",
       "0                       רכב נוסעים פרטי            1.0                     קל  \n",
       "1                       רכב נוסעים פרטי            4.0                אין נזק  \n",
       "2                       רכב נוסעים פרטי            1.0                     קל  \n",
       "3                       רכב נוסעים פרטי            1.0                     קל  \n",
       "4                                 מונית            4.0                אין נזק  \n",
       "...                                 ...            ...                    ...  \n",
       "1427658           אופנוע 51 עד 125 סמ\"ק            4.0                אין נזק  \n",
       "1427659                 רכב נוסעים פרטי            4.0                אין נזק  \n",
       "1427660  משא עד 3.5 טון - אחוד (טרנזיט)            4.0                אין נזק  \n",
       "1427661              משא 3.6 עד 9.9 טון            1.0                     קל  \n",
       "1427662                 רכב נוסעים פרטי            4.0                אין נזק  \n",
       "\n",
       "[1427663 rows x 161 columns]"
      ]
     },
     "execution_count": 3,
     "metadata": {},
     "output_type": "execute_result"
    }
   ],
   "source": [
    "imh = pd.read_csv('./csv_tables/involved_markers_hebrew.csv')\n",
    "imh\n",
    "\n"
   ]
  },
  {
   "cell_type": "markdown",
   "id": "510d522c",
   "metadata": {},
   "source": [
    "### Choosing top cities by value counts"
   ]
  },
  {
   "cell_type": "code",
   "execution_count": 36,
   "id": "71787775",
   "metadata": {},
   "outputs": [
    {
     "data": {
      "text/plain": [
       "['תל אביב -יפו', 'ירושלים', 'חיפה', 'באר שבע', 'ראשון לציון']"
      ]
     },
     "execution_count": 36,
     "metadata": {},
     "output_type": "execute_result"
    }
   ],
   "source": [
    "cities_names = imh.accident_yishuv_name.value_counts().head(5).index.tolist()\n",
    "cities_names"
   ]
  },
  {
   "cell_type": "code",
   "execution_count": 37,
   "id": "1e6d0cc8",
   "metadata": {},
   "outputs": [],
   "source": [
    "BICYCLE = 15\n",
    "SCOOTER = 21\n",
    "KALNOIT = 22\n",
    "E_BICYCLE = 23\n",
    "\n",
    "micro_vehicle = [BICYCLE, SCOOTER, KALNOIT, E_BICYCLE]"
   ]
  },
  {
   "cell_type": "code",
   "execution_count": 38,
   "id": "f992f9cd",
   "metadata": {},
   "outputs": [
    {
     "data": {
      "text/html": [
       "<div>\n",
       "<style scoped>\n",
       "    .dataframe tbody tr th:only-of-type {\n",
       "        vertical-align: middle;\n",
       "    }\n",
       "\n",
       "    .dataframe tbody tr th {\n",
       "        vertical-align: top;\n",
       "    }\n",
       "\n",
       "    .dataframe thead th {\n",
       "        text-align: right;\n",
       "    }\n",
       "</style>\n",
       "<table border=\"1\" class=\"dataframe\">\n",
       "  <thead>\n",
       "    <tr style=\"text-align: right;\">\n",
       "      <th></th>\n",
       "      <th>accident_id</th>\n",
       "      <th>provider_and_id</th>\n",
       "      <th>provider_code</th>\n",
       "      <th>file_type_police</th>\n",
       "      <th>involved_type</th>\n",
       "      <th>involved_type_hebrew</th>\n",
       "      <th>license_acquiring_date</th>\n",
       "      <th>age_group</th>\n",
       "      <th>age_group_hebrew</th>\n",
       "      <th>sex</th>\n",
       "      <th>...</th>\n",
       "      <th>vehicle_status_hebrew</th>\n",
       "      <th>vehicle_attribution</th>\n",
       "      <th>vehicle_attribution_hebrew</th>\n",
       "      <th>seats</th>\n",
       "      <th>total_weight</th>\n",
       "      <th>total_weight_hebrew</th>\n",
       "      <th>vehicle_vehicle_type</th>\n",
       "      <th>vehicle_vehicle_type_hebrew</th>\n",
       "      <th>vehicle_damage</th>\n",
       "      <th>vehicle_damage_hebrew</th>\n",
       "    </tr>\n",
       "  </thead>\n",
       "  <tbody>\n",
       "    <tr>\n",
       "      <th>159</th>\n",
       "      <td>2013001368</td>\n",
       "      <td>32013001368</td>\n",
       "      <td>3</td>\n",
       "      <td>3</td>\n",
       "      <td>2</td>\n",
       "      <td>נהג נפגע</td>\n",
       "      <td>0</td>\n",
       "      <td>6</td>\n",
       "      <td>25-29</td>\n",
       "      <td>1</td>\n",
       "      <td>...</td>\n",
       "      <td>NaN</td>\n",
       "      <td>1.0</td>\n",
       "      <td>ישראלי</td>\n",
       "      <td>99.0</td>\n",
       "      <td>0.0</td>\n",
       "      <td>לא ידוע</td>\n",
       "      <td>15.0</td>\n",
       "      <td>אופניים</td>\n",
       "      <td>4.0</td>\n",
       "      <td>אין נזק</td>\n",
       "    </tr>\n",
       "    <tr>\n",
       "      <th>233</th>\n",
       "      <td>2013001670</td>\n",
       "      <td>12013001670</td>\n",
       "      <td>1</td>\n",
       "      <td>1</td>\n",
       "      <td>2</td>\n",
       "      <td>נהג נפגע</td>\n",
       "      <td>0</td>\n",
       "      <td>8</td>\n",
       "      <td>35-39</td>\n",
       "      <td>1</td>\n",
       "      <td>...</td>\n",
       "      <td>NaN</td>\n",
       "      <td>1.0</td>\n",
       "      <td>ישראלי</td>\n",
       "      <td>99.0</td>\n",
       "      <td>0.0</td>\n",
       "      <td>לא ידוע</td>\n",
       "      <td>15.0</td>\n",
       "      <td>אופניים</td>\n",
       "      <td>1.0</td>\n",
       "      <td>קל</td>\n",
       "    </tr>\n",
       "    <tr>\n",
       "      <th>812</th>\n",
       "      <td>2013001742</td>\n",
       "      <td>32013001742</td>\n",
       "      <td>3</td>\n",
       "      <td>3</td>\n",
       "      <td>2</td>\n",
       "      <td>נהג נפגע</td>\n",
       "      <td>0</td>\n",
       "      <td>7</td>\n",
       "      <td>30-34</td>\n",
       "      <td>2</td>\n",
       "      <td>...</td>\n",
       "      <td>NaN</td>\n",
       "      <td>1.0</td>\n",
       "      <td>ישראלי</td>\n",
       "      <td>99.0</td>\n",
       "      <td>0.0</td>\n",
       "      <td>לא ידוע</td>\n",
       "      <td>15.0</td>\n",
       "      <td>אופניים</td>\n",
       "      <td>4.0</td>\n",
       "      <td>אין נזק</td>\n",
       "    </tr>\n",
       "    <tr>\n",
       "      <th>963</th>\n",
       "      <td>2013001350</td>\n",
       "      <td>12013001350</td>\n",
       "      <td>1</td>\n",
       "      <td>1</td>\n",
       "      <td>2</td>\n",
       "      <td>נהג נפגע</td>\n",
       "      <td>0</td>\n",
       "      <td>5</td>\n",
       "      <td>20-24</td>\n",
       "      <td>1</td>\n",
       "      <td>...</td>\n",
       "      <td>NaN</td>\n",
       "      <td>1.0</td>\n",
       "      <td>ישראלי</td>\n",
       "      <td>99.0</td>\n",
       "      <td>0.0</td>\n",
       "      <td>לא ידוע</td>\n",
       "      <td>15.0</td>\n",
       "      <td>אופניים</td>\n",
       "      <td>4.0</td>\n",
       "      <td>אין נזק</td>\n",
       "    </tr>\n",
       "    <tr>\n",
       "      <th>1119</th>\n",
       "      <td>2013001145</td>\n",
       "      <td>32013001145</td>\n",
       "      <td>3</td>\n",
       "      <td>3</td>\n",
       "      <td>2</td>\n",
       "      <td>נהג נפגע</td>\n",
       "      <td>0</td>\n",
       "      <td>3</td>\n",
       "      <td>10-14</td>\n",
       "      <td>1</td>\n",
       "      <td>...</td>\n",
       "      <td>NaN</td>\n",
       "      <td>1.0</td>\n",
       "      <td>ישראלי</td>\n",
       "      <td>99.0</td>\n",
       "      <td>0.0</td>\n",
       "      <td>לא ידוע</td>\n",
       "      <td>15.0</td>\n",
       "      <td>אופניים</td>\n",
       "      <td>4.0</td>\n",
       "      <td>אין נזק</td>\n",
       "    </tr>\n",
       "    <tr>\n",
       "      <th>...</th>\n",
       "      <td>...</td>\n",
       "      <td>...</td>\n",
       "      <td>...</td>\n",
       "      <td>...</td>\n",
       "      <td>...</td>\n",
       "      <td>...</td>\n",
       "      <td>...</td>\n",
       "      <td>...</td>\n",
       "      <td>...</td>\n",
       "      <td>...</td>\n",
       "      <td>...</td>\n",
       "      <td>...</td>\n",
       "      <td>...</td>\n",
       "      <td>...</td>\n",
       "      <td>...</td>\n",
       "      <td>...</td>\n",
       "      <td>...</td>\n",
       "      <td>...</td>\n",
       "      <td>...</td>\n",
       "      <td>...</td>\n",
       "      <td>...</td>\n",
       "    </tr>\n",
       "    <tr>\n",
       "      <th>1426880</th>\n",
       "      <td>2023099834</td>\n",
       "      <td>32023099834</td>\n",
       "      <td>3</td>\n",
       "      <td>3</td>\n",
       "      <td>2</td>\n",
       "      <td>נהג נפגע</td>\n",
       "      <td>1992</td>\n",
       "      <td>12</td>\n",
       "      <td>55-59</td>\n",
       "      <td>1</td>\n",
       "      <td>...</td>\n",
       "      <td>NaN</td>\n",
       "      <td>1.0</td>\n",
       "      <td>ישראלי</td>\n",
       "      <td>99.0</td>\n",
       "      <td>0.0</td>\n",
       "      <td>לא ידוע</td>\n",
       "      <td>21.0</td>\n",
       "      <td>קורקינט חשמלי</td>\n",
       "      <td>4.0</td>\n",
       "      <td>אין נזק</td>\n",
       "    </tr>\n",
       "    <tr>\n",
       "      <th>1426910</th>\n",
       "      <td>2023097745</td>\n",
       "      <td>12023097745</td>\n",
       "      <td>1</td>\n",
       "      <td>1</td>\n",
       "      <td>2</td>\n",
       "      <td>נהג נפגע</td>\n",
       "      <td>0</td>\n",
       "      <td>3</td>\n",
       "      <td>10-14</td>\n",
       "      <td>1</td>\n",
       "      <td>...</td>\n",
       "      <td>NaN</td>\n",
       "      <td>1.0</td>\n",
       "      <td>ישראלי</td>\n",
       "      <td>99.0</td>\n",
       "      <td>0.0</td>\n",
       "      <td>לא ידוע</td>\n",
       "      <td>21.0</td>\n",
       "      <td>קורקינט חשמלי</td>\n",
       "      <td>1.0</td>\n",
       "      <td>קל</td>\n",
       "    </tr>\n",
       "    <tr>\n",
       "      <th>1427130</th>\n",
       "      <td>2023098641</td>\n",
       "      <td>12023098641</td>\n",
       "      <td>1</td>\n",
       "      <td>1</td>\n",
       "      <td>1</td>\n",
       "      <td>נהג</td>\n",
       "      <td>0</td>\n",
       "      <td>6</td>\n",
       "      <td>25-29</td>\n",
       "      <td>1</td>\n",
       "      <td>...</td>\n",
       "      <td>NaN</td>\n",
       "      <td>1.0</td>\n",
       "      <td>ישראלי</td>\n",
       "      <td>99.0</td>\n",
       "      <td>0.0</td>\n",
       "      <td>לא ידוע</td>\n",
       "      <td>23.0</td>\n",
       "      <td>אופניים חשמליים</td>\n",
       "      <td>1.0</td>\n",
       "      <td>קל</td>\n",
       "    </tr>\n",
       "    <tr>\n",
       "      <th>1427315</th>\n",
       "      <td>2023097999</td>\n",
       "      <td>32023097999</td>\n",
       "      <td>3</td>\n",
       "      <td>3</td>\n",
       "      <td>2</td>\n",
       "      <td>נהג נפגע</td>\n",
       "      <td>0</td>\n",
       "      <td>99</td>\n",
       "      <td>לא ידוע</td>\n",
       "      <td>0</td>\n",
       "      <td>...</td>\n",
       "      <td>NaN</td>\n",
       "      <td>1.0</td>\n",
       "      <td>ישראלי</td>\n",
       "      <td>99.0</td>\n",
       "      <td>0.0</td>\n",
       "      <td>לא ידוע</td>\n",
       "      <td>21.0</td>\n",
       "      <td>קורקינט חשמלי</td>\n",
       "      <td>1.0</td>\n",
       "      <td>קל</td>\n",
       "    </tr>\n",
       "    <tr>\n",
       "      <th>1427517</th>\n",
       "      <td>2023098397</td>\n",
       "      <td>32023098397</td>\n",
       "      <td>3</td>\n",
       "      <td>3</td>\n",
       "      <td>2</td>\n",
       "      <td>נהג נפגע</td>\n",
       "      <td>0</td>\n",
       "      <td>8</td>\n",
       "      <td>35-39</td>\n",
       "      <td>1</td>\n",
       "      <td>...</td>\n",
       "      <td>NaN</td>\n",
       "      <td>1.0</td>\n",
       "      <td>ישראלי</td>\n",
       "      <td>99.0</td>\n",
       "      <td>0.0</td>\n",
       "      <td>לא ידוע</td>\n",
       "      <td>21.0</td>\n",
       "      <td>קורקינט חשמלי</td>\n",
       "      <td>4.0</td>\n",
       "      <td>אין נזק</td>\n",
       "    </tr>\n",
       "  </tbody>\n",
       "</table>\n",
       "<p>12880 rows × 161 columns</p>\n",
       "</div>"
      ],
      "text/plain": [
       "         accident_id  provider_and_id  provider_code  file_type_police  \\\n",
       "159       2013001368      32013001368              3                 3   \n",
       "233       2013001670      12013001670              1                 1   \n",
       "812       2013001742      32013001742              3                 3   \n",
       "963       2013001350      12013001350              1                 1   \n",
       "1119      2013001145      32013001145              3                 3   \n",
       "...              ...              ...            ...               ...   \n",
       "1426880   2023099834      32023099834              3                 3   \n",
       "1426910   2023097745      12023097745              1                 1   \n",
       "1427130   2023098641      12023098641              1                 1   \n",
       "1427315   2023097999      32023097999              3                 3   \n",
       "1427517   2023098397      32023098397              3                 3   \n",
       "\n",
       "         involved_type involved_type_hebrew  license_acquiring_date  \\\n",
       "159                  2             נהג נפגע                       0   \n",
       "233                  2             נהג נפגע                       0   \n",
       "812                  2             נהג נפגע                       0   \n",
       "963                  2             נהג נפגע                       0   \n",
       "1119                 2             נהג נפגע                       0   \n",
       "...                ...                  ...                     ...   \n",
       "1426880              2             נהג נפגע                    1992   \n",
       "1426910              2             נהג נפגע                       0   \n",
       "1427130              1                  נהג                       0   \n",
       "1427315              2             נהג נפגע                       0   \n",
       "1427517              2             נהג נפגע                       0   \n",
       "\n",
       "         age_group age_group_hebrew  sex  ... vehicle_status_hebrew  \\\n",
       "159              6            25-29    1  ...                   NaN   \n",
       "233              8            35-39    1  ...                   NaN   \n",
       "812              7            30-34    2  ...                   NaN   \n",
       "963              5            20-24    1  ...                   NaN   \n",
       "1119             3            10-14    1  ...                   NaN   \n",
       "...            ...              ...  ...  ...                   ...   \n",
       "1426880         12            55-59    1  ...                   NaN   \n",
       "1426910          3            10-14    1  ...                   NaN   \n",
       "1427130          6            25-29    1  ...                   NaN   \n",
       "1427315         99          לא ידוע    0  ...                   NaN   \n",
       "1427517          8            35-39    1  ...                   NaN   \n",
       "\n",
       "         vehicle_attribution vehicle_attribution_hebrew  seats total_weight  \\\n",
       "159                      1.0                     ישראלי   99.0          0.0   \n",
       "233                      1.0                     ישראלי   99.0          0.0   \n",
       "812                      1.0                     ישראלי   99.0          0.0   \n",
       "963                      1.0                     ישראלי   99.0          0.0   \n",
       "1119                     1.0                     ישראלי   99.0          0.0   \n",
       "...                      ...                        ...    ...          ...   \n",
       "1426880                  1.0                     ישראלי   99.0          0.0   \n",
       "1426910                  1.0                     ישראלי   99.0          0.0   \n",
       "1427130                  1.0                     ישראלי   99.0          0.0   \n",
       "1427315                  1.0                     ישראלי   99.0          0.0   \n",
       "1427517                  1.0                     ישראלי   99.0          0.0   \n",
       "\n",
       "         total_weight_hebrew vehicle_vehicle_type  \\\n",
       "159                  לא ידוע                 15.0   \n",
       "233                  לא ידוע                 15.0   \n",
       "812                  לא ידוע                 15.0   \n",
       "963                  לא ידוע                 15.0   \n",
       "1119                 לא ידוע                 15.0   \n",
       "...                      ...                  ...   \n",
       "1426880              לא ידוע                 21.0   \n",
       "1426910              לא ידוע                 21.0   \n",
       "1427130              לא ידוע                 23.0   \n",
       "1427315              לא ידוע                 21.0   \n",
       "1427517              לא ידוע                 21.0   \n",
       "\n",
       "         vehicle_vehicle_type_hebrew vehicle_damage  vehicle_damage_hebrew  \n",
       "159                          אופניים            4.0                אין נזק  \n",
       "233                          אופניים            1.0                     קל  \n",
       "812                          אופניים            4.0                אין נזק  \n",
       "963                          אופניים            4.0                אין נזק  \n",
       "1119                         אופניים            4.0                אין נזק  \n",
       "...                              ...            ...                    ...  \n",
       "1426880                קורקינט חשמלי            4.0                אין נזק  \n",
       "1426910                קורקינט חשמלי            1.0                     קל  \n",
       "1427130              אופניים חשמליים            1.0                     קל  \n",
       "1427315                קורקינט חשמלי            1.0                     קל  \n",
       "1427517                קורקינט חשמלי            4.0                אין נזק  \n",
       "\n",
       "[12880 rows x 161 columns]"
      ]
     },
     "execution_count": 38,
     "metadata": {},
     "output_type": "execute_result"
    }
   ],
   "source": [
    "imh_mv = imh[imh.involve_vehicle_type.isin(micro_vehicle)]\n",
    "imh_mv_sc = imh_mv[imh_mv.accident_yishuv_name.isin(cities_names)]\n",
    "imh_mv_sc"
   ]
  },
  {
   "cell_type": "code",
   "execution_count": 40,
   "id": "17175d24",
   "metadata": {},
   "outputs": [
    {
     "data": {
      "text/plain": [
       "תל אביב -יפו    8382\n",
       "ירושלים         2146\n",
       "ראשון לציון     1019\n",
       "באר שבע          703\n",
       "חיפה             630\n",
       "Name: accident_yishuv_name, dtype: int64"
      ]
     },
     "execution_count": 40,
     "metadata": {},
     "output_type": "execute_result"
    }
   ],
   "source": [
    "imh_mv_sc.accident_yishuv_name.value_counts()"
   ]
  },
  {
   "cell_type": "markdown",
   "id": "9e071e53",
   "metadata": {},
   "source": [
    "Lets check micro mobility for cities by years."
   ]
  },
  {
   "cell_type": "code",
   "execution_count": 44,
   "id": "d37257ae",
   "metadata": {},
   "outputs": [
    {
     "data": {
      "text/html": [
       "<div>\n",
       "<style scoped>\n",
       "    .dataframe tbody tr th:only-of-type {\n",
       "        vertical-align: middle;\n",
       "    }\n",
       "\n",
       "    .dataframe tbody tr th {\n",
       "        vertical-align: top;\n",
       "    }\n",
       "\n",
       "    .dataframe thead th {\n",
       "        text-align: right;\n",
       "    }\n",
       "</style>\n",
       "<table border=\"1\" class=\"dataframe\">\n",
       "  <thead>\n",
       "    <tr style=\"text-align: right;\">\n",
       "      <th></th>\n",
       "      <th>accident_year</th>\n",
       "      <th>accident_yishuv_name</th>\n",
       "      <th>count</th>\n",
       "    </tr>\n",
       "  </thead>\n",
       "  <tbody>\n",
       "    <tr>\n",
       "      <th>0</th>\n",
       "      <td>2013</td>\n",
       "      <td>באר שבע</td>\n",
       "      <td>38</td>\n",
       "    </tr>\n",
       "    <tr>\n",
       "      <th>1</th>\n",
       "      <td>2014</td>\n",
       "      <td>באר שבע</td>\n",
       "      <td>49</td>\n",
       "    </tr>\n",
       "    <tr>\n",
       "      <th>2</th>\n",
       "      <td>2015</td>\n",
       "      <td>באר שבע</td>\n",
       "      <td>68</td>\n",
       "    </tr>\n",
       "    <tr>\n",
       "      <th>3</th>\n",
       "      <td>2016</td>\n",
       "      <td>באר שבע</td>\n",
       "      <td>68</td>\n",
       "    </tr>\n",
       "    <tr>\n",
       "      <th>4</th>\n",
       "      <td>2017</td>\n",
       "      <td>באר שבע</td>\n",
       "      <td>57</td>\n",
       "    </tr>\n",
       "    <tr>\n",
       "      <th>5</th>\n",
       "      <td>2018</td>\n",
       "      <td>באר שבע</td>\n",
       "      <td>69</td>\n",
       "    </tr>\n",
       "    <tr>\n",
       "      <th>6</th>\n",
       "      <td>2019</td>\n",
       "      <td>באר שבע</td>\n",
       "      <td>72</td>\n",
       "    </tr>\n",
       "    <tr>\n",
       "      <th>7</th>\n",
       "      <td>2020</td>\n",
       "      <td>באר שבע</td>\n",
       "      <td>44</td>\n",
       "    </tr>\n",
       "    <tr>\n",
       "      <th>8</th>\n",
       "      <td>2021</td>\n",
       "      <td>באר שבע</td>\n",
       "      <td>84</td>\n",
       "    </tr>\n",
       "    <tr>\n",
       "      <th>9</th>\n",
       "      <td>2022</td>\n",
       "      <td>באר שבע</td>\n",
       "      <td>82</td>\n",
       "    </tr>\n",
       "    <tr>\n",
       "      <th>10</th>\n",
       "      <td>2023</td>\n",
       "      <td>באר שבע</td>\n",
       "      <td>72</td>\n",
       "    </tr>\n",
       "    <tr>\n",
       "      <th>11</th>\n",
       "      <td>2013</td>\n",
       "      <td>חיפה</td>\n",
       "      <td>45</td>\n",
       "    </tr>\n",
       "    <tr>\n",
       "      <th>12</th>\n",
       "      <td>2014</td>\n",
       "      <td>חיפה</td>\n",
       "      <td>45</td>\n",
       "    </tr>\n",
       "    <tr>\n",
       "      <th>13</th>\n",
       "      <td>2015</td>\n",
       "      <td>חיפה</td>\n",
       "      <td>61</td>\n",
       "    </tr>\n",
       "    <tr>\n",
       "      <th>14</th>\n",
       "      <td>2016</td>\n",
       "      <td>חיפה</td>\n",
       "      <td>67</td>\n",
       "    </tr>\n",
       "    <tr>\n",
       "      <th>15</th>\n",
       "      <td>2017</td>\n",
       "      <td>חיפה</td>\n",
       "      <td>68</td>\n",
       "    </tr>\n",
       "    <tr>\n",
       "      <th>16</th>\n",
       "      <td>2018</td>\n",
       "      <td>חיפה</td>\n",
       "      <td>60</td>\n",
       "    </tr>\n",
       "    <tr>\n",
       "      <th>17</th>\n",
       "      <td>2019</td>\n",
       "      <td>חיפה</td>\n",
       "      <td>67</td>\n",
       "    </tr>\n",
       "    <tr>\n",
       "      <th>18</th>\n",
       "      <td>2020</td>\n",
       "      <td>חיפה</td>\n",
       "      <td>50</td>\n",
       "    </tr>\n",
       "    <tr>\n",
       "      <th>19</th>\n",
       "      <td>2021</td>\n",
       "      <td>חיפה</td>\n",
       "      <td>57</td>\n",
       "    </tr>\n",
       "    <tr>\n",
       "      <th>20</th>\n",
       "      <td>2022</td>\n",
       "      <td>חיפה</td>\n",
       "      <td>60</td>\n",
       "    </tr>\n",
       "    <tr>\n",
       "      <th>21</th>\n",
       "      <td>2023</td>\n",
       "      <td>חיפה</td>\n",
       "      <td>50</td>\n",
       "    </tr>\n",
       "    <tr>\n",
       "      <th>22</th>\n",
       "      <td>2013</td>\n",
       "      <td>ירושלים</td>\n",
       "      <td>140</td>\n",
       "    </tr>\n",
       "    <tr>\n",
       "      <th>23</th>\n",
       "      <td>2014</td>\n",
       "      <td>ירושלים</td>\n",
       "      <td>153</td>\n",
       "    </tr>\n",
       "    <tr>\n",
       "      <th>24</th>\n",
       "      <td>2015</td>\n",
       "      <td>ירושלים</td>\n",
       "      <td>169</td>\n",
       "    </tr>\n",
       "    <tr>\n",
       "      <th>25</th>\n",
       "      <td>2016</td>\n",
       "      <td>ירושלים</td>\n",
       "      <td>189</td>\n",
       "    </tr>\n",
       "    <tr>\n",
       "      <th>26</th>\n",
       "      <td>2017</td>\n",
       "      <td>ירושלים</td>\n",
       "      <td>236</td>\n",
       "    </tr>\n",
       "    <tr>\n",
       "      <th>27</th>\n",
       "      <td>2018</td>\n",
       "      <td>ירושלים</td>\n",
       "      <td>289</td>\n",
       "    </tr>\n",
       "    <tr>\n",
       "      <th>28</th>\n",
       "      <td>2019</td>\n",
       "      <td>ירושלים</td>\n",
       "      <td>243</td>\n",
       "    </tr>\n",
       "    <tr>\n",
       "      <th>29</th>\n",
       "      <td>2020</td>\n",
       "      <td>ירושלים</td>\n",
       "      <td>178</td>\n",
       "    </tr>\n",
       "    <tr>\n",
       "      <th>30</th>\n",
       "      <td>2021</td>\n",
       "      <td>ירושלים</td>\n",
       "      <td>196</td>\n",
       "    </tr>\n",
       "    <tr>\n",
       "      <th>31</th>\n",
       "      <td>2022</td>\n",
       "      <td>ירושלים</td>\n",
       "      <td>201</td>\n",
       "    </tr>\n",
       "    <tr>\n",
       "      <th>32</th>\n",
       "      <td>2023</td>\n",
       "      <td>ירושלים</td>\n",
       "      <td>152</td>\n",
       "    </tr>\n",
       "    <tr>\n",
       "      <th>33</th>\n",
       "      <td>2013</td>\n",
       "      <td>ראשון לציון</td>\n",
       "      <td>56</td>\n",
       "    </tr>\n",
       "    <tr>\n",
       "      <th>34</th>\n",
       "      <td>2014</td>\n",
       "      <td>ראשון לציון</td>\n",
       "      <td>89</td>\n",
       "    </tr>\n",
       "    <tr>\n",
       "      <th>35</th>\n",
       "      <td>2015</td>\n",
       "      <td>ראשון לציון</td>\n",
       "      <td>103</td>\n",
       "    </tr>\n",
       "    <tr>\n",
       "      <th>36</th>\n",
       "      <td>2016</td>\n",
       "      <td>ראשון לציון</td>\n",
       "      <td>81</td>\n",
       "    </tr>\n",
       "    <tr>\n",
       "      <th>37</th>\n",
       "      <td>2017</td>\n",
       "      <td>ראשון לציון</td>\n",
       "      <td>105</td>\n",
       "    </tr>\n",
       "    <tr>\n",
       "      <th>38</th>\n",
       "      <td>2018</td>\n",
       "      <td>ראשון לציון</td>\n",
       "      <td>90</td>\n",
       "    </tr>\n",
       "    <tr>\n",
       "      <th>39</th>\n",
       "      <td>2019</td>\n",
       "      <td>ראשון לציון</td>\n",
       "      <td>88</td>\n",
       "    </tr>\n",
       "    <tr>\n",
       "      <th>40</th>\n",
       "      <td>2020</td>\n",
       "      <td>ראשון לציון</td>\n",
       "      <td>72</td>\n",
       "    </tr>\n",
       "    <tr>\n",
       "      <th>41</th>\n",
       "      <td>2021</td>\n",
       "      <td>ראשון לציון</td>\n",
       "      <td>122</td>\n",
       "    </tr>\n",
       "    <tr>\n",
       "      <th>42</th>\n",
       "      <td>2022</td>\n",
       "      <td>ראשון לציון</td>\n",
       "      <td>122</td>\n",
       "    </tr>\n",
       "    <tr>\n",
       "      <th>43</th>\n",
       "      <td>2023</td>\n",
       "      <td>ראשון לציון</td>\n",
       "      <td>91</td>\n",
       "    </tr>\n",
       "    <tr>\n",
       "      <th>44</th>\n",
       "      <td>2013</td>\n",
       "      <td>תל אביב -יפו</td>\n",
       "      <td>502</td>\n",
       "    </tr>\n",
       "    <tr>\n",
       "      <th>45</th>\n",
       "      <td>2014</td>\n",
       "      <td>תל אביב -יפו</td>\n",
       "      <td>661</td>\n",
       "    </tr>\n",
       "    <tr>\n",
       "      <th>46</th>\n",
       "      <td>2015</td>\n",
       "      <td>תל אביב -יפו</td>\n",
       "      <td>683</td>\n",
       "    </tr>\n",
       "    <tr>\n",
       "      <th>47</th>\n",
       "      <td>2016</td>\n",
       "      <td>תל אביב -יפו</td>\n",
       "      <td>813</td>\n",
       "    </tr>\n",
       "    <tr>\n",
       "      <th>48</th>\n",
       "      <td>2017</td>\n",
       "      <td>תל אביב -יפו</td>\n",
       "      <td>849</td>\n",
       "    </tr>\n",
       "    <tr>\n",
       "      <th>49</th>\n",
       "      <td>2018</td>\n",
       "      <td>תל אביב -יפו</td>\n",
       "      <td>746</td>\n",
       "    </tr>\n",
       "    <tr>\n",
       "      <th>50</th>\n",
       "      <td>2019</td>\n",
       "      <td>תל אביב -יפו</td>\n",
       "      <td>818</td>\n",
       "    </tr>\n",
       "    <tr>\n",
       "      <th>51</th>\n",
       "      <td>2020</td>\n",
       "      <td>תל אביב -יפו</td>\n",
       "      <td>841</td>\n",
       "    </tr>\n",
       "    <tr>\n",
       "      <th>52</th>\n",
       "      <td>2021</td>\n",
       "      <td>תל אביב -יפו</td>\n",
       "      <td>905</td>\n",
       "    </tr>\n",
       "    <tr>\n",
       "      <th>53</th>\n",
       "      <td>2022</td>\n",
       "      <td>תל אביב -יפו</td>\n",
       "      <td>936</td>\n",
       "    </tr>\n",
       "    <tr>\n",
       "      <th>54</th>\n",
       "      <td>2023</td>\n",
       "      <td>תל אביב -יפו</td>\n",
       "      <td>628</td>\n",
       "    </tr>\n",
       "  </tbody>\n",
       "</table>\n",
       "</div>"
      ],
      "text/plain": [
       "    accident_year accident_yishuv_name  count\n",
       "0            2013              באר שבע     38\n",
       "1            2014              באר שבע     49\n",
       "2            2015              באר שבע     68\n",
       "3            2016              באר שבע     68\n",
       "4            2017              באר שבע     57\n",
       "5            2018              באר שבע     69\n",
       "6            2019              באר שבע     72\n",
       "7            2020              באר שבע     44\n",
       "8            2021              באר שבע     84\n",
       "9            2022              באר שבע     82\n",
       "10           2023              באר שבע     72\n",
       "11           2013                 חיפה     45\n",
       "12           2014                 חיפה     45\n",
       "13           2015                 חיפה     61\n",
       "14           2016                 חיפה     67\n",
       "15           2017                 חיפה     68\n",
       "16           2018                 חיפה     60\n",
       "17           2019                 חיפה     67\n",
       "18           2020                 חיפה     50\n",
       "19           2021                 חיפה     57\n",
       "20           2022                 חיפה     60\n",
       "21           2023                 חיפה     50\n",
       "22           2013              ירושלים    140\n",
       "23           2014              ירושלים    153\n",
       "24           2015              ירושלים    169\n",
       "25           2016              ירושלים    189\n",
       "26           2017              ירושלים    236\n",
       "27           2018              ירושלים    289\n",
       "28           2019              ירושלים    243\n",
       "29           2020              ירושלים    178\n",
       "30           2021              ירושלים    196\n",
       "31           2022              ירושלים    201\n",
       "32           2023              ירושלים    152\n",
       "33           2013          ראשון לציון     56\n",
       "34           2014          ראשון לציון     89\n",
       "35           2015          ראשון לציון    103\n",
       "36           2016          ראשון לציון     81\n",
       "37           2017          ראשון לציון    105\n",
       "38           2018          ראשון לציון     90\n",
       "39           2019          ראשון לציון     88\n",
       "40           2020          ראשון לציון     72\n",
       "41           2021          ראשון לציון    122\n",
       "42           2022          ראשון לציון    122\n",
       "43           2023          ראשון לציון     91\n",
       "44           2013         תל אביב -יפו    502\n",
       "45           2014         תל אביב -יפו    661\n",
       "46           2015         תל אביב -יפו    683\n",
       "47           2016         תל אביב -יפו    813\n",
       "48           2017         תל אביב -יפו    849\n",
       "49           2018         תל אביב -יפו    746\n",
       "50           2019         תל אביב -יפו    818\n",
       "51           2020         תל אביב -יפו    841\n",
       "52           2021         תל אביב -יפו    905\n",
       "53           2022         תל אביב -יפו    936\n",
       "54           2023         תל אביב -יפו    628"
      ]
     },
     "execution_count": 44,
     "metadata": {},
     "output_type": "execute_result"
    }
   ],
   "source": [
    "imh_mv_sc_gb = imh_mv_sc.groupby(['accident_year', 'accident_yishuv_name']).size().reset_index(name='count')\n",
    "imh_mv_sc_pv = imh_mv_sc_gb.pivot(index='accident_year', columns='accident_yishuv_name', values='count').reset_index()\n",
    "imh_mv_sc_long = imh_mv_sc_pv.melt(id_vars='accident_year', var_name='accident_yishuv_name', value_name='count')\n",
    "\n",
    "imh_mv_sc_long"
   ]
  },
  {
   "cell_type": "code",
   "execution_count": 46,
   "id": "e400176e",
   "metadata": {},
   "outputs": [
    {
     "data": {
      "application/vnd.plotly.v1+json": {
       "config": {
        "plotlyServerURL": "https://plot.ly"
       },
       "data": [
        {
         "hovertemplate": "City Name=באר שבע<br>Accident Year=%{x}<br>Count=%{y}<extra></extra>",
         "legendgroup": "באר שבע",
         "line": {
          "color": "#636efa",
          "dash": "solid"
         },
         "marker": {
          "symbol": "circle"
         },
         "mode": "lines",
         "name": "באר שבע",
         "orientation": "v",
         "showlegend": true,
         "type": "scatter",
         "x": [
          2013,
          2014,
          2015,
          2016,
          2017,
          2018,
          2019,
          2020,
          2021,
          2022,
          2023
         ],
         "xaxis": "x",
         "y": [
          38,
          49,
          68,
          68,
          57,
          69,
          72,
          44,
          84,
          82,
          72
         ],
         "yaxis": "y"
        },
        {
         "hovertemplate": "City Name=חיפה<br>Accident Year=%{x}<br>Count=%{y}<extra></extra>",
         "legendgroup": "חיפה",
         "line": {
          "color": "#EF553B",
          "dash": "solid"
         },
         "marker": {
          "symbol": "circle"
         },
         "mode": "lines",
         "name": "חיפה",
         "orientation": "v",
         "showlegend": true,
         "type": "scatter",
         "x": [
          2013,
          2014,
          2015,
          2016,
          2017,
          2018,
          2019,
          2020,
          2021,
          2022,
          2023
         ],
         "xaxis": "x",
         "y": [
          45,
          45,
          61,
          67,
          68,
          60,
          67,
          50,
          57,
          60,
          50
         ],
         "yaxis": "y"
        },
        {
         "hovertemplate": "City Name=ירושלים<br>Accident Year=%{x}<br>Count=%{y}<extra></extra>",
         "legendgroup": "ירושלים",
         "line": {
          "color": "#00cc96",
          "dash": "solid"
         },
         "marker": {
          "symbol": "circle"
         },
         "mode": "lines",
         "name": "ירושלים",
         "orientation": "v",
         "showlegend": true,
         "type": "scatter",
         "x": [
          2013,
          2014,
          2015,
          2016,
          2017,
          2018,
          2019,
          2020,
          2021,
          2022,
          2023
         ],
         "xaxis": "x",
         "y": [
          140,
          153,
          169,
          189,
          236,
          289,
          243,
          178,
          196,
          201,
          152
         ],
         "yaxis": "y"
        },
        {
         "hovertemplate": "City Name=ראשון לציון<br>Accident Year=%{x}<br>Count=%{y}<extra></extra>",
         "legendgroup": "ראשון לציון",
         "line": {
          "color": "#ab63fa",
          "dash": "solid"
         },
         "marker": {
          "symbol": "circle"
         },
         "mode": "lines",
         "name": "ראשון לציון",
         "orientation": "v",
         "showlegend": true,
         "type": "scatter",
         "x": [
          2013,
          2014,
          2015,
          2016,
          2017,
          2018,
          2019,
          2020,
          2021,
          2022,
          2023
         ],
         "xaxis": "x",
         "y": [
          56,
          89,
          103,
          81,
          105,
          90,
          88,
          72,
          122,
          122,
          91
         ],
         "yaxis": "y"
        },
        {
         "hovertemplate": "City Name=תל אביב -יפו<br>Accident Year=%{x}<br>Count=%{y}<extra></extra>",
         "legendgroup": "תל אביב -יפו",
         "line": {
          "color": "#FFA15A",
          "dash": "solid"
         },
         "marker": {
          "symbol": "circle"
         },
         "mode": "lines",
         "name": "תל אביב -יפו",
         "orientation": "v",
         "showlegend": true,
         "type": "scatter",
         "x": [
          2013,
          2014,
          2015,
          2016,
          2017,
          2018,
          2019,
          2020,
          2021,
          2022,
          2023
         ],
         "xaxis": "x",
         "y": [
          502,
          661,
          683,
          813,
          849,
          746,
          818,
          841,
          905,
          936,
          628
         ],
         "yaxis": "y"
        }
       ],
       "layout": {
        "legend": {
         "title": {
          "text": "City Name"
         },
         "tracegroupgap": 0
        },
        "template": {
         "data": {
          "bar": [
           {
            "error_x": {
             "color": "#2a3f5f"
            },
            "error_y": {
             "color": "#2a3f5f"
            },
            "marker": {
             "line": {
              "color": "#E5ECF6",
              "width": 0.5
             },
             "pattern": {
              "fillmode": "overlay",
              "size": 10,
              "solidity": 0.2
             }
            },
            "type": "bar"
           }
          ],
          "barpolar": [
           {
            "marker": {
             "line": {
              "color": "#E5ECF6",
              "width": 0.5
             },
             "pattern": {
              "fillmode": "overlay",
              "size": 10,
              "solidity": 0.2
             }
            },
            "type": "barpolar"
           }
          ],
          "carpet": [
           {
            "aaxis": {
             "endlinecolor": "#2a3f5f",
             "gridcolor": "white",
             "linecolor": "white",
             "minorgridcolor": "white",
             "startlinecolor": "#2a3f5f"
            },
            "baxis": {
             "endlinecolor": "#2a3f5f",
             "gridcolor": "white",
             "linecolor": "white",
             "minorgridcolor": "white",
             "startlinecolor": "#2a3f5f"
            },
            "type": "carpet"
           }
          ],
          "choropleth": [
           {
            "colorbar": {
             "outlinewidth": 0,
             "ticks": ""
            },
            "type": "choropleth"
           }
          ],
          "contour": [
           {
            "colorbar": {
             "outlinewidth": 0,
             "ticks": ""
            },
            "colorscale": [
             [
              0,
              "#0d0887"
             ],
             [
              0.1111111111111111,
              "#46039f"
             ],
             [
              0.2222222222222222,
              "#7201a8"
             ],
             [
              0.3333333333333333,
              "#9c179e"
             ],
             [
              0.4444444444444444,
              "#bd3786"
             ],
             [
              0.5555555555555556,
              "#d8576b"
             ],
             [
              0.6666666666666666,
              "#ed7953"
             ],
             [
              0.7777777777777778,
              "#fb9f3a"
             ],
             [
              0.8888888888888888,
              "#fdca26"
             ],
             [
              1,
              "#f0f921"
             ]
            ],
            "type": "contour"
           }
          ],
          "contourcarpet": [
           {
            "colorbar": {
             "outlinewidth": 0,
             "ticks": ""
            },
            "type": "contourcarpet"
           }
          ],
          "heatmap": [
           {
            "colorbar": {
             "outlinewidth": 0,
             "ticks": ""
            },
            "colorscale": [
             [
              0,
              "#0d0887"
             ],
             [
              0.1111111111111111,
              "#46039f"
             ],
             [
              0.2222222222222222,
              "#7201a8"
             ],
             [
              0.3333333333333333,
              "#9c179e"
             ],
             [
              0.4444444444444444,
              "#bd3786"
             ],
             [
              0.5555555555555556,
              "#d8576b"
             ],
             [
              0.6666666666666666,
              "#ed7953"
             ],
             [
              0.7777777777777778,
              "#fb9f3a"
             ],
             [
              0.8888888888888888,
              "#fdca26"
             ],
             [
              1,
              "#f0f921"
             ]
            ],
            "type": "heatmap"
           }
          ],
          "heatmapgl": [
           {
            "colorbar": {
             "outlinewidth": 0,
             "ticks": ""
            },
            "colorscale": [
             [
              0,
              "#0d0887"
             ],
             [
              0.1111111111111111,
              "#46039f"
             ],
             [
              0.2222222222222222,
              "#7201a8"
             ],
             [
              0.3333333333333333,
              "#9c179e"
             ],
             [
              0.4444444444444444,
              "#bd3786"
             ],
             [
              0.5555555555555556,
              "#d8576b"
             ],
             [
              0.6666666666666666,
              "#ed7953"
             ],
             [
              0.7777777777777778,
              "#fb9f3a"
             ],
             [
              0.8888888888888888,
              "#fdca26"
             ],
             [
              1,
              "#f0f921"
             ]
            ],
            "type": "heatmapgl"
           }
          ],
          "histogram": [
           {
            "marker": {
             "pattern": {
              "fillmode": "overlay",
              "size": 10,
              "solidity": 0.2
             }
            },
            "type": "histogram"
           }
          ],
          "histogram2d": [
           {
            "colorbar": {
             "outlinewidth": 0,
             "ticks": ""
            },
            "colorscale": [
             [
              0,
              "#0d0887"
             ],
             [
              0.1111111111111111,
              "#46039f"
             ],
             [
              0.2222222222222222,
              "#7201a8"
             ],
             [
              0.3333333333333333,
              "#9c179e"
             ],
             [
              0.4444444444444444,
              "#bd3786"
             ],
             [
              0.5555555555555556,
              "#d8576b"
             ],
             [
              0.6666666666666666,
              "#ed7953"
             ],
             [
              0.7777777777777778,
              "#fb9f3a"
             ],
             [
              0.8888888888888888,
              "#fdca26"
             ],
             [
              1,
              "#f0f921"
             ]
            ],
            "type": "histogram2d"
           }
          ],
          "histogram2dcontour": [
           {
            "colorbar": {
             "outlinewidth": 0,
             "ticks": ""
            },
            "colorscale": [
             [
              0,
              "#0d0887"
             ],
             [
              0.1111111111111111,
              "#46039f"
             ],
             [
              0.2222222222222222,
              "#7201a8"
             ],
             [
              0.3333333333333333,
              "#9c179e"
             ],
             [
              0.4444444444444444,
              "#bd3786"
             ],
             [
              0.5555555555555556,
              "#d8576b"
             ],
             [
              0.6666666666666666,
              "#ed7953"
             ],
             [
              0.7777777777777778,
              "#fb9f3a"
             ],
             [
              0.8888888888888888,
              "#fdca26"
             ],
             [
              1,
              "#f0f921"
             ]
            ],
            "type": "histogram2dcontour"
           }
          ],
          "mesh3d": [
           {
            "colorbar": {
             "outlinewidth": 0,
             "ticks": ""
            },
            "type": "mesh3d"
           }
          ],
          "parcoords": [
           {
            "line": {
             "colorbar": {
              "outlinewidth": 0,
              "ticks": ""
             }
            },
            "type": "parcoords"
           }
          ],
          "pie": [
           {
            "automargin": true,
            "type": "pie"
           }
          ],
          "scatter": [
           {
            "fillpattern": {
             "fillmode": "overlay",
             "size": 10,
             "solidity": 0.2
            },
            "type": "scatter"
           }
          ],
          "scatter3d": [
           {
            "line": {
             "colorbar": {
              "outlinewidth": 0,
              "ticks": ""
             }
            },
            "marker": {
             "colorbar": {
              "outlinewidth": 0,
              "ticks": ""
             }
            },
            "type": "scatter3d"
           }
          ],
          "scattercarpet": [
           {
            "marker": {
             "colorbar": {
              "outlinewidth": 0,
              "ticks": ""
             }
            },
            "type": "scattercarpet"
           }
          ],
          "scattergeo": [
           {
            "marker": {
             "colorbar": {
              "outlinewidth": 0,
              "ticks": ""
             }
            },
            "type": "scattergeo"
           }
          ],
          "scattergl": [
           {
            "marker": {
             "colorbar": {
              "outlinewidth": 0,
              "ticks": ""
             }
            },
            "type": "scattergl"
           }
          ],
          "scattermapbox": [
           {
            "marker": {
             "colorbar": {
              "outlinewidth": 0,
              "ticks": ""
             }
            },
            "type": "scattermapbox"
           }
          ],
          "scatterpolar": [
           {
            "marker": {
             "colorbar": {
              "outlinewidth": 0,
              "ticks": ""
             }
            },
            "type": "scatterpolar"
           }
          ],
          "scatterpolargl": [
           {
            "marker": {
             "colorbar": {
              "outlinewidth": 0,
              "ticks": ""
             }
            },
            "type": "scatterpolargl"
           }
          ],
          "scatterternary": [
           {
            "marker": {
             "colorbar": {
              "outlinewidth": 0,
              "ticks": ""
             }
            },
            "type": "scatterternary"
           }
          ],
          "surface": [
           {
            "colorbar": {
             "outlinewidth": 0,
             "ticks": ""
            },
            "colorscale": [
             [
              0,
              "#0d0887"
             ],
             [
              0.1111111111111111,
              "#46039f"
             ],
             [
              0.2222222222222222,
              "#7201a8"
             ],
             [
              0.3333333333333333,
              "#9c179e"
             ],
             [
              0.4444444444444444,
              "#bd3786"
             ],
             [
              0.5555555555555556,
              "#d8576b"
             ],
             [
              0.6666666666666666,
              "#ed7953"
             ],
             [
              0.7777777777777778,
              "#fb9f3a"
             ],
             [
              0.8888888888888888,
              "#fdca26"
             ],
             [
              1,
              "#f0f921"
             ]
            ],
            "type": "surface"
           }
          ],
          "table": [
           {
            "cells": {
             "fill": {
              "color": "#EBF0F8"
             },
             "line": {
              "color": "white"
             }
            },
            "header": {
             "fill": {
              "color": "#C8D4E3"
             },
             "line": {
              "color": "white"
             }
            },
            "type": "table"
           }
          ]
         },
         "layout": {
          "annotationdefaults": {
           "arrowcolor": "#2a3f5f",
           "arrowhead": 0,
           "arrowwidth": 1
          },
          "autotypenumbers": "strict",
          "coloraxis": {
           "colorbar": {
            "outlinewidth": 0,
            "ticks": ""
           }
          },
          "colorscale": {
           "diverging": [
            [
             0,
             "#8e0152"
            ],
            [
             0.1,
             "#c51b7d"
            ],
            [
             0.2,
             "#de77ae"
            ],
            [
             0.3,
             "#f1b6da"
            ],
            [
             0.4,
             "#fde0ef"
            ],
            [
             0.5,
             "#f7f7f7"
            ],
            [
             0.6,
             "#e6f5d0"
            ],
            [
             0.7,
             "#b8e186"
            ],
            [
             0.8,
             "#7fbc41"
            ],
            [
             0.9,
             "#4d9221"
            ],
            [
             1,
             "#276419"
            ]
           ],
           "sequential": [
            [
             0,
             "#0d0887"
            ],
            [
             0.1111111111111111,
             "#46039f"
            ],
            [
             0.2222222222222222,
             "#7201a8"
            ],
            [
             0.3333333333333333,
             "#9c179e"
            ],
            [
             0.4444444444444444,
             "#bd3786"
            ],
            [
             0.5555555555555556,
             "#d8576b"
            ],
            [
             0.6666666666666666,
             "#ed7953"
            ],
            [
             0.7777777777777778,
             "#fb9f3a"
            ],
            [
             0.8888888888888888,
             "#fdca26"
            ],
            [
             1,
             "#f0f921"
            ]
           ],
           "sequentialminus": [
            [
             0,
             "#0d0887"
            ],
            [
             0.1111111111111111,
             "#46039f"
            ],
            [
             0.2222222222222222,
             "#7201a8"
            ],
            [
             0.3333333333333333,
             "#9c179e"
            ],
            [
             0.4444444444444444,
             "#bd3786"
            ],
            [
             0.5555555555555556,
             "#d8576b"
            ],
            [
             0.6666666666666666,
             "#ed7953"
            ],
            [
             0.7777777777777778,
             "#fb9f3a"
            ],
            [
             0.8888888888888888,
             "#fdca26"
            ],
            [
             1,
             "#f0f921"
            ]
           ]
          },
          "colorway": [
           "#636efa",
           "#EF553B",
           "#00cc96",
           "#ab63fa",
           "#FFA15A",
           "#19d3f3",
           "#FF6692",
           "#B6E880",
           "#FF97FF",
           "#FECB52"
          ],
          "font": {
           "color": "#2a3f5f"
          },
          "geo": {
           "bgcolor": "white",
           "lakecolor": "white",
           "landcolor": "#E5ECF6",
           "showlakes": true,
           "showland": true,
           "subunitcolor": "white"
          },
          "hoverlabel": {
           "align": "left"
          },
          "hovermode": "closest",
          "mapbox": {
           "style": "light"
          },
          "paper_bgcolor": "white",
          "plot_bgcolor": "#E5ECF6",
          "polar": {
           "angularaxis": {
            "gridcolor": "white",
            "linecolor": "white",
            "ticks": ""
           },
           "bgcolor": "#E5ECF6",
           "radialaxis": {
            "gridcolor": "white",
            "linecolor": "white",
            "ticks": ""
           }
          },
          "scene": {
           "xaxis": {
            "backgroundcolor": "#E5ECF6",
            "gridcolor": "white",
            "gridwidth": 2,
            "linecolor": "white",
            "showbackground": true,
            "ticks": "",
            "zerolinecolor": "white"
           },
           "yaxis": {
            "backgroundcolor": "#E5ECF6",
            "gridcolor": "white",
            "gridwidth": 2,
            "linecolor": "white",
            "showbackground": true,
            "ticks": "",
            "zerolinecolor": "white"
           },
           "zaxis": {
            "backgroundcolor": "#E5ECF6",
            "gridcolor": "white",
            "gridwidth": 2,
            "linecolor": "white",
            "showbackground": true,
            "ticks": "",
            "zerolinecolor": "white"
           }
          },
          "shapedefaults": {
           "line": {
            "color": "#2a3f5f"
           }
          },
          "ternary": {
           "aaxis": {
            "gridcolor": "white",
            "linecolor": "white",
            "ticks": ""
           },
           "baxis": {
            "gridcolor": "white",
            "linecolor": "white",
            "ticks": ""
           },
           "bgcolor": "#E5ECF6",
           "caxis": {
            "gridcolor": "white",
            "linecolor": "white",
            "ticks": ""
           }
          },
          "title": {
           "x": 0.05
          },
          "xaxis": {
           "automargin": true,
           "gridcolor": "white",
           "linecolor": "white",
           "ticks": "",
           "title": {
            "standoff": 15
           },
           "zerolinecolor": "white",
           "zerolinewidth": 2
          },
          "yaxis": {
           "automargin": true,
           "gridcolor": "white",
           "linecolor": "white",
           "ticks": "",
           "title": {
            "standoff": 15
           },
           "zerolinecolor": "white",
           "zerolinewidth": 2
          }
         }
        },
        "title": {
         "text": "Accidents for Micro Vehicels by City and Year"
        },
        "xaxis": {
         "anchor": "y",
         "categoryorder": "total descending",
         "domain": [
          0,
          1
         ],
         "title": {
          "text": "Accident Year"
         }
        },
        "yaxis": {
         "anchor": "x",
         "domain": [
          0,
          1
         ],
         "title": {
          "text": "Count"
         }
        }
       }
      }
     },
     "metadata": {},
     "output_type": "display_data"
    }
   ],
   "source": [
    "fig = px.line(\n",
    "    imh_mv_sc_long,\n",
    "    x='accident_year',\n",
    "    y='count',\n",
    "    color='accident_yishuv_name',  # Differentiates the bars by vehicle type\n",
    "    title='Accidents for Micro Vehicels by City and Year',\n",
    "    labels={'count': 'Count', 'accident_year': 'Accident Year', 'accident_yishuv_name': 'City Name'}\n",
    ")\n",
    "\n",
    "# Update the layout if you need to customize the appearance\n",
    "fig.update_layout(\n",
    "    xaxis_title='Accident Year',\n",
    "    yaxis_title='Count',\n",
    "    legend_title='City Name',\n",
    "    xaxis={'categoryorder':'total descending'}\n",
    ")\n",
    "\n",
    "# Show the plot\n",
    "fig.show()"
   ]
  },
  {
   "cell_type": "markdown",
   "id": "7cd7ec87",
   "metadata": {},
   "source": [
    "### Analyzing Jerusalem\n",
    "\n",
    "Analyze by age"
   ]
  },
  {
   "cell_type": "code",
   "execution_count": 54,
   "id": "cf87c3fb",
   "metadata": {},
   "outputs": [
    {
     "name": "stderr",
     "output_type": "stream",
     "text": [
      "C:\\Users\\itay8\\AppData\\Local\\Temp\\ipykernel_4468\\3208388615.py:1: DtypeWarning:\n",
      "\n",
      "Columns (151) have mixed types. Specify dtype option on import or set low_memory=False.\n",
      "\n"
     ]
    },
    {
     "data": {
      "text/html": [
       "<div>\n",
       "<style scoped>\n",
       "    .dataframe tbody tr th:only-of-type {\n",
       "        vertical-align: middle;\n",
       "    }\n",
       "\n",
       "    .dataframe tbody tr th {\n",
       "        vertical-align: top;\n",
       "    }\n",
       "\n",
       "    .dataframe thead th {\n",
       "        text-align: right;\n",
       "    }\n",
       "</style>\n",
       "<table border=\"1\" class=\"dataframe\">\n",
       "  <thead>\n",
       "    <tr style=\"text-align: right;\">\n",
       "      <th></th>\n",
       "      <th>accident_id</th>\n",
       "      <th>provider_and_id</th>\n",
       "      <th>provider_code</th>\n",
       "      <th>file_type_police</th>\n",
       "      <th>involved_type</th>\n",
       "      <th>involved_type_hebrew</th>\n",
       "      <th>license_acquiring_date</th>\n",
       "      <th>age_group</th>\n",
       "      <th>age_group_hebrew</th>\n",
       "      <th>sex</th>\n",
       "      <th>...</th>\n",
       "      <th>vehicle_status_hebrew</th>\n",
       "      <th>vehicle_attribution</th>\n",
       "      <th>vehicle_attribution_hebrew</th>\n",
       "      <th>seats</th>\n",
       "      <th>total_weight</th>\n",
       "      <th>total_weight_hebrew</th>\n",
       "      <th>vehicle_vehicle_type</th>\n",
       "      <th>vehicle_vehicle_type_hebrew</th>\n",
       "      <th>vehicle_damage</th>\n",
       "      <th>vehicle_damage_hebrew</th>\n",
       "    </tr>\n",
       "  </thead>\n",
       "  <tbody>\n",
       "    <tr>\n",
       "      <th>0</th>\n",
       "      <td>2013001353</td>\n",
       "      <td>12013001353</td>\n",
       "      <td>1</td>\n",
       "      <td>1</td>\n",
       "      <td>2</td>\n",
       "      <td>נהג נפגע</td>\n",
       "      <td>2004</td>\n",
       "      <td>6</td>\n",
       "      <td>25-29</td>\n",
       "      <td>1</td>\n",
       "      <td>...</td>\n",
       "      <td>NaN</td>\n",
       "      <td>1.0</td>\n",
       "      <td>ישראלי</td>\n",
       "      <td>99.0</td>\n",
       "      <td>NaN</td>\n",
       "      <td>NaN</td>\n",
       "      <td>1.0</td>\n",
       "      <td>רכב נוסעים פרטי</td>\n",
       "      <td>3.0</td>\n",
       "      <td>קשה</td>\n",
       "    </tr>\n",
       "    <tr>\n",
       "      <th>1</th>\n",
       "      <td>2013000308</td>\n",
       "      <td>32013000308</td>\n",
       "      <td>3</td>\n",
       "      <td>3</td>\n",
       "      <td>2</td>\n",
       "      <td>נהג נפגע</td>\n",
       "      <td>2004</td>\n",
       "      <td>6</td>\n",
       "      <td>25-29</td>\n",
       "      <td>2</td>\n",
       "      <td>...</td>\n",
       "      <td>NaN</td>\n",
       "      <td>1.0</td>\n",
       "      <td>ישראלי</td>\n",
       "      <td>3.0</td>\n",
       "      <td>1.0</td>\n",
       "      <td>עד 1.9</td>\n",
       "      <td>1.0</td>\n",
       "      <td>רכב נוסעים פרטי</td>\n",
       "      <td>1.0</td>\n",
       "      <td>קל</td>\n",
       "    </tr>\n",
       "    <tr>\n",
       "      <th>2</th>\n",
       "      <td>2013001705</td>\n",
       "      <td>12013001705</td>\n",
       "      <td>1</td>\n",
       "      <td>1</td>\n",
       "      <td>1</td>\n",
       "      <td>נהג</td>\n",
       "      <td>2008</td>\n",
       "      <td>6</td>\n",
       "      <td>25-29</td>\n",
       "      <td>1</td>\n",
       "      <td>...</td>\n",
       "      <td>NaN</td>\n",
       "      <td>1.0</td>\n",
       "      <td>ישראלי</td>\n",
       "      <td>99.0</td>\n",
       "      <td>1.0</td>\n",
       "      <td>עד 1.9</td>\n",
       "      <td>1.0</td>\n",
       "      <td>רכב נוסעים פרטי</td>\n",
       "      <td>1.0</td>\n",
       "      <td>קל</td>\n",
       "    </tr>\n",
       "    <tr>\n",
       "      <th>3</th>\n",
       "      <td>2013001844</td>\n",
       "      <td>32013001844</td>\n",
       "      <td>3</td>\n",
       "      <td>3</td>\n",
       "      <td>2</td>\n",
       "      <td>נהג נפגע</td>\n",
       "      <td>2008</td>\n",
       "      <td>5</td>\n",
       "      <td>20-24</td>\n",
       "      <td>2</td>\n",
       "      <td>...</td>\n",
       "      <td>NaN</td>\n",
       "      <td>1.0</td>\n",
       "      <td>ישראלי</td>\n",
       "      <td>99.0</td>\n",
       "      <td>1.0</td>\n",
       "      <td>עד 1.9</td>\n",
       "      <td>1.0</td>\n",
       "      <td>רכב נוסעים פרטי</td>\n",
       "      <td>1.0</td>\n",
       "      <td>קל</td>\n",
       "    </tr>\n",
       "    <tr>\n",
       "      <th>4</th>\n",
       "      <td>2013001991</td>\n",
       "      <td>32013001991</td>\n",
       "      <td>3</td>\n",
       "      <td>3</td>\n",
       "      <td>1</td>\n",
       "      <td>נהג</td>\n",
       "      <td>0</td>\n",
       "      <td>99</td>\n",
       "      <td>לא ידוע</td>\n",
       "      <td>0</td>\n",
       "      <td>...</td>\n",
       "      <td>NaN</td>\n",
       "      <td>1.0</td>\n",
       "      <td>ישראלי</td>\n",
       "      <td>3.0</td>\n",
       "      <td>1.0</td>\n",
       "      <td>עד 1.9</td>\n",
       "      <td>1.0</td>\n",
       "      <td>רכב נוסעים פרטי</td>\n",
       "      <td>4.0</td>\n",
       "      <td>אין נזק</td>\n",
       "    </tr>\n",
       "    <tr>\n",
       "      <th>...</th>\n",
       "      <td>...</td>\n",
       "      <td>...</td>\n",
       "      <td>...</td>\n",
       "      <td>...</td>\n",
       "      <td>...</td>\n",
       "      <td>...</td>\n",
       "      <td>...</td>\n",
       "      <td>...</td>\n",
       "      <td>...</td>\n",
       "      <td>...</td>\n",
       "      <td>...</td>\n",
       "      <td>...</td>\n",
       "      <td>...</td>\n",
       "      <td>...</td>\n",
       "      <td>...</td>\n",
       "      <td>...</td>\n",
       "      <td>...</td>\n",
       "      <td>...</td>\n",
       "      <td>...</td>\n",
       "      <td>...</td>\n",
       "      <td>...</td>\n",
       "    </tr>\n",
       "    <tr>\n",
       "      <th>93021</th>\n",
       "      <td>2023098169</td>\n",
       "      <td>32023098169</td>\n",
       "      <td>3</td>\n",
       "      <td>3</td>\n",
       "      <td>2</td>\n",
       "      <td>נהג נפגע</td>\n",
       "      <td>2014</td>\n",
       "      <td>6</td>\n",
       "      <td>25-29</td>\n",
       "      <td>1</td>\n",
       "      <td>...</td>\n",
       "      <td>NaN</td>\n",
       "      <td>1.0</td>\n",
       "      <td>ישראלי</td>\n",
       "      <td>99.0</td>\n",
       "      <td>2.0</td>\n",
       "      <td>2.0-2.9</td>\n",
       "      <td>2.0</td>\n",
       "      <td>משא עד 3.5 טון - אחוד (טרנזיט)</td>\n",
       "      <td>1.0</td>\n",
       "      <td>קל</td>\n",
       "    </tr>\n",
       "    <tr>\n",
       "      <th>93022</th>\n",
       "      <td>2023098178</td>\n",
       "      <td>32023098178</td>\n",
       "      <td>3</td>\n",
       "      <td>3</td>\n",
       "      <td>2</td>\n",
       "      <td>נהג נפגע</td>\n",
       "      <td>2013</td>\n",
       "      <td>6</td>\n",
       "      <td>25-29</td>\n",
       "      <td>2</td>\n",
       "      <td>...</td>\n",
       "      <td>NaN</td>\n",
       "      <td>1.0</td>\n",
       "      <td>ישראלי</td>\n",
       "      <td>3.0</td>\n",
       "      <td>1.0</td>\n",
       "      <td>עד 1.9</td>\n",
       "      <td>1.0</td>\n",
       "      <td>רכב נוסעים פרטי</td>\n",
       "      <td>1.0</td>\n",
       "      <td>קל</td>\n",
       "    </tr>\n",
       "    <tr>\n",
       "      <th>93023</th>\n",
       "      <td>2023097756</td>\n",
       "      <td>32023097756</td>\n",
       "      <td>3</td>\n",
       "      <td>3</td>\n",
       "      <td>1</td>\n",
       "      <td>נהג</td>\n",
       "      <td>2017</td>\n",
       "      <td>12</td>\n",
       "      <td>55-59</td>\n",
       "      <td>1</td>\n",
       "      <td>...</td>\n",
       "      <td>NaN</td>\n",
       "      <td>1.0</td>\n",
       "      <td>ישראלי</td>\n",
       "      <td>3.0</td>\n",
       "      <td>2.0</td>\n",
       "      <td>2.0-2.9</td>\n",
       "      <td>12.0</td>\n",
       "      <td>מונית</td>\n",
       "      <td>4.0</td>\n",
       "      <td>אין נזק</td>\n",
       "    </tr>\n",
       "    <tr>\n",
       "      <th>93024</th>\n",
       "      <td>2023098293</td>\n",
       "      <td>12023098293</td>\n",
       "      <td>1</td>\n",
       "      <td>1</td>\n",
       "      <td>2</td>\n",
       "      <td>נהג נפגע</td>\n",
       "      <td>2019</td>\n",
       "      <td>5</td>\n",
       "      <td>20-24</td>\n",
       "      <td>1</td>\n",
       "      <td>...</td>\n",
       "      <td>NaN</td>\n",
       "      <td>1.0</td>\n",
       "      <td>ישראלי</td>\n",
       "      <td>3.0</td>\n",
       "      <td>2.0</td>\n",
       "      <td>2.0-2.9</td>\n",
       "      <td>1.0</td>\n",
       "      <td>רכב נוסעים פרטי</td>\n",
       "      <td>1.0</td>\n",
       "      <td>קל</td>\n",
       "    </tr>\n",
       "    <tr>\n",
       "      <th>93025</th>\n",
       "      <td>2023098653</td>\n",
       "      <td>12023098653</td>\n",
       "      <td>1</td>\n",
       "      <td>1</td>\n",
       "      <td>1</td>\n",
       "      <td>נהג</td>\n",
       "      <td>1999</td>\n",
       "      <td>9</td>\n",
       "      <td>40-44</td>\n",
       "      <td>1</td>\n",
       "      <td>...</td>\n",
       "      <td>NaN</td>\n",
       "      <td>1.0</td>\n",
       "      <td>ישראלי</td>\n",
       "      <td>5.0</td>\n",
       "      <td>2.0</td>\n",
       "      <td>2.0-2.9</td>\n",
       "      <td>1.0</td>\n",
       "      <td>רכב נוסעים פרטי</td>\n",
       "      <td>2.0</td>\n",
       "      <td>בינוני</td>\n",
       "    </tr>\n",
       "  </tbody>\n",
       "</table>\n",
       "<p>93026 rows × 161 columns</p>\n",
       "</div>"
      ],
      "text/plain": [
       "       accident_id  provider_and_id  provider_code  file_type_police  \\\n",
       "0       2013001353      12013001353              1                 1   \n",
       "1       2013000308      32013000308              3                 3   \n",
       "2       2013001705      12013001705              1                 1   \n",
       "3       2013001844      32013001844              3                 3   \n",
       "4       2013001991      32013001991              3                 3   \n",
       "...            ...              ...            ...               ...   \n",
       "93021   2023098169      32023098169              3                 3   \n",
       "93022   2023098178      32023098178              3                 3   \n",
       "93023   2023097756      32023097756              3                 3   \n",
       "93024   2023098293      12023098293              1                 1   \n",
       "93025   2023098653      12023098653              1                 1   \n",
       "\n",
       "       involved_type involved_type_hebrew  license_acquiring_date  age_group  \\\n",
       "0                  2             נהג נפגע                    2004          6   \n",
       "1                  2             נהג נפגע                    2004          6   \n",
       "2                  1                  נהג                    2008          6   \n",
       "3                  2             נהג נפגע                    2008          5   \n",
       "4                  1                  נהג                       0         99   \n",
       "...              ...                  ...                     ...        ...   \n",
       "93021              2             נהג נפגע                    2014          6   \n",
       "93022              2             נהג נפגע                    2013          6   \n",
       "93023              1                  נהג                    2017         12   \n",
       "93024              2             נהג נפגע                    2019          5   \n",
       "93025              1                  נהג                    1999          9   \n",
       "\n",
       "      age_group_hebrew  sex  ... vehicle_status_hebrew  vehicle_attribution  \\\n",
       "0                25-29    1  ...                   NaN                  1.0   \n",
       "1                25-29    2  ...                   NaN                  1.0   \n",
       "2                25-29    1  ...                   NaN                  1.0   \n",
       "3                20-24    2  ...                   NaN                  1.0   \n",
       "4              לא ידוע    0  ...                   NaN                  1.0   \n",
       "...                ...  ...  ...                   ...                  ...   \n",
       "93021            25-29    1  ...                   NaN                  1.0   \n",
       "93022            25-29    2  ...                   NaN                  1.0   \n",
       "93023            55-59    1  ...                   NaN                  1.0   \n",
       "93024            20-24    1  ...                   NaN                  1.0   \n",
       "93025            40-44    1  ...                   NaN                  1.0   \n",
       "\n",
       "      vehicle_attribution_hebrew  seats total_weight  total_weight_hebrew  \\\n",
       "0                         ישראלי   99.0          NaN                  NaN   \n",
       "1                         ישראלי    3.0          1.0               עד 1.9   \n",
       "2                         ישראלי   99.0          1.0               עד 1.9   \n",
       "3                         ישראלי   99.0          1.0               עד 1.9   \n",
       "4                         ישראלי    3.0          1.0               עד 1.9   \n",
       "...                          ...    ...          ...                  ...   \n",
       "93021                     ישראלי   99.0          2.0              2.0-2.9   \n",
       "93022                     ישראלי    3.0          1.0               עד 1.9   \n",
       "93023                     ישראלי    3.0          2.0              2.0-2.9   \n",
       "93024                     ישראלי    3.0          2.0              2.0-2.9   \n",
       "93025                     ישראלי    5.0          2.0              2.0-2.9   \n",
       "\n",
       "      vehicle_vehicle_type     vehicle_vehicle_type_hebrew vehicle_damage  \\\n",
       "0                      1.0                 רכב נוסעים פרטי            3.0   \n",
       "1                      1.0                 רכב נוסעים פרטי            1.0   \n",
       "2                      1.0                 רכב נוסעים פרטי            1.0   \n",
       "3                      1.0                 רכב נוסעים פרטי            1.0   \n",
       "4                      1.0                 רכב נוסעים פרטי            4.0   \n",
       "...                    ...                             ...            ...   \n",
       "93021                  2.0  משא עד 3.5 טון - אחוד (טרנזיט)            1.0   \n",
       "93022                  1.0                 רכב נוסעים פרטי            1.0   \n",
       "93023                 12.0                           מונית            4.0   \n",
       "93024                  1.0                 רכב נוסעים פרטי            1.0   \n",
       "93025                  1.0                 רכב נוסעים פרטי            2.0   \n",
       "\n",
       "       vehicle_damage_hebrew  \n",
       "0                        קשה  \n",
       "1                         קל  \n",
       "2                         קל  \n",
       "3                         קל  \n",
       "4                    אין נזק  \n",
       "...                      ...  \n",
       "93021                     קל  \n",
       "93022                     קל  \n",
       "93023                אין נזק  \n",
       "93024                     קל  \n",
       "93025                 בינוני  \n",
       "\n",
       "[93026 rows x 161 columns]"
      ]
     },
     "execution_count": 54,
     "metadata": {},
     "output_type": "execute_result"
    }
   ],
   "source": [
    "imh_jer = pd.read_csv('./csv_tables/i_m_h_jerusalem.csv')\n",
    "imh_jer"
   ]
  },
  {
   "cell_type": "code",
   "execution_count": 55,
   "id": "ab487a56",
   "metadata": {},
   "outputs": [
    {
     "data": {
      "application/vnd.plotly.v1+json": {
       "config": {
        "plotlyServerURL": "https://plot.ly"
       },
       "data": [
        {
         "fillpattern": {
          "shape": ""
         },
         "hovertemplate": "age_group_hebrew=05-09<br>Accident Year=%{x}<br>Number of Accidents=%{y}<extra></extra>",
         "legendgroup": "05-09",
         "line": {
          "color": "#636efa"
         },
         "marker": {
          "symbol": "circle"
         },
         "mode": "lines",
         "name": "05-09",
         "orientation": "v",
         "showlegend": true,
         "stackgroup": "1",
         "type": "scatter",
         "x": [
          2013,
          2014,
          2015,
          2016,
          2017,
          2018,
          2019,
          2020,
          2021,
          2022,
          2023
         ],
         "xaxis": "x",
         "y": [
          9,
          8,
          10,
          6,
          6,
          7,
          9,
          10,
          5,
          6,
          2
         ],
         "yaxis": "y"
        },
        {
         "fillpattern": {
          "shape": ""
         },
         "hovertemplate": "age_group_hebrew=10-14<br>Accident Year=%{x}<br>Number of Accidents=%{y}<extra></extra>",
         "legendgroup": "10-14",
         "line": {
          "color": "#EF553B"
         },
         "marker": {
          "symbol": "circle"
         },
         "mode": "lines",
         "name": "10-14",
         "orientation": "v",
         "showlegend": true,
         "stackgroup": "1",
         "type": "scatter",
         "x": [
          2013,
          2014,
          2015,
          2016,
          2017,
          2018,
          2019,
          2020,
          2021,
          2022,
          2023
         ],
         "xaxis": "x",
         "y": [
          30,
          15,
          28,
          33,
          20,
          23,
          21,
          19,
          15,
          8,
          15
         ],
         "yaxis": "y"
        },
        {
         "fillpattern": {
          "shape": ""
         },
         "hovertemplate": "age_group_hebrew=15-19<br>Accident Year=%{x}<br>Number of Accidents=%{y}<extra></extra>",
         "legendgroup": "15-19",
         "line": {
          "color": "#00cc96"
         },
         "marker": {
          "symbol": "circle"
         },
         "mode": "lines",
         "name": "15-19",
         "orientation": "v",
         "showlegend": true,
         "stackgroup": "1",
         "type": "scatter",
         "x": [
          2013,
          2014,
          2015,
          2016,
          2017,
          2018,
          2019,
          2020,
          2021,
          2022,
          2023
         ],
         "xaxis": "x",
         "y": [
          16,
          24,
          33,
          38,
          48,
          70,
          39,
          31,
          38,
          33,
          29
         ],
         "yaxis": "y"
        },
        {
         "fillpattern": {
          "shape": ""
         },
         "hovertemplate": "age_group_hebrew=20-24<br>Accident Year=%{x}<br>Number of Accidents=%{y}<extra></extra>",
         "legendgroup": "20-24",
         "line": {
          "color": "#ab63fa"
         },
         "marker": {
          "symbol": "circle"
         },
         "mode": "lines",
         "name": "20-24",
         "orientation": "v",
         "showlegend": true,
         "stackgroup": "1",
         "type": "scatter",
         "x": [
          2013,
          2014,
          2015,
          2016,
          2017,
          2018,
          2019,
          2020,
          2021,
          2022,
          2023
         ],
         "xaxis": "x",
         "y": [
          10,
          13,
          15,
          21,
          32,
          39,
          30,
          23,
          25,
          31,
          25
         ],
         "yaxis": "y"
        },
        {
         "fillpattern": {
          "shape": ""
         },
         "hovertemplate": "age_group_hebrew=25-29<br>Accident Year=%{x}<br>Number of Accidents=%{y}<extra></extra>",
         "legendgroup": "25-29",
         "line": {
          "color": "#FFA15A"
         },
         "marker": {
          "symbol": "circle"
         },
         "mode": "lines",
         "name": "25-29",
         "orientation": "v",
         "showlegend": true,
         "stackgroup": "1",
         "type": "scatter",
         "x": [
          2013,
          2014,
          2015,
          2016,
          2017,
          2018,
          2019,
          2020,
          2021,
          2022,
          2023
         ],
         "xaxis": "x",
         "y": [
          17,
          17,
          11,
          16,
          18,
          25,
          28,
          16,
          16,
          27,
          14
         ],
         "yaxis": "y"
        },
        {
         "fillpattern": {
          "shape": ""
         },
         "hovertemplate": "age_group_hebrew=30-34<br>Accident Year=%{x}<br>Number of Accidents=%{y}<extra></extra>",
         "legendgroup": "30-34",
         "line": {
          "color": "#19d3f3"
         },
         "marker": {
          "symbol": "circle"
         },
         "mode": "lines",
         "name": "30-34",
         "orientation": "v",
         "showlegend": true,
         "stackgroup": "1",
         "type": "scatter",
         "x": [
          2013,
          2014,
          2015,
          2016,
          2017,
          2018,
          2019,
          2020,
          2021,
          2022,
          2023
         ],
         "xaxis": "x",
         "y": [
          8,
          13,
          7,
          14,
          16,
          17,
          17,
          9,
          19,
          15,
          13
         ],
         "yaxis": "y"
        },
        {
         "fillpattern": {
          "shape": ""
         },
         "hovertemplate": "age_group_hebrew=35-39<br>Accident Year=%{x}<br>Number of Accidents=%{y}<extra></extra>",
         "legendgroup": "35-39",
         "line": {
          "color": "#FF6692"
         },
         "marker": {
          "symbol": "circle"
         },
         "mode": "lines",
         "name": "35-39",
         "orientation": "v",
         "showlegend": true,
         "stackgroup": "1",
         "type": "scatter",
         "x": [
          2013,
          2014,
          2015,
          2016,
          2017,
          2018,
          2019,
          2020,
          2021,
          2022,
          2023
         ],
         "xaxis": "x",
         "y": [
          5,
          6,
          5,
          9,
          8,
          13,
          9,
          11,
          12,
          11,
          11
         ],
         "yaxis": "y"
        },
        {
         "fillpattern": {
          "shape": ""
         },
         "hovertemplate": "age_group_hebrew=40-44<br>Accident Year=%{x}<br>Number of Accidents=%{y}<extra></extra>",
         "legendgroup": "40-44",
         "line": {
          "color": "#B6E880"
         },
         "marker": {
          "symbol": "circle"
         },
         "mode": "lines",
         "name": "40-44",
         "orientation": "v",
         "showlegend": true,
         "stackgroup": "1",
         "type": "scatter",
         "x": [
          2013,
          2014,
          2015,
          2016,
          2017,
          2018,
          2019,
          2020,
          2021,
          2022,
          2023
         ],
         "xaxis": "x",
         "y": [
          4,
          5,
          9,
          3,
          10,
          11,
          15,
          11,
          8,
          15,
          5
         ],
         "yaxis": "y"
        },
        {
         "fillpattern": {
          "shape": ""
         },
         "hovertemplate": "age_group_hebrew=45-49<br>Accident Year=%{x}<br>Number of Accidents=%{y}<extra></extra>",
         "legendgroup": "45-49",
         "line": {
          "color": "#FF97FF"
         },
         "marker": {
          "symbol": "circle"
         },
         "mode": "lines",
         "name": "45-49",
         "orientation": "v",
         "showlegend": true,
         "stackgroup": "1",
         "type": "scatter",
         "x": [
          2013,
          2014,
          2015,
          2016,
          2017,
          2018,
          2019,
          2020,
          2021,
          2022,
          2023
         ],
         "xaxis": "x",
         "y": [
          3,
          2,
          5,
          5,
          4,
          5,
          6,
          5,
          6,
          7,
          6
         ],
         "yaxis": "y"
        },
        {
         "fillpattern": {
          "shape": ""
         },
         "hovertemplate": "age_group_hebrew=50-54<br>Accident Year=%{x}<br>Number of Accidents=%{y}<extra></extra>",
         "legendgroup": "50-54",
         "line": {
          "color": "#FECB52"
         },
         "marker": {
          "symbol": "circle"
         },
         "mode": "lines",
         "name": "50-54",
         "orientation": "v",
         "showlegend": true,
         "stackgroup": "1",
         "type": "scatter",
         "x": [
          2013,
          2014,
          2015,
          2016,
          2017,
          2018,
          2019,
          2020,
          2021,
          2022,
          2023
         ],
         "xaxis": "x",
         "y": [
          4,
          6,
          3,
          4,
          6,
          8,
          6,
          6,
          4,
          10,
          1
         ],
         "yaxis": "y"
        },
        {
         "fillpattern": {
          "shape": ""
         },
         "hovertemplate": "age_group_hebrew=55-59<br>Accident Year=%{x}<br>Number of Accidents=%{y}<extra></extra>",
         "legendgroup": "55-59",
         "line": {
          "color": "#636efa"
         },
         "marker": {
          "symbol": "circle"
         },
         "mode": "lines",
         "name": "55-59",
         "orientation": "v",
         "showlegend": true,
         "stackgroup": "1",
         "type": "scatter",
         "x": [
          2013,
          2014,
          2015,
          2016,
          2017,
          2018,
          2019,
          2020,
          2021,
          2022,
          2023
         ],
         "xaxis": "x",
         "y": [
          2,
          7,
          3,
          3,
          3,
          5,
          3,
          5,
          6,
          8,
          3
         ],
         "yaxis": "y"
        },
        {
         "fillpattern": {
          "shape": ""
         },
         "hovertemplate": "age_group_hebrew=60-64<br>Accident Year=%{x}<br>Number of Accidents=%{y}<extra></extra>",
         "legendgroup": "60-64",
         "line": {
          "color": "#EF553B"
         },
         "marker": {
          "symbol": "circle"
         },
         "mode": "lines",
         "name": "60-64",
         "orientation": "v",
         "showlegend": true,
         "stackgroup": "1",
         "type": "scatter",
         "x": [
          2013,
          2014,
          2015,
          2016,
          2017,
          2018,
          2019,
          2020,
          2021,
          2022,
          2023
         ],
         "xaxis": "x",
         "y": [
          1,
          5,
          5,
          5,
          6,
          3,
          7,
          3,
          2,
          1,
          0
         ],
         "yaxis": "y"
        }
       ],
       "layout": {
        "barmode": "stack",
        "legend": {
         "title": {
          "text": "Age Group"
         },
         "tracegroupgap": 0
        },
        "template": {
         "data": {
          "bar": [
           {
            "error_x": {
             "color": "#2a3f5f"
            },
            "error_y": {
             "color": "#2a3f5f"
            },
            "marker": {
             "line": {
              "color": "#E5ECF6",
              "width": 0.5
             },
             "pattern": {
              "fillmode": "overlay",
              "size": 10,
              "solidity": 0.2
             }
            },
            "type": "bar"
           }
          ],
          "barpolar": [
           {
            "marker": {
             "line": {
              "color": "#E5ECF6",
              "width": 0.5
             },
             "pattern": {
              "fillmode": "overlay",
              "size": 10,
              "solidity": 0.2
             }
            },
            "type": "barpolar"
           }
          ],
          "carpet": [
           {
            "aaxis": {
             "endlinecolor": "#2a3f5f",
             "gridcolor": "white",
             "linecolor": "white",
             "minorgridcolor": "white",
             "startlinecolor": "#2a3f5f"
            },
            "baxis": {
             "endlinecolor": "#2a3f5f",
             "gridcolor": "white",
             "linecolor": "white",
             "minorgridcolor": "white",
             "startlinecolor": "#2a3f5f"
            },
            "type": "carpet"
           }
          ],
          "choropleth": [
           {
            "colorbar": {
             "outlinewidth": 0,
             "ticks": ""
            },
            "type": "choropleth"
           }
          ],
          "contour": [
           {
            "colorbar": {
             "outlinewidth": 0,
             "ticks": ""
            },
            "colorscale": [
             [
              0,
              "#0d0887"
             ],
             [
              0.1111111111111111,
              "#46039f"
             ],
             [
              0.2222222222222222,
              "#7201a8"
             ],
             [
              0.3333333333333333,
              "#9c179e"
             ],
             [
              0.4444444444444444,
              "#bd3786"
             ],
             [
              0.5555555555555556,
              "#d8576b"
             ],
             [
              0.6666666666666666,
              "#ed7953"
             ],
             [
              0.7777777777777778,
              "#fb9f3a"
             ],
             [
              0.8888888888888888,
              "#fdca26"
             ],
             [
              1,
              "#f0f921"
             ]
            ],
            "type": "contour"
           }
          ],
          "contourcarpet": [
           {
            "colorbar": {
             "outlinewidth": 0,
             "ticks": ""
            },
            "type": "contourcarpet"
           }
          ],
          "heatmap": [
           {
            "colorbar": {
             "outlinewidth": 0,
             "ticks": ""
            },
            "colorscale": [
             [
              0,
              "#0d0887"
             ],
             [
              0.1111111111111111,
              "#46039f"
             ],
             [
              0.2222222222222222,
              "#7201a8"
             ],
             [
              0.3333333333333333,
              "#9c179e"
             ],
             [
              0.4444444444444444,
              "#bd3786"
             ],
             [
              0.5555555555555556,
              "#d8576b"
             ],
             [
              0.6666666666666666,
              "#ed7953"
             ],
             [
              0.7777777777777778,
              "#fb9f3a"
             ],
             [
              0.8888888888888888,
              "#fdca26"
             ],
             [
              1,
              "#f0f921"
             ]
            ],
            "type": "heatmap"
           }
          ],
          "heatmapgl": [
           {
            "colorbar": {
             "outlinewidth": 0,
             "ticks": ""
            },
            "colorscale": [
             [
              0,
              "#0d0887"
             ],
             [
              0.1111111111111111,
              "#46039f"
             ],
             [
              0.2222222222222222,
              "#7201a8"
             ],
             [
              0.3333333333333333,
              "#9c179e"
             ],
             [
              0.4444444444444444,
              "#bd3786"
             ],
             [
              0.5555555555555556,
              "#d8576b"
             ],
             [
              0.6666666666666666,
              "#ed7953"
             ],
             [
              0.7777777777777778,
              "#fb9f3a"
             ],
             [
              0.8888888888888888,
              "#fdca26"
             ],
             [
              1,
              "#f0f921"
             ]
            ],
            "type": "heatmapgl"
           }
          ],
          "histogram": [
           {
            "marker": {
             "pattern": {
              "fillmode": "overlay",
              "size": 10,
              "solidity": 0.2
             }
            },
            "type": "histogram"
           }
          ],
          "histogram2d": [
           {
            "colorbar": {
             "outlinewidth": 0,
             "ticks": ""
            },
            "colorscale": [
             [
              0,
              "#0d0887"
             ],
             [
              0.1111111111111111,
              "#46039f"
             ],
             [
              0.2222222222222222,
              "#7201a8"
             ],
             [
              0.3333333333333333,
              "#9c179e"
             ],
             [
              0.4444444444444444,
              "#bd3786"
             ],
             [
              0.5555555555555556,
              "#d8576b"
             ],
             [
              0.6666666666666666,
              "#ed7953"
             ],
             [
              0.7777777777777778,
              "#fb9f3a"
             ],
             [
              0.8888888888888888,
              "#fdca26"
             ],
             [
              1,
              "#f0f921"
             ]
            ],
            "type": "histogram2d"
           }
          ],
          "histogram2dcontour": [
           {
            "colorbar": {
             "outlinewidth": 0,
             "ticks": ""
            },
            "colorscale": [
             [
              0,
              "#0d0887"
             ],
             [
              0.1111111111111111,
              "#46039f"
             ],
             [
              0.2222222222222222,
              "#7201a8"
             ],
             [
              0.3333333333333333,
              "#9c179e"
             ],
             [
              0.4444444444444444,
              "#bd3786"
             ],
             [
              0.5555555555555556,
              "#d8576b"
             ],
             [
              0.6666666666666666,
              "#ed7953"
             ],
             [
              0.7777777777777778,
              "#fb9f3a"
             ],
             [
              0.8888888888888888,
              "#fdca26"
             ],
             [
              1,
              "#f0f921"
             ]
            ],
            "type": "histogram2dcontour"
           }
          ],
          "mesh3d": [
           {
            "colorbar": {
             "outlinewidth": 0,
             "ticks": ""
            },
            "type": "mesh3d"
           }
          ],
          "parcoords": [
           {
            "line": {
             "colorbar": {
              "outlinewidth": 0,
              "ticks": ""
             }
            },
            "type": "parcoords"
           }
          ],
          "pie": [
           {
            "automargin": true,
            "type": "pie"
           }
          ],
          "scatter": [
           {
            "fillpattern": {
             "fillmode": "overlay",
             "size": 10,
             "solidity": 0.2
            },
            "type": "scatter"
           }
          ],
          "scatter3d": [
           {
            "line": {
             "colorbar": {
              "outlinewidth": 0,
              "ticks": ""
             }
            },
            "marker": {
             "colorbar": {
              "outlinewidth": 0,
              "ticks": ""
             }
            },
            "type": "scatter3d"
           }
          ],
          "scattercarpet": [
           {
            "marker": {
             "colorbar": {
              "outlinewidth": 0,
              "ticks": ""
             }
            },
            "type": "scattercarpet"
           }
          ],
          "scattergeo": [
           {
            "marker": {
             "colorbar": {
              "outlinewidth": 0,
              "ticks": ""
             }
            },
            "type": "scattergeo"
           }
          ],
          "scattergl": [
           {
            "marker": {
             "colorbar": {
              "outlinewidth": 0,
              "ticks": ""
             }
            },
            "type": "scattergl"
           }
          ],
          "scattermapbox": [
           {
            "marker": {
             "colorbar": {
              "outlinewidth": 0,
              "ticks": ""
             }
            },
            "type": "scattermapbox"
           }
          ],
          "scatterpolar": [
           {
            "marker": {
             "colorbar": {
              "outlinewidth": 0,
              "ticks": ""
             }
            },
            "type": "scatterpolar"
           }
          ],
          "scatterpolargl": [
           {
            "marker": {
             "colorbar": {
              "outlinewidth": 0,
              "ticks": ""
             }
            },
            "type": "scatterpolargl"
           }
          ],
          "scatterternary": [
           {
            "marker": {
             "colorbar": {
              "outlinewidth": 0,
              "ticks": ""
             }
            },
            "type": "scatterternary"
           }
          ],
          "surface": [
           {
            "colorbar": {
             "outlinewidth": 0,
             "ticks": ""
            },
            "colorscale": [
             [
              0,
              "#0d0887"
             ],
             [
              0.1111111111111111,
              "#46039f"
             ],
             [
              0.2222222222222222,
              "#7201a8"
             ],
             [
              0.3333333333333333,
              "#9c179e"
             ],
             [
              0.4444444444444444,
              "#bd3786"
             ],
             [
              0.5555555555555556,
              "#d8576b"
             ],
             [
              0.6666666666666666,
              "#ed7953"
             ],
             [
              0.7777777777777778,
              "#fb9f3a"
             ],
             [
              0.8888888888888888,
              "#fdca26"
             ],
             [
              1,
              "#f0f921"
             ]
            ],
            "type": "surface"
           }
          ],
          "table": [
           {
            "cells": {
             "fill": {
              "color": "#EBF0F8"
             },
             "line": {
              "color": "white"
             }
            },
            "header": {
             "fill": {
              "color": "#C8D4E3"
             },
             "line": {
              "color": "white"
             }
            },
            "type": "table"
           }
          ]
         },
         "layout": {
          "annotationdefaults": {
           "arrowcolor": "#2a3f5f",
           "arrowhead": 0,
           "arrowwidth": 1
          },
          "autotypenumbers": "strict",
          "coloraxis": {
           "colorbar": {
            "outlinewidth": 0,
            "ticks": ""
           }
          },
          "colorscale": {
           "diverging": [
            [
             0,
             "#8e0152"
            ],
            [
             0.1,
             "#c51b7d"
            ],
            [
             0.2,
             "#de77ae"
            ],
            [
             0.3,
             "#f1b6da"
            ],
            [
             0.4,
             "#fde0ef"
            ],
            [
             0.5,
             "#f7f7f7"
            ],
            [
             0.6,
             "#e6f5d0"
            ],
            [
             0.7,
             "#b8e186"
            ],
            [
             0.8,
             "#7fbc41"
            ],
            [
             0.9,
             "#4d9221"
            ],
            [
             1,
             "#276419"
            ]
           ],
           "sequential": [
            [
             0,
             "#0d0887"
            ],
            [
             0.1111111111111111,
             "#46039f"
            ],
            [
             0.2222222222222222,
             "#7201a8"
            ],
            [
             0.3333333333333333,
             "#9c179e"
            ],
            [
             0.4444444444444444,
             "#bd3786"
            ],
            [
             0.5555555555555556,
             "#d8576b"
            ],
            [
             0.6666666666666666,
             "#ed7953"
            ],
            [
             0.7777777777777778,
             "#fb9f3a"
            ],
            [
             0.8888888888888888,
             "#fdca26"
            ],
            [
             1,
             "#f0f921"
            ]
           ],
           "sequentialminus": [
            [
             0,
             "#0d0887"
            ],
            [
             0.1111111111111111,
             "#46039f"
            ],
            [
             0.2222222222222222,
             "#7201a8"
            ],
            [
             0.3333333333333333,
             "#9c179e"
            ],
            [
             0.4444444444444444,
             "#bd3786"
            ],
            [
             0.5555555555555556,
             "#d8576b"
            ],
            [
             0.6666666666666666,
             "#ed7953"
            ],
            [
             0.7777777777777778,
             "#fb9f3a"
            ],
            [
             0.8888888888888888,
             "#fdca26"
            ],
            [
             1,
             "#f0f921"
            ]
           ]
          },
          "colorway": [
           "#636efa",
           "#EF553B",
           "#00cc96",
           "#ab63fa",
           "#FFA15A",
           "#19d3f3",
           "#FF6692",
           "#B6E880",
           "#FF97FF",
           "#FECB52"
          ],
          "font": {
           "color": "#2a3f5f"
          },
          "geo": {
           "bgcolor": "white",
           "lakecolor": "white",
           "landcolor": "#E5ECF6",
           "showlakes": true,
           "showland": true,
           "subunitcolor": "white"
          },
          "hoverlabel": {
           "align": "left"
          },
          "hovermode": "closest",
          "mapbox": {
           "style": "light"
          },
          "paper_bgcolor": "white",
          "plot_bgcolor": "#E5ECF6",
          "polar": {
           "angularaxis": {
            "gridcolor": "white",
            "linecolor": "white",
            "ticks": ""
           },
           "bgcolor": "#E5ECF6",
           "radialaxis": {
            "gridcolor": "white",
            "linecolor": "white",
            "ticks": ""
           }
          },
          "scene": {
           "xaxis": {
            "backgroundcolor": "#E5ECF6",
            "gridcolor": "white",
            "gridwidth": 2,
            "linecolor": "white",
            "showbackground": true,
            "ticks": "",
            "zerolinecolor": "white"
           },
           "yaxis": {
            "backgroundcolor": "#E5ECF6",
            "gridcolor": "white",
            "gridwidth": 2,
            "linecolor": "white",
            "showbackground": true,
            "ticks": "",
            "zerolinecolor": "white"
           },
           "zaxis": {
            "backgroundcolor": "#E5ECF6",
            "gridcolor": "white",
            "gridwidth": 2,
            "linecolor": "white",
            "showbackground": true,
            "ticks": "",
            "zerolinecolor": "white"
           }
          },
          "shapedefaults": {
           "line": {
            "color": "#2a3f5f"
           }
          },
          "ternary": {
           "aaxis": {
            "gridcolor": "white",
            "linecolor": "white",
            "ticks": ""
           },
           "baxis": {
            "gridcolor": "white",
            "linecolor": "white",
            "ticks": ""
           },
           "bgcolor": "#E5ECF6",
           "caxis": {
            "gridcolor": "white",
            "linecolor": "white",
            "ticks": ""
           }
          },
          "title": {
           "x": 0.05
          },
          "xaxis": {
           "automargin": true,
           "gridcolor": "white",
           "linecolor": "white",
           "ticks": "",
           "title": {
            "standoff": 15
           },
           "zerolinecolor": "white",
           "zerolinewidth": 2
          },
          "yaxis": {
           "automargin": true,
           "gridcolor": "white",
           "linecolor": "white",
           "ticks": "",
           "title": {
            "standoff": 15
           },
           "zerolinecolor": "white",
           "zerolinewidth": 2
          }
         }
        },
        "title": {
         "text": "Stacked Accidents for Micro Vehicles in Jerusalem by Age Group and Year"
        },
        "xaxis": {
         "anchor": "y",
         "domain": [
          0,
          1
         ],
         "title": {
          "text": "Accident Year"
         },
         "type": "category"
        },
        "yaxis": {
         "anchor": "x",
         "domain": [
          0,
          1
         ],
         "title": {
          "text": "Number of Accidents"
         }
        }
       }
      }
     },
     "metadata": {},
     "output_type": "display_data"
    }
   ],
   "source": [
    "\n",
    "# filtering for: no unknown ages (99), micro vehicle\n",
    "imh_jer_gb_age_year = imh_jer[(imh_jer.age_group > 1) & (imh_jer.age_group < 14) & (imh_jer.involve_vehicle_type.isin(micro_vehicle))].copy()\n",
    "imh_jer_gb_age_year = imh_jer_gb_age_year.groupby(['accident_year', 'age_group_hebrew']).size().reset_index(name='count')\n",
    "\n",
    "# Pivot the data for the stacked bar chart, filling any NaNs with 0\n",
    "imh_jer_pivot = imh_jer_gb_age_year.pivot(index='accident_year', columns='age_group_hebrew', values='count').fillna(0)\n",
    "\n",
    "# Sort the columns in ascending order to ensure the youngest age groups are at the bottom of the stack\n",
    "imh_jer_pivot = imh_jer_pivot.sort_index(axis=1, ascending=True)\n",
    "\n",
    "# Create the stacked bar chart\n",
    "fig = px.area(\n",
    "    imh_jer_pivot,\n",
    "    title='Stacked Accidents for Micro Vehicles in Jerusalem by Age Group and Year',\n",
    "    labels={'value': 'Number of Accidents', 'variable': 'Age Group', 'accident_year': 'Accident Year'}\n",
    ")\n",
    "\n",
    "# Update the layout to stack the bars\n",
    "fig.update_layout(\n",
    "    barmode='stack',\n",
    "    xaxis_title='Accident Year',\n",
    "    yaxis_title='Number of Accidents',\n",
    "    legend_title='Age Group',\n",
    "    xaxis=dict(type='category')\n",
    ")\n",
    "\n",
    "# Show the plot\n",
    "fig.show()"
   ]
  },
  {
   "cell_type": "code",
   "execution_count": 56,
   "id": "365688d7",
   "metadata": {},
   "outputs": [
    {
     "data": {
      "text/html": [
       "<div>\n",
       "<style scoped>\n",
       "    .dataframe tbody tr th:only-of-type {\n",
       "        vertical-align: middle;\n",
       "    }\n",
       "\n",
       "    .dataframe tbody tr th {\n",
       "        vertical-align: top;\n",
       "    }\n",
       "\n",
       "    .dataframe thead th {\n",
       "        text-align: right;\n",
       "    }\n",
       "</style>\n",
       "<table border=\"1\" class=\"dataframe\">\n",
       "  <thead>\n",
       "    <tr style=\"text-align: right;\">\n",
       "      <th></th>\n",
       "      <th>settlement_shape</th>\n",
       "      <th>settlement_code</th>\n",
       "      <th>settlement_name</th>\n",
       "      <th>population</th>\n",
       "      <th>0_4</th>\n",
       "      <th>5_9</th>\n",
       "      <th>10_14</th>\n",
       "      <th>15_19</th>\n",
       "      <th>20_24</th>\n",
       "      <th>25_29</th>\n",
       "      <th>...</th>\n",
       "      <th>55_59</th>\n",
       "      <th>60_64</th>\n",
       "      <th>65_69</th>\n",
       "      <th>70_74</th>\n",
       "      <th>75_plus</th>\n",
       "      <th>pop_year</th>\n",
       "      <th>75_79</th>\n",
       "      <th>84-80</th>\n",
       "      <th>85+</th>\n",
       "      <th>65+</th>\n",
       "    </tr>\n",
       "  </thead>\n",
       "  <tbody>\n",
       "    <tr>\n",
       "      <th>0</th>\n",
       "      <td>120</td>\n",
       "      <td>3000.0</td>\n",
       "      <td>ירושלים</td>\n",
       "      <td>849780</td>\n",
       "      <td>107190</td>\n",
       "      <td>93710</td>\n",
       "      <td>86910</td>\n",
       "      <td>80550</td>\n",
       "      <td>75210</td>\n",
       "      <td>64870</td>\n",
       "      <td>...</td>\n",
       "      <td>30620</td>\n",
       "      <td>28010</td>\n",
       "      <td>23880</td>\n",
       "      <td>15540</td>\n",
       "      <td>34610</td>\n",
       "      <td>2014</td>\n",
       "      <td>NaN</td>\n",
       "      <td>NaN</td>\n",
       "      <td>NaN</td>\n",
       "      <td>NaN</td>\n",
       "    </tr>\n",
       "    <tr>\n",
       "      <th>1211</th>\n",
       "      <td>120</td>\n",
       "      <td>3000.0</td>\n",
       "      <td>ירושלים</td>\n",
       "      <td>865721</td>\n",
       "      <td>108491</td>\n",
       "      <td>96380</td>\n",
       "      <td>87844</td>\n",
       "      <td>81672</td>\n",
       "      <td>76675</td>\n",
       "      <td>65819</td>\n",
       "      <td>...</td>\n",
       "      <td>31113</td>\n",
       "      <td>28403</td>\n",
       "      <td>25094</td>\n",
       "      <td>16247</td>\n",
       "      <td>35289</td>\n",
       "      <td>2015</td>\n",
       "      <td>NaN</td>\n",
       "      <td>NaN</td>\n",
       "      <td>NaN</td>\n",
       "      <td>NaN</td>\n",
       "    </tr>\n",
       "    <tr>\n",
       "      <th>2425</th>\n",
       "      <td>120</td>\n",
       "      <td>3000.0</td>\n",
       "      <td>ירושלים</td>\n",
       "      <td>882652</td>\n",
       "      <td>110386</td>\n",
       "      <td>98268</td>\n",
       "      <td>89351</td>\n",
       "      <td>83357</td>\n",
       "      <td>77991</td>\n",
       "      <td>66642</td>\n",
       "      <td>...</td>\n",
       "      <td>31794</td>\n",
       "      <td>28446</td>\n",
       "      <td>25721</td>\n",
       "      <td>17791</td>\n",
       "      <td>35608</td>\n",
       "      <td>2016</td>\n",
       "      <td>NaN</td>\n",
       "      <td>NaN</td>\n",
       "      <td>NaN</td>\n",
       "      <td>NaN</td>\n",
       "    </tr>\n",
       "    <tr>\n",
       "      <th>3639</th>\n",
       "      <td>120</td>\n",
       "      <td>3000.0</td>\n",
       "      <td>ירושלים</td>\n",
       "      <td>901302</td>\n",
       "      <td>112563</td>\n",
       "      <td>100444</td>\n",
       "      <td>90239</td>\n",
       "      <td>85366</td>\n",
       "      <td>79761</td>\n",
       "      <td>68231</td>\n",
       "      <td>...</td>\n",
       "      <td>32234</td>\n",
       "      <td>28811</td>\n",
       "      <td>25901</td>\n",
       "      <td>19792</td>\n",
       "      <td>36129</td>\n",
       "      <td>2017</td>\n",
       "      <td>NaN</td>\n",
       "      <td>NaN</td>\n",
       "      <td>NaN</td>\n",
       "      <td>NaN</td>\n",
       "    </tr>\n",
       "    <tr>\n",
       "      <th>4854</th>\n",
       "      <td>120</td>\n",
       "      <td>3000.0</td>\n",
       "      <td>ירושלים</td>\n",
       "      <td>919438</td>\n",
       "      <td>114857</td>\n",
       "      <td>102064</td>\n",
       "      <td>91524</td>\n",
       "      <td>87179</td>\n",
       "      <td>81406</td>\n",
       "      <td>70012</td>\n",
       "      <td>...</td>\n",
       "      <td>32449</td>\n",
       "      <td>29286</td>\n",
       "      <td>26258</td>\n",
       "      <td>21397</td>\n",
       "      <td>36718</td>\n",
       "      <td>2018</td>\n",
       "      <td>NaN</td>\n",
       "      <td>NaN</td>\n",
       "      <td>NaN</td>\n",
       "      <td>NaN</td>\n",
       "    </tr>\n",
       "    <tr>\n",
       "      <th>6072</th>\n",
       "      <td>120</td>\n",
       "      <td>3000.0</td>\n",
       "      <td>ירושלים</td>\n",
       "      <td>936425</td>\n",
       "      <td>116731</td>\n",
       "      <td>103618</td>\n",
       "      <td>93117</td>\n",
       "      <td>88676</td>\n",
       "      <td>82568</td>\n",
       "      <td>71915</td>\n",
       "      <td>...</td>\n",
       "      <td>32747</td>\n",
       "      <td>29911</td>\n",
       "      <td>26812</td>\n",
       "      <td>22330</td>\n",
       "      <td>NaN</td>\n",
       "      <td>2019</td>\n",
       "      <td>13874</td>\n",
       "      <td>11594</td>\n",
       "      <td>11969</td>\n",
       "      <td>NaN</td>\n",
       "    </tr>\n",
       "    <tr>\n",
       "      <th>7290</th>\n",
       "      <td>120</td>\n",
       "      <td>3000.0</td>\n",
       "      <td>ירושלים</td>\n",
       "      <td>951148</td>\n",
       "      <td>117701</td>\n",
       "      <td>104641</td>\n",
       "      <td>95934</td>\n",
       "      <td>89793</td>\n",
       "      <td>83273</td>\n",
       "      <td>72682</td>\n",
       "      <td>...</td>\n",
       "      <td>32854</td>\n",
       "      <td>30419</td>\n",
       "      <td>27184</td>\n",
       "      <td>23426</td>\n",
       "      <td>NaN</td>\n",
       "      <td>2020</td>\n",
       "      <td>14457</td>\n",
       "      <td>11596</td>\n",
       "      <td>12165</td>\n",
       "      <td>NaN</td>\n",
       "    </tr>\n",
       "    <tr>\n",
       "      <th>8510</th>\n",
       "      <td>NaN</td>\n",
       "      <td>3000.0</td>\n",
       "      <td>ירושלים</td>\n",
       "      <td>966207.0</td>\n",
       "      <td>118398.0</td>\n",
       "      <td>106026.0</td>\n",
       "      <td>97410.0</td>\n",
       "      <td>90874.0</td>\n",
       "      <td>84723.0</td>\n",
       "      <td>73993.0</td>\n",
       "      <td>...</td>\n",
       "      <td>33251.0</td>\n",
       "      <td>31051.0</td>\n",
       "      <td>NaN</td>\n",
       "      <td>NaN</td>\n",
       "      <td>NaN</td>\n",
       "      <td>2021</td>\n",
       "      <td>NaN</td>\n",
       "      <td>NaN</td>\n",
       "      <td>NaN</td>\n",
       "      <td>91123.0</td>\n",
       "    </tr>\n",
       "    <tr>\n",
       "      <th>9598</th>\n",
       "      <td>120</td>\n",
       "      <td>3000.0</td>\n",
       "      <td>ירושלים</td>\n",
       "      <td>981,711</td>\n",
       "      <td>117,351</td>\n",
       "      <td>106,900</td>\n",
       "      <td>98,968</td>\n",
       "      <td>92,111</td>\n",
       "      <td>87,682</td>\n",
       "      <td>75,185</td>\n",
       "      <td>...</td>\n",
       "      <td>33,542</td>\n",
       "      <td>31,640</td>\n",
       "      <td>27,650</td>\n",
       "      <td>24,348</td>\n",
       "      <td>NaN</td>\n",
       "      <td>2022</td>\n",
       "      <td>17,719</td>\n",
       "      <td>11,131</td>\n",
       "      <td>12,759</td>\n",
       "      <td>NaN</td>\n",
       "    </tr>\n",
       "  </tbody>\n",
       "</table>\n",
       "<p>9 rows × 25 columns</p>\n",
       "</div>"
      ],
      "text/plain": [
       "     settlement_shape  settlement_code settlement_name population       0_4  \\\n",
       "0                 120           3000.0         ירושלים     849780    107190   \n",
       "1211              120           3000.0         ירושלים     865721    108491   \n",
       "2425              120           3000.0         ירושלים     882652    110386   \n",
       "3639              120           3000.0         ירושלים     901302    112563   \n",
       "4854              120           3000.0         ירושלים     919438    114857   \n",
       "6072              120           3000.0         ירושלים     936425    116731   \n",
       "7290              120           3000.0         ירושלים     951148    117701   \n",
       "8510              NaN           3000.0         ירושלים   966207.0  118398.0   \n",
       "9598              120           3000.0         ירושלים    981,711   117,351   \n",
       "\n",
       "           5_9    10_14    15_19    20_24    25_29  ...    55_59    60_64  \\\n",
       "0        93710    86910    80550    75210    64870  ...    30620    28010   \n",
       "1211     96380    87844    81672    76675    65819  ...    31113    28403   \n",
       "2425     98268    89351    83357    77991    66642  ...    31794    28446   \n",
       "3639    100444    90239    85366    79761    68231  ...    32234    28811   \n",
       "4854    102064    91524    87179    81406    70012  ...    32449    29286   \n",
       "6072    103618    93117    88676    82568    71915  ...    32747    29911   \n",
       "7290    104641    95934    89793    83273    72682  ...    32854    30419   \n",
       "8510  106026.0  97410.0  90874.0  84723.0  73993.0  ...  33251.0  31051.0   \n",
       "9598   106,900   98,968   92,111   87,682   75,185  ...   33,542   31,640   \n",
       "\n",
       "       65_69   70_74 75_plus pop_year   75_79   84-80     85+      65+  \n",
       "0      23880   15540   34610     2014     NaN     NaN     NaN      NaN  \n",
       "1211   25094   16247   35289     2015     NaN     NaN     NaN      NaN  \n",
       "2425   25721   17791   35608     2016     NaN     NaN     NaN      NaN  \n",
       "3639   25901   19792   36129     2017     NaN     NaN     NaN      NaN  \n",
       "4854   26258   21397   36718     2018     NaN     NaN     NaN      NaN  \n",
       "6072   26812   22330     NaN     2019   13874   11594   11969      NaN  \n",
       "7290   27184   23426     NaN     2020   14457   11596   12165      NaN  \n",
       "8510     NaN     NaN     NaN     2021     NaN     NaN     NaN  91123.0  \n",
       "9598  27,650  24,348     NaN     2022  17,719  11,131  12,759      NaN  \n",
       "\n",
       "[9 rows x 25 columns]"
      ]
     },
     "execution_count": 56,
     "metadata": {},
     "output_type": "execute_result"
    }
   ],
   "source": [
    "all_pop = pd.read_csv('./csv_tables/all_pop.csv')\n",
    "all_pop[all_pop.settlement_code == 3000]"
   ]
  },
  {
   "cell_type": "code",
   "execution_count": 57,
   "id": "bce9577d",
   "metadata": {},
   "outputs": [
    {
     "name": "stderr",
     "output_type": "stream",
     "text": [
      "C:\\Users\\itay8\\AppData\\Local\\Temp\\ipykernel_4468\\1667422475.py:1: DtypeWarning:\n",
      "\n",
      "Columns (44,151) have mixed types. Specify dtype option on import or set low_memory=False.\n",
      "\n"
     ]
    },
    {
     "data": {
      "text/html": [
       "<div>\n",
       "<style scoped>\n",
       "    .dataframe tbody tr th:only-of-type {\n",
       "        vertical-align: middle;\n",
       "    }\n",
       "\n",
       "    .dataframe tbody tr th {\n",
       "        vertical-align: top;\n",
       "    }\n",
       "\n",
       "    .dataframe thead th {\n",
       "        text-align: right;\n",
       "    }\n",
       "</style>\n",
       "<table border=\"1\" class=\"dataframe\">\n",
       "  <thead>\n",
       "    <tr style=\"text-align: right;\">\n",
       "      <th></th>\n",
       "      <th>accident_id</th>\n",
       "      <th>provider_and_id</th>\n",
       "      <th>provider_code</th>\n",
       "      <th>file_type_police</th>\n",
       "      <th>involved_type</th>\n",
       "      <th>involved_type_hebrew</th>\n",
       "      <th>license_acquiring_date</th>\n",
       "      <th>age_group</th>\n",
       "      <th>age_group_hebrew</th>\n",
       "      <th>sex</th>\n",
       "      <th>...</th>\n",
       "      <th>vehicle_status_hebrew</th>\n",
       "      <th>vehicle_attribution</th>\n",
       "      <th>vehicle_attribution_hebrew</th>\n",
       "      <th>seats</th>\n",
       "      <th>total_weight</th>\n",
       "      <th>total_weight_hebrew</th>\n",
       "      <th>vehicle_vehicle_type</th>\n",
       "      <th>vehicle_vehicle_type_hebrew</th>\n",
       "      <th>vehicle_damage</th>\n",
       "      <th>vehicle_damage_hebrew</th>\n",
       "    </tr>\n",
       "  </thead>\n",
       "  <tbody>\n",
       "    <tr>\n",
       "      <th>0</th>\n",
       "      <td>2013001076</td>\n",
       "      <td>32013001076</td>\n",
       "      <td>3</td>\n",
       "      <td>3</td>\n",
       "      <td>1</td>\n",
       "      <td>נהג</td>\n",
       "      <td>2010</td>\n",
       "      <td>13</td>\n",
       "      <td>60-64</td>\n",
       "      <td>1</td>\n",
       "      <td>...</td>\n",
       "      <td>NaN</td>\n",
       "      <td>1.0</td>\n",
       "      <td>ישראלי</td>\n",
       "      <td>3.0</td>\n",
       "      <td>1.0</td>\n",
       "      <td>עד 1.9</td>\n",
       "      <td>12.0</td>\n",
       "      <td>מונית</td>\n",
       "      <td>4.0</td>\n",
       "      <td>אין נזק</td>\n",
       "    </tr>\n",
       "    <tr>\n",
       "      <th>1</th>\n",
       "      <td>2013001885</td>\n",
       "      <td>32013001885</td>\n",
       "      <td>3</td>\n",
       "      <td>3</td>\n",
       "      <td>2</td>\n",
       "      <td>נהג נפגע</td>\n",
       "      <td>2003</td>\n",
       "      <td>7</td>\n",
       "      <td>30-34</td>\n",
       "      <td>1</td>\n",
       "      <td>...</td>\n",
       "      <td>NaN</td>\n",
       "      <td>1.0</td>\n",
       "      <td>ישראלי</td>\n",
       "      <td>1.0</td>\n",
       "      <td>NaN</td>\n",
       "      <td>NaN</td>\n",
       "      <td>10.0</td>\n",
       "      <td>אופנוע 126 עד 400 סמ\"ק</td>\n",
       "      <td>4.0</td>\n",
       "      <td>אין נזק</td>\n",
       "    </tr>\n",
       "    <tr>\n",
       "      <th>2</th>\n",
       "      <td>2013000001</td>\n",
       "      <td>12013000001</td>\n",
       "      <td>1</td>\n",
       "      <td>1</td>\n",
       "      <td>3</td>\n",
       "      <td>נפגע</td>\n",
       "      <td>0</td>\n",
       "      <td>12</td>\n",
       "      <td>55-59</td>\n",
       "      <td>1</td>\n",
       "      <td>...</td>\n",
       "      <td>NaN</td>\n",
       "      <td>NaN</td>\n",
       "      <td>NaN</td>\n",
       "      <td>NaN</td>\n",
       "      <td>NaN</td>\n",
       "      <td>NaN</td>\n",
       "      <td>NaN</td>\n",
       "      <td>NaN</td>\n",
       "      <td>NaN</td>\n",
       "      <td>NaN</td>\n",
       "    </tr>\n",
       "    <tr>\n",
       "      <th>3</th>\n",
       "      <td>2013002115</td>\n",
       "      <td>32013002115</td>\n",
       "      <td>3</td>\n",
       "      <td>3</td>\n",
       "      <td>1</td>\n",
       "      <td>נהג</td>\n",
       "      <td>0</td>\n",
       "      <td>99</td>\n",
       "      <td>לא ידוע</td>\n",
       "      <td>0</td>\n",
       "      <td>...</td>\n",
       "      <td>NaN</td>\n",
       "      <td>1.0</td>\n",
       "      <td>ישראלי</td>\n",
       "      <td>99.0</td>\n",
       "      <td>0.0</td>\n",
       "      <td>לא ידוע</td>\n",
       "      <td>17.0</td>\n",
       "      <td>אחר ולא ידוע</td>\n",
       "      <td>1.0</td>\n",
       "      <td>קל</td>\n",
       "    </tr>\n",
       "    <tr>\n",
       "      <th>4</th>\n",
       "      <td>2013000005</td>\n",
       "      <td>12013000005</td>\n",
       "      <td>1</td>\n",
       "      <td>1</td>\n",
       "      <td>1</td>\n",
       "      <td>נהג</td>\n",
       "      <td>2006</td>\n",
       "      <td>10</td>\n",
       "      <td>45-49</td>\n",
       "      <td>1</td>\n",
       "      <td>...</td>\n",
       "      <td>NaN</td>\n",
       "      <td>1.0</td>\n",
       "      <td>ישראלי</td>\n",
       "      <td>35.0</td>\n",
       "      <td>11.0</td>\n",
       "      <td>16.0-19.0</td>\n",
       "      <td>11.0</td>\n",
       "      <td>אוטובוס</td>\n",
       "      <td>4.0</td>\n",
       "      <td>אין נזק</td>\n",
       "    </tr>\n",
       "    <tr>\n",
       "      <th>...</th>\n",
       "      <td>...</td>\n",
       "      <td>...</td>\n",
       "      <td>...</td>\n",
       "      <td>...</td>\n",
       "      <td>...</td>\n",
       "      <td>...</td>\n",
       "      <td>...</td>\n",
       "      <td>...</td>\n",
       "      <td>...</td>\n",
       "      <td>...</td>\n",
       "      <td>...</td>\n",
       "      <td>...</td>\n",
       "      <td>...</td>\n",
       "      <td>...</td>\n",
       "      <td>...</td>\n",
       "      <td>...</td>\n",
       "      <td>...</td>\n",
       "      <td>...</td>\n",
       "      <td>...</td>\n",
       "      <td>...</td>\n",
       "      <td>...</td>\n",
       "    </tr>\n",
       "    <tr>\n",
       "      <th>107196</th>\n",
       "      <td>2023098840</td>\n",
       "      <td>32023098840</td>\n",
       "      <td>3</td>\n",
       "      <td>3</td>\n",
       "      <td>3</td>\n",
       "      <td>נפגע</td>\n",
       "      <td>0</td>\n",
       "      <td>7</td>\n",
       "      <td>30-34</td>\n",
       "      <td>2</td>\n",
       "      <td>...</td>\n",
       "      <td>NaN</td>\n",
       "      <td>NaN</td>\n",
       "      <td>NaN</td>\n",
       "      <td>NaN</td>\n",
       "      <td>NaN</td>\n",
       "      <td>NaN</td>\n",
       "      <td>NaN</td>\n",
       "      <td>NaN</td>\n",
       "      <td>NaN</td>\n",
       "      <td>NaN</td>\n",
       "    </tr>\n",
       "    <tr>\n",
       "      <th>107197</th>\n",
       "      <td>2023098343</td>\n",
       "      <td>12023098343</td>\n",
       "      <td>1</td>\n",
       "      <td>1</td>\n",
       "      <td>1</td>\n",
       "      <td>נהג</td>\n",
       "      <td>2015</td>\n",
       "      <td>6</td>\n",
       "      <td>25-29</td>\n",
       "      <td>2</td>\n",
       "      <td>...</td>\n",
       "      <td>NaN</td>\n",
       "      <td>1.0</td>\n",
       "      <td>ישראלי</td>\n",
       "      <td>99.0</td>\n",
       "      <td>1.0</td>\n",
       "      <td>עד 1.9</td>\n",
       "      <td>1.0</td>\n",
       "      <td>רכב נוסעים פרטי</td>\n",
       "      <td>4.0</td>\n",
       "      <td>אין נזק</td>\n",
       "    </tr>\n",
       "    <tr>\n",
       "      <th>107198</th>\n",
       "      <td>2023097423</td>\n",
       "      <td>32023097423</td>\n",
       "      <td>3</td>\n",
       "      <td>3</td>\n",
       "      <td>1</td>\n",
       "      <td>נהג</td>\n",
       "      <td>2019</td>\n",
       "      <td>5</td>\n",
       "      <td>20-24</td>\n",
       "      <td>1</td>\n",
       "      <td>...</td>\n",
       "      <td>NaN</td>\n",
       "      <td>1.0</td>\n",
       "      <td>ישראלי</td>\n",
       "      <td>99.0</td>\n",
       "      <td>0.0</td>\n",
       "      <td>לא ידוע</td>\n",
       "      <td>17.0</td>\n",
       "      <td>אחר ולא ידוע</td>\n",
       "      <td>4.0</td>\n",
       "      <td>אין נזק</td>\n",
       "    </tr>\n",
       "    <tr>\n",
       "      <th>107199</th>\n",
       "      <td>2023099879</td>\n",
       "      <td>12023099879</td>\n",
       "      <td>1</td>\n",
       "      <td>1</td>\n",
       "      <td>3</td>\n",
       "      <td>נפגע</td>\n",
       "      <td>0</td>\n",
       "      <td>15</td>\n",
       "      <td>70-74</td>\n",
       "      <td>2</td>\n",
       "      <td>...</td>\n",
       "      <td>NaN</td>\n",
       "      <td>NaN</td>\n",
       "      <td>NaN</td>\n",
       "      <td>NaN</td>\n",
       "      <td>NaN</td>\n",
       "      <td>NaN</td>\n",
       "      <td>NaN</td>\n",
       "      <td>NaN</td>\n",
       "      <td>NaN</td>\n",
       "      <td>NaN</td>\n",
       "    </tr>\n",
       "    <tr>\n",
       "      <th>107200</th>\n",
       "      <td>2023099292</td>\n",
       "      <td>32023099292</td>\n",
       "      <td>3</td>\n",
       "      <td>3</td>\n",
       "      <td>2</td>\n",
       "      <td>נהג נפגע</td>\n",
       "      <td>2022</td>\n",
       "      <td>4</td>\n",
       "      <td>15-19</td>\n",
       "      <td>1</td>\n",
       "      <td>...</td>\n",
       "      <td>NaN</td>\n",
       "      <td>1.0</td>\n",
       "      <td>ישראלי</td>\n",
       "      <td>1.0</td>\n",
       "      <td>1.0</td>\n",
       "      <td>עד 1.9</td>\n",
       "      <td>9.0</td>\n",
       "      <td>אופנוע 51 עד 125 סמ\"ק</td>\n",
       "      <td>4.0</td>\n",
       "      <td>אין נזק</td>\n",
       "    </tr>\n",
       "  </tbody>\n",
       "</table>\n",
       "<p>107201 rows × 161 columns</p>\n",
       "</div>"
      ],
      "text/plain": [
       "        accident_id  provider_and_id  provider_code  file_type_police  \\\n",
       "0        2013001076      32013001076              3                 3   \n",
       "1        2013001885      32013001885              3                 3   \n",
       "2        2013000001      12013000001              1                 1   \n",
       "3        2013002115      32013002115              3                 3   \n",
       "4        2013000005      12013000005              1                 1   \n",
       "...             ...              ...            ...               ...   \n",
       "107196   2023098840      32023098840              3                 3   \n",
       "107197   2023098343      12023098343              1                 1   \n",
       "107198   2023097423      32023097423              3                 3   \n",
       "107199   2023099879      12023099879              1                 1   \n",
       "107200   2023099292      32023099292              3                 3   \n",
       "\n",
       "        involved_type involved_type_hebrew  license_acquiring_date  age_group  \\\n",
       "0                   1                  נהג                    2010         13   \n",
       "1                   2             נהג נפגע                    2003          7   \n",
       "2                   3                 נפגע                       0         12   \n",
       "3                   1                  נהג                       0         99   \n",
       "4                   1                  נהג                    2006         10   \n",
       "...               ...                  ...                     ...        ...   \n",
       "107196              3                 נפגע                       0          7   \n",
       "107197              1                  נהג                    2015          6   \n",
       "107198              1                  נהג                    2019          5   \n",
       "107199              3                 נפגע                       0         15   \n",
       "107200              2             נהג נפגע                    2022          4   \n",
       "\n",
       "       age_group_hebrew  sex  ... vehicle_status_hebrew  vehicle_attribution  \\\n",
       "0                 60-64    1  ...                   NaN                  1.0   \n",
       "1                 30-34    1  ...                   NaN                  1.0   \n",
       "2                 55-59    1  ...                   NaN                  NaN   \n",
       "3               לא ידוע    0  ...                   NaN                  1.0   \n",
       "4                 45-49    1  ...                   NaN                  1.0   \n",
       "...                 ...  ...  ...                   ...                  ...   \n",
       "107196            30-34    2  ...                   NaN                  NaN   \n",
       "107197            25-29    2  ...                   NaN                  1.0   \n",
       "107198            20-24    1  ...                   NaN                  1.0   \n",
       "107199            70-74    2  ...                   NaN                  NaN   \n",
       "107200            15-19    1  ...                   NaN                  1.0   \n",
       "\n",
       "       vehicle_attribution_hebrew  seats total_weight  total_weight_hebrew  \\\n",
       "0                          ישראלי    3.0          1.0               עד 1.9   \n",
       "1                          ישראלי    1.0          NaN                  NaN   \n",
       "2                             NaN    NaN          NaN                  NaN   \n",
       "3                          ישראלי   99.0          0.0              לא ידוע   \n",
       "4                          ישראלי   35.0         11.0            16.0-19.0   \n",
       "...                           ...    ...          ...                  ...   \n",
       "107196                        NaN    NaN          NaN                  NaN   \n",
       "107197                     ישראלי   99.0          1.0               עד 1.9   \n",
       "107198                     ישראלי   99.0          0.0              לא ידוע   \n",
       "107199                        NaN    NaN          NaN                  NaN   \n",
       "107200                     ישראלי    1.0          1.0               עד 1.9   \n",
       "\n",
       "       vehicle_vehicle_type  vehicle_vehicle_type_hebrew vehicle_damage  \\\n",
       "0                      12.0                        מונית            4.0   \n",
       "1                      10.0       אופנוע 126 עד 400 סמ\"ק            4.0   \n",
       "2                       NaN                          NaN            NaN   \n",
       "3                      17.0                 אחר ולא ידוע            1.0   \n",
       "4                      11.0                      אוטובוס            4.0   \n",
       "...                     ...                          ...            ...   \n",
       "107196                  NaN                          NaN            NaN   \n",
       "107197                  1.0              רכב נוסעים פרטי            4.0   \n",
       "107198                 17.0                 אחר ולא ידוע            4.0   \n",
       "107199                  NaN                          NaN            NaN   \n",
       "107200                  9.0        אופנוע 51 עד 125 סמ\"ק            4.0   \n",
       "\n",
       "        vehicle_damage_hebrew  \n",
       "0                     אין נזק  \n",
       "1                     אין נזק  \n",
       "2                         NaN  \n",
       "3                          קל  \n",
       "4                     אין נזק  \n",
       "...                       ...  \n",
       "107196                    NaN  \n",
       "107197                אין נזק  \n",
       "107198                אין נזק  \n",
       "107199                    NaN  \n",
       "107200                אין נזק  \n",
       "\n",
       "[107201 rows x 161 columns]"
      ]
     },
     "execution_count": 57,
     "metadata": {},
     "output_type": "execute_result"
    }
   ],
   "source": [
    "imh_ta = pd.read_csv('./csv_tables/i_m_h_tel_aviv_yafo.csv')\n",
    "imh_ta"
   ]
  },
  {
   "cell_type": "markdown",
   "id": "49c869fc",
   "metadata": {},
   "source": [
    "### Tel Aviv"
   ]
  },
  {
   "cell_type": "code",
   "execution_count": 58,
   "id": "82773ad4",
   "metadata": {},
   "outputs": [
    {
     "data": {
      "application/vnd.plotly.v1+json": {
       "config": {
        "plotlyServerURL": "https://plot.ly"
       },
       "data": [
        {
         "fillpattern": {
          "shape": ""
         },
         "hovertemplate": "age_group_hebrew=05-09<br>Accident Year=%{x}<br>Number of Accidents=%{y}<extra></extra>",
         "legendgroup": "05-09",
         "line": {
          "color": "#636efa"
         },
         "marker": {
          "symbol": "circle"
         },
         "mode": "lines",
         "name": "05-09",
         "orientation": "v",
         "showlegend": true,
         "stackgroup": "1",
         "type": "scatter",
         "x": [
          2013,
          2014,
          2015,
          2016,
          2017,
          2018,
          2019,
          2020,
          2021,
          2022,
          2023
         ],
         "xaxis": "x",
         "y": [
          7,
          9,
          3,
          6,
          8,
          3,
          6,
          8,
          2,
          3,
          3
         ],
         "yaxis": "y"
        },
        {
         "fillpattern": {
          "shape": ""
         },
         "hovertemplate": "age_group_hebrew=10-14<br>Accident Year=%{x}<br>Number of Accidents=%{y}<extra></extra>",
         "legendgroup": "10-14",
         "line": {
          "color": "#EF553B"
         },
         "marker": {
          "symbol": "circle"
         },
         "mode": "lines",
         "name": "10-14",
         "orientation": "v",
         "showlegend": true,
         "stackgroup": "1",
         "type": "scatter",
         "x": [
          2013,
          2014,
          2015,
          2016,
          2017,
          2018,
          2019,
          2020,
          2021,
          2022,
          2023
         ],
         "xaxis": "x",
         "y": [
          36,
          39,
          38,
          25,
          35,
          11,
          9,
          17,
          19,
          15,
          13
         ],
         "yaxis": "y"
        },
        {
         "fillpattern": {
          "shape": ""
         },
         "hovertemplate": "age_group_hebrew=15-19<br>Accident Year=%{x}<br>Number of Accidents=%{y}<extra></extra>",
         "legendgroup": "15-19",
         "line": {
          "color": "#00cc96"
         },
         "marker": {
          "symbol": "circle"
         },
         "mode": "lines",
         "name": "15-19",
         "orientation": "v",
         "showlegend": true,
         "stackgroup": "1",
         "type": "scatter",
         "x": [
          2013,
          2014,
          2015,
          2016,
          2017,
          2018,
          2019,
          2020,
          2021,
          2022,
          2023
         ],
         "xaxis": "x",
         "y": [
          41,
          61,
          60,
          76,
          75,
          58,
          55,
          54,
          67,
          57,
          43
         ],
         "yaxis": "y"
        },
        {
         "fillpattern": {
          "shape": ""
         },
         "hovertemplate": "age_group_hebrew=20-24<br>Accident Year=%{x}<br>Number of Accidents=%{y}<extra></extra>",
         "legendgroup": "20-24",
         "line": {
          "color": "#ab63fa"
         },
         "marker": {
          "symbol": "circle"
         },
         "mode": "lines",
         "name": "20-24",
         "orientation": "v",
         "showlegend": true,
         "stackgroup": "1",
         "type": "scatter",
         "x": [
          2013,
          2014,
          2015,
          2016,
          2017,
          2018,
          2019,
          2020,
          2021,
          2022,
          2023
         ],
         "xaxis": "x",
         "y": [
          35,
          71,
          78,
          73,
          76,
          80,
          98,
          104,
          102,
          99,
          62
         ],
         "yaxis": "y"
        },
        {
         "fillpattern": {
          "shape": ""
         },
         "hovertemplate": "age_group_hebrew=25-29<br>Accident Year=%{x}<br>Number of Accidents=%{y}<extra></extra>",
         "legendgroup": "25-29",
         "line": {
          "color": "#FFA15A"
         },
         "marker": {
          "symbol": "circle"
         },
         "mode": "lines",
         "name": "25-29",
         "orientation": "v",
         "showlegend": true,
         "stackgroup": "1",
         "type": "scatter",
         "x": [
          2013,
          2014,
          2015,
          2016,
          2017,
          2018,
          2019,
          2020,
          2021,
          2022,
          2023
         ],
         "xaxis": "x",
         "y": [
          63,
          101,
          73,
          121,
          128,
          128,
          138,
          139,
          161,
          147,
          88
         ],
         "yaxis": "y"
        },
        {
         "fillpattern": {
          "shape": ""
         },
         "hovertemplate": "age_group_hebrew=30-34<br>Accident Year=%{x}<br>Number of Accidents=%{y}<extra></extra>",
         "legendgroup": "30-34",
         "line": {
          "color": "#19d3f3"
         },
         "marker": {
          "symbol": "circle"
         },
         "mode": "lines",
         "name": "30-34",
         "orientation": "v",
         "showlegend": true,
         "stackgroup": "1",
         "type": "scatter",
         "x": [
          2013,
          2014,
          2015,
          2016,
          2017,
          2018,
          2019,
          2020,
          2021,
          2022,
          2023
         ],
         "xaxis": "x",
         "y": [
          61,
          80,
          77,
          90,
          102,
          70,
          98,
          116,
          111,
          131,
          88
         ],
         "yaxis": "y"
        },
        {
         "fillpattern": {
          "shape": ""
         },
         "hovertemplate": "age_group_hebrew=35-39<br>Accident Year=%{x}<br>Number of Accidents=%{y}<extra></extra>",
         "legendgroup": "35-39",
         "line": {
          "color": "#FF6692"
         },
         "marker": {
          "symbol": "circle"
         },
         "mode": "lines",
         "name": "35-39",
         "orientation": "v",
         "showlegend": true,
         "stackgroup": "1",
         "type": "scatter",
         "x": [
          2013,
          2014,
          2015,
          2016,
          2017,
          2018,
          2019,
          2020,
          2021,
          2022,
          2023
         ],
         "xaxis": "x",
         "y": [
          40,
          37,
          55,
          58,
          46,
          63,
          63,
          77,
          81,
          79,
          63
         ],
         "yaxis": "y"
        },
        {
         "fillpattern": {
          "shape": ""
         },
         "hovertemplate": "age_group_hebrew=40-44<br>Accident Year=%{x}<br>Number of Accidents=%{y}<extra></extra>",
         "legendgroup": "40-44",
         "line": {
          "color": "#B6E880"
         },
         "marker": {
          "symbol": "circle"
         },
         "mode": "lines",
         "name": "40-44",
         "orientation": "v",
         "showlegend": true,
         "stackgroup": "1",
         "type": "scatter",
         "x": [
          2013,
          2014,
          2015,
          2016,
          2017,
          2018,
          2019,
          2020,
          2021,
          2022,
          2023
         ],
         "xaxis": "x",
         "y": [
          28,
          32,
          44,
          42,
          42,
          33,
          37,
          56,
          50,
          68,
          29
         ],
         "yaxis": "y"
        },
        {
         "fillpattern": {
          "shape": ""
         },
         "hovertemplate": "age_group_hebrew=45-49<br>Accident Year=%{x}<br>Number of Accidents=%{y}<extra></extra>",
         "legendgroup": "45-49",
         "line": {
          "color": "#FF97FF"
         },
         "marker": {
          "symbol": "circle"
         },
         "mode": "lines",
         "name": "45-49",
         "orientation": "v",
         "showlegend": true,
         "stackgroup": "1",
         "type": "scatter",
         "x": [
          2013,
          2014,
          2015,
          2016,
          2017,
          2018,
          2019,
          2020,
          2021,
          2022,
          2023
         ],
         "xaxis": "x",
         "y": [
          24,
          25,
          28,
          41,
          38,
          31,
          43,
          25,
          40,
          40,
          31
         ],
         "yaxis": "y"
        },
        {
         "fillpattern": {
          "shape": ""
         },
         "hovertemplate": "age_group_hebrew=50-54<br>Accident Year=%{x}<br>Number of Accidents=%{y}<extra></extra>",
         "legendgroup": "50-54",
         "line": {
          "color": "#FECB52"
         },
         "marker": {
          "symbol": "circle"
         },
         "mode": "lines",
         "name": "50-54",
         "orientation": "v",
         "showlegend": true,
         "stackgroup": "1",
         "type": "scatter",
         "x": [
          2013,
          2014,
          2015,
          2016,
          2017,
          2018,
          2019,
          2020,
          2021,
          2022,
          2023
         ],
         "xaxis": "x",
         "y": [
          22,
          37,
          35,
          29,
          21,
          16,
          24,
          37,
          31,
          48,
          21
         ],
         "yaxis": "y"
        },
        {
         "fillpattern": {
          "shape": ""
         },
         "hovertemplate": "age_group_hebrew=55-59<br>Accident Year=%{x}<br>Number of Accidents=%{y}<extra></extra>",
         "legendgroup": "55-59",
         "line": {
          "color": "#636efa"
         },
         "marker": {
          "symbol": "circle"
         },
         "mode": "lines",
         "name": "55-59",
         "orientation": "v",
         "showlegend": true,
         "stackgroup": "1",
         "type": "scatter",
         "x": [
          2013,
          2014,
          2015,
          2016,
          2017,
          2018,
          2019,
          2020,
          2021,
          2022,
          2023
         ],
         "xaxis": "x",
         "y": [
          12,
          19,
          19,
          28,
          29,
          18,
          21,
          19,
          28,
          26,
          18
         ],
         "yaxis": "y"
        },
        {
         "fillpattern": {
          "shape": ""
         },
         "hovertemplate": "age_group_hebrew=60-64<br>Accident Year=%{x}<br>Number of Accidents=%{y}<extra></extra>",
         "legendgroup": "60-64",
         "line": {
          "color": "#EF553B"
         },
         "marker": {
          "symbol": "circle"
         },
         "mode": "lines",
         "name": "60-64",
         "orientation": "v",
         "showlegend": true,
         "stackgroup": "1",
         "type": "scatter",
         "x": [
          2013,
          2014,
          2015,
          2016,
          2017,
          2018,
          2019,
          2020,
          2021,
          2022,
          2023
         ],
         "xaxis": "x",
         "y": [
          16,
          23,
          23,
          23,
          23,
          16,
          20,
          20,
          16,
          17,
          24
         ],
         "yaxis": "y"
        }
       ],
       "layout": {
        "barmode": "stack",
        "legend": {
         "title": {
          "text": "Age Group"
         },
         "tracegroupgap": 0
        },
        "template": {
         "data": {
          "bar": [
           {
            "error_x": {
             "color": "#2a3f5f"
            },
            "error_y": {
             "color": "#2a3f5f"
            },
            "marker": {
             "line": {
              "color": "#E5ECF6",
              "width": 0.5
             },
             "pattern": {
              "fillmode": "overlay",
              "size": 10,
              "solidity": 0.2
             }
            },
            "type": "bar"
           }
          ],
          "barpolar": [
           {
            "marker": {
             "line": {
              "color": "#E5ECF6",
              "width": 0.5
             },
             "pattern": {
              "fillmode": "overlay",
              "size": 10,
              "solidity": 0.2
             }
            },
            "type": "barpolar"
           }
          ],
          "carpet": [
           {
            "aaxis": {
             "endlinecolor": "#2a3f5f",
             "gridcolor": "white",
             "linecolor": "white",
             "minorgridcolor": "white",
             "startlinecolor": "#2a3f5f"
            },
            "baxis": {
             "endlinecolor": "#2a3f5f",
             "gridcolor": "white",
             "linecolor": "white",
             "minorgridcolor": "white",
             "startlinecolor": "#2a3f5f"
            },
            "type": "carpet"
           }
          ],
          "choropleth": [
           {
            "colorbar": {
             "outlinewidth": 0,
             "ticks": ""
            },
            "type": "choropleth"
           }
          ],
          "contour": [
           {
            "colorbar": {
             "outlinewidth": 0,
             "ticks": ""
            },
            "colorscale": [
             [
              0,
              "#0d0887"
             ],
             [
              0.1111111111111111,
              "#46039f"
             ],
             [
              0.2222222222222222,
              "#7201a8"
             ],
             [
              0.3333333333333333,
              "#9c179e"
             ],
             [
              0.4444444444444444,
              "#bd3786"
             ],
             [
              0.5555555555555556,
              "#d8576b"
             ],
             [
              0.6666666666666666,
              "#ed7953"
             ],
             [
              0.7777777777777778,
              "#fb9f3a"
             ],
             [
              0.8888888888888888,
              "#fdca26"
             ],
             [
              1,
              "#f0f921"
             ]
            ],
            "type": "contour"
           }
          ],
          "contourcarpet": [
           {
            "colorbar": {
             "outlinewidth": 0,
             "ticks": ""
            },
            "type": "contourcarpet"
           }
          ],
          "heatmap": [
           {
            "colorbar": {
             "outlinewidth": 0,
             "ticks": ""
            },
            "colorscale": [
             [
              0,
              "#0d0887"
             ],
             [
              0.1111111111111111,
              "#46039f"
             ],
             [
              0.2222222222222222,
              "#7201a8"
             ],
             [
              0.3333333333333333,
              "#9c179e"
             ],
             [
              0.4444444444444444,
              "#bd3786"
             ],
             [
              0.5555555555555556,
              "#d8576b"
             ],
             [
              0.6666666666666666,
              "#ed7953"
             ],
             [
              0.7777777777777778,
              "#fb9f3a"
             ],
             [
              0.8888888888888888,
              "#fdca26"
             ],
             [
              1,
              "#f0f921"
             ]
            ],
            "type": "heatmap"
           }
          ],
          "heatmapgl": [
           {
            "colorbar": {
             "outlinewidth": 0,
             "ticks": ""
            },
            "colorscale": [
             [
              0,
              "#0d0887"
             ],
             [
              0.1111111111111111,
              "#46039f"
             ],
             [
              0.2222222222222222,
              "#7201a8"
             ],
             [
              0.3333333333333333,
              "#9c179e"
             ],
             [
              0.4444444444444444,
              "#bd3786"
             ],
             [
              0.5555555555555556,
              "#d8576b"
             ],
             [
              0.6666666666666666,
              "#ed7953"
             ],
             [
              0.7777777777777778,
              "#fb9f3a"
             ],
             [
              0.8888888888888888,
              "#fdca26"
             ],
             [
              1,
              "#f0f921"
             ]
            ],
            "type": "heatmapgl"
           }
          ],
          "histogram": [
           {
            "marker": {
             "pattern": {
              "fillmode": "overlay",
              "size": 10,
              "solidity": 0.2
             }
            },
            "type": "histogram"
           }
          ],
          "histogram2d": [
           {
            "colorbar": {
             "outlinewidth": 0,
             "ticks": ""
            },
            "colorscale": [
             [
              0,
              "#0d0887"
             ],
             [
              0.1111111111111111,
              "#46039f"
             ],
             [
              0.2222222222222222,
              "#7201a8"
             ],
             [
              0.3333333333333333,
              "#9c179e"
             ],
             [
              0.4444444444444444,
              "#bd3786"
             ],
             [
              0.5555555555555556,
              "#d8576b"
             ],
             [
              0.6666666666666666,
              "#ed7953"
             ],
             [
              0.7777777777777778,
              "#fb9f3a"
             ],
             [
              0.8888888888888888,
              "#fdca26"
             ],
             [
              1,
              "#f0f921"
             ]
            ],
            "type": "histogram2d"
           }
          ],
          "histogram2dcontour": [
           {
            "colorbar": {
             "outlinewidth": 0,
             "ticks": ""
            },
            "colorscale": [
             [
              0,
              "#0d0887"
             ],
             [
              0.1111111111111111,
              "#46039f"
             ],
             [
              0.2222222222222222,
              "#7201a8"
             ],
             [
              0.3333333333333333,
              "#9c179e"
             ],
             [
              0.4444444444444444,
              "#bd3786"
             ],
             [
              0.5555555555555556,
              "#d8576b"
             ],
             [
              0.6666666666666666,
              "#ed7953"
             ],
             [
              0.7777777777777778,
              "#fb9f3a"
             ],
             [
              0.8888888888888888,
              "#fdca26"
             ],
             [
              1,
              "#f0f921"
             ]
            ],
            "type": "histogram2dcontour"
           }
          ],
          "mesh3d": [
           {
            "colorbar": {
             "outlinewidth": 0,
             "ticks": ""
            },
            "type": "mesh3d"
           }
          ],
          "parcoords": [
           {
            "line": {
             "colorbar": {
              "outlinewidth": 0,
              "ticks": ""
             }
            },
            "type": "parcoords"
           }
          ],
          "pie": [
           {
            "automargin": true,
            "type": "pie"
           }
          ],
          "scatter": [
           {
            "fillpattern": {
             "fillmode": "overlay",
             "size": 10,
             "solidity": 0.2
            },
            "type": "scatter"
           }
          ],
          "scatter3d": [
           {
            "line": {
             "colorbar": {
              "outlinewidth": 0,
              "ticks": ""
             }
            },
            "marker": {
             "colorbar": {
              "outlinewidth": 0,
              "ticks": ""
             }
            },
            "type": "scatter3d"
           }
          ],
          "scattercarpet": [
           {
            "marker": {
             "colorbar": {
              "outlinewidth": 0,
              "ticks": ""
             }
            },
            "type": "scattercarpet"
           }
          ],
          "scattergeo": [
           {
            "marker": {
             "colorbar": {
              "outlinewidth": 0,
              "ticks": ""
             }
            },
            "type": "scattergeo"
           }
          ],
          "scattergl": [
           {
            "marker": {
             "colorbar": {
              "outlinewidth": 0,
              "ticks": ""
             }
            },
            "type": "scattergl"
           }
          ],
          "scattermapbox": [
           {
            "marker": {
             "colorbar": {
              "outlinewidth": 0,
              "ticks": ""
             }
            },
            "type": "scattermapbox"
           }
          ],
          "scatterpolar": [
           {
            "marker": {
             "colorbar": {
              "outlinewidth": 0,
              "ticks": ""
             }
            },
            "type": "scatterpolar"
           }
          ],
          "scatterpolargl": [
           {
            "marker": {
             "colorbar": {
              "outlinewidth": 0,
              "ticks": ""
             }
            },
            "type": "scatterpolargl"
           }
          ],
          "scatterternary": [
           {
            "marker": {
             "colorbar": {
              "outlinewidth": 0,
              "ticks": ""
             }
            },
            "type": "scatterternary"
           }
          ],
          "surface": [
           {
            "colorbar": {
             "outlinewidth": 0,
             "ticks": ""
            },
            "colorscale": [
             [
              0,
              "#0d0887"
             ],
             [
              0.1111111111111111,
              "#46039f"
             ],
             [
              0.2222222222222222,
              "#7201a8"
             ],
             [
              0.3333333333333333,
              "#9c179e"
             ],
             [
              0.4444444444444444,
              "#bd3786"
             ],
             [
              0.5555555555555556,
              "#d8576b"
             ],
             [
              0.6666666666666666,
              "#ed7953"
             ],
             [
              0.7777777777777778,
              "#fb9f3a"
             ],
             [
              0.8888888888888888,
              "#fdca26"
             ],
             [
              1,
              "#f0f921"
             ]
            ],
            "type": "surface"
           }
          ],
          "table": [
           {
            "cells": {
             "fill": {
              "color": "#EBF0F8"
             },
             "line": {
              "color": "white"
             }
            },
            "header": {
             "fill": {
              "color": "#C8D4E3"
             },
             "line": {
              "color": "white"
             }
            },
            "type": "table"
           }
          ]
         },
         "layout": {
          "annotationdefaults": {
           "arrowcolor": "#2a3f5f",
           "arrowhead": 0,
           "arrowwidth": 1
          },
          "autotypenumbers": "strict",
          "coloraxis": {
           "colorbar": {
            "outlinewidth": 0,
            "ticks": ""
           }
          },
          "colorscale": {
           "diverging": [
            [
             0,
             "#8e0152"
            ],
            [
             0.1,
             "#c51b7d"
            ],
            [
             0.2,
             "#de77ae"
            ],
            [
             0.3,
             "#f1b6da"
            ],
            [
             0.4,
             "#fde0ef"
            ],
            [
             0.5,
             "#f7f7f7"
            ],
            [
             0.6,
             "#e6f5d0"
            ],
            [
             0.7,
             "#b8e186"
            ],
            [
             0.8,
             "#7fbc41"
            ],
            [
             0.9,
             "#4d9221"
            ],
            [
             1,
             "#276419"
            ]
           ],
           "sequential": [
            [
             0,
             "#0d0887"
            ],
            [
             0.1111111111111111,
             "#46039f"
            ],
            [
             0.2222222222222222,
             "#7201a8"
            ],
            [
             0.3333333333333333,
             "#9c179e"
            ],
            [
             0.4444444444444444,
             "#bd3786"
            ],
            [
             0.5555555555555556,
             "#d8576b"
            ],
            [
             0.6666666666666666,
             "#ed7953"
            ],
            [
             0.7777777777777778,
             "#fb9f3a"
            ],
            [
             0.8888888888888888,
             "#fdca26"
            ],
            [
             1,
             "#f0f921"
            ]
           ],
           "sequentialminus": [
            [
             0,
             "#0d0887"
            ],
            [
             0.1111111111111111,
             "#46039f"
            ],
            [
             0.2222222222222222,
             "#7201a8"
            ],
            [
             0.3333333333333333,
             "#9c179e"
            ],
            [
             0.4444444444444444,
             "#bd3786"
            ],
            [
             0.5555555555555556,
             "#d8576b"
            ],
            [
             0.6666666666666666,
             "#ed7953"
            ],
            [
             0.7777777777777778,
             "#fb9f3a"
            ],
            [
             0.8888888888888888,
             "#fdca26"
            ],
            [
             1,
             "#f0f921"
            ]
           ]
          },
          "colorway": [
           "#636efa",
           "#EF553B",
           "#00cc96",
           "#ab63fa",
           "#FFA15A",
           "#19d3f3",
           "#FF6692",
           "#B6E880",
           "#FF97FF",
           "#FECB52"
          ],
          "font": {
           "color": "#2a3f5f"
          },
          "geo": {
           "bgcolor": "white",
           "lakecolor": "white",
           "landcolor": "#E5ECF6",
           "showlakes": true,
           "showland": true,
           "subunitcolor": "white"
          },
          "hoverlabel": {
           "align": "left"
          },
          "hovermode": "closest",
          "mapbox": {
           "style": "light"
          },
          "paper_bgcolor": "white",
          "plot_bgcolor": "#E5ECF6",
          "polar": {
           "angularaxis": {
            "gridcolor": "white",
            "linecolor": "white",
            "ticks": ""
           },
           "bgcolor": "#E5ECF6",
           "radialaxis": {
            "gridcolor": "white",
            "linecolor": "white",
            "ticks": ""
           }
          },
          "scene": {
           "xaxis": {
            "backgroundcolor": "#E5ECF6",
            "gridcolor": "white",
            "gridwidth": 2,
            "linecolor": "white",
            "showbackground": true,
            "ticks": "",
            "zerolinecolor": "white"
           },
           "yaxis": {
            "backgroundcolor": "#E5ECF6",
            "gridcolor": "white",
            "gridwidth": 2,
            "linecolor": "white",
            "showbackground": true,
            "ticks": "",
            "zerolinecolor": "white"
           },
           "zaxis": {
            "backgroundcolor": "#E5ECF6",
            "gridcolor": "white",
            "gridwidth": 2,
            "linecolor": "white",
            "showbackground": true,
            "ticks": "",
            "zerolinecolor": "white"
           }
          },
          "shapedefaults": {
           "line": {
            "color": "#2a3f5f"
           }
          },
          "ternary": {
           "aaxis": {
            "gridcolor": "white",
            "linecolor": "white",
            "ticks": ""
           },
           "baxis": {
            "gridcolor": "white",
            "linecolor": "white",
            "ticks": ""
           },
           "bgcolor": "#E5ECF6",
           "caxis": {
            "gridcolor": "white",
            "linecolor": "white",
            "ticks": ""
           }
          },
          "title": {
           "x": 0.05
          },
          "xaxis": {
           "automargin": true,
           "gridcolor": "white",
           "linecolor": "white",
           "ticks": "",
           "title": {
            "standoff": 15
           },
           "zerolinecolor": "white",
           "zerolinewidth": 2
          },
          "yaxis": {
           "automargin": true,
           "gridcolor": "white",
           "linecolor": "white",
           "ticks": "",
           "title": {
            "standoff": 15
           },
           "zerolinecolor": "white",
           "zerolinewidth": 2
          }
         }
        },
        "title": {
         "text": "Stacked Accidents for Micro Vehicles in tausalem by Age Group and Year"
        },
        "xaxis": {
         "anchor": "y",
         "domain": [
          0,
          1
         ],
         "title": {
          "text": "Accident Year"
         },
         "type": "category"
        },
        "yaxis": {
         "anchor": "x",
         "domain": [
          0,
          1
         ],
         "title": {
          "text": "Number of Accidents"
         }
        }
       }
      }
     },
     "metadata": {},
     "output_type": "display_data"
    }
   ],
   "source": [
    "\n",
    "# filtering for: no unknown ages (99), micro vehicle\n",
    "imh_ta_gb_age_year = imh_ta[(imh_ta.age_group > 1) & (imh_ta.age_group < 14) & (imh_ta.involve_vehicle_type.isin(micro_vehicle))].copy()\n",
    "imh_ta_gb_age_year = imh_ta_gb_age_year.groupby(['accident_year', 'age_group_hebrew']).size().reset_index(name='count')\n",
    "\n",
    "# Pivot the data for the stacked bar chart, filling any NaNs with 0\n",
    "imh_ta_pivot = imh_ta_gb_age_year.pivot(index='accident_year', columns='age_group_hebrew', values='count').fillna(0)\n",
    "\n",
    "# Sort the columns in ascending order to ensure the youngest age groups are at the bottom of the stack\n",
    "imh_ta_pivot = imh_ta_pivot.sort_index(axis=1, ascending=True)\n",
    "\n",
    "# Create the stacked bar chart\n",
    "fig = px.area(\n",
    "    imh_ta_pivot,\n",
    "    title='Stacked Accidents for Micro Vehicles in tausalem by Age Group and Year',\n",
    "    labels={'value': 'Number of Accidents', 'variable': 'Age Group', 'accident_year': 'Accident Year'}\n",
    ")\n",
    "\n",
    "# Update the layout to stack the bars\n",
    "fig.update_layout(\n",
    "    barmode='stack',\n",
    "    xaxis_title='Accident Year',\n",
    "    yaxis_title='Number of Accidents',\n",
    "    legend_title='Age Group',\n",
    "    xaxis=dict(type='category')\n",
    ")\n",
    "\n",
    "# Show the plot\n",
    "fig.show()"
   ]
  },
  {
   "cell_type": "markdown",
   "id": "1ba40c47",
   "metadata": {},
   "source": [
    "Points to consider:\n",
    "* micro mobility accidents are more related to the city since less people come to that city\n"
   ]
  }
 ],
 "metadata": {
  "kernelspec": {
   "display_name": "Python 3 (ipykernel)",
   "language": "python",
   "name": "python3"
  },
  "language_info": {
   "codemirror_mode": {
    "name": "ipython",
    "version": 3
   },
   "file_extension": ".py",
   "mimetype": "text/x-python",
   "name": "python",
   "nbconvert_exporter": "python",
   "pygments_lexer": "ipython3",
   "version": "3.9.13"
  }
 },
 "nbformat": 4,
 "nbformat_minor": 5
}
