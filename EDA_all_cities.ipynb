{
 "cells": [
  {
   "cell_type": "code",
   "execution_count": 2,
   "id": "0fd347f3",
   "metadata": {},
   "outputs": [],
   "source": [
    "import pandas as pd\n",
    "import numpy as np\n",
    "import plotly.express as px\n",
    "import matplotlib.pyplot as plt\n",
    "\n",
    "import warnings\n",
    "warnings.simplefilter(action='ignore', category=FutureWarning)\n"
   ]
  },
  {
   "cell_type": "code",
   "execution_count": 2,
   "id": "95e96e5e",
   "metadata": {},
   "outputs": [
    {
     "name": "stderr",
     "output_type": "stream",
     "text": [
      "C:\\Users\\itay8\\AppData\\Local\\Temp\\ipykernel_5824\\2317383670.py:1: DtypeWarning: Columns (151) have mixed types. Specify dtype option on import or set low_memory=False.\n",
      "  imh = pd.read_csv('./csv_tables/involved_markers_hebrew.csv')\n"
     ]
    },
    {
     "data": {
      "text/html": [
       "<div>\n",
       "<style scoped>\n",
       "    .dataframe tbody tr th:only-of-type {\n",
       "        vertical-align: middle;\n",
       "    }\n",
       "\n",
       "    .dataframe tbody tr th {\n",
       "        vertical-align: top;\n",
       "    }\n",
       "\n",
       "    .dataframe thead th {\n",
       "        text-align: right;\n",
       "    }\n",
       "</style>\n",
       "<table border=\"1\" class=\"dataframe\">\n",
       "  <thead>\n",
       "    <tr style=\"text-align: right;\">\n",
       "      <th></th>\n",
       "      <th>accident_id</th>\n",
       "      <th>provider_and_id</th>\n",
       "      <th>provider_code</th>\n",
       "      <th>file_type_police</th>\n",
       "      <th>involved_type</th>\n",
       "      <th>involved_type_hebrew</th>\n",
       "      <th>license_acquiring_date</th>\n",
       "      <th>age_group</th>\n",
       "      <th>age_group_hebrew</th>\n",
       "      <th>sex</th>\n",
       "      <th>...</th>\n",
       "      <th>vehicle_status_hebrew</th>\n",
       "      <th>vehicle_attribution</th>\n",
       "      <th>vehicle_attribution_hebrew</th>\n",
       "      <th>seats</th>\n",
       "      <th>total_weight</th>\n",
       "      <th>total_weight_hebrew</th>\n",
       "      <th>vehicle_vehicle_type</th>\n",
       "      <th>vehicle_vehicle_type_hebrew</th>\n",
       "      <th>vehicle_damage</th>\n",
       "      <th>vehicle_damage_hebrew</th>\n",
       "    </tr>\n",
       "  </thead>\n",
       "  <tbody>\n",
       "    <tr>\n",
       "      <th>0</th>\n",
       "      <td>2013001445</td>\n",
       "      <td>12013001445</td>\n",
       "      <td>1</td>\n",
       "      <td>1</td>\n",
       "      <td>3</td>\n",
       "      <td>נפגע</td>\n",
       "      <td>0</td>\n",
       "      <td>4</td>\n",
       "      <td>15-19</td>\n",
       "      <td>1.0</td>\n",
       "      <td>...</td>\n",
       "      <td>NaN</td>\n",
       "      <td>1.0</td>\n",
       "      <td>ישראלי</td>\n",
       "      <td>99.0</td>\n",
       "      <td>NaN</td>\n",
       "      <td>NaN</td>\n",
       "      <td>1.0</td>\n",
       "      <td>רכב נוסעים פרטי</td>\n",
       "      <td>3.0</td>\n",
       "      <td>קשה</td>\n",
       "    </tr>\n",
       "    <tr>\n",
       "      <th>1</th>\n",
       "      <td>2023057591</td>\n",
       "      <td>32023057591</td>\n",
       "      <td>3</td>\n",
       "      <td>3</td>\n",
       "      <td>1</td>\n",
       "      <td>נהג</td>\n",
       "      <td>2021</td>\n",
       "      <td>6</td>\n",
       "      <td>25-29</td>\n",
       "      <td>2.0</td>\n",
       "      <td>...</td>\n",
       "      <td>NaN</td>\n",
       "      <td>1.0</td>\n",
       "      <td>ישראלי</td>\n",
       "      <td>99.0</td>\n",
       "      <td>NaN</td>\n",
       "      <td>NaN</td>\n",
       "      <td>1.0</td>\n",
       "      <td>רכב נוסעים פרטי</td>\n",
       "      <td>4.0</td>\n",
       "      <td>אין נזק</td>\n",
       "    </tr>\n",
       "    <tr>\n",
       "      <th>2</th>\n",
       "      <td>2023059223</td>\n",
       "      <td>32023059223</td>\n",
       "      <td>3</td>\n",
       "      <td>3</td>\n",
       "      <td>1</td>\n",
       "      <td>נהג</td>\n",
       "      <td>0</td>\n",
       "      <td>99</td>\n",
       "      <td>לא ידוע</td>\n",
       "      <td>0.0</td>\n",
       "      <td>...</td>\n",
       "      <td>NaN</td>\n",
       "      <td>1.0</td>\n",
       "      <td>ישראלי</td>\n",
       "      <td>99.0</td>\n",
       "      <td>NaN</td>\n",
       "      <td>NaN</td>\n",
       "      <td>1.0</td>\n",
       "      <td>רכב נוסעים פרטי</td>\n",
       "      <td>4.0</td>\n",
       "      <td>אין נזק</td>\n",
       "    </tr>\n",
       "    <tr>\n",
       "      <th>3</th>\n",
       "      <td>2013001445</td>\n",
       "      <td>12013001445</td>\n",
       "      <td>1</td>\n",
       "      <td>1</td>\n",
       "      <td>2</td>\n",
       "      <td>נהג נפגע</td>\n",
       "      <td>2012</td>\n",
       "      <td>4</td>\n",
       "      <td>15-19</td>\n",
       "      <td>1.0</td>\n",
       "      <td>...</td>\n",
       "      <td>NaN</td>\n",
       "      <td>1.0</td>\n",
       "      <td>ישראלי</td>\n",
       "      <td>99.0</td>\n",
       "      <td>NaN</td>\n",
       "      <td>NaN</td>\n",
       "      <td>1.0</td>\n",
       "      <td>רכב נוסעים פרטי</td>\n",
       "      <td>3.0</td>\n",
       "      <td>קשה</td>\n",
       "    </tr>\n",
       "    <tr>\n",
       "      <th>4</th>\n",
       "      <td>2013001445</td>\n",
       "      <td>12013001445</td>\n",
       "      <td>1</td>\n",
       "      <td>1</td>\n",
       "      <td>3</td>\n",
       "      <td>נפגע</td>\n",
       "      <td>0</td>\n",
       "      <td>5</td>\n",
       "      <td>20-24</td>\n",
       "      <td>2.0</td>\n",
       "      <td>...</td>\n",
       "      <td>NaN</td>\n",
       "      <td>1.0</td>\n",
       "      <td>ישראלי</td>\n",
       "      <td>99.0</td>\n",
       "      <td>NaN</td>\n",
       "      <td>NaN</td>\n",
       "      <td>1.0</td>\n",
       "      <td>רכב נוסעים פרטי</td>\n",
       "      <td>3.0</td>\n",
       "      <td>קשה</td>\n",
       "    </tr>\n",
       "    <tr>\n",
       "      <th>...</th>\n",
       "      <td>...</td>\n",
       "      <td>...</td>\n",
       "      <td>...</td>\n",
       "      <td>...</td>\n",
       "      <td>...</td>\n",
       "      <td>...</td>\n",
       "      <td>...</td>\n",
       "      <td>...</td>\n",
       "      <td>...</td>\n",
       "      <td>...</td>\n",
       "      <td>...</td>\n",
       "      <td>...</td>\n",
       "      <td>...</td>\n",
       "      <td>...</td>\n",
       "      <td>...</td>\n",
       "      <td>...</td>\n",
       "      <td>...</td>\n",
       "      <td>...</td>\n",
       "      <td>...</td>\n",
       "      <td>...</td>\n",
       "      <td>...</td>\n",
       "    </tr>\n",
       "    <tr>\n",
       "      <th>1357736</th>\n",
       "      <td>2023099073</td>\n",
       "      <td>32023099073</td>\n",
       "      <td>3</td>\n",
       "      <td>3</td>\n",
       "      <td>1</td>\n",
       "      <td>נהג</td>\n",
       "      <td>0</td>\n",
       "      <td>99</td>\n",
       "      <td>לא ידוע</td>\n",
       "      <td>0.0</td>\n",
       "      <td>...</td>\n",
       "      <td>NaN</td>\n",
       "      <td>1.0</td>\n",
       "      <td>ישראלי</td>\n",
       "      <td>3.0</td>\n",
       "      <td>2.0</td>\n",
       "      <td>2.0-2.9</td>\n",
       "      <td>1.0</td>\n",
       "      <td>רכב נוסעים פרטי</td>\n",
       "      <td>4.0</td>\n",
       "      <td>אין נזק</td>\n",
       "    </tr>\n",
       "    <tr>\n",
       "      <th>1357737</th>\n",
       "      <td>2023099373</td>\n",
       "      <td>32023099373</td>\n",
       "      <td>3</td>\n",
       "      <td>3</td>\n",
       "      <td>2</td>\n",
       "      <td>נהג נפגע</td>\n",
       "      <td>2011</td>\n",
       "      <td>7</td>\n",
       "      <td>30-34</td>\n",
       "      <td>2.0</td>\n",
       "      <td>...</td>\n",
       "      <td>NaN</td>\n",
       "      <td>1.0</td>\n",
       "      <td>ישראלי</td>\n",
       "      <td>3.0</td>\n",
       "      <td>1.0</td>\n",
       "      <td>עד 1.9</td>\n",
       "      <td>1.0</td>\n",
       "      <td>רכב נוסעים פרטי</td>\n",
       "      <td>1.0</td>\n",
       "      <td>קל</td>\n",
       "    </tr>\n",
       "    <tr>\n",
       "      <th>1357738</th>\n",
       "      <td>2023099555</td>\n",
       "      <td>32023099555</td>\n",
       "      <td>3</td>\n",
       "      <td>3</td>\n",
       "      <td>1</td>\n",
       "      <td>נהג</td>\n",
       "      <td>0</td>\n",
       "      <td>99</td>\n",
       "      <td>לא ידוע</td>\n",
       "      <td>0.0</td>\n",
       "      <td>...</td>\n",
       "      <td>NaN</td>\n",
       "      <td>1.0</td>\n",
       "      <td>ישראלי</td>\n",
       "      <td>99.0</td>\n",
       "      <td>0.0</td>\n",
       "      <td>לא ידוע</td>\n",
       "      <td>17.0</td>\n",
       "      <td>אחר ולא ידוע</td>\n",
       "      <td>0.0</td>\n",
       "      <td>לא ידוע</td>\n",
       "    </tr>\n",
       "    <tr>\n",
       "      <th>1357739</th>\n",
       "      <td>2023099589</td>\n",
       "      <td>32023099589</td>\n",
       "      <td>3</td>\n",
       "      <td>3</td>\n",
       "      <td>1</td>\n",
       "      <td>נהג</td>\n",
       "      <td>1991</td>\n",
       "      <td>12</td>\n",
       "      <td>55-59</td>\n",
       "      <td>1.0</td>\n",
       "      <td>...</td>\n",
       "      <td>NaN</td>\n",
       "      <td>1.0</td>\n",
       "      <td>ישראלי</td>\n",
       "      <td>51.0</td>\n",
       "      <td>11.0</td>\n",
       "      <td>16.0-19.0</td>\n",
       "      <td>11.0</td>\n",
       "      <td>אוטובוס</td>\n",
       "      <td>4.0</td>\n",
       "      <td>אין נזק</td>\n",
       "    </tr>\n",
       "    <tr>\n",
       "      <th>1357740</th>\n",
       "      <td>2023099864</td>\n",
       "      <td>32023099864</td>\n",
       "      <td>3</td>\n",
       "      <td>3</td>\n",
       "      <td>2</td>\n",
       "      <td>נהג נפגע</td>\n",
       "      <td>2021</td>\n",
       "      <td>6</td>\n",
       "      <td>25-29</td>\n",
       "      <td>2.0</td>\n",
       "      <td>...</td>\n",
       "      <td>NaN</td>\n",
       "      <td>1.0</td>\n",
       "      <td>ישראלי</td>\n",
       "      <td>99.0</td>\n",
       "      <td>1.0</td>\n",
       "      <td>עד 1.9</td>\n",
       "      <td>1.0</td>\n",
       "      <td>רכב נוסעים פרטי</td>\n",
       "      <td>4.0</td>\n",
       "      <td>אין נזק</td>\n",
       "    </tr>\n",
       "  </tbody>\n",
       "</table>\n",
       "<p>1357741 rows × 161 columns</p>\n",
       "</div>"
      ],
      "text/plain": [
       "         accident_id  provider_and_id  provider_code  file_type_police  \\\n",
       "0         2013001445      12013001445              1                 1   \n",
       "1         2023057591      32023057591              3                 3   \n",
       "2         2023059223      32023059223              3                 3   \n",
       "3         2013001445      12013001445              1                 1   \n",
       "4         2013001445      12013001445              1                 1   \n",
       "...              ...              ...            ...               ...   \n",
       "1357736   2023099073      32023099073              3                 3   \n",
       "1357737   2023099373      32023099373              3                 3   \n",
       "1357738   2023099555      32023099555              3                 3   \n",
       "1357739   2023099589      32023099589              3                 3   \n",
       "1357740   2023099864      32023099864              3                 3   \n",
       "\n",
       "         involved_type involved_type_hebrew  license_acquiring_date  \\\n",
       "0                    3                 נפגע                       0   \n",
       "1                    1                  נהג                    2021   \n",
       "2                    1                  נהג                       0   \n",
       "3                    2             נהג נפגע                    2012   \n",
       "4                    3                 נפגע                       0   \n",
       "...                ...                  ...                     ...   \n",
       "1357736              1                  נהג                       0   \n",
       "1357737              2             נהג נפגע                    2011   \n",
       "1357738              1                  נהג                       0   \n",
       "1357739              1                  נהג                    1991   \n",
       "1357740              2             נהג נפגע                    2021   \n",
       "\n",
       "         age_group age_group_hebrew  sex  ... vehicle_status_hebrew  \\\n",
       "0                4            15-19  1.0  ...                   NaN   \n",
       "1                6            25-29  2.0  ...                   NaN   \n",
       "2               99          לא ידוע  0.0  ...                   NaN   \n",
       "3                4            15-19  1.0  ...                   NaN   \n",
       "4                5            20-24  2.0  ...                   NaN   \n",
       "...            ...              ...  ...  ...                   ...   \n",
       "1357736         99          לא ידוע  0.0  ...                   NaN   \n",
       "1357737          7            30-34  2.0  ...                   NaN   \n",
       "1357738         99          לא ידוע  0.0  ...                   NaN   \n",
       "1357739         12            55-59  1.0  ...                   NaN   \n",
       "1357740          6            25-29  2.0  ...                   NaN   \n",
       "\n",
       "         vehicle_attribution vehicle_attribution_hebrew  seats total_weight  \\\n",
       "0                        1.0                     ישראלי   99.0          NaN   \n",
       "1                        1.0                     ישראלי   99.0          NaN   \n",
       "2                        1.0                     ישראלי   99.0          NaN   \n",
       "3                        1.0                     ישראלי   99.0          NaN   \n",
       "4                        1.0                     ישראלי   99.0          NaN   \n",
       "...                      ...                        ...    ...          ...   \n",
       "1357736                  1.0                     ישראלי    3.0          2.0   \n",
       "1357737                  1.0                     ישראלי    3.0          1.0   \n",
       "1357738                  1.0                     ישראלי   99.0          0.0   \n",
       "1357739                  1.0                     ישראלי   51.0         11.0   \n",
       "1357740                  1.0                     ישראלי   99.0          1.0   \n",
       "\n",
       "         total_weight_hebrew vehicle_vehicle_type  \\\n",
       "0                        NaN                  1.0   \n",
       "1                        NaN                  1.0   \n",
       "2                        NaN                  1.0   \n",
       "3                        NaN                  1.0   \n",
       "4                        NaN                  1.0   \n",
       "...                      ...                  ...   \n",
       "1357736              2.0-2.9                  1.0   \n",
       "1357737               עד 1.9                  1.0   \n",
       "1357738              לא ידוע                 17.0   \n",
       "1357739            16.0-19.0                 11.0   \n",
       "1357740               עד 1.9                  1.0   \n",
       "\n",
       "         vehicle_vehicle_type_hebrew vehicle_damage  vehicle_damage_hebrew  \n",
       "0                    רכב נוסעים פרטי            3.0                    קשה  \n",
       "1                    רכב נוסעים פרטי            4.0                אין נזק  \n",
       "2                    רכב נוסעים פרטי            4.0                אין נזק  \n",
       "3                    רכב נוסעים פרטי            3.0                    קשה  \n",
       "4                    רכב נוסעים פרטי            3.0                    קשה  \n",
       "...                              ...            ...                    ...  \n",
       "1357736              רכב נוסעים פרטי            4.0                אין נזק  \n",
       "1357737              רכב נוסעים פרטי            1.0                     קל  \n",
       "1357738                 אחר ולא ידוע            0.0                לא ידוע  \n",
       "1357739                      אוטובוס            4.0                אין נזק  \n",
       "1357740              רכב נוסעים פרטי            4.0                אין נזק  \n",
       "\n",
       "[1357741 rows x 161 columns]"
      ]
     },
     "execution_count": 2,
     "metadata": {},
     "output_type": "execute_result"
    }
   ],
   "source": [
    "imh = pd.read_csv('./csv_tables/involved_markers_hebrew.csv')\n",
    "imh\n",
    "\n"
   ]
  },
  {
   "cell_type": "code",
   "execution_count": 3,
   "id": "71787775",
   "metadata": {},
   "outputs": [
    {
     "data": {
      "text/plain": [
       "['ירושלים', 'תל אביב -יפו', 'ראשון לציון', 'חיפה', 'אשדוד']"
      ]
     },
     "execution_count": 3,
     "metadata": {},
     "output_type": "execute_result"
    }
   ],
   "source": [
    "cities_names = imh.involve_yishuv_name.value_counts().head(5).index.tolist()\n",
    "cities_names"
   ]
  },
  {
   "cell_type": "code",
   "execution_count": 12,
   "id": "1e6d0cc8",
   "metadata": {},
   "outputs": [],
   "source": [
    "BICYCLE = 15\n",
    "SCOOTER = 21\n",
    "KALNOIT = 22\n",
    "E_BICYCLE = 23\n",
    "\n",
    "micro_vehicle = [BICYCLE, SCOOTER, KALNOIT, E_BICYCLE]"
   ]
  },
  {
   "cell_type": "code",
   "execution_count": 5,
   "id": "f992f9cd",
   "metadata": {},
   "outputs": [
    {
     "data": {
      "text/html": [
       "<div>\n",
       "<style scoped>\n",
       "    .dataframe tbody tr th:only-of-type {\n",
       "        vertical-align: middle;\n",
       "    }\n",
       "\n",
       "    .dataframe tbody tr th {\n",
       "        vertical-align: top;\n",
       "    }\n",
       "\n",
       "    .dataframe thead th {\n",
       "        text-align: right;\n",
       "    }\n",
       "</style>\n",
       "<table border=\"1\" class=\"dataframe\">\n",
       "  <thead>\n",
       "    <tr style=\"text-align: right;\">\n",
       "      <th></th>\n",
       "      <th>accident_id</th>\n",
       "      <th>provider_and_id</th>\n",
       "      <th>provider_code</th>\n",
       "      <th>file_type_police</th>\n",
       "      <th>involved_type</th>\n",
       "      <th>involved_type_hebrew</th>\n",
       "      <th>license_acquiring_date</th>\n",
       "      <th>age_group</th>\n",
       "      <th>age_group_hebrew</th>\n",
       "      <th>sex</th>\n",
       "      <th>...</th>\n",
       "      <th>vehicle_status_hebrew</th>\n",
       "      <th>vehicle_attribution</th>\n",
       "      <th>vehicle_attribution_hebrew</th>\n",
       "      <th>seats</th>\n",
       "      <th>total_weight</th>\n",
       "      <th>total_weight_hebrew</th>\n",
       "      <th>vehicle_vehicle_type</th>\n",
       "      <th>vehicle_vehicle_type_hebrew</th>\n",
       "      <th>vehicle_damage</th>\n",
       "      <th>vehicle_damage_hebrew</th>\n",
       "    </tr>\n",
       "  </thead>\n",
       "  <tbody>\n",
       "    <tr>\n",
       "      <th>169</th>\n",
       "      <td>2013001368</td>\n",
       "      <td>32013001368</td>\n",
       "      <td>3</td>\n",
       "      <td>3</td>\n",
       "      <td>2</td>\n",
       "      <td>נהג נפגע</td>\n",
       "      <td>0</td>\n",
       "      <td>6</td>\n",
       "      <td>25-29</td>\n",
       "      <td>1.0</td>\n",
       "      <td>...</td>\n",
       "      <td>NaN</td>\n",
       "      <td>1.0</td>\n",
       "      <td>ישראלי</td>\n",
       "      <td>99.0</td>\n",
       "      <td>0.0</td>\n",
       "      <td>לא ידוע</td>\n",
       "      <td>15.0</td>\n",
       "      <td>אופניים</td>\n",
       "      <td>4.0</td>\n",
       "      <td>אין נזק</td>\n",
       "    </tr>\n",
       "    <tr>\n",
       "      <th>729</th>\n",
       "      <td>2013001145</td>\n",
       "      <td>32013001145</td>\n",
       "      <td>3</td>\n",
       "      <td>3</td>\n",
       "      <td>2</td>\n",
       "      <td>נהג נפגע</td>\n",
       "      <td>0</td>\n",
       "      <td>3</td>\n",
       "      <td>10-14</td>\n",
       "      <td>1.0</td>\n",
       "      <td>...</td>\n",
       "      <td>NaN</td>\n",
       "      <td>1.0</td>\n",
       "      <td>ישראלי</td>\n",
       "      <td>99.0</td>\n",
       "      <td>0.0</td>\n",
       "      <td>לא ידוע</td>\n",
       "      <td>15.0</td>\n",
       "      <td>אופניים</td>\n",
       "      <td>4.0</td>\n",
       "      <td>אין נזק</td>\n",
       "    </tr>\n",
       "    <tr>\n",
       "      <th>857</th>\n",
       "      <td>2013001742</td>\n",
       "      <td>32013001742</td>\n",
       "      <td>3</td>\n",
       "      <td>3</td>\n",
       "      <td>2</td>\n",
       "      <td>נהג נפגע</td>\n",
       "      <td>0</td>\n",
       "      <td>7</td>\n",
       "      <td>30-34</td>\n",
       "      <td>2.0</td>\n",
       "      <td>...</td>\n",
       "      <td>NaN</td>\n",
       "      <td>1.0</td>\n",
       "      <td>ישראלי</td>\n",
       "      <td>99.0</td>\n",
       "      <td>0.0</td>\n",
       "      <td>לא ידוע</td>\n",
       "      <td>15.0</td>\n",
       "      <td>אופניים</td>\n",
       "      <td>4.0</td>\n",
       "      <td>אין נזק</td>\n",
       "    </tr>\n",
       "    <tr>\n",
       "      <th>998</th>\n",
       "      <td>2013000907</td>\n",
       "      <td>32013000907</td>\n",
       "      <td>3</td>\n",
       "      <td>3</td>\n",
       "      <td>2</td>\n",
       "      <td>נהג נפגע</td>\n",
       "      <td>0</td>\n",
       "      <td>4</td>\n",
       "      <td>15-19</td>\n",
       "      <td>1.0</td>\n",
       "      <td>...</td>\n",
       "      <td>NaN</td>\n",
       "      <td>1.0</td>\n",
       "      <td>ישראלי</td>\n",
       "      <td>99.0</td>\n",
       "      <td>0.0</td>\n",
       "      <td>לא ידוע</td>\n",
       "      <td>15.0</td>\n",
       "      <td>אופניים</td>\n",
       "      <td>1.0</td>\n",
       "      <td>קל</td>\n",
       "    </tr>\n",
       "    <tr>\n",
       "      <th>1213</th>\n",
       "      <td>2013001350</td>\n",
       "      <td>12013001350</td>\n",
       "      <td>1</td>\n",
       "      <td>1</td>\n",
       "      <td>2</td>\n",
       "      <td>נהג נפגע</td>\n",
       "      <td>0</td>\n",
       "      <td>5</td>\n",
       "      <td>20-24</td>\n",
       "      <td>1.0</td>\n",
       "      <td>...</td>\n",
       "      <td>NaN</td>\n",
       "      <td>1.0</td>\n",
       "      <td>ישראלי</td>\n",
       "      <td>99.0</td>\n",
       "      <td>0.0</td>\n",
       "      <td>לא ידוע</td>\n",
       "      <td>15.0</td>\n",
       "      <td>אופניים</td>\n",
       "      <td>4.0</td>\n",
       "      <td>אין נזק</td>\n",
       "    </tr>\n",
       "    <tr>\n",
       "      <th>...</th>\n",
       "      <td>...</td>\n",
       "      <td>...</td>\n",
       "      <td>...</td>\n",
       "      <td>...</td>\n",
       "      <td>...</td>\n",
       "      <td>...</td>\n",
       "      <td>...</td>\n",
       "      <td>...</td>\n",
       "      <td>...</td>\n",
       "      <td>...</td>\n",
       "      <td>...</td>\n",
       "      <td>...</td>\n",
       "      <td>...</td>\n",
       "      <td>...</td>\n",
       "      <td>...</td>\n",
       "      <td>...</td>\n",
       "      <td>...</td>\n",
       "      <td>...</td>\n",
       "      <td>...</td>\n",
       "      <td>...</td>\n",
       "      <td>...</td>\n",
       "    </tr>\n",
       "    <tr>\n",
       "      <th>1357259</th>\n",
       "      <td>2023092176</td>\n",
       "      <td>32023092176</td>\n",
       "      <td>3</td>\n",
       "      <td>3</td>\n",
       "      <td>2</td>\n",
       "      <td>נהג נפגע</td>\n",
       "      <td>0</td>\n",
       "      <td>4</td>\n",
       "      <td>15-19</td>\n",
       "      <td>1.0</td>\n",
       "      <td>...</td>\n",
       "      <td>NaN</td>\n",
       "      <td>1.0</td>\n",
       "      <td>ישראלי</td>\n",
       "      <td>99.0</td>\n",
       "      <td>0.0</td>\n",
       "      <td>לא ידוע</td>\n",
       "      <td>23.0</td>\n",
       "      <td>אופניים חשמליים</td>\n",
       "      <td>1.0</td>\n",
       "      <td>קל</td>\n",
       "    </tr>\n",
       "    <tr>\n",
       "      <th>1357412</th>\n",
       "      <td>2023091398</td>\n",
       "      <td>32023091398</td>\n",
       "      <td>3</td>\n",
       "      <td>3</td>\n",
       "      <td>2</td>\n",
       "      <td>נהג נפגע</td>\n",
       "      <td>0</td>\n",
       "      <td>99</td>\n",
       "      <td>לא ידוע</td>\n",
       "      <td>0.0</td>\n",
       "      <td>...</td>\n",
       "      <td>NaN</td>\n",
       "      <td>1.0</td>\n",
       "      <td>ישראלי</td>\n",
       "      <td>99.0</td>\n",
       "      <td>0.0</td>\n",
       "      <td>לא ידוע</td>\n",
       "      <td>23.0</td>\n",
       "      <td>אופניים חשמליים</td>\n",
       "      <td>1.0</td>\n",
       "      <td>קל</td>\n",
       "    </tr>\n",
       "    <tr>\n",
       "      <th>1357423</th>\n",
       "      <td>2023096873</td>\n",
       "      <td>32023096873</td>\n",
       "      <td>3</td>\n",
       "      <td>3</td>\n",
       "      <td>2</td>\n",
       "      <td>נהג נפגע</td>\n",
       "      <td>0</td>\n",
       "      <td>10</td>\n",
       "      <td>45-49</td>\n",
       "      <td>1.0</td>\n",
       "      <td>...</td>\n",
       "      <td>NaN</td>\n",
       "      <td>1.0</td>\n",
       "      <td>ישראלי</td>\n",
       "      <td>99.0</td>\n",
       "      <td>0.0</td>\n",
       "      <td>לא ידוע</td>\n",
       "      <td>23.0</td>\n",
       "      <td>אופניים חשמליים</td>\n",
       "      <td>1.0</td>\n",
       "      <td>קל</td>\n",
       "    </tr>\n",
       "    <tr>\n",
       "      <th>1357438</th>\n",
       "      <td>2023094045</td>\n",
       "      <td>12023094045</td>\n",
       "      <td>1</td>\n",
       "      <td>1</td>\n",
       "      <td>2</td>\n",
       "      <td>נהג נפגע</td>\n",
       "      <td>0</td>\n",
       "      <td>5</td>\n",
       "      <td>20-24</td>\n",
       "      <td>1.0</td>\n",
       "      <td>...</td>\n",
       "      <td>NaN</td>\n",
       "      <td>1.0</td>\n",
       "      <td>ישראלי</td>\n",
       "      <td>99.0</td>\n",
       "      <td>0.0</td>\n",
       "      <td>לא ידוע</td>\n",
       "      <td>23.0</td>\n",
       "      <td>אופניים חשמליים</td>\n",
       "      <td>3.0</td>\n",
       "      <td>קשה</td>\n",
       "    </tr>\n",
       "    <tr>\n",
       "      <th>1357714</th>\n",
       "      <td>2023091245</td>\n",
       "      <td>32023091245</td>\n",
       "      <td>3</td>\n",
       "      <td>3</td>\n",
       "      <td>2</td>\n",
       "      <td>נהג נפגע</td>\n",
       "      <td>2010</td>\n",
       "      <td>7</td>\n",
       "      <td>30-34</td>\n",
       "      <td>2.0</td>\n",
       "      <td>...</td>\n",
       "      <td>NaN</td>\n",
       "      <td>1.0</td>\n",
       "      <td>ישראלי</td>\n",
       "      <td>99.0</td>\n",
       "      <td>0.0</td>\n",
       "      <td>לא ידוע</td>\n",
       "      <td>21.0</td>\n",
       "      <td>קורקינט חשמלי</td>\n",
       "      <td>4.0</td>\n",
       "      <td>אין נזק</td>\n",
       "    </tr>\n",
       "  </tbody>\n",
       "</table>\n",
       "<p>8784 rows × 161 columns</p>\n",
       "</div>"
      ],
      "text/plain": [
       "         accident_id  provider_and_id  provider_code  file_type_police  \\\n",
       "169       2013001368      32013001368              3                 3   \n",
       "729       2013001145      32013001145              3                 3   \n",
       "857       2013001742      32013001742              3                 3   \n",
       "998       2013000907      32013000907              3                 3   \n",
       "1213      2013001350      12013001350              1                 1   \n",
       "...              ...              ...            ...               ...   \n",
       "1357259   2023092176      32023092176              3                 3   \n",
       "1357412   2023091398      32023091398              3                 3   \n",
       "1357423   2023096873      32023096873              3                 3   \n",
       "1357438   2023094045      12023094045              1                 1   \n",
       "1357714   2023091245      32023091245              3                 3   \n",
       "\n",
       "         involved_type involved_type_hebrew  license_acquiring_date  \\\n",
       "169                  2             נהג נפגע                       0   \n",
       "729                  2             נהג נפגע                       0   \n",
       "857                  2             נהג נפגע                       0   \n",
       "998                  2             נהג נפגע                       0   \n",
       "1213                 2             נהג נפגע                       0   \n",
       "...                ...                  ...                     ...   \n",
       "1357259              2             נהג נפגע                       0   \n",
       "1357412              2             נהג נפגע                       0   \n",
       "1357423              2             נהג נפגע                       0   \n",
       "1357438              2             נהג נפגע                       0   \n",
       "1357714              2             נהג נפגע                    2010   \n",
       "\n",
       "         age_group age_group_hebrew  sex  ... vehicle_status_hebrew  \\\n",
       "169              6            25-29  1.0  ...                   NaN   \n",
       "729              3            10-14  1.0  ...                   NaN   \n",
       "857              7            30-34  2.0  ...                   NaN   \n",
       "998              4            15-19  1.0  ...                   NaN   \n",
       "1213             5            20-24  1.0  ...                   NaN   \n",
       "...            ...              ...  ...  ...                   ...   \n",
       "1357259          4            15-19  1.0  ...                   NaN   \n",
       "1357412         99          לא ידוע  0.0  ...                   NaN   \n",
       "1357423         10            45-49  1.0  ...                   NaN   \n",
       "1357438          5            20-24  1.0  ...                   NaN   \n",
       "1357714          7            30-34  2.0  ...                   NaN   \n",
       "\n",
       "         vehicle_attribution vehicle_attribution_hebrew  seats total_weight  \\\n",
       "169                      1.0                     ישראלי   99.0          0.0   \n",
       "729                      1.0                     ישראלי   99.0          0.0   \n",
       "857                      1.0                     ישראלי   99.0          0.0   \n",
       "998                      1.0                     ישראלי   99.0          0.0   \n",
       "1213                     1.0                     ישראלי   99.0          0.0   \n",
       "...                      ...                        ...    ...          ...   \n",
       "1357259                  1.0                     ישראלי   99.0          0.0   \n",
       "1357412                  1.0                     ישראלי   99.0          0.0   \n",
       "1357423                  1.0                     ישראלי   99.0          0.0   \n",
       "1357438                  1.0                     ישראלי   99.0          0.0   \n",
       "1357714                  1.0                     ישראלי   99.0          0.0   \n",
       "\n",
       "         total_weight_hebrew vehicle_vehicle_type  \\\n",
       "169                  לא ידוע                 15.0   \n",
       "729                  לא ידוע                 15.0   \n",
       "857                  לא ידוע                 15.0   \n",
       "998                  לא ידוע                 15.0   \n",
       "1213                 לא ידוע                 15.0   \n",
       "...                      ...                  ...   \n",
       "1357259              לא ידוע                 23.0   \n",
       "1357412              לא ידוע                 23.0   \n",
       "1357423              לא ידוע                 23.0   \n",
       "1357438              לא ידוע                 23.0   \n",
       "1357714              לא ידוע                 21.0   \n",
       "\n",
       "         vehicle_vehicle_type_hebrew vehicle_damage  vehicle_damage_hebrew  \n",
       "169                          אופניים            4.0                אין נזק  \n",
       "729                          אופניים            4.0                אין נזק  \n",
       "857                          אופניים            4.0                אין נזק  \n",
       "998                          אופניים            1.0                     קל  \n",
       "1213                         אופניים            4.0                אין נזק  \n",
       "...                              ...            ...                    ...  \n",
       "1357259              אופניים חשמליים            1.0                     קל  \n",
       "1357412              אופניים חשמליים            1.0                     קל  \n",
       "1357423              אופניים חשמליים            1.0                     קל  \n",
       "1357438              אופניים חשמליים            3.0                    קשה  \n",
       "1357714                קורקינט חשמלי            4.0                אין נזק  \n",
       "\n",
       "[8784 rows x 161 columns]"
      ]
     },
     "execution_count": 5,
     "metadata": {},
     "output_type": "execute_result"
    }
   ],
   "source": [
    "imh_mv = imh[imh.involve_vehicle_type.isin(micro_vehicle)]\n",
    "#sc = selected cities\n",
    "imh_mv_sc = imh_mv[imh_mv.involve_yishuv_name.isin(cities_names)]\n",
    "imh_mv_sc"
   ]
  },
  {
   "cell_type": "markdown",
   "id": "9e071e53",
   "metadata": {},
   "source": [
    "Lets check micro mobility for cities by years."
   ]
  },
  {
   "cell_type": "code",
   "execution_count": 6,
   "id": "d37257ae",
   "metadata": {},
   "outputs": [
    {
     "data": {
      "text/html": [
       "<div>\n",
       "<style scoped>\n",
       "    .dataframe tbody tr th:only-of-type {\n",
       "        vertical-align: middle;\n",
       "    }\n",
       "\n",
       "    .dataframe tbody tr th {\n",
       "        vertical-align: top;\n",
       "    }\n",
       "\n",
       "    .dataframe thead th {\n",
       "        text-align: right;\n",
       "    }\n",
       "</style>\n",
       "<table border=\"1\" class=\"dataframe\">\n",
       "  <thead>\n",
       "    <tr style=\"text-align: right;\">\n",
       "      <th></th>\n",
       "      <th>accident_year</th>\n",
       "      <th>involve_yishuv_name</th>\n",
       "      <th>count</th>\n",
       "    </tr>\n",
       "  </thead>\n",
       "  <tbody>\n",
       "    <tr>\n",
       "      <th>0</th>\n",
       "      <td>2013</td>\n",
       "      <td>אשדוד</td>\n",
       "      <td>64</td>\n",
       "    </tr>\n",
       "    <tr>\n",
       "      <th>1</th>\n",
       "      <td>2014</td>\n",
       "      <td>אשדוד</td>\n",
       "      <td>68</td>\n",
       "    </tr>\n",
       "    <tr>\n",
       "      <th>2</th>\n",
       "      <td>2015</td>\n",
       "      <td>אשדוד</td>\n",
       "      <td>89</td>\n",
       "    </tr>\n",
       "    <tr>\n",
       "      <th>3</th>\n",
       "      <td>2016</td>\n",
       "      <td>אשדוד</td>\n",
       "      <td>79</td>\n",
       "    </tr>\n",
       "    <tr>\n",
       "      <th>4</th>\n",
       "      <td>2017</td>\n",
       "      <td>אשדוד</td>\n",
       "      <td>85</td>\n",
       "    </tr>\n",
       "    <tr>\n",
       "      <th>5</th>\n",
       "      <td>2018</td>\n",
       "      <td>אשדוד</td>\n",
       "      <td>120</td>\n",
       "    </tr>\n",
       "    <tr>\n",
       "      <th>6</th>\n",
       "      <td>2019</td>\n",
       "      <td>אשדוד</td>\n",
       "      <td>88</td>\n",
       "    </tr>\n",
       "    <tr>\n",
       "      <th>7</th>\n",
       "      <td>2020</td>\n",
       "      <td>אשדוד</td>\n",
       "      <td>77</td>\n",
       "    </tr>\n",
       "    <tr>\n",
       "      <th>8</th>\n",
       "      <td>2021</td>\n",
       "      <td>אשדוד</td>\n",
       "      <td>125</td>\n",
       "    </tr>\n",
       "    <tr>\n",
       "      <th>9</th>\n",
       "      <td>2022</td>\n",
       "      <td>אשדוד</td>\n",
       "      <td>139</td>\n",
       "    </tr>\n",
       "    <tr>\n",
       "      <th>10</th>\n",
       "      <td>2023</td>\n",
       "      <td>אשדוד</td>\n",
       "      <td>30</td>\n",
       "    </tr>\n",
       "    <tr>\n",
       "      <th>11</th>\n",
       "      <td>2013</td>\n",
       "      <td>חיפה</td>\n",
       "      <td>37</td>\n",
       "    </tr>\n",
       "    <tr>\n",
       "      <th>12</th>\n",
       "      <td>2014</td>\n",
       "      <td>חיפה</td>\n",
       "      <td>37</td>\n",
       "    </tr>\n",
       "    <tr>\n",
       "      <th>13</th>\n",
       "      <td>2015</td>\n",
       "      <td>חיפה</td>\n",
       "      <td>47</td>\n",
       "    </tr>\n",
       "    <tr>\n",
       "      <th>14</th>\n",
       "      <td>2016</td>\n",
       "      <td>חיפה</td>\n",
       "      <td>57</td>\n",
       "    </tr>\n",
       "    <tr>\n",
       "      <th>15</th>\n",
       "      <td>2017</td>\n",
       "      <td>חיפה</td>\n",
       "      <td>59</td>\n",
       "    </tr>\n",
       "    <tr>\n",
       "      <th>16</th>\n",
       "      <td>2018</td>\n",
       "      <td>חיפה</td>\n",
       "      <td>52</td>\n",
       "    </tr>\n",
       "    <tr>\n",
       "      <th>17</th>\n",
       "      <td>2019</td>\n",
       "      <td>חיפה</td>\n",
       "      <td>66</td>\n",
       "    </tr>\n",
       "    <tr>\n",
       "      <th>18</th>\n",
       "      <td>2020</td>\n",
       "      <td>חיפה</td>\n",
       "      <td>49</td>\n",
       "    </tr>\n",
       "    <tr>\n",
       "      <th>19</th>\n",
       "      <td>2021</td>\n",
       "      <td>חיפה</td>\n",
       "      <td>52</td>\n",
       "    </tr>\n",
       "    <tr>\n",
       "      <th>20</th>\n",
       "      <td>2022</td>\n",
       "      <td>חיפה</td>\n",
       "      <td>48</td>\n",
       "    </tr>\n",
       "    <tr>\n",
       "      <th>21</th>\n",
       "      <td>2023</td>\n",
       "      <td>חיפה</td>\n",
       "      <td>7</td>\n",
       "    </tr>\n",
       "    <tr>\n",
       "      <th>22</th>\n",
       "      <td>2013</td>\n",
       "      <td>ירושלים</td>\n",
       "      <td>111</td>\n",
       "    </tr>\n",
       "    <tr>\n",
       "      <th>23</th>\n",
       "      <td>2014</td>\n",
       "      <td>ירושלים</td>\n",
       "      <td>136</td>\n",
       "    </tr>\n",
       "    <tr>\n",
       "      <th>24</th>\n",
       "      <td>2015</td>\n",
       "      <td>ירושלים</td>\n",
       "      <td>143</td>\n",
       "    </tr>\n",
       "    <tr>\n",
       "      <th>25</th>\n",
       "      <td>2016</td>\n",
       "      <td>ירושלים</td>\n",
       "      <td>153</td>\n",
       "    </tr>\n",
       "    <tr>\n",
       "      <th>26</th>\n",
       "      <td>2017</td>\n",
       "      <td>ירושלים</td>\n",
       "      <td>196</td>\n",
       "    </tr>\n",
       "    <tr>\n",
       "      <th>27</th>\n",
       "      <td>2018</td>\n",
       "      <td>ירושלים</td>\n",
       "      <td>221</td>\n",
       "    </tr>\n",
       "    <tr>\n",
       "      <th>28</th>\n",
       "      <td>2019</td>\n",
       "      <td>ירושלים</td>\n",
       "      <td>216</td>\n",
       "    </tr>\n",
       "    <tr>\n",
       "      <th>29</th>\n",
       "      <td>2020</td>\n",
       "      <td>ירושלים</td>\n",
       "      <td>163</td>\n",
       "    </tr>\n",
       "    <tr>\n",
       "      <th>30</th>\n",
       "      <td>2021</td>\n",
       "      <td>ירושלים</td>\n",
       "      <td>181</td>\n",
       "    </tr>\n",
       "    <tr>\n",
       "      <th>31</th>\n",
       "      <td>2022</td>\n",
       "      <td>ירושלים</td>\n",
       "      <td>187</td>\n",
       "    </tr>\n",
       "    <tr>\n",
       "      <th>32</th>\n",
       "      <td>2023</td>\n",
       "      <td>ירושלים</td>\n",
       "      <td>27</td>\n",
       "    </tr>\n",
       "    <tr>\n",
       "      <th>33</th>\n",
       "      <td>2013</td>\n",
       "      <td>ראשון לציון</td>\n",
       "      <td>55</td>\n",
       "    </tr>\n",
       "    <tr>\n",
       "      <th>34</th>\n",
       "      <td>2014</td>\n",
       "      <td>ראשון לציון</td>\n",
       "      <td>96</td>\n",
       "    </tr>\n",
       "    <tr>\n",
       "      <th>35</th>\n",
       "      <td>2015</td>\n",
       "      <td>ראשון לציון</td>\n",
       "      <td>98</td>\n",
       "    </tr>\n",
       "    <tr>\n",
       "      <th>36</th>\n",
       "      <td>2016</td>\n",
       "      <td>ראשון לציון</td>\n",
       "      <td>77</td>\n",
       "    </tr>\n",
       "    <tr>\n",
       "      <th>37</th>\n",
       "      <td>2017</td>\n",
       "      <td>ראשון לציון</td>\n",
       "      <td>102</td>\n",
       "    </tr>\n",
       "    <tr>\n",
       "      <th>38</th>\n",
       "      <td>2018</td>\n",
       "      <td>ראשון לציון</td>\n",
       "      <td>103</td>\n",
       "    </tr>\n",
       "    <tr>\n",
       "      <th>39</th>\n",
       "      <td>2019</td>\n",
       "      <td>ראשון לציון</td>\n",
       "      <td>94</td>\n",
       "    </tr>\n",
       "    <tr>\n",
       "      <th>40</th>\n",
       "      <td>2020</td>\n",
       "      <td>ראשון לציון</td>\n",
       "      <td>82</td>\n",
       "    </tr>\n",
       "    <tr>\n",
       "      <th>41</th>\n",
       "      <td>2021</td>\n",
       "      <td>ראשון לציון</td>\n",
       "      <td>107</td>\n",
       "    </tr>\n",
       "    <tr>\n",
       "      <th>42</th>\n",
       "      <td>2022</td>\n",
       "      <td>ראשון לציון</td>\n",
       "      <td>94</td>\n",
       "    </tr>\n",
       "    <tr>\n",
       "      <th>43</th>\n",
       "      <td>2023</td>\n",
       "      <td>ראשון לציון</td>\n",
       "      <td>14</td>\n",
       "    </tr>\n",
       "    <tr>\n",
       "      <th>44</th>\n",
       "      <td>2013</td>\n",
       "      <td>תל אביב -יפו</td>\n",
       "      <td>350</td>\n",
       "    </tr>\n",
       "    <tr>\n",
       "      <th>45</th>\n",
       "      <td>2014</td>\n",
       "      <td>תל אביב -יפו</td>\n",
       "      <td>432</td>\n",
       "    </tr>\n",
       "    <tr>\n",
       "      <th>46</th>\n",
       "      <td>2015</td>\n",
       "      <td>תל אביב -יפו</td>\n",
       "      <td>444</td>\n",
       "    </tr>\n",
       "    <tr>\n",
       "      <th>47</th>\n",
       "      <td>2016</td>\n",
       "      <td>תל אביב -יפו</td>\n",
       "      <td>495</td>\n",
       "    </tr>\n",
       "    <tr>\n",
       "      <th>48</th>\n",
       "      <td>2017</td>\n",
       "      <td>תל אביב -יפו</td>\n",
       "      <td>509</td>\n",
       "    </tr>\n",
       "    <tr>\n",
       "      <th>49</th>\n",
       "      <td>2018</td>\n",
       "      <td>תל אביב -יפו</td>\n",
       "      <td>404</td>\n",
       "    </tr>\n",
       "    <tr>\n",
       "      <th>50</th>\n",
       "      <td>2019</td>\n",
       "      <td>תל אביב -יפו</td>\n",
       "      <td>435</td>\n",
       "    </tr>\n",
       "    <tr>\n",
       "      <th>51</th>\n",
       "      <td>2020</td>\n",
       "      <td>תל אביב -יפו</td>\n",
       "      <td>482</td>\n",
       "    </tr>\n",
       "    <tr>\n",
       "      <th>52</th>\n",
       "      <td>2021</td>\n",
       "      <td>תל אביב -יפו</td>\n",
       "      <td>526</td>\n",
       "    </tr>\n",
       "    <tr>\n",
       "      <th>53</th>\n",
       "      <td>2022</td>\n",
       "      <td>תל אביב -יפו</td>\n",
       "      <td>484</td>\n",
       "    </tr>\n",
       "    <tr>\n",
       "      <th>54</th>\n",
       "      <td>2023</td>\n",
       "      <td>תל אביב -יפו</td>\n",
       "      <td>92</td>\n",
       "    </tr>\n",
       "  </tbody>\n",
       "</table>\n",
       "</div>"
      ],
      "text/plain": [
       "    accident_year involve_yishuv_name  count\n",
       "0            2013               אשדוד     64\n",
       "1            2014               אשדוד     68\n",
       "2            2015               אשדוד     89\n",
       "3            2016               אשדוד     79\n",
       "4            2017               אשדוד     85\n",
       "5            2018               אשדוד    120\n",
       "6            2019               אשדוד     88\n",
       "7            2020               אשדוד     77\n",
       "8            2021               אשדוד    125\n",
       "9            2022               אשדוד    139\n",
       "10           2023               אשדוד     30\n",
       "11           2013                חיפה     37\n",
       "12           2014                חיפה     37\n",
       "13           2015                חיפה     47\n",
       "14           2016                חיפה     57\n",
       "15           2017                חיפה     59\n",
       "16           2018                חיפה     52\n",
       "17           2019                חיפה     66\n",
       "18           2020                חיפה     49\n",
       "19           2021                חיפה     52\n",
       "20           2022                חיפה     48\n",
       "21           2023                חיפה      7\n",
       "22           2013             ירושלים    111\n",
       "23           2014             ירושלים    136\n",
       "24           2015             ירושלים    143\n",
       "25           2016             ירושלים    153\n",
       "26           2017             ירושלים    196\n",
       "27           2018             ירושלים    221\n",
       "28           2019             ירושלים    216\n",
       "29           2020             ירושלים    163\n",
       "30           2021             ירושלים    181\n",
       "31           2022             ירושלים    187\n",
       "32           2023             ירושלים     27\n",
       "33           2013         ראשון לציון     55\n",
       "34           2014         ראשון לציון     96\n",
       "35           2015         ראשון לציון     98\n",
       "36           2016         ראשון לציון     77\n",
       "37           2017         ראשון לציון    102\n",
       "38           2018         ראשון לציון    103\n",
       "39           2019         ראשון לציון     94\n",
       "40           2020         ראשון לציון     82\n",
       "41           2021         ראשון לציון    107\n",
       "42           2022         ראשון לציון     94\n",
       "43           2023         ראשון לציון     14\n",
       "44           2013        תל אביב -יפו    350\n",
       "45           2014        תל אביב -יפו    432\n",
       "46           2015        תל אביב -יפו    444\n",
       "47           2016        תל אביב -יפו    495\n",
       "48           2017        תל אביב -יפו    509\n",
       "49           2018        תל אביב -יפו    404\n",
       "50           2019        תל אביב -יפו    435\n",
       "51           2020        תל אביב -יפו    482\n",
       "52           2021        תל אביב -יפו    526\n",
       "53           2022        תל אביב -יפו    484\n",
       "54           2023        תל אביב -יפו     92"
      ]
     },
     "execution_count": 6,
     "metadata": {},
     "output_type": "execute_result"
    }
   ],
   "source": [
    "imh_mv_sc_gb = imh_mv_sc.groupby(['accident_year', 'involve_yishuv_name']).size().reset_index(name='count')\n",
    "imh_mv_sc_pv = imh_mv_sc_gb.pivot(index='accident_year', columns='involve_yishuv_name', values='count').reset_index()\n",
    "imh_mv_sc_long = imh_mv_sc_pv.melt(id_vars='accident_year', var_name='involve_yishuv_name', value_name='count')\n",
    "\n",
    "imh_mv_sc_long"
   ]
  },
  {
   "cell_type": "code",
   "execution_count": 7,
   "id": "e400176e",
   "metadata": {},
   "outputs": [
    {
     "data": {
      "application/vnd.plotly.v1+json": {
       "config": {
        "plotlyServerURL": "https://plot.ly"
       },
       "data": [
        {
         "hovertemplate": "City Name=אשדוד<br>Accident Year=%{x}<br>Count=%{y}<extra></extra>",
         "legendgroup": "אשדוד",
         "line": {
          "color": "#636efa",
          "dash": "solid"
         },
         "marker": {
          "symbol": "circle"
         },
         "mode": "lines",
         "name": "אשדוד",
         "orientation": "v",
         "showlegend": true,
         "type": "scatter",
         "x": [
          2013,
          2014,
          2015,
          2016,
          2017,
          2018,
          2019,
          2020,
          2021,
          2022,
          2023
         ],
         "xaxis": "x",
         "y": [
          64,
          68,
          89,
          79,
          85,
          120,
          88,
          77,
          125,
          139,
          30
         ],
         "yaxis": "y"
        },
        {
         "hovertemplate": "City Name=חיפה<br>Accident Year=%{x}<br>Count=%{y}<extra></extra>",
         "legendgroup": "חיפה",
         "line": {
          "color": "#EF553B",
          "dash": "solid"
         },
         "marker": {
          "symbol": "circle"
         },
         "mode": "lines",
         "name": "חיפה",
         "orientation": "v",
         "showlegend": true,
         "type": "scatter",
         "x": [
          2013,
          2014,
          2015,
          2016,
          2017,
          2018,
          2019,
          2020,
          2021,
          2022,
          2023
         ],
         "xaxis": "x",
         "y": [
          37,
          37,
          47,
          57,
          59,
          52,
          66,
          49,
          52,
          48,
          7
         ],
         "yaxis": "y"
        },
        {
         "hovertemplate": "City Name=ירושלים<br>Accident Year=%{x}<br>Count=%{y}<extra></extra>",
         "legendgroup": "ירושלים",
         "line": {
          "color": "#00cc96",
          "dash": "solid"
         },
         "marker": {
          "symbol": "circle"
         },
         "mode": "lines",
         "name": "ירושלים",
         "orientation": "v",
         "showlegend": true,
         "type": "scatter",
         "x": [
          2013,
          2014,
          2015,
          2016,
          2017,
          2018,
          2019,
          2020,
          2021,
          2022,
          2023
         ],
         "xaxis": "x",
         "y": [
          111,
          136,
          143,
          153,
          196,
          221,
          216,
          163,
          181,
          187,
          27
         ],
         "yaxis": "y"
        },
        {
         "hovertemplate": "City Name=ראשון לציון<br>Accident Year=%{x}<br>Count=%{y}<extra></extra>",
         "legendgroup": "ראשון לציון",
         "line": {
          "color": "#ab63fa",
          "dash": "solid"
         },
         "marker": {
          "symbol": "circle"
         },
         "mode": "lines",
         "name": "ראשון לציון",
         "orientation": "v",
         "showlegend": true,
         "type": "scatter",
         "x": [
          2013,
          2014,
          2015,
          2016,
          2017,
          2018,
          2019,
          2020,
          2021,
          2022,
          2023
         ],
         "xaxis": "x",
         "y": [
          55,
          96,
          98,
          77,
          102,
          103,
          94,
          82,
          107,
          94,
          14
         ],
         "yaxis": "y"
        },
        {
         "hovertemplate": "City Name=תל אביב -יפו<br>Accident Year=%{x}<br>Count=%{y}<extra></extra>",
         "legendgroup": "תל אביב -יפו",
         "line": {
          "color": "#FFA15A",
          "dash": "solid"
         },
         "marker": {
          "symbol": "circle"
         },
         "mode": "lines",
         "name": "תל אביב -יפו",
         "orientation": "v",
         "showlegend": true,
         "type": "scatter",
         "x": [
          2013,
          2014,
          2015,
          2016,
          2017,
          2018,
          2019,
          2020,
          2021,
          2022,
          2023
         ],
         "xaxis": "x",
         "y": [
          350,
          432,
          444,
          495,
          509,
          404,
          435,
          482,
          526,
          484,
          92
         ],
         "yaxis": "y"
        }
       ],
       "layout": {
        "legend": {
         "title": {
          "text": "City Name"
         },
         "tracegroupgap": 0
        },
        "template": {
         "data": {
          "bar": [
           {
            "error_x": {
             "color": "#2a3f5f"
            },
            "error_y": {
             "color": "#2a3f5f"
            },
            "marker": {
             "line": {
              "color": "#E5ECF6",
              "width": 0.5
             },
             "pattern": {
              "fillmode": "overlay",
              "size": 10,
              "solidity": 0.2
             }
            },
            "type": "bar"
           }
          ],
          "barpolar": [
           {
            "marker": {
             "line": {
              "color": "#E5ECF6",
              "width": 0.5
             },
             "pattern": {
              "fillmode": "overlay",
              "size": 10,
              "solidity": 0.2
             }
            },
            "type": "barpolar"
           }
          ],
          "carpet": [
           {
            "aaxis": {
             "endlinecolor": "#2a3f5f",
             "gridcolor": "white",
             "linecolor": "white",
             "minorgridcolor": "white",
             "startlinecolor": "#2a3f5f"
            },
            "baxis": {
             "endlinecolor": "#2a3f5f",
             "gridcolor": "white",
             "linecolor": "white",
             "minorgridcolor": "white",
             "startlinecolor": "#2a3f5f"
            },
            "type": "carpet"
           }
          ],
          "choropleth": [
           {
            "colorbar": {
             "outlinewidth": 0,
             "ticks": ""
            },
            "type": "choropleth"
           }
          ],
          "contour": [
           {
            "colorbar": {
             "outlinewidth": 0,
             "ticks": ""
            },
            "colorscale": [
             [
              0,
              "#0d0887"
             ],
             [
              0.1111111111111111,
              "#46039f"
             ],
             [
              0.2222222222222222,
              "#7201a8"
             ],
             [
              0.3333333333333333,
              "#9c179e"
             ],
             [
              0.4444444444444444,
              "#bd3786"
             ],
             [
              0.5555555555555556,
              "#d8576b"
             ],
             [
              0.6666666666666666,
              "#ed7953"
             ],
             [
              0.7777777777777778,
              "#fb9f3a"
             ],
             [
              0.8888888888888888,
              "#fdca26"
             ],
             [
              1,
              "#f0f921"
             ]
            ],
            "type": "contour"
           }
          ],
          "contourcarpet": [
           {
            "colorbar": {
             "outlinewidth": 0,
             "ticks": ""
            },
            "type": "contourcarpet"
           }
          ],
          "heatmap": [
           {
            "colorbar": {
             "outlinewidth": 0,
             "ticks": ""
            },
            "colorscale": [
             [
              0,
              "#0d0887"
             ],
             [
              0.1111111111111111,
              "#46039f"
             ],
             [
              0.2222222222222222,
              "#7201a8"
             ],
             [
              0.3333333333333333,
              "#9c179e"
             ],
             [
              0.4444444444444444,
              "#bd3786"
             ],
             [
              0.5555555555555556,
              "#d8576b"
             ],
             [
              0.6666666666666666,
              "#ed7953"
             ],
             [
              0.7777777777777778,
              "#fb9f3a"
             ],
             [
              0.8888888888888888,
              "#fdca26"
             ],
             [
              1,
              "#f0f921"
             ]
            ],
            "type": "heatmap"
           }
          ],
          "heatmapgl": [
           {
            "colorbar": {
             "outlinewidth": 0,
             "ticks": ""
            },
            "colorscale": [
             [
              0,
              "#0d0887"
             ],
             [
              0.1111111111111111,
              "#46039f"
             ],
             [
              0.2222222222222222,
              "#7201a8"
             ],
             [
              0.3333333333333333,
              "#9c179e"
             ],
             [
              0.4444444444444444,
              "#bd3786"
             ],
             [
              0.5555555555555556,
              "#d8576b"
             ],
             [
              0.6666666666666666,
              "#ed7953"
             ],
             [
              0.7777777777777778,
              "#fb9f3a"
             ],
             [
              0.8888888888888888,
              "#fdca26"
             ],
             [
              1,
              "#f0f921"
             ]
            ],
            "type": "heatmapgl"
           }
          ],
          "histogram": [
           {
            "marker": {
             "pattern": {
              "fillmode": "overlay",
              "size": 10,
              "solidity": 0.2
             }
            },
            "type": "histogram"
           }
          ],
          "histogram2d": [
           {
            "colorbar": {
             "outlinewidth": 0,
             "ticks": ""
            },
            "colorscale": [
             [
              0,
              "#0d0887"
             ],
             [
              0.1111111111111111,
              "#46039f"
             ],
             [
              0.2222222222222222,
              "#7201a8"
             ],
             [
              0.3333333333333333,
              "#9c179e"
             ],
             [
              0.4444444444444444,
              "#bd3786"
             ],
             [
              0.5555555555555556,
              "#d8576b"
             ],
             [
              0.6666666666666666,
              "#ed7953"
             ],
             [
              0.7777777777777778,
              "#fb9f3a"
             ],
             [
              0.8888888888888888,
              "#fdca26"
             ],
             [
              1,
              "#f0f921"
             ]
            ],
            "type": "histogram2d"
           }
          ],
          "histogram2dcontour": [
           {
            "colorbar": {
             "outlinewidth": 0,
             "ticks": ""
            },
            "colorscale": [
             [
              0,
              "#0d0887"
             ],
             [
              0.1111111111111111,
              "#46039f"
             ],
             [
              0.2222222222222222,
              "#7201a8"
             ],
             [
              0.3333333333333333,
              "#9c179e"
             ],
             [
              0.4444444444444444,
              "#bd3786"
             ],
             [
              0.5555555555555556,
              "#d8576b"
             ],
             [
              0.6666666666666666,
              "#ed7953"
             ],
             [
              0.7777777777777778,
              "#fb9f3a"
             ],
             [
              0.8888888888888888,
              "#fdca26"
             ],
             [
              1,
              "#f0f921"
             ]
            ],
            "type": "histogram2dcontour"
           }
          ],
          "mesh3d": [
           {
            "colorbar": {
             "outlinewidth": 0,
             "ticks": ""
            },
            "type": "mesh3d"
           }
          ],
          "parcoords": [
           {
            "line": {
             "colorbar": {
              "outlinewidth": 0,
              "ticks": ""
             }
            },
            "type": "parcoords"
           }
          ],
          "pie": [
           {
            "automargin": true,
            "type": "pie"
           }
          ],
          "scatter": [
           {
            "fillpattern": {
             "fillmode": "overlay",
             "size": 10,
             "solidity": 0.2
            },
            "type": "scatter"
           }
          ],
          "scatter3d": [
           {
            "line": {
             "colorbar": {
              "outlinewidth": 0,
              "ticks": ""
             }
            },
            "marker": {
             "colorbar": {
              "outlinewidth": 0,
              "ticks": ""
             }
            },
            "type": "scatter3d"
           }
          ],
          "scattercarpet": [
           {
            "marker": {
             "colorbar": {
              "outlinewidth": 0,
              "ticks": ""
             }
            },
            "type": "scattercarpet"
           }
          ],
          "scattergeo": [
           {
            "marker": {
             "colorbar": {
              "outlinewidth": 0,
              "ticks": ""
             }
            },
            "type": "scattergeo"
           }
          ],
          "scattergl": [
           {
            "marker": {
             "colorbar": {
              "outlinewidth": 0,
              "ticks": ""
             }
            },
            "type": "scattergl"
           }
          ],
          "scattermapbox": [
           {
            "marker": {
             "colorbar": {
              "outlinewidth": 0,
              "ticks": ""
             }
            },
            "type": "scattermapbox"
           }
          ],
          "scatterpolar": [
           {
            "marker": {
             "colorbar": {
              "outlinewidth": 0,
              "ticks": ""
             }
            },
            "type": "scatterpolar"
           }
          ],
          "scatterpolargl": [
           {
            "marker": {
             "colorbar": {
              "outlinewidth": 0,
              "ticks": ""
             }
            },
            "type": "scatterpolargl"
           }
          ],
          "scatterternary": [
           {
            "marker": {
             "colorbar": {
              "outlinewidth": 0,
              "ticks": ""
             }
            },
            "type": "scatterternary"
           }
          ],
          "surface": [
           {
            "colorbar": {
             "outlinewidth": 0,
             "ticks": ""
            },
            "colorscale": [
             [
              0,
              "#0d0887"
             ],
             [
              0.1111111111111111,
              "#46039f"
             ],
             [
              0.2222222222222222,
              "#7201a8"
             ],
             [
              0.3333333333333333,
              "#9c179e"
             ],
             [
              0.4444444444444444,
              "#bd3786"
             ],
             [
              0.5555555555555556,
              "#d8576b"
             ],
             [
              0.6666666666666666,
              "#ed7953"
             ],
             [
              0.7777777777777778,
              "#fb9f3a"
             ],
             [
              0.8888888888888888,
              "#fdca26"
             ],
             [
              1,
              "#f0f921"
             ]
            ],
            "type": "surface"
           }
          ],
          "table": [
           {
            "cells": {
             "fill": {
              "color": "#EBF0F8"
             },
             "line": {
              "color": "white"
             }
            },
            "header": {
             "fill": {
              "color": "#C8D4E3"
             },
             "line": {
              "color": "white"
             }
            },
            "type": "table"
           }
          ]
         },
         "layout": {
          "annotationdefaults": {
           "arrowcolor": "#2a3f5f",
           "arrowhead": 0,
           "arrowwidth": 1
          },
          "autotypenumbers": "strict",
          "coloraxis": {
           "colorbar": {
            "outlinewidth": 0,
            "ticks": ""
           }
          },
          "colorscale": {
           "diverging": [
            [
             0,
             "#8e0152"
            ],
            [
             0.1,
             "#c51b7d"
            ],
            [
             0.2,
             "#de77ae"
            ],
            [
             0.3,
             "#f1b6da"
            ],
            [
             0.4,
             "#fde0ef"
            ],
            [
             0.5,
             "#f7f7f7"
            ],
            [
             0.6,
             "#e6f5d0"
            ],
            [
             0.7,
             "#b8e186"
            ],
            [
             0.8,
             "#7fbc41"
            ],
            [
             0.9,
             "#4d9221"
            ],
            [
             1,
             "#276419"
            ]
           ],
           "sequential": [
            [
             0,
             "#0d0887"
            ],
            [
             0.1111111111111111,
             "#46039f"
            ],
            [
             0.2222222222222222,
             "#7201a8"
            ],
            [
             0.3333333333333333,
             "#9c179e"
            ],
            [
             0.4444444444444444,
             "#bd3786"
            ],
            [
             0.5555555555555556,
             "#d8576b"
            ],
            [
             0.6666666666666666,
             "#ed7953"
            ],
            [
             0.7777777777777778,
             "#fb9f3a"
            ],
            [
             0.8888888888888888,
             "#fdca26"
            ],
            [
             1,
             "#f0f921"
            ]
           ],
           "sequentialminus": [
            [
             0,
             "#0d0887"
            ],
            [
             0.1111111111111111,
             "#46039f"
            ],
            [
             0.2222222222222222,
             "#7201a8"
            ],
            [
             0.3333333333333333,
             "#9c179e"
            ],
            [
             0.4444444444444444,
             "#bd3786"
            ],
            [
             0.5555555555555556,
             "#d8576b"
            ],
            [
             0.6666666666666666,
             "#ed7953"
            ],
            [
             0.7777777777777778,
             "#fb9f3a"
            ],
            [
             0.8888888888888888,
             "#fdca26"
            ],
            [
             1,
             "#f0f921"
            ]
           ]
          },
          "colorway": [
           "#636efa",
           "#EF553B",
           "#00cc96",
           "#ab63fa",
           "#FFA15A",
           "#19d3f3",
           "#FF6692",
           "#B6E880",
           "#FF97FF",
           "#FECB52"
          ],
          "font": {
           "color": "#2a3f5f"
          },
          "geo": {
           "bgcolor": "white",
           "lakecolor": "white",
           "landcolor": "#E5ECF6",
           "showlakes": true,
           "showland": true,
           "subunitcolor": "white"
          },
          "hoverlabel": {
           "align": "left"
          },
          "hovermode": "closest",
          "mapbox": {
           "style": "light"
          },
          "paper_bgcolor": "white",
          "plot_bgcolor": "#E5ECF6",
          "polar": {
           "angularaxis": {
            "gridcolor": "white",
            "linecolor": "white",
            "ticks": ""
           },
           "bgcolor": "#E5ECF6",
           "radialaxis": {
            "gridcolor": "white",
            "linecolor": "white",
            "ticks": ""
           }
          },
          "scene": {
           "xaxis": {
            "backgroundcolor": "#E5ECF6",
            "gridcolor": "white",
            "gridwidth": 2,
            "linecolor": "white",
            "showbackground": true,
            "ticks": "",
            "zerolinecolor": "white"
           },
           "yaxis": {
            "backgroundcolor": "#E5ECF6",
            "gridcolor": "white",
            "gridwidth": 2,
            "linecolor": "white",
            "showbackground": true,
            "ticks": "",
            "zerolinecolor": "white"
           },
           "zaxis": {
            "backgroundcolor": "#E5ECF6",
            "gridcolor": "white",
            "gridwidth": 2,
            "linecolor": "white",
            "showbackground": true,
            "ticks": "",
            "zerolinecolor": "white"
           }
          },
          "shapedefaults": {
           "line": {
            "color": "#2a3f5f"
           }
          },
          "ternary": {
           "aaxis": {
            "gridcolor": "white",
            "linecolor": "white",
            "ticks": ""
           },
           "baxis": {
            "gridcolor": "white",
            "linecolor": "white",
            "ticks": ""
           },
           "bgcolor": "#E5ECF6",
           "caxis": {
            "gridcolor": "white",
            "linecolor": "white",
            "ticks": ""
           }
          },
          "title": {
           "x": 0.05
          },
          "xaxis": {
           "automargin": true,
           "gridcolor": "white",
           "linecolor": "white",
           "ticks": "",
           "title": {
            "standoff": 15
           },
           "zerolinecolor": "white",
           "zerolinewidth": 2
          },
          "yaxis": {
           "automargin": true,
           "gridcolor": "white",
           "linecolor": "white",
           "ticks": "",
           "title": {
            "standoff": 15
           },
           "zerolinecolor": "white",
           "zerolinewidth": 2
          }
         }
        },
        "title": {
         "text": "Accidents for Micro Vehicels by City and Year"
        },
        "xaxis": {
         "anchor": "y",
         "categoryorder": "total descending",
         "domain": [
          0,
          1
         ],
         "title": {
          "text": "Accident Year"
         }
        },
        "yaxis": {
         "anchor": "x",
         "domain": [
          0,
          1
         ],
         "title": {
          "text": "Count"
         }
        }
       }
      }
     },
     "metadata": {},
     "output_type": "display_data"
    }
   ],
   "source": [
    "fig = px.line(\n",
    "    imh_mv_sc_long,\n",
    "    x='accident_year',\n",
    "    y='count',\n",
    "    color='involve_yishuv_name',  # Differentiates the bars by vehicle type\n",
    "    title='Accidents for Micro Vehicels by City and Year',\n",
    "    labels={'count': 'Count', 'accident_year': 'Accident Year', 'involve_yishuv_name': 'City Name'}\n",
    ")\n",
    "\n",
    "# Update the layout if you need to customize the appearance\n",
    "fig.update_layout(\n",
    "    xaxis_title='Accident Year',\n",
    "    yaxis_title='Count',\n",
    "    legend_title='City Name',\n",
    "    xaxis={'categoryorder':'total descending'}\n",
    ")\n",
    "\n",
    "# Show the plot\n",
    "fig.show()"
   ]
  },
  {
   "cell_type": "markdown",
   "id": "7cd7ec87",
   "metadata": {},
   "source": [
    "### Analyzing Jerusalem\n",
    "\n",
    "Analyze by age"
   ]
  },
  {
   "cell_type": "code",
   "execution_count": 3,
   "id": "cf87c3fb",
   "metadata": {},
   "outputs": [
    {
     "name": "stderr",
     "output_type": "stream",
     "text": [
      "C:\\Users\\itay8\\AppData\\Local\\Temp\\ipykernel_10608\\3208388615.py:1: DtypeWarning: Columns (150) have mixed types. Specify dtype option on import or set low_memory=False.\n",
      "  imh_jer = pd.read_csv('./csv_tables/i_m_h_jerusalem.csv')\n"
     ]
    },
    {
     "data": {
      "text/html": [
       "<div>\n",
       "<style scoped>\n",
       "    .dataframe tbody tr th:only-of-type {\n",
       "        vertical-align: middle;\n",
       "    }\n",
       "\n",
       "    .dataframe tbody tr th {\n",
       "        vertical-align: top;\n",
       "    }\n",
       "\n",
       "    .dataframe thead th {\n",
       "        text-align: right;\n",
       "    }\n",
       "</style>\n",
       "<table border=\"1\" class=\"dataframe\">\n",
       "  <thead>\n",
       "    <tr style=\"text-align: right;\">\n",
       "      <th></th>\n",
       "      <th>accident_id</th>\n",
       "      <th>provider_and_id</th>\n",
       "      <th>provider_code</th>\n",
       "      <th>file_type_police</th>\n",
       "      <th>involved_type</th>\n",
       "      <th>involved_type_hebrew</th>\n",
       "      <th>license_acquiring_date</th>\n",
       "      <th>age_group</th>\n",
       "      <th>age_group_hebrew</th>\n",
       "      <th>sex</th>\n",
       "      <th>...</th>\n",
       "      <th>vehicle_status</th>\n",
       "      <th>vehicle_status_hebrew</th>\n",
       "      <th>vehicle_attribution</th>\n",
       "      <th>vehicle_attribution_hebrew</th>\n",
       "      <th>seats</th>\n",
       "      <th>total_weight</th>\n",
       "      <th>total_weight_hebrew</th>\n",
       "      <th>vehicle_damage</th>\n",
       "      <th>vehicle_damage_hebrew</th>\n",
       "      <th>accident_date</th>\n",
       "    </tr>\n",
       "  </thead>\n",
       "  <tbody>\n",
       "    <tr>\n",
       "      <th>0</th>\n",
       "      <td>2013001705</td>\n",
       "      <td>12013001705</td>\n",
       "      <td>1</td>\n",
       "      <td>1</td>\n",
       "      <td>1</td>\n",
       "      <td>נהג</td>\n",
       "      <td>2008</td>\n",
       "      <td>6</td>\n",
       "      <td>25-29</td>\n",
       "      <td>1.0</td>\n",
       "      <td>...</td>\n",
       "      <td>0.0</td>\n",
       "      <td>NaN</td>\n",
       "      <td>1.0</td>\n",
       "      <td>ישראלי</td>\n",
       "      <td>99.0</td>\n",
       "      <td>1.0</td>\n",
       "      <td>עד 1.9</td>\n",
       "      <td>1.0</td>\n",
       "      <td>קל</td>\n",
       "      <td>2013-05-27 01:30:00</td>\n",
       "    </tr>\n",
       "    <tr>\n",
       "      <th>1</th>\n",
       "      <td>2023055413</td>\n",
       "      <td>32023055413</td>\n",
       "      <td>3</td>\n",
       "      <td>3</td>\n",
       "      <td>1</td>\n",
       "      <td>נהג</td>\n",
       "      <td>2011</td>\n",
       "      <td>7</td>\n",
       "      <td>30-34</td>\n",
       "      <td>1.0</td>\n",
       "      <td>...</td>\n",
       "      <td>0.0</td>\n",
       "      <td>NaN</td>\n",
       "      <td>1.0</td>\n",
       "      <td>ישראלי</td>\n",
       "      <td>99.0</td>\n",
       "      <td>0.0</td>\n",
       "      <td>לא ידוע</td>\n",
       "      <td>4.0</td>\n",
       "      <td>אין נזק</td>\n",
       "      <td>2023-02-26 14:00:00</td>\n",
       "    </tr>\n",
       "    <tr>\n",
       "      <th>2</th>\n",
       "      <td>2023056232</td>\n",
       "      <td>32023056232</td>\n",
       "      <td>3</td>\n",
       "      <td>3</td>\n",
       "      <td>1</td>\n",
       "      <td>נהג</td>\n",
       "      <td>1994</td>\n",
       "      <td>11</td>\n",
       "      <td>50-54</td>\n",
       "      <td>1.0</td>\n",
       "      <td>...</td>\n",
       "      <td>0.0</td>\n",
       "      <td>NaN</td>\n",
       "      <td>1.0</td>\n",
       "      <td>ישראלי</td>\n",
       "      <td>3.0</td>\n",
       "      <td>1.0</td>\n",
       "      <td>עד 1.9</td>\n",
       "      <td>4.0</td>\n",
       "      <td>אין נזק</td>\n",
       "      <td>2023-01-27 15:30:00</td>\n",
       "    </tr>\n",
       "    <tr>\n",
       "      <th>3</th>\n",
       "      <td>2023057247</td>\n",
       "      <td>32023057247</td>\n",
       "      <td>3</td>\n",
       "      <td>3</td>\n",
       "      <td>1</td>\n",
       "      <td>נהג</td>\n",
       "      <td>1999</td>\n",
       "      <td>12</td>\n",
       "      <td>55-59</td>\n",
       "      <td>1.0</td>\n",
       "      <td>...</td>\n",
       "      <td>0.0</td>\n",
       "      <td>NaN</td>\n",
       "      <td>1.0</td>\n",
       "      <td>ישראלי</td>\n",
       "      <td>33.0</td>\n",
       "      <td>11.0</td>\n",
       "      <td>16.0-19.0</td>\n",
       "      <td>4.0</td>\n",
       "      <td>אין נזק</td>\n",
       "      <td>2023-03-03 13:15:00</td>\n",
       "    </tr>\n",
       "    <tr>\n",
       "      <th>4</th>\n",
       "      <td>2023028123</td>\n",
       "      <td>32023028123</td>\n",
       "      <td>3</td>\n",
       "      <td>3</td>\n",
       "      <td>1</td>\n",
       "      <td>נהג</td>\n",
       "      <td>2018</td>\n",
       "      <td>5</td>\n",
       "      <td>20-24</td>\n",
       "      <td>1.0</td>\n",
       "      <td>...</td>\n",
       "      <td>0.0</td>\n",
       "      <td>NaN</td>\n",
       "      <td>1.0</td>\n",
       "      <td>ישראלי</td>\n",
       "      <td>3.0</td>\n",
       "      <td>1.0</td>\n",
       "      <td>עד 1.9</td>\n",
       "      <td>1.0</td>\n",
       "      <td>קל</td>\n",
       "      <td>2023-01-10 16:00:00</td>\n",
       "    </tr>\n",
       "    <tr>\n",
       "      <th>...</th>\n",
       "      <td>...</td>\n",
       "      <td>...</td>\n",
       "      <td>...</td>\n",
       "      <td>...</td>\n",
       "      <td>...</td>\n",
       "      <td>...</td>\n",
       "      <td>...</td>\n",
       "      <td>...</td>\n",
       "      <td>...</td>\n",
       "      <td>...</td>\n",
       "      <td>...</td>\n",
       "      <td>...</td>\n",
       "      <td>...</td>\n",
       "      <td>...</td>\n",
       "      <td>...</td>\n",
       "      <td>...</td>\n",
       "      <td>...</td>\n",
       "      <td>...</td>\n",
       "      <td>...</td>\n",
       "      <td>...</td>\n",
       "      <td>...</td>\n",
       "    </tr>\n",
       "    <tr>\n",
       "      <th>88794</th>\n",
       "      <td>2023093898</td>\n",
       "      <td>12023093898</td>\n",
       "      <td>1</td>\n",
       "      <td>1</td>\n",
       "      <td>1</td>\n",
       "      <td>נהג</td>\n",
       "      <td>1985</td>\n",
       "      <td>13</td>\n",
       "      <td>60-64</td>\n",
       "      <td>1.0</td>\n",
       "      <td>...</td>\n",
       "      <td>0.0</td>\n",
       "      <td>NaN</td>\n",
       "      <td>1.0</td>\n",
       "      <td>ישראלי</td>\n",
       "      <td>33.0</td>\n",
       "      <td>11.0</td>\n",
       "      <td>16.0-19.0</td>\n",
       "      <td>1.0</td>\n",
       "      <td>קל</td>\n",
       "      <td>2023-02-14 08:45:00</td>\n",
       "    </tr>\n",
       "    <tr>\n",
       "      <th>88795</th>\n",
       "      <td>2023097378</td>\n",
       "      <td>12023097378</td>\n",
       "      <td>1</td>\n",
       "      <td>1</td>\n",
       "      <td>1</td>\n",
       "      <td>נהג</td>\n",
       "      <td>2016</td>\n",
       "      <td>7</td>\n",
       "      <td>30-34</td>\n",
       "      <td>1.0</td>\n",
       "      <td>...</td>\n",
       "      <td>0.0</td>\n",
       "      <td>NaN</td>\n",
       "      <td>1.0</td>\n",
       "      <td>ישראלי</td>\n",
       "      <td>3.0</td>\n",
       "      <td>1.0</td>\n",
       "      <td>עד 1.9</td>\n",
       "      <td>1.0</td>\n",
       "      <td>קל</td>\n",
       "      <td>2023-03-03 14:15:00</td>\n",
       "    </tr>\n",
       "    <tr>\n",
       "      <th>88796</th>\n",
       "      <td>2023097277</td>\n",
       "      <td>32023097277</td>\n",
       "      <td>3</td>\n",
       "      <td>3</td>\n",
       "      <td>3</td>\n",
       "      <td>נפגע</td>\n",
       "      <td>0</td>\n",
       "      <td>3</td>\n",
       "      <td>10-14</td>\n",
       "      <td>1.0</td>\n",
       "      <td>...</td>\n",
       "      <td>NaN</td>\n",
       "      <td>NaN</td>\n",
       "      <td>NaN</td>\n",
       "      <td>NaN</td>\n",
       "      <td>NaN</td>\n",
       "      <td>NaN</td>\n",
       "      <td>NaN</td>\n",
       "      <td>NaN</td>\n",
       "      <td>NaN</td>\n",
       "      <td>2023-03-08 13:30:00</td>\n",
       "    </tr>\n",
       "    <tr>\n",
       "      <th>88797</th>\n",
       "      <td>2023098653</td>\n",
       "      <td>12023098653</td>\n",
       "      <td>1</td>\n",
       "      <td>1</td>\n",
       "      <td>1</td>\n",
       "      <td>נהג</td>\n",
       "      <td>1999</td>\n",
       "      <td>9</td>\n",
       "      <td>40-44</td>\n",
       "      <td>1.0</td>\n",
       "      <td>...</td>\n",
       "      <td>0.0</td>\n",
       "      <td>NaN</td>\n",
       "      <td>1.0</td>\n",
       "      <td>ישראלי</td>\n",
       "      <td>5.0</td>\n",
       "      <td>2.0</td>\n",
       "      <td>2.0-2.9</td>\n",
       "      <td>2.0</td>\n",
       "      <td>בינוני</td>\n",
       "      <td>2023-01-14 22:15:00</td>\n",
       "    </tr>\n",
       "    <tr>\n",
       "      <th>88798</th>\n",
       "      <td>2023096255</td>\n",
       "      <td>32023096255</td>\n",
       "      <td>3</td>\n",
       "      <td>3</td>\n",
       "      <td>2</td>\n",
       "      <td>נהג נפגע</td>\n",
       "      <td>2011</td>\n",
       "      <td>9</td>\n",
       "      <td>40-44</td>\n",
       "      <td>2.0</td>\n",
       "      <td>...</td>\n",
       "      <td>0.0</td>\n",
       "      <td>NaN</td>\n",
       "      <td>1.0</td>\n",
       "      <td>ישראלי</td>\n",
       "      <td>99.0</td>\n",
       "      <td>1.0</td>\n",
       "      <td>עד 1.9</td>\n",
       "      <td>1.0</td>\n",
       "      <td>קל</td>\n",
       "      <td>2023-02-13 14:30:00</td>\n",
       "    </tr>\n",
       "  </tbody>\n",
       "</table>\n",
       "<p>88799 rows × 159 columns</p>\n",
       "</div>"
      ],
      "text/plain": [
       "       accident_id  provider_and_id  provider_code  file_type_police  \\\n",
       "0       2013001705      12013001705              1                 1   \n",
       "1       2023055413      32023055413              3                 3   \n",
       "2       2023056232      32023056232              3                 3   \n",
       "3       2023057247      32023057247              3                 3   \n",
       "4       2023028123      32023028123              3                 3   \n",
       "...            ...              ...            ...               ...   \n",
       "88794   2023093898      12023093898              1                 1   \n",
       "88795   2023097378      12023097378              1                 1   \n",
       "88796   2023097277      32023097277              3                 3   \n",
       "88797   2023098653      12023098653              1                 1   \n",
       "88798   2023096255      32023096255              3                 3   \n",
       "\n",
       "       involved_type involved_type_hebrew  license_acquiring_date  age_group  \\\n",
       "0                  1                  נהג                    2008          6   \n",
       "1                  1                  נהג                    2011          7   \n",
       "2                  1                  נהג                    1994         11   \n",
       "3                  1                  נהג                    1999         12   \n",
       "4                  1                  נהג                    2018          5   \n",
       "...              ...                  ...                     ...        ...   \n",
       "88794              1                  נהג                    1985         13   \n",
       "88795              1                  נהג                    2016          7   \n",
       "88796              3                 נפגע                       0          3   \n",
       "88797              1                  נהג                    1999          9   \n",
       "88798              2             נהג נפגע                    2011          9   \n",
       "\n",
       "      age_group_hebrew  sex  ... vehicle_status  vehicle_status_hebrew  \\\n",
       "0                25-29  1.0  ...            0.0                    NaN   \n",
       "1                30-34  1.0  ...            0.0                    NaN   \n",
       "2                50-54  1.0  ...            0.0                    NaN   \n",
       "3                55-59  1.0  ...            0.0                    NaN   \n",
       "4                20-24  1.0  ...            0.0                    NaN   \n",
       "...                ...  ...  ...            ...                    ...   \n",
       "88794            60-64  1.0  ...            0.0                    NaN   \n",
       "88795            30-34  1.0  ...            0.0                    NaN   \n",
       "88796            10-14  1.0  ...            NaN                    NaN   \n",
       "88797            40-44  1.0  ...            0.0                    NaN   \n",
       "88798            40-44  2.0  ...            0.0                    NaN   \n",
       "\n",
       "       vehicle_attribution vehicle_attribution_hebrew  seats total_weight  \\\n",
       "0                      1.0                     ישראלי   99.0          1.0   \n",
       "1                      1.0                     ישראלי   99.0          0.0   \n",
       "2                      1.0                     ישראלי    3.0          1.0   \n",
       "3                      1.0                     ישראלי   33.0         11.0   \n",
       "4                      1.0                     ישראלי    3.0          1.0   \n",
       "...                    ...                        ...    ...          ...   \n",
       "88794                  1.0                     ישראלי   33.0         11.0   \n",
       "88795                  1.0                     ישראלי    3.0          1.0   \n",
       "88796                  NaN                        NaN    NaN          NaN   \n",
       "88797                  1.0                     ישראלי    5.0          2.0   \n",
       "88798                  1.0                     ישראלי   99.0          1.0   \n",
       "\n",
       "       total_weight_hebrew vehicle_damage  vehicle_damage_hebrew  \\\n",
       "0                   עד 1.9            1.0                     קל   \n",
       "1                  לא ידוע            4.0                אין נזק   \n",
       "2                   עד 1.9            4.0                אין נזק   \n",
       "3                16.0-19.0            4.0                אין נזק   \n",
       "4                   עד 1.9            1.0                     קל   \n",
       "...                    ...            ...                    ...   \n",
       "88794            16.0-19.0            1.0                     קל   \n",
       "88795               עד 1.9            1.0                     קל   \n",
       "88796                  NaN            NaN                    NaN   \n",
       "88797              2.0-2.9            2.0                 בינוני   \n",
       "88798               עד 1.9            1.0                     קל   \n",
       "\n",
       "             accident_date  \n",
       "0      2013-05-27 01:30:00  \n",
       "1      2023-02-26 14:00:00  \n",
       "2      2023-01-27 15:30:00  \n",
       "3      2023-03-03 13:15:00  \n",
       "4      2023-01-10 16:00:00  \n",
       "...                    ...  \n",
       "88794  2023-02-14 08:45:00  \n",
       "88795  2023-03-03 14:15:00  \n",
       "88796  2023-03-08 13:30:00  \n",
       "88797  2023-01-14 22:15:00  \n",
       "88798  2023-02-13 14:30:00  \n",
       "\n",
       "[88799 rows x 159 columns]"
      ]
     },
     "execution_count": 3,
     "metadata": {},
     "output_type": "execute_result"
    }
   ],
   "source": [
    "imh_jer = pd.read_csv('./csv_tables/i_m_h_jerusalem.csv')\n",
    "imh_jer"
   ]
  },
  {
   "cell_type": "code",
   "execution_count": 17,
   "id": "86d5fe49",
   "metadata": {},
   "outputs": [
    {
     "data": {
      "application/vnd.plotly.v1+json": {
       "config": {
        "plotlyServerURL": "https://plot.ly"
       },
       "data": [
        {
         "hovertemplate": "Age group=00-04<br>Accident Year=%{x}<br>Count=%{y}<extra></extra>",
         "legendgroup": "00-04",
         "line": {
          "color": "#636efa",
          "dash": "solid"
         },
         "marker": {
          "symbol": "circle"
         },
         "mode": "lines",
         "name": "00-04",
         "orientation": "v",
         "showlegend": true,
         "type": "scatter",
         "x": [
          2013,
          2014,
          2015,
          2016,
          2017,
          2018,
          2019,
          2020,
          2021,
          2022,
          2023
         ],
         "xaxis": "x",
         "y": [
          null,
          1,
          1,
          null,
          null,
          1,
          null,
          null,
          null,
          null,
          1
         ],
         "yaxis": "y"
        },
        {
         "hovertemplate": "Age group=05-09<br>Accident Year=%{x}<br>Count=%{y}<extra></extra>",
         "legendgroup": "05-09",
         "line": {
          "color": "#EF553B",
          "dash": "solid"
         },
         "marker": {
          "symbol": "circle"
         },
         "mode": "lines",
         "name": "05-09",
         "orientation": "v",
         "showlegend": true,
         "type": "scatter",
         "x": [
          2013,
          2014,
          2015,
          2016,
          2017,
          2018,
          2019,
          2020,
          2021,
          2022,
          2023
         ],
         "xaxis": "x",
         "y": [
          9,
          8,
          10,
          6,
          6,
          7,
          9,
          10,
          5,
          6,
          null
         ],
         "yaxis": "y"
        },
        {
         "hovertemplate": "Age group=10-14<br>Accident Year=%{x}<br>Count=%{y}<extra></extra>",
         "legendgroup": "10-14",
         "line": {
          "color": "#00cc96",
          "dash": "solid"
         },
         "marker": {
          "symbol": "circle"
         },
         "mode": "lines",
         "name": "10-14",
         "orientation": "v",
         "showlegend": true,
         "type": "scatter",
         "x": [
          2013,
          2014,
          2015,
          2016,
          2017,
          2018,
          2019,
          2020,
          2021,
          2022,
          2023
         ],
         "xaxis": "x",
         "y": [
          30,
          15,
          28,
          33,
          20,
          23,
          21,
          19,
          15,
          8,
          1
         ],
         "yaxis": "y"
        },
        {
         "hovertemplate": "Age group=15-19<br>Accident Year=%{x}<br>Count=%{y}<extra></extra>",
         "legendgroup": "15-19",
         "line": {
          "color": "#ab63fa",
          "dash": "solid"
         },
         "marker": {
          "symbol": "circle"
         },
         "mode": "lines",
         "name": "15-19",
         "orientation": "v",
         "showlegend": true,
         "type": "scatter",
         "x": [
          2013,
          2014,
          2015,
          2016,
          2017,
          2018,
          2019,
          2020,
          2021,
          2022,
          2023
         ],
         "xaxis": "x",
         "y": [
          16,
          24,
          33,
          38,
          48,
          70,
          39,
          31,
          38,
          32,
          4
         ],
         "yaxis": "y"
        },
        {
         "hovertemplate": "Age group=20-24<br>Accident Year=%{x}<br>Count=%{y}<extra></extra>",
         "legendgroup": "20-24",
         "line": {
          "color": "#FFA15A",
          "dash": "solid"
         },
         "marker": {
          "symbol": "circle"
         },
         "mode": "lines",
         "name": "20-24",
         "orientation": "v",
         "showlegend": true,
         "type": "scatter",
         "x": [
          2013,
          2014,
          2015,
          2016,
          2017,
          2018,
          2019,
          2020,
          2021,
          2022,
          2023
         ],
         "xaxis": "x",
         "y": [
          10,
          13,
          15,
          21,
          32,
          39,
          30,
          23,
          25,
          31,
          6
         ],
         "yaxis": "y"
        },
        {
         "hovertemplate": "Age group=25-29<br>Accident Year=%{x}<br>Count=%{y}<extra></extra>",
         "legendgroup": "25-29",
         "line": {
          "color": "#19d3f3",
          "dash": "solid"
         },
         "marker": {
          "symbol": "circle"
         },
         "mode": "lines",
         "name": "25-29",
         "orientation": "v",
         "showlegend": true,
         "type": "scatter",
         "x": [
          2013,
          2014,
          2015,
          2016,
          2017,
          2018,
          2019,
          2020,
          2021,
          2022,
          2023
         ],
         "xaxis": "x",
         "y": [
          17,
          17,
          11,
          16,
          18,
          25,
          28,
          16,
          16,
          26,
          4
         ],
         "yaxis": "y"
        },
        {
         "hovertemplate": "Age group=30-34<br>Accident Year=%{x}<br>Count=%{y}<extra></extra>",
         "legendgroup": "30-34",
         "line": {
          "color": "#FF6692",
          "dash": "solid"
         },
         "marker": {
          "symbol": "circle"
         },
         "mode": "lines",
         "name": "30-34",
         "orientation": "v",
         "showlegend": true,
         "type": "scatter",
         "x": [
          2013,
          2014,
          2015,
          2016,
          2017,
          2018,
          2019,
          2020,
          2021,
          2022,
          2023
         ],
         "xaxis": "x",
         "y": [
          8,
          13,
          7,
          14,
          16,
          17,
          17,
          9,
          19,
          15,
          5
         ],
         "yaxis": "y"
        },
        {
         "hovertemplate": "Age group=35-39<br>Accident Year=%{x}<br>Count=%{y}<extra></extra>",
         "legendgroup": "35-39",
         "line": {
          "color": "#B6E880",
          "dash": "solid"
         },
         "marker": {
          "symbol": "circle"
         },
         "mode": "lines",
         "name": "35-39",
         "orientation": "v",
         "showlegend": true,
         "type": "scatter",
         "x": [
          2013,
          2014,
          2015,
          2016,
          2017,
          2018,
          2019,
          2020,
          2021,
          2022,
          2023
         ],
         "xaxis": "x",
         "y": [
          5,
          6,
          5,
          9,
          8,
          13,
          9,
          11,
          12,
          11,
          3
         ],
         "yaxis": "y"
        },
        {
         "hovertemplate": "Age group=40-44<br>Accident Year=%{x}<br>Count=%{y}<extra></extra>",
         "legendgroup": "40-44",
         "line": {
          "color": "#FF97FF",
          "dash": "solid"
         },
         "marker": {
          "symbol": "circle"
         },
         "mode": "lines",
         "name": "40-44",
         "orientation": "v",
         "showlegend": true,
         "type": "scatter",
         "x": [
          2013,
          2014,
          2015,
          2016,
          2017,
          2018,
          2019,
          2020,
          2021,
          2022,
          2023
         ],
         "xaxis": "x",
         "y": [
          4,
          5,
          9,
          3,
          10,
          11,
          15,
          11,
          8,
          15,
          2
         ],
         "yaxis": "y"
        },
        {
         "hovertemplate": "Age group=45-49<br>Accident Year=%{x}<br>Count=%{y}<extra></extra>",
         "legendgroup": "45-49",
         "line": {
          "color": "#FECB52",
          "dash": "solid"
         },
         "marker": {
          "symbol": "circle"
         },
         "mode": "lines",
         "name": "45-49",
         "orientation": "v",
         "showlegend": true,
         "type": "scatter",
         "x": [
          2013,
          2014,
          2015,
          2016,
          2017,
          2018,
          2019,
          2020,
          2021,
          2022,
          2023
         ],
         "xaxis": "x",
         "y": [
          3,
          2,
          5,
          5,
          4,
          5,
          6,
          5,
          6,
          6,
          1
         ],
         "yaxis": "y"
        },
        {
         "hovertemplate": "Age group=50-54<br>Accident Year=%{x}<br>Count=%{y}<extra></extra>",
         "legendgroup": "50-54",
         "line": {
          "color": "#636efa",
          "dash": "solid"
         },
         "marker": {
          "symbol": "circle"
         },
         "mode": "lines",
         "name": "50-54",
         "orientation": "v",
         "showlegend": true,
         "type": "scatter",
         "x": [
          2013,
          2014,
          2015,
          2016,
          2017,
          2018,
          2019,
          2020,
          2021,
          2022,
          2023
         ],
         "xaxis": "x",
         "y": [
          4,
          6,
          3,
          4,
          6,
          8,
          6,
          6,
          4,
          9,
          null
         ],
         "yaxis": "y"
        },
        {
         "hovertemplate": "Age group=55-59<br>Accident Year=%{x}<br>Count=%{y}<extra></extra>",
         "legendgroup": "55-59",
         "line": {
          "color": "#EF553B",
          "dash": "solid"
         },
         "marker": {
          "symbol": "circle"
         },
         "mode": "lines",
         "name": "55-59",
         "orientation": "v",
         "showlegend": true,
         "type": "scatter",
         "x": [
          2013,
          2014,
          2015,
          2016,
          2017,
          2018,
          2019,
          2020,
          2021,
          2022,
          2023
         ],
         "xaxis": "x",
         "y": [
          2,
          7,
          3,
          3,
          3,
          5,
          3,
          5,
          6,
          8,
          null
         ],
         "yaxis": "y"
        },
        {
         "hovertemplate": "Age group=60-64<br>Accident Year=%{x}<br>Count=%{y}<extra></extra>",
         "legendgroup": "60-64",
         "line": {
          "color": "#00cc96",
          "dash": "solid"
         },
         "marker": {
          "symbol": "circle"
         },
         "mode": "lines",
         "name": "60-64",
         "orientation": "v",
         "showlegend": true,
         "type": "scatter",
         "x": [
          2013,
          2014,
          2015,
          2016,
          2017,
          2018,
          2019,
          2020,
          2021,
          2022,
          2023
         ],
         "xaxis": "x",
         "y": [
          1,
          5,
          5,
          5,
          6,
          3,
          7,
          3,
          2,
          1,
          null
         ],
         "yaxis": "y"
        },
        {
         "hovertemplate": "Age group=65-69<br>Accident Year=%{x}<br>Count=%{y}<extra></extra>",
         "legendgroup": "65-69",
         "line": {
          "color": "#ab63fa",
          "dash": "solid"
         },
         "marker": {
          "symbol": "circle"
         },
         "mode": "lines",
         "name": "65-69",
         "orientation": "v",
         "showlegend": true,
         "type": "scatter",
         "x": [
          2013,
          2014,
          2015,
          2016,
          2017,
          2018,
          2019,
          2020,
          2021,
          2022,
          2023
         ],
         "xaxis": "x",
         "y": [
          2,
          2,
          4,
          2,
          3,
          3,
          3,
          4,
          1,
          5,
          null
         ],
         "yaxis": "y"
        },
        {
         "hovertemplate": "Age group=70-74<br>Accident Year=%{x}<br>Count=%{y}<extra></extra>",
         "legendgroup": "70-74",
         "line": {
          "color": "#FFA15A",
          "dash": "solid"
         },
         "marker": {
          "symbol": "circle"
         },
         "mode": "lines",
         "name": "70-74",
         "orientation": "v",
         "showlegend": true,
         "type": "scatter",
         "x": [
          2013,
          2014,
          2015,
          2016,
          2017,
          2018,
          2019,
          2020,
          2021,
          2022,
          2023
         ],
         "xaxis": "x",
         "y": [
          1,
          null,
          1,
          null,
          1,
          3,
          null,
          null,
          1,
          null,
          null
         ],
         "yaxis": "y"
        },
        {
         "hovertemplate": "Age group=75-79<br>Accident Year=%{x}<br>Count=%{y}<extra></extra>",
         "legendgroup": "75-79",
         "line": {
          "color": "#19d3f3",
          "dash": "solid"
         },
         "marker": {
          "symbol": "circle"
         },
         "mode": "lines",
         "name": "75-79",
         "orientation": "v",
         "showlegend": true,
         "type": "scatter",
         "x": [
          2013,
          2014,
          2015,
          2016,
          2017,
          2018,
          2019,
          2020,
          2021,
          2022,
          2023
         ],
         "xaxis": "x",
         "y": [
          2,
          null,
          1,
          1,
          1,
          1,
          1,
          1,
          1,
          1,
          null
         ],
         "yaxis": "y"
        },
        {
         "hovertemplate": "Age group=80-84<br>Accident Year=%{x}<br>Count=%{y}<extra></extra>",
         "legendgroup": "80-84",
         "line": {
          "color": "#FF6692",
          "dash": "solid"
         },
         "marker": {
          "symbol": "circle"
         },
         "mode": "lines",
         "name": "80-84",
         "orientation": "v",
         "showlegend": true,
         "type": "scatter",
         "x": [
          2013,
          2014,
          2015,
          2016,
          2017,
          2018,
          2019,
          2020,
          2021,
          2022,
          2023
         ],
         "xaxis": "x",
         "y": [
          null,
          null,
          null,
          null,
          1,
          null,
          1,
          1,
          2,
          null,
          null
         ],
         "yaxis": "y"
        },
        {
         "hovertemplate": "Age group=85+<br>Accident Year=%{x}<br>Count=%{y}<extra></extra>",
         "legendgroup": "85+",
         "line": {
          "color": "#B6E880",
          "dash": "solid"
         },
         "marker": {
          "symbol": "circle"
         },
         "mode": "lines",
         "name": "85+",
         "orientation": "v",
         "showlegend": true,
         "type": "scatter",
         "x": [
          2013,
          2014,
          2015,
          2016,
          2017,
          2018,
          2019,
          2020,
          2021,
          2022,
          2023
         ],
         "xaxis": "x",
         "y": [
          null,
          null,
          1,
          null,
          null,
          null,
          null,
          null,
          null,
          1,
          null
         ],
         "yaxis": "y"
        }
       ],
       "layout": {
        "legend": {
         "title": {
          "text": "Age Group"
         },
         "tracegroupgap": 0
        },
        "template": {
         "data": {
          "bar": [
           {
            "error_x": {
             "color": "#2a3f5f"
            },
            "error_y": {
             "color": "#2a3f5f"
            },
            "marker": {
             "line": {
              "color": "#E5ECF6",
              "width": 0.5
             },
             "pattern": {
              "fillmode": "overlay",
              "size": 10,
              "solidity": 0.2
             }
            },
            "type": "bar"
           }
          ],
          "barpolar": [
           {
            "marker": {
             "line": {
              "color": "#E5ECF6",
              "width": 0.5
             },
             "pattern": {
              "fillmode": "overlay",
              "size": 10,
              "solidity": 0.2
             }
            },
            "type": "barpolar"
           }
          ],
          "carpet": [
           {
            "aaxis": {
             "endlinecolor": "#2a3f5f",
             "gridcolor": "white",
             "linecolor": "white",
             "minorgridcolor": "white",
             "startlinecolor": "#2a3f5f"
            },
            "baxis": {
             "endlinecolor": "#2a3f5f",
             "gridcolor": "white",
             "linecolor": "white",
             "minorgridcolor": "white",
             "startlinecolor": "#2a3f5f"
            },
            "type": "carpet"
           }
          ],
          "choropleth": [
           {
            "colorbar": {
             "outlinewidth": 0,
             "ticks": ""
            },
            "type": "choropleth"
           }
          ],
          "contour": [
           {
            "colorbar": {
             "outlinewidth": 0,
             "ticks": ""
            },
            "colorscale": [
             [
              0,
              "#0d0887"
             ],
             [
              0.1111111111111111,
              "#46039f"
             ],
             [
              0.2222222222222222,
              "#7201a8"
             ],
             [
              0.3333333333333333,
              "#9c179e"
             ],
             [
              0.4444444444444444,
              "#bd3786"
             ],
             [
              0.5555555555555556,
              "#d8576b"
             ],
             [
              0.6666666666666666,
              "#ed7953"
             ],
             [
              0.7777777777777778,
              "#fb9f3a"
             ],
             [
              0.8888888888888888,
              "#fdca26"
             ],
             [
              1,
              "#f0f921"
             ]
            ],
            "type": "contour"
           }
          ],
          "contourcarpet": [
           {
            "colorbar": {
             "outlinewidth": 0,
             "ticks": ""
            },
            "type": "contourcarpet"
           }
          ],
          "heatmap": [
           {
            "colorbar": {
             "outlinewidth": 0,
             "ticks": ""
            },
            "colorscale": [
             [
              0,
              "#0d0887"
             ],
             [
              0.1111111111111111,
              "#46039f"
             ],
             [
              0.2222222222222222,
              "#7201a8"
             ],
             [
              0.3333333333333333,
              "#9c179e"
             ],
             [
              0.4444444444444444,
              "#bd3786"
             ],
             [
              0.5555555555555556,
              "#d8576b"
             ],
             [
              0.6666666666666666,
              "#ed7953"
             ],
             [
              0.7777777777777778,
              "#fb9f3a"
             ],
             [
              0.8888888888888888,
              "#fdca26"
             ],
             [
              1,
              "#f0f921"
             ]
            ],
            "type": "heatmap"
           }
          ],
          "heatmapgl": [
           {
            "colorbar": {
             "outlinewidth": 0,
             "ticks": ""
            },
            "colorscale": [
             [
              0,
              "#0d0887"
             ],
             [
              0.1111111111111111,
              "#46039f"
             ],
             [
              0.2222222222222222,
              "#7201a8"
             ],
             [
              0.3333333333333333,
              "#9c179e"
             ],
             [
              0.4444444444444444,
              "#bd3786"
             ],
             [
              0.5555555555555556,
              "#d8576b"
             ],
             [
              0.6666666666666666,
              "#ed7953"
             ],
             [
              0.7777777777777778,
              "#fb9f3a"
             ],
             [
              0.8888888888888888,
              "#fdca26"
             ],
             [
              1,
              "#f0f921"
             ]
            ],
            "type": "heatmapgl"
           }
          ],
          "histogram": [
           {
            "marker": {
             "pattern": {
              "fillmode": "overlay",
              "size": 10,
              "solidity": 0.2
             }
            },
            "type": "histogram"
           }
          ],
          "histogram2d": [
           {
            "colorbar": {
             "outlinewidth": 0,
             "ticks": ""
            },
            "colorscale": [
             [
              0,
              "#0d0887"
             ],
             [
              0.1111111111111111,
              "#46039f"
             ],
             [
              0.2222222222222222,
              "#7201a8"
             ],
             [
              0.3333333333333333,
              "#9c179e"
             ],
             [
              0.4444444444444444,
              "#bd3786"
             ],
             [
              0.5555555555555556,
              "#d8576b"
             ],
             [
              0.6666666666666666,
              "#ed7953"
             ],
             [
              0.7777777777777778,
              "#fb9f3a"
             ],
             [
              0.8888888888888888,
              "#fdca26"
             ],
             [
              1,
              "#f0f921"
             ]
            ],
            "type": "histogram2d"
           }
          ],
          "histogram2dcontour": [
           {
            "colorbar": {
             "outlinewidth": 0,
             "ticks": ""
            },
            "colorscale": [
             [
              0,
              "#0d0887"
             ],
             [
              0.1111111111111111,
              "#46039f"
             ],
             [
              0.2222222222222222,
              "#7201a8"
             ],
             [
              0.3333333333333333,
              "#9c179e"
             ],
             [
              0.4444444444444444,
              "#bd3786"
             ],
             [
              0.5555555555555556,
              "#d8576b"
             ],
             [
              0.6666666666666666,
              "#ed7953"
             ],
             [
              0.7777777777777778,
              "#fb9f3a"
             ],
             [
              0.8888888888888888,
              "#fdca26"
             ],
             [
              1,
              "#f0f921"
             ]
            ],
            "type": "histogram2dcontour"
           }
          ],
          "mesh3d": [
           {
            "colorbar": {
             "outlinewidth": 0,
             "ticks": ""
            },
            "type": "mesh3d"
           }
          ],
          "parcoords": [
           {
            "line": {
             "colorbar": {
              "outlinewidth": 0,
              "ticks": ""
             }
            },
            "type": "parcoords"
           }
          ],
          "pie": [
           {
            "automargin": true,
            "type": "pie"
           }
          ],
          "scatter": [
           {
            "fillpattern": {
             "fillmode": "overlay",
             "size": 10,
             "solidity": 0.2
            },
            "type": "scatter"
           }
          ],
          "scatter3d": [
           {
            "line": {
             "colorbar": {
              "outlinewidth": 0,
              "ticks": ""
             }
            },
            "marker": {
             "colorbar": {
              "outlinewidth": 0,
              "ticks": ""
             }
            },
            "type": "scatter3d"
           }
          ],
          "scattercarpet": [
           {
            "marker": {
             "colorbar": {
              "outlinewidth": 0,
              "ticks": ""
             }
            },
            "type": "scattercarpet"
           }
          ],
          "scattergeo": [
           {
            "marker": {
             "colorbar": {
              "outlinewidth": 0,
              "ticks": ""
             }
            },
            "type": "scattergeo"
           }
          ],
          "scattergl": [
           {
            "marker": {
             "colorbar": {
              "outlinewidth": 0,
              "ticks": ""
             }
            },
            "type": "scattergl"
           }
          ],
          "scattermapbox": [
           {
            "marker": {
             "colorbar": {
              "outlinewidth": 0,
              "ticks": ""
             }
            },
            "type": "scattermapbox"
           }
          ],
          "scatterpolar": [
           {
            "marker": {
             "colorbar": {
              "outlinewidth": 0,
              "ticks": ""
             }
            },
            "type": "scatterpolar"
           }
          ],
          "scatterpolargl": [
           {
            "marker": {
             "colorbar": {
              "outlinewidth": 0,
              "ticks": ""
             }
            },
            "type": "scatterpolargl"
           }
          ],
          "scatterternary": [
           {
            "marker": {
             "colorbar": {
              "outlinewidth": 0,
              "ticks": ""
             }
            },
            "type": "scatterternary"
           }
          ],
          "surface": [
           {
            "colorbar": {
             "outlinewidth": 0,
             "ticks": ""
            },
            "colorscale": [
             [
              0,
              "#0d0887"
             ],
             [
              0.1111111111111111,
              "#46039f"
             ],
             [
              0.2222222222222222,
              "#7201a8"
             ],
             [
              0.3333333333333333,
              "#9c179e"
             ],
             [
              0.4444444444444444,
              "#bd3786"
             ],
             [
              0.5555555555555556,
              "#d8576b"
             ],
             [
              0.6666666666666666,
              "#ed7953"
             ],
             [
              0.7777777777777778,
              "#fb9f3a"
             ],
             [
              0.8888888888888888,
              "#fdca26"
             ],
             [
              1,
              "#f0f921"
             ]
            ],
            "type": "surface"
           }
          ],
          "table": [
           {
            "cells": {
             "fill": {
              "color": "#EBF0F8"
             },
             "line": {
              "color": "white"
             }
            },
            "header": {
             "fill": {
              "color": "#C8D4E3"
             },
             "line": {
              "color": "white"
             }
            },
            "type": "table"
           }
          ]
         },
         "layout": {
          "annotationdefaults": {
           "arrowcolor": "#2a3f5f",
           "arrowhead": 0,
           "arrowwidth": 1
          },
          "autotypenumbers": "strict",
          "coloraxis": {
           "colorbar": {
            "outlinewidth": 0,
            "ticks": ""
           }
          },
          "colorscale": {
           "diverging": [
            [
             0,
             "#8e0152"
            ],
            [
             0.1,
             "#c51b7d"
            ],
            [
             0.2,
             "#de77ae"
            ],
            [
             0.3,
             "#f1b6da"
            ],
            [
             0.4,
             "#fde0ef"
            ],
            [
             0.5,
             "#f7f7f7"
            ],
            [
             0.6,
             "#e6f5d0"
            ],
            [
             0.7,
             "#b8e186"
            ],
            [
             0.8,
             "#7fbc41"
            ],
            [
             0.9,
             "#4d9221"
            ],
            [
             1,
             "#276419"
            ]
           ],
           "sequential": [
            [
             0,
             "#0d0887"
            ],
            [
             0.1111111111111111,
             "#46039f"
            ],
            [
             0.2222222222222222,
             "#7201a8"
            ],
            [
             0.3333333333333333,
             "#9c179e"
            ],
            [
             0.4444444444444444,
             "#bd3786"
            ],
            [
             0.5555555555555556,
             "#d8576b"
            ],
            [
             0.6666666666666666,
             "#ed7953"
            ],
            [
             0.7777777777777778,
             "#fb9f3a"
            ],
            [
             0.8888888888888888,
             "#fdca26"
            ],
            [
             1,
             "#f0f921"
            ]
           ],
           "sequentialminus": [
            [
             0,
             "#0d0887"
            ],
            [
             0.1111111111111111,
             "#46039f"
            ],
            [
             0.2222222222222222,
             "#7201a8"
            ],
            [
             0.3333333333333333,
             "#9c179e"
            ],
            [
             0.4444444444444444,
             "#bd3786"
            ],
            [
             0.5555555555555556,
             "#d8576b"
            ],
            [
             0.6666666666666666,
             "#ed7953"
            ],
            [
             0.7777777777777778,
             "#fb9f3a"
            ],
            [
             0.8888888888888888,
             "#fdca26"
            ],
            [
             1,
             "#f0f921"
            ]
           ]
          },
          "colorway": [
           "#636efa",
           "#EF553B",
           "#00cc96",
           "#ab63fa",
           "#FFA15A",
           "#19d3f3",
           "#FF6692",
           "#B6E880",
           "#FF97FF",
           "#FECB52"
          ],
          "font": {
           "color": "#2a3f5f"
          },
          "geo": {
           "bgcolor": "white",
           "lakecolor": "white",
           "landcolor": "#E5ECF6",
           "showlakes": true,
           "showland": true,
           "subunitcolor": "white"
          },
          "hoverlabel": {
           "align": "left"
          },
          "hovermode": "closest",
          "mapbox": {
           "style": "light"
          },
          "paper_bgcolor": "white",
          "plot_bgcolor": "#E5ECF6",
          "polar": {
           "angularaxis": {
            "gridcolor": "white",
            "linecolor": "white",
            "ticks": ""
           },
           "bgcolor": "#E5ECF6",
           "radialaxis": {
            "gridcolor": "white",
            "linecolor": "white",
            "ticks": ""
           }
          },
          "scene": {
           "xaxis": {
            "backgroundcolor": "#E5ECF6",
            "gridcolor": "white",
            "gridwidth": 2,
            "linecolor": "white",
            "showbackground": true,
            "ticks": "",
            "zerolinecolor": "white"
           },
           "yaxis": {
            "backgroundcolor": "#E5ECF6",
            "gridcolor": "white",
            "gridwidth": 2,
            "linecolor": "white",
            "showbackground": true,
            "ticks": "",
            "zerolinecolor": "white"
           },
           "zaxis": {
            "backgroundcolor": "#E5ECF6",
            "gridcolor": "white",
            "gridwidth": 2,
            "linecolor": "white",
            "showbackground": true,
            "ticks": "",
            "zerolinecolor": "white"
           }
          },
          "shapedefaults": {
           "line": {
            "color": "#2a3f5f"
           }
          },
          "ternary": {
           "aaxis": {
            "gridcolor": "white",
            "linecolor": "white",
            "ticks": ""
           },
           "baxis": {
            "gridcolor": "white",
            "linecolor": "white",
            "ticks": ""
           },
           "bgcolor": "#E5ECF6",
           "caxis": {
            "gridcolor": "white",
            "linecolor": "white",
            "ticks": ""
           }
          },
          "title": {
           "x": 0.05
          },
          "xaxis": {
           "automargin": true,
           "gridcolor": "white",
           "linecolor": "white",
           "ticks": "",
           "title": {
            "standoff": 15
           },
           "zerolinecolor": "white",
           "zerolinewidth": 2
          },
          "yaxis": {
           "automargin": true,
           "gridcolor": "white",
           "linecolor": "white",
           "ticks": "",
           "title": {
            "standoff": 15
           },
           "zerolinecolor": "white",
           "zerolinewidth": 2
          }
         }
        },
        "title": {
         "text": "Accidents for Micro Vehicels in Jerusalem by age group and Year"
        },
        "xaxis": {
         "anchor": "y",
         "categoryorder": "total descending",
         "domain": [
          0,
          1
         ],
         "title": {
          "text": "Accident Year"
         }
        },
        "yaxis": {
         "anchor": "x",
         "domain": [
          0,
          1
         ],
         "title": {
          "text": "Count"
         }
        }
       }
      }
     },
     "metadata": {},
     "output_type": "display_data"
    }
   ],
   "source": [
    "imh_jer_gb_age_year = imh_jer[(imh_jer.age_group != 99) & (imh_jer.involve_vehicle_type.isin(micro_vehicle))].copy()\n",
    "\n",
    "\n",
    "# imh_mv_sc_gb = imh_mv_sc.groupby(['accident_year', 'involve_yishuv_name']).size().reset_index(name='count')\n",
    "# imh_mv_sc_pv = imh_mv_sc_gb.pivot(index='accident_year', columns='involve_yishuv_name', values='count').reset_index()\n",
    "# imh_mv_sc_long = imh_mv_sc_pv.melt(id_vars='accident_year', var_name='involve_yishuv_name', value_name='count')\n",
    "\n",
    "imh_jer_gb_age_year = imh_jer_gb_age_year.groupby(['accident_year', 'age_group_hebrew']).size().reset_index(name='count')\n",
    "imh_jer_pv = imh_jer_gb_age_year.pivot(index='accident_year', columns='age_group_hebrew', values='count').reset_index()\n",
    "imh_jer_long = imh_jer_pv.melt(id_vars='accident_year', var_name='age_group_hebrew', value_name='count')\n",
    "fig = px.line(\n",
    "    imh_jer_long,\n",
    "    x='accident_year',\n",
    "    y='count',\n",
    "    color='age_group_hebrew',  # Differentiates the bars by vehicle type\n",
    "    title='Accidents for Micro Vehicels in Jerusalem by age group and Year',\n",
    "    labels={'count': 'Count', 'accident_year': 'Accident Year', 'age_group_hebrew': 'Age group'}\n",
    ")\n",
    "\n",
    "# Update the layout if you need to customize the appearance\n",
    "fig.update_layout(\n",
    "    xaxis_title='Accident Year',\n",
    "    yaxis_title='Count',\n",
    "    legend_title='Age Group',\n",
    "    xaxis={'categoryorder':'total descending'}\n",
    ")\n",
    "\n",
    "# Show the plot\n",
    "fig.show()"
   ]
  },
  {
   "cell_type": "code",
   "execution_count": 16,
   "id": "dc3c13fa",
   "metadata": {},
   "outputs": [
    {
     "data": {
      "application/vnd.plotly.v1+json": {
       "config": {
        "plotlyServerURL": "https://plot.ly"
       },
       "data": [
        {
         "hovertemplate": "Age Group=05-09<br>Accident Year=%{x}<br>Cumulative Count=%{y}<extra></extra>",
         "legendgroup": "05-09",
         "line": {
          "color": "#636efa",
          "dash": "solid"
         },
         "marker": {
          "symbol": "circle"
         },
         "mode": "lines",
         "name": "05-09",
         "orientation": "v",
         "showlegend": true,
         "type": "scatter",
         "x": [
          2013,
          2014,
          2015,
          2016,
          2017,
          2018,
          2019,
          2020,
          2021,
          2022
         ],
         "xaxis": "x",
         "y": [
          9,
          17,
          27,
          33,
          39,
          46,
          55,
          65,
          70,
          76
         ],
         "yaxis": "y"
        },
        {
         "hovertemplate": "Age Group=10-14<br>Accident Year=%{x}<br>Cumulative Count=%{y}<extra></extra>",
         "legendgroup": "10-14",
         "line": {
          "color": "#EF553B",
          "dash": "solid"
         },
         "marker": {
          "symbol": "circle"
         },
         "mode": "lines",
         "name": "10-14",
         "orientation": "v",
         "showlegend": true,
         "type": "scatter",
         "x": [
          2013,
          2014,
          2015,
          2016,
          2017,
          2018,
          2019,
          2020,
          2021,
          2022,
          2023
         ],
         "xaxis": "x",
         "y": [
          30,
          45,
          73,
          106,
          126,
          149,
          170,
          189,
          204,
          212,
          213
         ],
         "yaxis": "y"
        },
        {
         "hovertemplate": "Age Group=15-19<br>Accident Year=%{x}<br>Cumulative Count=%{y}<extra></extra>",
         "legendgroup": "15-19",
         "line": {
          "color": "#00cc96",
          "dash": "solid"
         },
         "marker": {
          "symbol": "circle"
         },
         "mode": "lines",
         "name": "15-19",
         "orientation": "v",
         "showlegend": true,
         "type": "scatter",
         "x": [
          2013,
          2014,
          2015,
          2016,
          2017,
          2018,
          2019,
          2020,
          2021,
          2022,
          2023
         ],
         "xaxis": "x",
         "y": [
          16,
          40,
          73,
          111,
          159,
          229,
          268,
          299,
          337,
          369,
          373
         ],
         "yaxis": "y"
        },
        {
         "hovertemplate": "Age Group=20-24<br>Accident Year=%{x}<br>Cumulative Count=%{y}<extra></extra>",
         "legendgroup": "20-24",
         "line": {
          "color": "#ab63fa",
          "dash": "solid"
         },
         "marker": {
          "symbol": "circle"
         },
         "mode": "lines",
         "name": "20-24",
         "orientation": "v",
         "showlegend": true,
         "type": "scatter",
         "x": [
          2013,
          2014,
          2015,
          2016,
          2017,
          2018,
          2019,
          2020,
          2021,
          2022,
          2023
         ],
         "xaxis": "x",
         "y": [
          10,
          23,
          38,
          59,
          91,
          130,
          160,
          183,
          208,
          239,
          245
         ],
         "yaxis": "y"
        },
        {
         "hovertemplate": "Age Group=25-29<br>Accident Year=%{x}<br>Cumulative Count=%{y}<extra></extra>",
         "legendgroup": "25-29",
         "line": {
          "color": "#FFA15A",
          "dash": "solid"
         },
         "marker": {
          "symbol": "circle"
         },
         "mode": "lines",
         "name": "25-29",
         "orientation": "v",
         "showlegend": true,
         "type": "scatter",
         "x": [
          2013,
          2014,
          2015,
          2016,
          2017,
          2018,
          2019,
          2020,
          2021,
          2022,
          2023
         ],
         "xaxis": "x",
         "y": [
          17,
          34,
          45,
          61,
          79,
          104,
          132,
          148,
          164,
          190,
          194
         ],
         "yaxis": "y"
        },
        {
         "hovertemplate": "Age Group=30-34<br>Accident Year=%{x}<br>Cumulative Count=%{y}<extra></extra>",
         "legendgroup": "30-34",
         "line": {
          "color": "#19d3f3",
          "dash": "solid"
         },
         "marker": {
          "symbol": "circle"
         },
         "mode": "lines",
         "name": "30-34",
         "orientation": "v",
         "showlegend": true,
         "type": "scatter",
         "x": [
          2013,
          2014,
          2015,
          2016,
          2017,
          2018,
          2019,
          2020,
          2021,
          2022,
          2023
         ],
         "xaxis": "x",
         "y": [
          8,
          21,
          28,
          42,
          58,
          75,
          92,
          101,
          120,
          135,
          140
         ],
         "yaxis": "y"
        },
        {
         "hovertemplate": "Age Group=35-39<br>Accident Year=%{x}<br>Cumulative Count=%{y}<extra></extra>",
         "legendgroup": "35-39",
         "line": {
          "color": "#FF6692",
          "dash": "solid"
         },
         "marker": {
          "symbol": "circle"
         },
         "mode": "lines",
         "name": "35-39",
         "orientation": "v",
         "showlegend": true,
         "type": "scatter",
         "x": [
          2013,
          2014,
          2015,
          2016,
          2017,
          2018,
          2019,
          2020,
          2021,
          2022,
          2023
         ],
         "xaxis": "x",
         "y": [
          5,
          11,
          16,
          25,
          33,
          46,
          55,
          66,
          78,
          89,
          92
         ],
         "yaxis": "y"
        },
        {
         "hovertemplate": "Age Group=40-44<br>Accident Year=%{x}<br>Cumulative Count=%{y}<extra></extra>",
         "legendgroup": "40-44",
         "line": {
          "color": "#B6E880",
          "dash": "solid"
         },
         "marker": {
          "symbol": "circle"
         },
         "mode": "lines",
         "name": "40-44",
         "orientation": "v",
         "showlegend": true,
         "type": "scatter",
         "x": [
          2013,
          2014,
          2015,
          2016,
          2017,
          2018,
          2019,
          2020,
          2021,
          2022,
          2023
         ],
         "xaxis": "x",
         "y": [
          4,
          9,
          18,
          21,
          31,
          42,
          57,
          68,
          76,
          91,
          93
         ],
         "yaxis": "y"
        },
        {
         "hovertemplate": "Age Group=45-49<br>Accident Year=%{x}<br>Cumulative Count=%{y}<extra></extra>",
         "legendgroup": "45-49",
         "line": {
          "color": "#FF97FF",
          "dash": "solid"
         },
         "marker": {
          "symbol": "circle"
         },
         "mode": "lines",
         "name": "45-49",
         "orientation": "v",
         "showlegend": true,
         "type": "scatter",
         "x": [
          2013,
          2014,
          2015,
          2016,
          2017,
          2018,
          2019,
          2020,
          2021,
          2022,
          2023
         ],
         "xaxis": "x",
         "y": [
          3,
          5,
          10,
          15,
          19,
          24,
          30,
          35,
          41,
          47,
          48
         ],
         "yaxis": "y"
        },
        {
         "hovertemplate": "Age Group=50-54<br>Accident Year=%{x}<br>Cumulative Count=%{y}<extra></extra>",
         "legendgroup": "50-54",
         "line": {
          "color": "#FECB52",
          "dash": "solid"
         },
         "marker": {
          "symbol": "circle"
         },
         "mode": "lines",
         "name": "50-54",
         "orientation": "v",
         "showlegend": true,
         "type": "scatter",
         "x": [
          2013,
          2014,
          2015,
          2016,
          2017,
          2018,
          2019,
          2020,
          2021,
          2022
         ],
         "xaxis": "x",
         "y": [
          4,
          10,
          13,
          17,
          23,
          31,
          37,
          43,
          47,
          56
         ],
         "yaxis": "y"
        },
        {
         "hovertemplate": "Age Group=55-59<br>Accident Year=%{x}<br>Cumulative Count=%{y}<extra></extra>",
         "legendgroup": "55-59",
         "line": {
          "color": "#636efa",
          "dash": "solid"
         },
         "marker": {
          "symbol": "circle"
         },
         "mode": "lines",
         "name": "55-59",
         "orientation": "v",
         "showlegend": true,
         "type": "scatter",
         "x": [
          2013,
          2014,
          2015,
          2016,
          2017,
          2018,
          2019,
          2020,
          2021,
          2022
         ],
         "xaxis": "x",
         "y": [
          2,
          9,
          12,
          15,
          18,
          23,
          26,
          31,
          37,
          45
         ],
         "yaxis": "y"
        },
        {
         "hovertemplate": "Age Group=60-64<br>Accident Year=%{x}<br>Cumulative Count=%{y}<extra></extra>",
         "legendgroup": "60-64",
         "line": {
          "color": "#EF553B",
          "dash": "solid"
         },
         "marker": {
          "symbol": "circle"
         },
         "mode": "lines",
         "name": "60-64",
         "orientation": "v",
         "showlegend": true,
         "type": "scatter",
         "x": [
          2013,
          2014,
          2015,
          2016,
          2017,
          2018,
          2019,
          2020,
          2021,
          2022
         ],
         "xaxis": "x",
         "y": [
          1,
          6,
          11,
          16,
          22,
          25,
          32,
          35,
          37,
          38
         ],
         "yaxis": "y"
        },
        {
         "hovertemplate": "Age Group=65-69<br>Accident Year=%{x}<br>Cumulative Count=%{y}<extra></extra>",
         "legendgroup": "65-69",
         "line": {
          "color": "#00cc96",
          "dash": "solid"
         },
         "marker": {
          "symbol": "circle"
         },
         "mode": "lines",
         "name": "65-69",
         "orientation": "v",
         "showlegend": true,
         "type": "scatter",
         "x": [
          2013,
          2014,
          2015,
          2016,
          2017,
          2018,
          2019,
          2020,
          2021,
          2022
         ],
         "xaxis": "x",
         "y": [
          2,
          4,
          8,
          10,
          13,
          16,
          19,
          23,
          24,
          29
         ],
         "yaxis": "y"
        },
        {
         "hovertemplate": "Age Group=70-74<br>Accident Year=%{x}<br>Cumulative Count=%{y}<extra></extra>",
         "legendgroup": "70-74",
         "line": {
          "color": "#ab63fa",
          "dash": "solid"
         },
         "marker": {
          "symbol": "circle"
         },
         "mode": "lines",
         "name": "70-74",
         "orientation": "v",
         "showlegend": true,
         "type": "scatter",
         "x": [
          2013,
          2015,
          2017,
          2018,
          2021
         ],
         "xaxis": "x",
         "y": [
          1,
          2,
          3,
          6,
          7
         ],
         "yaxis": "y"
        },
        {
         "hovertemplate": "Age Group=75-79<br>Accident Year=%{x}<br>Cumulative Count=%{y}<extra></extra>",
         "legendgroup": "75-79",
         "line": {
          "color": "#FFA15A",
          "dash": "solid"
         },
         "marker": {
          "symbol": "circle"
         },
         "mode": "lines",
         "name": "75-79",
         "orientation": "v",
         "showlegend": true,
         "type": "scatter",
         "x": [
          2013,
          2015,
          2016,
          2017,
          2018,
          2019,
          2020,
          2021,
          2022
         ],
         "xaxis": "x",
         "y": [
          2,
          3,
          4,
          5,
          6,
          7,
          8,
          9,
          10
         ],
         "yaxis": "y"
        },
        {
         "hovertemplate": "Age Group=00-04<br>Accident Year=%{x}<br>Cumulative Count=%{y}<extra></extra>",
         "legendgroup": "00-04",
         "line": {
          "color": "#19d3f3",
          "dash": "solid"
         },
         "marker": {
          "symbol": "circle"
         },
         "mode": "lines",
         "name": "00-04",
         "orientation": "v",
         "showlegend": true,
         "type": "scatter",
         "x": [
          2014,
          2015,
          2018,
          2023
         ],
         "xaxis": "x",
         "y": [
          1,
          2,
          3,
          4
         ],
         "yaxis": "y"
        },
        {
         "hovertemplate": "Age Group=85+<br>Accident Year=%{x}<br>Cumulative Count=%{y}<extra></extra>",
         "legendgroup": "85+",
         "line": {
          "color": "#FF6692",
          "dash": "solid"
         },
         "marker": {
          "symbol": "circle"
         },
         "mode": "lines",
         "name": "85+",
         "orientation": "v",
         "showlegend": true,
         "type": "scatter",
         "x": [
          2015,
          2022
         ],
         "xaxis": "x",
         "y": [
          1,
          2
         ],
         "yaxis": "y"
        },
        {
         "hovertemplate": "Age Group=80-84<br>Accident Year=%{x}<br>Cumulative Count=%{y}<extra></extra>",
         "legendgroup": "80-84",
         "line": {
          "color": "#B6E880",
          "dash": "solid"
         },
         "marker": {
          "symbol": "circle"
         },
         "mode": "lines",
         "name": "80-84",
         "orientation": "v",
         "showlegend": true,
         "type": "scatter",
         "x": [
          2017,
          2019,
          2020,
          2021
         ],
         "xaxis": "x",
         "y": [
          1,
          2,
          3,
          5
         ],
         "yaxis": "y"
        }
       ],
       "layout": {
        "legend": {
         "title": {
          "text": "Age Group"
         },
         "tracegroupgap": 0
        },
        "template": {
         "data": {
          "bar": [
           {
            "error_x": {
             "color": "#2a3f5f"
            },
            "error_y": {
             "color": "#2a3f5f"
            },
            "marker": {
             "line": {
              "color": "#E5ECF6",
              "width": 0.5
             },
             "pattern": {
              "fillmode": "overlay",
              "size": 10,
              "solidity": 0.2
             }
            },
            "type": "bar"
           }
          ],
          "barpolar": [
           {
            "marker": {
             "line": {
              "color": "#E5ECF6",
              "width": 0.5
             },
             "pattern": {
              "fillmode": "overlay",
              "size": 10,
              "solidity": 0.2
             }
            },
            "type": "barpolar"
           }
          ],
          "carpet": [
           {
            "aaxis": {
             "endlinecolor": "#2a3f5f",
             "gridcolor": "white",
             "linecolor": "white",
             "minorgridcolor": "white",
             "startlinecolor": "#2a3f5f"
            },
            "baxis": {
             "endlinecolor": "#2a3f5f",
             "gridcolor": "white",
             "linecolor": "white",
             "minorgridcolor": "white",
             "startlinecolor": "#2a3f5f"
            },
            "type": "carpet"
           }
          ],
          "choropleth": [
           {
            "colorbar": {
             "outlinewidth": 0,
             "ticks": ""
            },
            "type": "choropleth"
           }
          ],
          "contour": [
           {
            "colorbar": {
             "outlinewidth": 0,
             "ticks": ""
            },
            "colorscale": [
             [
              0,
              "#0d0887"
             ],
             [
              0.1111111111111111,
              "#46039f"
             ],
             [
              0.2222222222222222,
              "#7201a8"
             ],
             [
              0.3333333333333333,
              "#9c179e"
             ],
             [
              0.4444444444444444,
              "#bd3786"
             ],
             [
              0.5555555555555556,
              "#d8576b"
             ],
             [
              0.6666666666666666,
              "#ed7953"
             ],
             [
              0.7777777777777778,
              "#fb9f3a"
             ],
             [
              0.8888888888888888,
              "#fdca26"
             ],
             [
              1,
              "#f0f921"
             ]
            ],
            "type": "contour"
           }
          ],
          "contourcarpet": [
           {
            "colorbar": {
             "outlinewidth": 0,
             "ticks": ""
            },
            "type": "contourcarpet"
           }
          ],
          "heatmap": [
           {
            "colorbar": {
             "outlinewidth": 0,
             "ticks": ""
            },
            "colorscale": [
             [
              0,
              "#0d0887"
             ],
             [
              0.1111111111111111,
              "#46039f"
             ],
             [
              0.2222222222222222,
              "#7201a8"
             ],
             [
              0.3333333333333333,
              "#9c179e"
             ],
             [
              0.4444444444444444,
              "#bd3786"
             ],
             [
              0.5555555555555556,
              "#d8576b"
             ],
             [
              0.6666666666666666,
              "#ed7953"
             ],
             [
              0.7777777777777778,
              "#fb9f3a"
             ],
             [
              0.8888888888888888,
              "#fdca26"
             ],
             [
              1,
              "#f0f921"
             ]
            ],
            "type": "heatmap"
           }
          ],
          "heatmapgl": [
           {
            "colorbar": {
             "outlinewidth": 0,
             "ticks": ""
            },
            "colorscale": [
             [
              0,
              "#0d0887"
             ],
             [
              0.1111111111111111,
              "#46039f"
             ],
             [
              0.2222222222222222,
              "#7201a8"
             ],
             [
              0.3333333333333333,
              "#9c179e"
             ],
             [
              0.4444444444444444,
              "#bd3786"
             ],
             [
              0.5555555555555556,
              "#d8576b"
             ],
             [
              0.6666666666666666,
              "#ed7953"
             ],
             [
              0.7777777777777778,
              "#fb9f3a"
             ],
             [
              0.8888888888888888,
              "#fdca26"
             ],
             [
              1,
              "#f0f921"
             ]
            ],
            "type": "heatmapgl"
           }
          ],
          "histogram": [
           {
            "marker": {
             "pattern": {
              "fillmode": "overlay",
              "size": 10,
              "solidity": 0.2
             }
            },
            "type": "histogram"
           }
          ],
          "histogram2d": [
           {
            "colorbar": {
             "outlinewidth": 0,
             "ticks": ""
            },
            "colorscale": [
             [
              0,
              "#0d0887"
             ],
             [
              0.1111111111111111,
              "#46039f"
             ],
             [
              0.2222222222222222,
              "#7201a8"
             ],
             [
              0.3333333333333333,
              "#9c179e"
             ],
             [
              0.4444444444444444,
              "#bd3786"
             ],
             [
              0.5555555555555556,
              "#d8576b"
             ],
             [
              0.6666666666666666,
              "#ed7953"
             ],
             [
              0.7777777777777778,
              "#fb9f3a"
             ],
             [
              0.8888888888888888,
              "#fdca26"
             ],
             [
              1,
              "#f0f921"
             ]
            ],
            "type": "histogram2d"
           }
          ],
          "histogram2dcontour": [
           {
            "colorbar": {
             "outlinewidth": 0,
             "ticks": ""
            },
            "colorscale": [
             [
              0,
              "#0d0887"
             ],
             [
              0.1111111111111111,
              "#46039f"
             ],
             [
              0.2222222222222222,
              "#7201a8"
             ],
             [
              0.3333333333333333,
              "#9c179e"
             ],
             [
              0.4444444444444444,
              "#bd3786"
             ],
             [
              0.5555555555555556,
              "#d8576b"
             ],
             [
              0.6666666666666666,
              "#ed7953"
             ],
             [
              0.7777777777777778,
              "#fb9f3a"
             ],
             [
              0.8888888888888888,
              "#fdca26"
             ],
             [
              1,
              "#f0f921"
             ]
            ],
            "type": "histogram2dcontour"
           }
          ],
          "mesh3d": [
           {
            "colorbar": {
             "outlinewidth": 0,
             "ticks": ""
            },
            "type": "mesh3d"
           }
          ],
          "parcoords": [
           {
            "line": {
             "colorbar": {
              "outlinewidth": 0,
              "ticks": ""
             }
            },
            "type": "parcoords"
           }
          ],
          "pie": [
           {
            "automargin": true,
            "type": "pie"
           }
          ],
          "scatter": [
           {
            "fillpattern": {
             "fillmode": "overlay",
             "size": 10,
             "solidity": 0.2
            },
            "type": "scatter"
           }
          ],
          "scatter3d": [
           {
            "line": {
             "colorbar": {
              "outlinewidth": 0,
              "ticks": ""
             }
            },
            "marker": {
             "colorbar": {
              "outlinewidth": 0,
              "ticks": ""
             }
            },
            "type": "scatter3d"
           }
          ],
          "scattercarpet": [
           {
            "marker": {
             "colorbar": {
              "outlinewidth": 0,
              "ticks": ""
             }
            },
            "type": "scattercarpet"
           }
          ],
          "scattergeo": [
           {
            "marker": {
             "colorbar": {
              "outlinewidth": 0,
              "ticks": ""
             }
            },
            "type": "scattergeo"
           }
          ],
          "scattergl": [
           {
            "marker": {
             "colorbar": {
              "outlinewidth": 0,
              "ticks": ""
             }
            },
            "type": "scattergl"
           }
          ],
          "scattermapbox": [
           {
            "marker": {
             "colorbar": {
              "outlinewidth": 0,
              "ticks": ""
             }
            },
            "type": "scattermapbox"
           }
          ],
          "scatterpolar": [
           {
            "marker": {
             "colorbar": {
              "outlinewidth": 0,
              "ticks": ""
             }
            },
            "type": "scatterpolar"
           }
          ],
          "scatterpolargl": [
           {
            "marker": {
             "colorbar": {
              "outlinewidth": 0,
              "ticks": ""
             }
            },
            "type": "scatterpolargl"
           }
          ],
          "scatterternary": [
           {
            "marker": {
             "colorbar": {
              "outlinewidth": 0,
              "ticks": ""
             }
            },
            "type": "scatterternary"
           }
          ],
          "surface": [
           {
            "colorbar": {
             "outlinewidth": 0,
             "ticks": ""
            },
            "colorscale": [
             [
              0,
              "#0d0887"
             ],
             [
              0.1111111111111111,
              "#46039f"
             ],
             [
              0.2222222222222222,
              "#7201a8"
             ],
             [
              0.3333333333333333,
              "#9c179e"
             ],
             [
              0.4444444444444444,
              "#bd3786"
             ],
             [
              0.5555555555555556,
              "#d8576b"
             ],
             [
              0.6666666666666666,
              "#ed7953"
             ],
             [
              0.7777777777777778,
              "#fb9f3a"
             ],
             [
              0.8888888888888888,
              "#fdca26"
             ],
             [
              1,
              "#f0f921"
             ]
            ],
            "type": "surface"
           }
          ],
          "table": [
           {
            "cells": {
             "fill": {
              "color": "#EBF0F8"
             },
             "line": {
              "color": "white"
             }
            },
            "header": {
             "fill": {
              "color": "#C8D4E3"
             },
             "line": {
              "color": "white"
             }
            },
            "type": "table"
           }
          ]
         },
         "layout": {
          "annotationdefaults": {
           "arrowcolor": "#2a3f5f",
           "arrowhead": 0,
           "arrowwidth": 1
          },
          "autotypenumbers": "strict",
          "coloraxis": {
           "colorbar": {
            "outlinewidth": 0,
            "ticks": ""
           }
          },
          "colorscale": {
           "diverging": [
            [
             0,
             "#8e0152"
            ],
            [
             0.1,
             "#c51b7d"
            ],
            [
             0.2,
             "#de77ae"
            ],
            [
             0.3,
             "#f1b6da"
            ],
            [
             0.4,
             "#fde0ef"
            ],
            [
             0.5,
             "#f7f7f7"
            ],
            [
             0.6,
             "#e6f5d0"
            ],
            [
             0.7,
             "#b8e186"
            ],
            [
             0.8,
             "#7fbc41"
            ],
            [
             0.9,
             "#4d9221"
            ],
            [
             1,
             "#276419"
            ]
           ],
           "sequential": [
            [
             0,
             "#0d0887"
            ],
            [
             0.1111111111111111,
             "#46039f"
            ],
            [
             0.2222222222222222,
             "#7201a8"
            ],
            [
             0.3333333333333333,
             "#9c179e"
            ],
            [
             0.4444444444444444,
             "#bd3786"
            ],
            [
             0.5555555555555556,
             "#d8576b"
            ],
            [
             0.6666666666666666,
             "#ed7953"
            ],
            [
             0.7777777777777778,
             "#fb9f3a"
            ],
            [
             0.8888888888888888,
             "#fdca26"
            ],
            [
             1,
             "#f0f921"
            ]
           ],
           "sequentialminus": [
            [
             0,
             "#0d0887"
            ],
            [
             0.1111111111111111,
             "#46039f"
            ],
            [
             0.2222222222222222,
             "#7201a8"
            ],
            [
             0.3333333333333333,
             "#9c179e"
            ],
            [
             0.4444444444444444,
             "#bd3786"
            ],
            [
             0.5555555555555556,
             "#d8576b"
            ],
            [
             0.6666666666666666,
             "#ed7953"
            ],
            [
             0.7777777777777778,
             "#fb9f3a"
            ],
            [
             0.8888888888888888,
             "#fdca26"
            ],
            [
             1,
             "#f0f921"
            ]
           ]
          },
          "colorway": [
           "#636efa",
           "#EF553B",
           "#00cc96",
           "#ab63fa",
           "#FFA15A",
           "#19d3f3",
           "#FF6692",
           "#B6E880",
           "#FF97FF",
           "#FECB52"
          ],
          "font": {
           "color": "#2a3f5f"
          },
          "geo": {
           "bgcolor": "white",
           "lakecolor": "white",
           "landcolor": "#E5ECF6",
           "showlakes": true,
           "showland": true,
           "subunitcolor": "white"
          },
          "hoverlabel": {
           "align": "left"
          },
          "hovermode": "closest",
          "mapbox": {
           "style": "light"
          },
          "paper_bgcolor": "white",
          "plot_bgcolor": "#E5ECF6",
          "polar": {
           "angularaxis": {
            "gridcolor": "white",
            "linecolor": "white",
            "ticks": ""
           },
           "bgcolor": "#E5ECF6",
           "radialaxis": {
            "gridcolor": "white",
            "linecolor": "white",
            "ticks": ""
           }
          },
          "scene": {
           "xaxis": {
            "backgroundcolor": "#E5ECF6",
            "gridcolor": "white",
            "gridwidth": 2,
            "linecolor": "white",
            "showbackground": true,
            "ticks": "",
            "zerolinecolor": "white"
           },
           "yaxis": {
            "backgroundcolor": "#E5ECF6",
            "gridcolor": "white",
            "gridwidth": 2,
            "linecolor": "white",
            "showbackground": true,
            "ticks": "",
            "zerolinecolor": "white"
           },
           "zaxis": {
            "backgroundcolor": "#E5ECF6",
            "gridcolor": "white",
            "gridwidth": 2,
            "linecolor": "white",
            "showbackground": true,
            "ticks": "",
            "zerolinecolor": "white"
           }
          },
          "shapedefaults": {
           "line": {
            "color": "#2a3f5f"
           }
          },
          "ternary": {
           "aaxis": {
            "gridcolor": "white",
            "linecolor": "white",
            "ticks": ""
           },
           "baxis": {
            "gridcolor": "white",
            "linecolor": "white",
            "ticks": ""
           },
           "bgcolor": "#E5ECF6",
           "caxis": {
            "gridcolor": "white",
            "linecolor": "white",
            "ticks": ""
           }
          },
          "title": {
           "x": 0.05
          },
          "xaxis": {
           "automargin": true,
           "gridcolor": "white",
           "linecolor": "white",
           "ticks": "",
           "title": {
            "standoff": 15
           },
           "zerolinecolor": "white",
           "zerolinewidth": 2
          },
          "yaxis": {
           "automargin": true,
           "gridcolor": "white",
           "linecolor": "white",
           "ticks": "",
           "title": {
            "standoff": 15
           },
           "zerolinecolor": "white",
           "zerolinewidth": 2
          }
         }
        },
        "title": {
         "text": "Cumulative Accidents for Micro Vehicles in Jerusalem by Age Group and Year"
        },
        "xaxis": {
         "anchor": "y",
         "domain": [
          0,
          1
         ],
         "title": {
          "text": "Accident Year"
         },
         "type": "category"
        },
        "yaxis": {
         "anchor": "x",
         "domain": [
          0,
          1
         ],
         "title": {
          "text": "Cumulative Count"
         }
        }
       }
      }
     },
     "metadata": {},
     "output_type": "display_data"
    }
   ],
   "source": [
    "imh_jer_gb_age_year = imh_jer[(imh_jer.age_group != 99) & (imh_jer.involve_vehicle_type.isin(micro_vehicle))].copy()\n",
    "\n",
    "# Group by 'accident_year' and 'age_group_hebrew' and sum 'count'\n",
    "imh_jer_gb_age_year = imh_jer_gb_age_year.groupby(['accident_year', 'age_group_hebrew']).size().reset_index(name='count')\n",
    "\n",
    "# Calculate the cumulative count for each age group per year\n",
    "imh_jer_gb_age_year['cumulative_count'] = imh_jer_gb_age_year.groupby(['age_group_hebrew'])['count'].cumsum()\n",
    "\n",
    "# Create the cumulative line plot\n",
    "fig = px.line(\n",
    "    imh_jer_gb_age_year,\n",
    "    x='accident_year',\n",
    "    y='cumulative_count',\n",
    "    color='age_group_hebrew',  # Differentiates the lines by age group\n",
    "    title='Cumulative Accidents for Micro Vehicles in Jerusalem by Age Group and Year',\n",
    "    labels={'cumulative_count': 'Cumulative Count', 'accident_year': 'Accident Year', 'age_group_hebrew': 'Age Group'}\n",
    ")\n",
    "\n",
    "# Update the layout\n",
    "fig.update_layout(\n",
    "    xaxis_title='Accident Year',\n",
    "    yaxis_title='Cumulative Count',\n",
    "    legend_title='Age Group',\n",
    "    xaxis=dict(type='category')\n",
    ")\n",
    "\n",
    "# Show the plot\n",
    "fig.show()"
   ]
  },
  {
   "cell_type": "code",
   "execution_count": 25,
   "id": "ab487a56",
   "metadata": {},
   "outputs": [
    {
     "data": {
      "application/vnd.plotly.v1+json": {
       "config": {
        "plotlyServerURL": "https://plot.ly"
       },
       "data": [
        {
         "fillpattern": {
          "shape": ""
         },
         "hovertemplate": "age_group_hebrew=05-09<br>Accident Year=%{x}<br>Number of Accidents=%{y}<extra></extra>",
         "legendgroup": "05-09",
         "line": {
          "color": "#636efa"
         },
         "marker": {
          "symbol": "circle"
         },
         "mode": "lines",
         "name": "05-09",
         "orientation": "v",
         "showlegend": true,
         "stackgroup": "1",
         "type": "scatter",
         "x": [
          2013,
          2014,
          2015,
          2016,
          2017,
          2018,
          2019,
          2020,
          2021,
          2022,
          2023
         ],
         "xaxis": "x",
         "y": [
          9,
          8,
          10,
          6,
          6,
          7,
          9,
          10,
          5,
          6,
          0
         ],
         "yaxis": "y"
        },
        {
         "fillpattern": {
          "shape": ""
         },
         "hovertemplate": "age_group_hebrew=10-14<br>Accident Year=%{x}<br>Number of Accidents=%{y}<extra></extra>",
         "legendgroup": "10-14",
         "line": {
          "color": "#EF553B"
         },
         "marker": {
          "symbol": "circle"
         },
         "mode": "lines",
         "name": "10-14",
         "orientation": "v",
         "showlegend": true,
         "stackgroup": "1",
         "type": "scatter",
         "x": [
          2013,
          2014,
          2015,
          2016,
          2017,
          2018,
          2019,
          2020,
          2021,
          2022,
          2023
         ],
         "xaxis": "x",
         "y": [
          30,
          15,
          28,
          33,
          20,
          23,
          21,
          19,
          15,
          8,
          1
         ],
         "yaxis": "y"
        },
        {
         "fillpattern": {
          "shape": ""
         },
         "hovertemplate": "age_group_hebrew=15-19<br>Accident Year=%{x}<br>Number of Accidents=%{y}<extra></extra>",
         "legendgroup": "15-19",
         "line": {
          "color": "#00cc96"
         },
         "marker": {
          "symbol": "circle"
         },
         "mode": "lines",
         "name": "15-19",
         "orientation": "v",
         "showlegend": true,
         "stackgroup": "1",
         "type": "scatter",
         "x": [
          2013,
          2014,
          2015,
          2016,
          2017,
          2018,
          2019,
          2020,
          2021,
          2022,
          2023
         ],
         "xaxis": "x",
         "y": [
          16,
          24,
          33,
          38,
          48,
          70,
          39,
          31,
          38,
          32,
          4
         ],
         "yaxis": "y"
        },
        {
         "fillpattern": {
          "shape": ""
         },
         "hovertemplate": "age_group_hebrew=20-24<br>Accident Year=%{x}<br>Number of Accidents=%{y}<extra></extra>",
         "legendgroup": "20-24",
         "line": {
          "color": "#ab63fa"
         },
         "marker": {
          "symbol": "circle"
         },
         "mode": "lines",
         "name": "20-24",
         "orientation": "v",
         "showlegend": true,
         "stackgroup": "1",
         "type": "scatter",
         "x": [
          2013,
          2014,
          2015,
          2016,
          2017,
          2018,
          2019,
          2020,
          2021,
          2022,
          2023
         ],
         "xaxis": "x",
         "y": [
          10,
          13,
          15,
          21,
          32,
          39,
          30,
          23,
          25,
          31,
          6
         ],
         "yaxis": "y"
        },
        {
         "fillpattern": {
          "shape": ""
         },
         "hovertemplate": "age_group_hebrew=25-29<br>Accident Year=%{x}<br>Number of Accidents=%{y}<extra></extra>",
         "legendgroup": "25-29",
         "line": {
          "color": "#FFA15A"
         },
         "marker": {
          "symbol": "circle"
         },
         "mode": "lines",
         "name": "25-29",
         "orientation": "v",
         "showlegend": true,
         "stackgroup": "1",
         "type": "scatter",
         "x": [
          2013,
          2014,
          2015,
          2016,
          2017,
          2018,
          2019,
          2020,
          2021,
          2022,
          2023
         ],
         "xaxis": "x",
         "y": [
          17,
          17,
          11,
          16,
          18,
          25,
          28,
          16,
          16,
          26,
          4
         ],
         "yaxis": "y"
        },
        {
         "fillpattern": {
          "shape": ""
         },
         "hovertemplate": "age_group_hebrew=30-34<br>Accident Year=%{x}<br>Number of Accidents=%{y}<extra></extra>",
         "legendgroup": "30-34",
         "line": {
          "color": "#19d3f3"
         },
         "marker": {
          "symbol": "circle"
         },
         "mode": "lines",
         "name": "30-34",
         "orientation": "v",
         "showlegend": true,
         "stackgroup": "1",
         "type": "scatter",
         "x": [
          2013,
          2014,
          2015,
          2016,
          2017,
          2018,
          2019,
          2020,
          2021,
          2022,
          2023
         ],
         "xaxis": "x",
         "y": [
          8,
          13,
          7,
          14,
          16,
          17,
          17,
          9,
          19,
          15,
          5
         ],
         "yaxis": "y"
        },
        {
         "fillpattern": {
          "shape": ""
         },
         "hovertemplate": "age_group_hebrew=35-39<br>Accident Year=%{x}<br>Number of Accidents=%{y}<extra></extra>",
         "legendgroup": "35-39",
         "line": {
          "color": "#FF6692"
         },
         "marker": {
          "symbol": "circle"
         },
         "mode": "lines",
         "name": "35-39",
         "orientation": "v",
         "showlegend": true,
         "stackgroup": "1",
         "type": "scatter",
         "x": [
          2013,
          2014,
          2015,
          2016,
          2017,
          2018,
          2019,
          2020,
          2021,
          2022,
          2023
         ],
         "xaxis": "x",
         "y": [
          5,
          6,
          5,
          9,
          8,
          13,
          9,
          11,
          12,
          11,
          3
         ],
         "yaxis": "y"
        },
        {
         "fillpattern": {
          "shape": ""
         },
         "hovertemplate": "age_group_hebrew=40-44<br>Accident Year=%{x}<br>Number of Accidents=%{y}<extra></extra>",
         "legendgroup": "40-44",
         "line": {
          "color": "#B6E880"
         },
         "marker": {
          "symbol": "circle"
         },
         "mode": "lines",
         "name": "40-44",
         "orientation": "v",
         "showlegend": true,
         "stackgroup": "1",
         "type": "scatter",
         "x": [
          2013,
          2014,
          2015,
          2016,
          2017,
          2018,
          2019,
          2020,
          2021,
          2022,
          2023
         ],
         "xaxis": "x",
         "y": [
          4,
          5,
          9,
          3,
          10,
          11,
          15,
          11,
          8,
          15,
          2
         ],
         "yaxis": "y"
        },
        {
         "fillpattern": {
          "shape": ""
         },
         "hovertemplate": "age_group_hebrew=45-49<br>Accident Year=%{x}<br>Number of Accidents=%{y}<extra></extra>",
         "legendgroup": "45-49",
         "line": {
          "color": "#FF97FF"
         },
         "marker": {
          "symbol": "circle"
         },
         "mode": "lines",
         "name": "45-49",
         "orientation": "v",
         "showlegend": true,
         "stackgroup": "1",
         "type": "scatter",
         "x": [
          2013,
          2014,
          2015,
          2016,
          2017,
          2018,
          2019,
          2020,
          2021,
          2022,
          2023
         ],
         "xaxis": "x",
         "y": [
          3,
          2,
          5,
          5,
          4,
          5,
          6,
          5,
          6,
          6,
          1
         ],
         "yaxis": "y"
        },
        {
         "fillpattern": {
          "shape": ""
         },
         "hovertemplate": "age_group_hebrew=50-54<br>Accident Year=%{x}<br>Number of Accidents=%{y}<extra></extra>",
         "legendgroup": "50-54",
         "line": {
          "color": "#FECB52"
         },
         "marker": {
          "symbol": "circle"
         },
         "mode": "lines",
         "name": "50-54",
         "orientation": "v",
         "showlegend": true,
         "stackgroup": "1",
         "type": "scatter",
         "x": [
          2013,
          2014,
          2015,
          2016,
          2017,
          2018,
          2019,
          2020,
          2021,
          2022,
          2023
         ],
         "xaxis": "x",
         "y": [
          4,
          6,
          3,
          4,
          6,
          8,
          6,
          6,
          4,
          9,
          0
         ],
         "yaxis": "y"
        },
        {
         "fillpattern": {
          "shape": ""
         },
         "hovertemplate": "age_group_hebrew=55-59<br>Accident Year=%{x}<br>Number of Accidents=%{y}<extra></extra>",
         "legendgroup": "55-59",
         "line": {
          "color": "#636efa"
         },
         "marker": {
          "symbol": "circle"
         },
         "mode": "lines",
         "name": "55-59",
         "orientation": "v",
         "showlegend": true,
         "stackgroup": "1",
         "type": "scatter",
         "x": [
          2013,
          2014,
          2015,
          2016,
          2017,
          2018,
          2019,
          2020,
          2021,
          2022,
          2023
         ],
         "xaxis": "x",
         "y": [
          2,
          7,
          3,
          3,
          3,
          5,
          3,
          5,
          6,
          8,
          0
         ],
         "yaxis": "y"
        },
        {
         "fillpattern": {
          "shape": ""
         },
         "hovertemplate": "age_group_hebrew=60-64<br>Accident Year=%{x}<br>Number of Accidents=%{y}<extra></extra>",
         "legendgroup": "60-64",
         "line": {
          "color": "#EF553B"
         },
         "marker": {
          "symbol": "circle"
         },
         "mode": "lines",
         "name": "60-64",
         "orientation": "v",
         "showlegend": true,
         "stackgroup": "1",
         "type": "scatter",
         "x": [
          2013,
          2014,
          2015,
          2016,
          2017,
          2018,
          2019,
          2020,
          2021,
          2022,
          2023
         ],
         "xaxis": "x",
         "y": [
          1,
          5,
          5,
          5,
          6,
          3,
          7,
          3,
          2,
          1,
          0
         ],
         "yaxis": "y"
        }
       ],
       "layout": {
        "barmode": "stack",
        "legend": {
         "title": {
          "text": "Age Group"
         },
         "tracegroupgap": 0
        },
        "template": {
         "data": {
          "bar": [
           {
            "error_x": {
             "color": "#2a3f5f"
            },
            "error_y": {
             "color": "#2a3f5f"
            },
            "marker": {
             "line": {
              "color": "#E5ECF6",
              "width": 0.5
             },
             "pattern": {
              "fillmode": "overlay",
              "size": 10,
              "solidity": 0.2
             }
            },
            "type": "bar"
           }
          ],
          "barpolar": [
           {
            "marker": {
             "line": {
              "color": "#E5ECF6",
              "width": 0.5
             },
             "pattern": {
              "fillmode": "overlay",
              "size": 10,
              "solidity": 0.2
             }
            },
            "type": "barpolar"
           }
          ],
          "carpet": [
           {
            "aaxis": {
             "endlinecolor": "#2a3f5f",
             "gridcolor": "white",
             "linecolor": "white",
             "minorgridcolor": "white",
             "startlinecolor": "#2a3f5f"
            },
            "baxis": {
             "endlinecolor": "#2a3f5f",
             "gridcolor": "white",
             "linecolor": "white",
             "minorgridcolor": "white",
             "startlinecolor": "#2a3f5f"
            },
            "type": "carpet"
           }
          ],
          "choropleth": [
           {
            "colorbar": {
             "outlinewidth": 0,
             "ticks": ""
            },
            "type": "choropleth"
           }
          ],
          "contour": [
           {
            "colorbar": {
             "outlinewidth": 0,
             "ticks": ""
            },
            "colorscale": [
             [
              0,
              "#0d0887"
             ],
             [
              0.1111111111111111,
              "#46039f"
             ],
             [
              0.2222222222222222,
              "#7201a8"
             ],
             [
              0.3333333333333333,
              "#9c179e"
             ],
             [
              0.4444444444444444,
              "#bd3786"
             ],
             [
              0.5555555555555556,
              "#d8576b"
             ],
             [
              0.6666666666666666,
              "#ed7953"
             ],
             [
              0.7777777777777778,
              "#fb9f3a"
             ],
             [
              0.8888888888888888,
              "#fdca26"
             ],
             [
              1,
              "#f0f921"
             ]
            ],
            "type": "contour"
           }
          ],
          "contourcarpet": [
           {
            "colorbar": {
             "outlinewidth": 0,
             "ticks": ""
            },
            "type": "contourcarpet"
           }
          ],
          "heatmap": [
           {
            "colorbar": {
             "outlinewidth": 0,
             "ticks": ""
            },
            "colorscale": [
             [
              0,
              "#0d0887"
             ],
             [
              0.1111111111111111,
              "#46039f"
             ],
             [
              0.2222222222222222,
              "#7201a8"
             ],
             [
              0.3333333333333333,
              "#9c179e"
             ],
             [
              0.4444444444444444,
              "#bd3786"
             ],
             [
              0.5555555555555556,
              "#d8576b"
             ],
             [
              0.6666666666666666,
              "#ed7953"
             ],
             [
              0.7777777777777778,
              "#fb9f3a"
             ],
             [
              0.8888888888888888,
              "#fdca26"
             ],
             [
              1,
              "#f0f921"
             ]
            ],
            "type": "heatmap"
           }
          ],
          "heatmapgl": [
           {
            "colorbar": {
             "outlinewidth": 0,
             "ticks": ""
            },
            "colorscale": [
             [
              0,
              "#0d0887"
             ],
             [
              0.1111111111111111,
              "#46039f"
             ],
             [
              0.2222222222222222,
              "#7201a8"
             ],
             [
              0.3333333333333333,
              "#9c179e"
             ],
             [
              0.4444444444444444,
              "#bd3786"
             ],
             [
              0.5555555555555556,
              "#d8576b"
             ],
             [
              0.6666666666666666,
              "#ed7953"
             ],
             [
              0.7777777777777778,
              "#fb9f3a"
             ],
             [
              0.8888888888888888,
              "#fdca26"
             ],
             [
              1,
              "#f0f921"
             ]
            ],
            "type": "heatmapgl"
           }
          ],
          "histogram": [
           {
            "marker": {
             "pattern": {
              "fillmode": "overlay",
              "size": 10,
              "solidity": 0.2
             }
            },
            "type": "histogram"
           }
          ],
          "histogram2d": [
           {
            "colorbar": {
             "outlinewidth": 0,
             "ticks": ""
            },
            "colorscale": [
             [
              0,
              "#0d0887"
             ],
             [
              0.1111111111111111,
              "#46039f"
             ],
             [
              0.2222222222222222,
              "#7201a8"
             ],
             [
              0.3333333333333333,
              "#9c179e"
             ],
             [
              0.4444444444444444,
              "#bd3786"
             ],
             [
              0.5555555555555556,
              "#d8576b"
             ],
             [
              0.6666666666666666,
              "#ed7953"
             ],
             [
              0.7777777777777778,
              "#fb9f3a"
             ],
             [
              0.8888888888888888,
              "#fdca26"
             ],
             [
              1,
              "#f0f921"
             ]
            ],
            "type": "histogram2d"
           }
          ],
          "histogram2dcontour": [
           {
            "colorbar": {
             "outlinewidth": 0,
             "ticks": ""
            },
            "colorscale": [
             [
              0,
              "#0d0887"
             ],
             [
              0.1111111111111111,
              "#46039f"
             ],
             [
              0.2222222222222222,
              "#7201a8"
             ],
             [
              0.3333333333333333,
              "#9c179e"
             ],
             [
              0.4444444444444444,
              "#bd3786"
             ],
             [
              0.5555555555555556,
              "#d8576b"
             ],
             [
              0.6666666666666666,
              "#ed7953"
             ],
             [
              0.7777777777777778,
              "#fb9f3a"
             ],
             [
              0.8888888888888888,
              "#fdca26"
             ],
             [
              1,
              "#f0f921"
             ]
            ],
            "type": "histogram2dcontour"
           }
          ],
          "mesh3d": [
           {
            "colorbar": {
             "outlinewidth": 0,
             "ticks": ""
            },
            "type": "mesh3d"
           }
          ],
          "parcoords": [
           {
            "line": {
             "colorbar": {
              "outlinewidth": 0,
              "ticks": ""
             }
            },
            "type": "parcoords"
           }
          ],
          "pie": [
           {
            "automargin": true,
            "type": "pie"
           }
          ],
          "scatter": [
           {
            "fillpattern": {
             "fillmode": "overlay",
             "size": 10,
             "solidity": 0.2
            },
            "type": "scatter"
           }
          ],
          "scatter3d": [
           {
            "line": {
             "colorbar": {
              "outlinewidth": 0,
              "ticks": ""
             }
            },
            "marker": {
             "colorbar": {
              "outlinewidth": 0,
              "ticks": ""
             }
            },
            "type": "scatter3d"
           }
          ],
          "scattercarpet": [
           {
            "marker": {
             "colorbar": {
              "outlinewidth": 0,
              "ticks": ""
             }
            },
            "type": "scattercarpet"
           }
          ],
          "scattergeo": [
           {
            "marker": {
             "colorbar": {
              "outlinewidth": 0,
              "ticks": ""
             }
            },
            "type": "scattergeo"
           }
          ],
          "scattergl": [
           {
            "marker": {
             "colorbar": {
              "outlinewidth": 0,
              "ticks": ""
             }
            },
            "type": "scattergl"
           }
          ],
          "scattermapbox": [
           {
            "marker": {
             "colorbar": {
              "outlinewidth": 0,
              "ticks": ""
             }
            },
            "type": "scattermapbox"
           }
          ],
          "scatterpolar": [
           {
            "marker": {
             "colorbar": {
              "outlinewidth": 0,
              "ticks": ""
             }
            },
            "type": "scatterpolar"
           }
          ],
          "scatterpolargl": [
           {
            "marker": {
             "colorbar": {
              "outlinewidth": 0,
              "ticks": ""
             }
            },
            "type": "scatterpolargl"
           }
          ],
          "scatterternary": [
           {
            "marker": {
             "colorbar": {
              "outlinewidth": 0,
              "ticks": ""
             }
            },
            "type": "scatterternary"
           }
          ],
          "surface": [
           {
            "colorbar": {
             "outlinewidth": 0,
             "ticks": ""
            },
            "colorscale": [
             [
              0,
              "#0d0887"
             ],
             [
              0.1111111111111111,
              "#46039f"
             ],
             [
              0.2222222222222222,
              "#7201a8"
             ],
             [
              0.3333333333333333,
              "#9c179e"
             ],
             [
              0.4444444444444444,
              "#bd3786"
             ],
             [
              0.5555555555555556,
              "#d8576b"
             ],
             [
              0.6666666666666666,
              "#ed7953"
             ],
             [
              0.7777777777777778,
              "#fb9f3a"
             ],
             [
              0.8888888888888888,
              "#fdca26"
             ],
             [
              1,
              "#f0f921"
             ]
            ],
            "type": "surface"
           }
          ],
          "table": [
           {
            "cells": {
             "fill": {
              "color": "#EBF0F8"
             },
             "line": {
              "color": "white"
             }
            },
            "header": {
             "fill": {
              "color": "#C8D4E3"
             },
             "line": {
              "color": "white"
             }
            },
            "type": "table"
           }
          ]
         },
         "layout": {
          "annotationdefaults": {
           "arrowcolor": "#2a3f5f",
           "arrowhead": 0,
           "arrowwidth": 1
          },
          "autotypenumbers": "strict",
          "coloraxis": {
           "colorbar": {
            "outlinewidth": 0,
            "ticks": ""
           }
          },
          "colorscale": {
           "diverging": [
            [
             0,
             "#8e0152"
            ],
            [
             0.1,
             "#c51b7d"
            ],
            [
             0.2,
             "#de77ae"
            ],
            [
             0.3,
             "#f1b6da"
            ],
            [
             0.4,
             "#fde0ef"
            ],
            [
             0.5,
             "#f7f7f7"
            ],
            [
             0.6,
             "#e6f5d0"
            ],
            [
             0.7,
             "#b8e186"
            ],
            [
             0.8,
             "#7fbc41"
            ],
            [
             0.9,
             "#4d9221"
            ],
            [
             1,
             "#276419"
            ]
           ],
           "sequential": [
            [
             0,
             "#0d0887"
            ],
            [
             0.1111111111111111,
             "#46039f"
            ],
            [
             0.2222222222222222,
             "#7201a8"
            ],
            [
             0.3333333333333333,
             "#9c179e"
            ],
            [
             0.4444444444444444,
             "#bd3786"
            ],
            [
             0.5555555555555556,
             "#d8576b"
            ],
            [
             0.6666666666666666,
             "#ed7953"
            ],
            [
             0.7777777777777778,
             "#fb9f3a"
            ],
            [
             0.8888888888888888,
             "#fdca26"
            ],
            [
             1,
             "#f0f921"
            ]
           ],
           "sequentialminus": [
            [
             0,
             "#0d0887"
            ],
            [
             0.1111111111111111,
             "#46039f"
            ],
            [
             0.2222222222222222,
             "#7201a8"
            ],
            [
             0.3333333333333333,
             "#9c179e"
            ],
            [
             0.4444444444444444,
             "#bd3786"
            ],
            [
             0.5555555555555556,
             "#d8576b"
            ],
            [
             0.6666666666666666,
             "#ed7953"
            ],
            [
             0.7777777777777778,
             "#fb9f3a"
            ],
            [
             0.8888888888888888,
             "#fdca26"
            ],
            [
             1,
             "#f0f921"
            ]
           ]
          },
          "colorway": [
           "#636efa",
           "#EF553B",
           "#00cc96",
           "#ab63fa",
           "#FFA15A",
           "#19d3f3",
           "#FF6692",
           "#B6E880",
           "#FF97FF",
           "#FECB52"
          ],
          "font": {
           "color": "#2a3f5f"
          },
          "geo": {
           "bgcolor": "white",
           "lakecolor": "white",
           "landcolor": "#E5ECF6",
           "showlakes": true,
           "showland": true,
           "subunitcolor": "white"
          },
          "hoverlabel": {
           "align": "left"
          },
          "hovermode": "closest",
          "mapbox": {
           "style": "light"
          },
          "paper_bgcolor": "white",
          "plot_bgcolor": "#E5ECF6",
          "polar": {
           "angularaxis": {
            "gridcolor": "white",
            "linecolor": "white",
            "ticks": ""
           },
           "bgcolor": "#E5ECF6",
           "radialaxis": {
            "gridcolor": "white",
            "linecolor": "white",
            "ticks": ""
           }
          },
          "scene": {
           "xaxis": {
            "backgroundcolor": "#E5ECF6",
            "gridcolor": "white",
            "gridwidth": 2,
            "linecolor": "white",
            "showbackground": true,
            "ticks": "",
            "zerolinecolor": "white"
           },
           "yaxis": {
            "backgroundcolor": "#E5ECF6",
            "gridcolor": "white",
            "gridwidth": 2,
            "linecolor": "white",
            "showbackground": true,
            "ticks": "",
            "zerolinecolor": "white"
           },
           "zaxis": {
            "backgroundcolor": "#E5ECF6",
            "gridcolor": "white",
            "gridwidth": 2,
            "linecolor": "white",
            "showbackground": true,
            "ticks": "",
            "zerolinecolor": "white"
           }
          },
          "shapedefaults": {
           "line": {
            "color": "#2a3f5f"
           }
          },
          "ternary": {
           "aaxis": {
            "gridcolor": "white",
            "linecolor": "white",
            "ticks": ""
           },
           "baxis": {
            "gridcolor": "white",
            "linecolor": "white",
            "ticks": ""
           },
           "bgcolor": "#E5ECF6",
           "caxis": {
            "gridcolor": "white",
            "linecolor": "white",
            "ticks": ""
           }
          },
          "title": {
           "x": 0.05
          },
          "xaxis": {
           "automargin": true,
           "gridcolor": "white",
           "linecolor": "white",
           "ticks": "",
           "title": {
            "standoff": 15
           },
           "zerolinecolor": "white",
           "zerolinewidth": 2
          },
          "yaxis": {
           "automargin": true,
           "gridcolor": "white",
           "linecolor": "white",
           "ticks": "",
           "title": {
            "standoff": 15
           },
           "zerolinecolor": "white",
           "zerolinewidth": 2
          }
         }
        },
        "title": {
         "text": "Stacked Accidents for Micro Vehicles in Jerusalem by Age Group and Year"
        },
        "xaxis": {
         "anchor": "y",
         "domain": [
          0,
          1
         ],
         "title": {
          "text": "Accident Year"
         },
         "type": "category"
        },
        "yaxis": {
         "anchor": "x",
         "domain": [
          0,
          1
         ],
         "title": {
          "text": "Number of Accidents"
         }
        }
       }
      }
     },
     "metadata": {},
     "output_type": "display_data"
    }
   ],
   "source": [
    "\n",
    "# filtering for: no unknown ages (99), micro vehicle\n",
    "imh_jer_gb_age_year = imh_jer[(imh_jer.age_group > 1) & (imh_jer.age_group < 14) & (imh_jer.involve_vehicle_type.isin(micro_vehicle))].copy()\n",
    "imh_jer_gb_age_year = imh_jer_gb_age_year.groupby(['accident_year', 'age_group_hebrew']).size().reset_index(name='count')\n",
    "\n",
    "# Pivot the data for the stacked bar chart, filling any NaNs with 0\n",
    "imh_jer_pivot = imh_jer_gb_age_year.pivot(index='accident_year', columns='age_group_hebrew', values='count').fillna(0)\n",
    "\n",
    "# Sort the columns in ascending order to ensure the youngest age groups are at the bottom of the stack\n",
    "imh_jer_pivot = imh_jer_pivot.sort_index(axis=1, ascending=True)\n",
    "\n",
    "# Create the stacked bar chart\n",
    "fig = px.area(\n",
    "    imh_jer_pivot,\n",
    "    title='Stacked Accidents for Micro Vehicles in Jerusalem by Age Group and Year',\n",
    "    labels={'value': 'Number of Accidents', 'variable': 'Age Group', 'accident_year': 'Accident Year'}\n",
    ")\n",
    "\n",
    "# Update the layout to stack the bars\n",
    "fig.update_layout(\n",
    "    barmode='stack',\n",
    "    xaxis_title='Accident Year',\n",
    "    yaxis_title='Number of Accidents',\n",
    "    legend_title='Age Group',\n",
    "    xaxis=dict(type='category')\n",
    ")\n",
    "\n",
    "# Show the plot\n",
    "fig.show()"
   ]
  },
  {
   "cell_type": "code",
   "execution_count": 30,
   "id": "365688d7",
   "metadata": {},
   "outputs": [
    {
     "data": {
      "text/html": [
       "<div>\n",
       "<style scoped>\n",
       "    .dataframe tbody tr th:only-of-type {\n",
       "        vertical-align: middle;\n",
       "    }\n",
       "\n",
       "    .dataframe tbody tr th {\n",
       "        vertical-align: top;\n",
       "    }\n",
       "\n",
       "    .dataframe thead th {\n",
       "        text-align: right;\n",
       "    }\n",
       "</style>\n",
       "<table border=\"1\" class=\"dataframe\">\n",
       "  <thead>\n",
       "    <tr style=\"text-align: right;\">\n",
       "      <th></th>\n",
       "      <th>settlement_shape</th>\n",
       "      <th>settlement_code</th>\n",
       "      <th>settlement_name</th>\n",
       "      <th>population</th>\n",
       "      <th>0_4</th>\n",
       "      <th>5_9</th>\n",
       "      <th>10_14</th>\n",
       "      <th>15_19</th>\n",
       "      <th>20_24</th>\n",
       "      <th>25_29</th>\n",
       "      <th>...</th>\n",
       "      <th>55_59</th>\n",
       "      <th>60_64</th>\n",
       "      <th>65_69</th>\n",
       "      <th>70_74</th>\n",
       "      <th>75_plus</th>\n",
       "      <th>pop_year</th>\n",
       "      <th>75_79</th>\n",
       "      <th>84-80</th>\n",
       "      <th>85+</th>\n",
       "      <th>65+</th>\n",
       "    </tr>\n",
       "  </thead>\n",
       "  <tbody>\n",
       "    <tr>\n",
       "      <th>0</th>\n",
       "      <td>120</td>\n",
       "      <td>3000.0</td>\n",
       "      <td>ירושלים</td>\n",
       "      <td>849780</td>\n",
       "      <td>107190</td>\n",
       "      <td>93710</td>\n",
       "      <td>86910</td>\n",
       "      <td>80550</td>\n",
       "      <td>75210</td>\n",
       "      <td>64870</td>\n",
       "      <td>...</td>\n",
       "      <td>30620</td>\n",
       "      <td>28010</td>\n",
       "      <td>23880</td>\n",
       "      <td>15540</td>\n",
       "      <td>34610</td>\n",
       "      <td>2014</td>\n",
       "      <td>NaN</td>\n",
       "      <td>NaN</td>\n",
       "      <td>NaN</td>\n",
       "      <td>NaN</td>\n",
       "    </tr>\n",
       "    <tr>\n",
       "      <th>1211</th>\n",
       "      <td>120</td>\n",
       "      <td>3000.0</td>\n",
       "      <td>ירושלים</td>\n",
       "      <td>865721</td>\n",
       "      <td>108491</td>\n",
       "      <td>96380</td>\n",
       "      <td>87844</td>\n",
       "      <td>81672</td>\n",
       "      <td>76675</td>\n",
       "      <td>65819</td>\n",
       "      <td>...</td>\n",
       "      <td>31113</td>\n",
       "      <td>28403</td>\n",
       "      <td>25094</td>\n",
       "      <td>16247</td>\n",
       "      <td>35289</td>\n",
       "      <td>2015</td>\n",
       "      <td>NaN</td>\n",
       "      <td>NaN</td>\n",
       "      <td>NaN</td>\n",
       "      <td>NaN</td>\n",
       "    </tr>\n",
       "    <tr>\n",
       "      <th>2425</th>\n",
       "      <td>120</td>\n",
       "      <td>3000.0</td>\n",
       "      <td>ירושלים</td>\n",
       "      <td>882652</td>\n",
       "      <td>110386</td>\n",
       "      <td>98268</td>\n",
       "      <td>89351</td>\n",
       "      <td>83357</td>\n",
       "      <td>77991</td>\n",
       "      <td>66642</td>\n",
       "      <td>...</td>\n",
       "      <td>31794</td>\n",
       "      <td>28446</td>\n",
       "      <td>25721</td>\n",
       "      <td>17791</td>\n",
       "      <td>35608</td>\n",
       "      <td>2016</td>\n",
       "      <td>NaN</td>\n",
       "      <td>NaN</td>\n",
       "      <td>NaN</td>\n",
       "      <td>NaN</td>\n",
       "    </tr>\n",
       "    <tr>\n",
       "      <th>3639</th>\n",
       "      <td>120</td>\n",
       "      <td>3000.0</td>\n",
       "      <td>ירושלים</td>\n",
       "      <td>901302</td>\n",
       "      <td>112563</td>\n",
       "      <td>100444</td>\n",
       "      <td>90239</td>\n",
       "      <td>85366</td>\n",
       "      <td>79761</td>\n",
       "      <td>68231</td>\n",
       "      <td>...</td>\n",
       "      <td>32234</td>\n",
       "      <td>28811</td>\n",
       "      <td>25901</td>\n",
       "      <td>19792</td>\n",
       "      <td>36129</td>\n",
       "      <td>2017</td>\n",
       "      <td>NaN</td>\n",
       "      <td>NaN</td>\n",
       "      <td>NaN</td>\n",
       "      <td>NaN</td>\n",
       "    </tr>\n",
       "    <tr>\n",
       "      <th>4854</th>\n",
       "      <td>120</td>\n",
       "      <td>3000.0</td>\n",
       "      <td>ירושלים</td>\n",
       "      <td>919438</td>\n",
       "      <td>114857</td>\n",
       "      <td>102064</td>\n",
       "      <td>91524</td>\n",
       "      <td>87179</td>\n",
       "      <td>81406</td>\n",
       "      <td>70012</td>\n",
       "      <td>...</td>\n",
       "      <td>32449</td>\n",
       "      <td>29286</td>\n",
       "      <td>26258</td>\n",
       "      <td>21397</td>\n",
       "      <td>36718</td>\n",
       "      <td>2018</td>\n",
       "      <td>NaN</td>\n",
       "      <td>NaN</td>\n",
       "      <td>NaN</td>\n",
       "      <td>NaN</td>\n",
       "    </tr>\n",
       "    <tr>\n",
       "      <th>6072</th>\n",
       "      <td>120</td>\n",
       "      <td>3000.0</td>\n",
       "      <td>ירושלים</td>\n",
       "      <td>936425</td>\n",
       "      <td>116731</td>\n",
       "      <td>103618</td>\n",
       "      <td>93117</td>\n",
       "      <td>88676</td>\n",
       "      <td>82568</td>\n",
       "      <td>71915</td>\n",
       "      <td>...</td>\n",
       "      <td>32747</td>\n",
       "      <td>29911</td>\n",
       "      <td>26812</td>\n",
       "      <td>22330</td>\n",
       "      <td>NaN</td>\n",
       "      <td>2019</td>\n",
       "      <td>13874</td>\n",
       "      <td>11594</td>\n",
       "      <td>11969</td>\n",
       "      <td>NaN</td>\n",
       "    </tr>\n",
       "    <tr>\n",
       "      <th>7290</th>\n",
       "      <td>120</td>\n",
       "      <td>3000.0</td>\n",
       "      <td>ירושלים</td>\n",
       "      <td>951148</td>\n",
       "      <td>117701</td>\n",
       "      <td>104641</td>\n",
       "      <td>95934</td>\n",
       "      <td>89793</td>\n",
       "      <td>83273</td>\n",
       "      <td>72682</td>\n",
       "      <td>...</td>\n",
       "      <td>32854</td>\n",
       "      <td>30419</td>\n",
       "      <td>27184</td>\n",
       "      <td>23426</td>\n",
       "      <td>NaN</td>\n",
       "      <td>2020</td>\n",
       "      <td>14457</td>\n",
       "      <td>11596</td>\n",
       "      <td>12165</td>\n",
       "      <td>NaN</td>\n",
       "    </tr>\n",
       "    <tr>\n",
       "      <th>8510</th>\n",
       "      <td>NaN</td>\n",
       "      <td>3000.0</td>\n",
       "      <td>ירושלים</td>\n",
       "      <td>966207.0</td>\n",
       "      <td>118398.0</td>\n",
       "      <td>106026.0</td>\n",
       "      <td>97410.0</td>\n",
       "      <td>90874.0</td>\n",
       "      <td>84723.0</td>\n",
       "      <td>73993.0</td>\n",
       "      <td>...</td>\n",
       "      <td>33251.0</td>\n",
       "      <td>31051.0</td>\n",
       "      <td>NaN</td>\n",
       "      <td>NaN</td>\n",
       "      <td>NaN</td>\n",
       "      <td>2021</td>\n",
       "      <td>NaN</td>\n",
       "      <td>NaN</td>\n",
       "      <td>NaN</td>\n",
       "      <td>91123.0</td>\n",
       "    </tr>\n",
       "    <tr>\n",
       "      <th>9598</th>\n",
       "      <td>120</td>\n",
       "      <td>3000.0</td>\n",
       "      <td>ירושלים</td>\n",
       "      <td>981,711</td>\n",
       "      <td>117,351</td>\n",
       "      <td>106,900</td>\n",
       "      <td>98,968</td>\n",
       "      <td>92,111</td>\n",
       "      <td>87,682</td>\n",
       "      <td>75,185</td>\n",
       "      <td>...</td>\n",
       "      <td>33,542</td>\n",
       "      <td>31,640</td>\n",
       "      <td>27,650</td>\n",
       "      <td>24,348</td>\n",
       "      <td>NaN</td>\n",
       "      <td>2022</td>\n",
       "      <td>17,719</td>\n",
       "      <td>11,131</td>\n",
       "      <td>12,759</td>\n",
       "      <td>NaN</td>\n",
       "    </tr>\n",
       "  </tbody>\n",
       "</table>\n",
       "<p>9 rows × 25 columns</p>\n",
       "</div>"
      ],
      "text/plain": [
       "     settlement_shape  settlement_code settlement_name population       0_4  \\\n",
       "0                 120           3000.0         ירושלים     849780    107190   \n",
       "1211              120           3000.0         ירושלים     865721    108491   \n",
       "2425              120           3000.0         ירושלים     882652    110386   \n",
       "3639              120           3000.0         ירושלים     901302    112563   \n",
       "4854              120           3000.0         ירושלים     919438    114857   \n",
       "6072              120           3000.0         ירושלים     936425    116731   \n",
       "7290              120           3000.0         ירושלים     951148    117701   \n",
       "8510              NaN           3000.0         ירושלים   966207.0  118398.0   \n",
       "9598              120           3000.0         ירושלים    981,711   117,351   \n",
       "\n",
       "           5_9    10_14    15_19    20_24    25_29  ...    55_59    60_64  \\\n",
       "0        93710    86910    80550    75210    64870  ...    30620    28010   \n",
       "1211     96380    87844    81672    76675    65819  ...    31113    28403   \n",
       "2425     98268    89351    83357    77991    66642  ...    31794    28446   \n",
       "3639    100444    90239    85366    79761    68231  ...    32234    28811   \n",
       "4854    102064    91524    87179    81406    70012  ...    32449    29286   \n",
       "6072    103618    93117    88676    82568    71915  ...    32747    29911   \n",
       "7290    104641    95934    89793    83273    72682  ...    32854    30419   \n",
       "8510  106026.0  97410.0  90874.0  84723.0  73993.0  ...  33251.0  31051.0   \n",
       "9598   106,900   98,968   92,111   87,682   75,185  ...   33,542   31,640   \n",
       "\n",
       "       65_69   70_74 75_plus pop_year   75_79   84-80     85+      65+  \n",
       "0      23880   15540   34610     2014     NaN     NaN     NaN      NaN  \n",
       "1211   25094   16247   35289     2015     NaN     NaN     NaN      NaN  \n",
       "2425   25721   17791   35608     2016     NaN     NaN     NaN      NaN  \n",
       "3639   25901   19792   36129     2017     NaN     NaN     NaN      NaN  \n",
       "4854   26258   21397   36718     2018     NaN     NaN     NaN      NaN  \n",
       "6072   26812   22330     NaN     2019   13874   11594   11969      NaN  \n",
       "7290   27184   23426     NaN     2020   14457   11596   12165      NaN  \n",
       "8510     NaN     NaN     NaN     2021     NaN     NaN     NaN  91123.0  \n",
       "9598  27,650  24,348     NaN     2022  17,719  11,131  12,759      NaN  \n",
       "\n",
       "[9 rows x 25 columns]"
      ]
     },
     "execution_count": 30,
     "metadata": {},
     "output_type": "execute_result"
    }
   ],
   "source": [
    "all_pop = pd.read_csv('./csv_tables/all_pop.csv')\n",
    "all_pop[all_pop.settlement_code == 3000]"
   ]
  }
 ],
 "metadata": {
  "kernelspec": {
   "display_name": "Python 3 (ipykernel)",
   "language": "python",
   "name": "python3"
  },
  "language_info": {
   "codemirror_mode": {
    "name": "ipython",
    "version": 3
   },
   "file_extension": ".py",
   "mimetype": "text/x-python",
   "name": "python",
   "nbconvert_exporter": "python",
   "pygments_lexer": "ipython3",
   "version": "3.9.13"
  }
 },
 "nbformat": 4,
 "nbformat_minor": 5
}
