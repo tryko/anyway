{
 "cells": [
  {
   "cell_type": "markdown",
   "metadata": {},
   "source": [
    "# EDA for Tel Aviv for Micro Mobility\n",
    "\n",
    "* Check number of accidents per quarter\n",
    "    * Compare to number of total accidents not related to micro mobility\n",
    "    * Ratio of number accident\n",
    "    * Pearson Correlation between length of BP and number of accidents for each quarter\n",
    "* Bicycle Path Length in relation to Quarter area.\n",
    "* Graph of number of accidents per quarter and total length of bicycle path in regards to time \n",
    "    * Normalize by population in Tel Aviv\n",
    "    * Scatter plot x is length of BP, y number of accidents.\n",
    "        * One general scatter plot\n",
    "        * Each quarter a specific plot\n",
    "    * Scatter plot but with accidents that are severe\n",
    "* Compare BP length to streets length\n",
    "* "
   ]
  }
 ],
 "metadata": {
  "language_info": {
   "name": "python"
  }
 },
 "nbformat": 4,
 "nbformat_minor": 2
}
