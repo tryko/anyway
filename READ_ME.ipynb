{
 "cells": [
  {
   "cell_type": "markdown",
   "metadata": {},
   "source": [
    "# Explanation of the files and order to execute\n",
    "\n",
    "1. Loading **involved_markers_hebrew** and fixing data:\n",
    "    * Changing date\n",
    "    * Dropping unnecessary columns\n",
    "2. **converting_accidents_lat_long_to_correct_epsg**\n",
    "3. Creating Tel Aviv data "
   ]
  },
  {
   "cell_type": "markdown",
   "metadata": {},
   "source": []
  }
 ],
 "metadata": {
  "language_info": {
   "name": "python"
  }
 },
 "nbformat": 4,
 "nbformat_minor": 2
}
