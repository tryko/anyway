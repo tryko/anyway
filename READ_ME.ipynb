{
 "cells": [
  {
   "cell_type": "markdown",
   "metadata": {},
   "source": [
    "# Explanation of the files and order to execute\n",
    "\n",
    "original_csv_tables:\n",
    "* involved_hebrew.csv\n",
    "* involved_markers_heb.csv\n",
    "* involved_markers_hebrew.csv\n",
    "* vehicles_hebrew.csv\n",
    "\n",
    "Data flow:\n",
    "\n",
    "0. **File**: 00_fixing_involved_markers_hebrew.ipynb<br>\n",
    "    * involved_markers_hebrew => involved_markers_hebrew_corrected\n",
    "        * Drop columns\n",
    "        * Date fixed\n",
    "\n",
    "1. **File**: 01_creating_ta_table.ipynb<br>\n",
    "    * involved_markers_hebrew_corrected.csv => i_m_h_ta.csv\n",
    "        * Extracted accidents for Tel Aviv only\n",
    "\n",
    "2. **File** 02_creating_and_organizing_ta_geo_data.ipynb\n",
    "    * i_m_h_ta.csv => i_m_h_ta_gdf.parquet\n",
    "        * Turned latitude and longitude to **gdf** with espg=32636\n",
    "\n",
    "    * Bicycle Routes.shp => bicycle_paths_corrected.parquet\n",
    "        * Fixed street names\n",
    "\n",
    "3. **File** 03_creating_micro_mobility_ta_data.ipynb\n",
    "    * i_m_h_ta_gdf.parquet => i_m_h_ta_mm_gdf.parquet\n",
    "        * Filtering accident for micro mobility only \n"
   ]
  }
 ],
 "metadata": {
  "language_info": {
   "name": "python"
  }
 },
 "nbformat": 4,
 "nbformat_minor": 2
}
