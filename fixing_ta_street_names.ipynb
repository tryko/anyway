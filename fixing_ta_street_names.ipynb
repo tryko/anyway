{
 "cells": [
  {
   "cell_type": "code",
   "execution_count": 2,
   "metadata": {},
   "outputs": [
    {
     "name": "stdout",
     "output_type": "stream",
     "text": [
      "Defaulting to user installation because normal site-packages is not writeable\n",
      "Collecting fuzzywuzzy\n",
      "  Downloading fuzzywuzzy-0.18.0-py2.py3-none-any.whl.metadata (4.9 kB)\n",
      "Downloading fuzzywuzzy-0.18.0-py2.py3-none-any.whl (18 kB)\n",
      "Installing collected packages: fuzzywuzzy\n",
      "Successfully installed fuzzywuzzy-0.18.0\n",
      "Note: you may need to restart the kernel to use updated packages.\n"
     ]
    }
   ],
   "source": [
    "pip install fuzzywuzzy"
   ]
  },
  {
   "cell_type": "code",
   "execution_count": 11,
   "metadata": {},
   "outputs": [
    {
     "name": "stderr",
     "output_type": "stream",
     "text": [
      "WARNING:root:Applied processor reduces input query to empty string, all comparisons will have score 0. [Query: '']\n"
     ]
    }
   ],
   "source": [
    "import pandas as pd\n",
    "from fuzzywuzzy import process\n",
    "\n",
    "# Load the CSV files\n",
    "i_m_h_streets = pd.read_csv('i_m_h_streets.csv', header=None, names=['i_m_h_street_name'])\n",
    "ta_streets = pd.read_csv('ta_streets.csv', header=None, names=['ta_street'])\n",
    "\n",
    "# Normalize the street names and convert NaNs to empty strings\n",
    "i_m_h_streets['i_m_h_street_name'] = i_m_h_streets['i_m_h_street_name'].fillna('').str.lower().str.strip()\n",
    "ta_streets['ta_street'] = ta_streets['ta_street'].fillna('').str.lower().str.strip()\n",
    "\n",
    "# Function to find the best match\n",
    "def find_best_match(street_name, choices, threshold=80):\n",
    "    result = process.extractOne(street_name, choices)\n",
    "    if result:\n",
    "        match, score = result[0], result[1]\n",
    "        if score >= threshold:\n",
    "            return match\n",
    "    return None\n",
    "\n",
    "# Create the result DataFrame\n",
    "result = pd.DataFrame(columns=['i_m_h_street_name', 'ta_street', 'result_name'])\n",
    "\n",
    "for index, row in i_m_h_streets.iterrows():\n",
    "    i_m_h_name = row['i_m_h_street_name']\n",
    "    best_match = find_best_match(i_m_h_name, ta_streets['ta_street'])\n",
    "    \n",
    "    if best_match:\n",
    "        result_name = i_m_h_name\n",
    "    else:\n",
    "        result_name = i_m_h_name if i_m_h_name else 'no_match'\n",
    "    \n",
    "    # Use pd.concat instead of append\n",
    "    result = pd.concat([result, pd.DataFrame([{'i_m_h_street_name': i_m_h_name, 'ta_street': best_match, 'result_name': result_name}])], ignore_index=True)\n",
    "\n",
    "# Handle streets in ta_streets not matched in i_m_h_streets\n",
    "for index, row in ta_streets.iterrows():\n",
    "    ta_name = row['ta_street']\n",
    "    if ta_name not in result['ta_street'].values:\n",
    "        result = pd.concat([result, pd.DataFrame([{'i_m_h_street_name': None, 'ta_street': ta_name, 'result_name': ta_name}])], ignore_index=True)\n",
    "\n",
    "# Save the result to a new CSV file\n",
    "result.to_csv('matched_streets.csv', index=False)\n"
   ]
  },
  {
   "cell_type": "code",
   "execution_count": 12,
   "metadata": {},
   "outputs": [
    {
     "data": {
      "text/html": [
       "<div>\n",
       "<style scoped>\n",
       "    .dataframe tbody tr th:only-of-type {\n",
       "        vertical-align: middle;\n",
       "    }\n",
       "\n",
       "    .dataframe tbody tr th {\n",
       "        vertical-align: top;\n",
       "    }\n",
       "\n",
       "    .dataframe thead th {\n",
       "        text-align: right;\n",
       "    }\n",
       "</style>\n",
       "<table border=\"1\" class=\"dataframe\">\n",
       "  <thead>\n",
       "    <tr style=\"text-align: right;\">\n",
       "      <th></th>\n",
       "      <th>i_m_h_street_name</th>\n",
       "      <th>ta_street</th>\n",
       "      <th>result_name</th>\n",
       "    </tr>\n",
       "  </thead>\n",
       "  <tbody>\n",
       "    <tr>\n",
       "      <th>0</th>\n",
       "      <td>0</td>\n",
       "      <td>440</td>\n",
       "      <td>0</td>\n",
       "    </tr>\n",
       "    <tr>\n",
       "      <th>1</th>\n",
       "      <td></td>\n",
       "      <td>None</td>\n",
       "      <td>no_match</td>\n",
       "    </tr>\n",
       "    <tr>\n",
       "      <th>2</th>\n",
       "      <td>אב</td>\n",
       "      <td>אב</td>\n",
       "      <td>אב</td>\n",
       "    </tr>\n",
       "    <tr>\n",
       "      <th>3</th>\n",
       "      <td>אבא ושרה נאמן</td>\n",
       "      <td>נאמן אבא ושרה</td>\n",
       "      <td>אבא ושרה נאמן</td>\n",
       "    </tr>\n",
       "    <tr>\n",
       "      <th>4</th>\n",
       "      <td>אבודרהם</td>\n",
       "      <td>אבודרהם</td>\n",
       "      <td>אבודרהם</td>\n",
       "    </tr>\n",
       "    <tr>\n",
       "      <th>...</th>\n",
       "      <td>...</td>\n",
       "      <td>...</td>\n",
       "      <td>...</td>\n",
       "    </tr>\n",
       "    <tr>\n",
       "      <th>2744</th>\n",
       "      <td>None</td>\n",
       "      <td>ויל קורט</td>\n",
       "      <td>ויל קורט</td>\n",
       "    </tr>\n",
       "    <tr>\n",
       "      <th>2745</th>\n",
       "      <td>None</td>\n",
       "      <td>1362</td>\n",
       "      <td>1362</td>\n",
       "    </tr>\n",
       "    <tr>\n",
       "      <th>2746</th>\n",
       "      <td>None</td>\n",
       "      <td>470</td>\n",
       "      <td>470</td>\n",
       "    </tr>\n",
       "    <tr>\n",
       "      <th>2747</th>\n",
       "      <td>None</td>\n",
       "      <td>3969</td>\n",
       "      <td>3969</td>\n",
       "    </tr>\n",
       "    <tr>\n",
       "      <th>2748</th>\n",
       "      <td>None</td>\n",
       "      <td>3907</td>\n",
       "      <td>3907</td>\n",
       "    </tr>\n",
       "  </tbody>\n",
       "</table>\n",
       "<p>2749 rows × 3 columns</p>\n",
       "</div>"
      ],
      "text/plain": [
       "     i_m_h_street_name      ta_street    result_name\n",
       "0                    0            440              0\n",
       "1                                None       no_match\n",
       "2                   אב             אב             אב\n",
       "3        אבא ושרה נאמן  נאמן אבא ושרה  אבא ושרה נאמן\n",
       "4              אבודרהם        אבודרהם        אבודרהם\n",
       "...                ...            ...            ...\n",
       "2744              None       ויל קורט       ויל קורט\n",
       "2745              None           1362           1362\n",
       "2746              None            470            470\n",
       "2747              None           3969           3969\n",
       "2748              None           3907           3907\n",
       "\n",
       "[2749 rows x 3 columns]"
      ]
     },
     "execution_count": 12,
     "metadata": {},
     "output_type": "execute_result"
    }
   ],
   "source": [
    "result"
   ]
  },
  {
   "cell_type": "code",
   "execution_count": 10,
   "metadata": {},
   "outputs": [
    {
     "data": {
      "text/plain": [
       "nan"
      ]
     },
     "execution_count": 10,
     "metadata": {},
     "output_type": "execute_result"
    }
   ],
   "source": [
    "i_m_h_name"
   ]
  },
  {
   "cell_type": "code",
   "execution_count": 5,
   "metadata": {},
   "outputs": [
    {
     "data": {
      "text/html": [
       "<div>\n",
       "<style scoped>\n",
       "    .dataframe tbody tr th:only-of-type {\n",
       "        vertical-align: middle;\n",
       "    }\n",
       "\n",
       "    .dataframe tbody tr th {\n",
       "        vertical-align: top;\n",
       "    }\n",
       "\n",
       "    .dataframe thead th {\n",
       "        text-align: right;\n",
       "    }\n",
       "</style>\n",
       "<table border=\"1\" class=\"dataframe\">\n",
       "  <thead>\n",
       "    <tr style=\"text-align: right;\">\n",
       "      <th></th>\n",
       "      <th>i_m_h_street_name</th>\n",
       "    </tr>\n",
       "  </thead>\n",
       "  <tbody>\n",
       "    <tr>\n",
       "      <th>0</th>\n",
       "      <td>0</td>\n",
       "    </tr>\n",
       "    <tr>\n",
       "      <th>1</th>\n",
       "      <td>NaN</td>\n",
       "    </tr>\n",
       "    <tr>\n",
       "      <th>2</th>\n",
       "      <td>אב</td>\n",
       "    </tr>\n",
       "    <tr>\n",
       "      <th>3</th>\n",
       "      <td>אבא ושרה נאמן</td>\n",
       "    </tr>\n",
       "    <tr>\n",
       "      <th>4</th>\n",
       "      <td>אבודרהם</td>\n",
       "    </tr>\n",
       "    <tr>\n",
       "      <th>...</th>\n",
       "      <td>...</td>\n",
       "    </tr>\n",
       "    <tr>\n",
       "      <th>1670</th>\n",
       "      <td>תרצ\"ו</td>\n",
       "    </tr>\n",
       "    <tr>\n",
       "      <th>1671</th>\n",
       "      <td>תרצה</td>\n",
       "    </tr>\n",
       "    <tr>\n",
       "      <th>1672</th>\n",
       "      <td>תש\"ח</td>\n",
       "    </tr>\n",
       "    <tr>\n",
       "      <th>1673</th>\n",
       "      <td>תשבי</td>\n",
       "    </tr>\n",
       "    <tr>\n",
       "      <th>1674</th>\n",
       "      <td>תשרי</td>\n",
       "    </tr>\n",
       "  </tbody>\n",
       "</table>\n",
       "<p>1675 rows × 1 columns</p>\n",
       "</div>"
      ],
      "text/plain": [
       "     i_m_h_street_name\n",
       "0                    0\n",
       "1                  NaN\n",
       "2                   אב\n",
       "3        אבא ושרה נאמן\n",
       "4              אבודרהם\n",
       "...                ...\n",
       "1670             תרצ\"ו\n",
       "1671              תרצה\n",
       "1672              תש\"ח\n",
       "1673              תשבי\n",
       "1674              תשרי\n",
       "\n",
       "[1675 rows x 1 columns]"
      ]
     },
     "execution_count": 5,
     "metadata": {},
     "output_type": "execute_result"
    }
   ],
   "source": [
    "i_m_h_streets"
   ]
  },
  {
   "cell_type": "code",
   "execution_count": 6,
   "metadata": {},
   "outputs": [
    {
     "ename": "ValueError",
     "evalue": "too many values to unpack (expected 2)",
     "output_type": "error",
     "traceback": [
      "\u001b[1;31m---------------------------------------------------------------------------\u001b[0m",
      "\u001b[1;31mValueError\u001b[0m                                Traceback (most recent call last)",
      "Cell \u001b[1;32mIn[6], line 17\u001b[0m\n\u001b[0;32m     15\u001b[0m \u001b[38;5;28;01mfor\u001b[39;00m index, row \u001b[38;5;129;01min\u001b[39;00m i_m_h_streets\u001b[38;5;241m.\u001b[39miterrows():\n\u001b[0;32m     16\u001b[0m     i_m_h_name \u001b[38;5;241m=\u001b[39m row[\u001b[38;5;124m'\u001b[39m\u001b[38;5;124mi_m_h_street_name\u001b[39m\u001b[38;5;124m'\u001b[39m]\n\u001b[1;32m---> 17\u001b[0m     best_match \u001b[38;5;241m=\u001b[39m \u001b[43mfind_best_match\u001b[49m\u001b[43m(\u001b[49m\u001b[43mi_m_h_name\u001b[49m\u001b[43m,\u001b[49m\u001b[43m \u001b[49m\u001b[43mta_streets\u001b[49m\u001b[43m[\u001b[49m\u001b[38;5;124;43m'\u001b[39;49m\u001b[38;5;124;43mta_street\u001b[39;49m\u001b[38;5;124;43m'\u001b[39;49m\u001b[43m]\u001b[49m\u001b[43m)\u001b[49m\n\u001b[0;32m     19\u001b[0m     \u001b[38;5;28;01mif\u001b[39;00m best_match:\n\u001b[0;32m     20\u001b[0m         result_name \u001b[38;5;241m=\u001b[39m i_m_h_name\n",
      "Cell \u001b[1;32mIn[6], line 7\u001b[0m, in \u001b[0;36mfind_best_match\u001b[1;34m(street_name, choices, threshold)\u001b[0m\n\u001b[0;32m      6\u001b[0m \u001b[38;5;28;01mdef\u001b[39;00m \u001b[38;5;21mfind_best_match\u001b[39m(street_name, choices, threshold\u001b[38;5;241m=\u001b[39m\u001b[38;5;241m80\u001b[39m):\n\u001b[1;32m----> 7\u001b[0m     match, score \u001b[38;5;241m=\u001b[39m process\u001b[38;5;241m.\u001b[39mextractOne(street_name, choices)\n\u001b[0;32m      8\u001b[0m     \u001b[38;5;28;01mif\u001b[39;00m score \u001b[38;5;241m>\u001b[39m\u001b[38;5;241m=\u001b[39m threshold:\n\u001b[0;32m      9\u001b[0m         \u001b[38;5;28;01mreturn\u001b[39;00m match\n",
      "\u001b[1;31mValueError\u001b[0m: too many values to unpack (expected 2)"
     ]
    }
   ],
   "source": [
    "\n",
    "# Normalize the street names\n",
    "i_m_h_streets['i_m_h_street_name'] = i_m_h_streets['i_m_h_street_name'].str.lower().str.strip()\n",
    "ta_streets['ta_street'] = ta_streets['ta_street'].str.lower().str.strip()\n",
    "\n",
    "# Function to find the best match\n",
    "def find_best_match(street_name, choices, threshold=80):\n",
    "    match, score = process.extractOne(street_name, choices)\n",
    "    if score >= threshold:\n",
    "        return match\n",
    "    return None\n",
    "\n",
    "# Create the result DataFrame\n",
    "result = pd.DataFrame(columns=['i_m_h_street_name', 'ta_street', 'result_name'])\n",
    "\n",
    "for index, row in i_m_h_streets.iterrows():\n",
    "    i_m_h_name = row['i_m_h_street_name']\n",
    "    best_match = find_best_match(i_m_h_name, ta_streets['ta_street'])\n",
    "    \n",
    "    if best_match:\n",
    "        result_name = i_m_h_name\n",
    "    else:\n",
    "        result_name = i_m_h_name if i_m_h_name else 'no_match'\n",
    "    \n",
    "    result = result.append({'i_m_h_street_name': i_m_h_name, 'ta_street': best_match, 'result_name': result_name}, ignore_index=True)\n",
    "\n",
    "# Handle streets in ta_streets not matched in i_m_h_streets\n",
    "for index, row in ta_streets.iterrows():\n",
    "    ta_name = row['ta_street']\n",
    "    if ta_name not in result['ta_street'].values:\n",
    "        result = result.append({'i_m_h_street_name': None, 'ta_street': ta_name, 'result_name': ta_name}, ignore_index=True)\n",
    "\n",
    "# Save the result to a new CSV file\n",
    "result.to_csv('matched_streets.csv', index=False)\n"
   ]
  }
 ],
 "metadata": {
  "kernelspec": {
   "display_name": "base",
   "language": "python",
   "name": "python3"
  },
  "language_info": {
   "codemirror_mode": {
    "name": "ipython",
    "version": 3
   },
   "file_extension": ".py",
   "mimetype": "text/x-python",
   "name": "python",
   "nbconvert_exporter": "python",
   "pygments_lexer": "ipython3",
   "version": "3.12.3"
  }
 },
 "nbformat": 4,
 "nbformat_minor": 2
}
