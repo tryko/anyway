{
 "cells": [
  {
   "cell_type": "markdown",
   "metadata": {},
   "source": [
    "This EDA is about comparing streets so we can check if number of accidents change for similar streets if they have Bicycle Paths vs streets that don't "
   ]
  }
 ],
 "metadata": {
  "language_info": {
   "name": "python"
  }
 },
 "nbformat": 4,
 "nbformat_minor": 2
}
