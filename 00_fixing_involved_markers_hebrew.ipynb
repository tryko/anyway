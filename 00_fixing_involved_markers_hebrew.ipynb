{
 "cells": [
  {
   "cell_type": "markdown",
   "metadata": {},
   "source": [
    "Loading **involved_markers_hebrew** and Fixing:\n",
    "* Date\n",
    "* Dropping columns"
   ]
  },
  {
   "cell_type": "code",
   "execution_count": 6,
   "metadata": {},
   "outputs": [],
   "source": [
    "import matplotlib.pyplot as plt\n",
    "from shapely.geometry import Point\n",
    "import geopandas as gpd\n",
    "import pandas as pd\n",
    "import numpy as np\n",
    "from IPython.display import Image, display\n"
   ]
  },
  {
   "cell_type": "code",
   "execution_count": 7,
   "metadata": {},
   "outputs": [
    {
     "name": "stderr",
     "output_type": "stream",
     "text": [
      "C:\\Users\\itay8\\AppData\\Local\\Temp\\ipykernel_19100\\1916716407.py:1: DtypeWarning: Columns (151) have mixed types. Specify dtype option on import or set low_memory=False.\n",
      "  i_m_h = pd.read_csv('./csv_tables/original_csv_tables/involved_markers_hebrew.csv')\n"
     ]
    }
   ],
   "source": [
    "i_m_h = pd.read_csv('./csv_tables/original_csv_tables/involved_markers_hebrew.csv')"
   ]
  },
  {
   "cell_type": "markdown",
   "metadata": {},
   "source": [
    "Fixing Date"
   ]
  },
  {
   "cell_type": "code",
   "execution_count": 9,
   "metadata": {},
   "outputs": [],
   "source": [
    "i_m_h['accident_date'] = pd.to_datetime(\n",
    "    i_m_h['accident_year'].astype(str) + '-' + \n",
    "    i_m_h['accident_month'].astype(str) + '-' + \n",
    "    i_m_h['accident_day'].astype(str) + ' ' + \n",
    "    i_m_h['accident_hour'].astype(str) + ':' + \n",
    "    i_m_h['accident_minute'].astype(str)\n",
    ")"
   ]
  },
  {
   "cell_type": "markdown",
   "metadata": {},
   "source": [
    "Dropping duplicated columns"
   ]
  },
  {
   "cell_type": "code",
   "execution_count": 10,
   "metadata": {},
   "outputs": [],
   "source": [
    "i_m_h.drop(columns=['vehicle_vehicle_type','vehicle_vehicle_type_hebrew'], inplace=True)"
   ]
  },
  {
   "cell_type": "code",
   "execution_count": 11,
   "metadata": {},
   "outputs": [],
   "source": [
    "i_m_h.to_csv('./csv_tables/involved_markers_hebrew_corrected.csv', index=False)"
   ]
  }
 ],
 "metadata": {
  "kernelspec": {
   "display_name": "base",
   "language": "python",
   "name": "python3"
  },
  "language_info": {
   "codemirror_mode": {
    "name": "ipython",
    "version": 3
   },
   "file_extension": ".py",
   "mimetype": "text/x-python",
   "name": "python",
   "nbconvert_exporter": "python",
   "pygments_lexer": "ipython3",
   "version": "3.12.3"
  }
 },
 "nbformat": 4,
 "nbformat_minor": 2
}
