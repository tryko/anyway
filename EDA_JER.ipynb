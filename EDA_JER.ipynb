{
 "cells": [
  {
   "cell_type": "code",
   "execution_count": 1,
   "metadata": {},
   "outputs": [],
   "source": [
    "import pandas as pd\n",
    "import numpy as np\n",
    "\n",
    "import matplotlib.pyplot as plt\n",
    "\n",
    "import warnings\n",
    "warnings.simplefilter(action='ignore', category=FutureWarning)\n"
   ]
  },
  {
   "cell_type": "code",
   "execution_count": 5,
   "metadata": {},
   "outputs": [
    {
     "name": "stderr",
     "output_type": "stream",
     "text": [
      "C:\\Users\\itay8\\AppData\\Local\\Temp\\ipykernel_19828\\3058071944.py:1: DtypeWarning: Columns (150) have mixed types. Specify dtype option on import or set low_memory=False.\n",
      "  imh_jr = pd.read_csv('./csv_tables/i_m_h_jerusalem.csv')\n"
     ]
    },
    {
     "data": {
      "text/html": [
       "<div>\n",
       "<style scoped>\n",
       "    .dataframe tbody tr th:only-of-type {\n",
       "        vertical-align: middle;\n",
       "    }\n",
       "\n",
       "    .dataframe tbody tr th {\n",
       "        vertical-align: top;\n",
       "    }\n",
       "\n",
       "    .dataframe thead th {\n",
       "        text-align: right;\n",
       "    }\n",
       "</style>\n",
       "<table border=\"1\" class=\"dataframe\">\n",
       "  <thead>\n",
       "    <tr style=\"text-align: right;\">\n",
       "      <th></th>\n",
       "      <th>accident_id</th>\n",
       "      <th>provider_and_id</th>\n",
       "      <th>provider_code</th>\n",
       "      <th>file_type_police</th>\n",
       "      <th>involved_type</th>\n",
       "      <th>involved_type_hebrew</th>\n",
       "      <th>license_acquiring_date</th>\n",
       "      <th>age_group</th>\n",
       "      <th>age_group_hebrew</th>\n",
       "      <th>sex</th>\n",
       "      <th>...</th>\n",
       "      <th>vehicle_status</th>\n",
       "      <th>vehicle_status_hebrew</th>\n",
       "      <th>vehicle_attribution</th>\n",
       "      <th>vehicle_attribution_hebrew</th>\n",
       "      <th>seats</th>\n",
       "      <th>total_weight</th>\n",
       "      <th>total_weight_hebrew</th>\n",
       "      <th>vehicle_damage</th>\n",
       "      <th>vehicle_damage_hebrew</th>\n",
       "      <th>accident_date</th>\n",
       "    </tr>\n",
       "  </thead>\n",
       "  <tbody>\n",
       "    <tr>\n",
       "      <th>0</th>\n",
       "      <td>2013001705</td>\n",
       "      <td>12013001705</td>\n",
       "      <td>1</td>\n",
       "      <td>1</td>\n",
       "      <td>1</td>\n",
       "      <td>נהג</td>\n",
       "      <td>2008</td>\n",
       "      <td>6</td>\n",
       "      <td>25-29</td>\n",
       "      <td>1.0</td>\n",
       "      <td>...</td>\n",
       "      <td>0.0</td>\n",
       "      <td>NaN</td>\n",
       "      <td>1.0</td>\n",
       "      <td>ישראלי</td>\n",
       "      <td>99.0</td>\n",
       "      <td>1.0</td>\n",
       "      <td>עד 1.9</td>\n",
       "      <td>1.0</td>\n",
       "      <td>קל</td>\n",
       "      <td>2013-05-27 01:30:00</td>\n",
       "    </tr>\n",
       "    <tr>\n",
       "      <th>1</th>\n",
       "      <td>2023055413</td>\n",
       "      <td>32023055413</td>\n",
       "      <td>3</td>\n",
       "      <td>3</td>\n",
       "      <td>1</td>\n",
       "      <td>נהג</td>\n",
       "      <td>2011</td>\n",
       "      <td>7</td>\n",
       "      <td>30-34</td>\n",
       "      <td>1.0</td>\n",
       "      <td>...</td>\n",
       "      <td>0.0</td>\n",
       "      <td>NaN</td>\n",
       "      <td>1.0</td>\n",
       "      <td>ישראלי</td>\n",
       "      <td>99.0</td>\n",
       "      <td>0.0</td>\n",
       "      <td>לא ידוע</td>\n",
       "      <td>4.0</td>\n",
       "      <td>אין נזק</td>\n",
       "      <td>2023-02-26 14:00:00</td>\n",
       "    </tr>\n",
       "    <tr>\n",
       "      <th>2</th>\n",
       "      <td>2023056232</td>\n",
       "      <td>32023056232</td>\n",
       "      <td>3</td>\n",
       "      <td>3</td>\n",
       "      <td>1</td>\n",
       "      <td>נהג</td>\n",
       "      <td>1994</td>\n",
       "      <td>11</td>\n",
       "      <td>50-54</td>\n",
       "      <td>1.0</td>\n",
       "      <td>...</td>\n",
       "      <td>0.0</td>\n",
       "      <td>NaN</td>\n",
       "      <td>1.0</td>\n",
       "      <td>ישראלי</td>\n",
       "      <td>3.0</td>\n",
       "      <td>1.0</td>\n",
       "      <td>עד 1.9</td>\n",
       "      <td>4.0</td>\n",
       "      <td>אין נזק</td>\n",
       "      <td>2023-01-27 15:30:00</td>\n",
       "    </tr>\n",
       "    <tr>\n",
       "      <th>3</th>\n",
       "      <td>2023057247</td>\n",
       "      <td>32023057247</td>\n",
       "      <td>3</td>\n",
       "      <td>3</td>\n",
       "      <td>1</td>\n",
       "      <td>נהג</td>\n",
       "      <td>1999</td>\n",
       "      <td>12</td>\n",
       "      <td>55-59</td>\n",
       "      <td>1.0</td>\n",
       "      <td>...</td>\n",
       "      <td>0.0</td>\n",
       "      <td>NaN</td>\n",
       "      <td>1.0</td>\n",
       "      <td>ישראלי</td>\n",
       "      <td>33.0</td>\n",
       "      <td>11.0</td>\n",
       "      <td>16.0-19.0</td>\n",
       "      <td>4.0</td>\n",
       "      <td>אין נזק</td>\n",
       "      <td>2023-03-03 13:15:00</td>\n",
       "    </tr>\n",
       "    <tr>\n",
       "      <th>4</th>\n",
       "      <td>2023028123</td>\n",
       "      <td>32023028123</td>\n",
       "      <td>3</td>\n",
       "      <td>3</td>\n",
       "      <td>1</td>\n",
       "      <td>נהג</td>\n",
       "      <td>2018</td>\n",
       "      <td>5</td>\n",
       "      <td>20-24</td>\n",
       "      <td>1.0</td>\n",
       "      <td>...</td>\n",
       "      <td>0.0</td>\n",
       "      <td>NaN</td>\n",
       "      <td>1.0</td>\n",
       "      <td>ישראלי</td>\n",
       "      <td>3.0</td>\n",
       "      <td>1.0</td>\n",
       "      <td>עד 1.9</td>\n",
       "      <td>1.0</td>\n",
       "      <td>קל</td>\n",
       "      <td>2023-01-10 16:00:00</td>\n",
       "    </tr>\n",
       "    <tr>\n",
       "      <th>...</th>\n",
       "      <td>...</td>\n",
       "      <td>...</td>\n",
       "      <td>...</td>\n",
       "      <td>...</td>\n",
       "      <td>...</td>\n",
       "      <td>...</td>\n",
       "      <td>...</td>\n",
       "      <td>...</td>\n",
       "      <td>...</td>\n",
       "      <td>...</td>\n",
       "      <td>...</td>\n",
       "      <td>...</td>\n",
       "      <td>...</td>\n",
       "      <td>...</td>\n",
       "      <td>...</td>\n",
       "      <td>...</td>\n",
       "      <td>...</td>\n",
       "      <td>...</td>\n",
       "      <td>...</td>\n",
       "      <td>...</td>\n",
       "      <td>...</td>\n",
       "    </tr>\n",
       "    <tr>\n",
       "      <th>88794</th>\n",
       "      <td>2023093898</td>\n",
       "      <td>12023093898</td>\n",
       "      <td>1</td>\n",
       "      <td>1</td>\n",
       "      <td>1</td>\n",
       "      <td>נהג</td>\n",
       "      <td>1985</td>\n",
       "      <td>13</td>\n",
       "      <td>60-64</td>\n",
       "      <td>1.0</td>\n",
       "      <td>...</td>\n",
       "      <td>0.0</td>\n",
       "      <td>NaN</td>\n",
       "      <td>1.0</td>\n",
       "      <td>ישראלי</td>\n",
       "      <td>33.0</td>\n",
       "      <td>11.0</td>\n",
       "      <td>16.0-19.0</td>\n",
       "      <td>1.0</td>\n",
       "      <td>קל</td>\n",
       "      <td>2023-02-14 08:45:00</td>\n",
       "    </tr>\n",
       "    <tr>\n",
       "      <th>88795</th>\n",
       "      <td>2023097378</td>\n",
       "      <td>12023097378</td>\n",
       "      <td>1</td>\n",
       "      <td>1</td>\n",
       "      <td>1</td>\n",
       "      <td>נהג</td>\n",
       "      <td>2016</td>\n",
       "      <td>7</td>\n",
       "      <td>30-34</td>\n",
       "      <td>1.0</td>\n",
       "      <td>...</td>\n",
       "      <td>0.0</td>\n",
       "      <td>NaN</td>\n",
       "      <td>1.0</td>\n",
       "      <td>ישראלי</td>\n",
       "      <td>3.0</td>\n",
       "      <td>1.0</td>\n",
       "      <td>עד 1.9</td>\n",
       "      <td>1.0</td>\n",
       "      <td>קל</td>\n",
       "      <td>2023-03-03 14:15:00</td>\n",
       "    </tr>\n",
       "    <tr>\n",
       "      <th>88796</th>\n",
       "      <td>2023097277</td>\n",
       "      <td>32023097277</td>\n",
       "      <td>3</td>\n",
       "      <td>3</td>\n",
       "      <td>3</td>\n",
       "      <td>נפגע</td>\n",
       "      <td>0</td>\n",
       "      <td>3</td>\n",
       "      <td>10-14</td>\n",
       "      <td>1.0</td>\n",
       "      <td>...</td>\n",
       "      <td>NaN</td>\n",
       "      <td>NaN</td>\n",
       "      <td>NaN</td>\n",
       "      <td>NaN</td>\n",
       "      <td>NaN</td>\n",
       "      <td>NaN</td>\n",
       "      <td>NaN</td>\n",
       "      <td>NaN</td>\n",
       "      <td>NaN</td>\n",
       "      <td>2023-03-08 13:30:00</td>\n",
       "    </tr>\n",
       "    <tr>\n",
       "      <th>88797</th>\n",
       "      <td>2023098653</td>\n",
       "      <td>12023098653</td>\n",
       "      <td>1</td>\n",
       "      <td>1</td>\n",
       "      <td>1</td>\n",
       "      <td>נהג</td>\n",
       "      <td>1999</td>\n",
       "      <td>9</td>\n",
       "      <td>40-44</td>\n",
       "      <td>1.0</td>\n",
       "      <td>...</td>\n",
       "      <td>0.0</td>\n",
       "      <td>NaN</td>\n",
       "      <td>1.0</td>\n",
       "      <td>ישראלי</td>\n",
       "      <td>5.0</td>\n",
       "      <td>2.0</td>\n",
       "      <td>2.0-2.9</td>\n",
       "      <td>2.0</td>\n",
       "      <td>בינוני</td>\n",
       "      <td>2023-01-14 22:15:00</td>\n",
       "    </tr>\n",
       "    <tr>\n",
       "      <th>88798</th>\n",
       "      <td>2023096255</td>\n",
       "      <td>32023096255</td>\n",
       "      <td>3</td>\n",
       "      <td>3</td>\n",
       "      <td>2</td>\n",
       "      <td>נהג נפגע</td>\n",
       "      <td>2011</td>\n",
       "      <td>9</td>\n",
       "      <td>40-44</td>\n",
       "      <td>2.0</td>\n",
       "      <td>...</td>\n",
       "      <td>0.0</td>\n",
       "      <td>NaN</td>\n",
       "      <td>1.0</td>\n",
       "      <td>ישראלי</td>\n",
       "      <td>99.0</td>\n",
       "      <td>1.0</td>\n",
       "      <td>עד 1.9</td>\n",
       "      <td>1.0</td>\n",
       "      <td>קל</td>\n",
       "      <td>2023-02-13 14:30:00</td>\n",
       "    </tr>\n",
       "  </tbody>\n",
       "</table>\n",
       "<p>88799 rows × 159 columns</p>\n",
       "</div>"
      ],
      "text/plain": [
       "       accident_id  provider_and_id  provider_code  file_type_police  \\\n",
       "0       2013001705      12013001705              1                 1   \n",
       "1       2023055413      32023055413              3                 3   \n",
       "2       2023056232      32023056232              3                 3   \n",
       "3       2023057247      32023057247              3                 3   \n",
       "4       2023028123      32023028123              3                 3   \n",
       "...            ...              ...            ...               ...   \n",
       "88794   2023093898      12023093898              1                 1   \n",
       "88795   2023097378      12023097378              1                 1   \n",
       "88796   2023097277      32023097277              3                 3   \n",
       "88797   2023098653      12023098653              1                 1   \n",
       "88798   2023096255      32023096255              3                 3   \n",
       "\n",
       "       involved_type involved_type_hebrew  license_acquiring_date  age_group  \\\n",
       "0                  1                  נהג                    2008          6   \n",
       "1                  1                  נהג                    2011          7   \n",
       "2                  1                  נהג                    1994         11   \n",
       "3                  1                  נהג                    1999         12   \n",
       "4                  1                  נהג                    2018          5   \n",
       "...              ...                  ...                     ...        ...   \n",
       "88794              1                  נהג                    1985         13   \n",
       "88795              1                  נהג                    2016          7   \n",
       "88796              3                 נפגע                       0          3   \n",
       "88797              1                  נהג                    1999          9   \n",
       "88798              2             נהג נפגע                    2011          9   \n",
       "\n",
       "      age_group_hebrew  sex  ... vehicle_status  vehicle_status_hebrew  \\\n",
       "0                25-29  1.0  ...            0.0                    NaN   \n",
       "1                30-34  1.0  ...            0.0                    NaN   \n",
       "2                50-54  1.0  ...            0.0                    NaN   \n",
       "3                55-59  1.0  ...            0.0                    NaN   \n",
       "4                20-24  1.0  ...            0.0                    NaN   \n",
       "...                ...  ...  ...            ...                    ...   \n",
       "88794            60-64  1.0  ...            0.0                    NaN   \n",
       "88795            30-34  1.0  ...            0.0                    NaN   \n",
       "88796            10-14  1.0  ...            NaN                    NaN   \n",
       "88797            40-44  1.0  ...            0.0                    NaN   \n",
       "88798            40-44  2.0  ...            0.0                    NaN   \n",
       "\n",
       "       vehicle_attribution vehicle_attribution_hebrew  seats total_weight  \\\n",
       "0                      1.0                     ישראלי   99.0          1.0   \n",
       "1                      1.0                     ישראלי   99.0          0.0   \n",
       "2                      1.0                     ישראלי    3.0          1.0   \n",
       "3                      1.0                     ישראלי   33.0         11.0   \n",
       "4                      1.0                     ישראלי    3.0          1.0   \n",
       "...                    ...                        ...    ...          ...   \n",
       "88794                  1.0                     ישראלי   33.0         11.0   \n",
       "88795                  1.0                     ישראלי    3.0          1.0   \n",
       "88796                  NaN                        NaN    NaN          NaN   \n",
       "88797                  1.0                     ישראלי    5.0          2.0   \n",
       "88798                  1.0                     ישראלי   99.0          1.0   \n",
       "\n",
       "       total_weight_hebrew vehicle_damage  vehicle_damage_hebrew  \\\n",
       "0                   עד 1.9            1.0                     קל   \n",
       "1                  לא ידוע            4.0                אין נזק   \n",
       "2                   עד 1.9            4.0                אין נזק   \n",
       "3                16.0-19.0            4.0                אין נזק   \n",
       "4                   עד 1.9            1.0                     קל   \n",
       "...                    ...            ...                    ...   \n",
       "88794            16.0-19.0            1.0                     קל   \n",
       "88795               עד 1.9            1.0                     קל   \n",
       "88796                  NaN            NaN                    NaN   \n",
       "88797              2.0-2.9            2.0                 בינוני   \n",
       "88798               עד 1.9            1.0                     קל   \n",
       "\n",
       "            accident_date  \n",
       "0     2013-05-27 01:30:00  \n",
       "1     2023-02-26 14:00:00  \n",
       "2     2023-01-27 15:30:00  \n",
       "3     2023-03-03 13:15:00  \n",
       "4     2023-01-10 16:00:00  \n",
       "...                   ...  \n",
       "88794 2023-02-14 08:45:00  \n",
       "88795 2023-03-03 14:15:00  \n",
       "88796 2023-03-08 13:30:00  \n",
       "88797 2023-01-14 22:15:00  \n",
       "88798 2023-02-13 14:30:00  \n",
       "\n",
       "[88799 rows x 159 columns]"
      ]
     },
     "execution_count": 5,
     "metadata": {},
     "output_type": "execute_result"
    }
   ],
   "source": [
    "imh_jr = pd.read_csv('./csv_tables/i_m_h_jerusalem.csv')\n",
    "imh_jr['accident_date'] = pd.to_datetime(imh_jr['accident_date'])\n",
    "imh_jr\n"
   ]
  },
  {
   "cell_type": "code",
   "execution_count": 10,
   "metadata": {},
   "outputs": [],
   "source": [
    "BICYCLE = 15\n",
    "SCOOTER = 21\n",
    "KALNOIT = 22\n",
    "E_BICYCLE = 23\n",
    "\n",
    "micro_vehicle = [BICYCLE, SCOOTER, KALNOIT, E_BICYCLE]"
   ]
  },
  {
   "cell_type": "code",
   "execution_count": 11,
   "metadata": {},
   "outputs": [
    {
     "data": {
      "text/html": [
       "<div>\n",
       "<style scoped>\n",
       "    .dataframe tbody tr th:only-of-type {\n",
       "        vertical-align: middle;\n",
       "    }\n",
       "\n",
       "    .dataframe tbody tr th {\n",
       "        vertical-align: top;\n",
       "    }\n",
       "\n",
       "    .dataframe thead th {\n",
       "        text-align: right;\n",
       "    }\n",
       "</style>\n",
       "<table border=\"1\" class=\"dataframe\">\n",
       "  <thead>\n",
       "    <tr style=\"text-align: right;\">\n",
       "      <th>involve_vehicle_type</th>\n",
       "      <th>1.0</th>\n",
       "      <th>2.0</th>\n",
       "      <th>3.0</th>\n",
       "      <th>5.0</th>\n",
       "      <th>6.0</th>\n",
       "      <th>7.0</th>\n",
       "      <th>8.0</th>\n",
       "      <th>9.0</th>\n",
       "      <th>10.0</th>\n",
       "      <th>11.0</th>\n",
       "      <th>...</th>\n",
       "      <th>15.0</th>\n",
       "      <th>16.0</th>\n",
       "      <th>17.0</th>\n",
       "      <th>18.0</th>\n",
       "      <th>19.0</th>\n",
       "      <th>21.0</th>\n",
       "      <th>22.0</th>\n",
       "      <th>23.0</th>\n",
       "      <th>24.0</th>\n",
       "      <th>25.0</th>\n",
       "    </tr>\n",
       "    <tr>\n",
       "      <th>accident_year</th>\n",
       "      <th></th>\n",
       "      <th></th>\n",
       "      <th></th>\n",
       "      <th></th>\n",
       "      <th></th>\n",
       "      <th></th>\n",
       "      <th></th>\n",
       "      <th></th>\n",
       "      <th></th>\n",
       "      <th></th>\n",
       "      <th></th>\n",
       "      <th></th>\n",
       "      <th></th>\n",
       "      <th></th>\n",
       "      <th></th>\n",
       "      <th></th>\n",
       "      <th></th>\n",
       "      <th></th>\n",
       "      <th></th>\n",
       "      <th></th>\n",
       "      <th></th>\n",
       "    </tr>\n",
       "  </thead>\n",
       "  <tbody>\n",
       "    <tr>\n",
       "      <th>2013</th>\n",
       "      <td>5301.0</td>\n",
       "      <td>390.0</td>\n",
       "      <td>139.0</td>\n",
       "      <td>30.0</td>\n",
       "      <td>47.0</td>\n",
       "      <td>18.0</td>\n",
       "      <td>49.0</td>\n",
       "      <td>330.0</td>\n",
       "      <td>202.0</td>\n",
       "      <td>925.0</td>\n",
       "      <td>...</td>\n",
       "      <td>128.0</td>\n",
       "      <td>89.0</td>\n",
       "      <td>568.0</td>\n",
       "      <td>80.0</td>\n",
       "      <td>53.0</td>\n",
       "      <td>1.0</td>\n",
       "      <td>6.0</td>\n",
       "      <td>5.0</td>\n",
       "      <td>95.0</td>\n",
       "      <td>13.0</td>\n",
       "    </tr>\n",
       "    <tr>\n",
       "      <th>2014</th>\n",
       "      <td>4663.0</td>\n",
       "      <td>299.0</td>\n",
       "      <td>115.0</td>\n",
       "      <td>14.0</td>\n",
       "      <td>36.0</td>\n",
       "      <td>20.0</td>\n",
       "      <td>22.0</td>\n",
       "      <td>252.0</td>\n",
       "      <td>216.0</td>\n",
       "      <td>864.0</td>\n",
       "      <td>...</td>\n",
       "      <td>125.0</td>\n",
       "      <td>80.0</td>\n",
       "      <td>458.0</td>\n",
       "      <td>77.0</td>\n",
       "      <td>35.0</td>\n",
       "      <td>2.0</td>\n",
       "      <td>7.0</td>\n",
       "      <td>19.0</td>\n",
       "      <td>99.0</td>\n",
       "      <td>8.0</td>\n",
       "    </tr>\n",
       "    <tr>\n",
       "      <th>2015</th>\n",
       "      <td>5055.0</td>\n",
       "      <td>324.0</td>\n",
       "      <td>138.0</td>\n",
       "      <td>31.0</td>\n",
       "      <td>47.0</td>\n",
       "      <td>4.0</td>\n",
       "      <td>31.0</td>\n",
       "      <td>284.0</td>\n",
       "      <td>176.0</td>\n",
       "      <td>888.0</td>\n",
       "      <td>...</td>\n",
       "      <td>112.0</td>\n",
       "      <td>74.0</td>\n",
       "      <td>460.0</td>\n",
       "      <td>72.0</td>\n",
       "      <td>49.0</td>\n",
       "      <td>3.0</td>\n",
       "      <td>6.0</td>\n",
       "      <td>48.0</td>\n",
       "      <td>80.0</td>\n",
       "      <td>11.0</td>\n",
       "    </tr>\n",
       "    <tr>\n",
       "      <th>2016</th>\n",
       "      <td>5577.0</td>\n",
       "      <td>341.0</td>\n",
       "      <td>114.0</td>\n",
       "      <td>32.0</td>\n",
       "      <td>61.0</td>\n",
       "      <td>6.0</td>\n",
       "      <td>27.0</td>\n",
       "      <td>283.0</td>\n",
       "      <td>191.0</td>\n",
       "      <td>990.0</td>\n",
       "      <td>...</td>\n",
       "      <td>106.0</td>\n",
       "      <td>84.0</td>\n",
       "      <td>299.0</td>\n",
       "      <td>80.0</td>\n",
       "      <td>48.0</td>\n",
       "      <td>1.0</td>\n",
       "      <td>3.0</td>\n",
       "      <td>79.0</td>\n",
       "      <td>93.0</td>\n",
       "      <td>9.0</td>\n",
       "    </tr>\n",
       "    <tr>\n",
       "      <th>2017</th>\n",
       "      <td>5235.0</td>\n",
       "      <td>315.0</td>\n",
       "      <td>105.0</td>\n",
       "      <td>31.0</td>\n",
       "      <td>92.0</td>\n",
       "      <td>11.0</td>\n",
       "      <td>28.0</td>\n",
       "      <td>286.0</td>\n",
       "      <td>225.0</td>\n",
       "      <td>983.0</td>\n",
       "      <td>...</td>\n",
       "      <td>96.0</td>\n",
       "      <td>64.0</td>\n",
       "      <td>406.0</td>\n",
       "      <td>90.0</td>\n",
       "      <td>58.0</td>\n",
       "      <td>4.0</td>\n",
       "      <td>5.0</td>\n",
       "      <td>131.0</td>\n",
       "      <td>103.0</td>\n",
       "      <td>21.0</td>\n",
       "    </tr>\n",
       "    <tr>\n",
       "      <th>2018</th>\n",
       "      <td>4977.0</td>\n",
       "      <td>247.0</td>\n",
       "      <td>104.0</td>\n",
       "      <td>22.0</td>\n",
       "      <td>77.0</td>\n",
       "      <td>8.0</td>\n",
       "      <td>23.0</td>\n",
       "      <td>279.0</td>\n",
       "      <td>274.0</td>\n",
       "      <td>987.0</td>\n",
       "      <td>...</td>\n",
       "      <td>108.0</td>\n",
       "      <td>88.0</td>\n",
       "      <td>402.0</td>\n",
       "      <td>83.0</td>\n",
       "      <td>73.0</td>\n",
       "      <td>11.0</td>\n",
       "      <td>1.0</td>\n",
       "      <td>169.0</td>\n",
       "      <td>90.0</td>\n",
       "      <td>21.0</td>\n",
       "    </tr>\n",
       "    <tr>\n",
       "      <th>2019</th>\n",
       "      <td>4984.0</td>\n",
       "      <td>222.0</td>\n",
       "      <td>95.0</td>\n",
       "      <td>16.0</td>\n",
       "      <td>65.0</td>\n",
       "      <td>3.0</td>\n",
       "      <td>35.0</td>\n",
       "      <td>280.0</td>\n",
       "      <td>241.0</td>\n",
       "      <td>1029.0</td>\n",
       "      <td>...</td>\n",
       "      <td>78.0</td>\n",
       "      <td>132.0</td>\n",
       "      <td>382.0</td>\n",
       "      <td>79.0</td>\n",
       "      <td>78.0</td>\n",
       "      <td>15.0</td>\n",
       "      <td>12.0</td>\n",
       "      <td>138.0</td>\n",
       "      <td>77.0</td>\n",
       "      <td>15.0</td>\n",
       "    </tr>\n",
       "    <tr>\n",
       "      <th>2020</th>\n",
       "      <td>3469.0</td>\n",
       "      <td>159.0</td>\n",
       "      <td>76.0</td>\n",
       "      <td>13.0</td>\n",
       "      <td>69.0</td>\n",
       "      <td>3.0</td>\n",
       "      <td>27.0</td>\n",
       "      <td>237.0</td>\n",
       "      <td>172.0</td>\n",
       "      <td>579.0</td>\n",
       "      <td>...</td>\n",
       "      <td>86.0</td>\n",
       "      <td>38.0</td>\n",
       "      <td>242.0</td>\n",
       "      <td>45.0</td>\n",
       "      <td>44.0</td>\n",
       "      <td>20.0</td>\n",
       "      <td>7.0</td>\n",
       "      <td>65.0</td>\n",
       "      <td>75.0</td>\n",
       "      <td>13.0</td>\n",
       "    </tr>\n",
       "    <tr>\n",
       "      <th>2021</th>\n",
       "      <td>4415.0</td>\n",
       "      <td>164.0</td>\n",
       "      <td>90.0</td>\n",
       "      <td>18.0</td>\n",
       "      <td>84.0</td>\n",
       "      <td>8.0</td>\n",
       "      <td>53.0</td>\n",
       "      <td>226.0</td>\n",
       "      <td>211.0</td>\n",
       "      <td>816.0</td>\n",
       "      <td>...</td>\n",
       "      <td>70.0</td>\n",
       "      <td>77.0</td>\n",
       "      <td>312.0</td>\n",
       "      <td>55.0</td>\n",
       "      <td>71.0</td>\n",
       "      <td>24.0</td>\n",
       "      <td>8.0</td>\n",
       "      <td>94.0</td>\n",
       "      <td>96.0</td>\n",
       "      <td>8.0</td>\n",
       "    </tr>\n",
       "    <tr>\n",
       "      <th>2022</th>\n",
       "      <td>4200.0</td>\n",
       "      <td>156.0</td>\n",
       "      <td>85.0</td>\n",
       "      <td>14.0</td>\n",
       "      <td>64.0</td>\n",
       "      <td>6.0</td>\n",
       "      <td>35.0</td>\n",
       "      <td>211.0</td>\n",
       "      <td>250.0</td>\n",
       "      <td>789.0</td>\n",
       "      <td>...</td>\n",
       "      <td>67.0</td>\n",
       "      <td>82.0</td>\n",
       "      <td>287.0</td>\n",
       "      <td>57.0</td>\n",
       "      <td>77.0</td>\n",
       "      <td>21.0</td>\n",
       "      <td>13.0</td>\n",
       "      <td>97.0</td>\n",
       "      <td>80.0</td>\n",
       "      <td>12.0</td>\n",
       "    </tr>\n",
       "    <tr>\n",
       "      <th>2023</th>\n",
       "      <td>840.0</td>\n",
       "      <td>26.0</td>\n",
       "      <td>24.0</td>\n",
       "      <td>3.0</td>\n",
       "      <td>7.0</td>\n",
       "      <td>NaN</td>\n",
       "      <td>15.0</td>\n",
       "      <td>37.0</td>\n",
       "      <td>42.0</td>\n",
       "      <td>195.0</td>\n",
       "      <td>...</td>\n",
       "      <td>11.0</td>\n",
       "      <td>13.0</td>\n",
       "      <td>52.0</td>\n",
       "      <td>11.0</td>\n",
       "      <td>17.0</td>\n",
       "      <td>8.0</td>\n",
       "      <td>NaN</td>\n",
       "      <td>13.0</td>\n",
       "      <td>18.0</td>\n",
       "      <td>8.0</td>\n",
       "    </tr>\n",
       "  </tbody>\n",
       "</table>\n",
       "<p>11 rows × 23 columns</p>\n",
       "</div>"
      ],
      "text/plain": [
       "involve_vehicle_type    1.0    2.0    3.0   5.0   6.0   7.0   8.0    9.0   \\\n",
       "accident_year                                                               \n",
       "2013                  5301.0  390.0  139.0  30.0  47.0  18.0  49.0  330.0   \n",
       "2014                  4663.0  299.0  115.0  14.0  36.0  20.0  22.0  252.0   \n",
       "2015                  5055.0  324.0  138.0  31.0  47.0   4.0  31.0  284.0   \n",
       "2016                  5577.0  341.0  114.0  32.0  61.0   6.0  27.0  283.0   \n",
       "2017                  5235.0  315.0  105.0  31.0  92.0  11.0  28.0  286.0   \n",
       "2018                  4977.0  247.0  104.0  22.0  77.0   8.0  23.0  279.0   \n",
       "2019                  4984.0  222.0   95.0  16.0  65.0   3.0  35.0  280.0   \n",
       "2020                  3469.0  159.0   76.0  13.0  69.0   3.0  27.0  237.0   \n",
       "2021                  4415.0  164.0   90.0  18.0  84.0   8.0  53.0  226.0   \n",
       "2022                  4200.0  156.0   85.0  14.0  64.0   6.0  35.0  211.0   \n",
       "2023                   840.0   26.0   24.0   3.0   7.0   NaN  15.0   37.0   \n",
       "\n",
       "involve_vehicle_type   10.0    11.0  ...   15.0   16.0   17.0  18.0  19.0  \\\n",
       "accident_year                        ...                                    \n",
       "2013                  202.0   925.0  ...  128.0   89.0  568.0  80.0  53.0   \n",
       "2014                  216.0   864.0  ...  125.0   80.0  458.0  77.0  35.0   \n",
       "2015                  176.0   888.0  ...  112.0   74.0  460.0  72.0  49.0   \n",
       "2016                  191.0   990.0  ...  106.0   84.0  299.0  80.0  48.0   \n",
       "2017                  225.0   983.0  ...   96.0   64.0  406.0  90.0  58.0   \n",
       "2018                  274.0   987.0  ...  108.0   88.0  402.0  83.0  73.0   \n",
       "2019                  241.0  1029.0  ...   78.0  132.0  382.0  79.0  78.0   \n",
       "2020                  172.0   579.0  ...   86.0   38.0  242.0  45.0  44.0   \n",
       "2021                  211.0   816.0  ...   70.0   77.0  312.0  55.0  71.0   \n",
       "2022                  250.0   789.0  ...   67.0   82.0  287.0  57.0  77.0   \n",
       "2023                   42.0   195.0  ...   11.0   13.0   52.0  11.0  17.0   \n",
       "\n",
       "involve_vehicle_type  21.0  22.0   23.0   24.0  25.0  \n",
       "accident_year                                         \n",
       "2013                   1.0   6.0    5.0   95.0  13.0  \n",
       "2014                   2.0   7.0   19.0   99.0   8.0  \n",
       "2015                   3.0   6.0   48.0   80.0  11.0  \n",
       "2016                   1.0   3.0   79.0   93.0   9.0  \n",
       "2017                   4.0   5.0  131.0  103.0  21.0  \n",
       "2018                  11.0   1.0  169.0   90.0  21.0  \n",
       "2019                  15.0  12.0  138.0   77.0  15.0  \n",
       "2020                  20.0   7.0   65.0   75.0  13.0  \n",
       "2021                  24.0   8.0   94.0   96.0   8.0  \n",
       "2022                  21.0  13.0   97.0   80.0  12.0  \n",
       "2023                   8.0   NaN   13.0   18.0   8.0  \n",
       "\n",
       "[11 rows x 23 columns]"
      ]
     },
     "execution_count": 11,
     "metadata": {},
     "output_type": "execute_result"
    }
   ],
   "source": [
    "\n",
    "accident_year_counts = imh_jr.groupby(['accident_year','involve_vehicle_type']).size().reset_index(name='counts')\n",
    "accident_year_counts = accident_year_counts.pivot(index='accident_year', columns='involve_vehicle_type', values='counts')\n",
    "accident_year_counts"
   ]
  },
  {
   "cell_type": "markdown",
   "metadata": {},
   "source": [
    "Accidents in Jerusalem by micro mobile vehicle."
   ]
  },
  {
   "cell_type": "code",
   "execution_count": 13,
   "metadata": {},
   "outputs": [
    {
     "data": {
      "text/plain": [
       "15.0    987\n",
       "23.0    858\n",
       "21.0    110\n",
       "22.0     68\n",
       "Name: involve_vehicle_type, dtype: int64"
      ]
     },
     "execution_count": 13,
     "metadata": {},
     "output_type": "execute_result"
    }
   ],
   "source": [
    "# turn in to a graph.\n",
    "imh_jr[imh_jr.involve_vehicle_type.isin(micro_vehicle)]['involve_vehicle_type'].value_counts()"
   ]
  },
  {
   "cell_type": "markdown",
   "metadata": {},
   "source": [
    "I want to see the change in accidents by year."
   ]
  },
  {
   "cell_type": "code",
   "execution_count": 15,
   "metadata": {},
   "outputs": [
    {
     "data": {
      "text/html": [
       "<div>\n",
       "<style scoped>\n",
       "    .dataframe tbody tr th:only-of-type {\n",
       "        vertical-align: middle;\n",
       "    }\n",
       "\n",
       "    .dataframe tbody tr th {\n",
       "        vertical-align: top;\n",
       "    }\n",
       "\n",
       "    .dataframe thead th {\n",
       "        text-align: right;\n",
       "    }\n",
       "</style>\n",
       "<table border=\"1\" class=\"dataframe\">\n",
       "  <thead>\n",
       "    <tr style=\"text-align: right;\">\n",
       "      <th></th>\n",
       "      <th>accident_id</th>\n",
       "      <th>provider_and_id</th>\n",
       "      <th>provider_code</th>\n",
       "      <th>file_type_police</th>\n",
       "      <th>involved_type</th>\n",
       "      <th>involved_type_hebrew</th>\n",
       "      <th>license_acquiring_date</th>\n",
       "      <th>age_group</th>\n",
       "      <th>age_group_hebrew</th>\n",
       "      <th>sex</th>\n",
       "      <th>...</th>\n",
       "      <th>vehicle_status</th>\n",
       "      <th>vehicle_status_hebrew</th>\n",
       "      <th>vehicle_attribution</th>\n",
       "      <th>vehicle_attribution_hebrew</th>\n",
       "      <th>seats</th>\n",
       "      <th>total_weight</th>\n",
       "      <th>total_weight_hebrew</th>\n",
       "      <th>vehicle_damage</th>\n",
       "      <th>vehicle_damage_hebrew</th>\n",
       "      <th>accident_date</th>\n",
       "    </tr>\n",
       "    <tr>\n",
       "      <th>accident_year</th>\n",
       "      <th></th>\n",
       "      <th></th>\n",
       "      <th></th>\n",
       "      <th></th>\n",
       "      <th></th>\n",
       "      <th></th>\n",
       "      <th></th>\n",
       "      <th></th>\n",
       "      <th></th>\n",
       "      <th></th>\n",
       "      <th></th>\n",
       "      <th></th>\n",
       "      <th></th>\n",
       "      <th></th>\n",
       "      <th></th>\n",
       "      <th></th>\n",
       "      <th></th>\n",
       "      <th></th>\n",
       "      <th></th>\n",
       "      <th></th>\n",
       "      <th></th>\n",
       "    </tr>\n",
       "  </thead>\n",
       "  <tbody>\n",
       "    <tr>\n",
       "      <th>2013</th>\n",
       "      <td>9867</td>\n",
       "      <td>9867</td>\n",
       "      <td>9867</td>\n",
       "      <td>9867</td>\n",
       "      <td>9867</td>\n",
       "      <td>9867</td>\n",
       "      <td>9867</td>\n",
       "      <td>9867</td>\n",
       "      <td>9867</td>\n",
       "      <td>9867</td>\n",
       "      <td>...</td>\n",
       "      <td>8874</td>\n",
       "      <td>0</td>\n",
       "      <td>8874</td>\n",
       "      <td>8874</td>\n",
       "      <td>8874</td>\n",
       "      <td>5997</td>\n",
       "      <td>5997</td>\n",
       "      <td>8874</td>\n",
       "      <td>8874</td>\n",
       "      <td>9867</td>\n",
       "    </tr>\n",
       "    <tr>\n",
       "      <th>2014</th>\n",
       "      <td>8635</td>\n",
       "      <td>8635</td>\n",
       "      <td>8635</td>\n",
       "      <td>8635</td>\n",
       "      <td>8635</td>\n",
       "      <td>8635</td>\n",
       "      <td>8635</td>\n",
       "      <td>8635</td>\n",
       "      <td>8635</td>\n",
       "      <td>8635</td>\n",
       "      <td>...</td>\n",
       "      <td>7732</td>\n",
       "      <td>7</td>\n",
       "      <td>7732</td>\n",
       "      <td>7732</td>\n",
       "      <td>7732</td>\n",
       "      <td>5455</td>\n",
       "      <td>5455</td>\n",
       "      <td>7732</td>\n",
       "      <td>7732</td>\n",
       "      <td>8635</td>\n",
       "    </tr>\n",
       "    <tr>\n",
       "      <th>2015</th>\n",
       "      <td>9080</td>\n",
       "      <td>9080</td>\n",
       "      <td>9080</td>\n",
       "      <td>9080</td>\n",
       "      <td>9080</td>\n",
       "      <td>9080</td>\n",
       "      <td>9080</td>\n",
       "      <td>9080</td>\n",
       "      <td>9080</td>\n",
       "      <td>9080</td>\n",
       "      <td>...</td>\n",
       "      <td>8218</td>\n",
       "      <td>2</td>\n",
       "      <td>8218</td>\n",
       "      <td>8218</td>\n",
       "      <td>8218</td>\n",
       "      <td>5957</td>\n",
       "      <td>5957</td>\n",
       "      <td>8218</td>\n",
       "      <td>8218</td>\n",
       "      <td>9080</td>\n",
       "    </tr>\n",
       "    <tr>\n",
       "      <th>2016</th>\n",
       "      <td>9760</td>\n",
       "      <td>9760</td>\n",
       "      <td>9760</td>\n",
       "      <td>9760</td>\n",
       "      <td>9760</td>\n",
       "      <td>9760</td>\n",
       "      <td>9760</td>\n",
       "      <td>9760</td>\n",
       "      <td>9760</td>\n",
       "      <td>9760</td>\n",
       "      <td>...</td>\n",
       "      <td>8784</td>\n",
       "      <td>0</td>\n",
       "      <td>8784</td>\n",
       "      <td>8784</td>\n",
       "      <td>8784</td>\n",
       "      <td>6441</td>\n",
       "      <td>6441</td>\n",
       "      <td>8784</td>\n",
       "      <td>8784</td>\n",
       "      <td>9760</td>\n",
       "    </tr>\n",
       "    <tr>\n",
       "      <th>2017</th>\n",
       "      <td>9636</td>\n",
       "      <td>9636</td>\n",
       "      <td>9636</td>\n",
       "      <td>9636</td>\n",
       "      <td>9636</td>\n",
       "      <td>9636</td>\n",
       "      <td>9636</td>\n",
       "      <td>9636</td>\n",
       "      <td>9636</td>\n",
       "      <td>9636</td>\n",
       "      <td>...</td>\n",
       "      <td>8633</td>\n",
       "      <td>2</td>\n",
       "      <td>8633</td>\n",
       "      <td>8633</td>\n",
       "      <td>8633</td>\n",
       "      <td>6686</td>\n",
       "      <td>6686</td>\n",
       "      <td>8633</td>\n",
       "      <td>8633</td>\n",
       "      <td>9636</td>\n",
       "    </tr>\n",
       "    <tr>\n",
       "      <th>2018</th>\n",
       "      <td>9337</td>\n",
       "      <td>9337</td>\n",
       "      <td>9337</td>\n",
       "      <td>9337</td>\n",
       "      <td>9337</td>\n",
       "      <td>9337</td>\n",
       "      <td>9337</td>\n",
       "      <td>9337</td>\n",
       "      <td>9337</td>\n",
       "      <td>9337</td>\n",
       "      <td>...</td>\n",
       "      <td>8371</td>\n",
       "      <td>3</td>\n",
       "      <td>8371</td>\n",
       "      <td>8371</td>\n",
       "      <td>8371</td>\n",
       "      <td>6524</td>\n",
       "      <td>6524</td>\n",
       "      <td>8371</td>\n",
       "      <td>8371</td>\n",
       "      <td>9337</td>\n",
       "    </tr>\n",
       "    <tr>\n",
       "      <th>2019</th>\n",
       "      <td>9253</td>\n",
       "      <td>9253</td>\n",
       "      <td>9253</td>\n",
       "      <td>9253</td>\n",
       "      <td>9253</td>\n",
       "      <td>9253</td>\n",
       "      <td>9253</td>\n",
       "      <td>9253</td>\n",
       "      <td>9253</td>\n",
       "      <td>9253</td>\n",
       "      <td>...</td>\n",
       "      <td>8273</td>\n",
       "      <td>4</td>\n",
       "      <td>8273</td>\n",
       "      <td>8273</td>\n",
       "      <td>8273</td>\n",
       "      <td>6676</td>\n",
       "      <td>6676</td>\n",
       "      <td>8273</td>\n",
       "      <td>8273</td>\n",
       "      <td>9253</td>\n",
       "    </tr>\n",
       "    <tr>\n",
       "      <th>2020</th>\n",
       "      <td>6205</td>\n",
       "      <td>6205</td>\n",
       "      <td>6205</td>\n",
       "      <td>6205</td>\n",
       "      <td>6205</td>\n",
       "      <td>6205</td>\n",
       "      <td>6205</td>\n",
       "      <td>6205</td>\n",
       "      <td>6205</td>\n",
       "      <td>6205</td>\n",
       "      <td>...</td>\n",
       "      <td>5601</td>\n",
       "      <td>2</td>\n",
       "      <td>5601</td>\n",
       "      <td>5601</td>\n",
       "      <td>5601</td>\n",
       "      <td>4513</td>\n",
       "      <td>4513</td>\n",
       "      <td>5601</td>\n",
       "      <td>5601</td>\n",
       "      <td>6205</td>\n",
       "    </tr>\n",
       "    <tr>\n",
       "      <th>2021</th>\n",
       "      <td>7859</td>\n",
       "      <td>7859</td>\n",
       "      <td>7859</td>\n",
       "      <td>7859</td>\n",
       "      <td>7859</td>\n",
       "      <td>7859</td>\n",
       "      <td>7859</td>\n",
       "      <td>7859</td>\n",
       "      <td>7859</td>\n",
       "      <td>7859</td>\n",
       "      <td>...</td>\n",
       "      <td>7121</td>\n",
       "      <td>0</td>\n",
       "      <td>7121</td>\n",
       "      <td>7121</td>\n",
       "      <td>7121</td>\n",
       "      <td>5946</td>\n",
       "      <td>5946</td>\n",
       "      <td>7121</td>\n",
       "      <td>7121</td>\n",
       "      <td>7859</td>\n",
       "    </tr>\n",
       "    <tr>\n",
       "      <th>2022</th>\n",
       "      <td>7592</td>\n",
       "      <td>7592</td>\n",
       "      <td>7592</td>\n",
       "      <td>7592</td>\n",
       "      <td>7592</td>\n",
       "      <td>7592</td>\n",
       "      <td>7592</td>\n",
       "      <td>7592</td>\n",
       "      <td>7592</td>\n",
       "      <td>7592</td>\n",
       "      <td>...</td>\n",
       "      <td>6787</td>\n",
       "      <td>1</td>\n",
       "      <td>6787</td>\n",
       "      <td>6787</td>\n",
       "      <td>6787</td>\n",
       "      <td>5759</td>\n",
       "      <td>5759</td>\n",
       "      <td>6787</td>\n",
       "      <td>6787</td>\n",
       "      <td>7592</td>\n",
       "    </tr>\n",
       "    <tr>\n",
       "      <th>2023</th>\n",
       "      <td>1575</td>\n",
       "      <td>1575</td>\n",
       "      <td>1575</td>\n",
       "      <td>1575</td>\n",
       "      <td>1575</td>\n",
       "      <td>1575</td>\n",
       "      <td>1575</td>\n",
       "      <td>1575</td>\n",
       "      <td>1575</td>\n",
       "      <td>1575</td>\n",
       "      <td>...</td>\n",
       "      <td>1394</td>\n",
       "      <td>0</td>\n",
       "      <td>1394</td>\n",
       "      <td>1394</td>\n",
       "      <td>1394</td>\n",
       "      <td>1205</td>\n",
       "      <td>1205</td>\n",
       "      <td>1394</td>\n",
       "      <td>1394</td>\n",
       "      <td>1575</td>\n",
       "    </tr>\n",
       "  </tbody>\n",
       "</table>\n",
       "<p>11 rows × 158 columns</p>\n",
       "</div>"
      ],
      "text/plain": [
       "               accident_id  provider_and_id  provider_code  file_type_police  \\\n",
       "accident_year                                                                  \n",
       "2013                  9867             9867           9867              9867   \n",
       "2014                  8635             8635           8635              8635   \n",
       "2015                  9080             9080           9080              9080   \n",
       "2016                  9760             9760           9760              9760   \n",
       "2017                  9636             9636           9636              9636   \n",
       "2018                  9337             9337           9337              9337   \n",
       "2019                  9253             9253           9253              9253   \n",
       "2020                  6205             6205           6205              6205   \n",
       "2021                  7859             7859           7859              7859   \n",
       "2022                  7592             7592           7592              7592   \n",
       "2023                  1575             1575           1575              1575   \n",
       "\n",
       "               involved_type  involved_type_hebrew  license_acquiring_date  \\\n",
       "accident_year                                                                \n",
       "2013                    9867                  9867                    9867   \n",
       "2014                    8635                  8635                    8635   \n",
       "2015                    9080                  9080                    9080   \n",
       "2016                    9760                  9760                    9760   \n",
       "2017                    9636                  9636                    9636   \n",
       "2018                    9337                  9337                    9337   \n",
       "2019                    9253                  9253                    9253   \n",
       "2020                    6205                  6205                    6205   \n",
       "2021                    7859                  7859                    7859   \n",
       "2022                    7592                  7592                    7592   \n",
       "2023                    1575                  1575                    1575   \n",
       "\n",
       "               age_group  age_group_hebrew   sex  ...  vehicle_status  \\\n",
       "accident_year                                     ...                   \n",
       "2013                9867              9867  9867  ...            8874   \n",
       "2014                8635              8635  8635  ...            7732   \n",
       "2015                9080              9080  9080  ...            8218   \n",
       "2016                9760              9760  9760  ...            8784   \n",
       "2017                9636              9636  9636  ...            8633   \n",
       "2018                9337              9337  9337  ...            8371   \n",
       "2019                9253              9253  9253  ...            8273   \n",
       "2020                6205              6205  6205  ...            5601   \n",
       "2021                7859              7859  7859  ...            7121   \n",
       "2022                7592              7592  7592  ...            6787   \n",
       "2023                1575              1575  1575  ...            1394   \n",
       "\n",
       "               vehicle_status_hebrew  vehicle_attribution  \\\n",
       "accident_year                                               \n",
       "2013                               0                 8874   \n",
       "2014                               7                 7732   \n",
       "2015                               2                 8218   \n",
       "2016                               0                 8784   \n",
       "2017                               2                 8633   \n",
       "2018                               3                 8371   \n",
       "2019                               4                 8273   \n",
       "2020                               2                 5601   \n",
       "2021                               0                 7121   \n",
       "2022                               1                 6787   \n",
       "2023                               0                 1394   \n",
       "\n",
       "               vehicle_attribution_hebrew  seats  total_weight  \\\n",
       "accident_year                                                    \n",
       "2013                                 8874   8874          5997   \n",
       "2014                                 7732   7732          5455   \n",
       "2015                                 8218   8218          5957   \n",
       "2016                                 8784   8784          6441   \n",
       "2017                                 8633   8633          6686   \n",
       "2018                                 8371   8371          6524   \n",
       "2019                                 8273   8273          6676   \n",
       "2020                                 5601   5601          4513   \n",
       "2021                                 7121   7121          5946   \n",
       "2022                                 6787   6787          5759   \n",
       "2023                                 1394   1394          1205   \n",
       "\n",
       "               total_weight_hebrew  vehicle_damage  vehicle_damage_hebrew  \\\n",
       "accident_year                                                               \n",
       "2013                          5997            8874                   8874   \n",
       "2014                          5455            7732                   7732   \n",
       "2015                          5957            8218                   8218   \n",
       "2016                          6441            8784                   8784   \n",
       "2017                          6686            8633                   8633   \n",
       "2018                          6524            8371                   8371   \n",
       "2019                          6676            8273                   8273   \n",
       "2020                          4513            5601                   5601   \n",
       "2021                          5946            7121                   7121   \n",
       "2022                          5759            6787                   6787   \n",
       "2023                          1205            1394                   1394   \n",
       "\n",
       "               accident_date  \n",
       "accident_year                 \n",
       "2013                    9867  \n",
       "2014                    8635  \n",
       "2015                    9080  \n",
       "2016                    9760  \n",
       "2017                    9636  \n",
       "2018                    9337  \n",
       "2019                    9253  \n",
       "2020                    6205  \n",
       "2021                    7859  \n",
       "2022                    7592  \n",
       "2023                    1575  \n",
       "\n",
       "[11 rows x 158 columns]"
      ]
     },
     "execution_count": 15,
     "metadata": {},
     "output_type": "execute_result"
    }
   ],
   "source": [
    "imh_jr.groupby(['accident_year']).count()"
   ]
  },
  {
   "cell_type": "code",
   "execution_count": 24,
   "metadata": {},
   "outputs": [
    {
     "data": {
      "application/vnd.plotly.v1+json": {
       "config": {
        "plotlyServerURL": "https://plot.ly"
       },
       "data": [
        {
         "alignmentgroup": "True",
         "hovertemplate": "accident_year=%{x}<br>accident_id=%{text}<extra></extra>",
         "legendgroup": "",
         "marker": {
          "color": "#636efa",
          "pattern": {
           "shape": ""
          }
         },
         "name": "",
         "offsetgroup": "",
         "orientation": "v",
         "showlegend": false,
         "text": [
          9867,
          8635,
          9080,
          9760,
          9636,
          9337,
          9253,
          6205,
          7859,
          7592,
          1575
         ],
         "textposition": "outside",
         "texttemplate": "%{text:.3s}",
         "type": "bar",
         "x": [
          2013,
          2014,
          2015,
          2016,
          2017,
          2018,
          2019,
          2020,
          2021,
          2022,
          2023
         ],
         "xaxis": "x",
         "y": [
          9867,
          8635,
          9080,
          9760,
          9636,
          9337,
          9253,
          6205,
          7859,
          7592,
          1575
         ],
         "yaxis": "y"
        }
       ],
       "layout": {
        "barmode": "relative",
        "legend": {
         "tracegroupgap": 0
        },
        "template": {
         "data": {
          "bar": [
           {
            "error_x": {
             "color": "#2a3f5f"
            },
            "error_y": {
             "color": "#2a3f5f"
            },
            "marker": {
             "line": {
              "color": "#E5ECF6",
              "width": 0.5
             },
             "pattern": {
              "fillmode": "overlay",
              "size": 10,
              "solidity": 0.2
             }
            },
            "type": "bar"
           }
          ],
          "barpolar": [
           {
            "marker": {
             "line": {
              "color": "#E5ECF6",
              "width": 0.5
             },
             "pattern": {
              "fillmode": "overlay",
              "size": 10,
              "solidity": 0.2
             }
            },
            "type": "barpolar"
           }
          ],
          "carpet": [
           {
            "aaxis": {
             "endlinecolor": "#2a3f5f",
             "gridcolor": "white",
             "linecolor": "white",
             "minorgridcolor": "white",
             "startlinecolor": "#2a3f5f"
            },
            "baxis": {
             "endlinecolor": "#2a3f5f",
             "gridcolor": "white",
             "linecolor": "white",
             "minorgridcolor": "white",
             "startlinecolor": "#2a3f5f"
            },
            "type": "carpet"
           }
          ],
          "choropleth": [
           {
            "colorbar": {
             "outlinewidth": 0,
             "ticks": ""
            },
            "type": "choropleth"
           }
          ],
          "contour": [
           {
            "colorbar": {
             "outlinewidth": 0,
             "ticks": ""
            },
            "colorscale": [
             [
              0,
              "#0d0887"
             ],
             [
              0.1111111111111111,
              "#46039f"
             ],
             [
              0.2222222222222222,
              "#7201a8"
             ],
             [
              0.3333333333333333,
              "#9c179e"
             ],
             [
              0.4444444444444444,
              "#bd3786"
             ],
             [
              0.5555555555555556,
              "#d8576b"
             ],
             [
              0.6666666666666666,
              "#ed7953"
             ],
             [
              0.7777777777777778,
              "#fb9f3a"
             ],
             [
              0.8888888888888888,
              "#fdca26"
             ],
             [
              1,
              "#f0f921"
             ]
            ],
            "type": "contour"
           }
          ],
          "contourcarpet": [
           {
            "colorbar": {
             "outlinewidth": 0,
             "ticks": ""
            },
            "type": "contourcarpet"
           }
          ],
          "heatmap": [
           {
            "colorbar": {
             "outlinewidth": 0,
             "ticks": ""
            },
            "colorscale": [
             [
              0,
              "#0d0887"
             ],
             [
              0.1111111111111111,
              "#46039f"
             ],
             [
              0.2222222222222222,
              "#7201a8"
             ],
             [
              0.3333333333333333,
              "#9c179e"
             ],
             [
              0.4444444444444444,
              "#bd3786"
             ],
             [
              0.5555555555555556,
              "#d8576b"
             ],
             [
              0.6666666666666666,
              "#ed7953"
             ],
             [
              0.7777777777777778,
              "#fb9f3a"
             ],
             [
              0.8888888888888888,
              "#fdca26"
             ],
             [
              1,
              "#f0f921"
             ]
            ],
            "type": "heatmap"
           }
          ],
          "heatmapgl": [
           {
            "colorbar": {
             "outlinewidth": 0,
             "ticks": ""
            },
            "colorscale": [
             [
              0,
              "#0d0887"
             ],
             [
              0.1111111111111111,
              "#46039f"
             ],
             [
              0.2222222222222222,
              "#7201a8"
             ],
             [
              0.3333333333333333,
              "#9c179e"
             ],
             [
              0.4444444444444444,
              "#bd3786"
             ],
             [
              0.5555555555555556,
              "#d8576b"
             ],
             [
              0.6666666666666666,
              "#ed7953"
             ],
             [
              0.7777777777777778,
              "#fb9f3a"
             ],
             [
              0.8888888888888888,
              "#fdca26"
             ],
             [
              1,
              "#f0f921"
             ]
            ],
            "type": "heatmapgl"
           }
          ],
          "histogram": [
           {
            "marker": {
             "pattern": {
              "fillmode": "overlay",
              "size": 10,
              "solidity": 0.2
             }
            },
            "type": "histogram"
           }
          ],
          "histogram2d": [
           {
            "colorbar": {
             "outlinewidth": 0,
             "ticks": ""
            },
            "colorscale": [
             [
              0,
              "#0d0887"
             ],
             [
              0.1111111111111111,
              "#46039f"
             ],
             [
              0.2222222222222222,
              "#7201a8"
             ],
             [
              0.3333333333333333,
              "#9c179e"
             ],
             [
              0.4444444444444444,
              "#bd3786"
             ],
             [
              0.5555555555555556,
              "#d8576b"
             ],
             [
              0.6666666666666666,
              "#ed7953"
             ],
             [
              0.7777777777777778,
              "#fb9f3a"
             ],
             [
              0.8888888888888888,
              "#fdca26"
             ],
             [
              1,
              "#f0f921"
             ]
            ],
            "type": "histogram2d"
           }
          ],
          "histogram2dcontour": [
           {
            "colorbar": {
             "outlinewidth": 0,
             "ticks": ""
            },
            "colorscale": [
             [
              0,
              "#0d0887"
             ],
             [
              0.1111111111111111,
              "#46039f"
             ],
             [
              0.2222222222222222,
              "#7201a8"
             ],
             [
              0.3333333333333333,
              "#9c179e"
             ],
             [
              0.4444444444444444,
              "#bd3786"
             ],
             [
              0.5555555555555556,
              "#d8576b"
             ],
             [
              0.6666666666666666,
              "#ed7953"
             ],
             [
              0.7777777777777778,
              "#fb9f3a"
             ],
             [
              0.8888888888888888,
              "#fdca26"
             ],
             [
              1,
              "#f0f921"
             ]
            ],
            "type": "histogram2dcontour"
           }
          ],
          "mesh3d": [
           {
            "colorbar": {
             "outlinewidth": 0,
             "ticks": ""
            },
            "type": "mesh3d"
           }
          ],
          "parcoords": [
           {
            "line": {
             "colorbar": {
              "outlinewidth": 0,
              "ticks": ""
             }
            },
            "type": "parcoords"
           }
          ],
          "pie": [
           {
            "automargin": true,
            "type": "pie"
           }
          ],
          "scatter": [
           {
            "fillpattern": {
             "fillmode": "overlay",
             "size": 10,
             "solidity": 0.2
            },
            "type": "scatter"
           }
          ],
          "scatter3d": [
           {
            "line": {
             "colorbar": {
              "outlinewidth": 0,
              "ticks": ""
             }
            },
            "marker": {
             "colorbar": {
              "outlinewidth": 0,
              "ticks": ""
             }
            },
            "type": "scatter3d"
           }
          ],
          "scattercarpet": [
           {
            "marker": {
             "colorbar": {
              "outlinewidth": 0,
              "ticks": ""
             }
            },
            "type": "scattercarpet"
           }
          ],
          "scattergeo": [
           {
            "marker": {
             "colorbar": {
              "outlinewidth": 0,
              "ticks": ""
             }
            },
            "type": "scattergeo"
           }
          ],
          "scattergl": [
           {
            "marker": {
             "colorbar": {
              "outlinewidth": 0,
              "ticks": ""
             }
            },
            "type": "scattergl"
           }
          ],
          "scattermapbox": [
           {
            "marker": {
             "colorbar": {
              "outlinewidth": 0,
              "ticks": ""
             }
            },
            "type": "scattermapbox"
           }
          ],
          "scatterpolar": [
           {
            "marker": {
             "colorbar": {
              "outlinewidth": 0,
              "ticks": ""
             }
            },
            "type": "scatterpolar"
           }
          ],
          "scatterpolargl": [
           {
            "marker": {
             "colorbar": {
              "outlinewidth": 0,
              "ticks": ""
             }
            },
            "type": "scatterpolargl"
           }
          ],
          "scatterternary": [
           {
            "marker": {
             "colorbar": {
              "outlinewidth": 0,
              "ticks": ""
             }
            },
            "type": "scatterternary"
           }
          ],
          "surface": [
           {
            "colorbar": {
             "outlinewidth": 0,
             "ticks": ""
            },
            "colorscale": [
             [
              0,
              "#0d0887"
             ],
             [
              0.1111111111111111,
              "#46039f"
             ],
             [
              0.2222222222222222,
              "#7201a8"
             ],
             [
              0.3333333333333333,
              "#9c179e"
             ],
             [
              0.4444444444444444,
              "#bd3786"
             ],
             [
              0.5555555555555556,
              "#d8576b"
             ],
             [
              0.6666666666666666,
              "#ed7953"
             ],
             [
              0.7777777777777778,
              "#fb9f3a"
             ],
             [
              0.8888888888888888,
              "#fdca26"
             ],
             [
              1,
              "#f0f921"
             ]
            ],
            "type": "surface"
           }
          ],
          "table": [
           {
            "cells": {
             "fill": {
              "color": "#EBF0F8"
             },
             "line": {
              "color": "white"
             }
            },
            "header": {
             "fill": {
              "color": "#C8D4E3"
             },
             "line": {
              "color": "white"
             }
            },
            "type": "table"
           }
          ]
         },
         "layout": {
          "annotationdefaults": {
           "arrowcolor": "#2a3f5f",
           "arrowhead": 0,
           "arrowwidth": 1
          },
          "autotypenumbers": "strict",
          "coloraxis": {
           "colorbar": {
            "outlinewidth": 0,
            "ticks": ""
           }
          },
          "colorscale": {
           "diverging": [
            [
             0,
             "#8e0152"
            ],
            [
             0.1,
             "#c51b7d"
            ],
            [
             0.2,
             "#de77ae"
            ],
            [
             0.3,
             "#f1b6da"
            ],
            [
             0.4,
             "#fde0ef"
            ],
            [
             0.5,
             "#f7f7f7"
            ],
            [
             0.6,
             "#e6f5d0"
            ],
            [
             0.7,
             "#b8e186"
            ],
            [
             0.8,
             "#7fbc41"
            ],
            [
             0.9,
             "#4d9221"
            ],
            [
             1,
             "#276419"
            ]
           ],
           "sequential": [
            [
             0,
             "#0d0887"
            ],
            [
             0.1111111111111111,
             "#46039f"
            ],
            [
             0.2222222222222222,
             "#7201a8"
            ],
            [
             0.3333333333333333,
             "#9c179e"
            ],
            [
             0.4444444444444444,
             "#bd3786"
            ],
            [
             0.5555555555555556,
             "#d8576b"
            ],
            [
             0.6666666666666666,
             "#ed7953"
            ],
            [
             0.7777777777777778,
             "#fb9f3a"
            ],
            [
             0.8888888888888888,
             "#fdca26"
            ],
            [
             1,
             "#f0f921"
            ]
           ],
           "sequentialminus": [
            [
             0,
             "#0d0887"
            ],
            [
             0.1111111111111111,
             "#46039f"
            ],
            [
             0.2222222222222222,
             "#7201a8"
            ],
            [
             0.3333333333333333,
             "#9c179e"
            ],
            [
             0.4444444444444444,
             "#bd3786"
            ],
            [
             0.5555555555555556,
             "#d8576b"
            ],
            [
             0.6666666666666666,
             "#ed7953"
            ],
            [
             0.7777777777777778,
             "#fb9f3a"
            ],
            [
             0.8888888888888888,
             "#fdca26"
            ],
            [
             1,
             "#f0f921"
            ]
           ]
          },
          "colorway": [
           "#636efa",
           "#EF553B",
           "#00cc96",
           "#ab63fa",
           "#FFA15A",
           "#19d3f3",
           "#FF6692",
           "#B6E880",
           "#FF97FF",
           "#FECB52"
          ],
          "font": {
           "color": "#2a3f5f"
          },
          "geo": {
           "bgcolor": "white",
           "lakecolor": "white",
           "landcolor": "#E5ECF6",
           "showlakes": true,
           "showland": true,
           "subunitcolor": "white"
          },
          "hoverlabel": {
           "align": "left"
          },
          "hovermode": "closest",
          "mapbox": {
           "style": "light"
          },
          "paper_bgcolor": "white",
          "plot_bgcolor": "#E5ECF6",
          "polar": {
           "angularaxis": {
            "gridcolor": "white",
            "linecolor": "white",
            "ticks": ""
           },
           "bgcolor": "#E5ECF6",
           "radialaxis": {
            "gridcolor": "white",
            "linecolor": "white",
            "ticks": ""
           }
          },
          "scene": {
           "xaxis": {
            "backgroundcolor": "#E5ECF6",
            "gridcolor": "white",
            "gridwidth": 2,
            "linecolor": "white",
            "showbackground": true,
            "ticks": "",
            "zerolinecolor": "white"
           },
           "yaxis": {
            "backgroundcolor": "#E5ECF6",
            "gridcolor": "white",
            "gridwidth": 2,
            "linecolor": "white",
            "showbackground": true,
            "ticks": "",
            "zerolinecolor": "white"
           },
           "zaxis": {
            "backgroundcolor": "#E5ECF6",
            "gridcolor": "white",
            "gridwidth": 2,
            "linecolor": "white",
            "showbackground": true,
            "ticks": "",
            "zerolinecolor": "white"
           }
          },
          "shapedefaults": {
           "line": {
            "color": "#2a3f5f"
           }
          },
          "ternary": {
           "aaxis": {
            "gridcolor": "white",
            "linecolor": "white",
            "ticks": ""
           },
           "baxis": {
            "gridcolor": "white",
            "linecolor": "white",
            "ticks": ""
           },
           "bgcolor": "#E5ECF6",
           "caxis": {
            "gridcolor": "white",
            "linecolor": "white",
            "ticks": ""
           }
          },
          "title": {
           "x": 0.05
          },
          "xaxis": {
           "automargin": true,
           "gridcolor": "white",
           "linecolor": "white",
           "ticks": "",
           "title": {
            "standoff": 15
           },
           "zerolinecolor": "white",
           "zerolinewidth": 2
          },
          "yaxis": {
           "automargin": true,
           "gridcolor": "white",
           "linecolor": "white",
           "ticks": "",
           "title": {
            "standoff": 15
           },
           "zerolinecolor": "white",
           "zerolinewidth": 2
          }
         }
        },
        "title": {
         "text": "Accidents by Year"
        },
        "xaxis": {
         "anchor": "y",
         "domain": [
          0,
          1
         ],
         "title": {
          "text": "accident_year"
         }
        },
        "yaxis": {
         "anchor": "x",
         "domain": [
          0,
          1
         ],
         "title": {
          "text": "accident_id"
         }
        }
       }
      }
     },
     "metadata": {},
     "output_type": "display_data"
    }
   ],
   "source": [
    "import plotly.express as px\n",
    "accidents_by_year = imh_jr.groupby(['accident_year']).count()\n",
    "accidents_by_year = accidents_by_year.reset_index()\n",
    "fig = px.bar(accidents_by_year, x='accident_year', y='accident_id', text='accident_id', title='Accidents by Year')\n",
    "fig.update_traces(texttemplate='%{text:.3s}', textposition='outside')\n",
    "fig.show()"
   ]
  },
  {
   "cell_type": "markdown",
   "metadata": {},
   "source": [
    "Show accidents by year with bars representing micro vehicles."
   ]
  },
  {
   "cell_type": "code",
   "execution_count": 46,
   "metadata": {},
   "outputs": [
    {
     "data": {
      "text/html": [
       "<div>\n",
       "<style scoped>\n",
       "    .dataframe tbody tr th:only-of-type {\n",
       "        vertical-align: middle;\n",
       "    }\n",
       "\n",
       "    .dataframe tbody tr th {\n",
       "        vertical-align: top;\n",
       "    }\n",
       "\n",
       "    .dataframe thead th {\n",
       "        text-align: right;\n",
       "    }\n",
       "</style>\n",
       "<table border=\"1\" class=\"dataframe\">\n",
       "  <thead>\n",
       "    <tr style=\"text-align: right;\">\n",
       "      <th></th>\n",
       "      <th>accident_id</th>\n",
       "      <th>provider_and_id</th>\n",
       "      <th>provider_code</th>\n",
       "      <th>file_type_police</th>\n",
       "      <th>involved_type</th>\n",
       "      <th>involved_type_hebrew</th>\n",
       "      <th>license_acquiring_date</th>\n",
       "      <th>age_group</th>\n",
       "      <th>age_group_hebrew</th>\n",
       "      <th>sex</th>\n",
       "      <th>...</th>\n",
       "      <th>vehicle_status</th>\n",
       "      <th>vehicle_status_hebrew</th>\n",
       "      <th>vehicle_attribution</th>\n",
       "      <th>vehicle_attribution_hebrew</th>\n",
       "      <th>seats</th>\n",
       "      <th>total_weight</th>\n",
       "      <th>total_weight_hebrew</th>\n",
       "      <th>vehicle_damage</th>\n",
       "      <th>vehicle_damage_hebrew</th>\n",
       "      <th>accident_date</th>\n",
       "    </tr>\n",
       "  </thead>\n",
       "  <tbody>\n",
       "    <tr>\n",
       "      <th>43</th>\n",
       "      <td>2013001145</td>\n",
       "      <td>32013001145</td>\n",
       "      <td>3</td>\n",
       "      <td>3</td>\n",
       "      <td>2</td>\n",
       "      <td>נהג נפגע</td>\n",
       "      <td>0</td>\n",
       "      <td>3</td>\n",
       "      <td>10-14</td>\n",
       "      <td>1.0</td>\n",
       "      <td>...</td>\n",
       "      <td>0.0</td>\n",
       "      <td>NaN</td>\n",
       "      <td>1.0</td>\n",
       "      <td>ישראלי</td>\n",
       "      <td>99.0</td>\n",
       "      <td>0.0</td>\n",
       "      <td>לא ידוע</td>\n",
       "      <td>4.0</td>\n",
       "      <td>אין נזק</td>\n",
       "      <td>2013-06-23 00:30:00</td>\n",
       "    </tr>\n",
       "    <tr>\n",
       "      <th>137</th>\n",
       "      <td>2013001541</td>\n",
       "      <td>12013001541</td>\n",
       "      <td>1</td>\n",
       "      <td>1</td>\n",
       "      <td>2</td>\n",
       "      <td>נהג נפגע</td>\n",
       "      <td>0</td>\n",
       "      <td>3</td>\n",
       "      <td>10-14</td>\n",
       "      <td>1.0</td>\n",
       "      <td>...</td>\n",
       "      <td>0.0</td>\n",
       "      <td>NaN</td>\n",
       "      <td>1.0</td>\n",
       "      <td>ישראלי</td>\n",
       "      <td>99.0</td>\n",
       "      <td>0.0</td>\n",
       "      <td>לא ידוע</td>\n",
       "      <td>1.0</td>\n",
       "      <td>קל</td>\n",
       "      <td>2013-09-20 01:00:00</td>\n",
       "    </tr>\n",
       "    <tr>\n",
       "      <th>495</th>\n",
       "      <td>2013004302</td>\n",
       "      <td>32013004302</td>\n",
       "      <td>3</td>\n",
       "      <td>3</td>\n",
       "      <td>2</td>\n",
       "      <td>נהג נפגע</td>\n",
       "      <td>0</td>\n",
       "      <td>99</td>\n",
       "      <td>לא ידוע</td>\n",
       "      <td>0.0</td>\n",
       "      <td>...</td>\n",
       "      <td>0.0</td>\n",
       "      <td>NaN</td>\n",
       "      <td>1.0</td>\n",
       "      <td>ישראלי</td>\n",
       "      <td>99.0</td>\n",
       "      <td>0.0</td>\n",
       "      <td>לא ידוע</td>\n",
       "      <td>4.0</td>\n",
       "      <td>אין נזק</td>\n",
       "      <td>2013-11-06 06:45:00</td>\n",
       "    </tr>\n",
       "    <tr>\n",
       "      <th>663</th>\n",
       "      <td>2013005728</td>\n",
       "      <td>12013005728</td>\n",
       "      <td>1</td>\n",
       "      <td>1</td>\n",
       "      <td>2</td>\n",
       "      <td>נהג נפגע</td>\n",
       "      <td>0</td>\n",
       "      <td>3</td>\n",
       "      <td>10-14</td>\n",
       "      <td>1.0</td>\n",
       "      <td>...</td>\n",
       "      <td>0.0</td>\n",
       "      <td>NaN</td>\n",
       "      <td>1.0</td>\n",
       "      <td>ישראלי</td>\n",
       "      <td>99.0</td>\n",
       "      <td>0.0</td>\n",
       "      <td>לא ידוע</td>\n",
       "      <td>4.0</td>\n",
       "      <td>אין נזק</td>\n",
       "      <td>2013-08-14 07:15:00</td>\n",
       "    </tr>\n",
       "    <tr>\n",
       "      <th>679</th>\n",
       "      <td>2013005896</td>\n",
       "      <td>12013005896</td>\n",
       "      <td>1</td>\n",
       "      <td>1</td>\n",
       "      <td>2</td>\n",
       "      <td>נהג נפגע</td>\n",
       "      <td>1991</td>\n",
       "      <td>11</td>\n",
       "      <td>50-54</td>\n",
       "      <td>1.0</td>\n",
       "      <td>...</td>\n",
       "      <td>0.0</td>\n",
       "      <td>NaN</td>\n",
       "      <td>1.0</td>\n",
       "      <td>ישראלי</td>\n",
       "      <td>99.0</td>\n",
       "      <td>0.0</td>\n",
       "      <td>לא ידוע</td>\n",
       "      <td>1.0</td>\n",
       "      <td>קל</td>\n",
       "      <td>2013-10-01 07:15:00</td>\n",
       "    </tr>\n",
       "    <tr>\n",
       "      <th>...</th>\n",
       "      <td>...</td>\n",
       "      <td>...</td>\n",
       "      <td>...</td>\n",
       "      <td>...</td>\n",
       "      <td>...</td>\n",
       "      <td>...</td>\n",
       "      <td>...</td>\n",
       "      <td>...</td>\n",
       "      <td>...</td>\n",
       "      <td>...</td>\n",
       "      <td>...</td>\n",
       "      <td>...</td>\n",
       "      <td>...</td>\n",
       "      <td>...</td>\n",
       "      <td>...</td>\n",
       "      <td>...</td>\n",
       "      <td>...</td>\n",
       "      <td>...</td>\n",
       "      <td>...</td>\n",
       "      <td>...</td>\n",
       "      <td>...</td>\n",
       "    </tr>\n",
       "    <tr>\n",
       "      <th>88578</th>\n",
       "      <td>2023080724</td>\n",
       "      <td>32023080724</td>\n",
       "      <td>3</td>\n",
       "      <td>3</td>\n",
       "      <td>2</td>\n",
       "      <td>נהג נפגע</td>\n",
       "      <td>2008</td>\n",
       "      <td>8</td>\n",
       "      <td>35-39</td>\n",
       "      <td>1.0</td>\n",
       "      <td>...</td>\n",
       "      <td>0.0</td>\n",
       "      <td>NaN</td>\n",
       "      <td>1.0</td>\n",
       "      <td>ישראלי</td>\n",
       "      <td>99.0</td>\n",
       "      <td>0.0</td>\n",
       "      <td>לא ידוע</td>\n",
       "      <td>4.0</td>\n",
       "      <td>אין נזק</td>\n",
       "      <td>2023-01-24 16:00:00</td>\n",
       "    </tr>\n",
       "    <tr>\n",
       "      <th>88583</th>\n",
       "      <td>2023085903</td>\n",
       "      <td>32023085903</td>\n",
       "      <td>3</td>\n",
       "      <td>3</td>\n",
       "      <td>2</td>\n",
       "      <td>נהג נפגע</td>\n",
       "      <td>2005</td>\n",
       "      <td>8</td>\n",
       "      <td>35-39</td>\n",
       "      <td>1.0</td>\n",
       "      <td>...</td>\n",
       "      <td>0.0</td>\n",
       "      <td>NaN</td>\n",
       "      <td>1.0</td>\n",
       "      <td>ישראלי</td>\n",
       "      <td>99.0</td>\n",
       "      <td>0.0</td>\n",
       "      <td>לא ידוע</td>\n",
       "      <td>1.0</td>\n",
       "      <td>קל</td>\n",
       "      <td>2023-01-01 17:30:00</td>\n",
       "    </tr>\n",
       "    <tr>\n",
       "      <th>88651</th>\n",
       "      <td>2023094587</td>\n",
       "      <td>12023094587</td>\n",
       "      <td>1</td>\n",
       "      <td>1</td>\n",
       "      <td>2</td>\n",
       "      <td>נהג נפגע</td>\n",
       "      <td>0</td>\n",
       "      <td>4</td>\n",
       "      <td>15-19</td>\n",
       "      <td>1.0</td>\n",
       "      <td>...</td>\n",
       "      <td>0.0</td>\n",
       "      <td>NaN</td>\n",
       "      <td>1.0</td>\n",
       "      <td>ישראלי</td>\n",
       "      <td>99.0</td>\n",
       "      <td>0.0</td>\n",
       "      <td>לא ידוע</td>\n",
       "      <td>3.0</td>\n",
       "      <td>קשה</td>\n",
       "      <td>2023-03-28 17:15:00</td>\n",
       "    </tr>\n",
       "    <tr>\n",
       "      <th>88676</th>\n",
       "      <td>2023093113</td>\n",
       "      <td>32023093113</td>\n",
       "      <td>3</td>\n",
       "      <td>3</td>\n",
       "      <td>2</td>\n",
       "      <td>נהג נפגע</td>\n",
       "      <td>0</td>\n",
       "      <td>3</td>\n",
       "      <td>10-14</td>\n",
       "      <td>1.0</td>\n",
       "      <td>...</td>\n",
       "      <td>0.0</td>\n",
       "      <td>NaN</td>\n",
       "      <td>1.0</td>\n",
       "      <td>ישראלי</td>\n",
       "      <td>99.0</td>\n",
       "      <td>0.0</td>\n",
       "      <td>לא ידוע</td>\n",
       "      <td>4.0</td>\n",
       "      <td>אין נזק</td>\n",
       "      <td>2023-01-26 16:45:00</td>\n",
       "    </tr>\n",
       "    <tr>\n",
       "      <th>88765</th>\n",
       "      <td>2023091914</td>\n",
       "      <td>32023091914</td>\n",
       "      <td>3</td>\n",
       "      <td>3</td>\n",
       "      <td>1</td>\n",
       "      <td>נהג</td>\n",
       "      <td>0</td>\n",
       "      <td>5</td>\n",
       "      <td>20-24</td>\n",
       "      <td>1.0</td>\n",
       "      <td>...</td>\n",
       "      <td>0.0</td>\n",
       "      <td>NaN</td>\n",
       "      <td>1.0</td>\n",
       "      <td>ישראלי</td>\n",
       "      <td>99.0</td>\n",
       "      <td>0.0</td>\n",
       "      <td>לא ידוע</td>\n",
       "      <td>4.0</td>\n",
       "      <td>אין נזק</td>\n",
       "      <td>2023-03-17 13:30:00</td>\n",
       "    </tr>\n",
       "  </tbody>\n",
       "</table>\n",
       "<p>2023 rows × 159 columns</p>\n",
       "</div>"
      ],
      "text/plain": [
       "       accident_id  provider_and_id  provider_code  file_type_police  \\\n",
       "43      2013001145      32013001145              3                 3   \n",
       "137     2013001541      12013001541              1                 1   \n",
       "495     2013004302      32013004302              3                 3   \n",
       "663     2013005728      12013005728              1                 1   \n",
       "679     2013005896      12013005896              1                 1   \n",
       "...            ...              ...            ...               ...   \n",
       "88578   2023080724      32023080724              3                 3   \n",
       "88583   2023085903      32023085903              3                 3   \n",
       "88651   2023094587      12023094587              1                 1   \n",
       "88676   2023093113      32023093113              3                 3   \n",
       "88765   2023091914      32023091914              3                 3   \n",
       "\n",
       "       involved_type involved_type_hebrew  license_acquiring_date  age_group  \\\n",
       "43                 2             נהג נפגע                       0          3   \n",
       "137                2             נהג נפגע                       0          3   \n",
       "495                2             נהג נפגע                       0         99   \n",
       "663                2             נהג נפגע                       0          3   \n",
       "679                2             נהג נפגע                    1991         11   \n",
       "...              ...                  ...                     ...        ...   \n",
       "88578              2             נהג נפגע                    2008          8   \n",
       "88583              2             נהג נפגע                    2005          8   \n",
       "88651              2             נהג נפגע                       0          4   \n",
       "88676              2             נהג נפגע                       0          3   \n",
       "88765              1                  נהג                       0          5   \n",
       "\n",
       "      age_group_hebrew  sex  ... vehicle_status  vehicle_status_hebrew  \\\n",
       "43               10-14  1.0  ...            0.0                    NaN   \n",
       "137              10-14  1.0  ...            0.0                    NaN   \n",
       "495            לא ידוע  0.0  ...            0.0                    NaN   \n",
       "663              10-14  1.0  ...            0.0                    NaN   \n",
       "679              50-54  1.0  ...            0.0                    NaN   \n",
       "...                ...  ...  ...            ...                    ...   \n",
       "88578            35-39  1.0  ...            0.0                    NaN   \n",
       "88583            35-39  1.0  ...            0.0                    NaN   \n",
       "88651            15-19  1.0  ...            0.0                    NaN   \n",
       "88676            10-14  1.0  ...            0.0                    NaN   \n",
       "88765            20-24  1.0  ...            0.0                    NaN   \n",
       "\n",
       "       vehicle_attribution vehicle_attribution_hebrew  seats total_weight  \\\n",
       "43                     1.0                     ישראלי   99.0          0.0   \n",
       "137                    1.0                     ישראלי   99.0          0.0   \n",
       "495                    1.0                     ישראלי   99.0          0.0   \n",
       "663                    1.0                     ישראלי   99.0          0.0   \n",
       "679                    1.0                     ישראלי   99.0          0.0   \n",
       "...                    ...                        ...    ...          ...   \n",
       "88578                  1.0                     ישראלי   99.0          0.0   \n",
       "88583                  1.0                     ישראלי   99.0          0.0   \n",
       "88651                  1.0                     ישראלי   99.0          0.0   \n",
       "88676                  1.0                     ישראלי   99.0          0.0   \n",
       "88765                  1.0                     ישראלי   99.0          0.0   \n",
       "\n",
       "       total_weight_hebrew vehicle_damage  vehicle_damage_hebrew  \\\n",
       "43                 לא ידוע            4.0                אין נזק   \n",
       "137                לא ידוע            1.0                     קל   \n",
       "495                לא ידוע            4.0                אין נזק   \n",
       "663                לא ידוע            4.0                אין נזק   \n",
       "679                לא ידוע            1.0                     קל   \n",
       "...                    ...            ...                    ...   \n",
       "88578              לא ידוע            4.0                אין נזק   \n",
       "88583              לא ידוע            1.0                     קל   \n",
       "88651              לא ידוע            3.0                    קשה   \n",
       "88676              לא ידוע            4.0                אין נזק   \n",
       "88765              לא ידוע            4.0                אין נזק   \n",
       "\n",
       "            accident_date  \n",
       "43    2013-06-23 00:30:00  \n",
       "137   2013-09-20 01:00:00  \n",
       "495   2013-11-06 06:45:00  \n",
       "663   2013-08-14 07:15:00  \n",
       "679   2013-10-01 07:15:00  \n",
       "...                   ...  \n",
       "88578 2023-01-24 16:00:00  \n",
       "88583 2023-01-01 17:30:00  \n",
       "88651 2023-03-28 17:15:00  \n",
       "88676 2023-01-26 16:45:00  \n",
       "88765 2023-03-17 13:30:00  \n",
       "\n",
       "[2023 rows x 159 columns]"
      ]
     },
     "execution_count": 46,
     "metadata": {},
     "output_type": "execute_result"
    }
   ],
   "source": [
    "m_v = imh_jr[imh_jr.involve_vehicle_type.isin(micro_vehicle)]\n",
    "m_v"
   ]
  },
  {
   "cell_type": "code",
   "execution_count": 38,
   "metadata": {},
   "outputs": [
    {
     "data": {
      "application/vnd.plotly.v1+json": {
       "config": {
        "plotlyServerURL": "https://plot.ly"
       },
       "data": [
        {
         "alignmentgroup": "True",
         "hovertemplate": "accident_year=%{x}<br>count=%{y}<br>involve_vehicle_type=%{marker.color}<extra></extra>",
         "legendgroup": "",
         "marker": {
          "color": [
           1,
           2,
           3,
           5,
           6,
           7,
           8,
           9,
           10,
           11,
           12,
           13,
           14,
           15,
           16,
           17,
           18,
           19,
           21,
           22,
           23,
           24,
           25,
           1,
           2,
           3,
           5,
           6,
           7,
           8,
           9,
           10,
           11,
           12,
           13,
           14,
           15,
           16,
           17,
           18,
           19,
           21,
           22,
           23,
           24,
           25,
           1,
           2,
           3,
           5,
           6,
           7,
           8,
           9,
           10,
           11,
           12,
           13,
           14,
           15,
           16,
           17,
           18,
           19,
           21,
           22,
           23,
           24,
           25,
           1,
           2,
           3,
           5,
           6,
           7,
           8,
           9,
           10,
           11,
           12,
           13,
           14,
           15,
           16,
           17,
           18,
           19,
           21,
           22,
           23,
           24,
           25,
           1,
           2,
           3,
           5,
           6,
           7,
           8,
           9,
           10,
           11,
           12,
           13,
           14,
           15,
           16,
           17,
           18,
           19,
           21,
           22,
           23,
           24,
           25,
           1,
           2,
           3,
           5,
           6,
           7,
           8,
           9,
           10,
           11,
           12,
           13,
           14,
           15,
           16,
           17,
           18,
           19,
           21,
           22,
           23,
           24,
           25,
           1,
           2,
           3,
           5,
           6,
           7,
           8,
           9,
           10,
           11,
           12,
           13,
           14,
           15,
           16,
           17,
           18,
           19,
           21,
           22,
           23,
           24,
           25,
           1,
           2,
           3,
           5,
           6,
           7,
           8,
           9,
           10,
           11,
           12,
           13,
           14,
           15,
           16,
           17,
           18,
           19,
           21,
           22,
           23,
           24,
           25,
           1,
           2,
           3,
           5,
           6,
           7,
           8,
           9,
           10,
           11,
           12,
           13,
           14,
           15,
           16,
           17,
           18,
           19,
           21,
           22,
           23,
           24,
           25,
           1,
           2,
           3,
           5,
           6,
           7,
           8,
           9,
           10,
           11,
           12,
           13,
           14,
           15,
           16,
           17,
           18,
           19,
           21,
           22,
           23,
           24,
           25,
           1,
           2,
           3,
           5,
           6,
           8,
           9,
           10,
           11,
           12,
           14,
           15,
           16,
           17,
           18,
           19,
           21,
           23,
           24,
           25
          ],
          "coloraxis": "coloraxis",
          "pattern": {
           "shape": ""
          }
         },
         "name": "",
         "offsetgroup": "",
         "orientation": "v",
         "showlegend": false,
         "textposition": "auto",
         "type": "bar",
         "x": [
          2013,
          2013,
          2013,
          2013,
          2013,
          2013,
          2013,
          2013,
          2013,
          2013,
          2013,
          2013,
          2013,
          2013,
          2013,
          2013,
          2013,
          2013,
          2013,
          2013,
          2013,
          2013,
          2013,
          2014,
          2014,
          2014,
          2014,
          2014,
          2014,
          2014,
          2014,
          2014,
          2014,
          2014,
          2014,
          2014,
          2014,
          2014,
          2014,
          2014,
          2014,
          2014,
          2014,
          2014,
          2014,
          2014,
          2015,
          2015,
          2015,
          2015,
          2015,
          2015,
          2015,
          2015,
          2015,
          2015,
          2015,
          2015,
          2015,
          2015,
          2015,
          2015,
          2015,
          2015,
          2015,
          2015,
          2015,
          2015,
          2015,
          2016,
          2016,
          2016,
          2016,
          2016,
          2016,
          2016,
          2016,
          2016,
          2016,
          2016,
          2016,
          2016,
          2016,
          2016,
          2016,
          2016,
          2016,
          2016,
          2016,
          2016,
          2016,
          2016,
          2017,
          2017,
          2017,
          2017,
          2017,
          2017,
          2017,
          2017,
          2017,
          2017,
          2017,
          2017,
          2017,
          2017,
          2017,
          2017,
          2017,
          2017,
          2017,
          2017,
          2017,
          2017,
          2017,
          2018,
          2018,
          2018,
          2018,
          2018,
          2018,
          2018,
          2018,
          2018,
          2018,
          2018,
          2018,
          2018,
          2018,
          2018,
          2018,
          2018,
          2018,
          2018,
          2018,
          2018,
          2018,
          2018,
          2019,
          2019,
          2019,
          2019,
          2019,
          2019,
          2019,
          2019,
          2019,
          2019,
          2019,
          2019,
          2019,
          2019,
          2019,
          2019,
          2019,
          2019,
          2019,
          2019,
          2019,
          2019,
          2019,
          2020,
          2020,
          2020,
          2020,
          2020,
          2020,
          2020,
          2020,
          2020,
          2020,
          2020,
          2020,
          2020,
          2020,
          2020,
          2020,
          2020,
          2020,
          2020,
          2020,
          2020,
          2020,
          2020,
          2021,
          2021,
          2021,
          2021,
          2021,
          2021,
          2021,
          2021,
          2021,
          2021,
          2021,
          2021,
          2021,
          2021,
          2021,
          2021,
          2021,
          2021,
          2021,
          2021,
          2021,
          2021,
          2021,
          2022,
          2022,
          2022,
          2022,
          2022,
          2022,
          2022,
          2022,
          2022,
          2022,
          2022,
          2022,
          2022,
          2022,
          2022,
          2022,
          2022,
          2022,
          2022,
          2022,
          2022,
          2022,
          2022,
          2023,
          2023,
          2023,
          2023,
          2023,
          2023,
          2023,
          2023,
          2023,
          2023,
          2023,
          2023,
          2023,
          2023,
          2023,
          2023,
          2023,
          2023,
          2023,
          2023
         ],
         "xaxis": "x",
         "y": [
          5301,
          390,
          139,
          30,
          47,
          18,
          49,
          330,
          202,
          925,
          387,
          7,
          11,
          128,
          89,
          568,
          80,
          53,
          1,
          6,
          5,
          95,
          13,
          4663,
          299,
          115,
          14,
          36,
          20,
          22,
          252,
          216,
          864,
          312,
          4,
          5,
          125,
          80,
          458,
          77,
          35,
          2,
          7,
          19,
          99,
          8,
          5055,
          324,
          138,
          31,
          47,
          4,
          31,
          284,
          176,
          888,
          320,
          4,
          1,
          112,
          74,
          460,
          72,
          49,
          3,
          6,
          48,
          80,
          11,
          5577,
          341,
          114,
          32,
          61,
          6,
          27,
          283,
          191,
          990,
          345,
          2,
          13,
          106,
          84,
          299,
          80,
          48,
          1,
          3,
          79,
          93,
          9,
          5235,
          315,
          105,
          31,
          92,
          11,
          28,
          286,
          225,
          983,
          319,
          13,
          12,
          96,
          64,
          406,
          90,
          58,
          4,
          5,
          131,
          103,
          21,
          4977,
          247,
          104,
          22,
          77,
          8,
          23,
          279,
          274,
          987,
          302,
          11,
          14,
          108,
          88,
          402,
          83,
          73,
          11,
          1,
          169,
          90,
          21,
          4984,
          222,
          95,
          16,
          65,
          3,
          35,
          280,
          241,
          1029,
          278,
          7,
          12,
          78,
          132,
          382,
          79,
          78,
          15,
          12,
          138,
          77,
          15,
          3469,
          159,
          76,
          13,
          69,
          3,
          27,
          237,
          172,
          579,
          148,
          7,
          7,
          86,
          38,
          242,
          45,
          44,
          20,
          7,
          65,
          75,
          13,
          4415,
          164,
          90,
          18,
          84,
          8,
          53,
          226,
          211,
          816,
          201,
          3,
          17,
          70,
          77,
          312,
          55,
          71,
          24,
          8,
          94,
          96,
          8,
          4200,
          156,
          85,
          14,
          64,
          6,
          35,
          211,
          250,
          789,
          172,
          3,
          9,
          67,
          82,
          287,
          57,
          77,
          21,
          13,
          97,
          80,
          12,
          840,
          26,
          24,
          3,
          7,
          15,
          37,
          42,
          195,
          53,
          1,
          11,
          13,
          52,
          11,
          17,
          8,
          13,
          18,
          8
         ],
         "yaxis": "y"
        }
       ],
       "layout": {
        "barmode": "group",
        "coloraxis": {
         "colorbar": {
          "title": {
           "text": "involve_vehicle_type"
          }
         },
         "colorscale": [
          [
           0,
           "#0d0887"
          ],
          [
           0.1111111111111111,
           "#46039f"
          ],
          [
           0.2222222222222222,
           "#7201a8"
          ],
          [
           0.3333333333333333,
           "#9c179e"
          ],
          [
           0.4444444444444444,
           "#bd3786"
          ],
          [
           0.5555555555555556,
           "#d8576b"
          ],
          [
           0.6666666666666666,
           "#ed7953"
          ],
          [
           0.7777777777777778,
           "#fb9f3a"
          ],
          [
           0.8888888888888888,
           "#fdca26"
          ],
          [
           1,
           "#f0f921"
          ]
         ]
        },
        "legend": {
         "tracegroupgap": 0
        },
        "template": {
         "data": {
          "bar": [
           {
            "error_x": {
             "color": "#2a3f5f"
            },
            "error_y": {
             "color": "#2a3f5f"
            },
            "marker": {
             "line": {
              "color": "#E5ECF6",
              "width": 0.5
             },
             "pattern": {
              "fillmode": "overlay",
              "size": 10,
              "solidity": 0.2
             }
            },
            "type": "bar"
           }
          ],
          "barpolar": [
           {
            "marker": {
             "line": {
              "color": "#E5ECF6",
              "width": 0.5
             },
             "pattern": {
              "fillmode": "overlay",
              "size": 10,
              "solidity": 0.2
             }
            },
            "type": "barpolar"
           }
          ],
          "carpet": [
           {
            "aaxis": {
             "endlinecolor": "#2a3f5f",
             "gridcolor": "white",
             "linecolor": "white",
             "minorgridcolor": "white",
             "startlinecolor": "#2a3f5f"
            },
            "baxis": {
             "endlinecolor": "#2a3f5f",
             "gridcolor": "white",
             "linecolor": "white",
             "minorgridcolor": "white",
             "startlinecolor": "#2a3f5f"
            },
            "type": "carpet"
           }
          ],
          "choropleth": [
           {
            "colorbar": {
             "outlinewidth": 0,
             "ticks": ""
            },
            "type": "choropleth"
           }
          ],
          "contour": [
           {
            "colorbar": {
             "outlinewidth": 0,
             "ticks": ""
            },
            "colorscale": [
             [
              0,
              "#0d0887"
             ],
             [
              0.1111111111111111,
              "#46039f"
             ],
             [
              0.2222222222222222,
              "#7201a8"
             ],
             [
              0.3333333333333333,
              "#9c179e"
             ],
             [
              0.4444444444444444,
              "#bd3786"
             ],
             [
              0.5555555555555556,
              "#d8576b"
             ],
             [
              0.6666666666666666,
              "#ed7953"
             ],
             [
              0.7777777777777778,
              "#fb9f3a"
             ],
             [
              0.8888888888888888,
              "#fdca26"
             ],
             [
              1,
              "#f0f921"
             ]
            ],
            "type": "contour"
           }
          ],
          "contourcarpet": [
           {
            "colorbar": {
             "outlinewidth": 0,
             "ticks": ""
            },
            "type": "contourcarpet"
           }
          ],
          "heatmap": [
           {
            "colorbar": {
             "outlinewidth": 0,
             "ticks": ""
            },
            "colorscale": [
             [
              0,
              "#0d0887"
             ],
             [
              0.1111111111111111,
              "#46039f"
             ],
             [
              0.2222222222222222,
              "#7201a8"
             ],
             [
              0.3333333333333333,
              "#9c179e"
             ],
             [
              0.4444444444444444,
              "#bd3786"
             ],
             [
              0.5555555555555556,
              "#d8576b"
             ],
             [
              0.6666666666666666,
              "#ed7953"
             ],
             [
              0.7777777777777778,
              "#fb9f3a"
             ],
             [
              0.8888888888888888,
              "#fdca26"
             ],
             [
              1,
              "#f0f921"
             ]
            ],
            "type": "heatmap"
           }
          ],
          "heatmapgl": [
           {
            "colorbar": {
             "outlinewidth": 0,
             "ticks": ""
            },
            "colorscale": [
             [
              0,
              "#0d0887"
             ],
             [
              0.1111111111111111,
              "#46039f"
             ],
             [
              0.2222222222222222,
              "#7201a8"
             ],
             [
              0.3333333333333333,
              "#9c179e"
             ],
             [
              0.4444444444444444,
              "#bd3786"
             ],
             [
              0.5555555555555556,
              "#d8576b"
             ],
             [
              0.6666666666666666,
              "#ed7953"
             ],
             [
              0.7777777777777778,
              "#fb9f3a"
             ],
             [
              0.8888888888888888,
              "#fdca26"
             ],
             [
              1,
              "#f0f921"
             ]
            ],
            "type": "heatmapgl"
           }
          ],
          "histogram": [
           {
            "marker": {
             "pattern": {
              "fillmode": "overlay",
              "size": 10,
              "solidity": 0.2
             }
            },
            "type": "histogram"
           }
          ],
          "histogram2d": [
           {
            "colorbar": {
             "outlinewidth": 0,
             "ticks": ""
            },
            "colorscale": [
             [
              0,
              "#0d0887"
             ],
             [
              0.1111111111111111,
              "#46039f"
             ],
             [
              0.2222222222222222,
              "#7201a8"
             ],
             [
              0.3333333333333333,
              "#9c179e"
             ],
             [
              0.4444444444444444,
              "#bd3786"
             ],
             [
              0.5555555555555556,
              "#d8576b"
             ],
             [
              0.6666666666666666,
              "#ed7953"
             ],
             [
              0.7777777777777778,
              "#fb9f3a"
             ],
             [
              0.8888888888888888,
              "#fdca26"
             ],
             [
              1,
              "#f0f921"
             ]
            ],
            "type": "histogram2d"
           }
          ],
          "histogram2dcontour": [
           {
            "colorbar": {
             "outlinewidth": 0,
             "ticks": ""
            },
            "colorscale": [
             [
              0,
              "#0d0887"
             ],
             [
              0.1111111111111111,
              "#46039f"
             ],
             [
              0.2222222222222222,
              "#7201a8"
             ],
             [
              0.3333333333333333,
              "#9c179e"
             ],
             [
              0.4444444444444444,
              "#bd3786"
             ],
             [
              0.5555555555555556,
              "#d8576b"
             ],
             [
              0.6666666666666666,
              "#ed7953"
             ],
             [
              0.7777777777777778,
              "#fb9f3a"
             ],
             [
              0.8888888888888888,
              "#fdca26"
             ],
             [
              1,
              "#f0f921"
             ]
            ],
            "type": "histogram2dcontour"
           }
          ],
          "mesh3d": [
           {
            "colorbar": {
             "outlinewidth": 0,
             "ticks": ""
            },
            "type": "mesh3d"
           }
          ],
          "parcoords": [
           {
            "line": {
             "colorbar": {
              "outlinewidth": 0,
              "ticks": ""
             }
            },
            "type": "parcoords"
           }
          ],
          "pie": [
           {
            "automargin": true,
            "type": "pie"
           }
          ],
          "scatter": [
           {
            "fillpattern": {
             "fillmode": "overlay",
             "size": 10,
             "solidity": 0.2
            },
            "type": "scatter"
           }
          ],
          "scatter3d": [
           {
            "line": {
             "colorbar": {
              "outlinewidth": 0,
              "ticks": ""
             }
            },
            "marker": {
             "colorbar": {
              "outlinewidth": 0,
              "ticks": ""
             }
            },
            "type": "scatter3d"
           }
          ],
          "scattercarpet": [
           {
            "marker": {
             "colorbar": {
              "outlinewidth": 0,
              "ticks": ""
             }
            },
            "type": "scattercarpet"
           }
          ],
          "scattergeo": [
           {
            "marker": {
             "colorbar": {
              "outlinewidth": 0,
              "ticks": ""
             }
            },
            "type": "scattergeo"
           }
          ],
          "scattergl": [
           {
            "marker": {
             "colorbar": {
              "outlinewidth": 0,
              "ticks": ""
             }
            },
            "type": "scattergl"
           }
          ],
          "scattermapbox": [
           {
            "marker": {
             "colorbar": {
              "outlinewidth": 0,
              "ticks": ""
             }
            },
            "type": "scattermapbox"
           }
          ],
          "scatterpolar": [
           {
            "marker": {
             "colorbar": {
              "outlinewidth": 0,
              "ticks": ""
             }
            },
            "type": "scatterpolar"
           }
          ],
          "scatterpolargl": [
           {
            "marker": {
             "colorbar": {
              "outlinewidth": 0,
              "ticks": ""
             }
            },
            "type": "scatterpolargl"
           }
          ],
          "scatterternary": [
           {
            "marker": {
             "colorbar": {
              "outlinewidth": 0,
              "ticks": ""
             }
            },
            "type": "scatterternary"
           }
          ],
          "surface": [
           {
            "colorbar": {
             "outlinewidth": 0,
             "ticks": ""
            },
            "colorscale": [
             [
              0,
              "#0d0887"
             ],
             [
              0.1111111111111111,
              "#46039f"
             ],
             [
              0.2222222222222222,
              "#7201a8"
             ],
             [
              0.3333333333333333,
              "#9c179e"
             ],
             [
              0.4444444444444444,
              "#bd3786"
             ],
             [
              0.5555555555555556,
              "#d8576b"
             ],
             [
              0.6666666666666666,
              "#ed7953"
             ],
             [
              0.7777777777777778,
              "#fb9f3a"
             ],
             [
              0.8888888888888888,
              "#fdca26"
             ],
             [
              1,
              "#f0f921"
             ]
            ],
            "type": "surface"
           }
          ],
          "table": [
           {
            "cells": {
             "fill": {
              "color": "#EBF0F8"
             },
             "line": {
              "color": "white"
             }
            },
            "header": {
             "fill": {
              "color": "#C8D4E3"
             },
             "line": {
              "color": "white"
             }
            },
            "type": "table"
           }
          ]
         },
         "layout": {
          "annotationdefaults": {
           "arrowcolor": "#2a3f5f",
           "arrowhead": 0,
           "arrowwidth": 1
          },
          "autotypenumbers": "strict",
          "coloraxis": {
           "colorbar": {
            "outlinewidth": 0,
            "ticks": ""
           }
          },
          "colorscale": {
           "diverging": [
            [
             0,
             "#8e0152"
            ],
            [
             0.1,
             "#c51b7d"
            ],
            [
             0.2,
             "#de77ae"
            ],
            [
             0.3,
             "#f1b6da"
            ],
            [
             0.4,
             "#fde0ef"
            ],
            [
             0.5,
             "#f7f7f7"
            ],
            [
             0.6,
             "#e6f5d0"
            ],
            [
             0.7,
             "#b8e186"
            ],
            [
             0.8,
             "#7fbc41"
            ],
            [
             0.9,
             "#4d9221"
            ],
            [
             1,
             "#276419"
            ]
           ],
           "sequential": [
            [
             0,
             "#0d0887"
            ],
            [
             0.1111111111111111,
             "#46039f"
            ],
            [
             0.2222222222222222,
             "#7201a8"
            ],
            [
             0.3333333333333333,
             "#9c179e"
            ],
            [
             0.4444444444444444,
             "#bd3786"
            ],
            [
             0.5555555555555556,
             "#d8576b"
            ],
            [
             0.6666666666666666,
             "#ed7953"
            ],
            [
             0.7777777777777778,
             "#fb9f3a"
            ],
            [
             0.8888888888888888,
             "#fdca26"
            ],
            [
             1,
             "#f0f921"
            ]
           ],
           "sequentialminus": [
            [
             0,
             "#0d0887"
            ],
            [
             0.1111111111111111,
             "#46039f"
            ],
            [
             0.2222222222222222,
             "#7201a8"
            ],
            [
             0.3333333333333333,
             "#9c179e"
            ],
            [
             0.4444444444444444,
             "#bd3786"
            ],
            [
             0.5555555555555556,
             "#d8576b"
            ],
            [
             0.6666666666666666,
             "#ed7953"
            ],
            [
             0.7777777777777778,
             "#fb9f3a"
            ],
            [
             0.8888888888888888,
             "#fdca26"
            ],
            [
             1,
             "#f0f921"
            ]
           ]
          },
          "colorway": [
           "#636efa",
           "#EF553B",
           "#00cc96",
           "#ab63fa",
           "#FFA15A",
           "#19d3f3",
           "#FF6692",
           "#B6E880",
           "#FF97FF",
           "#FECB52"
          ],
          "font": {
           "color": "#2a3f5f"
          },
          "geo": {
           "bgcolor": "white",
           "lakecolor": "white",
           "landcolor": "#E5ECF6",
           "showlakes": true,
           "showland": true,
           "subunitcolor": "white"
          },
          "hoverlabel": {
           "align": "left"
          },
          "hovermode": "closest",
          "mapbox": {
           "style": "light"
          },
          "paper_bgcolor": "white",
          "plot_bgcolor": "#E5ECF6",
          "polar": {
           "angularaxis": {
            "gridcolor": "white",
            "linecolor": "white",
            "ticks": ""
           },
           "bgcolor": "#E5ECF6",
           "radialaxis": {
            "gridcolor": "white",
            "linecolor": "white",
            "ticks": ""
           }
          },
          "scene": {
           "xaxis": {
            "backgroundcolor": "#E5ECF6",
            "gridcolor": "white",
            "gridwidth": 2,
            "linecolor": "white",
            "showbackground": true,
            "ticks": "",
            "zerolinecolor": "white"
           },
           "yaxis": {
            "backgroundcolor": "#E5ECF6",
            "gridcolor": "white",
            "gridwidth": 2,
            "linecolor": "white",
            "showbackground": true,
            "ticks": "",
            "zerolinecolor": "white"
           },
           "zaxis": {
            "backgroundcolor": "#E5ECF6",
            "gridcolor": "white",
            "gridwidth": 2,
            "linecolor": "white",
            "showbackground": true,
            "ticks": "",
            "zerolinecolor": "white"
           }
          },
          "shapedefaults": {
           "line": {
            "color": "#2a3f5f"
           }
          },
          "ternary": {
           "aaxis": {
            "gridcolor": "white",
            "linecolor": "white",
            "ticks": ""
           },
           "baxis": {
            "gridcolor": "white",
            "linecolor": "white",
            "ticks": ""
           },
           "bgcolor": "#E5ECF6",
           "caxis": {
            "gridcolor": "white",
            "linecolor": "white",
            "ticks": ""
           }
          },
          "title": {
           "x": 0.05
          },
          "xaxis": {
           "automargin": true,
           "gridcolor": "white",
           "linecolor": "white",
           "ticks": "",
           "title": {
            "standoff": 15
           },
           "zerolinecolor": "white",
           "zerolinewidth": 2
          },
          "yaxis": {
           "automargin": true,
           "gridcolor": "white",
           "linecolor": "white",
           "ticks": "",
           "title": {
            "standoff": 15
           },
           "zerolinecolor": "white",
           "zerolinewidth": 2
          }
         }
        },
        "title": {
         "text": "Accidents by Year and Micro Vehicle Type"
        },
        "xaxis": {
         "anchor": "y",
         "domain": [
          0,
          1
         ],
         "title": {
          "text": "accident_year"
         }
        },
        "yaxis": {
         "anchor": "x",
         "domain": [
          0,
          1
         ],
         "title": {
          "text": "count"
         }
        }
       }
      }
     },
     "metadata": {},
     "output_type": "display_data"
    }
   ],
   "source": [
    "year_vehicle_gp = imh_jr.groupby(['accident_year', 'involve_vehicle_type']).size().reset_index(name='count')\n",
    "\n",
    "# fig = px.bar(grouped, x='accident_year', y='count', color='involve_vehicle_type', barmode='group', title='Accidents by Year and Micro Vehicle Type')\n",
    "# Create the bar chart with grouped bars\n",
    "fig = px.bar(year_vehicle_gp, x='accident_year', y='count', color='involve_vehicle_type', barmode='group', title='Accidents by Year and Micro Vehicle Type')\n",
    "\n",
    "# Show the plot\n",
    "fig.show()\n",
    "# Show the plot\n"
   ]
  },
  {
   "cell_type": "code",
   "execution_count": 39,
   "metadata": {},
   "outputs": [
    {
     "data": {
      "application/vnd.plotly.v1+json": {
       "config": {
        "plotlyServerURL": "https://plot.ly"
       },
       "data": [
        {
         "alignmentgroup": "True",
         "hovertemplate": "Vehicle Type=Bicycle<br>Accident Year=%{x}<br>Count=%{y}<extra></extra>",
         "legendgroup": "Bicycle",
         "marker": {
          "color": "#636efa",
          "pattern": {
           "shape": ""
          }
         },
         "name": "Bicycle",
         "offsetgroup": "Bicycle",
         "orientation": "v",
         "showlegend": true,
         "textposition": "auto",
         "type": "bar",
         "x": [
          2013,
          2014,
          2015,
          2016,
          2017,
          2018,
          2019,
          2020,
          2021,
          2022,
          2023
         ],
         "xaxis": "x",
         "y": [
          128,
          125,
          112,
          106,
          96,
          108,
          78,
          86,
          70,
          67,
          11
         ],
         "yaxis": "y"
        },
        {
         "alignmentgroup": "True",
         "hovertemplate": "Vehicle Type=Scooter<br>Accident Year=%{x}<br>Count=%{y}<extra></extra>",
         "legendgroup": "Scooter",
         "marker": {
          "color": "#EF553B",
          "pattern": {
           "shape": ""
          }
         },
         "name": "Scooter",
         "offsetgroup": "Scooter",
         "orientation": "v",
         "showlegend": true,
         "textposition": "auto",
         "type": "bar",
         "x": [
          2013,
          2014,
          2015,
          2016,
          2017,
          2018,
          2019,
          2020,
          2021,
          2022,
          2023
         ],
         "xaxis": "x",
         "y": [
          1,
          2,
          3,
          1,
          4,
          11,
          15,
          20,
          24,
          21,
          8
         ],
         "yaxis": "y"
        },
        {
         "alignmentgroup": "True",
         "hovertemplate": "Vehicle Type=Kalnoit<br>Accident Year=%{x}<br>Count=%{y}<extra></extra>",
         "legendgroup": "Kalnoit",
         "marker": {
          "color": "#00cc96",
          "pattern": {
           "shape": ""
          }
         },
         "name": "Kalnoit",
         "offsetgroup": "Kalnoit",
         "orientation": "v",
         "showlegend": true,
         "textposition": "auto",
         "type": "bar",
         "x": [
          2013,
          2014,
          2015,
          2016,
          2017,
          2018,
          2019,
          2020,
          2021,
          2022,
          2023
         ],
         "xaxis": "x",
         "y": [
          6,
          7,
          6,
          3,
          5,
          1,
          12,
          7,
          8,
          13,
          0
         ],
         "yaxis": "y"
        },
        {
         "alignmentgroup": "True",
         "hovertemplate": "Vehicle Type=E-Bicycle<br>Accident Year=%{x}<br>Count=%{y}<extra></extra>",
         "legendgroup": "E-Bicycle",
         "marker": {
          "color": "#ab63fa",
          "pattern": {
           "shape": ""
          }
         },
         "name": "E-Bicycle",
         "offsetgroup": "E-Bicycle",
         "orientation": "v",
         "showlegend": true,
         "textposition": "auto",
         "type": "bar",
         "x": [
          2013,
          2014,
          2015,
          2016,
          2017,
          2018,
          2019,
          2020,
          2021,
          2022,
          2023
         ],
         "xaxis": "x",
         "y": [
          5,
          19,
          48,
          79,
          131,
          169,
          138,
          65,
          94,
          97,
          13
         ],
         "yaxis": "y"
        }
       ],
       "layout": {
        "barmode": "group",
        "legend": {
         "title": {
          "text": "Vehicle Type"
         },
         "tracegroupgap": 0
        },
        "template": {
         "data": {
          "bar": [
           {
            "error_x": {
             "color": "#2a3f5f"
            },
            "error_y": {
             "color": "#2a3f5f"
            },
            "marker": {
             "line": {
              "color": "#E5ECF6",
              "width": 0.5
             },
             "pattern": {
              "fillmode": "overlay",
              "size": 10,
              "solidity": 0.2
             }
            },
            "type": "bar"
           }
          ],
          "barpolar": [
           {
            "marker": {
             "line": {
              "color": "#E5ECF6",
              "width": 0.5
             },
             "pattern": {
              "fillmode": "overlay",
              "size": 10,
              "solidity": 0.2
             }
            },
            "type": "barpolar"
           }
          ],
          "carpet": [
           {
            "aaxis": {
             "endlinecolor": "#2a3f5f",
             "gridcolor": "white",
             "linecolor": "white",
             "minorgridcolor": "white",
             "startlinecolor": "#2a3f5f"
            },
            "baxis": {
             "endlinecolor": "#2a3f5f",
             "gridcolor": "white",
             "linecolor": "white",
             "minorgridcolor": "white",
             "startlinecolor": "#2a3f5f"
            },
            "type": "carpet"
           }
          ],
          "choropleth": [
           {
            "colorbar": {
             "outlinewidth": 0,
             "ticks": ""
            },
            "type": "choropleth"
           }
          ],
          "contour": [
           {
            "colorbar": {
             "outlinewidth": 0,
             "ticks": ""
            },
            "colorscale": [
             [
              0,
              "#0d0887"
             ],
             [
              0.1111111111111111,
              "#46039f"
             ],
             [
              0.2222222222222222,
              "#7201a8"
             ],
             [
              0.3333333333333333,
              "#9c179e"
             ],
             [
              0.4444444444444444,
              "#bd3786"
             ],
             [
              0.5555555555555556,
              "#d8576b"
             ],
             [
              0.6666666666666666,
              "#ed7953"
             ],
             [
              0.7777777777777778,
              "#fb9f3a"
             ],
             [
              0.8888888888888888,
              "#fdca26"
             ],
             [
              1,
              "#f0f921"
             ]
            ],
            "type": "contour"
           }
          ],
          "contourcarpet": [
           {
            "colorbar": {
             "outlinewidth": 0,
             "ticks": ""
            },
            "type": "contourcarpet"
           }
          ],
          "heatmap": [
           {
            "colorbar": {
             "outlinewidth": 0,
             "ticks": ""
            },
            "colorscale": [
             [
              0,
              "#0d0887"
             ],
             [
              0.1111111111111111,
              "#46039f"
             ],
             [
              0.2222222222222222,
              "#7201a8"
             ],
             [
              0.3333333333333333,
              "#9c179e"
             ],
             [
              0.4444444444444444,
              "#bd3786"
             ],
             [
              0.5555555555555556,
              "#d8576b"
             ],
             [
              0.6666666666666666,
              "#ed7953"
             ],
             [
              0.7777777777777778,
              "#fb9f3a"
             ],
             [
              0.8888888888888888,
              "#fdca26"
             ],
             [
              1,
              "#f0f921"
             ]
            ],
            "type": "heatmap"
           }
          ],
          "heatmapgl": [
           {
            "colorbar": {
             "outlinewidth": 0,
             "ticks": ""
            },
            "colorscale": [
             [
              0,
              "#0d0887"
             ],
             [
              0.1111111111111111,
              "#46039f"
             ],
             [
              0.2222222222222222,
              "#7201a8"
             ],
             [
              0.3333333333333333,
              "#9c179e"
             ],
             [
              0.4444444444444444,
              "#bd3786"
             ],
             [
              0.5555555555555556,
              "#d8576b"
             ],
             [
              0.6666666666666666,
              "#ed7953"
             ],
             [
              0.7777777777777778,
              "#fb9f3a"
             ],
             [
              0.8888888888888888,
              "#fdca26"
             ],
             [
              1,
              "#f0f921"
             ]
            ],
            "type": "heatmapgl"
           }
          ],
          "histogram": [
           {
            "marker": {
             "pattern": {
              "fillmode": "overlay",
              "size": 10,
              "solidity": 0.2
             }
            },
            "type": "histogram"
           }
          ],
          "histogram2d": [
           {
            "colorbar": {
             "outlinewidth": 0,
             "ticks": ""
            },
            "colorscale": [
             [
              0,
              "#0d0887"
             ],
             [
              0.1111111111111111,
              "#46039f"
             ],
             [
              0.2222222222222222,
              "#7201a8"
             ],
             [
              0.3333333333333333,
              "#9c179e"
             ],
             [
              0.4444444444444444,
              "#bd3786"
             ],
             [
              0.5555555555555556,
              "#d8576b"
             ],
             [
              0.6666666666666666,
              "#ed7953"
             ],
             [
              0.7777777777777778,
              "#fb9f3a"
             ],
             [
              0.8888888888888888,
              "#fdca26"
             ],
             [
              1,
              "#f0f921"
             ]
            ],
            "type": "histogram2d"
           }
          ],
          "histogram2dcontour": [
           {
            "colorbar": {
             "outlinewidth": 0,
             "ticks": ""
            },
            "colorscale": [
             [
              0,
              "#0d0887"
             ],
             [
              0.1111111111111111,
              "#46039f"
             ],
             [
              0.2222222222222222,
              "#7201a8"
             ],
             [
              0.3333333333333333,
              "#9c179e"
             ],
             [
              0.4444444444444444,
              "#bd3786"
             ],
             [
              0.5555555555555556,
              "#d8576b"
             ],
             [
              0.6666666666666666,
              "#ed7953"
             ],
             [
              0.7777777777777778,
              "#fb9f3a"
             ],
             [
              0.8888888888888888,
              "#fdca26"
             ],
             [
              1,
              "#f0f921"
             ]
            ],
            "type": "histogram2dcontour"
           }
          ],
          "mesh3d": [
           {
            "colorbar": {
             "outlinewidth": 0,
             "ticks": ""
            },
            "type": "mesh3d"
           }
          ],
          "parcoords": [
           {
            "line": {
             "colorbar": {
              "outlinewidth": 0,
              "ticks": ""
             }
            },
            "type": "parcoords"
           }
          ],
          "pie": [
           {
            "automargin": true,
            "type": "pie"
           }
          ],
          "scatter": [
           {
            "fillpattern": {
             "fillmode": "overlay",
             "size": 10,
             "solidity": 0.2
            },
            "type": "scatter"
           }
          ],
          "scatter3d": [
           {
            "line": {
             "colorbar": {
              "outlinewidth": 0,
              "ticks": ""
             }
            },
            "marker": {
             "colorbar": {
              "outlinewidth": 0,
              "ticks": ""
             }
            },
            "type": "scatter3d"
           }
          ],
          "scattercarpet": [
           {
            "marker": {
             "colorbar": {
              "outlinewidth": 0,
              "ticks": ""
             }
            },
            "type": "scattercarpet"
           }
          ],
          "scattergeo": [
           {
            "marker": {
             "colorbar": {
              "outlinewidth": 0,
              "ticks": ""
             }
            },
            "type": "scattergeo"
           }
          ],
          "scattergl": [
           {
            "marker": {
             "colorbar": {
              "outlinewidth": 0,
              "ticks": ""
             }
            },
            "type": "scattergl"
           }
          ],
          "scattermapbox": [
           {
            "marker": {
             "colorbar": {
              "outlinewidth": 0,
              "ticks": ""
             }
            },
            "type": "scattermapbox"
           }
          ],
          "scatterpolar": [
           {
            "marker": {
             "colorbar": {
              "outlinewidth": 0,
              "ticks": ""
             }
            },
            "type": "scatterpolar"
           }
          ],
          "scatterpolargl": [
           {
            "marker": {
             "colorbar": {
              "outlinewidth": 0,
              "ticks": ""
             }
            },
            "type": "scatterpolargl"
           }
          ],
          "scatterternary": [
           {
            "marker": {
             "colorbar": {
              "outlinewidth": 0,
              "ticks": ""
             }
            },
            "type": "scatterternary"
           }
          ],
          "surface": [
           {
            "colorbar": {
             "outlinewidth": 0,
             "ticks": ""
            },
            "colorscale": [
             [
              0,
              "#0d0887"
             ],
             [
              0.1111111111111111,
              "#46039f"
             ],
             [
              0.2222222222222222,
              "#7201a8"
             ],
             [
              0.3333333333333333,
              "#9c179e"
             ],
             [
              0.4444444444444444,
              "#bd3786"
             ],
             [
              0.5555555555555556,
              "#d8576b"
             ],
             [
              0.6666666666666666,
              "#ed7953"
             ],
             [
              0.7777777777777778,
              "#fb9f3a"
             ],
             [
              0.8888888888888888,
              "#fdca26"
             ],
             [
              1,
              "#f0f921"
             ]
            ],
            "type": "surface"
           }
          ],
          "table": [
           {
            "cells": {
             "fill": {
              "color": "#EBF0F8"
             },
             "line": {
              "color": "white"
             }
            },
            "header": {
             "fill": {
              "color": "#C8D4E3"
             },
             "line": {
              "color": "white"
             }
            },
            "type": "table"
           }
          ]
         },
         "layout": {
          "annotationdefaults": {
           "arrowcolor": "#2a3f5f",
           "arrowhead": 0,
           "arrowwidth": 1
          },
          "autotypenumbers": "strict",
          "coloraxis": {
           "colorbar": {
            "outlinewidth": 0,
            "ticks": ""
           }
          },
          "colorscale": {
           "diverging": [
            [
             0,
             "#8e0152"
            ],
            [
             0.1,
             "#c51b7d"
            ],
            [
             0.2,
             "#de77ae"
            ],
            [
             0.3,
             "#f1b6da"
            ],
            [
             0.4,
             "#fde0ef"
            ],
            [
             0.5,
             "#f7f7f7"
            ],
            [
             0.6,
             "#e6f5d0"
            ],
            [
             0.7,
             "#b8e186"
            ],
            [
             0.8,
             "#7fbc41"
            ],
            [
             0.9,
             "#4d9221"
            ],
            [
             1,
             "#276419"
            ]
           ],
           "sequential": [
            [
             0,
             "#0d0887"
            ],
            [
             0.1111111111111111,
             "#46039f"
            ],
            [
             0.2222222222222222,
             "#7201a8"
            ],
            [
             0.3333333333333333,
             "#9c179e"
            ],
            [
             0.4444444444444444,
             "#bd3786"
            ],
            [
             0.5555555555555556,
             "#d8576b"
            ],
            [
             0.6666666666666666,
             "#ed7953"
            ],
            [
             0.7777777777777778,
             "#fb9f3a"
            ],
            [
             0.8888888888888888,
             "#fdca26"
            ],
            [
             1,
             "#f0f921"
            ]
           ],
           "sequentialminus": [
            [
             0,
             "#0d0887"
            ],
            [
             0.1111111111111111,
             "#46039f"
            ],
            [
             0.2222222222222222,
             "#7201a8"
            ],
            [
             0.3333333333333333,
             "#9c179e"
            ],
            [
             0.4444444444444444,
             "#bd3786"
            ],
            [
             0.5555555555555556,
             "#d8576b"
            ],
            [
             0.6666666666666666,
             "#ed7953"
            ],
            [
             0.7777777777777778,
             "#fb9f3a"
            ],
            [
             0.8888888888888888,
             "#fdca26"
            ],
            [
             1,
             "#f0f921"
            ]
           ]
          },
          "colorway": [
           "#636efa",
           "#EF553B",
           "#00cc96",
           "#ab63fa",
           "#FFA15A",
           "#19d3f3",
           "#FF6692",
           "#B6E880",
           "#FF97FF",
           "#FECB52"
          ],
          "font": {
           "color": "#2a3f5f"
          },
          "geo": {
           "bgcolor": "white",
           "lakecolor": "white",
           "landcolor": "#E5ECF6",
           "showlakes": true,
           "showland": true,
           "subunitcolor": "white"
          },
          "hoverlabel": {
           "align": "left"
          },
          "hovermode": "closest",
          "mapbox": {
           "style": "light"
          },
          "paper_bgcolor": "white",
          "plot_bgcolor": "#E5ECF6",
          "polar": {
           "angularaxis": {
            "gridcolor": "white",
            "linecolor": "white",
            "ticks": ""
           },
           "bgcolor": "#E5ECF6",
           "radialaxis": {
            "gridcolor": "white",
            "linecolor": "white",
            "ticks": ""
           }
          },
          "scene": {
           "xaxis": {
            "backgroundcolor": "#E5ECF6",
            "gridcolor": "white",
            "gridwidth": 2,
            "linecolor": "white",
            "showbackground": true,
            "ticks": "",
            "zerolinecolor": "white"
           },
           "yaxis": {
            "backgroundcolor": "#E5ECF6",
            "gridcolor": "white",
            "gridwidth": 2,
            "linecolor": "white",
            "showbackground": true,
            "ticks": "",
            "zerolinecolor": "white"
           },
           "zaxis": {
            "backgroundcolor": "#E5ECF6",
            "gridcolor": "white",
            "gridwidth": 2,
            "linecolor": "white",
            "showbackground": true,
            "ticks": "",
            "zerolinecolor": "white"
           }
          },
          "shapedefaults": {
           "line": {
            "color": "#2a3f5f"
           }
          },
          "ternary": {
           "aaxis": {
            "gridcolor": "white",
            "linecolor": "white",
            "ticks": ""
           },
           "baxis": {
            "gridcolor": "white",
            "linecolor": "white",
            "ticks": ""
           },
           "bgcolor": "#E5ECF6",
           "caxis": {
            "gridcolor": "white",
            "linecolor": "white",
            "ticks": ""
           }
          },
          "title": {
           "x": 0.05
          },
          "xaxis": {
           "automargin": true,
           "gridcolor": "white",
           "linecolor": "white",
           "ticks": "",
           "title": {
            "standoff": 15
           },
           "zerolinecolor": "white",
           "zerolinewidth": 2
          },
          "yaxis": {
           "automargin": true,
           "gridcolor": "white",
           "linecolor": "white",
           "ticks": "",
           "title": {
            "standoff": 15
           },
           "zerolinecolor": "white",
           "zerolinewidth": 2
          }
         }
        },
        "title": {
         "text": "Accidents by Micro Vehicle Type and Year"
        },
        "xaxis": {
         "anchor": "y",
         "categoryorder": "total descending",
         "domain": [
          0,
          1
         ],
         "title": {
          "text": "Accident Year"
         }
        },
        "yaxis": {
         "anchor": "x",
         "domain": [
          0,
          1
         ],
         "title": {
          "text": "Count"
         }
        }
       }
      }
     },
     "metadata": {},
     "output_type": "display_data"
    }
   ],
   "source": [
    "micro_gp = year_vehicle_gp[year_vehicle_gp['involve_vehicle_type'].isin(micro_vehicle)]\n",
    "\n",
    "# Pivot the DataFrame to have accident years as the index and vehicle types as columns.\n",
    "micro_gp = micro_gp.pivot(index='accident_year', columns='involve_vehicle_type', values='count')\n",
    "\n",
    "# Replace NaN values with 0 if any, since not all years may have all vehicle types.\n",
    "micro_gp = micro_gp.fillna(0)\n",
    "\n",
    "\n",
    "micro_gp = micro_gp.reset_index()\n",
    "\n",
    "# Convert the DataFrame from wide to long format\n",
    "micro_long = micro_gp.melt(id_vars='accident_year', var_name='vehicle_type', value_name='count')\n",
    "\n",
    "# Map your vehicle codes to vehicle names for the legend\n",
    "vehicle_mapping = {15: 'Bicycle', 21: 'Scooter', 22: 'Kalnoit', 23: 'E-Bicycle'}\n",
    "micro_long['vehicle_type'] = micro_long['vehicle_type'].map(vehicle_mapping)\n",
    "\n",
    "# Create the bar chart using plotly.express\n",
    "fig = px.bar(\n",
    "    micro_long,\n",
    "    x='accident_year',\n",
    "    y='count',\n",
    "    color='vehicle_type',  # Differentiates the bars by vehicle type\n",
    "    barmode='group',       # Groups the bar per accident_year\n",
    "    title='Accidents by Micro Vehicle Type and Year',\n",
    "    labels={'count': 'Count', 'accident_year': 'Accident Year', 'vehicle_type': 'Vehicle Type'}\n",
    ")\n",
    "\n",
    "# Update the layout if you need to customize the appearance\n",
    "fig.update_layout(\n",
    "    xaxis_title='Accident Year',\n",
    "    yaxis_title='Count',\n",
    "    legend_title='Vehicle Type',\n",
    "    xaxis={'categoryorder':'total descending'}\n",
    ")\n",
    "\n",
    "# Show the plot\n",
    "fig.show()\n",
    "\n",
    "# Plotting the grouped bar chart\n",
    "# pivot_df.plot(kind='bar', figsize=(10, 7))\n",
    "\n",
    "# # Add some labels and a title\n",
    "# plt.xlabel('Accident Year')\n",
    "# plt.ylabel('Count')\n",
    "# plt.title('Accidents by Micro Vehicle Type and Year')\n",
    "# plt.xticks(rotation=0)  # Rotates the x labels to show them horizontally\n",
    "# plt.legend(title='Vehicle Type', labels=['Bicycle', 'Scooter', 'Kalnoit', 'E-Bicycle'])\n",
    "\n",
    "# # Show the plot\n",
    "# plt.show()"
   ]
  },
  {
   "cell_type": "code",
   "execution_count": 40,
   "metadata": {},
   "outputs": [
    {
     "data": {
      "application/vnd.plotly.v1+json": {
       "config": {
        "plotlyServerURL": "https://plot.ly"
       },
       "data": [
        {
         "hovertemplate": "Vehicle Type=Bicycle<br>Accident Year=%{x}<br>Count=%{y}<extra></extra>",
         "legendgroup": "Bicycle",
         "line": {
          "color": "#636efa",
          "dash": "solid"
         },
         "marker": {
          "symbol": "circle"
         },
         "mode": "lines",
         "name": "Bicycle",
         "orientation": "v",
         "showlegend": true,
         "type": "scatter",
         "x": [
          2013,
          2014,
          2015,
          2016,
          2017,
          2018,
          2019,
          2020,
          2021,
          2022,
          2023
         ],
         "xaxis": "x",
         "y": [
          128,
          125,
          112,
          106,
          96,
          108,
          78,
          86,
          70,
          67,
          11
         ],
         "yaxis": "y"
        },
        {
         "hovertemplate": "Vehicle Type=Scooter<br>Accident Year=%{x}<br>Count=%{y}<extra></extra>",
         "legendgroup": "Scooter",
         "line": {
          "color": "#EF553B",
          "dash": "solid"
         },
         "marker": {
          "symbol": "circle"
         },
         "mode": "lines",
         "name": "Scooter",
         "orientation": "v",
         "showlegend": true,
         "type": "scatter",
         "x": [
          2013,
          2014,
          2015,
          2016,
          2017,
          2018,
          2019,
          2020,
          2021,
          2022,
          2023
         ],
         "xaxis": "x",
         "y": [
          1,
          2,
          3,
          1,
          4,
          11,
          15,
          20,
          24,
          21,
          8
         ],
         "yaxis": "y"
        },
        {
         "hovertemplate": "Vehicle Type=Kalnoit<br>Accident Year=%{x}<br>Count=%{y}<extra></extra>",
         "legendgroup": "Kalnoit",
         "line": {
          "color": "#00cc96",
          "dash": "solid"
         },
         "marker": {
          "symbol": "circle"
         },
         "mode": "lines",
         "name": "Kalnoit",
         "orientation": "v",
         "showlegend": true,
         "type": "scatter",
         "x": [
          2013,
          2014,
          2015,
          2016,
          2017,
          2018,
          2019,
          2020,
          2021,
          2022,
          2023
         ],
         "xaxis": "x",
         "y": [
          6,
          7,
          6,
          3,
          5,
          1,
          12,
          7,
          8,
          13,
          0
         ],
         "yaxis": "y"
        },
        {
         "hovertemplate": "Vehicle Type=E-Bicycle<br>Accident Year=%{x}<br>Count=%{y}<extra></extra>",
         "legendgroup": "E-Bicycle",
         "line": {
          "color": "#ab63fa",
          "dash": "solid"
         },
         "marker": {
          "symbol": "circle"
         },
         "mode": "lines",
         "name": "E-Bicycle",
         "orientation": "v",
         "showlegend": true,
         "type": "scatter",
         "x": [
          2013,
          2014,
          2015,
          2016,
          2017,
          2018,
          2019,
          2020,
          2021,
          2022,
          2023
         ],
         "xaxis": "x",
         "y": [
          5,
          19,
          48,
          79,
          131,
          169,
          138,
          65,
          94,
          97,
          13
         ],
         "yaxis": "y"
        }
       ],
       "layout": {
        "legend": {
         "title": {
          "text": "Vehicle Type"
         },
         "tracegroupgap": 0
        },
        "template": {
         "data": {
          "bar": [
           {
            "error_x": {
             "color": "#2a3f5f"
            },
            "error_y": {
             "color": "#2a3f5f"
            },
            "marker": {
             "line": {
              "color": "#E5ECF6",
              "width": 0.5
             },
             "pattern": {
              "fillmode": "overlay",
              "size": 10,
              "solidity": 0.2
             }
            },
            "type": "bar"
           }
          ],
          "barpolar": [
           {
            "marker": {
             "line": {
              "color": "#E5ECF6",
              "width": 0.5
             },
             "pattern": {
              "fillmode": "overlay",
              "size": 10,
              "solidity": 0.2
             }
            },
            "type": "barpolar"
           }
          ],
          "carpet": [
           {
            "aaxis": {
             "endlinecolor": "#2a3f5f",
             "gridcolor": "white",
             "linecolor": "white",
             "minorgridcolor": "white",
             "startlinecolor": "#2a3f5f"
            },
            "baxis": {
             "endlinecolor": "#2a3f5f",
             "gridcolor": "white",
             "linecolor": "white",
             "minorgridcolor": "white",
             "startlinecolor": "#2a3f5f"
            },
            "type": "carpet"
           }
          ],
          "choropleth": [
           {
            "colorbar": {
             "outlinewidth": 0,
             "ticks": ""
            },
            "type": "choropleth"
           }
          ],
          "contour": [
           {
            "colorbar": {
             "outlinewidth": 0,
             "ticks": ""
            },
            "colorscale": [
             [
              0,
              "#0d0887"
             ],
             [
              0.1111111111111111,
              "#46039f"
             ],
             [
              0.2222222222222222,
              "#7201a8"
             ],
             [
              0.3333333333333333,
              "#9c179e"
             ],
             [
              0.4444444444444444,
              "#bd3786"
             ],
             [
              0.5555555555555556,
              "#d8576b"
             ],
             [
              0.6666666666666666,
              "#ed7953"
             ],
             [
              0.7777777777777778,
              "#fb9f3a"
             ],
             [
              0.8888888888888888,
              "#fdca26"
             ],
             [
              1,
              "#f0f921"
             ]
            ],
            "type": "contour"
           }
          ],
          "contourcarpet": [
           {
            "colorbar": {
             "outlinewidth": 0,
             "ticks": ""
            },
            "type": "contourcarpet"
           }
          ],
          "heatmap": [
           {
            "colorbar": {
             "outlinewidth": 0,
             "ticks": ""
            },
            "colorscale": [
             [
              0,
              "#0d0887"
             ],
             [
              0.1111111111111111,
              "#46039f"
             ],
             [
              0.2222222222222222,
              "#7201a8"
             ],
             [
              0.3333333333333333,
              "#9c179e"
             ],
             [
              0.4444444444444444,
              "#bd3786"
             ],
             [
              0.5555555555555556,
              "#d8576b"
             ],
             [
              0.6666666666666666,
              "#ed7953"
             ],
             [
              0.7777777777777778,
              "#fb9f3a"
             ],
             [
              0.8888888888888888,
              "#fdca26"
             ],
             [
              1,
              "#f0f921"
             ]
            ],
            "type": "heatmap"
           }
          ],
          "heatmapgl": [
           {
            "colorbar": {
             "outlinewidth": 0,
             "ticks": ""
            },
            "colorscale": [
             [
              0,
              "#0d0887"
             ],
             [
              0.1111111111111111,
              "#46039f"
             ],
             [
              0.2222222222222222,
              "#7201a8"
             ],
             [
              0.3333333333333333,
              "#9c179e"
             ],
             [
              0.4444444444444444,
              "#bd3786"
             ],
             [
              0.5555555555555556,
              "#d8576b"
             ],
             [
              0.6666666666666666,
              "#ed7953"
             ],
             [
              0.7777777777777778,
              "#fb9f3a"
             ],
             [
              0.8888888888888888,
              "#fdca26"
             ],
             [
              1,
              "#f0f921"
             ]
            ],
            "type": "heatmapgl"
           }
          ],
          "histogram": [
           {
            "marker": {
             "pattern": {
              "fillmode": "overlay",
              "size": 10,
              "solidity": 0.2
             }
            },
            "type": "histogram"
           }
          ],
          "histogram2d": [
           {
            "colorbar": {
             "outlinewidth": 0,
             "ticks": ""
            },
            "colorscale": [
             [
              0,
              "#0d0887"
             ],
             [
              0.1111111111111111,
              "#46039f"
             ],
             [
              0.2222222222222222,
              "#7201a8"
             ],
             [
              0.3333333333333333,
              "#9c179e"
             ],
             [
              0.4444444444444444,
              "#bd3786"
             ],
             [
              0.5555555555555556,
              "#d8576b"
             ],
             [
              0.6666666666666666,
              "#ed7953"
             ],
             [
              0.7777777777777778,
              "#fb9f3a"
             ],
             [
              0.8888888888888888,
              "#fdca26"
             ],
             [
              1,
              "#f0f921"
             ]
            ],
            "type": "histogram2d"
           }
          ],
          "histogram2dcontour": [
           {
            "colorbar": {
             "outlinewidth": 0,
             "ticks": ""
            },
            "colorscale": [
             [
              0,
              "#0d0887"
             ],
             [
              0.1111111111111111,
              "#46039f"
             ],
             [
              0.2222222222222222,
              "#7201a8"
             ],
             [
              0.3333333333333333,
              "#9c179e"
             ],
             [
              0.4444444444444444,
              "#bd3786"
             ],
             [
              0.5555555555555556,
              "#d8576b"
             ],
             [
              0.6666666666666666,
              "#ed7953"
             ],
             [
              0.7777777777777778,
              "#fb9f3a"
             ],
             [
              0.8888888888888888,
              "#fdca26"
             ],
             [
              1,
              "#f0f921"
             ]
            ],
            "type": "histogram2dcontour"
           }
          ],
          "mesh3d": [
           {
            "colorbar": {
             "outlinewidth": 0,
             "ticks": ""
            },
            "type": "mesh3d"
           }
          ],
          "parcoords": [
           {
            "line": {
             "colorbar": {
              "outlinewidth": 0,
              "ticks": ""
             }
            },
            "type": "parcoords"
           }
          ],
          "pie": [
           {
            "automargin": true,
            "type": "pie"
           }
          ],
          "scatter": [
           {
            "fillpattern": {
             "fillmode": "overlay",
             "size": 10,
             "solidity": 0.2
            },
            "type": "scatter"
           }
          ],
          "scatter3d": [
           {
            "line": {
             "colorbar": {
              "outlinewidth": 0,
              "ticks": ""
             }
            },
            "marker": {
             "colorbar": {
              "outlinewidth": 0,
              "ticks": ""
             }
            },
            "type": "scatter3d"
           }
          ],
          "scattercarpet": [
           {
            "marker": {
             "colorbar": {
              "outlinewidth": 0,
              "ticks": ""
             }
            },
            "type": "scattercarpet"
           }
          ],
          "scattergeo": [
           {
            "marker": {
             "colorbar": {
              "outlinewidth": 0,
              "ticks": ""
             }
            },
            "type": "scattergeo"
           }
          ],
          "scattergl": [
           {
            "marker": {
             "colorbar": {
              "outlinewidth": 0,
              "ticks": ""
             }
            },
            "type": "scattergl"
           }
          ],
          "scattermapbox": [
           {
            "marker": {
             "colorbar": {
              "outlinewidth": 0,
              "ticks": ""
             }
            },
            "type": "scattermapbox"
           }
          ],
          "scatterpolar": [
           {
            "marker": {
             "colorbar": {
              "outlinewidth": 0,
              "ticks": ""
             }
            },
            "type": "scatterpolar"
           }
          ],
          "scatterpolargl": [
           {
            "marker": {
             "colorbar": {
              "outlinewidth": 0,
              "ticks": ""
             }
            },
            "type": "scatterpolargl"
           }
          ],
          "scatterternary": [
           {
            "marker": {
             "colorbar": {
              "outlinewidth": 0,
              "ticks": ""
             }
            },
            "type": "scatterternary"
           }
          ],
          "surface": [
           {
            "colorbar": {
             "outlinewidth": 0,
             "ticks": ""
            },
            "colorscale": [
             [
              0,
              "#0d0887"
             ],
             [
              0.1111111111111111,
              "#46039f"
             ],
             [
              0.2222222222222222,
              "#7201a8"
             ],
             [
              0.3333333333333333,
              "#9c179e"
             ],
             [
              0.4444444444444444,
              "#bd3786"
             ],
             [
              0.5555555555555556,
              "#d8576b"
             ],
             [
              0.6666666666666666,
              "#ed7953"
             ],
             [
              0.7777777777777778,
              "#fb9f3a"
             ],
             [
              0.8888888888888888,
              "#fdca26"
             ],
             [
              1,
              "#f0f921"
             ]
            ],
            "type": "surface"
           }
          ],
          "table": [
           {
            "cells": {
             "fill": {
              "color": "#EBF0F8"
             },
             "line": {
              "color": "white"
             }
            },
            "header": {
             "fill": {
              "color": "#C8D4E3"
             },
             "line": {
              "color": "white"
             }
            },
            "type": "table"
           }
          ]
         },
         "layout": {
          "annotationdefaults": {
           "arrowcolor": "#2a3f5f",
           "arrowhead": 0,
           "arrowwidth": 1
          },
          "autotypenumbers": "strict",
          "coloraxis": {
           "colorbar": {
            "outlinewidth": 0,
            "ticks": ""
           }
          },
          "colorscale": {
           "diverging": [
            [
             0,
             "#8e0152"
            ],
            [
             0.1,
             "#c51b7d"
            ],
            [
             0.2,
             "#de77ae"
            ],
            [
             0.3,
             "#f1b6da"
            ],
            [
             0.4,
             "#fde0ef"
            ],
            [
             0.5,
             "#f7f7f7"
            ],
            [
             0.6,
             "#e6f5d0"
            ],
            [
             0.7,
             "#b8e186"
            ],
            [
             0.8,
             "#7fbc41"
            ],
            [
             0.9,
             "#4d9221"
            ],
            [
             1,
             "#276419"
            ]
           ],
           "sequential": [
            [
             0,
             "#0d0887"
            ],
            [
             0.1111111111111111,
             "#46039f"
            ],
            [
             0.2222222222222222,
             "#7201a8"
            ],
            [
             0.3333333333333333,
             "#9c179e"
            ],
            [
             0.4444444444444444,
             "#bd3786"
            ],
            [
             0.5555555555555556,
             "#d8576b"
            ],
            [
             0.6666666666666666,
             "#ed7953"
            ],
            [
             0.7777777777777778,
             "#fb9f3a"
            ],
            [
             0.8888888888888888,
             "#fdca26"
            ],
            [
             1,
             "#f0f921"
            ]
           ],
           "sequentialminus": [
            [
             0,
             "#0d0887"
            ],
            [
             0.1111111111111111,
             "#46039f"
            ],
            [
             0.2222222222222222,
             "#7201a8"
            ],
            [
             0.3333333333333333,
             "#9c179e"
            ],
            [
             0.4444444444444444,
             "#bd3786"
            ],
            [
             0.5555555555555556,
             "#d8576b"
            ],
            [
             0.6666666666666666,
             "#ed7953"
            ],
            [
             0.7777777777777778,
             "#fb9f3a"
            ],
            [
             0.8888888888888888,
             "#fdca26"
            ],
            [
             1,
             "#f0f921"
            ]
           ]
          },
          "colorway": [
           "#636efa",
           "#EF553B",
           "#00cc96",
           "#ab63fa",
           "#FFA15A",
           "#19d3f3",
           "#FF6692",
           "#B6E880",
           "#FF97FF",
           "#FECB52"
          ],
          "font": {
           "color": "#2a3f5f"
          },
          "geo": {
           "bgcolor": "white",
           "lakecolor": "white",
           "landcolor": "#E5ECF6",
           "showlakes": true,
           "showland": true,
           "subunitcolor": "white"
          },
          "hoverlabel": {
           "align": "left"
          },
          "hovermode": "closest",
          "mapbox": {
           "style": "light"
          },
          "paper_bgcolor": "white",
          "plot_bgcolor": "#E5ECF6",
          "polar": {
           "angularaxis": {
            "gridcolor": "white",
            "linecolor": "white",
            "ticks": ""
           },
           "bgcolor": "#E5ECF6",
           "radialaxis": {
            "gridcolor": "white",
            "linecolor": "white",
            "ticks": ""
           }
          },
          "scene": {
           "xaxis": {
            "backgroundcolor": "#E5ECF6",
            "gridcolor": "white",
            "gridwidth": 2,
            "linecolor": "white",
            "showbackground": true,
            "ticks": "",
            "zerolinecolor": "white"
           },
           "yaxis": {
            "backgroundcolor": "#E5ECF6",
            "gridcolor": "white",
            "gridwidth": 2,
            "linecolor": "white",
            "showbackground": true,
            "ticks": "",
            "zerolinecolor": "white"
           },
           "zaxis": {
            "backgroundcolor": "#E5ECF6",
            "gridcolor": "white",
            "gridwidth": 2,
            "linecolor": "white",
            "showbackground": true,
            "ticks": "",
            "zerolinecolor": "white"
           }
          },
          "shapedefaults": {
           "line": {
            "color": "#2a3f5f"
           }
          },
          "ternary": {
           "aaxis": {
            "gridcolor": "white",
            "linecolor": "white",
            "ticks": ""
           },
           "baxis": {
            "gridcolor": "white",
            "linecolor": "white",
            "ticks": ""
           },
           "bgcolor": "#E5ECF6",
           "caxis": {
            "gridcolor": "white",
            "linecolor": "white",
            "ticks": ""
           }
          },
          "title": {
           "x": 0.05
          },
          "xaxis": {
           "automargin": true,
           "gridcolor": "white",
           "linecolor": "white",
           "ticks": "",
           "title": {
            "standoff": 15
           },
           "zerolinecolor": "white",
           "zerolinewidth": 2
          },
          "yaxis": {
           "automargin": true,
           "gridcolor": "white",
           "linecolor": "white",
           "ticks": "",
           "title": {
            "standoff": 15
           },
           "zerolinecolor": "white",
           "zerolinewidth": 2
          }
         }
        },
        "title": {
         "text": "Accidents by Micro Vehicle Type and Year"
        },
        "xaxis": {
         "anchor": "y",
         "categoryorder": "total descending",
         "domain": [
          0,
          1
         ],
         "title": {
          "text": "Accident Year"
         }
        },
        "yaxis": {
         "anchor": "x",
         "domain": [
          0,
          1
         ],
         "title": {
          "text": "Count"
         }
        }
       }
      }
     },
     "metadata": {},
     "output_type": "display_data"
    }
   ],
   "source": [
    "fig = px.line(\n",
    "    micro_long,\n",
    "    x='accident_year',\n",
    "    y='count',\n",
    "    color='vehicle_type',  # Differentiates the lines by vehicle type\n",
    "    title='Accidents by Micro Vehicle Type and Year',\n",
    "    labels={'count': 'Count', 'accident_year': 'Accident Year', 'vehicle_type': 'Vehicle Type'}\n",
    ")\n",
    "\n",
    "# Update the layout if you need to customize the appearance\n",
    "fig.update_layout(\n",
    "    xaxis_title='Accident Year',\n",
    "    yaxis_title='Count',\n",
    "    legend_title='Vehicle Type',\n",
    "    xaxis={'categoryorder':'total descending'}\n",
    ")\n",
    "\n",
    "# Show the plot\n",
    "fig.show()"
   ]
  },
  {
   "cell_type": "markdown",
   "metadata": {},
   "source": [
    "Check how many injured by severity."
   ]
  },
  {
   "cell_type": "code",
   "execution_count": 35,
   "metadata": {},
   "outputs": [
    {
     "data": {
      "text/plain": [
       "(פצוע קל     48635\n",
       " פצוע קשה     1822\n",
       " הרוג          126\n",
       " Name: injury_severity_hebrew, dtype: int64,\n",
       " 3    48635\n",
       " 0    38216\n",
       " 2     1822\n",
       " 1      126\n",
       " Name: injury_severity, dtype: int64)"
      ]
     },
     "execution_count": 35,
     "metadata": {},
     "output_type": "execute_result"
    }
   ],
   "source": [
    "imh_jr.injury_severity_hebrew.value_counts(),imh_jr.injury_severity.value_counts()"
   ]
  },
  {
   "cell_type": "code",
   "execution_count": 36,
   "metadata": {},
   "outputs": [],
   "source": [
    "LIGHT_INJURY = 3\n",
    "SERIOUS_INJURY = 0\n",
    "KILLED = 1\n",
    "\n",
    "injury_severity = [LIGHT_INJURY, SERIOUS_INJURY, KILLED]"
   ]
  },
  {
   "cell_type": "markdown",
   "metadata": {},
   "source": [
    "Show severity for micro in each year."
   ]
  },
  {
   "cell_type": "code",
   "execution_count": 48,
   "metadata": {},
   "outputs": [
    {
     "data": {
      "text/html": [
       "<div>\n",
       "<style scoped>\n",
       "    .dataframe tbody tr th:only-of-type {\n",
       "        vertical-align: middle;\n",
       "    }\n",
       "\n",
       "    .dataframe tbody tr th {\n",
       "        vertical-align: top;\n",
       "    }\n",
       "\n",
       "    .dataframe thead th {\n",
       "        text-align: right;\n",
       "    }\n",
       "</style>\n",
       "<table border=\"1\" class=\"dataframe\">\n",
       "  <thead>\n",
       "    <tr style=\"text-align: right;\">\n",
       "      <th></th>\n",
       "      <th>accident_id</th>\n",
       "      <th>provider_and_id</th>\n",
       "      <th>provider_code</th>\n",
       "      <th>file_type_police</th>\n",
       "      <th>involved_type</th>\n",
       "      <th>involved_type_hebrew</th>\n",
       "      <th>license_acquiring_date</th>\n",
       "      <th>age_group</th>\n",
       "      <th>age_group_hebrew</th>\n",
       "      <th>sex</th>\n",
       "      <th>...</th>\n",
       "      <th>vehicle_status</th>\n",
       "      <th>vehicle_status_hebrew</th>\n",
       "      <th>vehicle_attribution</th>\n",
       "      <th>vehicle_attribution_hebrew</th>\n",
       "      <th>seats</th>\n",
       "      <th>total_weight</th>\n",
       "      <th>total_weight_hebrew</th>\n",
       "      <th>vehicle_damage</th>\n",
       "      <th>vehicle_damage_hebrew</th>\n",
       "      <th>accident_date</th>\n",
       "    </tr>\n",
       "  </thead>\n",
       "  <tbody>\n",
       "    <tr>\n",
       "      <th>43</th>\n",
       "      <td>2013001145</td>\n",
       "      <td>32013001145</td>\n",
       "      <td>3</td>\n",
       "      <td>3</td>\n",
       "      <td>2</td>\n",
       "      <td>נהג נפגע</td>\n",
       "      <td>0</td>\n",
       "      <td>3</td>\n",
       "      <td>10-14</td>\n",
       "      <td>1.0</td>\n",
       "      <td>...</td>\n",
       "      <td>0.0</td>\n",
       "      <td>NaN</td>\n",
       "      <td>1.0</td>\n",
       "      <td>ישראלי</td>\n",
       "      <td>99.0</td>\n",
       "      <td>0.0</td>\n",
       "      <td>לא ידוע</td>\n",
       "      <td>4.0</td>\n",
       "      <td>אין נזק</td>\n",
       "      <td>2013-06-23 00:30:00</td>\n",
       "    </tr>\n",
       "    <tr>\n",
       "      <th>137</th>\n",
       "      <td>2013001541</td>\n",
       "      <td>12013001541</td>\n",
       "      <td>1</td>\n",
       "      <td>1</td>\n",
       "      <td>2</td>\n",
       "      <td>נהג נפגע</td>\n",
       "      <td>0</td>\n",
       "      <td>3</td>\n",
       "      <td>10-14</td>\n",
       "      <td>1.0</td>\n",
       "      <td>...</td>\n",
       "      <td>0.0</td>\n",
       "      <td>NaN</td>\n",
       "      <td>1.0</td>\n",
       "      <td>ישראלי</td>\n",
       "      <td>99.0</td>\n",
       "      <td>0.0</td>\n",
       "      <td>לא ידוע</td>\n",
       "      <td>1.0</td>\n",
       "      <td>קל</td>\n",
       "      <td>2013-09-20 01:00:00</td>\n",
       "    </tr>\n",
       "    <tr>\n",
       "      <th>495</th>\n",
       "      <td>2013004302</td>\n",
       "      <td>32013004302</td>\n",
       "      <td>3</td>\n",
       "      <td>3</td>\n",
       "      <td>2</td>\n",
       "      <td>נהג נפגע</td>\n",
       "      <td>0</td>\n",
       "      <td>99</td>\n",
       "      <td>לא ידוע</td>\n",
       "      <td>0.0</td>\n",
       "      <td>...</td>\n",
       "      <td>0.0</td>\n",
       "      <td>NaN</td>\n",
       "      <td>1.0</td>\n",
       "      <td>ישראלי</td>\n",
       "      <td>99.0</td>\n",
       "      <td>0.0</td>\n",
       "      <td>לא ידוע</td>\n",
       "      <td>4.0</td>\n",
       "      <td>אין נזק</td>\n",
       "      <td>2013-11-06 06:45:00</td>\n",
       "    </tr>\n",
       "    <tr>\n",
       "      <th>663</th>\n",
       "      <td>2013005728</td>\n",
       "      <td>12013005728</td>\n",
       "      <td>1</td>\n",
       "      <td>1</td>\n",
       "      <td>2</td>\n",
       "      <td>נהג נפגע</td>\n",
       "      <td>0</td>\n",
       "      <td>3</td>\n",
       "      <td>10-14</td>\n",
       "      <td>1.0</td>\n",
       "      <td>...</td>\n",
       "      <td>0.0</td>\n",
       "      <td>NaN</td>\n",
       "      <td>1.0</td>\n",
       "      <td>ישראלי</td>\n",
       "      <td>99.0</td>\n",
       "      <td>0.0</td>\n",
       "      <td>לא ידוע</td>\n",
       "      <td>4.0</td>\n",
       "      <td>אין נזק</td>\n",
       "      <td>2013-08-14 07:15:00</td>\n",
       "    </tr>\n",
       "    <tr>\n",
       "      <th>693</th>\n",
       "      <td>2013004630</td>\n",
       "      <td>32013004630</td>\n",
       "      <td>3</td>\n",
       "      <td>3</td>\n",
       "      <td>2</td>\n",
       "      <td>נהג נפגע</td>\n",
       "      <td>0</td>\n",
       "      <td>99</td>\n",
       "      <td>לא ידוע</td>\n",
       "      <td>0.0</td>\n",
       "      <td>...</td>\n",
       "      <td>0.0</td>\n",
       "      <td>NaN</td>\n",
       "      <td>1.0</td>\n",
       "      <td>ישראלי</td>\n",
       "      <td>99.0</td>\n",
       "      <td>0.0</td>\n",
       "      <td>לא ידוע</td>\n",
       "      <td>4.0</td>\n",
       "      <td>אין נזק</td>\n",
       "      <td>2013-06-09 07:00:00</td>\n",
       "    </tr>\n",
       "    <tr>\n",
       "      <th>...</th>\n",
       "      <td>...</td>\n",
       "      <td>...</td>\n",
       "      <td>...</td>\n",
       "      <td>...</td>\n",
       "      <td>...</td>\n",
       "      <td>...</td>\n",
       "      <td>...</td>\n",
       "      <td>...</td>\n",
       "      <td>...</td>\n",
       "      <td>...</td>\n",
       "      <td>...</td>\n",
       "      <td>...</td>\n",
       "      <td>...</td>\n",
       "      <td>...</td>\n",
       "      <td>...</td>\n",
       "      <td>...</td>\n",
       "      <td>...</td>\n",
       "      <td>...</td>\n",
       "      <td>...</td>\n",
       "      <td>...</td>\n",
       "      <td>...</td>\n",
       "    </tr>\n",
       "    <tr>\n",
       "      <th>88578</th>\n",
       "      <td>2023080724</td>\n",
       "      <td>32023080724</td>\n",
       "      <td>3</td>\n",
       "      <td>3</td>\n",
       "      <td>2</td>\n",
       "      <td>נהג נפגע</td>\n",
       "      <td>2008</td>\n",
       "      <td>8</td>\n",
       "      <td>35-39</td>\n",
       "      <td>1.0</td>\n",
       "      <td>...</td>\n",
       "      <td>0.0</td>\n",
       "      <td>NaN</td>\n",
       "      <td>1.0</td>\n",
       "      <td>ישראלי</td>\n",
       "      <td>99.0</td>\n",
       "      <td>0.0</td>\n",
       "      <td>לא ידוע</td>\n",
       "      <td>4.0</td>\n",
       "      <td>אין נזק</td>\n",
       "      <td>2023-01-24 16:00:00</td>\n",
       "    </tr>\n",
       "    <tr>\n",
       "      <th>88583</th>\n",
       "      <td>2023085903</td>\n",
       "      <td>32023085903</td>\n",
       "      <td>3</td>\n",
       "      <td>3</td>\n",
       "      <td>2</td>\n",
       "      <td>נהג נפגע</td>\n",
       "      <td>2005</td>\n",
       "      <td>8</td>\n",
       "      <td>35-39</td>\n",
       "      <td>1.0</td>\n",
       "      <td>...</td>\n",
       "      <td>0.0</td>\n",
       "      <td>NaN</td>\n",
       "      <td>1.0</td>\n",
       "      <td>ישראלי</td>\n",
       "      <td>99.0</td>\n",
       "      <td>0.0</td>\n",
       "      <td>לא ידוע</td>\n",
       "      <td>1.0</td>\n",
       "      <td>קל</td>\n",
       "      <td>2023-01-01 17:30:00</td>\n",
       "    </tr>\n",
       "    <tr>\n",
       "      <th>88651</th>\n",
       "      <td>2023094587</td>\n",
       "      <td>12023094587</td>\n",
       "      <td>1</td>\n",
       "      <td>1</td>\n",
       "      <td>2</td>\n",
       "      <td>נהג נפגע</td>\n",
       "      <td>0</td>\n",
       "      <td>4</td>\n",
       "      <td>15-19</td>\n",
       "      <td>1.0</td>\n",
       "      <td>...</td>\n",
       "      <td>0.0</td>\n",
       "      <td>NaN</td>\n",
       "      <td>1.0</td>\n",
       "      <td>ישראלי</td>\n",
       "      <td>99.0</td>\n",
       "      <td>0.0</td>\n",
       "      <td>לא ידוע</td>\n",
       "      <td>3.0</td>\n",
       "      <td>קשה</td>\n",
       "      <td>2023-03-28 17:15:00</td>\n",
       "    </tr>\n",
       "    <tr>\n",
       "      <th>88676</th>\n",
       "      <td>2023093113</td>\n",
       "      <td>32023093113</td>\n",
       "      <td>3</td>\n",
       "      <td>3</td>\n",
       "      <td>2</td>\n",
       "      <td>נהג נפגע</td>\n",
       "      <td>0</td>\n",
       "      <td>3</td>\n",
       "      <td>10-14</td>\n",
       "      <td>1.0</td>\n",
       "      <td>...</td>\n",
       "      <td>0.0</td>\n",
       "      <td>NaN</td>\n",
       "      <td>1.0</td>\n",
       "      <td>ישראלי</td>\n",
       "      <td>99.0</td>\n",
       "      <td>0.0</td>\n",
       "      <td>לא ידוע</td>\n",
       "      <td>4.0</td>\n",
       "      <td>אין נזק</td>\n",
       "      <td>2023-01-26 16:45:00</td>\n",
       "    </tr>\n",
       "    <tr>\n",
       "      <th>88765</th>\n",
       "      <td>2023091914</td>\n",
       "      <td>32023091914</td>\n",
       "      <td>3</td>\n",
       "      <td>3</td>\n",
       "      <td>1</td>\n",
       "      <td>נהג</td>\n",
       "      <td>0</td>\n",
       "      <td>5</td>\n",
       "      <td>20-24</td>\n",
       "      <td>1.0</td>\n",
       "      <td>...</td>\n",
       "      <td>0.0</td>\n",
       "      <td>NaN</td>\n",
       "      <td>1.0</td>\n",
       "      <td>ישראלי</td>\n",
       "      <td>99.0</td>\n",
       "      <td>0.0</td>\n",
       "      <td>לא ידוע</td>\n",
       "      <td>4.0</td>\n",
       "      <td>אין נזק</td>\n",
       "      <td>2023-03-17 13:30:00</td>\n",
       "    </tr>\n",
       "  </tbody>\n",
       "</table>\n",
       "<p>1884 rows × 159 columns</p>\n",
       "</div>"
      ],
      "text/plain": [
       "       accident_id  provider_and_id  provider_code  file_type_police  \\\n",
       "43      2013001145      32013001145              3                 3   \n",
       "137     2013001541      12013001541              1                 1   \n",
       "495     2013004302      32013004302              3                 3   \n",
       "663     2013005728      12013005728              1                 1   \n",
       "693     2013004630      32013004630              3                 3   \n",
       "...            ...              ...            ...               ...   \n",
       "88578   2023080724      32023080724              3                 3   \n",
       "88583   2023085903      32023085903              3                 3   \n",
       "88651   2023094587      12023094587              1                 1   \n",
       "88676   2023093113      32023093113              3                 3   \n",
       "88765   2023091914      32023091914              3                 3   \n",
       "\n",
       "       involved_type involved_type_hebrew  license_acquiring_date  age_group  \\\n",
       "43                 2             נהג נפגע                       0          3   \n",
       "137                2             נהג נפגע                       0          3   \n",
       "495                2             נהג נפגע                       0         99   \n",
       "663                2             נהג נפגע                       0          3   \n",
       "693                2             נהג נפגע                       0         99   \n",
       "...              ...                  ...                     ...        ...   \n",
       "88578              2             נהג נפגע                    2008          8   \n",
       "88583              2             נהג נפגע                    2005          8   \n",
       "88651              2             נהג נפגע                       0          4   \n",
       "88676              2             נהג נפגע                       0          3   \n",
       "88765              1                  נהג                       0          5   \n",
       "\n",
       "      age_group_hebrew  sex  ... vehicle_status  vehicle_status_hebrew  \\\n",
       "43               10-14  1.0  ...            0.0                    NaN   \n",
       "137              10-14  1.0  ...            0.0                    NaN   \n",
       "495            לא ידוע  0.0  ...            0.0                    NaN   \n",
       "663              10-14  1.0  ...            0.0                    NaN   \n",
       "693            לא ידוע  0.0  ...            0.0                    NaN   \n",
       "...                ...  ...  ...            ...                    ...   \n",
       "88578            35-39  1.0  ...            0.0                    NaN   \n",
       "88583            35-39  1.0  ...            0.0                    NaN   \n",
       "88651            15-19  1.0  ...            0.0                    NaN   \n",
       "88676            10-14  1.0  ...            0.0                    NaN   \n",
       "88765            20-24  1.0  ...            0.0                    NaN   \n",
       "\n",
       "       vehicle_attribution vehicle_attribution_hebrew  seats total_weight  \\\n",
       "43                     1.0                     ישראלי   99.0          0.0   \n",
       "137                    1.0                     ישראלי   99.0          0.0   \n",
       "495                    1.0                     ישראלי   99.0          0.0   \n",
       "663                    1.0                     ישראלי   99.0          0.0   \n",
       "693                    1.0                     ישראלי   99.0          0.0   \n",
       "...                    ...                        ...    ...          ...   \n",
       "88578                  1.0                     ישראלי   99.0          0.0   \n",
       "88583                  1.0                     ישראלי   99.0          0.0   \n",
       "88651                  1.0                     ישראלי   99.0          0.0   \n",
       "88676                  1.0                     ישראלי   99.0          0.0   \n",
       "88765                  1.0                     ישראלי   99.0          0.0   \n",
       "\n",
       "       total_weight_hebrew vehicle_damage  vehicle_damage_hebrew  \\\n",
       "43                 לא ידוע            4.0                אין נזק   \n",
       "137                לא ידוע            1.0                     קל   \n",
       "495                לא ידוע            4.0                אין נזק   \n",
       "663                לא ידוע            4.0                אין נזק   \n",
       "693                לא ידוע            4.0                אין נזק   \n",
       "...                    ...            ...                    ...   \n",
       "88578              לא ידוע            4.0                אין נזק   \n",
       "88583              לא ידוע            1.0                     קל   \n",
       "88651              לא ידוע            3.0                    קשה   \n",
       "88676              לא ידוע            4.0                אין נזק   \n",
       "88765              לא ידוע            4.0                אין נזק   \n",
       "\n",
       "            accident_date  \n",
       "43    2013-06-23 00:30:00  \n",
       "137   2013-09-20 01:00:00  \n",
       "495   2013-11-06 06:45:00  \n",
       "663   2013-08-14 07:15:00  \n",
       "693   2013-06-09 07:00:00  \n",
       "...                   ...  \n",
       "88578 2023-01-24 16:00:00  \n",
       "88583 2023-01-01 17:30:00  \n",
       "88651 2023-03-28 17:15:00  \n",
       "88676 2023-01-26 16:45:00  \n",
       "88765 2023-03-17 13:30:00  \n",
       "\n",
       "[1884 rows x 159 columns]"
      ]
     },
     "execution_count": 48,
     "metadata": {},
     "output_type": "execute_result"
    }
   ],
   "source": [
    "# This should be m_v , so this code will be moved up later on.\n",
    "\n",
    "m_v_filtered_by_injury = m_v[m_v.injury_severity.isin(injury_severity)]\n",
    "m_v_filtered_by_injury"
   ]
  },
  {
   "cell_type": "code",
   "execution_count": 51,
   "metadata": {},
   "outputs": [
    {
     "data": {
      "text/html": [
       "<div>\n",
       "<style scoped>\n",
       "    .dataframe tbody tr th:only-of-type {\n",
       "        vertical-align: middle;\n",
       "    }\n",
       "\n",
       "    .dataframe tbody tr th {\n",
       "        vertical-align: top;\n",
       "    }\n",
       "\n",
       "    .dataframe thead th {\n",
       "        text-align: right;\n",
       "    }\n",
       "</style>\n",
       "<table border=\"1\" class=\"dataframe\">\n",
       "  <thead>\n",
       "    <tr style=\"text-align: right;\">\n",
       "      <th>injury_severity</th>\n",
       "      <th>accident_year</th>\n",
       "      <th>0</th>\n",
       "      <th>1</th>\n",
       "      <th>3</th>\n",
       "    </tr>\n",
       "  </thead>\n",
       "  <tbody>\n",
       "    <tr>\n",
       "      <th>0</th>\n",
       "      <td>2013</td>\n",
       "      <td>6.0</td>\n",
       "      <td>2.0</td>\n",
       "      <td>125.0</td>\n",
       "    </tr>\n",
       "    <tr>\n",
       "      <th>1</th>\n",
       "      <td>2014</td>\n",
       "      <td>12.0</td>\n",
       "      <td>0.0</td>\n",
       "      <td>134.0</td>\n",
       "    </tr>\n",
       "    <tr>\n",
       "      <th>2</th>\n",
       "      <td>2015</td>\n",
       "      <td>18.0</td>\n",
       "      <td>1.0</td>\n",
       "      <td>142.0</td>\n",
       "    </tr>\n",
       "    <tr>\n",
       "      <th>3</th>\n",
       "      <td>2016</td>\n",
       "      <td>27.0</td>\n",
       "      <td>1.0</td>\n",
       "      <td>143.0</td>\n",
       "    </tr>\n",
       "    <tr>\n",
       "      <th>4</th>\n",
       "      <td>2017</td>\n",
       "      <td>29.0</td>\n",
       "      <td>0.0</td>\n",
       "      <td>192.0</td>\n",
       "    </tr>\n",
       "    <tr>\n",
       "      <th>5</th>\n",
       "      <td>2018</td>\n",
       "      <td>53.0</td>\n",
       "      <td>3.0</td>\n",
       "      <td>210.0</td>\n",
       "    </tr>\n",
       "    <tr>\n",
       "      <th>6</th>\n",
       "      <td>2019</td>\n",
       "      <td>43.0</td>\n",
       "      <td>2.0</td>\n",
       "      <td>179.0</td>\n",
       "    </tr>\n",
       "    <tr>\n",
       "      <th>7</th>\n",
       "      <td>2020</td>\n",
       "      <td>22.0</td>\n",
       "      <td>2.0</td>\n",
       "      <td>137.0</td>\n",
       "    </tr>\n",
       "    <tr>\n",
       "      <th>8</th>\n",
       "      <td>2021</td>\n",
       "      <td>35.0</td>\n",
       "      <td>0.0</td>\n",
       "      <td>149.0</td>\n",
       "    </tr>\n",
       "    <tr>\n",
       "      <th>9</th>\n",
       "      <td>2022</td>\n",
       "      <td>21.0</td>\n",
       "      <td>0.0</td>\n",
       "      <td>164.0</td>\n",
       "    </tr>\n",
       "    <tr>\n",
       "      <th>10</th>\n",
       "      <td>2023</td>\n",
       "      <td>4.0</td>\n",
       "      <td>0.0</td>\n",
       "      <td>28.0</td>\n",
       "    </tr>\n",
       "  </tbody>\n",
       "</table>\n",
       "</div>"
      ],
      "text/plain": [
       "injury_severity  accident_year     0    1      3\n",
       "0                         2013   6.0  2.0  125.0\n",
       "1                         2014  12.0  0.0  134.0\n",
       "2                         2015  18.0  1.0  142.0\n",
       "3                         2016  27.0  1.0  143.0\n",
       "4                         2017  29.0  0.0  192.0\n",
       "5                         2018  53.0  3.0  210.0\n",
       "6                         2019  43.0  2.0  179.0\n",
       "7                         2020  22.0  2.0  137.0\n",
       "8                         2021  35.0  0.0  149.0\n",
       "9                         2022  21.0  0.0  164.0\n",
       "10                        2023   4.0  0.0   28.0"
      ]
     },
     "execution_count": 51,
     "metadata": {},
     "output_type": "execute_result"
    }
   ],
   "source": [
    "m_v_gb_year_injury = m_v_filtered_by_injury.groupby(['accident_year', 'injury_severity']).size().reset_index(name='count')\n",
    "\n",
    "m_v_gb_year_injury = m_v_gb_year_injury.pivot(index='accident_year', columns='injury_severity', values='count')\n",
    "\n",
    "m_v_gb_year_injury = m_v_gb_year_injury.fillna(0)\n",
    "\n",
    "m_v_gb_year_injury = m_v_gb_year_injury.reset_index()\n",
    "\n",
    "m_v_gb_year_injury"
   ]
  },
  {
   "cell_type": "code",
   "execution_count": 62,
   "metadata": {},
   "outputs": [
    {
     "data": {
      "text/plain": [
       "0         6\n",
       "1         7\n",
       "2        11\n",
       "3        12\n",
       "4         5\n",
       "         ..\n",
       "88794    13\n",
       "88795     7\n",
       "88796     3\n",
       "88797     9\n",
       "88798     9\n",
       "Name: age_group, Length: 88799, dtype: int64"
      ]
     },
     "execution_count": 62,
     "metadata": {},
     "output_type": "execute_result"
    }
   ],
   "source": [
    "imh_jr.age_group"
   ]
  },
  {
   "cell_type": "code",
   "execution_count": 57,
   "metadata": {},
   "outputs": [
    {
     "data": {
      "application/vnd.plotly.v1+json": {
       "config": {
        "plotlyServerURL": "https://plot.ly"
       },
       "data": [
        {
         "alignmentgroup": "True",
         "hovertemplate": "Injury Severity=Serious Injury<br>Accident Year=%{x}<br>Count=%{y}<extra></extra>",
         "legendgroup": "Serious Injury",
         "marker": {
          "color": "#636efa",
          "pattern": {
           "shape": ""
          }
         },
         "name": "Serious Injury",
         "offsetgroup": "Serious Injury",
         "orientation": "v",
         "showlegend": true,
         "textposition": "auto",
         "type": "bar",
         "x": [
          2013,
          2014,
          2015,
          2016,
          2017,
          2018,
          2019,
          2020,
          2021,
          2022,
          2023
         ],
         "xaxis": "x",
         "y": [
          6,
          12,
          18,
          27,
          29,
          53,
          43,
          22,
          35,
          21,
          4
         ],
         "yaxis": "y"
        },
        {
         "alignmentgroup": "True",
         "hovertemplate": "Injury Severity=Killed<br>Accident Year=%{x}<br>Count=%{y}<extra></extra>",
         "legendgroup": "Killed",
         "marker": {
          "color": "#EF553B",
          "pattern": {
           "shape": ""
          }
         },
         "name": "Killed",
         "offsetgroup": "Killed",
         "orientation": "v",
         "showlegend": true,
         "textposition": "auto",
         "type": "bar",
         "x": [
          2013,
          2014,
          2015,
          2016,
          2017,
          2018,
          2019,
          2020,
          2021,
          2022,
          2023
         ],
         "xaxis": "x",
         "y": [
          2,
          0,
          1,
          1,
          0,
          3,
          2,
          2,
          0,
          0,
          0
         ],
         "yaxis": "y"
        },
        {
         "alignmentgroup": "True",
         "hovertemplate": "Injury Severity=Light Injury<br>Accident Year=%{x}<br>Count=%{y}<extra></extra>",
         "legendgroup": "Light Injury",
         "marker": {
          "color": "#00cc96",
          "pattern": {
           "shape": ""
          }
         },
         "name": "Light Injury",
         "offsetgroup": "Light Injury",
         "orientation": "v",
         "showlegend": true,
         "textposition": "auto",
         "type": "bar",
         "x": [
          2013,
          2014,
          2015,
          2016,
          2017,
          2018,
          2019,
          2020,
          2021,
          2022,
          2023
         ],
         "xaxis": "x",
         "y": [
          125,
          134,
          142,
          143,
          192,
          210,
          179,
          137,
          149,
          164,
          28
         ],
         "yaxis": "y"
        }
       ],
       "layout": {
        "barmode": "group",
        "legend": {
         "title": {
          "text": "Injury Severity"
         },
         "tracegroupgap": 0
        },
        "template": {
         "data": {
          "bar": [
           {
            "error_x": {
             "color": "#2a3f5f"
            },
            "error_y": {
             "color": "#2a3f5f"
            },
            "marker": {
             "line": {
              "color": "#E5ECF6",
              "width": 0.5
             },
             "pattern": {
              "fillmode": "overlay",
              "size": 10,
              "solidity": 0.2
             }
            },
            "type": "bar"
           }
          ],
          "barpolar": [
           {
            "marker": {
             "line": {
              "color": "#E5ECF6",
              "width": 0.5
             },
             "pattern": {
              "fillmode": "overlay",
              "size": 10,
              "solidity": 0.2
             }
            },
            "type": "barpolar"
           }
          ],
          "carpet": [
           {
            "aaxis": {
             "endlinecolor": "#2a3f5f",
             "gridcolor": "white",
             "linecolor": "white",
             "minorgridcolor": "white",
             "startlinecolor": "#2a3f5f"
            },
            "baxis": {
             "endlinecolor": "#2a3f5f",
             "gridcolor": "white",
             "linecolor": "white",
             "minorgridcolor": "white",
             "startlinecolor": "#2a3f5f"
            },
            "type": "carpet"
           }
          ],
          "choropleth": [
           {
            "colorbar": {
             "outlinewidth": 0,
             "ticks": ""
            },
            "type": "choropleth"
           }
          ],
          "contour": [
           {
            "colorbar": {
             "outlinewidth": 0,
             "ticks": ""
            },
            "colorscale": [
             [
              0,
              "#0d0887"
             ],
             [
              0.1111111111111111,
              "#46039f"
             ],
             [
              0.2222222222222222,
              "#7201a8"
             ],
             [
              0.3333333333333333,
              "#9c179e"
             ],
             [
              0.4444444444444444,
              "#bd3786"
             ],
             [
              0.5555555555555556,
              "#d8576b"
             ],
             [
              0.6666666666666666,
              "#ed7953"
             ],
             [
              0.7777777777777778,
              "#fb9f3a"
             ],
             [
              0.8888888888888888,
              "#fdca26"
             ],
             [
              1,
              "#f0f921"
             ]
            ],
            "type": "contour"
           }
          ],
          "contourcarpet": [
           {
            "colorbar": {
             "outlinewidth": 0,
             "ticks": ""
            },
            "type": "contourcarpet"
           }
          ],
          "heatmap": [
           {
            "colorbar": {
             "outlinewidth": 0,
             "ticks": ""
            },
            "colorscale": [
             [
              0,
              "#0d0887"
             ],
             [
              0.1111111111111111,
              "#46039f"
             ],
             [
              0.2222222222222222,
              "#7201a8"
             ],
             [
              0.3333333333333333,
              "#9c179e"
             ],
             [
              0.4444444444444444,
              "#bd3786"
             ],
             [
              0.5555555555555556,
              "#d8576b"
             ],
             [
              0.6666666666666666,
              "#ed7953"
             ],
             [
              0.7777777777777778,
              "#fb9f3a"
             ],
             [
              0.8888888888888888,
              "#fdca26"
             ],
             [
              1,
              "#f0f921"
             ]
            ],
            "type": "heatmap"
           }
          ],
          "heatmapgl": [
           {
            "colorbar": {
             "outlinewidth": 0,
             "ticks": ""
            },
            "colorscale": [
             [
              0,
              "#0d0887"
             ],
             [
              0.1111111111111111,
              "#46039f"
             ],
             [
              0.2222222222222222,
              "#7201a8"
             ],
             [
              0.3333333333333333,
              "#9c179e"
             ],
             [
              0.4444444444444444,
              "#bd3786"
             ],
             [
              0.5555555555555556,
              "#d8576b"
             ],
             [
              0.6666666666666666,
              "#ed7953"
             ],
             [
              0.7777777777777778,
              "#fb9f3a"
             ],
             [
              0.8888888888888888,
              "#fdca26"
             ],
             [
              1,
              "#f0f921"
             ]
            ],
            "type": "heatmapgl"
           }
          ],
          "histogram": [
           {
            "marker": {
             "pattern": {
              "fillmode": "overlay",
              "size": 10,
              "solidity": 0.2
             }
            },
            "type": "histogram"
           }
          ],
          "histogram2d": [
           {
            "colorbar": {
             "outlinewidth": 0,
             "ticks": ""
            },
            "colorscale": [
             [
              0,
              "#0d0887"
             ],
             [
              0.1111111111111111,
              "#46039f"
             ],
             [
              0.2222222222222222,
              "#7201a8"
             ],
             [
              0.3333333333333333,
              "#9c179e"
             ],
             [
              0.4444444444444444,
              "#bd3786"
             ],
             [
              0.5555555555555556,
              "#d8576b"
             ],
             [
              0.6666666666666666,
              "#ed7953"
             ],
             [
              0.7777777777777778,
              "#fb9f3a"
             ],
             [
              0.8888888888888888,
              "#fdca26"
             ],
             [
              1,
              "#f0f921"
             ]
            ],
            "type": "histogram2d"
           }
          ],
          "histogram2dcontour": [
           {
            "colorbar": {
             "outlinewidth": 0,
             "ticks": ""
            },
            "colorscale": [
             [
              0,
              "#0d0887"
             ],
             [
              0.1111111111111111,
              "#46039f"
             ],
             [
              0.2222222222222222,
              "#7201a8"
             ],
             [
              0.3333333333333333,
              "#9c179e"
             ],
             [
              0.4444444444444444,
              "#bd3786"
             ],
             [
              0.5555555555555556,
              "#d8576b"
             ],
             [
              0.6666666666666666,
              "#ed7953"
             ],
             [
              0.7777777777777778,
              "#fb9f3a"
             ],
             [
              0.8888888888888888,
              "#fdca26"
             ],
             [
              1,
              "#f0f921"
             ]
            ],
            "type": "histogram2dcontour"
           }
          ],
          "mesh3d": [
           {
            "colorbar": {
             "outlinewidth": 0,
             "ticks": ""
            },
            "type": "mesh3d"
           }
          ],
          "parcoords": [
           {
            "line": {
             "colorbar": {
              "outlinewidth": 0,
              "ticks": ""
             }
            },
            "type": "parcoords"
           }
          ],
          "pie": [
           {
            "automargin": true,
            "type": "pie"
           }
          ],
          "scatter": [
           {
            "fillpattern": {
             "fillmode": "overlay",
             "size": 10,
             "solidity": 0.2
            },
            "type": "scatter"
           }
          ],
          "scatter3d": [
           {
            "line": {
             "colorbar": {
              "outlinewidth": 0,
              "ticks": ""
             }
            },
            "marker": {
             "colorbar": {
              "outlinewidth": 0,
              "ticks": ""
             }
            },
            "type": "scatter3d"
           }
          ],
          "scattercarpet": [
           {
            "marker": {
             "colorbar": {
              "outlinewidth": 0,
              "ticks": ""
             }
            },
            "type": "scattercarpet"
           }
          ],
          "scattergeo": [
           {
            "marker": {
             "colorbar": {
              "outlinewidth": 0,
              "ticks": ""
             }
            },
            "type": "scattergeo"
           }
          ],
          "scattergl": [
           {
            "marker": {
             "colorbar": {
              "outlinewidth": 0,
              "ticks": ""
             }
            },
            "type": "scattergl"
           }
          ],
          "scattermapbox": [
           {
            "marker": {
             "colorbar": {
              "outlinewidth": 0,
              "ticks": ""
             }
            },
            "type": "scattermapbox"
           }
          ],
          "scatterpolar": [
           {
            "marker": {
             "colorbar": {
              "outlinewidth": 0,
              "ticks": ""
             }
            },
            "type": "scatterpolar"
           }
          ],
          "scatterpolargl": [
           {
            "marker": {
             "colorbar": {
              "outlinewidth": 0,
              "ticks": ""
             }
            },
            "type": "scatterpolargl"
           }
          ],
          "scatterternary": [
           {
            "marker": {
             "colorbar": {
              "outlinewidth": 0,
              "ticks": ""
             }
            },
            "type": "scatterternary"
           }
          ],
          "surface": [
           {
            "colorbar": {
             "outlinewidth": 0,
             "ticks": ""
            },
            "colorscale": [
             [
              0,
              "#0d0887"
             ],
             [
              0.1111111111111111,
              "#46039f"
             ],
             [
              0.2222222222222222,
              "#7201a8"
             ],
             [
              0.3333333333333333,
              "#9c179e"
             ],
             [
              0.4444444444444444,
              "#bd3786"
             ],
             [
              0.5555555555555556,
              "#d8576b"
             ],
             [
              0.6666666666666666,
              "#ed7953"
             ],
             [
              0.7777777777777778,
              "#fb9f3a"
             ],
             [
              0.8888888888888888,
              "#fdca26"
             ],
             [
              1,
              "#f0f921"
             ]
            ],
            "type": "surface"
           }
          ],
          "table": [
           {
            "cells": {
             "fill": {
              "color": "#EBF0F8"
             },
             "line": {
              "color": "white"
             }
            },
            "header": {
             "fill": {
              "color": "#C8D4E3"
             },
             "line": {
              "color": "white"
             }
            },
            "type": "table"
           }
          ]
         },
         "layout": {
          "annotationdefaults": {
           "arrowcolor": "#2a3f5f",
           "arrowhead": 0,
           "arrowwidth": 1
          },
          "autotypenumbers": "strict",
          "coloraxis": {
           "colorbar": {
            "outlinewidth": 0,
            "ticks": ""
           }
          },
          "colorscale": {
           "diverging": [
            [
             0,
             "#8e0152"
            ],
            [
             0.1,
             "#c51b7d"
            ],
            [
             0.2,
             "#de77ae"
            ],
            [
             0.3,
             "#f1b6da"
            ],
            [
             0.4,
             "#fde0ef"
            ],
            [
             0.5,
             "#f7f7f7"
            ],
            [
             0.6,
             "#e6f5d0"
            ],
            [
             0.7,
             "#b8e186"
            ],
            [
             0.8,
             "#7fbc41"
            ],
            [
             0.9,
             "#4d9221"
            ],
            [
             1,
             "#276419"
            ]
           ],
           "sequential": [
            [
             0,
             "#0d0887"
            ],
            [
             0.1111111111111111,
             "#46039f"
            ],
            [
             0.2222222222222222,
             "#7201a8"
            ],
            [
             0.3333333333333333,
             "#9c179e"
            ],
            [
             0.4444444444444444,
             "#bd3786"
            ],
            [
             0.5555555555555556,
             "#d8576b"
            ],
            [
             0.6666666666666666,
             "#ed7953"
            ],
            [
             0.7777777777777778,
             "#fb9f3a"
            ],
            [
             0.8888888888888888,
             "#fdca26"
            ],
            [
             1,
             "#f0f921"
            ]
           ],
           "sequentialminus": [
            [
             0,
             "#0d0887"
            ],
            [
             0.1111111111111111,
             "#46039f"
            ],
            [
             0.2222222222222222,
             "#7201a8"
            ],
            [
             0.3333333333333333,
             "#9c179e"
            ],
            [
             0.4444444444444444,
             "#bd3786"
            ],
            [
             0.5555555555555556,
             "#d8576b"
            ],
            [
             0.6666666666666666,
             "#ed7953"
            ],
            [
             0.7777777777777778,
             "#fb9f3a"
            ],
            [
             0.8888888888888888,
             "#fdca26"
            ],
            [
             1,
             "#f0f921"
            ]
           ]
          },
          "colorway": [
           "#636efa",
           "#EF553B",
           "#00cc96",
           "#ab63fa",
           "#FFA15A",
           "#19d3f3",
           "#FF6692",
           "#B6E880",
           "#FF97FF",
           "#FECB52"
          ],
          "font": {
           "color": "#2a3f5f"
          },
          "geo": {
           "bgcolor": "white",
           "lakecolor": "white",
           "landcolor": "#E5ECF6",
           "showlakes": true,
           "showland": true,
           "subunitcolor": "white"
          },
          "hoverlabel": {
           "align": "left"
          },
          "hovermode": "closest",
          "mapbox": {
           "style": "light"
          },
          "paper_bgcolor": "white",
          "plot_bgcolor": "#E5ECF6",
          "polar": {
           "angularaxis": {
            "gridcolor": "white",
            "linecolor": "white",
            "ticks": ""
           },
           "bgcolor": "#E5ECF6",
           "radialaxis": {
            "gridcolor": "white",
            "linecolor": "white",
            "ticks": ""
           }
          },
          "scene": {
           "xaxis": {
            "backgroundcolor": "#E5ECF6",
            "gridcolor": "white",
            "gridwidth": 2,
            "linecolor": "white",
            "showbackground": true,
            "ticks": "",
            "zerolinecolor": "white"
           },
           "yaxis": {
            "backgroundcolor": "#E5ECF6",
            "gridcolor": "white",
            "gridwidth": 2,
            "linecolor": "white",
            "showbackground": true,
            "ticks": "",
            "zerolinecolor": "white"
           },
           "zaxis": {
            "backgroundcolor": "#E5ECF6",
            "gridcolor": "white",
            "gridwidth": 2,
            "linecolor": "white",
            "showbackground": true,
            "ticks": "",
            "zerolinecolor": "white"
           }
          },
          "shapedefaults": {
           "line": {
            "color": "#2a3f5f"
           }
          },
          "ternary": {
           "aaxis": {
            "gridcolor": "white",
            "linecolor": "white",
            "ticks": ""
           },
           "baxis": {
            "gridcolor": "white",
            "linecolor": "white",
            "ticks": ""
           },
           "bgcolor": "#E5ECF6",
           "caxis": {
            "gridcolor": "white",
            "linecolor": "white",
            "ticks": ""
           }
          },
          "title": {
           "x": 0.05
          },
          "xaxis": {
           "automargin": true,
           "gridcolor": "white",
           "linecolor": "white",
           "ticks": "",
           "title": {
            "standoff": 15
           },
           "zerolinecolor": "white",
           "zerolinewidth": 2
          },
          "yaxis": {
           "automargin": true,
           "gridcolor": "white",
           "linecolor": "white",
           "ticks": "",
           "title": {
            "standoff": 15
           },
           "zerolinecolor": "white",
           "zerolinewidth": 2
          }
         }
        },
        "title": {
         "text": "Accidents for Micro by Severity and Year"
        },
        "xaxis": {
         "anchor": "y",
         "categoryorder": "total descending",
         "domain": [
          0,
          1
         ],
         "title": {
          "text": "Accident Year"
         }
        },
        "yaxis": {
         "anchor": "x",
         "domain": [
          0,
          1
         ],
         "title": {
          "text": "Count"
         }
        }
       }
      }
     },
     "metadata": {},
     "output_type": "display_data"
    }
   ],
   "source": [
    "# preparing to plot\n",
    "\n",
    "m_v_gb_year_injury_long = m_v_gb_year_injury.melt(id_vars='accident_year', var_name='injury_severity', value_name='count')\n",
    "\n",
    "# Map your vehicle codes to vehicle names for the legend\n",
    "injury_mapping = {0: 'Serious Injury', 1: 'Killed', 3: 'Light Injury'}\n",
    "m_v_gb_year_injury_long['injury_severity'] = m_v_gb_year_injury_long['injury_severity'].map(injury_mapping)\n",
    "\n",
    "# Create the bar chart using plotly.express\n",
    "fig = px.bar(\n",
    "    m_v_gb_year_injury_long,\n",
    "    x='accident_year',\n",
    "    y='count',\n",
    "    color='injury_severity',  # Differentiates the bars by vehicle type\n",
    "    barmode='group',       # Groups the bar per accident_year\n",
    "    title='Accidents for Micro by Severity and Year',\n",
    "    labels={'count': 'Count', 'accident_year': 'Accident Year', 'injury_severity': 'Injury Severity'}\n",
    ")\n",
    "\n",
    "# Update the layout if you need to customize the appearance\n",
    "fig.update_layout(\n",
    "    xaxis_title='Accident Year',\n",
    "    yaxis_title='Count',\n",
    "    legend_title='Injury Severity',\n",
    "    xaxis={'categoryorder':'total descending'}\n",
    ")\n",
    "\n",
    "# Show the plot\n",
    "fig.show()"
   ]
  },
  {
   "cell_type": "code",
   "execution_count": 59,
   "metadata": {},
   "outputs": [
    {
     "data": {
      "application/vnd.plotly.v1+json": {
       "config": {
        "plotlyServerURL": "https://plot.ly"
       },
       "data": [
        {
         "hovertemplate": "Injury Severity=Serious Injury<br>Accident Year=%{x}<br>Count=%{y}<extra></extra>",
         "legendgroup": "Serious Injury",
         "line": {
          "color": "#636efa",
          "dash": "solid"
         },
         "marker": {
          "symbol": "circle"
         },
         "mode": "lines",
         "name": "Serious Injury",
         "orientation": "v",
         "showlegend": true,
         "type": "scatter",
         "x": [
          2013,
          2014,
          2015,
          2016,
          2017,
          2018,
          2019,
          2020,
          2021,
          2022,
          2023
         ],
         "xaxis": "x",
         "y": [
          6,
          12,
          18,
          27,
          29,
          53,
          43,
          22,
          35,
          21,
          4
         ],
         "yaxis": "y"
        },
        {
         "hovertemplate": "Injury Severity=Killed<br>Accident Year=%{x}<br>Count=%{y}<extra></extra>",
         "legendgroup": "Killed",
         "line": {
          "color": "#EF553B",
          "dash": "solid"
         },
         "marker": {
          "symbol": "circle"
         },
         "mode": "lines",
         "name": "Killed",
         "orientation": "v",
         "showlegend": true,
         "type": "scatter",
         "x": [
          2013,
          2014,
          2015,
          2016,
          2017,
          2018,
          2019,
          2020,
          2021,
          2022,
          2023
         ],
         "xaxis": "x",
         "y": [
          2,
          0,
          1,
          1,
          0,
          3,
          2,
          2,
          0,
          0,
          0
         ],
         "yaxis": "y"
        },
        {
         "hovertemplate": "Injury Severity=Light Injury<br>Accident Year=%{x}<br>Count=%{y}<extra></extra>",
         "legendgroup": "Light Injury",
         "line": {
          "color": "#00cc96",
          "dash": "solid"
         },
         "marker": {
          "symbol": "circle"
         },
         "mode": "lines",
         "name": "Light Injury",
         "orientation": "v",
         "showlegend": true,
         "type": "scatter",
         "x": [
          2013,
          2014,
          2015,
          2016,
          2017,
          2018,
          2019,
          2020,
          2021,
          2022,
          2023
         ],
         "xaxis": "x",
         "y": [
          125,
          134,
          142,
          143,
          192,
          210,
          179,
          137,
          149,
          164,
          28
         ],
         "yaxis": "y"
        }
       ],
       "layout": {
        "legend": {
         "title": {
          "text": "Injury Severity"
         },
         "tracegroupgap": 0
        },
        "template": {
         "data": {
          "bar": [
           {
            "error_x": {
             "color": "#2a3f5f"
            },
            "error_y": {
             "color": "#2a3f5f"
            },
            "marker": {
             "line": {
              "color": "#E5ECF6",
              "width": 0.5
             },
             "pattern": {
              "fillmode": "overlay",
              "size": 10,
              "solidity": 0.2
             }
            },
            "type": "bar"
           }
          ],
          "barpolar": [
           {
            "marker": {
             "line": {
              "color": "#E5ECF6",
              "width": 0.5
             },
             "pattern": {
              "fillmode": "overlay",
              "size": 10,
              "solidity": 0.2
             }
            },
            "type": "barpolar"
           }
          ],
          "carpet": [
           {
            "aaxis": {
             "endlinecolor": "#2a3f5f",
             "gridcolor": "white",
             "linecolor": "white",
             "minorgridcolor": "white",
             "startlinecolor": "#2a3f5f"
            },
            "baxis": {
             "endlinecolor": "#2a3f5f",
             "gridcolor": "white",
             "linecolor": "white",
             "minorgridcolor": "white",
             "startlinecolor": "#2a3f5f"
            },
            "type": "carpet"
           }
          ],
          "choropleth": [
           {
            "colorbar": {
             "outlinewidth": 0,
             "ticks": ""
            },
            "type": "choropleth"
           }
          ],
          "contour": [
           {
            "colorbar": {
             "outlinewidth": 0,
             "ticks": ""
            },
            "colorscale": [
             [
              0,
              "#0d0887"
             ],
             [
              0.1111111111111111,
              "#46039f"
             ],
             [
              0.2222222222222222,
              "#7201a8"
             ],
             [
              0.3333333333333333,
              "#9c179e"
             ],
             [
              0.4444444444444444,
              "#bd3786"
             ],
             [
              0.5555555555555556,
              "#d8576b"
             ],
             [
              0.6666666666666666,
              "#ed7953"
             ],
             [
              0.7777777777777778,
              "#fb9f3a"
             ],
             [
              0.8888888888888888,
              "#fdca26"
             ],
             [
              1,
              "#f0f921"
             ]
            ],
            "type": "contour"
           }
          ],
          "contourcarpet": [
           {
            "colorbar": {
             "outlinewidth": 0,
             "ticks": ""
            },
            "type": "contourcarpet"
           }
          ],
          "heatmap": [
           {
            "colorbar": {
             "outlinewidth": 0,
             "ticks": ""
            },
            "colorscale": [
             [
              0,
              "#0d0887"
             ],
             [
              0.1111111111111111,
              "#46039f"
             ],
             [
              0.2222222222222222,
              "#7201a8"
             ],
             [
              0.3333333333333333,
              "#9c179e"
             ],
             [
              0.4444444444444444,
              "#bd3786"
             ],
             [
              0.5555555555555556,
              "#d8576b"
             ],
             [
              0.6666666666666666,
              "#ed7953"
             ],
             [
              0.7777777777777778,
              "#fb9f3a"
             ],
             [
              0.8888888888888888,
              "#fdca26"
             ],
             [
              1,
              "#f0f921"
             ]
            ],
            "type": "heatmap"
           }
          ],
          "heatmapgl": [
           {
            "colorbar": {
             "outlinewidth": 0,
             "ticks": ""
            },
            "colorscale": [
             [
              0,
              "#0d0887"
             ],
             [
              0.1111111111111111,
              "#46039f"
             ],
             [
              0.2222222222222222,
              "#7201a8"
             ],
             [
              0.3333333333333333,
              "#9c179e"
             ],
             [
              0.4444444444444444,
              "#bd3786"
             ],
             [
              0.5555555555555556,
              "#d8576b"
             ],
             [
              0.6666666666666666,
              "#ed7953"
             ],
             [
              0.7777777777777778,
              "#fb9f3a"
             ],
             [
              0.8888888888888888,
              "#fdca26"
             ],
             [
              1,
              "#f0f921"
             ]
            ],
            "type": "heatmapgl"
           }
          ],
          "histogram": [
           {
            "marker": {
             "pattern": {
              "fillmode": "overlay",
              "size": 10,
              "solidity": 0.2
             }
            },
            "type": "histogram"
           }
          ],
          "histogram2d": [
           {
            "colorbar": {
             "outlinewidth": 0,
             "ticks": ""
            },
            "colorscale": [
             [
              0,
              "#0d0887"
             ],
             [
              0.1111111111111111,
              "#46039f"
             ],
             [
              0.2222222222222222,
              "#7201a8"
             ],
             [
              0.3333333333333333,
              "#9c179e"
             ],
             [
              0.4444444444444444,
              "#bd3786"
             ],
             [
              0.5555555555555556,
              "#d8576b"
             ],
             [
              0.6666666666666666,
              "#ed7953"
             ],
             [
              0.7777777777777778,
              "#fb9f3a"
             ],
             [
              0.8888888888888888,
              "#fdca26"
             ],
             [
              1,
              "#f0f921"
             ]
            ],
            "type": "histogram2d"
           }
          ],
          "histogram2dcontour": [
           {
            "colorbar": {
             "outlinewidth": 0,
             "ticks": ""
            },
            "colorscale": [
             [
              0,
              "#0d0887"
             ],
             [
              0.1111111111111111,
              "#46039f"
             ],
             [
              0.2222222222222222,
              "#7201a8"
             ],
             [
              0.3333333333333333,
              "#9c179e"
             ],
             [
              0.4444444444444444,
              "#bd3786"
             ],
             [
              0.5555555555555556,
              "#d8576b"
             ],
             [
              0.6666666666666666,
              "#ed7953"
             ],
             [
              0.7777777777777778,
              "#fb9f3a"
             ],
             [
              0.8888888888888888,
              "#fdca26"
             ],
             [
              1,
              "#f0f921"
             ]
            ],
            "type": "histogram2dcontour"
           }
          ],
          "mesh3d": [
           {
            "colorbar": {
             "outlinewidth": 0,
             "ticks": ""
            },
            "type": "mesh3d"
           }
          ],
          "parcoords": [
           {
            "line": {
             "colorbar": {
              "outlinewidth": 0,
              "ticks": ""
             }
            },
            "type": "parcoords"
           }
          ],
          "pie": [
           {
            "automargin": true,
            "type": "pie"
           }
          ],
          "scatter": [
           {
            "fillpattern": {
             "fillmode": "overlay",
             "size": 10,
             "solidity": 0.2
            },
            "type": "scatter"
           }
          ],
          "scatter3d": [
           {
            "line": {
             "colorbar": {
              "outlinewidth": 0,
              "ticks": ""
             }
            },
            "marker": {
             "colorbar": {
              "outlinewidth": 0,
              "ticks": ""
             }
            },
            "type": "scatter3d"
           }
          ],
          "scattercarpet": [
           {
            "marker": {
             "colorbar": {
              "outlinewidth": 0,
              "ticks": ""
             }
            },
            "type": "scattercarpet"
           }
          ],
          "scattergeo": [
           {
            "marker": {
             "colorbar": {
              "outlinewidth": 0,
              "ticks": ""
             }
            },
            "type": "scattergeo"
           }
          ],
          "scattergl": [
           {
            "marker": {
             "colorbar": {
              "outlinewidth": 0,
              "ticks": ""
             }
            },
            "type": "scattergl"
           }
          ],
          "scattermapbox": [
           {
            "marker": {
             "colorbar": {
              "outlinewidth": 0,
              "ticks": ""
             }
            },
            "type": "scattermapbox"
           }
          ],
          "scatterpolar": [
           {
            "marker": {
             "colorbar": {
              "outlinewidth": 0,
              "ticks": ""
             }
            },
            "type": "scatterpolar"
           }
          ],
          "scatterpolargl": [
           {
            "marker": {
             "colorbar": {
              "outlinewidth": 0,
              "ticks": ""
             }
            },
            "type": "scatterpolargl"
           }
          ],
          "scatterternary": [
           {
            "marker": {
             "colorbar": {
              "outlinewidth": 0,
              "ticks": ""
             }
            },
            "type": "scatterternary"
           }
          ],
          "surface": [
           {
            "colorbar": {
             "outlinewidth": 0,
             "ticks": ""
            },
            "colorscale": [
             [
              0,
              "#0d0887"
             ],
             [
              0.1111111111111111,
              "#46039f"
             ],
             [
              0.2222222222222222,
              "#7201a8"
             ],
             [
              0.3333333333333333,
              "#9c179e"
             ],
             [
              0.4444444444444444,
              "#bd3786"
             ],
             [
              0.5555555555555556,
              "#d8576b"
             ],
             [
              0.6666666666666666,
              "#ed7953"
             ],
             [
              0.7777777777777778,
              "#fb9f3a"
             ],
             [
              0.8888888888888888,
              "#fdca26"
             ],
             [
              1,
              "#f0f921"
             ]
            ],
            "type": "surface"
           }
          ],
          "table": [
           {
            "cells": {
             "fill": {
              "color": "#EBF0F8"
             },
             "line": {
              "color": "white"
             }
            },
            "header": {
             "fill": {
              "color": "#C8D4E3"
             },
             "line": {
              "color": "white"
             }
            },
            "type": "table"
           }
          ]
         },
         "layout": {
          "annotationdefaults": {
           "arrowcolor": "#2a3f5f",
           "arrowhead": 0,
           "arrowwidth": 1
          },
          "autotypenumbers": "strict",
          "coloraxis": {
           "colorbar": {
            "outlinewidth": 0,
            "ticks": ""
           }
          },
          "colorscale": {
           "diverging": [
            [
             0,
             "#8e0152"
            ],
            [
             0.1,
             "#c51b7d"
            ],
            [
             0.2,
             "#de77ae"
            ],
            [
             0.3,
             "#f1b6da"
            ],
            [
             0.4,
             "#fde0ef"
            ],
            [
             0.5,
             "#f7f7f7"
            ],
            [
             0.6,
             "#e6f5d0"
            ],
            [
             0.7,
             "#b8e186"
            ],
            [
             0.8,
             "#7fbc41"
            ],
            [
             0.9,
             "#4d9221"
            ],
            [
             1,
             "#276419"
            ]
           ],
           "sequential": [
            [
             0,
             "#0d0887"
            ],
            [
             0.1111111111111111,
             "#46039f"
            ],
            [
             0.2222222222222222,
             "#7201a8"
            ],
            [
             0.3333333333333333,
             "#9c179e"
            ],
            [
             0.4444444444444444,
             "#bd3786"
            ],
            [
             0.5555555555555556,
             "#d8576b"
            ],
            [
             0.6666666666666666,
             "#ed7953"
            ],
            [
             0.7777777777777778,
             "#fb9f3a"
            ],
            [
             0.8888888888888888,
             "#fdca26"
            ],
            [
             1,
             "#f0f921"
            ]
           ],
           "sequentialminus": [
            [
             0,
             "#0d0887"
            ],
            [
             0.1111111111111111,
             "#46039f"
            ],
            [
             0.2222222222222222,
             "#7201a8"
            ],
            [
             0.3333333333333333,
             "#9c179e"
            ],
            [
             0.4444444444444444,
             "#bd3786"
            ],
            [
             0.5555555555555556,
             "#d8576b"
            ],
            [
             0.6666666666666666,
             "#ed7953"
            ],
            [
             0.7777777777777778,
             "#fb9f3a"
            ],
            [
             0.8888888888888888,
             "#fdca26"
            ],
            [
             1,
             "#f0f921"
            ]
           ]
          },
          "colorway": [
           "#636efa",
           "#EF553B",
           "#00cc96",
           "#ab63fa",
           "#FFA15A",
           "#19d3f3",
           "#FF6692",
           "#B6E880",
           "#FF97FF",
           "#FECB52"
          ],
          "font": {
           "color": "#2a3f5f"
          },
          "geo": {
           "bgcolor": "white",
           "lakecolor": "white",
           "landcolor": "#E5ECF6",
           "showlakes": true,
           "showland": true,
           "subunitcolor": "white"
          },
          "hoverlabel": {
           "align": "left"
          },
          "hovermode": "closest",
          "mapbox": {
           "style": "light"
          },
          "paper_bgcolor": "white",
          "plot_bgcolor": "#E5ECF6",
          "polar": {
           "angularaxis": {
            "gridcolor": "white",
            "linecolor": "white",
            "ticks": ""
           },
           "bgcolor": "#E5ECF6",
           "radialaxis": {
            "gridcolor": "white",
            "linecolor": "white",
            "ticks": ""
           }
          },
          "scene": {
           "xaxis": {
            "backgroundcolor": "#E5ECF6",
            "gridcolor": "white",
            "gridwidth": 2,
            "linecolor": "white",
            "showbackground": true,
            "ticks": "",
            "zerolinecolor": "white"
           },
           "yaxis": {
            "backgroundcolor": "#E5ECF6",
            "gridcolor": "white",
            "gridwidth": 2,
            "linecolor": "white",
            "showbackground": true,
            "ticks": "",
            "zerolinecolor": "white"
           },
           "zaxis": {
            "backgroundcolor": "#E5ECF6",
            "gridcolor": "white",
            "gridwidth": 2,
            "linecolor": "white",
            "showbackground": true,
            "ticks": "",
            "zerolinecolor": "white"
           }
          },
          "shapedefaults": {
           "line": {
            "color": "#2a3f5f"
           }
          },
          "ternary": {
           "aaxis": {
            "gridcolor": "white",
            "linecolor": "white",
            "ticks": ""
           },
           "baxis": {
            "gridcolor": "white",
            "linecolor": "white",
            "ticks": ""
           },
           "bgcolor": "#E5ECF6",
           "caxis": {
            "gridcolor": "white",
            "linecolor": "white",
            "ticks": ""
           }
          },
          "title": {
           "x": 0.05
          },
          "xaxis": {
           "automargin": true,
           "gridcolor": "white",
           "linecolor": "white",
           "ticks": "",
           "title": {
            "standoff": 15
           },
           "zerolinecolor": "white",
           "zerolinewidth": 2
          },
          "yaxis": {
           "automargin": true,
           "gridcolor": "white",
           "linecolor": "white",
           "ticks": "",
           "title": {
            "standoff": 15
           },
           "zerolinecolor": "white",
           "zerolinewidth": 2
          }
         }
        },
        "title": {
         "text": "Accidents by Micro Vehicle Type and Year"
        },
        "xaxis": {
         "anchor": "y",
         "categoryorder": "total descending",
         "domain": [
          0,
          1
         ],
         "title": {
          "text": "Accident Year"
         }
        },
        "yaxis": {
         "anchor": "x",
         "domain": [
          0,
          1
         ],
         "title": {
          "text": "Count"
         }
        }
       }
      }
     },
     "metadata": {},
     "output_type": "display_data"
    }
   ],
   "source": [
    "fig = px.line(\n",
    "    m_v_gb_year_injury_long,\n",
    "    x='accident_year',\n",
    "    y='count',\n",
    "    color='injury_severity',  # Differentiates the lines by vehicle type\n",
    "    title='Accidents by Micro Vehicle Type and Year',\n",
    "    labels={'count': 'Count', 'accident_year': 'Accident Year', 'injury_severity': 'Injury Severity'}\n",
    ")\n",
    "\n",
    "# Update the layout if you need to customize the appearance\n",
    "fig.update_layout(\n",
    "    xaxis_title='Accident Year',\n",
    "    yaxis_title='Count',\n",
    "    legend_title='Injury Severity',\n",
    "    xaxis={'categoryorder':'total descending'}\n",
    ")\n",
    "\n",
    "# Show the plot\n",
    "fig.show()"
   ]
  },
  {
   "cell_type": "code",
   "execution_count": null,
   "metadata": {},
   "outputs": [],
   "source": [
    "# Code to show severity by year micro vehicle and severity\n",
    "\n",
    "\n",
    "# year_vehicle_gp = imh_jr.groupby(['accident_year', 'involve_vehicle_type']).size().reset_index(name='count')\n",
    "\n",
    "# micro_injury = year_vehicle_gp[year_vehicle_gp['involve_vehicle_type'].isin(micro_vehicle)]\n",
    "\n",
    "# # Pivot the DataFrame to have accident years as the index and vehicle types as columns.\n",
    "# pivot_df = micro_grouped.pivot(index='accident_year', columns='involve_vehicle_type', values='count')\n",
    "\n",
    "# # Replace NaN values with 0 if any, since not all years may have all vehicle types.\n",
    "# pivot_df = pivot_df.fillna(0)\n",
    "\n",
    "\n",
    "# pivot_df = pivot_df.reset_index()\n"
   ]
  }
 ],
 "metadata": {
  "kernelspec": {
   "display_name": "base",
   "language": "python",
   "name": "python3"
  },
  "language_info": {
   "codemirror_mode": {
    "name": "ipython",
    "version": 3
   },
   "file_extension": ".py",
   "mimetype": "text/x-python",
   "name": "python",
   "nbconvert_exporter": "python",
   "pygments_lexer": "ipython3",
   "version": "3.9.17"
  }
 },
 "nbformat": 4,
 "nbformat_minor": 2
}
